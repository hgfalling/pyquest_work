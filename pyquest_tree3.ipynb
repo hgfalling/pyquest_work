{
 "metadata": {
  "name": "pyquest_tree3"
 },
 "nbformat": 3,
 "nbformat_minor": 0,
 "worksheets": [
  {
   "cells": [
    {
     "cell_type": "code",
     "collapsed": false,
     "input": [
      "from imports import *\n",
      "import sklearn.cluster as skcl\n",
      "import scipy.spatial.distance as pdist\n",
      "import sklearn.neighbors as sknn"
     ],
     "language": "python",
     "metadata": {},
     "outputs": [],
     "prompt_number": 1
    },
    {
     "cell_type": "code",
     "collapsed": false,
     "input": [
      "def cluster_median(cluster):\n",
      "    return cluster[np.argmin(np.sum(scipy.spatial.distance.squareform(pdist.pdist(cluster))**2,axis=0)),:]\n",
      "\n",
      "def row_diff_dist(row_vecs,row_vals,diff_time=1):\n",
      "    return row_vecs.dot(np.diag(row_vals)**diff_time)"
     ],
     "language": "python",
     "metadata": {},
     "outputs": [],
     "prompt_number": 2
    },
    {
     "cell_type": "code",
     "collapsed": false,
     "input": [
      "%run load_data.py de"
     ],
     "language": "python",
     "metadata": {},
     "outputs": [],
     "prompt_number": 3
    },
    {
     "cell_type": "code",
     "collapsed": false,
     "input": [
      "row_affinity = affinity.mutual_cosine_similarity(data.T,threshold=0.1)\n",
      "row_vecs,row_vals = markov.markov_eigs(row_affinity,30)"
     ],
     "language": "python",
     "metadata": {},
     "outputs": [],
     "prompt_number": 4
    },
    {
     "cell_type": "code",
     "collapsed": false,
     "input": [
      "row_data = row_diff_dist(row_vecs,row_vals,1)\n",
      "knng = sknn.kneighbors_graph(row_data,n_neighbors=20)"
     ],
     "language": "python",
     "metadata": {},
     "outputs": [],
     "prompt_number": 5
    },
    {
     "cell_type": "code",
     "collapsed": false,
     "input": [
      "ward = skcl.Ward(n_clusters=3,connectivity=knng.T+knng).fit(row_data)"
     ],
     "language": "python",
     "metadata": {},
     "outputs": [],
     "prompt_number": 24
    },
    {
     "cell_type": "code",
     "collapsed": false,
     "input": [
      "labels = ward.labels_"
     ],
     "language": "python",
     "metadata": {},
     "outputs": [],
     "prompt_number": 25
    },
    {
     "cell_type": "code",
     "collapsed": false,
     "input": [
      "orphans = [tree.ClusterTreeNode([i]) for i in range(data.shape[0])]\n",
      "parents = [tree.ClusterTreeNode([]) for i in range(len(np.unique(clusters)))]\n",
      "for (idx,orphan) in enumerate(orphans):\n",
      "    orphan.assign_to_parent(parents[clusters[idx]])"
     ],
     "language": "python",
     "metadata": {},
     "outputs": [],
     "prompt_number": 223
    },
    {
     "cell_type": "code",
     "collapsed": false,
     "input": [
      "while 1:\n",
      "    old_clusters = len(np.unique(clusters))\n",
      "    assert old_clusters == max(clusters) + 1\n",
      "    print \"old clusters: {}\".format(old_clusters)\n",
      "    row_data = row_diff_dist(row_vecs,row_vals,2)\n",
      "    index = old_clusters\n",
      "    for i in xrange(old_clusters):\n",
      "        med_data = cluster_median(row_data[clusters==i,:])\n",
      "        row_data[i,:] = med_data\n",
      "        row_data[index:index+np.sum(clusters==i)-2,:] = med_data\n",
      "        index += np.sum(clusters==i)-1\n",
      "    new_clusters = int(old_clusters/2.5)\n",
      "    print \"new clusters: {}\".format(new_clusters)\n",
      "    \n",
      "    if new_clusters < 2:\n",
      "        break\n",
      "    \n",
      "    kmeans = skcl.KMeans(n_clusters=new_clusters,max_iter=1000,n_init=30)\n",
      "    clusters = kmeans.fit_predict(row_data)\n",
      "    print clusters\n",
      "    print np.bincount(clusters)\n",
      "\n",
      "    orphans = list(parents)\n",
      "    parents = [tree.ClusterTreeNode([]) for i in range(new_clusters)]\n",
      "    for (idx,orphan) in enumerate(orphans):\n",
      "        orphan.assign_to_parent(parents[clusters[idx]])\n",
      "    elm = []\n",
      "    for parent in parents:\n",
      "        elm.extend(parent.elements)\n",
      "        if len(parent.elements) == 0:\n",
      "            print \"empty parent!\"\n",
      "            raise\n",
      "\n",
      "    print sorted(elm) == range(567)"
     ],
     "language": "python",
     "metadata": {},
     "outputs": [
      {
       "output_type": "stream",
       "stream": "stdout",
       "text": [
        "old clusters: 226\n",
        "new clusters: 90\n",
        "[36 89 56 35 35 23  5 57 62  9 12  4  6 15 14 36 28  7 51 24 16 25 21 42 17\n",
        " 13 19 15 64 30  5 40 84 53  3 53 59 38 31 26 32 29  1 55  0  1 67  8 50 11\n",
        " 51 37 57 81 41 71  3 44 46 83 27 89 65 73 20 61 43 36 35 48 17 72 54  6 52\n",
        " 75 34 51 10 46 38 43 63 49  2  8 51  8 70 53  1 38 49  8 45 18 58 72  2 33\n",
        " 76 38 35 74 33 87 55 39 35 11 67 36  1 51 53 36 69 66 22  1 82 29 35 51 11\n",
        " 55 32 87 54 11 32  1 52 80 67 47 29 53 57 84  1 41 60 64 22  8 36  1 77 79\n",
        "  1 53 17  1 77 51 56 68  1 87 30 57 51 46  3 89 51 45  8 68 36  1 18 88 78\n",
        "  1 22 11 51 38 51 53 56 50 22 47 44 73  8  1 22 46 22 51  8  1 78  1 75 87\n",
        "  1 33 85 78 89 13 10  1 75 11  1 37 89 89 82  1 36  1  1  8 57 27  1 87 35\n",
        " 35 36 36 36 49 35 35 35 35 35 35 35 35 35  8 57 57 57 57 55 87 51 51 51 51\n",
        " 51 51 51 51 51 51 51 51 51 51 47 64 55 39 53 53 53 85 52  1  1  1  1 11  1\n",
        "  1  1 87 41  8  8  8  8  8  8  8  8  8  8  8  8  8  8  8  8  8  8  8 36 11\n",
        " 11 11 11 11 11 11 11 11 11 11 38  8 41 87 46 46 46 46 46 85 77 72  8 75 75\n",
        " 75 75 75 46 67 38 38 38 38 38 38 38 38 38 38 57  2  2  2  2 64  8 53 51 54\n",
        " 32 53 62  1  1  1  1  1  1  1  1 79 76 76 76 68 38 38 38 62 87 87 87 87 87\n",
        " 87 87 87 87 87 87 10 66  5 36 36 36 36 36 36 36 36 22 53 53 69 36  4 78 36\n",
        " 22 22 22 22 22 34  1  1 41 35  2 51 51 51 51 51 51 58 11 11 11 11 11 11 12\n",
        " 87 87 57 60 80 80 80 86 29 76 10  1  1  1  1  1  1  1  1  1  1  1  1 41 87\n",
        " 51 30  1  1 66  1 85 48  1 30 77 83 68 57 26 51 51 76 46 46 46 46 46 82 51\n",
        " 51 51  8 41 36 65  1  1 78 78 78 78 78 78 22  1  1  1  1  1  1 36 51 11 38\n",
        " 35 53  1  1 75 46 46 51 51 51 51 51 51 51 51 46 11 78 78 46  1 81 75 87 87\n",
        " 87  8 85 22 78 78 78 11 89 89 89 89 89 89 51 75 75 38 11 11 46  1  1  1  2\n",
        " 22 89 11  2 36 36 36 78  1 70  8  8 38  1  1 41 89]"
       ]
      },
      {
       "ename": "TypeError",
       "evalue": "exceptions must be old-style classes or derived from BaseException, not NoneType",
       "output_type": "pyerr",
       "traceback": [
        "\u001b[1;31m---------------------------------------------------------------------------\u001b[0m\n\u001b[1;31mTypeError\u001b[0m                                 Traceback (most recent call last)",
        "\u001b[1;32m<ipython-input-224-54d57ad7e1df>\u001b[0m in \u001b[0;36m<module>\u001b[1;34m()\u001b[0m\n\u001b[0;32m     30\u001b[0m         \u001b[1;32mif\u001b[0m \u001b[0mlen\u001b[0m\u001b[1;33m(\u001b[0m\u001b[0mparent\u001b[0m\u001b[1;33m.\u001b[0m\u001b[0melements\u001b[0m\u001b[1;33m)\u001b[0m \u001b[1;33m==\u001b[0m \u001b[1;36m0\u001b[0m\u001b[1;33m:\u001b[0m\u001b[1;33m\u001b[0m\u001b[0m\n\u001b[0;32m     31\u001b[0m             \u001b[1;32mprint\u001b[0m \u001b[1;34m\"empty parent!\"\u001b[0m\u001b[1;33m\u001b[0m\u001b[0m\n\u001b[1;32m---> 32\u001b[1;33m             \u001b[1;32mraise\u001b[0m\u001b[1;33m\u001b[0m\u001b[0m\n\u001b[0m\u001b[0;32m     33\u001b[0m \u001b[1;33m\u001b[0m\u001b[0m\n\u001b[0;32m     34\u001b[0m     \u001b[1;32mprint\u001b[0m \u001b[0msorted\u001b[0m\u001b[1;33m(\u001b[0m\u001b[0melm\u001b[0m\u001b[1;33m)\u001b[0m \u001b[1;33m==\u001b[0m \u001b[0mrange\u001b[0m\u001b[1;33m(\u001b[0m\u001b[1;36m567\u001b[0m\u001b[1;33m)\u001b[0m\u001b[1;33m\u001b[0m\u001b[0m\n",
        "\u001b[1;31mTypeError\u001b[0m: exceptions must be old-style classes or derived from BaseException, not NoneType"
       ]
      },
      {
       "output_type": "stream",
       "stream": "stdout",
       "text": [
        "\n",
        "[ 1 73  9  3  2  3  2  1 36  1  4 30  2  2  1  2  1  3  2  1  1  1 15  1  1\n",
        "  1  2  2  1  4  4  1  4  3  2 19 27  2 22  2  1  8  1  2  2  2 20  3  2  3\n",
        "  2 49  3 15  3  5  3 12  2  1  2  1  3  1  4  2  3  4  4  2  2  1  3  2  1\n",
        " 12  6  4 16  2  4  2  3  2  2  5  1 25  1 14]\n",
        "empty parent!\n"
       ]
      }
     ],
     "prompt_number": 224
    },
    {
     "cell_type": "code",
     "collapsed": false,
     "input": [
      "row_tree = tree.ClusterTreeNode([])\n",
      "for parent in parents:\n",
      "    parent.assign_to_parent(row_tree)\n",
      "row_tree.make_index()"
     ],
     "language": "python",
     "metadata": {},
     "outputs": []
    },
    {
     "cell_type": "code",
     "collapsed": false,
     "input": [
      "[x.size for x in row_tree.children[0].children]"
     ],
     "language": "python",
     "metadata": {},
     "outputs": []
    },
    {
     "cell_type": "code",
     "collapsed": false,
     "input": [
      "len(parents)"
     ],
     "language": "python",
     "metadata": {},
     "outputs": []
    },
    {
     "cell_type": "code",
     "collapsed": false,
     "input": [
      "[x.size for x in parents].index(0)"
     ],
     "language": "python",
     "metadata": {},
     "outputs": [
      {
       "output_type": "pyout",
       "prompt_number": 225,
       "text": [
        "86"
       ]
      }
     ],
     "prompt_number": 225
    },
    {
     "cell_type": "code",
     "collapsed": false,
     "input": [
      "fig = plt.figure()\n",
      "ax = fig.add_subplot(111,projection=\"3d\")\n",
      "colors = \"rgbk\"\n",
      "for i in xrange(4):\n",
      "    ax.scatter3D(row_data[labels==i,1],row_data[labels==i,2],row_data[labels==i,3],c=colors[i])\n",
      "plt.show()"
     ],
     "language": "python",
     "metadata": {},
     "outputs": [],
     "prompt_number": 29
    },
    {
     "cell_type": "code",
     "collapsed": false,
     "input": [
      "labels"
     ],
     "language": "python",
     "metadata": {},
     "outputs": [
      {
       "output_type": "pyout",
       "prompt_number": 30,
       "text": [
        "array([2, 2, 1, 2, 1, 2, 2, 2, 1, 1, 2, 1, 2, 2, 1, 1, 2, 2, 2, 2, 1, 1, 2,\n",
        "       2, 2, 1, 2, 2, 2, 2, 1, 1, 1, 2, 1, 2, 1, 1, 1, 2, 1, 2, 1, 2, 1, 1,\n",
        "       2, 2, 2, 1, 2, 1, 1, 2, 1, 1, 1, 1, 2, 2, 2, 2, 1, 2, 1, 2, 2, 2, 2,\n",
        "       2, 1, 2, 1, 2, 1, 1, 2, 2, 2, 2, 1, 1, 2, 2, 2, 2, 1, 2, 2, 2, 2, 1,\n",
        "       2, 2, 1, 2, 2, 1, 2, 2, 2, 2, 2, 2, 1, 2, 1, 2, 2, 1, 2, 2, 2, 2, 2,\n",
        "       1, 2, 1, 2, 2, 2, 1, 2, 1, 1, 2, 1, 2, 2, 1, 2, 2, 2, 2, 1, 1, 2, 2,\n",
        "       2, 1, 1, 2, 1, 2, 1, 2, 1, 2, 2, 2, 1, 1, 2, 1, 2, 2, 1, 1, 1, 2, 1,\n",
        "       2, 1, 2, 1, 2, 1, 2, 2, 1, 2, 2, 1, 2, 2, 2, 2, 2, 2, 1, 2, 2, 2, 1,\n",
        "       1, 2, 2, 2, 2, 2, 2, 2, 2, 1, 2, 1, 2, 2, 2, 1, 2, 1, 2, 2, 1, 2, 2,\n",
        "       1, 2, 2, 2, 2, 2, 2, 1, 2, 1, 1, 2, 2, 1, 2, 1, 1, 1, 2, 1, 2, 2, 2,\n",
        "       2, 0, 1, 2, 2, 2, 2, 2, 1, 2, 1, 2, 1, 2, 2, 2, 2, 2, 1, 2, 1, 2, 2,\n",
        "       2, 2, 1, 2, 2, 1, 2, 1, 2, 2, 1, 1, 2, 2, 2, 2, 2, 1, 2, 1, 1, 1, 2,\n",
        "       1, 2, 1, 1, 2, 2, 2, 1, 1, 1, 2, 2, 1, 1, 2, 1, 2, 2, 2, 2, 1, 2, 1,\n",
        "       2, 1, 1, 2, 1, 1, 2, 2, 2, 1, 2, 2, 2, 2, 2, 1, 1, 2, 2, 2, 2, 1, 2,\n",
        "       2, 2, 1, 1, 2, 1, 2, 2, 1, 2, 2, 2, 1, 2, 1, 1, 1, 2, 1, 2, 2, 2, 2,\n",
        "       1, 1, 1, 2, 2, 2, 1, 2, 2, 2, 2, 1, 2, 2, 2, 2, 1, 2, 1, 2, 2, 1, 1,\n",
        "       1, 2, 2, 2, 1, 1, 1, 1, 1, 1, 2, 2, 2, 1, 2, 2, 2, 1, 2, 1, 2, 1, 1,\n",
        "       2, 2, 1, 2, 1, 2, 2, 2, 1, 2, 2, 1, 2, 1, 2, 2, 1, 1, 2, 1, 2, 1, 1,\n",
        "       1, 2, 2, 2, 1, 1, 1, 2, 2, 2, 1, 2, 2, 1, 2, 1, 2, 2, 1, 1, 2, 1, 2,\n",
        "       1, 2, 2, 2, 1, 2, 1, 1, 1, 2, 2, 1, 2, 2, 2, 2, 1, 2, 2, 2, 1, 2, 2,\n",
        "       1, 2, 2, 1, 2, 2, 2, 2, 1, 1, 2, 1, 2, 2, 1, 2, 2, 2, 1, 1, 2, 1, 2,\n",
        "       2, 1, 1, 2, 2, 2, 2, 1, 2, 2, 2, 2, 2, 1, 2, 1, 2, 2, 1, 2, 1, 1, 1,\n",
        "       1, 2, 1, 2, 2, 1, 1, 1, 2, 1, 1, 1, 1, 1, 2, 1, 1, 2, 2, 1, 2, 2, 2,\n",
        "       2, 2, 2, 1, 1, 1, 2, 2, 1, 1, 2, 2, 1, 2, 2, 2, 2, 1, 2, 1, 1, 2, 2,\n",
        "       1, 1, 2, 1, 1, 2, 2, 2, 1, 1, 2, 1, 1, 1, 2], dtype=int64)"
       ]
      }
     ],
     "prompt_number": 30
    },
    {
     "cell_type": "code",
     "collapsed": false,
     "input": [
      "wa = skcl.WardAgglomeration(n_clusters=3,connectivity=knng.T+knng).fit(row_data.T)"
     ],
     "language": "python",
     "metadata": {},
     "outputs": [],
     "prompt_number": 36
    },
    {
     "cell_type": "code",
     "collapsed": false,
     "input": [
      "wa"
     ],
     "language": "python",
     "metadata": {},
     "outputs": [
      {
       "output_type": "pyout",
       "prompt_number": 37,
       "text": [
        "WardAgglomeration(compute_full_tree='auto',\n",
        "         connectivity=<567x567 sparse matrix of type '<type 'numpy.float64'>'\n",
        "\twith 16963 stored elements in Compressed Sparse Column format>,\n",
        "         copy=True, memory=Memory(cachedir=None), n_clusters=3,\n",
        "         n_components=None)"
       ]
      }
     ],
     "prompt_number": 37
    },
    {
     "cell_type": "code",
     "collapsed": false,
     "input": [
      "wa.children_.shape"
     ],
     "language": "python",
     "metadata": {},
     "outputs": [
      {
       "output_type": "pyout",
       "prompt_number": 40,
       "text": [
        "(564L, 2L)"
       ]
      }
     ],
     "prompt_number": 40
    },
    {
     "cell_type": "code",
     "collapsed": false,
     "input": [],
     "language": "python",
     "metadata": {},
     "outputs": []
    }
   ],
   "metadata": {}
  }
 ]
}