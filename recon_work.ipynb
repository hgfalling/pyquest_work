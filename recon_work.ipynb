{
 "metadata": {
  "name": "recon_work"
 },
 "nbformat": 3,
 "nbformat_minor": 0,
 "worksheets": [
  {
   "cells": [
    {
     "cell_type": "code",
     "collapsed": false,
     "input": [
      "from imports import *\n",
      "import wallenius\n",
      "reload(tree_recon)\n",
      "reload(tree_util)"
     ],
     "language": "python",
     "metadata": {},
     "outputs": [
      {
       "output_type": "pyout",
       "prompt_number": 13,
       "text": [
        "<module 'tree_util' from 'tree_util.py'>"
       ]
      }
     ],
     "prompt_number": 13
    },
    {
     "cell_type": "code",
     "collapsed": false,
     "input": [
      "fin = open(\"artq_data.pickle\",\"rb\")\n",
      "data = cPickle.load(fin)\n",
      "means = cPickle.load(fin)\n",
      "means = means*2 - 1.0\n",
      "row_tree = cPickle.load(fin)\n",
      "col_tree = cPickle.load(fin)\n",
      "fin.close()"
     ],
     "language": "python",
     "metadata": {},
     "outputs": [],
     "prompt_number": 2
    },
    {
     "cell_type": "code",
     "collapsed": false,
     "input": [
      "def error_rate(data,recon_data):\n",
      "    return \"L1: {0:12.5f} -- L2: {1:12.5f}\".format(np.sum(np.abs(recon_data-data)),np.linalg.norm(recon_data-data)) , np.sum(np.abs(recon_data-data)),np.linalg.norm(recon_data-data)"
     ],
     "language": "python",
     "metadata": {},
     "outputs": [],
     "prompt_number": 3
    },
    {
     "cell_type": "code",
     "collapsed": false,
     "input": [
      "dcol_tree = tree.dyadic_tree(10)\n",
      "drow_tree = tree.dyadic_tree(8)"
     ],
     "language": "python",
     "metadata": {},
     "outputs": [],
     "prompt_number": 4
    },
    {
     "cell_type": "code",
     "collapsed": false,
     "input": [
      "#thresholding based on folder size (1d)\n",
      "for i in np.logspace(-4,0,num=25):\n",
      "    drecon = tree_recon.recon_1d_folder_size(data.T,dcol_tree,i).T\n",
      "    trecon = tree_recon.recon_1d_folder_size(data.T,col_tree,i).T\n",
      "    derror = error_rate(means,drecon)\n",
      "    terror = error_rate(means,trecon)\n",
      "    print \"{0:0.5f}\".format(i), derror[0], terror[0]"
     ],
     "language": "python",
     "metadata": {},
     "outputs": [
      {
       "output_type": "stream",
       "stream": "stdout",
       "text": [
        "0.00010 L1: 146267.78653 -- L2:    382.34531 L1: 146267.78653 -- L2:    382.34531\n",
        "0.00015"
       ]
      },
      {
       "output_type": "stream",
       "stream": "stdout",
       "text": [
        " L1: 146267.78653 -- L2:    382.34531 L1: 146267.78653 -- L2:    382.34531\n",
        "0.00022"
       ]
      },
      {
       "output_type": "stream",
       "stream": "stdout",
       "text": [
        " L1: 146267.78653 -- L2:    382.34531 L1: 146267.78653 -- L2:    382.34531\n",
        "0.00032"
       ]
      },
      {
       "output_type": "stream",
       "stream": "stdout",
       "text": [
        " L1: 146267.78653 -- L2:    382.34531 L1: 146267.78653 -- L2:    382.34531\n",
        "0.00046"
       ]
      },
      {
       "output_type": "stream",
       "stream": "stdout",
       "text": [
        " L1: 146267.78653 -- L2:    382.34531 L1: 146267.78653 -- L2:    382.34531\n",
        "0.00068"
       ]
      },
      {
       "output_type": "stream",
       "stream": "stdout",
       "text": [
        " L1: 146267.78653 -- L2:    382.34531 L1: 146267.78653 -- L2:    382.34531\n",
        "0.00100"
       ]
      },
      {
       "output_type": "stream",
       "stream": "stdout",
       "text": [
        " L1: 118984.14723 -- L2:    299.89868 L1: 115921.27189 -- L2:    296.62238\n",
        "0.00147"
       ]
      },
      {
       "output_type": "stream",
       "stream": "stdout",
       "text": [
        " L1: 118984.14723 -- L2:    299.89868 L1: 115921.27189 -- L2:    296.62238\n",
        "0.00215"
       ]
      },
      {
       "output_type": "stream",
       "stream": "stdout",
       "text": [
        " L1: 100466.01602 -- L2:    250.12676 L1:  96347.75445 -- L2:    244.59538\n",
        "0.00316"
       ]
      },
      {
       "output_type": "stream",
       "stream": "stdout",
       "text": [
        " L1: 100466.01602 -- L2:    250.12676 L1:  96347.75445 -- L2:    244.59538\n",
        "0.00464"
       ]
      },
      {
       "output_type": "stream",
       "stream": "stdout",
       "text": [
        " L1:  90975.35319 -- L2:    224.05685 L1:  87708.98899 -- L2:    219.55926\n",
        "0.00681"
       ]
      },
      {
       "output_type": "stream",
       "stream": "stdout",
       "text": [
        " L1:  90975.35319 -- L2:    224.05685 L1:  87708.98899 -- L2:    219.55926\n",
        "0.01000"
       ]
      },
      {
       "output_type": "stream",
       "stream": "stdout",
       "text": [
        " L1:  88397.30247 -- L2:    216.11622 L1:  85278.84716 -- L2:    210.91496\n",
        "0.01468"
       ]
      },
      {
       "output_type": "stream",
       "stream": "stdout",
       "text": [
        " L1:  88397.30247 -- L2:    216.11622 L1:  85278.84716 -- L2:    210.91496\n",
        "0.02154"
       ]
      },
      {
       "output_type": "stream",
       "stream": "stdout",
       "text": [
        " L1:  88613.95645 -- L2:    217.19537 L1:  87672.86395 -- L2:    215.91171\n",
        "0.03162"
       ]
      },
      {
       "output_type": "stream",
       "stream": "stdout",
       "text": [
        " L1:  88121.72678 -- L2:    217.29902 L1:  96686.35322 -- L2:    237.66691\n",
        "0.04642"
       ]
      },
      {
       "output_type": "stream",
       "stream": "stdout",
       "text": [
        " L1:  88121.72678 -- L2:    217.29902 L1:  96686.35322 -- L2:    237.66691\n",
        "0.06813"
       ]
      },
      {
       "output_type": "stream",
       "stream": "stdout",
       "text": [
        " L1: 122656.79851 -- L2:    287.42998 L1: 110185.64795 -- L2:    266.33152\n",
        "0.10000"
       ]
      },
      {
       "output_type": "stream",
       "stream": "stdout",
       "text": [
        " L1: 122656.79851 -- L2:    287.42998 L1: 110185.64795 -- L2:    266.33152\n",
        "0.14678"
       ]
      },
      {
       "output_type": "stream",
       "stream": "stdout",
       "text": [
        " L1: 131534.59112 -- L2:    305.71100 L1: 122868.98712 -- L2:    290.36534\n",
        "0.21544"
       ]
      },
      {
       "output_type": "stream",
       "stream": "stdout",
       "text": [
        " L1: 131534.59112 -- L2:    305.71100 L1: 122868.98712 -- L2:    290.36534\n",
        "0.31623"
       ]
      },
      {
       "output_type": "stream",
       "stream": "stdout",
       "text": [
        " L1: 139189.00632 -- L2:    318.42483 L1: 134881.16226 -- L2:    311.37399\n",
        "0.46416"
       ]
      },
      {
       "output_type": "stream",
       "stream": "stdout",
       "text": [
        " L1: 139189.00632 -- L2:    318.42483 L1: 134881.16226 -- L2:    311.37399\n",
        "0.68129"
       ]
      },
      {
       "output_type": "stream",
       "stream": "stdout",
       "text": [
        " L1: 147062.55533 -- L2:    330.15925 L1: 147062.55533 -- L2:    330.15925\n",
        "1.00000"
       ]
      },
      {
       "output_type": "stream",
       "stream": "stdout",
       "text": [
        " L1: 147062.55533 -- L2:    330.15925 L1: 147062.55533 -- L2:    330.15925\n"
       ]
      }
     ],
     "prompt_number": 5
    },
    {
     "cell_type": "code",
     "collapsed": false,
     "input": [
      "#thresholding based on folder size (2d)\n",
      "for i in np.logspace(-5,-2,num=20):\n",
      "    #drecon = tree_recon.recon_2d_folder_size(data,drow_tree,dcol_tree,i)\n",
      "    trecon = tree_recon.recon_2d_folder_size(data,row_tree,col_tree,i)\n",
      "    #derror = error_rate(means,drecon)\n",
      "    terror = error_rate(means,trecon)\n",
      "    #print \"{0:9.7f}\".format(i), derror[0], terror[0]\n",
      "    print \"{0:9.7f}\".format(i), terror[0]"
     ],
     "language": "python",
     "metadata": {},
     "outputs": [
      {
       "output_type": "stream",
       "stream": "stdout",
       "text": [
        "0.0000100 L1: 106669.83097 -- L2:    272.05686\n",
        "0.0000144"
       ]
      },
      {
       "output_type": "stream",
       "stream": "stdout",
       "text": [
        " L1: 106669.83097 -- L2:    272.05686\n",
        "0.0000207"
       ]
      },
      {
       "output_type": "stream",
       "stream": "stdout",
       "text": [
        " L1:  85673.33444 -- L2:    215.60655\n",
        "0.0000298"
       ]
      },
      {
       "output_type": "stream",
       "stream": "stdout",
       "text": [
        " L1:  85673.33444 -- L2:    215.60655\n",
        "0.0000428"
       ]
      },
      {
       "output_type": "stream",
       "stream": "stdout",
       "text": [
        " L1:  67089.20015 -- L2:    167.74664\n",
        "0.0000616"
       ]
      },
      {
       "output_type": "stream",
       "stream": "stdout",
       "text": [
        " L1:  62669.08908 -- L2:    155.34100\n",
        "0.0000886"
       ]
      },
      {
       "output_type": "stream",
       "stream": "stdout",
       "text": [
        " L1:  62669.08908 -- L2:    155.34100\n",
        "0.0001274"
       ]
      },
      {
       "output_type": "stream",
       "stream": "stdout",
       "text": [
        " L1:  64377.42331 -- L2:    158.96101\n",
        "0.0001833"
       ]
      },
      {
       "output_type": "stream",
       "stream": "stdout",
       "text": [
        " L1:  64377.42331 -- L2:    158.96101\n",
        "0.0002637"
       ]
      },
      {
       "output_type": "stream",
       "stream": "stdout",
       "text": [
        " L1:  68486.14859 -- L2:    169.33749\n",
        "0.0003793"
       ]
      },
      {
       "output_type": "stream",
       "stream": "stdout",
       "text": [
        " L1:  68486.14859 -- L2:    169.33749\n",
        "0.0005456"
       ]
      },
      {
       "output_type": "stream",
       "stream": "stdout",
       "text": [
        " L1:  73006.24213 -- L2:    180.08964\n",
        "0.0007848"
       ]
      },
      {
       "output_type": "stream",
       "stream": "stdout",
       "text": [
        " L1:  73006.24213 -- L2:    180.08964\n",
        "0.0011288"
       ]
      },
      {
       "output_type": "stream",
       "stream": "stdout",
       "text": [
        " L1:  78168.90211 -- L2:    192.18779\n",
        "0.0016238"
       ]
      },
      {
       "output_type": "stream",
       "stream": "stdout",
       "text": [
        " L1:  78168.90211 -- L2:    192.18779\n",
        "0.0023357"
       ]
      },
      {
       "output_type": "stream",
       "stream": "stdout",
       "text": [
        " L1:  86188.21246 -- L2:    210.89313\n",
        "0.0033598"
       ]
      },
      {
       "output_type": "stream",
       "stream": "stdout",
       "text": [
        " L1:  86188.21246 -- L2:    210.89313\n",
        "0.0048329"
       ]
      },
      {
       "output_type": "stream",
       "stream": "stdout",
       "text": [
        " L1:  97025.85236 -- L2:    234.98749\n",
        "0.0069519"
       ]
      },
      {
       "output_type": "stream",
       "stream": "stdout",
       "text": [
        " L1:  97025.85236 -- L2:    234.98749\n",
        "0.0100000"
       ]
      },
      {
       "output_type": "stream",
       "stream": "stdout",
       "text": [
        " L1: 109792.22566 -- L2:    263.18618\n"
       ]
      }
     ],
     "prompt_number": 15
    },
    {
     "cell_type": "code",
     "collapsed": false,
     "input": [
      "1024*256*.01"
     ],
     "language": "python",
     "metadata": {},
     "outputs": [
      {
       "output_type": "pyout",
       "prompt_number": 12,
       "text": [
        "2621.44"
       ]
      }
     ],
     "prompt_number": 12
    },
    {
     "cell_type": "code",
     "collapsed": false,
     "input": [
      "t1recon = tree_recon.recon_1d_folder_size(data.T,col_tree,0.003).T\n",
      "t2recon = tree_recon.recon_2d_folder_size(data,row_tree,col_tree,0.00005)"
     ],
     "language": "python",
     "metadata": {},
     "outputs": [],
     "prompt_number": 7
    },
    {
     "cell_type": "code",
     "collapsed": false,
     "input": [
      "s1recon = tree_recon.recon_1d_sure(data.T,col_tree,0.7).T\n",
      "s2recon = tree_recon.recon_2d_sure(data,row_tree,col_tree,0.7)"
     ],
     "language": "python",
     "metadata": {},
     "outputs": [],
     "prompt_number": 8
    },
    {
     "cell_type": "code",
     "collapsed": false,
     "input": [
      "ORG_COL_TREE = col_tree\n",
      "ORG_ROW_TREE = row_tree\n",
      "fig = plt.figure()\n",
      "fig.add_subplot(311)\n",
      "plt.imshow(barcode.organize_folders(ORG_ROW_TREE,ORG_COL_TREE,means),aspect='auto',interpolation='nearest',cmap=bwmap,norm=cnorm)\n",
      "plt.title(\"True means\")\n",
      "fig.add_subplot(312)\n",
      "plt.imshow(barcode.organize_folders(ORG_ROW_TREE,ORG_COL_TREE,t1recon),aspect='auto',interpolation='nearest',cmap=bwmap,norm=cnorm)\n",
      "plt.title(\"1D Folder size threshold = 0.003\")\n",
      "fig.add_subplot(313)\n",
      "plt.imshow(barcode.organize_folders(ORG_ROW_TREE,ORG_COL_TREE,s1recon),aspect='auto',interpolation='nearest',cmap=bwmap,norm=cnorm)\n",
      "plt.title(\"1D SURE ($\\sigma = 0.7$)\")\n",
      "plt.show()"
     ],
     "language": "python",
     "metadata": {},
     "outputs": [],
     "prompt_number": 87
    },
    {
     "cell_type": "code",
     "collapsed": false,
     "input": [
      "ORG_COL_TREE = col_tree\n",
      "ORG_ROW_TREE = row_tree\n",
      "fig = plt.figure()\n",
      "fig.add_subplot(311)\n",
      "plt.imshow(barcode.organize_folders(ORG_ROW_TREE,ORG_COL_TREE,means),aspect='auto',interpolation='nearest',cmap=bwmap,norm=cnorm)\n",
      "plt.title(\"True means\")\n",
      "fig.add_subplot(312)\n",
      "plt.imshow(barcode.organize_folders(ORG_ROW_TREE,ORG_COL_TREE,t2recon),aspect='auto',interpolation='nearest',cmap=bwmap,norm=cnorm)\n",
      "plt.title(\"2D Folder size threshold = 0.00005\")\n",
      "fig.add_subplot(313)\n",
      "plt.imshow(barcode.organize_folders(ORG_ROW_TREE,ORG_COL_TREE,s2recon),aspect='auto',interpolation='nearest',cmap=bwmap,norm=cnorm)\n",
      "plt.title(\"2D SURE ($\\sigma = 0.7$)\")\n",
      "plt.show()"
     ],
     "language": "python",
     "metadata": {},
     "outputs": [],
     "prompt_number": 89
    },
    {
     "cell_type": "code",
     "collapsed": false,
     "input": [
      "for v in np.arange(0.1,2.0,0.1):\n",
      "    srecon = tree_recon.recon_1d_sure(data.T,col_tree,v).T\n",
      "    serror = error_rate(means,srecon)\n",
      "    print \"{0:4.3f}: SURE wavelet shrinkage: {1}\".format(v,serror[0])"
     ],
     "language": "python",
     "metadata": {},
     "outputs": [
      {
       "output_type": "stream",
       "stream": "stdout",
       "text": [
        "0.100: SURE wavelet shrinkage: L1: 146267.78653 -- L2:    382.34531\n",
        "0.200: SURE wavelet shrinkage: L1: 146322.99106 -- L2:    382.13449"
       ]
      },
      {
       "output_type": "stream",
       "stream": "stdout",
       "text": [
        "\n",
        "0.300: SURE wavelet shrinkage: L1: 145024.46827 -- L2:    374.02815"
       ]
      },
      {
       "output_type": "stream",
       "stream": "stdout",
       "text": [
        "\n",
        "0.400: SURE wavelet shrinkage: L1: 144261.87004 -- L2:    373.37802"
       ]
      },
      {
       "output_type": "stream",
       "stream": "stdout",
       "text": [
        "\n",
        "0.500: SURE wavelet shrinkage: L1: 139962.43443 -- L2:    357.15915"
       ]
      },
      {
       "output_type": "stream",
       "stream": "stdout",
       "text": [
        "\n",
        "0.600: SURE wavelet shrinkage: L1: 124785.96404 -- L2:    316.74599"
       ]
      },
      {
       "output_type": "stream",
       "stream": "stdout",
       "text": [
        "\n",
        "0.700: SURE wavelet shrinkage: L1: 125026.97397 -- L2:    315.74193"
       ]
      },
      {
       "output_type": "stream",
       "stream": "stdout",
       "text": [
        "\n",
        "0.800: SURE wavelet shrinkage: L1: 126068.74459 -- L2:    316.43018"
       ]
      },
      {
       "output_type": "stream",
       "stream": "stdout",
       "text": [
        "\n",
        "0.900: SURE wavelet shrinkage: L1: 126068.74459 -- L2:    316.43018"
       ]
      },
      {
       "output_type": "stream",
       "stream": "stdout",
       "text": [
        "\n",
        "1.000: SURE wavelet shrinkage: L1: 126539.73836 -- L2:    315.84917"
       ]
      },
      {
       "output_type": "stream",
       "stream": "stdout",
       "text": [
        "\n",
        "1.100: SURE wavelet shrinkage: L1:  84296.09904 -- L2:    205.16637"
       ]
      },
      {
       "output_type": "stream",
       "stream": "stdout",
       "text": [
        "\n",
        "1.200: SURE wavelet shrinkage: L1:  85518.67262 -- L2:    207.37334"
       ]
      },
      {
       "output_type": "stream",
       "stream": "stdout",
       "text": [
        "\n",
        "1.300: SURE wavelet shrinkage: L1:  86669.37607 -- L2:    209.96985"
       ]
      },
      {
       "output_type": "stream",
       "stream": "stdout",
       "text": [
        "\n",
        "1.400: SURE wavelet shrinkage: L1:  88816.92576 -- L2:    215.03161"
       ]
      },
      {
       "output_type": "stream",
       "stream": "stdout",
       "text": [
        "\n",
        "1.500: SURE wavelet shrinkage: L1:  88816.92576 -- L2:    215.03161"
       ]
      },
      {
       "output_type": "stream",
       "stream": "stdout",
       "text": [
        "\n",
        "1.600: SURE wavelet shrinkage: L1:  87989.80852 -- L2:    213.01899"
       ]
      },
      {
       "output_type": "stream",
       "stream": "stdout",
       "text": [
        "\n",
        "1.700: SURE wavelet shrinkage: L1:  88944.97874 -- L2:    215.62321"
       ]
      },
      {
       "output_type": "stream",
       "stream": "stdout",
       "text": [
        "\n",
        "1.800: SURE wavelet shrinkage: L1:  89003.98389 -- L2:    215.80772"
       ]
      },
      {
       "output_type": "stream",
       "stream": "stdout",
       "text": [
        "\n",
        "1.900: SURE wavelet shrinkage: L1:  89522.77356 -- L2:    217.29284"
       ]
      },
      {
       "output_type": "stream",
       "stream": "stdout",
       "text": [
        "\n"
       ]
      }
     ],
     "prompt_number": 9
    },
    {
     "cell_type": "code",
     "collapsed": false,
     "input": [
      "for v in np.arange(0.1,2.0,0.1):\n",
      "    srecon = tree_recon.recon_2d_sure(data,row_tree,col_tree,v)\n",
      "    serror = error_rate(means,srecon)\n",
      "    print \"{0:4.3f}: SURE wavelet shrinkage: {1}\".format(v,serror[0])"
     ],
     "language": "python",
     "metadata": {},
     "outputs": [
      {
       "output_type": "stream",
       "stream": "stdout",
       "text": [
        "0.100: SURE wavelet shrinkage: L1: 146095.30972 -- L2:    381.52689\n",
        "0.200: SURE wavelet shrinkage: L1: 138478.23243 -- L2:    355.81390"
       ]
      },
      {
       "output_type": "stream",
       "stream": "stdout",
       "text": [
        "\n",
        "0.300: SURE wavelet shrinkage: L1: 127386.21333 -- L2:    324.91066"
       ]
      },
      {
       "output_type": "stream",
       "stream": "stdout",
       "text": [
        "\n",
        "0.400: SURE wavelet shrinkage: L1: 106278.19732 -- L2:    270.79615"
       ]
      },
      {
       "output_type": "stream",
       "stream": "stdout",
       "text": [
        "\n",
        "0.500: SURE wavelet shrinkage: L1: 100884.40221 -- L2:    257.35117"
       ]
      },
      {
       "output_type": "stream",
       "stream": "stdout",
       "text": [
        "\n",
        "0.600: SURE wavelet shrinkage: L1:  63060.84272 -- L2:    160.20488"
       ]
      },
      {
       "output_type": "stream",
       "stream": "stdout",
       "text": [
        "\n",
        "0.700: SURE wavelet shrinkage: L1:  63221.74654 -- L2:    160.28926"
       ]
      },
      {
       "output_type": "stream",
       "stream": "stdout",
       "text": [
        "\n",
        "0.800: SURE wavelet shrinkage: L1:  62773.25325 -- L2:    158.42052"
       ]
      },
      {
       "output_type": "stream",
       "stream": "stdout",
       "text": [
        "\n",
        "0.900: SURE wavelet shrinkage: L1:  55600.57972 -- L2:    137.57152"
       ]
      },
      {
       "output_type": "stream",
       "stream": "stdout",
       "text": [
        "\n",
        "1.000: SURE wavelet shrinkage: L1:  57876.68645 -- L2:    142.37064"
       ]
      },
      {
       "output_type": "stream",
       "stream": "stdout",
       "text": [
        "\n",
        "1.100: SURE wavelet shrinkage: L1:  59775.72245 -- L2:    146.19843"
       ]
      },
      {
       "output_type": "stream",
       "stream": "stdout",
       "text": [
        "\n",
        "1.200: SURE wavelet shrinkage: L1:  61546.36329 -- L2:    150.05545"
       ]
      },
      {
       "output_type": "stream",
       "stream": "stdout",
       "text": [
        "\n",
        "1.300: SURE wavelet shrinkage: L1:  60560.64575 -- L2:    147.66623"
       ]
      },
      {
       "output_type": "stream",
       "stream": "stdout",
       "text": [
        "\n",
        "1.400: SURE wavelet shrinkage: L1:  63157.82761 -- L2:    153.58749"
       ]
      },
      {
       "output_type": "stream",
       "stream": "stdout",
       "text": [
        "\n",
        "1.500: SURE wavelet shrinkage: L1:  60940.36075 -- L2:    146.51724"
       ]
      },
      {
       "output_type": "stream",
       "stream": "stdout",
       "text": [
        "\n",
        "1.600: SURE wavelet shrinkage: L1:  63202.81209 -- L2:    152.06870"
       ]
      },
      {
       "output_type": "stream",
       "stream": "stdout",
       "text": [
        "\n",
        "1.700: SURE wavelet shrinkage: L1:  63500.73532 -- L2:    152.66524"
       ]
      },
      {
       "output_type": "stream",
       "stream": "stdout",
       "text": [
        "\n",
        "1.800: SURE wavelet shrinkage: L1:  63719.69123 -- L2:    153.16986"
       ]
      },
      {
       "output_type": "stream",
       "stream": "stdout",
       "text": [
        "\n",
        "1.900: SURE wavelet shrinkage: L1:  64043.94861 -- L2:    153.91719"
       ]
      },
      {
       "output_type": "stream",
       "stream": "stdout",
       "text": [
        "\n"
       ]
      }
     ],
     "prompt_number": 10
    },
    {
     "cell_type": "code",
     "collapsed": false,
     "input": [
      "avgs = barcode.level_avgs(data,col_tree)"
     ],
     "language": "python",
     "metadata": {},
     "outputs": [],
     "prompt_number": 5
    },
    {
     "cell_type": "code",
     "collapsed": false,
     "input": [
      "q = np.random.choice(xrange(len(n_parent)))\n",
      "for q_no in [q]: #range(len(n_parent)):\n",
      "    print \"question {}\".format(q_no)\n",
      "    print \"parent is {:.0f}/{:.0f} ({:4.2f}%)\".format(v[1,q_no],v[0,q_no],100.0*v[1,q_no]/v[0,q_no])\n",
      "    pfrac = v[1,q_no]/v[0,q_no]\n",
      "    for idx,child in enumerate(parent.children):\n",
      "        left,right = wallenius.partition_htest(v[0,q_no],v[1,q_no],child.size,0.05)\n",
      "        child_elem = child.elements\n",
      "        actual = np.sum(data.T[child_elem,q_no]>0)\n",
      "        print \"child {}: {}/{} ({:4.2f}%)\".format(idx,actual,child.size,actual*100.0/child.size)\n",
      "        print \"H0: {} ({},{})\".format(pfrac*child.size, left, right)\n",
      "        if actual > left and actual < right:\n",
      "            print \"Inside confidence interval.\"\n",
      "            \n",
      "        else:\n",
      "            print \"Outside confidence interval.\"\n",
      "    plt.imshow(barcode.organize_cols(col_tree,avgs[q_no]),aspect='auto',extent=(0.5,col_tree.size,col_tree.tree_depth+0.5,1.),interpolation='nearest',cmap=cmap,norm=cnorm)\n",
      "    plt.show()"
     ],
     "language": "python",
     "metadata": {},
     "outputs": [
      {
       "output_type": "stream",
       "stream": "stdout",
       "text": [
        "question 232\n",
        "parent is 498/1024 (48.63%)\n",
        "child 0: 169/412 (41.02%)"
       ]
      },
      {
       "output_type": "stream",
       "stream": "stdout",
       "text": [
        "\n",
        "H0: 200.3671875 (184,216)\n",
        "Outside confidence interval.\n",
        "child 1: 133/258 (51.55%)"
       ]
      },
      {
       "output_type": "stream",
       "stream": "stdout",
       "text": [
        "\n",
        "H0: 125.47265625 (111,139)\n",
        "Inside confidence interval.\n",
        "child 2: 196/354 (55.37%)"
       ]
      },
      {
       "output_type": "stream",
       "stream": "stdout",
       "text": [
        "\n",
        "H0: 172.16015625 (156,187)\n",
        "Outside confidence interval.\n"
       ]
      }
     ],
     "prompt_number": 50
    },
    {
     "cell_type": "code",
     "collapsed": false,
     "input": [
      "for alp in np.arange(0.025,0.5, 0.025):\n",
      "    new_coefs = coefs.copy()\n",
      "    parent = col_tree\n",
      "    for parent in col_tree:\n",
      "        #print parent.idx\n",
      "        n_parents = np.sum(np.abs(d[parent.elements,:]),axis=0) #this is the parent size for each question\n",
      "        k_parents = np.sum(d[parent.elements,:]>0,axis=0) #parent k for each question\n",
      "        for q_no in xrange(coefs.shape[1]):\n",
      "            inc_flag = False\n",
      "            for idx,child in enumerate(parent.children):\n",
      "                left,right = wallenius.partition_htest(n_parents[q_no],k_parents[q_no],child.size,alp)\n",
      "                child_elem = child.elements\n",
      "                actual = np.sum(data.T[child_elem,q_no]>0)\n",
      "                if left == -1 and right == -1:\n",
      "                    continue\n",
      "                elif left == -1 and actual > right:\n",
      "                    inc_flag = True\n",
      "                    break\n",
      "                elif actual < left and right == -1:\n",
      "                    inc_flag = True\n",
      "                    break\n",
      "                elif actual < left or actual > right:\n",
      "                    inc_flag = True\n",
      "                    break\n",
      "            if not inc_flag:\n",
      "                new_coefs[nodes==parent.idx,q_no] = 0.0\n",
      "    print alp, error_rate(hb.dot(new_coefs).T,means)"
     ],
     "language": "python",
     "metadata": {},
     "outputs": [
      {
       "output_type": "stream",
       "stream": "stdout",
       "text": [
        "0.025 "
       ]
      },
      {
       "output_type": "stream",
       "stream": "stdout",
       "text": [
        "('L1: 125427.45430 -- L2:    302.12105', 125427.45429538544, 302.12105343696334)\n",
        "0.05"
       ]
      },
      {
       "output_type": "stream",
       "stream": "stdout",
       "text": [
        " ('L1: 123264.84695 -- L2:    298.76448', 123264.84695157973, 298.76447771543195)\n",
        "0.075"
       ]
      },
      {
       "output_type": "stream",
       "stream": "stdout",
       "text": [
        " ('L1: 122042.66705 -- L2:    297.00577', 122042.66704952026, 297.00576855514345)\n",
        "0.1"
       ]
      },
      {
       "output_type": "stream",
       "stream": "stdout",
       "text": [
        " ('L1: 121197.19495 -- L2:    295.71621', 121197.19495314322, 295.7162062518986)\n",
        "0.125"
       ]
      },
      {
       "output_type": "stream",
       "stream": "stdout",
       "text": [
        " ('L1: 120407.53721 -- L2:    294.55886', 120407.53720852332, 294.55886319168513)\n",
        "0.15"
       ]
      },
      {
       "output_type": "stream",
       "stream": "stdout",
       "text": [
        " ('L1: 119660.53879 -- L2:    293.45161', 119660.53879019513, 293.4516084866047)\n",
        "0.175"
       ]
      },
      {
       "output_type": "stream",
       "stream": "stdout",
       "text": [
        " ('L1: 118979.04971 -- L2:    292.62802', 118979.04971192566, 292.62801891819385)\n",
        "0.2"
       ]
      },
      {
       "output_type": "stream",
       "stream": "stdout",
       "text": [
        " ('L1: 118454.24273 -- L2:    292.06061', 118454.24272834843, 292.06061141416825)\n",
        "0.225"
       ]
      },
      {
       "output_type": "stream",
       "stream": "stdout",
       "text": [
        " ('L1: 118164.73038 -- L2:    291.68346', 118164.73037792175, 291.68345607047183)\n",
        "0.25"
       ]
      },
      {
       "output_type": "stream",
       "stream": "stdout",
       "text": [
        " ('L1: 117841.33909 -- L2:    291.29483', 117841.33909406998, 291.29482740339938)\n",
        "0.275"
       ]
      },
      {
       "output_type": "stream",
       "stream": "stdout",
       "text": [
        " ('L1: 117546.67921 -- L2:    290.95152', 117546.67920789117, 290.95151984730404)\n",
        "0.3"
       ]
      },
      {
       "output_type": "stream",
       "stream": "stdout",
       "text": [
        " ('L1: 117417.94364 -- L2:    291.08283', 117417.94363980637, 291.08283150061573)\n",
        "0.325"
       ]
      },
      {
       "output_type": "stream",
       "stream": "stdout",
       "text": [
        " ('L1: 117224.46511 -- L2:    290.89772', 117224.46510750912, 290.89771995006618)\n",
        "0.35"
       ]
      },
      {
       "output_type": "stream",
       "stream": "stdout",
       "text": [
        " ('L1: 122995.51580 -- L2:    309.65977', 122995.51580208144, 309.65977123484669)\n",
        "0.375"
       ]
      },
      {
       "output_type": "stream",
       "stream": "stdout",
       "text": [
        " ('L1: 122847.13081 -- L2:    309.41269', 122847.13081204779, 309.41269276401528)\n",
        "0.4"
       ]
      },
      {
       "output_type": "stream",
       "stream": "stdout",
       "text": [
        " ('L1: 123835.63831 -- L2:    312.50900', 123835.63830682963, 312.50900494767222)\n",
        "0.425"
       ]
      },
      {
       "output_type": "stream",
       "stream": "stdout",
       "text": [
        " ('L1: 124751.43628 -- L2:    315.31122', 124751.43628029805, 315.31122019480352)\n",
        "0.45"
       ]
      },
      {
       "output_type": "stream",
       "stream": "stdout",
       "text": [
        " ('L1: 124603.31282 -- L2:    315.07529', 124603.31282408068, 315.07528743283052)\n",
        "0.475"
       ]
      },
      {
       "output_type": "stream",
       "stream": "stdout",
       "text": [
        " ('L1: 124565.22254 -- L2:    315.04484', 124565.22253741932, 315.044837559352)\n"
       ]
      }
     ],
     "prompt_number": 201
    },
    {
     "cell_type": "code",
     "collapsed": false,
     "input": [
      "#1D Hypothesis testing for coefficients\n",
      "for alp in np.arange(0.1,0.5,0.025):\n",
      "    hrecon = tree_recon.recon_1d_partition_hypo_test(data.T,col_tree,alp).T\n",
      "    herror = error_rate(hrecon,means)\n",
      "    print \"{0:4.3f}: Hypergeometric hypothesis test: {1}\".format(alp,herror[0])"
     ],
     "language": "python",
     "metadata": {},
     "outputs": [
      {
       "output_type": "stream",
       "stream": "stdout",
       "text": [
        "0.100: Hypergeometric hypothesis test: L1: 121197.19495 -- L2:    295.71621\n",
        "0.125: Hypergeometric hypothesis test: L1: 120407.53721 -- L2:    294.55886"
       ]
      },
      {
       "output_type": "stream",
       "stream": "stdout",
       "text": [
        "\n",
        "0.150: Hypergeometric hypothesis test: L1: 119660.53879 -- L2:    293.45161"
       ]
      },
      {
       "output_type": "stream",
       "stream": "stdout",
       "text": [
        "\n",
        "0.175: Hypergeometric hypothesis test: L1: 118979.04971 -- L2:    292.62802"
       ]
      },
      {
       "output_type": "stream",
       "stream": "stdout",
       "text": [
        "\n",
        "0.200: Hypergeometric hypothesis test: L1: 118454.24273 -- L2:    292.06061"
       ]
      },
      {
       "output_type": "stream",
       "stream": "stdout",
       "text": [
        "\n",
        "0.225: Hypergeometric hypothesis test: L1: 118164.73038 -- L2:    291.68346"
       ]
      },
      {
       "output_type": "stream",
       "stream": "stdout",
       "text": [
        "\n",
        "0.250: Hypergeometric hypothesis test: L1: 117841.33909 -- L2:    291.29483"
       ]
      },
      {
       "output_type": "stream",
       "stream": "stdout",
       "text": [
        "\n",
        "0.275: Hypergeometric hypothesis test: L1: 117546.67921 -- L2:    290.95152"
       ]
      },
      {
       "output_type": "stream",
       "stream": "stdout",
       "text": [
        "\n",
        "0.300: Hypergeometric hypothesis test: L1: 117417.94364 -- L2:    291.08283"
       ]
      },
      {
       "output_type": "stream",
       "stream": "stdout",
       "text": [
        "\n",
        "0.325: Hypergeometric hypothesis test: L1: 117224.46511 -- L2:    290.89772"
       ]
      },
      {
       "output_type": "stream",
       "stream": "stdout",
       "text": [
        "\n",
        "0.350: Hypergeometric hypothesis test: L1: 122995.51580 -- L2:    309.65977"
       ]
      },
      {
       "output_type": "stream",
       "stream": "stdout",
       "text": [
        "\n",
        "0.375: Hypergeometric hypothesis test: L1: 122847.13081 -- L2:    309.41269"
       ]
      },
      {
       "output_type": "stream",
       "stream": "stdout",
       "text": [
        "\n",
        "0.400: Hypergeometric hypothesis test: L1: 123835.63831 -- L2:    312.50900"
       ]
      },
      {
       "output_type": "stream",
       "stream": "stdout",
       "text": [
        "\n",
        "0.425: Hypergeometric hypothesis test: L1: 124751.43628 -- L2:    315.31122"
       ]
      },
      {
       "output_type": "stream",
       "stream": "stdout",
       "text": [
        "\n",
        "0.450: Hypergeometric hypothesis test: L1: 124603.31282 -- L2:    315.07529"
       ]
      },
      {
       "output_type": "stream",
       "stream": "stdout",
       "text": [
        "\n",
        "0.475: Hypergeometric hypothesis test: L1: 124565.22254 -- L2:    315.04484"
       ]
      },
      {
       "output_type": "stream",
       "stream": "stdout",
       "text": [
        "\n"
       ]
      }
     ],
     "prompt_number": 151
    },
    {
     "cell_type": "code",
     "collapsed": false,
     "input": [
      "reload(tree_recon)\n",
      "coefs,hrecon = tree_recon.recon_1d_partition_hypo_test2(data[:,:].T,t,0.2)"
     ],
     "language": "python",
     "metadata": {},
     "outputs": [],
     "prompt_number": 149
    },
    {
     "cell_type": "code",
     "collapsed": false,
     "input": [
      "coefs"
     ],
     "language": "python",
     "metadata": {},
     "outputs": [
      {
       "output_type": "pyout",
       "prompt_number": 143,
       "text": [
        "array([[ 0.01757812,  0.04492188,  0.01757812, ..., -0.01953125,\n",
        "         0.03515625, -0.01171875],\n",
        "       [ 0.        , -0.05273438,  0.        , ...,  0.        ,\n",
        "         0.        ,  0.        ],\n",
        "       [ 0.        ,  0.05273438,  0.        , ...,  0.        ,\n",
        "         0.        ,  0.        ],\n",
        "       ..., \n",
        "       [ 0.        ,  0.        ,  0.        , ...,  0.        ,\n",
        "         0.        ,  0.        ],\n",
        "       [ 0.        ,  0.        ,  0.        , ...,  0.        ,\n",
        "         0.        ,  0.        ],\n",
        "       [ 0.        ,  0.        ,  0.        , ...,  0.        ,\n",
        "         0.        ,  0.        ]])"
       ]
      }
     ],
     "prompt_number": 143
    },
    {
     "cell_type": "code",
     "collapsed": false,
     "input": [
      "tcoefs = tree_util.tree_transform(data.T,col_tree)\n",
      "herror = error_rate(hrecon.T,means)\n",
      "print \"{0:4.3f}: Hypergeometric hypothesis test: {1}\".format(0.2,herror[0])\n",
      "plt.imshow(coefs.T,aspect='auto',interpolation='nearest',norm=cnorm,cmap=cmap)\n",
      "plt.show()"
     ],
     "language": "python",
     "metadata": {},
     "outputs": [
      {
       "output_type": "stream",
       "stream": "stdout",
       "text": [
        "0.200: Hypergeometric hypothesis test: L1: 151529.55186 -- L2:    348.02299\n"
       ]
      }
     ],
     "prompt_number": 150
    },
    {
     "cell_type": "code",
     "collapsed": false,
     "input": [
      "fig = plt.figure()\n",
      "fig.add_subplot(211)\n",
      "plt.imshow(barcode.organize_folders(row_tree,col_tree,hrecon.T - means),aspect='auto',interpolation='nearest',norm=cnorm,cmap=bwmap)\n",
      "fig.add_subplot(212)\n",
      "plt.imshow(barcode.organize_folders(row_tree,col_tree,means),aspect='auto',interpolation='nearest',norm=cnorm,cmap=bwmap)\n",
      "plt.show()"
     ],
     "language": "python",
     "metadata": {},
     "outputs": [],
     "prompt_number": 137
    },
    {
     "cell_type": "code",
     "collapsed": false,
     "input": [
      "#1D Hypothesis testing for coefficients (style 2)\n",
      "for alp in np.arange(0.1,0.5,0.025):\n",
      "    hrecon = tree_recon.recon_1d_partition_hypo_test2(data.T,col_tree,alp).T\n",
      "    herror = error_rate(hrecon,means)\n",
      "    print \"{0:4.3f}: Hypergeometric hypothesis test: {1}\".format(alp,herror[0])"
     ],
     "language": "python",
     "metadata": {},
     "outputs": [
      {
       "output_type": "stream",
       "stream": "stdout",
       "text": [
        "0.100: Hypergeometric hypothesis test: L1: 143400.06675 -- L2:    342.15082\n",
        "0.125: Hypergeometric hypothesis test: L1: 142992.15502 -- L2:    341.97975"
       ]
      },
      {
       "output_type": "stream",
       "stream": "stdout",
       "text": [
        "\n",
        "0.150: Hypergeometric hypothesis test: L1: 142668.88346 -- L2:    341.82699"
       ]
      },
      {
       "output_type": "stream",
       "stream": "stdout",
       "text": [
        "\n",
        "0.175: Hypergeometric hypothesis test: L1: 142403.96245 -- L2:    341.94105"
       ]
      },
      {
       "output_type": "stream",
       "stream": "stdout",
       "text": [
        "\n",
        "0.200: Hypergeometric hypothesis test: L1: 142063.84132 -- L2:    341.91498"
       ]
      },
      {
       "ename": "KeyboardInterrupt",
       "evalue": "",
       "output_type": "pyerr",
       "traceback": [
        "\u001b[1;31m---------------------------------------------------------------------------\u001b[0m\n\u001b[1;31mKeyboardInterrupt\u001b[0m                         Traceback (most recent call last)",
        "\u001b[1;32m<ipython-input-82-110890b6b97c>\u001b[0m in \u001b[0;36m<module>\u001b[1;34m()\u001b[0m\n\u001b[0;32m      1\u001b[0m \u001b[1;31m#1D Hypothesis testing for coefficients (style 2)\u001b[0m\u001b[1;33m\u001b[0m\u001b[1;33m\u001b[0m\u001b[0m\n\u001b[0;32m      2\u001b[0m \u001b[1;32mfor\u001b[0m \u001b[0malp\u001b[0m \u001b[1;32min\u001b[0m \u001b[0mnp\u001b[0m\u001b[1;33m.\u001b[0m\u001b[0marange\u001b[0m\u001b[1;33m(\u001b[0m\u001b[1;36m0.1\u001b[0m\u001b[1;33m,\u001b[0m\u001b[1;36m0.5\u001b[0m\u001b[1;33m,\u001b[0m\u001b[1;36m0.025\u001b[0m\u001b[1;33m)\u001b[0m\u001b[1;33m:\u001b[0m\u001b[1;33m\u001b[0m\u001b[0m\n\u001b[1;32m----> 3\u001b[1;33m     \u001b[0mhrecon\u001b[0m \u001b[1;33m=\u001b[0m \u001b[0mtree_recon\u001b[0m\u001b[1;33m.\u001b[0m\u001b[0mrecon_1d_partition_hypo_test2\u001b[0m\u001b[1;33m(\u001b[0m\u001b[0mdata\u001b[0m\u001b[1;33m.\u001b[0m\u001b[0mT\u001b[0m\u001b[1;33m,\u001b[0m\u001b[0mcol_tree\u001b[0m\u001b[1;33m,\u001b[0m\u001b[0malp\u001b[0m\u001b[1;33m)\u001b[0m\u001b[1;33m.\u001b[0m\u001b[0mT\u001b[0m\u001b[1;33m\u001b[0m\u001b[0m\n\u001b[0m\u001b[0;32m      4\u001b[0m     \u001b[0mherror\u001b[0m \u001b[1;33m=\u001b[0m \u001b[0merror_rate\u001b[0m\u001b[1;33m(\u001b[0m\u001b[0mhrecon\u001b[0m\u001b[1;33m,\u001b[0m\u001b[0mmeans\u001b[0m\u001b[1;33m)\u001b[0m\u001b[1;33m\u001b[0m\u001b[0m\n\u001b[0;32m      5\u001b[0m     \u001b[1;32mprint\u001b[0m \u001b[1;34m\"{0:4.3f}: Hypergeometric hypothesis test: {1}\"\u001b[0m\u001b[1;33m.\u001b[0m\u001b[0mformat\u001b[0m\u001b[1;33m(\u001b[0m\u001b[0malp\u001b[0m\u001b[1;33m,\u001b[0m\u001b[0mherror\u001b[0m\u001b[1;33m[\u001b[0m\u001b[1;36m0\u001b[0m\u001b[1;33m]\u001b[0m\u001b[1;33m)\u001b[0m\u001b[1;33m\u001b[0m\u001b[0m\n",
        "\u001b[1;32mC:\\Users\\jerrod\\Google Drive\\Yale_Research\\pyquest\\src\\tree_recon.py\u001b[0m in \u001b[0;36mrecon_1d_partition_hypo_test2\u001b[1;34m(data, row_tree, alpha)\u001b[0m\n\u001b[0;32m    105\u001b[0m                     \u001b[0mleft\u001b[0m\u001b[1;33m,\u001b[0m\u001b[0mright\u001b[0m \u001b[1;33m=\u001b[0m \u001b[0mtempdict\u001b[0m\u001b[1;33m[\u001b[0m\u001b[0mhgt\u001b[0m\u001b[1;33m]\u001b[0m\u001b[1;33m\u001b[0m\u001b[0m\n\u001b[0;32m    106\u001b[0m                 \u001b[1;32melse\u001b[0m\u001b[1;33m:\u001b[0m\u001b[1;33m\u001b[0m\u001b[0m\n\u001b[1;32m--> 107\u001b[1;33m                     \u001b[0mleft\u001b[0m\u001b[1;33m,\u001b[0m\u001b[0mright\u001b[0m \u001b[1;33m=\u001b[0m \u001b[0mwallenius\u001b[0m\u001b[1;33m.\u001b[0m\u001b[0mpartition_htest\u001b[0m\u001b[1;33m(\u001b[0m\u001b[1;33m*\u001b[0m\u001b[0mhgt\u001b[0m\u001b[1;33m,\u001b[0m\u001b[0malpha\u001b[0m\u001b[1;33m=\u001b[0m\u001b[0malpha\u001b[0m\u001b[1;33m)\u001b[0m\u001b[1;33m\u001b[0m\u001b[0m\n\u001b[0m\u001b[0;32m    108\u001b[0m                     \u001b[0mtempdict\u001b[0m\u001b[1;33m[\u001b[0m\u001b[0mhgt\u001b[0m\u001b[1;33m]\u001b[0m \u001b[1;33m=\u001b[0m \u001b[1;33m(\u001b[0m\u001b[0mleft\u001b[0m\u001b[1;33m,\u001b[0m\u001b[0mright\u001b[0m\u001b[1;33m)\u001b[0m\u001b[1;33m\u001b[0m\u001b[0m\n\u001b[0;32m    109\u001b[0m                 \u001b[0mactual\u001b[0m \u001b[1;33m=\u001b[0m \u001b[0mk_values\u001b[0m\u001b[1;33m[\u001b[0m\u001b[0mchild\u001b[0m\u001b[1;33m.\u001b[0m\u001b[0midx\u001b[0m\u001b[1;33m,\u001b[0m\u001b[0mq_no\u001b[0m\u001b[1;33m]\u001b[0m\u001b[1;33m\u001b[0m\u001b[0m\n",
        "\u001b[1;32mC:\\Users\\jerrod\\Google Drive\\Yale_Research\\pyquest\\src\\wallenius.pyc\u001b[0m in \u001b[0;36mpartition_htest\u001b[1;34m(n_parent, k_parent, n_child, alpha)\u001b[0m\n\u001b[0;32m     37\u001b[0m     \"\"\"\n\u001b[0;32m     38\u001b[0m     \u001b[0mhg\u001b[0m \u001b[1;33m=\u001b[0m \u001b[0mspst\u001b[0m\u001b[1;33m.\u001b[0m\u001b[0mhypergeom\u001b[0m\u001b[1;33m(\u001b[0m\u001b[0mn_parent\u001b[0m\u001b[1;33m,\u001b[0m\u001b[0mk_parent\u001b[0m\u001b[1;33m,\u001b[0m\u001b[0mn_child\u001b[0m\u001b[1;33m)\u001b[0m\u001b[1;33m\u001b[0m\u001b[0m\n\u001b[1;32m---> 39\u001b[1;33m     \u001b[0mc\u001b[0m \u001b[1;33m=\u001b[0m \u001b[0mhg\u001b[0m\u001b[1;33m.\u001b[0m\u001b[0mcdf\u001b[0m\u001b[1;33m(\u001b[0m\u001b[0mrange\u001b[0m\u001b[1;33m(\u001b[0m\u001b[0mn_child\u001b[0m\u001b[1;33m)\u001b[0m\u001b[1;33m)\u001b[0m\u001b[1;33m\u001b[0m\u001b[0m\n\u001b[0m\u001b[0;32m     40\u001b[0m     \u001b[0mleft_accepts\u001b[0m \u001b[1;33m=\u001b[0m \u001b[0mnp\u001b[0m\u001b[1;33m.\u001b[0m\u001b[0mwhere\u001b[0m\u001b[1;33m(\u001b[0m\u001b[0mc\u001b[0m\u001b[1;33m<\u001b[0m\u001b[0malpha\u001b[0m\u001b[1;33m/\u001b[0m\u001b[1;36m2.0\u001b[0m\u001b[1;33m)\u001b[0m\u001b[1;33m[\u001b[0m\u001b[1;36m0\u001b[0m\u001b[1;33m]\u001b[0m\u001b[1;33m\u001b[0m\u001b[0m\n\u001b[0;32m     41\u001b[0m     \u001b[1;32mif\u001b[0m \u001b[0mlen\u001b[0m\u001b[1;33m(\u001b[0m\u001b[0mleft_accepts\u001b[0m\u001b[1;33m)\u001b[0m\u001b[1;33m>\u001b[0m\u001b[1;36m0\u001b[0m\u001b[1;33m:\u001b[0m\u001b[1;33m\u001b[0m\u001b[0m\n",
        "\u001b[1;32mC:\\Python27\\lib\\site-packages\\scipy\\stats\\distributions.pyc\u001b[0m in \u001b[0;36mcdf\u001b[1;34m(self, x)\u001b[0m\n\u001b[0;32m    451\u001b[0m \u001b[1;33m\u001b[0m\u001b[0m\n\u001b[0;32m    452\u001b[0m     \u001b[1;32mdef\u001b[0m \u001b[0mcdf\u001b[0m\u001b[1;33m(\u001b[0m\u001b[0mself\u001b[0m\u001b[1;33m,\u001b[0m \u001b[0mx\u001b[0m\u001b[1;33m)\u001b[0m\u001b[1;33m:\u001b[0m\u001b[1;33m\u001b[0m\u001b[0m\n\u001b[1;32m--> 453\u001b[1;33m         \u001b[1;32mreturn\u001b[0m \u001b[0mself\u001b[0m\u001b[1;33m.\u001b[0m\u001b[0mdist\u001b[0m\u001b[1;33m.\u001b[0m\u001b[0mcdf\u001b[0m\u001b[1;33m(\u001b[0m\u001b[0mx\u001b[0m\u001b[1;33m,\u001b[0m \u001b[1;33m*\u001b[0m\u001b[0mself\u001b[0m\u001b[1;33m.\u001b[0m\u001b[0margs\u001b[0m\u001b[1;33m,\u001b[0m \u001b[1;33m**\u001b[0m\u001b[0mself\u001b[0m\u001b[1;33m.\u001b[0m\u001b[0mkwds\u001b[0m\u001b[1;33m)\u001b[0m\u001b[1;33m\u001b[0m\u001b[0m\n\u001b[0m\u001b[0;32m    454\u001b[0m \u001b[1;33m\u001b[0m\u001b[0m\n\u001b[0;32m    455\u001b[0m     \u001b[1;32mdef\u001b[0m \u001b[0mlogcdf\u001b[0m\u001b[1;33m(\u001b[0m\u001b[0mself\u001b[0m\u001b[1;33m,\u001b[0m \u001b[0mx\u001b[0m\u001b[1;33m)\u001b[0m\u001b[1;33m:\u001b[0m\u001b[1;33m\u001b[0m\u001b[0m\n",
        "\u001b[1;32mC:\\Python27\\lib\\site-packages\\scipy\\stats\\distributions.pyc\u001b[0m in \u001b[0;36mcdf\u001b[1;34m(self, k, *args, **kwds)\u001b[0m\n\u001b[0;32m   5968\u001b[0m         \u001b[1;32mif\u001b[0m \u001b[0many\u001b[0m\u001b[1;33m(\u001b[0m\u001b[0mcond\u001b[0m\u001b[1;33m)\u001b[0m\u001b[1;33m:\u001b[0m\u001b[1;33m\u001b[0m\u001b[0m\n\u001b[0;32m   5969\u001b[0m             \u001b[0mgoodargs\u001b[0m \u001b[1;33m=\u001b[0m \u001b[0margsreduce\u001b[0m\u001b[1;33m(\u001b[0m\u001b[0mcond\u001b[0m\u001b[1;33m,\u001b[0m \u001b[1;33m*\u001b[0m\u001b[1;33m(\u001b[0m\u001b[1;33m(\u001b[0m\u001b[0mk\u001b[0m\u001b[1;33m,\u001b[0m\u001b[1;33m)\u001b[0m\u001b[1;33m+\u001b[0m\u001b[0margs\u001b[0m\u001b[1;33m)\u001b[0m\u001b[1;33m)\u001b[0m\u001b[1;33m\u001b[0m\u001b[0m\n\u001b[1;32m-> 5970\u001b[1;33m             \u001b[0mplace\u001b[0m\u001b[1;33m(\u001b[0m\u001b[0moutput\u001b[0m\u001b[1;33m,\u001b[0m\u001b[0mcond\u001b[0m\u001b[1;33m,\u001b[0m\u001b[0mself\u001b[0m\u001b[1;33m.\u001b[0m\u001b[0m_cdf\u001b[0m\u001b[1;33m(\u001b[0m\u001b[1;33m*\u001b[0m\u001b[0mgoodargs\u001b[0m\u001b[1;33m)\u001b[0m\u001b[1;33m)\u001b[0m\u001b[1;33m\u001b[0m\u001b[0m\n\u001b[0m\u001b[0;32m   5971\u001b[0m         \u001b[1;32mif\u001b[0m \u001b[0moutput\u001b[0m\u001b[1;33m.\u001b[0m\u001b[0mndim\u001b[0m \u001b[1;33m==\u001b[0m \u001b[1;36m0\u001b[0m\u001b[1;33m:\u001b[0m\u001b[1;33m\u001b[0m\u001b[0m\n\u001b[0;32m   5972\u001b[0m             \u001b[1;32mreturn\u001b[0m \u001b[0moutput\u001b[0m\u001b[1;33m[\u001b[0m\u001b[1;33m(\u001b[0m\u001b[1;33m)\u001b[0m\u001b[1;33m]\u001b[0m\u001b[1;33m\u001b[0m\u001b[0m\n",
        "\u001b[1;32mC:\\Python27\\lib\\site-packages\\scipy\\stats\\distributions.pyc\u001b[0m in \u001b[0;36m_cdf\u001b[1;34m(self, x, *args)\u001b[0m\n\u001b[0;32m   5811\u001b[0m     \u001b[1;32mdef\u001b[0m \u001b[0m_cdf\u001b[0m\u001b[1;33m(\u001b[0m\u001b[0mself\u001b[0m\u001b[1;33m,\u001b[0m \u001b[0mx\u001b[0m\u001b[1;33m,\u001b[0m \u001b[1;33m*\u001b[0m\u001b[0margs\u001b[0m\u001b[1;33m)\u001b[0m\u001b[1;33m:\u001b[0m\u001b[1;33m\u001b[0m\u001b[0m\n\u001b[0;32m   5812\u001b[0m         \u001b[0mk\u001b[0m \u001b[1;33m=\u001b[0m \u001b[0mfloor\u001b[0m\u001b[1;33m(\u001b[0m\u001b[0mx\u001b[0m\u001b[1;33m)\u001b[0m\u001b[1;33m\u001b[0m\u001b[0m\n\u001b[1;32m-> 5813\u001b[1;33m         \u001b[1;32mreturn\u001b[0m \u001b[0mself\u001b[0m\u001b[1;33m.\u001b[0m\u001b[0m_cdfvec\u001b[0m\u001b[1;33m(\u001b[0m\u001b[0mk\u001b[0m\u001b[1;33m,\u001b[0m\u001b[1;33m*\u001b[0m\u001b[0margs\u001b[0m\u001b[1;33m)\u001b[0m\u001b[1;33m\u001b[0m\u001b[0m\n\u001b[0m\u001b[0;32m   5814\u001b[0m \u001b[1;33m\u001b[0m\u001b[0m\n\u001b[0;32m   5815\u001b[0m     \u001b[1;32mdef\u001b[0m \u001b[0m_logcdf\u001b[0m\u001b[1;33m(\u001b[0m\u001b[0mself\u001b[0m\u001b[1;33m,\u001b[0m \u001b[0mx\u001b[0m\u001b[1;33m,\u001b[0m \u001b[1;33m*\u001b[0m\u001b[0margs\u001b[0m\u001b[1;33m)\u001b[0m\u001b[1;33m:\u001b[0m\u001b[1;33m\u001b[0m\u001b[0m\n",
        "\u001b[1;32mC:\\Python27\\lib\\site-packages\\numpy\\lib\\function_base.pyc\u001b[0m in \u001b[0;36m__call__\u001b[1;34m(self, *args, **kwargs)\u001b[0m\n\u001b[0;32m   1871\u001b[0m             \u001b[0mvargs\u001b[0m\u001b[1;33m.\u001b[0m\u001b[0mextend\u001b[0m\u001b[1;33m(\u001b[0m\u001b[1;33m[\u001b[0m\u001b[0mkwargs\u001b[0m\u001b[1;33m[\u001b[0m\u001b[0m_n\u001b[0m\u001b[1;33m]\u001b[0m \u001b[1;32mfor\u001b[0m \u001b[0m_n\u001b[0m \u001b[1;32min\u001b[0m \u001b[0mnames\u001b[0m\u001b[1;33m]\u001b[0m\u001b[1;33m)\u001b[0m\u001b[1;33m\u001b[0m\u001b[0m\n\u001b[0;32m   1872\u001b[0m \u001b[1;33m\u001b[0m\u001b[0m\n\u001b[1;32m-> 1873\u001b[1;33m         \u001b[1;32mreturn\u001b[0m \u001b[0mself\u001b[0m\u001b[1;33m.\u001b[0m\u001b[0m_vectorize_call\u001b[0m\u001b[1;33m(\u001b[0m\u001b[0mfunc\u001b[0m\u001b[1;33m=\u001b[0m\u001b[0mfunc\u001b[0m\u001b[1;33m,\u001b[0m \u001b[0margs\u001b[0m\u001b[1;33m=\u001b[0m\u001b[0mvargs\u001b[0m\u001b[1;33m)\u001b[0m\u001b[1;33m\u001b[0m\u001b[0m\n\u001b[0m\u001b[0;32m   1874\u001b[0m \u001b[1;33m\u001b[0m\u001b[0m\n\u001b[0;32m   1875\u001b[0m     \u001b[1;32mdef\u001b[0m \u001b[0m_get_ufunc_and_otypes\u001b[0m\u001b[1;33m(\u001b[0m\u001b[0mself\u001b[0m\u001b[1;33m,\u001b[0m \u001b[0mfunc\u001b[0m\u001b[1;33m,\u001b[0m \u001b[0margs\u001b[0m\u001b[1;33m)\u001b[0m\u001b[1;33m:\u001b[0m\u001b[1;33m\u001b[0m\u001b[0m\n",
        "\u001b[1;32mC:\\Python27\\lib\\site-packages\\numpy\\lib\\function_base.pyc\u001b[0m in \u001b[0;36m_vectorize_call\u001b[1;34m(self, func, args)\u001b[0m\n\u001b[0;32m   1937\u001b[0m                       for _a in args]            \n\u001b[0;32m   1938\u001b[0m \u001b[1;33m\u001b[0m\u001b[0m\n\u001b[1;32m-> 1939\u001b[1;33m             \u001b[0moutputs\u001b[0m \u001b[1;33m=\u001b[0m \u001b[0mufunc\u001b[0m\u001b[1;33m(\u001b[0m\u001b[1;33m*\u001b[0m\u001b[0minputs\u001b[0m\u001b[1;33m)\u001b[0m\u001b[1;33m\u001b[0m\u001b[0m\n\u001b[0m\u001b[0;32m   1940\u001b[0m \u001b[1;33m\u001b[0m\u001b[0m\n\u001b[0;32m   1941\u001b[0m             \u001b[1;32mif\u001b[0m \u001b[0mufunc\u001b[0m\u001b[1;33m.\u001b[0m\u001b[0mnout\u001b[0m \u001b[1;33m==\u001b[0m \u001b[1;36m1\u001b[0m\u001b[1;33m:\u001b[0m\u001b[1;33m\u001b[0m\u001b[0m\n",
        "\u001b[1;32mC:\\Python27\\lib\\site-packages\\scipy\\stats\\distributions.pyc\u001b[0m in \u001b[0;36m_cdfsingle\u001b[1;34m(self, k, *args)\u001b[0m\n\u001b[0;32m   5807\u001b[0m     \u001b[1;32mdef\u001b[0m \u001b[0m_cdfsingle\u001b[0m\u001b[1;33m(\u001b[0m\u001b[0mself\u001b[0m\u001b[1;33m,\u001b[0m \u001b[0mk\u001b[0m\u001b[1;33m,\u001b[0m \u001b[1;33m*\u001b[0m\u001b[0margs\u001b[0m\u001b[1;33m)\u001b[0m\u001b[1;33m:\u001b[0m\u001b[1;33m\u001b[0m\u001b[0m\n\u001b[0;32m   5808\u001b[0m         \u001b[0mm\u001b[0m \u001b[1;33m=\u001b[0m \u001b[0marange\u001b[0m\u001b[1;33m(\u001b[0m\u001b[0mint\u001b[0m\u001b[1;33m(\u001b[0m\u001b[0mself\u001b[0m\u001b[1;33m.\u001b[0m\u001b[0ma\u001b[0m\u001b[1;33m)\u001b[0m\u001b[1;33m,\u001b[0m\u001b[0mk\u001b[0m\u001b[1;33m+\u001b[0m\u001b[1;36m1\u001b[0m\u001b[1;33m)\u001b[0m\u001b[1;33m\u001b[0m\u001b[0m\n\u001b[1;32m-> 5809\u001b[1;33m         \u001b[1;32mreturn\u001b[0m \u001b[0msum\u001b[0m\u001b[1;33m(\u001b[0m\u001b[0mself\u001b[0m\u001b[1;33m.\u001b[0m\u001b[0m_pmf\u001b[0m\u001b[1;33m(\u001b[0m\u001b[0mm\u001b[0m\u001b[1;33m,\u001b[0m\u001b[1;33m*\u001b[0m\u001b[0margs\u001b[0m\u001b[1;33m)\u001b[0m\u001b[1;33m,\u001b[0m\u001b[0maxis\u001b[0m\u001b[1;33m=\u001b[0m\u001b[1;36m0\u001b[0m\u001b[1;33m)\u001b[0m\u001b[1;33m\u001b[0m\u001b[0m\n\u001b[0m\u001b[0;32m   5810\u001b[0m \u001b[1;33m\u001b[0m\u001b[0m\n\u001b[0;32m   5811\u001b[0m     \u001b[1;32mdef\u001b[0m \u001b[0m_cdf\u001b[0m\u001b[1;33m(\u001b[0m\u001b[0mself\u001b[0m\u001b[1;33m,\u001b[0m \u001b[0mx\u001b[0m\u001b[1;33m,\u001b[0m \u001b[1;33m*\u001b[0m\u001b[0margs\u001b[0m\u001b[1;33m)\u001b[0m\u001b[1;33m:\u001b[0m\u001b[1;33m\u001b[0m\u001b[0m\n",
        "\u001b[1;32mC:\\Python27\\lib\\site-packages\\scipy\\stats\\distributions.pyc\u001b[0m in \u001b[0;36m_pmf\u001b[1;34m(self, k, M, n, N)\u001b[0m\n\u001b[0;32m   6763\u001b[0m         \u001b[1;31m#same as the following but numerically more precise\u001b[0m\u001b[1;33m\u001b[0m\u001b[1;33m\u001b[0m\u001b[0m\n\u001b[0;32m   6764\u001b[0m         \u001b[1;31m#return comb(good,k) * comb(bad,N-k) / comb(tot,N)\u001b[0m\u001b[1;33m\u001b[0m\u001b[1;33m\u001b[0m\u001b[0m\n\u001b[1;32m-> 6765\u001b[1;33m         \u001b[1;32mreturn\u001b[0m \u001b[0mexp\u001b[0m\u001b[1;33m(\u001b[0m\u001b[0mself\u001b[0m\u001b[1;33m.\u001b[0m\u001b[0m_logpmf\u001b[0m\u001b[1;33m(\u001b[0m\u001b[0mk\u001b[0m\u001b[1;33m,\u001b[0m \u001b[0mM\u001b[0m\u001b[1;33m,\u001b[0m \u001b[0mn\u001b[0m\u001b[1;33m,\u001b[0m \u001b[0mN\u001b[0m\u001b[1;33m)\u001b[0m\u001b[1;33m)\u001b[0m\u001b[1;33m\u001b[0m\u001b[0m\n\u001b[0m\u001b[0;32m   6766\u001b[0m     \u001b[1;32mdef\u001b[0m \u001b[0m_stats\u001b[0m\u001b[1;33m(\u001b[0m\u001b[0mself\u001b[0m\u001b[1;33m,\u001b[0m \u001b[0mM\u001b[0m\u001b[1;33m,\u001b[0m \u001b[0mn\u001b[0m\u001b[1;33m,\u001b[0m \u001b[0mN\u001b[0m\u001b[1;33m)\u001b[0m\u001b[1;33m:\u001b[0m\u001b[1;33m\u001b[0m\u001b[0m\n\u001b[0;32m   6767\u001b[0m         \u001b[0mtot\u001b[0m\u001b[1;33m,\u001b[0m \u001b[0mgood\u001b[0m \u001b[1;33m=\u001b[0m \u001b[0mM\u001b[0m\u001b[1;33m,\u001b[0m \u001b[0mn\u001b[0m\u001b[1;33m\u001b[0m\u001b[0m\n",
        "\u001b[1;32mC:\\Python27\\lib\\site-packages\\scipy\\stats\\distributions.pyc\u001b[0m in \u001b[0;36m_logpmf\u001b[1;34m(self, k, M, n, N)\u001b[0m\n\u001b[0;32m   6759\u001b[0m         \u001b[1;32mreturn\u001b[0m \u001b[0mgamln\u001b[0m\u001b[1;33m(\u001b[0m\u001b[0mgood\u001b[0m\u001b[1;33m+\u001b[0m\u001b[1;36m1\u001b[0m\u001b[1;33m)\u001b[0m \u001b[1;33m-\u001b[0m \u001b[0mgamln\u001b[0m\u001b[1;33m(\u001b[0m\u001b[0mgood\u001b[0m\u001b[1;33m-\u001b[0m\u001b[0mk\u001b[0m\u001b[1;33m+\u001b[0m\u001b[1;36m1\u001b[0m\u001b[1;33m)\u001b[0m \u001b[1;33m-\u001b[0m \u001b[0mgamln\u001b[0m\u001b[1;33m(\u001b[0m\u001b[0mk\u001b[0m\u001b[1;33m+\u001b[0m\u001b[1;36m1\u001b[0m\u001b[1;33m)\u001b[0m \u001b[1;33m+\u001b[0m \u001b[0mgamln\u001b[0m\u001b[1;33m(\u001b[0m\u001b[0mbad\u001b[0m\u001b[1;33m+\u001b[0m\u001b[1;36m1\u001b[0m\u001b[1;33m)\u001b[0m\u001b[0;31m \u001b[0m\u001b[0;31m\\\u001b[0m\u001b[1;33m\u001b[0m\u001b[0m\n\u001b[0;32m   6760\u001b[0m             \u001b[1;33m-\u001b[0m \u001b[0mgamln\u001b[0m\u001b[1;33m(\u001b[0m\u001b[0mbad\u001b[0m\u001b[1;33m-\u001b[0m\u001b[0mN\u001b[0m\u001b[1;33m+\u001b[0m\u001b[0mk\u001b[0m\u001b[1;33m+\u001b[0m\u001b[1;36m1\u001b[0m\u001b[1;33m)\u001b[0m \u001b[1;33m-\u001b[0m \u001b[0mgamln\u001b[0m\u001b[1;33m(\u001b[0m\u001b[0mN\u001b[0m\u001b[1;33m-\u001b[0m\u001b[0mk\u001b[0m\u001b[1;33m+\u001b[0m\u001b[1;36m1\u001b[0m\u001b[1;33m)\u001b[0m \u001b[1;33m-\u001b[0m \u001b[0mgamln\u001b[0m\u001b[1;33m(\u001b[0m\u001b[0mtot\u001b[0m\u001b[1;33m+\u001b[0m\u001b[1;36m1\u001b[0m\u001b[1;33m)\u001b[0m \u001b[1;33m+\u001b[0m \u001b[0mgamln\u001b[0m\u001b[1;33m(\u001b[0m\u001b[0mtot\u001b[0m\u001b[1;33m-\u001b[0m\u001b[0mN\u001b[0m\u001b[1;33m+\u001b[0m\u001b[1;36m1\u001b[0m\u001b[1;33m)\u001b[0m\u001b[0;31m \u001b[0m\u001b[0;31m\\\u001b[0m\u001b[1;33m\u001b[0m\u001b[0m\n\u001b[1;32m-> 6761\u001b[1;33m             \u001b[1;33m+\u001b[0m \u001b[0mgamln\u001b[0m\u001b[1;33m(\u001b[0m\u001b[0mN\u001b[0m\u001b[1;33m+\u001b[0m\u001b[1;36m1\u001b[0m\u001b[1;33m)\u001b[0m\u001b[1;33m\u001b[0m\u001b[0m\n\u001b[0m\u001b[0;32m   6762\u001b[0m     \u001b[1;32mdef\u001b[0m \u001b[0m_pmf\u001b[0m\u001b[1;33m(\u001b[0m\u001b[0mself\u001b[0m\u001b[1;33m,\u001b[0m \u001b[0mk\u001b[0m\u001b[1;33m,\u001b[0m \u001b[0mM\u001b[0m\u001b[1;33m,\u001b[0m \u001b[0mn\u001b[0m\u001b[1;33m,\u001b[0m \u001b[0mN\u001b[0m\u001b[1;33m)\u001b[0m\u001b[1;33m:\u001b[0m\u001b[1;33m\u001b[0m\u001b[0m\n\u001b[0;32m   6763\u001b[0m         \u001b[1;31m#same as the following but numerically more precise\u001b[0m\u001b[1;33m\u001b[0m\u001b[1;33m\u001b[0m\u001b[0m\n",
        "\u001b[1;31mKeyboardInterrupt\u001b[0m: "
       ]
      },
      {
       "output_type": "stream",
       "stream": "stdout",
       "text": [
        "\n"
       ]
      }
     ],
     "prompt_number": 82
    },
    {
     "cell_type": "code",
     "collapsed": false,
     "input": [
      "coefs = tree_util.tree_transform(data.T,col_tree)"
     ],
     "language": "python",
     "metadata": {},
     "outputs": [],
     "prompt_number": 7
    },
    {
     "cell_type": "code",
     "collapsed": false,
     "input": [
      "k_values = tree_util.tree_sums(data.T*(data.T > 0),col_tree).astype(np.int)"
     ],
     "language": "python",
     "metadata": {},
     "outputs": [],
     "prompt_number": 8
    },
    {
     "cell_type": "code",
     "collapsed": false,
     "input": [
      "reload(tree_recon)"
     ],
     "language": "python",
     "metadata": {},
     "outputs": [
      {
       "output_type": "pyout",
       "prompt_number": 81,
       "text": [
        "<module 'tree_recon' from 'tree_recon.py'>"
       ]
      }
     ],
     "prompt_number": 81
    },
    {
     "cell_type": "code",
     "collapsed": false,
     "input": [
      "col_tree.children"
     ],
     "language": "python",
     "metadata": {},
     "outputs": [
      {
       "output_type": "pyout",
       "prompt_number": 13,
       "text": [
        "[<tree.ClusterTreeNode at 0xdcaf080>,\n",
        " <tree.ClusterTreeNode at 0xdc7fc50>,\n",
        " <tree.ClusterTreeNode at 0xdd665f8>]"
       ]
      }
     ],
     "prompt_number": 13
    },
    {
     "cell_type": "code",
     "collapsed": false,
     "input": [
      "tempdict = {}\n",
      "q_no = 0\n",
      "alpha = 0.05\n",
      "parent = col_tree\n",
      "child_coefs = coefs[[x.idx for x in parent.children],q_no]\n",
      "coef_flags = []\n",
      "child_sizes = [x.size for x in parent.children]"
     ],
     "language": "python",
     "metadata": {},
     "outputs": [],
     "prompt_number": 74
    },
    {
     "cell_type": "code",
     "collapsed": false,
     "input": [
      "for child in parent.children:\n",
      "    hgt = (parent.size,k_values[parent.idx,q_no],child.size)\n",
      "    print hgt\n",
      "    if hgt in tempdict:\n",
      "        left,right = tempdict[hgt]\n",
      "    else:\n",
      "        left,right = wallenius.partition_htest(*hgt,alpha=alpha)\n",
      "        tempdict[hgt] = (left,right)\n",
      "    #print left,right\n",
      "    actual = k_values[child.idx,q_no]\n",
      "    if left == -1 and right == -1:\n",
      "        coef_flags.append(False)\n",
      "    elif left == -1 and actual > right:\n",
      "        coef_flags.append(True)\n",
      "    elif actual < left and right == -1:\n",
      "        coef_flags.append(True)\n",
      "    elif actual < left or actual > right:\n",
      "        coef_flags.append(True)\n",
      "    else:\n",
      "        coef_flags.append(False)\n",
      "    print actual, left, right, coef_flags[-1]\n"
     ],
     "language": "python",
     "metadata": {},
     "outputs": [
      {
       "output_type": "stream",
       "stream": "stdout",
       "text": [
        "(1024, 521, 412)\n",
        "219"
       ]
      },
      {
       "output_type": "stream",
       "stream": "stdout",
       "text": [
        " 193 225 False\n",
        "(1024, 521, 258)\n",
        "160"
       ]
      },
      {
       "output_type": "stream",
       "stream": "stdout",
       "text": [
        " 117 145 True\n",
        "(1024, 521, 354)\n",
        "142"
       ]
      },
      {
       "output_type": "stream",
       "stream": "stdout",
       "text": [
        " 164 195 True\n"
       ]
      }
     ],
     "prompt_number": 75
    },
    {
     "cell_type": "code",
     "collapsed": false,
     "input": [
      "excess = 0.0\n",
      "excess_weight = 0.0\n",
      "for idx,flag in enumerate(coef_flags):\n",
      "    if flag:\n",
      "        excess += child_coefs[idx]*child_sizes[idx]\n",
      "    else:\n",
      "        excess_weight += child_sizes[idx]\n",
      "for idx,flag in enumerate(coef_flags):\n",
      "    if not flag:\n",
      "        child_coefs[idx] = 0.0 - excess/excess_weight"
     ],
     "language": "python",
     "metadata": {},
     "outputs": [],
     "prompt_number": 76
    },
    {
     "cell_type": "code",
     "collapsed": false,
     "input": [
      "print excess,excess_weight\n",
      "print coef_flags\n",
      "print [x.idx for x in parent.children]\n",
      "print child_coefs\n",
      "print coefs[[x.idx for x in parent.children],q_no]"
     ],
     "language": "python",
     "metadata": {},
     "outputs": [
      {
       "output_type": "stream",
       "stream": "stdout",
       "text": [
        "-18.7578125 412.0\n",
        "[False, True, True]\n",
        "[2, 1, 3]\n",
        "[ 0.04552867  0.22273195 -0.21531824]\n",
        "[ 0.04552867  0.22273195 -0.21531824]\n"
       ]
      }
     ],
     "prompt_number": 77
    },
    {
     "cell_type": "code",
     "collapsed": false,
     "input": [
      "for q_no in xrange(data.shape[0]):\n",
      "    for parent in row_tree:\n",
      "        child_coefs = coefs[[x.idx for x in parent.children],q_no]\n",
      "        coef_flags = []\n",
      "        child_sizes = [x.size for x in parent.children]\n",
      "        for child in parent.children:\n",
      "            hgt = (parent.size,k_values[parent.idx,q_no],child.size)\n",
      "            if hgt in tempdict:\n",
      "                left,right = tempdict[hgt]\n",
      "            else:\n",
      "                left,right = wallenius.partition_htest(*hgt,alpha=alpha)\n",
      "                tempdict[hgt] = (left,right)\n",
      "            actual = k_values[child.idx,q_no]\n",
      "            if left == -1 and right == -1:\n",
      "                coef_flags.append(False)\n",
      "            elif left == -1 and actual > right:\n",
      "                coef_flags.append(True)\n",
      "            elif actual < left and right == -1:\n",
      "                coef_flags.append(True)\n",
      "            elif actual < left or actual > right:\n",
      "                coef_flags.append(True)\n",
      "            else:\n",
      "                coef_flags.append(False)\n",
      "        excess = 0.0\n",
      "        excess_weight = 0.0\n",
      "        for idx,flag in enumerate(coef_flags):\n",
      "            if flag:\n",
      "                excess += child_coefs[idx]*child_sizes[idx]\n",
      "            else:\n",
      "                excess_weight += child_sizes[idx]\n",
      "        for idx,flag in enumerate(coef_flags):\n",
      "            if not flag:\n",
      "                child_coefs[idx] = 0.0 + excess*child_sizes[idx]/excess_weight"
     ],
     "language": "python",
     "metadata": {},
     "outputs": []
    },
    {
     "cell_type": "code",
     "collapsed": false,
     "input": [
      "t = tree.dyadic_tree(10)"
     ],
     "language": "python",
     "metadata": {},
     "outputs": [],
     "prompt_number": 138
    },
    {
     "cell_type": "code",
     "collapsed": false,
     "input": [
      "t.size"
     ],
     "language": "python",
     "metadata": {},
     "outputs": [
      {
       "output_type": "pyout",
       "prompt_number": 139,
       "text": [
        "1024"
       ]
      }
     ],
     "prompt_number": 139
    },
    {
     "cell_type": "code",
     "collapsed": false,
     "input": [
      "print len([0]*100+[1]*200+[2]*50+[3]*100)\n",
      "t.make_index()"
     ],
     "language": "python",
     "metadata": {},
     "outputs": [
      {
       "output_type": "stream",
       "stream": "stdout",
       "text": [
        "450\n"
       ]
      }
     ],
     "prompt_number": 53
    },
    {
     "cell_type": "code",
     "collapsed": false,
     "input": [
      "tdata = [1]*40 + [-1]*60 + [1]*90 + [-1]*110 + [1]*45 + [-1]*5 + [1]*50 + [-1]*50\n",
      "child_coefs = tree_util.tree_transform(np.array(tdata),t)[1:5]"
     ],
     "language": "python",
     "metadata": {},
     "outputs": [],
     "prompt_number": 70
    },
    {
     "cell_type": "code",
     "collapsed": false,
     "input": [
      "coef_flags = [False,False,True,True]\n",
      "child_sizes = [x.size for x in t.children]\n",
      "excess = 0.0\n",
      "excess_weight = 0.0\n",
      "for idx,flag in enumerate(coef_flags):\n",
      "    if flag:\n",
      "        excess += child_coefs[idx]*child_sizes[idx]\n",
      "    else:\n",
      "        excess_weight += child_sizes[idx]\n",
      "for idx,flag in enumerate(coef_flags):\n",
      "    if not flag:\n",
      "        child_coefs[idx] = 0.0 - excess/excess_weight"
     ],
     "language": "python",
     "metadata": {},
     "outputs": [],
     "prompt_number": 71
    },
    {
     "cell_type": "code",
     "collapsed": false,
     "input": [
      "child_coefs"
     ],
     "language": "python",
     "metadata": {},
     "outputs": [
      {
       "output_type": "pyout",
       "prompt_number": 72,
       "text": [
        "array([-0.13333333, -0.13333333,  0.8       ,  0.        ])"
       ]
      }
     ],
     "prompt_number": 72
    },
    {
     "cell_type": "code",
     "collapsed": false,
     "input": [
      "print excess"
     ],
     "language": "python",
     "metadata": {},
     "outputs": [
      {
       "output_type": "stream",
       "stream": "stdout",
       "text": [
        "0.0\n"
       ]
      }
     ],
     "prompt_number": 69
    },
    {
     "cell_type": "code",
     "collapsed": false,
     "input": [
      "c0 = coefs[:,0]"
     ],
     "language": "python",
     "metadata": {},
     "outputs": [],
     "prompt_number": 112
    },
    {
     "cell_type": "code",
     "collapsed": false,
     "input": [
      "col_tree.disp_tree_folder_sizes()"
     ],
     "language": "python",
     "metadata": {},
     "outputs": [
      {
       "output_type": "stream",
       "stream": "stdout",
       "text": [
        "0 [1024]\n",
        "1 [258, 354, 412]\n",
        "2 [32, 53, 62, 65, 73, 81, 84, 88, 89, 97, 99, 100, 101]\n",
        "3 [10, 10, 11, 12, 12, 12, 13, 13, 14, 14, 15, 16, 16, 16, 16, 16, 16, 17, 17, 18, 18, 20, 20, 20, 21, 21, 21, 21, 21, 21, 22, 22, 22, 22, 22, 23, 23, 23, 23, 23, 24, 24, 24, 25, 26, 26, 26, 26, 27, 27, 27, 29]\n",
        "4 [2, 2, 2, 2, 2, 2, 2, 2, 2, 2, 2, 2, 2, 2, 2, 2, 2, 2, 2, 2, 2, 2, 2, 2, 2, 2, 2, 2, 2, 3, 3, 3, 3, 3, 3, 3, 3, 3, 3, 3, 3, 3, 3, 3, 3, 3, 3, 3, 3, 3, 3, 3, 3, 3, 3, 3, 3, 3, 3, 3, 3, 3, 4, 4, 4, 4, 4, 4, 4, 4, 4, 4, 4, 4, 4, 4, 4, 4, 4, 4, 4, 4, 4, 4, 5, 5, 5, 5, 5, 5, 5, 5, 5, 5, 5, 5, 5, 5, 5, 5, 5, 5, 5, 5, 5, 5, 5, 5, 5, 5, 5, 5, 6, 6, 6, 6, 6, 6, 6, 6, 6, 6, 6, 6, 6, 6, 6, 6, 6, 6, 6, 6, 6, 6, 6, 6, 6, 6, 6, 6, 6, 6, 6, 6, 6, 6, 6, 6, 6, 6, 6, 6, 6, 6, 6, 6, 6, 6, 6, 6, 6, 6, 6, 6, 6, 6, 6, 6, 6, 6, 6, 6, 6, 6, 6, 6, 6, 6, 6, 6, 6, 6, 6, 6, 6, 6, 6, 6, 6, 6, 6, 6, 6, 6, 6, 6, 6, 6, 6, 6, 6, 6, 6, 6, 6, 6, 6, 6, 6, 6, 6, 6, 6, 6, 6, 7, 7, 7]\n",
        "5 [1, 1, 1, 1, 1, 1, 1, 1, 1, 1, 1, 1, 1, 1, 1, 1, 1, 1, 1, 1, 1, 1, 1, 1, 1, 1, 1, 1, 1, 1, 1, 1, 1, 1, 1, 1, 1, 1, 1, 1, 1, 1, 1, 1, 1, 1, 1, 1, 1, 1, 1, 1, 1, 1, 1, 1, 1, 1, 1, 1, 1, 1, 1, 1, 1, 1, 1, 1, 1, 1, 1, 1, 1, 1, 1, 1, 1, 1, 1, 1, 1, 1, 1, 1, 1, 1, 1, 1, 1, 1, 1, 1, 1, 1, 1, 1, 1, 1, 1, 1, 1, 1, 1, 1, 1, 1, 1, 1, 1, 1, 1, 1, 1, 1, 1, 1, 1, 1, 1, 1, 1, 1, 1, 1, 1, 1, 1, 1, 1, 1, 1, 1, 1, 1, 1, 1, 1, 1, 1, 1, 1, 1, 1, 1, 1, 1, 1, 1, 1, 1, 1, 1, 1, 1, 1, 1, 1, 1, 1, 1, 1, 1, 1, 1, 1, 1, 1, 1, 1, 1, 1, 1, 1, 1, 1, 1, 1, 1, 1, 1, 1, 1, 1, 1, 1, 1, 1, 1, 1, 1, 1, 1, 1, 1, 1, 1, 1, 1, 1, 1, 1, 1, 1, 1, 1, 1, 1, 1, 1, 1, 1, 1, 1, 1, 1, 1, 1, 1, 1, 1, 1, 1, 1, 1, 1, 1, 1, 1, 1, 1, 1, 1, 1, 1, 1, 1, 1, 1, 1, 1, 1, 1, 1, 1, 1, 1, 1, 1, 1, 1, 1, 1, 1, 1, 1, 1, 1, 1, 1, 1, 1, 1, 1, 1, 1, 1, 1, 1, 1, 1, 1, 1, 1, 1, 1, 1, 1, 1, 1, 1, 1, 1, 1, 1, 1, 1, 1, 1, 1, 1, 1, 1, 1, 1, 1, 1, 1, 1, 1, 1, 1, 1, 1, 1, 1, 1, 1, 1, 1, 1, 1, 1, 1, 1, 1, 1, 1, 1, 1, 1, 1, 1, 1, 1, 1, 1, 1, 1, 1, 1, 1, 1, 1, 1, 1, 1, 1, 1, 1, 1, 1, 1, 1, 1, 1, 1, 1, 1, 1, 1, 1, 1, 1, 1, 1, 1, 1, 1, 1, 1, 1, 1, 1, 1, 1, 1, 1, 1, 1, 1, 1, 1, 1, 1, 1, 1, 1, 1, 1, 1, 1, 1, 1, 1, 1, 1, 1, 1, 1, 1, 1, 1, 1, 1, 1, 1, 1, 1, 1, 1, 1, 1, 1, 1, 1, 1, 1, 1, 1, 1, 1, 1, 1, 1, 1, 1, 1, 1, 1, 1, 1, 1, 1, 1, 1, 1, 1, 1, 1, 1, 1, 1, 1, 1, 1, 1, 1, 1, 1, 1, 1, 1, 1, 1, 1, 1, 1, 1, 1, 1, 1, 1, 1, 1, 1, 1, 1, 1, 1, 1, 1, 1, 1, 1, 1, 1, 1, 1, 1, 1, 1, 1, 1, 1, 1, 1, 1, 1, 1, 1, 1, 1, 1, 1, 1, 1, 1, 1, 1, 1, 1, 1, 1, 1, 1, 1, 1, 1, 1, 1, 1, 1, 1, 1, 1, 1, 1, 1, 1, 1, 1, 1, 1, 1, 1, 1, 1, 1, 1, 1, 1, 1, 1, 1, 1, 1, 1, 1, 1, 1, 1, 1, 1, 1, 1, 1, 1, 1, 1, 1, 1, 1, 1, 1, 1, 1, 1, 1, 1, 1, 1, 1, 1, 1, 1, 1, 1, 1, 1, 1, 1, 1, 1, 1, 1, 1, 1, 1, 1, 1, 1, 1, 1, 1, 1, 1, 1, 1, 1, 1, 1, 1, 1, 1, 1, 1, 1, 1, 1, 1, 1, 1, 1, 1, 1, 1, 1, 1, 1, 1, 1, 1, 1, 1, 1, 1, 1, 1, 1, 1, 1, 1, 1, 1, 1, 1, 1, 1, 1, 1, 1, 1, 1, 1, 1, 1, 1, 1, 1, 1, 1, 1, 1, 1, 1, 1, 1, 1, 1, 1, 1, 1, 1, 1, 1, 1, 1, 1, 1, 1, 1, 1, 1, 1, 1, 1, 1, 1, 1, 1, 1, 1, 1, 1, 1, 1, 1, 1, 1, 1, 1, 1, 1, 1, 1, 1, 1, 1, 1, 1, 1, 1, 1, 1, 1, 1, 1, 1, 1, 1, 1, 1, 1, 1, 1, 1, 1, 1, 1, 1, 1, 1, 1, 1, 1, 1, 1, 1, 1, 1, 1, 1, 1, 1, 1, 1, 1, 1, 1, 1, 1, 1, 1, 1, 1, 1, 1, 1, 1, 1, 1, 1, 1, 1, 1, 1, 1, 1, 1, 1, 1, 1, 1, 1, 1, 1, 1, 1, 1, 1, 1, 1, 1, 1, 1, 1, 1, 1, 1, 1, 1, 1, 1, 1, 1, 1, 1, 1, 1, 1, 1, 1, 1, 1, 1, 1, 1, 1, 1, 1, 1, 1, 1, 1, 1, 1, 1, 1, 1, 1, 1, 1, 1, 1, 1, 1, 1, 1, 1, 1, 1, 1, 1, 1, 1, 1, 1, 1, 1, 1, 1, 1, 1, 1, 1, 1, 1, 1, 1, 1, 1, 1, 1, 1, 1, 1, 1, 1, 1, 1, 1, 1, 1, 1, 1, 1, 1, 1, 1, 1, 1, 1, 1, 1, 1, 1, 1, 1, 1, 1, 1, 1, 1, 1, 1, 1, 1, 1, 1, 1, 1, 1, 1, 1, 1, 1, 1, 1, 1, 1, 1, 1, 1, 1, 1, 1, 1, 1, 1, 1, 1, 1, 1, 1, 1, 1, 1, 1, 1, 1, 1, 1, 1, 1, 1, 1, 1, 1, 1, 1, 1, 1, 1, 1, 1, 1, 1, 1, 1, 1, 1, 1, 1, 1, 1, 1, 1, 1, 1, 1, 1, 1, 1, 1, 1, 1, 1, 1, 1, 1, 1, 1, 1, 1, 1, 1, 1, 1, 1, 1, 1, 1, 1, 1, 1, 1, 1, 1, 1, 1, 1, 1, 1, 1, 1, 1, 1, 1, 1, 1, 1, 1, 1, 1, 1, 1, 1, 1, 1, 1, 1, 1, 1, 1, 1, 1, 1, 1, 1, 1, 1, 1, 1, 1, 1, 1, 1, 1, 1, 1, 1, 1, 1, 1, 1, 1, 1, 1, 1, 1, 1, 1, 1, 1, 1, 1, 1, 1, 1, 1, 1, 1, 1, 1, 1, 1, 1, 1, 1, 1, 1, 1, 1, 1]\n"
       ]
      }
     ],
     "prompt_number": 115
    },
    {
     "cell_type": "code",
     "collapsed": false,
     "input": [],
     "language": "python",
     "metadata": {},
     "outputs": []
    }
   ],
   "metadata": {}
  }
 ]
}