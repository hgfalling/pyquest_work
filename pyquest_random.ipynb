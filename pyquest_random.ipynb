{
 "metadata": {
  "name": "pyquest_random"
 },
 "nbformat": 3,
 "nbformat_minor": 0,
 "worksheets": [
  {
   "cells": [
    {
     "cell_type": "code",
     "collapsed": false,
     "input": [
      "import numpy as np\n",
      "import scipy.io\n",
      "import scipy.spatial as spss\n",
      "import sklearn.neighbors as sknn\n",
      "\n",
      "import matplotlib\n",
      "matplotlib.use('WXAgg')\n",
      "import matplotlib.pyplot as plt\n",
      "from mpl_toolkits.mplot3d import Axes3D\n",
      "\n",
      "import affinity \n",
      "reload(affinity)\n",
      "import bintree_cut\n",
      "reload(bintree_cut)\n",
      "import dual_affinity\n",
      "reload(dual_affinity)\n",
      "import matlab_util\n",
      "import tree_util\n",
      "reload(tree_util)\n",
      "import scoring\n",
      "reload(scoring)\n",
      "import barcode\n",
      "reload(barcode)\n",
      "import embedding\n",
      "reload(embedding)"
     ],
     "language": "python",
     "metadata": {},
     "outputs": [
      {
       "output_type": "pyout",
       "prompt_number": 1,
       "text": [
        "<module 'embedding' from 'embedding.pyc'>"
       ]
      }
     ],
     "prompt_number": 1
    },
    {
     "cell_type": "code",
     "collapsed": false,
     "input": [
      "#Load data stuff\n",
      "\n",
      "DEFAULT_DATA_PATH = (\"/users/jerrod/Google Drive/Yale_Research/Questionnaire_2D_20130614/Examples/\")\n",
      "DEFAULT_DATA_FILE = \"MMPI2.mat\"\n",
      "\n",
      "mdict = scipy.io.loadmat(DEFAULT_DATA_PATH+DEFAULT_DATA_FILE)\n",
      "#data = mdict[\"matrix\"]\n",
      "data = np.random.rand(567,2428)\n",
      "data[data<0.5] = -1\n",
      "data[data>0] = 1\n",
      "q_descs = [x[0][0] for x in mdict[\"sensors_dat\"][0,0][0]]\n",
      "p_score_descs = [x[0] for x in mdict[\"points_dat\"][0,0][1][0]]\n",
      "p_scores = mdict[\"points_dat\"][0,0][0]\n",
      "\n",
      "#Generate initial affinity\n",
      "init_row_aff = affinity.mutual_cosine_similarity(data.T,True,0)\n",
      "init_col_aff = affinity.mutual_cosine_similarity(data,True,0)\n",
      "\n",
      "#Compute diffusion embedding of initial affinities\n",
      "init_row_vecs,init_row_vals = bintree_cut.markov_eigs(init_row_aff, 12)\n",
      "init_col_vecs,init_col_vals = bintree_cut.markov_eigs(init_col_aff, 12)\n",
      "\n",
      "#Generate median trees\n",
      "init_row_tree = bintree_cut.median_tree(init_row_vecs,init_row_vals,max_levels=12)\n",
      "init_col_tree = bintree_cut.median_tree(init_col_vecs,init_col_vals,max_levels=12)"
     ],
     "language": "python",
     "metadata": {},
     "outputs": [],
     "prompt_number": 2
    },
    {
     "cell_type": "code",
     "collapsed": false,
     "input": [
      "dual_col_trees = [init_col_tree]\n",
      "dual_row_trees = [init_row_tree]\n",
      "\n",
      "for i in xrange(3):\n",
      "    col_emd = dual_affinity.calc_emd(data,dual_row_trees[-1],alpha=1.0,beta=0.0)\n",
      "    dual_col_trees.append(bintree_cut.eigen_tree(data,dual_row_trees[-1],dual_affinity.emd_dual_aff,noise=0.03,emd=col_emd))\n",
      "    row_emd = dual_affinity.calc_emd(data.T,dual_col_trees[-1],alpha=1.0,beta=0.0)\n",
      "    dual_row_trees.append(bintree_cut.eigen_tree(data.T,dual_col_trees[-1],dual_affinity.emd_dual_aff,noise=0.03,emd=row_emd))   \n",
      "    \n",
      "col_tree = dual_col_trees[-1]\n",
      "row_tree = dual_row_trees[-1]\n",
      "\n",
      "col_emd = dual_affinity.calc_emd(data,row_tree,alpha=1.0,beta=0.0)\n",
      "col_aff = dual_affinity.emd_dual_aff(col_emd,row_tree)\n",
      "row_emd = dual_affinity.calc_emd(data.T,col_tree,alpha=1.0,beta=0.0)\n",
      "row_aff = dual_affinity.emd_dual_aff(row_emd,col_tree)\n",
      "\n",
      "col_vecs,col_vals = bintree_cut.markov_eigs(col_aff,12)\n",
      "row_vecs,row_vals = bintree_cut.markov_eigs(row_aff,12)\n",
      "\n",
      "coefs = tree_util.bitree_transform(data,row_tree,col_tree)\n",
      "recon_matrix, norm_l1 = tree_util.inverse_bitree_transform(coefs,row_tree,col_tree,0.005)\n",
      "score = scoring.Score(data,recon_matrix)\n",
      "print score.class_pct"
     ],
     "language": "python",
     "metadata": {},
     "outputs": [
      {
       "output_type": "stream",
       "stream": "stdout",
       "text": [
        "0.532991786012\n"
       ]
      }
     ],
     "prompt_number": 3
    },
    {
     "cell_type": "code",
     "collapsed": false,
     "input": [
      "cmap = plt.get_cmap(\"RdBu_r\")\n",
      "cnorm = matplotlib.colors.Normalize(vmin=-1,vmax=1)\n",
      "cmap.set_under('blue')\n",
      "cmap.set_over('red')"
     ],
     "language": "python",
     "metadata": {},
     "outputs": [],
     "prompt_number": 4
    },
    {
     "cell_type": "code",
     "collapsed": false,
     "input": [
      "PICKLE_IT = True\n",
      "if PICKLE_IT:\n",
      "    import cPickle\n",
      "    datadict = {}\n",
      "    datadict[\"data\"] = data\n",
      "    datadict[\"q_descs\"] = q_descs\n",
      "    datadict[\"p_score_descs\"] = p_score_descs\n",
      "    datadict[\"p_scores\"] = p_scores\n",
      "    datadict[\"col_tree\"] = col_tree\n",
      "    datadict[\"row_tree\"] = row_tree\n",
      "    datadict[\"col_vecs\"] = col_vecs\n",
      "    datadict[\"col_vals\"] = col_vals\n",
      "    datadict[\"row_vecs\"] = row_vecs\n",
      "    datadict[\"row_vals\"] = row_vals\n",
      "    fout = open('random_datadict.pickle','wb')\n",
      "    cPickle.dump(datadict,fout)\n",
      "    fout.close()"
     ],
     "language": "python",
     "metadata": {},
     "outputs": [],
     "prompt_number": 5
    },
    {
     "cell_type": "code",
     "collapsed": false,
     "input": [
      "#save this code for future use.\n",
      "znorm = matplotlib.colors.Normalize(vmin=-3,vmax=3)\n",
      "for i in xrange(9):\n",
      "    qim = barcode.level_avgs(p_scores[i,:],col_tree)\n",
      "    plt.imshow(barcode.organize_cols(col_tree,qim),aspect='auto',interpolation='nearest',cmap=cmap,norm=cnorm)\n",
      "    plt.title(u'Psych scores on dimension {}.'.format(p_score_descs[i]))\n",
      "    plt.show()"
     ],
     "language": "python",
     "metadata": {},
     "outputs": [],
     "prompt_number": 29
    },
    {
     "cell_type": "code",
     "collapsed": false,
     "input": [
      "#draw a tree\n",
      "node_locations = np.zeros([row_tree.tree_size,2])\n",
      "\n",
      "for level in xrange(1,row_tree.tree_depth+1):\n",
      "    nodes = row_tree.dfs_level(level)\n",
      "    node_idxs = np.array([node.idx for node in nodes])\n",
      "    x_intervals = np.cumsum(np.array([0]+[node.size for node in nodes])*1.0/row_tree.size)\n",
      "    node_xs = x_intervals[:-1] + np.diff(x_intervals)/2.0\n",
      "    if level < 5:\n",
      "        print node_xs\n",
      "    node_ys = (row_tree.tree_depth - level)*np.ones(np.shape(node_xs))\n",
      "    node_locations[node_idxs,:] = np.hstack([node_xs[:,np.newaxis],node_ys[:,np.newaxis]])"
     ],
     "language": "python",
     "metadata": {},
     "outputs": [
      {
       "output_type": "stream",
       "stream": "stdout",
       "text": [
        "[ 0.5]\n",
        "[ 0.23633157  0.73633157]\n",
        "[ 0.12345679  0.35978836  0.60405644  0.86772487]\n",
        "[ 0.06261023  0.18606702  0.30687831  0.41975309  0.53703704  0.66843034\n",
        "  0.8042328   0.93650794]\n"
       ]
      }
     ],
     "prompt_number": 6
    },
    {
     "cell_type": "code",
     "collapsed": false,
     "input": [
      "fig = plt.figure()\n",
      "ax = fig.add_axes()\n",
      "plt.scatter(node_locations[:,0],node_locations[:,1],marker='.',color='b')\n",
      "for node in row_tree.traverse():\n",
      "    if node.parent is not None:\n",
      "        x1,y1 = node_locations[node.idx,:]\n",
      "        x2,y2 = node_locations[node.parent.idx,:]\n",
      "        plt.plot((x1,x2),(y1,y2),'r')\n",
      "plt.xlim([0.0,1.0])\n",
      "x1,y1 = node_locations[68,:]\n",
      "plt.plot(x1,y1,'s',markersize=6,markerfacecolor='None',markeredgecolor='k',markeredgewidth=2)\n",
      "plt.show()"
     ],
     "language": "python",
     "metadata": {},
     "outputs": [],
     "prompt_number": 7
    },
    {
     "cell_type": "code",
     "collapsed": false,
     "input": [
      "avgs = barcode.level_avgs(data,col_tree)"
     ],
     "language": "python",
     "metadata": {},
     "outputs": [],
     "prompt_number": 10
    },
    {
     "cell_type": "code",
     "collapsed": false,
     "input": [
      "np.shape(avgs)"
     ],
     "language": "python",
     "metadata": {},
     "outputs": [
      {
       "output_type": "pyout",
       "prompt_number": 11,
       "text": [
        "(567L, 11L, 2428L)"
       ]
      }
     ],
     "prompt_number": 11
    },
    {
     "cell_type": "code",
     "collapsed": false,
     "input": [
      "reload(tree_util)"
     ],
     "language": "python",
     "metadata": {},
     "outputs": [
      {
       "output_type": "pyout",
       "prompt_number": 19,
       "text": [
        "<module 'tree_util' from 'tree_util.py'>"
       ]
      }
     ],
     "prompt_number": 19
    },
    {
     "cell_type": "code",
     "collapsed": false,
     "input": [
      "tavgs = tree_util.tree_averages(avgs,row_tree)"
     ],
     "language": "python",
     "metadata": {},
     "outputs": [
      {
       "output_type": "stream",
       "stream": "stdout",
       "text": [
        "[822, 11L, 2428L]\n"
       ]
      }
     ],
     "prompt_number": 27
    },
    {
     "cell_type": "code",
     "collapsed": false,
     "input": [
      "embedding.plot_embedding(row_vecs,row_vals,row_tree,level=3)\n",
      "#embedding.plot_embedding(col_vecs,col_vals,col_tree)\n",
      "plt.show()"
     ],
     "language": "python",
     "metadata": {},
     "outputs": [],
     "prompt_number": 50
    },
    {
     "cell_type": "code",
     "collapsed": false,
     "input": [
      "row_vecs,row_vals = bintree_cut.markov_eigs(row_emd, 8)\n",
      "col_vecs,col_vals = bintree_cut.markov_eigs(col_emd, 8)\n"
     ],
     "language": "python",
     "metadata": {},
     "outputs": [],
     "prompt_number": 31
    },
    {
     "cell_type": "code",
     "collapsed": false,
     "input": [
      "[x.elements for x in row_tree.traverse() if x.idx == 255]"
     ],
     "language": "python",
     "metadata": {},
     "outputs": [
      {
       "output_type": "pyout",
       "prompt_number": 43,
       "text": [
        "[[0]]"
       ]
      }
     ],
     "prompt_number": 43
    },
    {
     "cell_type": "code",
     "collapsed": false,
     "input": [
      "coefs = tree_util.bitree_transform(data,row_tree,col_tree)\n",
      "np.sum(np.abs(coefs))"
     ],
     "language": "python",
     "metadata": {},
     "outputs": [
      {
       "output_type": "pyout",
       "prompt_number": 11,
       "text": [
        "1135034.0505574837"
       ]
      }
     ],
     "prompt_number": 11
    },
    {
     "cell_type": "code",
     "collapsed": false,
     "input": [
      "np.shape(coefs)"
     ],
     "language": "python",
     "metadata": {},
     "outputs": [
      {
       "output_type": "pyout",
       "prompt_number": 8,
       "text": [
        "(822L, 3451L)"
       ]
      }
     ],
     "prompt_number": 8
    },
    {
     "cell_type": "code",
     "collapsed": false,
     "input": [
      "1135034.0/2428"
     ],
     "language": "python",
     "metadata": {},
     "outputs": [
      {
       "output_type": "pyout",
       "prompt_number": 10,
       "text": [
        "467.47693574958816"
       ]
      }
     ],
     "prompt_number": 10
    },
    {
     "cell_type": "code",
     "collapsed": false,
     "input": [
      "pdata = np.array([[1, 1, 1, 1, -1, -1, -1, -1],[1, 1, -1, -1, 1, 1, -1, -1],[1, -1, 1, -1, 1, -1, 1, -1]])"
     ],
     "language": "python",
     "metadata": {},
     "outputs": [],
     "prompt_number": 13
    },
    {
     "cell_type": "code",
     "collapsed": false,
     "input": [
      "pdata"
     ],
     "language": "python",
     "metadata": {},
     "outputs": [
      {
       "output_type": "pyout",
       "prompt_number": 14,
       "text": [
        "array([[ 1,  1,  1,  1, -1, -1, -1, -1],\n",
        "       [ 1,  1, -1, -1,  1,  1, -1, -1],\n",
        "       [ 1, -1,  1, -1,  1, -1,  1, -1]])"
       ]
      }
     ],
     "prompt_number": 14
    },
    {
     "cell_type": "code",
     "collapsed": false,
     "input": [
      "cc = tree_util.bitree_transform(pdata,rt,ct)"
     ],
     "language": "python",
     "metadata": {},
     "outputs": [],
     "prompt_number": 28
    },
    {
     "cell_type": "code",
     "collapsed": false,
     "input": [
      "import tree\n"
     ],
     "language": "python",
     "metadata": {},
     "outputs": [],
     "prompt_number": 16
    },
    {
     "cell_type": "code",
     "collapsed": false,
     "input": [
      "ct = tree.ClusterTreeNode(range(8))"
     ],
     "language": "python",
     "metadata": {},
     "outputs": [],
     "prompt_number": 25
    },
    {
     "cell_type": "code",
     "collapsed": false,
     "input": [
      "rt"
     ],
     "language": "python",
     "metadata": {},
     "outputs": [
      {
       "output_type": "pyout",
       "prompt_number": 18,
       "text": [
        "<tree.ClusterTreeNode at 0xff91e80>"
       ]
      }
     ],
     "prompt_number": 18
    },
    {
     "cell_type": "code",
     "collapsed": false,
     "input": [
      "ct.create_subclusters(range(8))"
     ],
     "language": "python",
     "metadata": {},
     "outputs": [],
     "prompt_number": 26
    },
    {
     "cell_type": "code",
     "collapsed": false,
     "input": [
      "rt"
     ],
     "language": "python",
     "metadata": {},
     "outputs": [
      {
       "output_type": "pyout",
       "prompt_number": 20,
       "text": [
        "<tree.ClusterTreeNode at 0xff91e80>"
       ]
      }
     ],
     "prompt_number": 20
    },
    {
     "cell_type": "code",
     "collapsed": false,
     "input": [
      "rt.size"
     ],
     "language": "python",
     "metadata": {},
     "outputs": [
      {
       "output_type": "pyout",
       "prompt_number": 21,
       "text": [
        "3"
       ]
      }
     ],
     "prompt_number": 21
    },
    {
     "cell_type": "code",
     "collapsed": false,
     "input": [
      "ct.make_index()"
     ],
     "language": "python",
     "metadata": {},
     "outputs": [],
     "prompt_number": 27
    },
    {
     "cell_type": "code",
     "collapsed": false,
     "input": [
      "cc"
     ],
     "language": "python",
     "metadata": {},
     "outputs": [
      {
       "output_type": "pyout",
       "prompt_number": 29,
       "text": [
        "array([[ 0.        ,  1.        ,  0.33333333,  0.33333333, -0.33333333,\n",
        "         0.33333333, -0.33333333, -0.33333333, -1.        ],\n",
        "       [ 0.        ,  0.        ,  0.66666667,  0.66666667,  1.33333333,\n",
        "        -1.33333333, -0.66666667, -0.66666667,  0.        ],\n",
        "       [ 0.        ,  0.        ,  0.66666667, -1.33333333, -0.66666667,\n",
        "         0.66666667,  1.33333333, -0.66666667,  0.        ],\n",
        "       [ 0.        ,  0.        , -1.33333333,  0.66666667, -0.66666667,\n",
        "         0.66666667, -0.66666667,  1.33333333,  0.        ]])"
       ]
      }
     ],
     "prompt_number": 29
    },
    {
     "cell_type": "code",
     "collapsed": false,
     "input": [
      "np.sum(np.abs(cc))"
     ],
     "language": "python",
     "metadata": {},
     "outputs": [
      {
       "output_type": "pyout",
       "prompt_number": 30,
       "text": [
        "20.0"
       ]
      }
     ],
     "prompt_number": 30
    },
    {
     "cell_type": "code",
     "collapsed": false,
     "input": [],
     "language": "python",
     "metadata": {},
     "outputs": []
    }
   ],
   "metadata": {}
  }
 ]
}