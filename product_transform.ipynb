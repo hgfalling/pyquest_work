{
 "metadata": {
  "name": "product_transform"
 },
 "nbformat": 3,
 "nbformat_minor": 0,
 "worksheets": [
  {
   "cells": [
    {
     "cell_type": "code",
     "collapsed": false,
     "input": [
      "import numpy as np\n",
      "import tree\n",
      "import tree_util\n",
      "reload(tree_util)"
     ],
     "language": "python",
     "metadata": {},
     "outputs": [
      {
       "output_type": "pyout",
       "prompt_number": 16,
       "text": [
        "<module 'tree_util' from 'tree_util.py'>"
       ]
      }
     ],
     "prompt_number": 16
    },
    {
     "cell_type": "code",
     "collapsed": false,
     "input": [
      "x = np.random.rand(32,32)\n",
      "t = tree.dyadic_tree(5)"
     ],
     "language": "python",
     "metadata": {},
     "outputs": [],
     "prompt_number": 3
    },
    {
     "cell_type": "code",
     "collapsed": false,
     "input": [
      "coefs = tree_util.tree_product_transform(x,t)\n",
      "r = tree_util.inverse_tree_product_transform(coefs,t)\n",
      "coefs = tree_util.bitree_product_transform(x,t,t)"
     ],
     "language": "python",
     "metadata": {},
     "outputs": [],
     "prompt_number": 176
    },
    {
     "cell_type": "code",
     "collapsed": false,
     "input": [
      "r=tree_util.inverse_tree_product_transform(tree_util.inverse_tree_product_transform(coefs,t).T,t).T\n",
      "print r[0,0]\n",
      "np.allclose(r,x)"
     ],
     "language": "python",
     "metadata": {},
     "outputs": [
      {
       "output_type": "stream",
       "stream": "stdout",
       "text": [
        "0.711457817581\n"
       ]
      },
      {
       "output_type": "pyout",
       "prompt_number": 179,
       "text": [
        "True"
       ]
      }
     ],
     "prompt_number": 179
    },
    {
     "cell_type": "code",
     "collapsed": false,
     "input": [
      "i,j=4,2\n",
      "c = coefs.copy()\n",
      "for m in t:\n",
      "    for n in t:\n",
      "        if m.level > i or n.level > j:\n",
      "            c[m.idx,n.idx] = 1.0\n",
      "s = tree_util.inverse_tree_product_transform(tree_util.inverse_tree_product_transform(c,t).T,t).T\n",
      "import matplotlib.pyplot as plt\n",
      "plt.imshow(s,interpolation='nearest',aspect='auto')\n",
      "plt.colorbar()"
     ],
     "language": "python",
     "metadata": {},
     "outputs": [
      {
       "output_type": "pyout",
       "prompt_number": 215,
       "text": [
        "<matplotlib.colorbar.Colorbar instance at 0x000000000B2918C8>"
       ]
      },
      {
       "output_type": "display_data",
       "png": "[encoded data removed]"
      }
     ],
     "prompt_number": 215
    },
    {
     "cell_type": "code",
     "collapsed": false,
     "input": [
      "a = np.random.rand(2,2)\n",
      "t2 = tree.dyadic_tree(1)"
     ],
     "language": "python",
     "metadata": {},
     "outputs": [],
     "prompt_number": 10
    },
    {
     "cell_type": "code",
     "collapsed": false,
     "input": [
      "c = tree_util.bitree_product_transform(a,t2,t2)"
     ],
     "language": "python",
     "metadata": {},
     "outputs": [],
     "prompt_number": 218
    },
    {
     "cell_type": "code",
     "collapsed": false,
     "input": [
      "c"
     ],
     "language": "python",
     "metadata": {},
     "outputs": [
      {
       "output_type": "pyout",
       "prompt_number": 219,
       "text": [
        "array([[ 0.53958728,  0.68372028,  1.31627972],\n",
        "       [ 1.11182598,  1.76769974,  0.60123075],\n",
        "       [ 0.88817402,  0.03898505,  1.49918372]])"
       ]
      }
     ],
     "prompt_number": 219
    },
    {
     "cell_type": "code",
     "collapsed": false,
     "input": [
      "c[1,1] = 1.0"
     ],
     "language": "python",
     "metadata": {},
     "outputs": [],
     "prompt_number": 220
    },
    {
     "cell_type": "code",
     "collapsed": false,
     "input": [
      "tree_util.inverse_tree_product_transform(tree_util.inverse_tree_product_transform(c,t2).T,t2).T"
     ],
     "language": "python",
     "metadata": {},
     "outputs": [
      {
       "output_type": "pyout",
       "prompt_number": 222,
       "text": [
        "array([[ 0.41018236,  0.47477505],\n",
        "       [ 0.01277428,  0.94572053]])"
       ]
      }
     ],
     "prompt_number": 222
    },
    {
     "cell_type": "code",
     "collapsed": false,
     "input": [
      "a"
     ],
     "language": "python",
     "metadata": {},
     "outputs": [
      {
       "output_type": "pyout",
       "prompt_number": 223,
       "text": [
        "array([[ 0.72507926,  0.47477505],\n",
        "       [ 0.01277428,  0.94572053]])"
       ]
      }
     ],
     "prompt_number": 223
    },
    {
     "cell_type": "code",
     "collapsed": false,
     "input": [
      "data = np.zeros(x.shape)\n",
      "rr = np.random.rand(32,32)\n",
      "data[rr<x] = 1.0\n",
      "data[rr>x] = 0.0"
     ],
     "language": "python",
     "metadata": {},
     "outputs": [],
     "prompt_number": 7
    },
    {
     "cell_type": "code",
     "collapsed": false,
     "input": [
      "coefs = tree_util.bitree_product_transform(data,t,t)"
     ],
     "language": "python",
     "metadata": {},
     "outputs": [],
     "prompt_number": 14
    },
    {
     "cell_type": "code",
     "collapsed": false,
     "input": [
      "coefs"
     ],
     "language": "python",
     "metadata": {},
     "outputs": [
      {
       "output_type": "pyout",
       "prompt_number": 15,
       "text": [
        "array([[ 0.49804688,  0.96470588,  1.03529412, ...,  1.12      ,\n",
        "         1.        ,  1.        ],\n",
        "       [ 0.98039216,  0.99512195,  1.00454545, ...,  1.13636364,\n",
        "         1.2       ,  0.8       ],\n",
        "       [ 1.01960784,  1.00469043,  0.99562937, ...,  0.89285714,\n",
        "         0.85714286,  1.14285714],\n",
        "       ..., \n",
        "       [ 1.2       ,  0.88235294,  1.11111111, ...,  1.        ,\n",
        "         1.5       ,  0.75      ],\n",
        "       [ 0.90322581,  0.94897959,  1.04201681, ...,  1.        ,\n",
        "         0.75      ,  1.5       ],\n",
        "       [ 1.09677419,  1.04201681,  0.96539792, ...,  1.        ,\n",
        "         1.5       ,  0.        ]])"
       ]
      }
     ],
     "prompt_number": 15
    },
    {
     "cell_type": "code",
     "collapsed": false,
     "input": [
      "k_values = tree_util.bitree_sums(data,t,t)"
     ],
     "language": "python",
     "metadata": {},
     "outputs": [],
     "prompt_number": 25
    },
    {
     "cell_type": "code",
     "collapsed": false,
     "input": [
      "n_values = tree_util.bifolder_sizes(t,t)"
     ],
     "language": "python",
     "metadata": {},
     "outputs": [],
     "prompt_number": 27
    },
    {
     "cell_type": "code",
     "collapsed": false,
     "input": [
      "n_values[2,2]"
     ],
     "language": "python",
     "metadata": {},
     "outputs": [
      {
       "output_type": "pyout",
       "prompt_number": 28,
       "text": [
        "256"
       ]
      }
     ],
     "prompt_number": 28
    },
    {
     "cell_type": "code",
     "collapsed": false,
     "input": [
      "k_values[2,2]"
     ],
     "language": "python",
     "metadata": {},
     "outputs": [
      {
       "output_type": "pyout",
       "prompt_number": 29,
       "text": [
        "134.0"
       ]
      }
     ],
     "prompt_number": 29
    },
    {
     "cell_type": "code",
     "collapsed": false,
     "input": [
      "n_values[11,11]"
     ],
     "language": "python",
     "metadata": {},
     "outputs": [
      {
       "output_type": "pyout",
       "prompt_number": 34,
       "text": [
        "16"
       ]
      }
     ],
     "prompt_number": 34
    },
    {
     "cell_type": "code",
     "collapsed": false,
     "input": [
      "k_values[11,11]"
     ],
     "language": "python",
     "metadata": {},
     "outputs": [
      {
       "output_type": "pyout",
       "prompt_number": 35,
       "text": [
        "8.0"
       ]
      }
     ],
     "prompt_number": 35
    },
    {
     "cell_type": "code",
     "collapsed": false,
     "input": [
      "[x.idx for x in t[11].children]"
     ],
     "language": "python",
     "metadata": {},
     "outputs": [
      {
       "output_type": "pyout",
       "prompt_number": 37,
       "text": [
        "[23, 24]"
       ]
      }
     ],
     "prompt_number": 37
    },
    {
     "cell_type": "code",
     "collapsed": false,
     "input": [
      "print n_values[23,11],k_values[23,11],n_values[11,23],k_values[11,23],n_values[23,23],k_values[23,23]"
     ],
     "language": "python",
     "metadata": {},
     "outputs": [
      {
       "output_type": "stream",
       "stream": "stdout",
       "text": [
        "8 4.0 8 6.0 4 3.0\n"
       ]
      }
     ],
     "prompt_number": 38
    },
    {
     "cell_type": "markdown",
     "metadata": {},
     "source": [
      "so if we have (2,1) (2,1)  and (1), we get that it's 50-50 to match right or wrong.\n",
      "suppose we have (3,1) (2,1) and (1). now we get p=1/3\n",
      "then suppose we have (3,1) (3,1) and 2. now if we go one by one, we get 20% +1 80% -1 on the first one. Then in the first case it's -1 auto, while in the second case we reduce to 50-50. So we get 20% +1 plus 40% +1 = 60% +1.   Compare this to if we pick two from each thing:\n",
      "\n",
      "00 = 1/9 -> 0\n",
      "11 = 4/9 -> 1\n",
      "10 = 2/9 -> 1/2\n",
      "01 = 2/9 -> 1/2 for a total of 2/3 probability of +1.\n",
      "\n",
      "what about (4,1) (4,2) 2?  One by one we get 25-75 +1 -1.  If we go +1, then it's -1 auto. If we go -1, we reduce to (3,1) (3,2) 1. Then we are 50-50 on the next one.\n",
      "So we get +1 25% + 37.5% = 52.5% and -1 47.5%\n",
      "\n",
      "Now choose two at a time. 50-50 to include the 1 from 4,1, and 1/6 to exclude it from 4 2.\n"
     ]
    }
   ],
   "metadata": {}
  }
 ]
}