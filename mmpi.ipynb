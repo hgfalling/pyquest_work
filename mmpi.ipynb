{
 "metadata": {
  "name": "mmpi"
 },
 "nbformat": 3,
 "nbformat_minor": 0,
 "worksheets": [
  {
   "cells": [
    {
     "cell_type": "code",
     "collapsed": false,
     "input": [
      "import scipy.io\n",
      "import numpy as np\n",
      "import mmpi\n",
      "reload(mmpi)\n",
      "reload(mmpi.cdiff)\n",
      "import qmain\n",
      "reload(qmain)\n",
      "import haar\n",
      "reload(haar)\n",
      "import l1_bregman\n",
      "reload(l1_bregman)\n",
      "import tree_utils\n",
      "reload(tree_utils)"
     ],
     "language": "python",
     "metadata": {},
     "outputs": [
      {
       "output_type": "pyout",
       "prompt_number": 27,
       "text": [
        "<module 'tree_utils' from 'tree_utils.pyc'>"
       ]
      }
     ],
     "prompt_number": 27
    },
    {
     "cell_type": "code",
     "collapsed": false,
     "input": [
      "data = scipy.io.loadmat(\"c:/users/jerrod/google drive/yale_research/Questionnaire2D_20121016/Examples/MMPI2_basic.mat\")\n",
      "matrix = data['matrix']\n",
      "scores = data['original_people_scores']\n",
      "scores = scores[0:9,:]"
     ],
     "language": "python",
     "metadata": {},
     "outputs": [],
     "prompt_number": 2
    },
    {
     "cell_type": "code",
     "collapsed": false,
     "input": [
      "#generate dual partition trees\n",
      "tree_rows,tree_cols,row_eigvecs,col_eigvecs,row_eigvals,col_eigvals = mmpi.mmpi_questionnaire(matrix,3)"
     ],
     "language": "python",
     "metadata": {},
     "outputs": [
      {
       "output_type": "stream",
       "stream": "stdout",
       "text": [
        "The estimated radius for building folders is 0.237853005846.\n",
        "The estimated radius for building folders is 0.431008286695."
       ]
      },
      {
       "output_type": "stream",
       "stream": "stdout",
       "text": [
        "\n",
        "The estimated radius for building folders is 0.469368951261."
       ]
      },
      {
       "output_type": "stream",
       "stream": "stdout",
       "text": [
        "\n",
        "The estimated radius for building folders is 0.570503016581."
       ]
      },
      {
       "output_type": "stream",
       "stream": "stdout",
       "text": [
        "\n",
        "The estimated radius for building folders is 0.432459921665."
       ]
      },
      {
       "output_type": "stream",
       "stream": "stdout",
       "text": [
        "\n",
        "The estimated radius for building folders is 0.539074157151."
       ]
      },
      {
       "output_type": "stream",
       "stream": "stdout",
       "text": [
        "\n",
        "The estimated radius for building folders is 0.464612847443."
       ]
      },
      {
       "output_type": "stream",
       "stream": "stdout",
       "text": [
        "\n",
        "The estimated radius for building folders is 0.525353488061."
       ]
      },
      {
       "output_type": "stream",
       "stream": "stdout",
       "text": [
        "\n"
       ]
      }
     ],
     "prompt_number": 3
    },
    {
     "cell_type": "code",
     "collapsed": false,
     "input": [
      "haar_basis_cols = haar.compute_haar(tree_cols)\n",
      "haar_basis_rows = haar.compute_haar(tree_rows)"
     ],
     "language": "python",
     "metadata": {},
     "outputs": [],
     "prompt_number": 4
    },
    {
     "cell_type": "code",
     "collapsed": false,
     "input": [
      "score_coeffs = scores.dot(haar_basis_cols)\n",
      "#remove 80% of the data:\n",
      "PCT_REMOVED = 0.8\n",
      "n = int(np.shape(scores)[1])\n",
      "indices = []\n",
      "for i in xrange(n):\n",
      "    if np.random.random() >= PCT_REMOVED:\n",
      "        indices.append(i)\n",
      "\n",
      "mscores = scores[:,indices]\n",
      "mbasis = haar_basis_cols[indices,:]\n"
     ],
     "language": "python",
     "metadata": {},
     "outputs": [],
     "prompt_number": 5
    },
    {
     "cell_type": "code",
     "collapsed": false,
     "input": [
      "score_coeffs = l1_bregman.l1_bregman(mbasis,mscores.T,1,False,150,0.5)"
     ],
     "language": "python",
     "metadata": {},
     "outputs": [
      {
       "output_type": "stream",
       "stream": "stdout",
       "text": [
        "56013.8354809 0.0 56013.8354809\n",
        "42654.4759099"
       ]
      },
      {
       "output_type": "stream",
       "stream": "stdout",
       "text": [
        " 56013.8354809 -13359.359571\n",
        "40354.2165577"
       ]
      },
      {
       "output_type": "stream",
       "stream": "stdout",
       "text": [
        " 42654.4759099 -2300.25935214\n",
        "40198.3427858"
       ]
      },
      {
       "output_type": "stream",
       "stream": "stdout",
       "text": [
        " 40354.2165577 -155.873771896\n",
        "40148.5144863"
       ]
      },
      {
       "output_type": "stream",
       "stream": "stdout",
       "text": [
        " 40198.3427858 -49.8282995725\n",
        "40134.6951415"
       ]
      },
      {
       "output_type": "stream",
       "stream": "stdout",
       "text": [
        " 40148.5144863 -13.8193447498\n",
        "40140.1674005"
       ]
      },
      {
       "output_type": "stream",
       "stream": "stdout",
       "text": [
        " 40134.6951415 5.47225892757\n",
        "40139.150065"
       ]
      },
      {
       "output_type": "stream",
       "stream": "stdout",
       "text": [
        " 40140.1674005 -1.01733544285\n",
        "L1 norm: 40139.150065\n",
        "Total iterations: 8\n"
       ]
      },
      {
       "output_type": "stream",
       "stream": "stderr",
       "text": [
        "l1_bregman.py:40: RuntimeWarning: divide by zero encountered in double_scalars\n",
        "  while abs(new_norm - norm1)/norm1 > 1e-4 and x < 25000:\n"
       ]
      }
     ],
     "prompt_number": 6
    },
    {
     "cell_type": "code",
     "collapsed": false,
     "input": [
      "set_ind = set(indices)"
     ],
     "language": "python",
     "metadata": {},
     "outputs": [],
     "prompt_number": 10
    },
    {
     "cell_type": "code",
     "collapsed": false,
     "input": [
      "matches = set_ind.intersection(tree_cols.elements)\n",
      "np.mean(mscores[0,matches])"
     ],
     "language": "python",
     "metadata": {},
     "outputs": [
      {
       "ename": "IndexError",
       "evalue": "each subindex must be either a slice, an integer, Ellipsis, or newaxis",
       "output_type": "pyerr",
       "traceback": [
        "\u001b[1;31m---------------------------------------------------------------------------\u001b[0m\n\u001b[1;31mIndexError\u001b[0m                                Traceback (most recent call last)",
        "\u001b[1;32m<ipython-input-12-e52ff5096360>\u001b[0m in \u001b[0;36m<module>\u001b[1;34m()\u001b[0m\n\u001b[0;32m      1\u001b[0m \u001b[0mmatches\u001b[0m \u001b[1;33m=\u001b[0m \u001b[0mset_ind\u001b[0m\u001b[1;33m.\u001b[0m\u001b[0mintersection\u001b[0m\u001b[1;33m(\u001b[0m\u001b[0mtree_cols\u001b[0m\u001b[1;33m.\u001b[0m\u001b[0melements\u001b[0m\u001b[1;33m)\u001b[0m\u001b[1;33m\u001b[0m\u001b[0m\n\u001b[1;32m----> 2\u001b[1;33m \u001b[0mnp\u001b[0m\u001b[1;33m.\u001b[0m\u001b[0mmean\u001b[0m\u001b[1;33m(\u001b[0m\u001b[0mmscores\u001b[0m\u001b[1;33m[\u001b[0m\u001b[1;36m0\u001b[0m\u001b[1;33m,\u001b[0m\u001b[0mmatches\u001b[0m\u001b[1;33m]\u001b[0m\u001b[1;33m)\u001b[0m\u001b[1;33m\u001b[0m\u001b[0m\n\u001b[0m",
        "\u001b[1;31mIndexError\u001b[0m: each subindex must be either a slice, an integer, Ellipsis, or newaxis"
       ]
      }
     ],
     "prompt_number": 12
    },
    {
     "cell_type": "code",
     "collapsed": false,
     "input": [
      "np.shape(mscores)"
     ],
     "language": "python",
     "metadata": {},
     "outputs": [
      {
       "output_type": "pyout",
       "prompt_number": 13,
       "text": [
        "(9L, 471L)"
       ]
      }
     ],
     "prompt_number": 13
    },
    {
     "cell_type": "code",
     "collapsed": false,
     "input": [
      "np.mean(scores[:,np.array(list(matches))],axis=1)"
     ],
     "language": "python",
     "metadata": {},
     "outputs": [
      {
       "output_type": "pyout",
       "prompt_number": 25,
       "text": [
        "array([ 13.16135881,  29.63906582,  27.81104034,  26.27600849,\n",
        "        16.5881104 ,  25.05732484,  29.85562633,  20.73248408,  35.3163482 ])"
       ]
      }
     ],
     "prompt_number": 25
    },
    {
     "cell_type": "code",
     "collapsed": false,
     "input": [
      "reload(tree_utils)\n",
      "imputed_values = tree_utils.impute(tree_cols,indices,scores)\n",
      "print np.shape(imputed_values)\n",
      "imputed_values"
     ],
     "language": "python",
     "metadata": {},
     "outputs": [
      {
       "output_type": "stream",
       "stream": "stdout",
       "text": [
        "(9L, 2428L)\n"
       ]
      },
      {
       "output_type": "pyout",
       "prompt_number": 35,
       "text": [
        "array([[  5.        ,   8.25      ,  18.4       , ...,   7.        ,\n",
        "         21.5       ,   7.66666667],\n",
        "       [ 19.        ,  27.        ,  39.6       , ...,  27.        ,\n",
        "         34.5       ,  29.22222222],\n",
        "       [ 26.        ,  27.        ,  31.6       , ...,  24.        ,\n",
        "         36.        ,  27.11111111],\n",
        "       ..., \n",
        "       [ 22.        ,  16.5       ,  37.4       , ...,  26.        ,\n",
        "         51.5       ,  22.77777778],\n",
        "       [ 29.        ,  18.75      ,  18.4       , ...,  24.        ,\n",
        "         29.5       ,  21.        ],\n",
        "       [ 20.        ,  26.75      ,  49.8       , ...,  26.        ,\n",
        "         35.5       ,  28.55555556]])"
       ]
      }
     ],
     "prompt_number": 35
    },
    {
     "cell_type": "code",
     "collapsed": false,
     "input": [
      "haar_basis_cols.dot(score_coeffs)"
     ],
     "language": "python",
     "metadata": {},
     "outputs": [
      {
       "output_type": "pyout",
       "prompt_number": 30,
       "text": [
        "array([[  5.99798871,  22.39624182,  26.49923539, ...,  22.00663731,\n",
        "         22.0321142 ,  19.99980593],\n",
        "       [  6.93323482,  22.99934216,  25.03970562, ...,  15.7527739 ,\n",
        "         18.78446668,  24.04283889],\n",
        "       [ 15.87227315,  37.9477089 ,  30.99488903, ...,  38.6354521 ,\n",
        "         19.92335243,  48.35448088],\n",
        "       ..., \n",
        "       [  6.99947458,  26.99202599,  23.99990661, ...,  26.00124243,\n",
        "         24.00004101,  26.00006716],\n",
        "       [ 17.88702794,  34.73163584,  31.71851814, ...,  47.99440402,\n",
        "         21.49036469,  41.97469179],\n",
        "       [  9.00383573,  30.34722106,  27.77510812, ...,  27.25415776,\n",
        "         20.45553055,  32.7116635 ]])"
       ]
      }
     ],
     "prompt_number": 30
    },
    {
     "cell_type": "code",
     "collapsed": false,
     "input": [
      "def mse(predictions,truth):\n",
      "    return np.mean((predictions-truth)**2)"
     ],
     "language": "python",
     "metadata": {},
     "outputs": [],
     "prompt_number": 57
    },
    {
     "cell_type": "code",
     "collapsed": false,
     "input": [
      "mse(imputed_values[0,:],scores[0,:])"
     ],
     "language": "python",
     "metadata": {},
     "outputs": [
      {
       "output_type": "pyout",
       "prompt_number": 67,
       "text": [
        "27.005493103751512"
       ]
      }
     ],
     "prompt_number": 67
    },
    {
     "cell_type": "code",
     "collapsed": false,
     "input": [
      "np.shape(imputed_values)"
     ],
     "language": "python",
     "metadata": {},
     "outputs": [
      {
       "output_type": "pyout",
       "prompt_number": 59,
       "text": [
        "(9L, 2428L)"
       ]
      }
     ],
     "prompt_number": 59
    },
    {
     "cell_type": "code",
     "collapsed": false,
     "input": [
      "np.shape(scores)"
     ],
     "language": "python",
     "metadata": {},
     "outputs": [
      {
       "output_type": "pyout",
       "prompt_number": 60,
       "text": [
        "(9L, 2428L)"
       ]
      }
     ],
     "prompt_number": 60
    },
    {
     "cell_type": "code",
     "collapsed": false,
     "input": [
      "haar_extension = haar_basis_cols.dot(score_coeffs)"
     ],
     "language": "python",
     "metadata": {},
     "outputs": [],
     "prompt_number": 62
    },
    {
     "cell_type": "code",
     "collapsed": false,
     "input": [
      "np.shape(haar_extension)"
     ],
     "language": "python",
     "metadata": {},
     "outputs": [
      {
       "output_type": "pyout",
       "prompt_number": 63,
       "text": [
        "(2428L, 9L)"
       ]
      }
     ],
     "prompt_number": 63
    },
    {
     "cell_type": "code",
     "collapsed": false,
     "input": [
      "mse(haar_extension.T,scores)"
     ],
     "language": "python",
     "metadata": {},
     "outputs": [
      {
       "output_type": "pyout",
       "prompt_number": 64,
       "text": [
        "31.890120672452184"
       ]
      }
     ],
     "prompt_number": 64
    },
    {
     "cell_type": "code",
     "collapsed": false,
     "input": [
      "np.max(imputed_values-scores)"
     ],
     "language": "python",
     "metadata": {},
     "outputs": [
      {
       "output_type": "pyout",
       "prompt_number": 66,
       "text": [
        "25.0"
       ]
      }
     ],
     "prompt_number": 66
    },
    {
     "cell_type": "code",
     "collapsed": false,
     "input": [
      "imputed_values[0,:]"
     ],
     "language": "python",
     "metadata": {},
     "outputs": [
      {
       "output_type": "pyout",
       "prompt_number": 68,
       "text": [
        "array([  5.        ,   8.25      ,  18.4       , ...,   7.        ,\n",
        "        21.5       ,   7.66666667])"
       ]
      }
     ],
     "prompt_number": 68
    },
    {
     "cell_type": "code",
     "collapsed": false,
     "input": [
      "scores[0,:]"
     ],
     "language": "python",
     "metadata": {},
     "outputs": [
      {
       "output_type": "pyout",
       "prompt_number": 69,
       "text": [
        "array([ 6,  8, 20, ...,  7, 13, 19], dtype=uint8)"
       ]
      }
     ],
     "prompt_number": 69
    },
    {
     "cell_type": "code",
     "collapsed": false,
     "input": [
      "imputed_values[:,np.array(list(indices))] - mscores"
     ],
     "language": "python",
     "metadata": {},
     "outputs": [
      {
       "output_type": "pyout",
       "prompt_number": 71,
       "text": [
        "array([[ 0.  ,  4.  ,  0.  , ...,  0.  , -7.5 ,  0.  ],\n",
        "       [ 0.  , -2.25,  0.  , ...,  0.  , -2.5 ,  0.  ],\n",
        "       [ 0.  ,  5.  ,  0.  , ...,  0.  , -6.5 ,  0.  ],\n",
        "       ..., \n",
        "       [ 0.  , -1.75,  0.  , ...,  0.  , -3.5 ,  0.  ],\n",
        "       [ 0.  ,  2.  ,  0.  , ...,  0.  , -1.5 ,  0.  ],\n",
        "       [ 0.  ,  1.  ,  0.  , ...,  0.  ,  0.5 ,  0.  ]])"
       ]
      }
     ],
     "prompt_number": 71
    },
    {
     "cell_type": "code",
     "collapsed": false,
     "input": [
      "haar_extension.T[:,np.array(list(indices))] - mscores"
     ],
     "language": "python",
     "metadata": {},
     "outputs": [
      {
       "output_type": "pyout",
       "prompt_number": 74,
       "text": [
        "array([[  4.57663434e-05,   2.79796850e-03,   7.43432647e-04, ...,\n",
        "         -1.16970257e-05,  -3.22135434e-05,  -5.25423339e-04],\n",
        "       [ -1.48254075e-05,  -2.24964279e-02,   5.26156223e-04, ...,\n",
        "          2.83094070e-05,   8.42955579e-04,  -7.97401314e-03],\n",
        "       [  4.02870037e-04,  -1.42811703e-03,  -2.67714491e-04, ...,\n",
        "          1.77675950e-04,  -3.03742741e-04,  -9.33901067e-05],\n",
        "       ..., \n",
        "       [ -2.86105836e-02,   6.45511142e-04,  -6.01295692e-05, ...,\n",
        "         -7.54514631e-04,   2.81562559e-04,   1.24243146e-03],\n",
        "       [ -3.88360304e-04,  -7.35615190e-04,   6.19208128e-05, ...,\n",
        "          4.30410351e-05,   1.12193504e-04,   4.10097454e-05],\n",
        "       [  1.54511105e-04,  -2.16489353e-04,  -1.72896736e-03, ...,\n",
        "          1.07944041e-02,  -4.45067972e-04,   6.71610694e-05]])"
       ]
      }
     ],
     "prompt_number": 74
    },
    {
     "cell_type": "code",
     "collapsed": false,
     "input": [
      "np.sum(np.abs(_))"
     ],
     "language": "python",
     "metadata": {},
     "outputs": [
      {
       "output_type": "pyout",
       "prompt_number": 75,
       "text": [
        "12.392227776407493"
       ]
      }
     ],
     "prompt_number": 75
    },
    {
     "cell_type": "code",
     "collapsed": false,
     "input": [],
     "language": "python",
     "metadata": {},
     "outputs": []
    }
   ],
   "metadata": {}
  }
 ]
}