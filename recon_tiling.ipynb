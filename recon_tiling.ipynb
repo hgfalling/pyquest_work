{
 "metadata": {
  "name": "recon_tiling"
 },
 "nbformat": 3,
 "nbformat_minor": 0,
 "worksheets": [
  {
   "cells": [
    {
     "cell_type": "code",
     "collapsed": false,
     "input": [
      "import contextlib\n",
      "\n",
      "@contextlib.contextmanager\n",
      "def printoptions(*args,**kwargs):\n",
      "    original = np.get_printoptions()\n",
      "    np.set_printoptions(*args,**kwargs)\n",
      "    yield\n",
      "    np.set_printoptions(**original)"
     ],
     "language": "python",
     "metadata": {},
     "outputs": [],
     "prompt_number": 664
    },
    {
     "cell_type": "code",
     "collapsed": false,
     "input": [
      "from imports import * \n",
      "reload(haar)\n",
      "reload(tree)"
     ],
     "language": "python",
     "metadata": {},
     "outputs": [
      {
       "output_type": "pyout",
       "prompt_number": 665,
       "text": [
        "<module 'tree' from 'tree.pyc'>"
       ]
      }
     ],
     "prompt_number": 665
    },
    {
     "cell_type": "code",
     "collapsed": false,
     "input": [
      "n=16\n",
      "data_type = 3 #0=str,1=vertsplit,2=horsplit,3=random\n",
      "\n",
      "data = np.zeros([n,n],np.float)\n",
      "\n",
      "if data_type == 0:\n",
      "    data[0:2,0:2] = 0.25\n",
      "    data[2:4,0:4] = 0.75\n",
      "    data[0,2:4] = 1.0\n",
      "    data[1,2:4] = 0.25\n",
      "    data[2:4,2:4] = 0.75\n",
      "elif data_type == 1:\n",
      "    data[:,n/2:n] = 1.0\n",
      "elif data_type == 2:\n",
      "    data[n/2:n,:] = 1.0\n",
      "elif data_type == 3:\n",
      "    people_averages = np.random.normal(0.25,0.25,n)\n",
      "    question_averages = np.random.normal(0.25,0.25,n)\n",
      "    data = np.ones([n,n],np.float)*(np.random.rand(n,n) < (np.add.outer(people_averages,question_averages)))\n",
      "elif data_type == 4:\n",
      "    data[0,0:1] = 0.1\n",
      "    data[1,0] = 0.7\n",
      "    data[1,1] = 0.1\n",
      "    \n",
      "row_order = data.sum(axis=1).argsort()\n",
      "col_order = data.sum(axis=0).argsort()\n",
      "data = data[row_order,:][:,col_order]\n",
      "    \n",
      "data = data*2.0 - 1.0\n",
      "cplot(data*1.01)"
     ],
     "language": "python",
     "metadata": {},
     "outputs": [
      {
       "output_type": "display_data",
       "png": "[encoded data removed]"
      }
     ],
     "prompt_number": 666
    },
    {
     "cell_type": "code",
     "collapsed": false,
     "input": [
      "t = tree.dyadic_tree(int(np.log2(n)+0.01))\n",
      "rhb, row_parents = haar.compute_haar(t,True)\n",
      "chb, col_parents = haar.compute_haar(t,True)\n"
     ],
     "language": "python",
     "metadata": {},
     "outputs": [],
     "prompt_number": 667
    },
    {
     "cell_type": "code",
     "collapsed": false,
     "input": [
      "cost = np.zeros([t.tree_size,t.tree_size],np.float)\n",
      "#for each box we need the average on the box, and the haar coefficients from splitting the box in two vertically and horizontally.\n",
      "row_tree = t\n",
      "col_tree = t\n",
      "\n",
      "coefs = haar.bihaar_transform(data,row_tree,col_tree)\n",
      "biavgs = tree_util.bitree_averages(data,row_tree,col_tree)\n",
      "\n",
      "TILE_AVG_ALPHA = 0.0\n",
      "#penalty function for tiles\n",
      "tile_avg_coef = np.zeros([t.tree_size,t.tree_size],np.float)\n",
      "for ridx in range(0,row_tree.tree_size):\n",
      "    for cidx in range(0,col_tree.tree_size):\n",
      "        tile_size = 1.0*col_tree[cidx].size*row_tree[ridx].size/(col_tree.tree_size*row_tree.tree_size)\n",
      "        tile_avg_coef[ridx,cidx] = 1.0/(tile_size**TILE_AVG_ALPHA)\n",
      "        #tile_avg_coef[ridx,cidx] = 1.0\n",
      "\n",
      "#horizontal and vertical splits\n",
      "hsplit_coef = np.zeros([t.tree_size,t.tree_size],np.float)\n",
      "vsplit_coef = np.zeros([t.tree_size,t.tree_size],np.float)\n",
      "for ridx in range(0,row_tree.tree_size):\n",
      "    for cidx in range(0,col_tree.tree_size):\n",
      "        #horizontal\n",
      "        if len(row_tree[ridx].children) > 0:\n",
      "            #if there are no row children, then there's no horizontal split.\n",
      "            row_children = [x.idx for x in row_tree[ridx].children]\n",
      "            row_sizes = [x.size*col_tree[cidx].size for x in row_tree[ridx].children]\n",
      "            rf_avgs = np.array(biavgs[row_children,cidx])\n",
      "            rf_sizes = np.array(row_sizes)\n",
      "            hv = haar.haar_vectors(len(row_tree[ridx].children),row_sizes)\n",
      "            hsplit_coef[ridx,cidx] = np.abs((rf_avgs*rf_sizes).dot(hv[:,1]))\n",
      "        else:\n",
      "            hsplit_coef[ridx,cidx] = 0.0\n",
      "\n",
      "        #vertical\n",
      "        if len(col_tree[cidx].children) > 0:\n",
      "            col_children = [x.idx for x in col_tree[cidx].children]\n",
      "            col_sizes = [x.size*row_tree[ridx].size for x in col_tree[cidx].children]\n",
      "            vf_avgs = np.array(biavgs[ridx,col_children])\n",
      "            vf_sizes = np.array(col_sizes)\n",
      "            hv = haar.haar_vectors(len(col_tree[cidx].children),col_sizes)\n",
      "            vsplit_coef[ridx,cidx] = np.abs((vf_avgs*vf_sizes).dot(hv[:,1]))\n",
      "        else:\n",
      "            vsplit_coef[ridx,cidx] = 0.0\n",
      "            \n",
      "#now we need to add up the tile penalty and the horizontal and \n",
      "#vertical splits for the current thing and all its children\n",
      "for ridx in range(0,row_tree.tree_size):\n",
      "    for cidx in range(0,col_tree.tree_size):\n",
      "\n",
      "        if ridx == 0 and cidx == 0:\n",
      "            cost[0,0] = tile_avg_coef[0,0] + hsplit_coef[0,0] + vsplit_coef[0,0]\n",
      "        elif ridx == 0 and cidx > 0:\n",
      "            cost[0,cidx] = tile_avg_coef[0,cidx]\n",
      "            for subrow in row_tree[ridx].traverse():\n",
      "                cost[0,cidx] += hsplit_coef[subrow.idx,cidx]\n",
      "                #print subrow.idx, cidx, hsplit_coef[subrow.idx,cidx]\n",
      "        elif ridx > 0 and cidx == 0:\n",
      "            cost[ridx,0] = tile_avg_coef[ridx,0]\n",
      "            for subcol in col_tree[cidx].traverse():\n",
      "                cost[ridx,0] += vsplit_coef[ridx,subcol.idx]\n",
      "                #print cost[ridx,0]\n",
      "        else:\n",
      "            cost[ridx,cidx] = tile_avg_coef[ridx,cidx] + hsplit_coef[ridx,cidx] + vsplit_coef[ridx,cidx]\n",
      "            #print ridx, cidx, tile_avg_coef, hsplit_coef, vsplit_coef, cost[ridx,cidx]\n",
      "\n",
      "#print tile_avg_coef\n",
      "#print hsplit_coef\n",
      "#print vsplit_coef\n",
      "#print cost\n",
      "#cplot(data)\n"
     ],
     "language": "python",
     "metadata": {},
     "outputs": [],
     "prompt_number": 668
    },
    {
     "cell_type": "code",
     "collapsed": false,
     "input": [
      "row_matrix = np.zeros([row_tree.tree_size,row_tree.size])\n",
      "col_matrix = np.zeros([col_tree.size,col_tree.tree_size])\n",
      "for (haarrow,parent) in enumerate(row_parents):\n",
      "    #print haarrow,parent\n",
      "    if parent < 0:\n",
      "        continue\n",
      "    else:\n",
      "        #parents = [parent] + row_tree[parent].all_parents()\n",
      "        parents = row_tree[parent].all_parents()\n",
      "        #print parents\n",
      "        row_matrix[parents,haarrow] = 1.0\n",
      "for (haarcol,parent) in enumerate(row_parents):\n",
      "    #print haarcol,parent\n",
      "    if parent < 0:\n",
      "        continue\n",
      "    else:\n",
      "        #parents = [parent] + col_tree[parent].all_parents()\n",
      "        parents = col_tree[parent].all_parents()\n",
      "        #print parents\n",
      "        col_matrix[haarcol,parents] = 1.0"
     ],
     "language": "python",
     "metadata": {},
     "outputs": [],
     "prompt_number": 669
    },
    {
     "cell_type": "code",
     "collapsed": false,
     "input": [
      "c2 = row_matrix.dot(np.abs(coefs)).dot(col_matrix)"
     ],
     "language": "python",
     "metadata": {},
     "outputs": [],
     "prompt_number": 670
    },
    {
     "cell_type": "code",
     "collapsed": false,
     "input": [
      "folders_dict = {}\n",
      "chosen = np.zeros([t.tree_size,t.tree_size],np.bool)\n",
      "psi = np.zeros([t.tree_size,t.tree_size],np.float)\n",
      "findex = np.zeros([t.tree_size,t.tree_size],np.int)\n",
      "for row_node in t:\n",
      "    for col_node in t:\n",
      "        findex[row_node.idx,col_node.idx] = 2 + row_tree.tree_depth - row_node.level + col_tree.tree_depth - col_node.level\n",
      "phi = cost + c2\n",
      "for i in range(t.tree_size):\n",
      "    for j in range(t.tree_size):\n",
      "        folders_dict[(i,j)] = [(i,j)]\n",
      "psi[findex==2] = phi[findex==2]\n",
      "for index in range(3,np.max(findex)+1):\n",
      "    indices = zip(*np.where(findex==index))\n",
      "    for (x,y) in indices:\n",
      "        row_node = row_tree[x]\n",
      "        if row_node.level == row_tree.tree_depth:\n",
      "            row_children = []\n",
      "            rowcost = np.inf\n",
      "        else:\n",
      "            row_children = [node.idx for node in row_node.children]\n",
      "            rowcost = np.sum(psi[row_children,y])\n",
      "        col_node = col_tree[y]\n",
      "        if col_node.level == col_tree.tree_depth:\n",
      "            col_children = []\n",
      "            colcost = np.inf\n",
      "        else:\n",
      "            col_children = [node.idx for node in col_node.children]\n",
      "            colcost = np.sum(psi[x,col_children])\n",
      "        values = np.array([rowcost,colcost,phi[x,y]])\n",
      "        valchosen = values.argmin()\n",
      "        psi[x,y] = values.min()\n",
      "        #print \"{},{},{} rowcost: {} colcost: {} phi: {}\".format(x,y,findex[x,y],rowcost,colcost,phi[x,y])\n",
      "        #print valchosen\n",
      "        if valchosen == 2:\n",
      "            folders_dict[(x,y)] = [(x,y)]\n",
      "            continue\n",
      "        if valchosen == 0: #if rowcost is best.\n",
      "            folders_dict[(x,y)] = []\n",
      "            for row_child in row_node.children:\n",
      "                folders_dict[(x,y)].extend(folders_dict[(row_child.idx,y)])\n",
      "            continue\n",
      "        if valchosen == 1: #colcost is best\n",
      "            folders_dict[(x,y)] = []\n",
      "            for col_child in col_node.children:\n",
      "                folders_dict[(x,y)].extend(folders_dict[(x,col_child.idx)])\n",
      "            continue\n",
      "for (x,y) in folders_dict[(0,0)]:\n",
      "    chosen[x,y] = True\n",
      "\n"
     ],
     "language": "python",
     "metadata": {},
     "outputs": [],
     "prompt_number": 671
    },
    {
     "cell_type": "code",
     "collapsed": false,
     "input": [
      "with printoptions(precision=4,suppress=True):\n",
      "    pass"
     ],
     "language": "python",
     "metadata": {},
     "outputs": [],
     "prompt_number": 672
    },
    {
     "cell_type": "code",
     "collapsed": false,
     "input": [
      "print cost[2,9], cost[2,19], cost[2,20]\n",
      "print c2[2,9], c2[2,19], c2[2,20]"
     ],
     "language": "python",
     "metadata": {},
     "outputs": [
      {
       "output_type": "stream",
       "stream": "stdout",
       "text": [
        "2.0 1.0 1.0\n",
        "0.0 0.0 0.0\n"
       ]
      }
     ],
     "prompt_number": 673
    },
    {
     "cell_type": "code",
     "collapsed": false,
     "input": [
      "[x.idx for x in col_tree[9].children]"
     ],
     "language": "python",
     "metadata": {},
     "outputs": [
      {
       "output_type": "pyout",
       "prompt_number": 674,
       "text": [
        "[19, 20]"
       ]
      }
     ],
     "prompt_number": 674
    },
    {
     "cell_type": "code",
     "collapsed": false,
     "input": [
      "cplot(np.outer(rhb[:,3],chb[:,10]))\n",
      "plt.show()\n",
      "cplot(np.outer(rhb[:,7],chb[:,10]))\n",
      "plt.show()\n",
      "cplot(np.outer(rhb[:,6],chb[:,10]))\n"
     ],
     "language": "python",
     "metadata": {},
     "outputs": [
      {
       "output_type": "display_data",
       "png": "[encoded data removed]"
      },
      {
       "output_type": "display_data",
       "png": "[encoded data removed]"
      },
      {
       "output_type": "display_data",
       "png": "[encoded data removed]"
      }
     ],
     "prompt_number": 675
    },
    {
     "cell_type": "code",
     "collapsed": false,
     "input": [
      "print coefs[3,10], coefs[6,10], coefs[7,10]\n"
     ],
     "language": "python",
     "metadata": {},
     "outputs": [
      {
       "output_type": "stream",
       "stream": "stdout",
       "text": [
        "0.0 -0.707106781187 -0.707106781187\n"
       ]
      }
     ],
     "prompt_number": 676
    },
    {
     "cell_type": "code",
     "collapsed": false,
     "input": [
      "[x.idx for x in row_tree[3].children]"
     ],
     "language": "python",
     "metadata": {},
     "outputs": [
      {
       "output_type": "pyout",
       "prompt_number": 677,
       "text": [
        "[7, 8]"
       ]
      }
     ],
     "prompt_number": 677
    },
    {
     "cell_type": "code",
     "collapsed": false,
     "input": [
      "def productfolder(row_tree,col_tree,ridx,cidx):\n",
      "    pf = np.zeros([row_tree.size,col_tree.size],np.int)\n",
      "    for i in row_tree[ridx].elements:\n",
      "        for j in col_tree[cidx].elements:\n",
      "            pf[i,j] = 1.0\n",
      "    return pf\n",
      "\n",
      "def cover(chosen_array):\n",
      "    cv = np.zeros([row_tree.size,col_tree.size])\n",
      "    m,n = chosen_array.shape\n",
      "    for i in range(m):\n",
      "        for j in range(n):\n",
      "            if chosen_array[i,j]:\n",
      "                cv += productfolder(row_tree,col_tree,i,j)\n",
      "    return cv\n",
      "\n",
      "def reconstruct(data,chosen_array):\n",
      "    recon = np.zeros([row_tree.size,col_tree.size])\n",
      "    included = zip(*np.where(chosen_array))\n",
      "    for (x,y) in included:\n",
      "        for i in row_tree[x].elements:\n",
      "            for j in col_tree[y].elements:\n",
      "                recon[i,j] = biavgs[x,y]\n",
      "    return recon\n",
      "    "
     ],
     "language": "python",
     "metadata": {},
     "outputs": [],
     "prompt_number": 678
    },
    {
     "cell_type": "code",
     "collapsed": false,
     "input": [
      "cplot(reconstruct(data,chosen))"
     ],
     "language": "python",
     "metadata": {},
     "outputs": [
      {
       "output_type": "display_data",
       "png": "[encoded data removed]"
      }
     ],
     "prompt_number": 679
    },
    {
     "cell_type": "code",
     "collapsed": false,
     "input": [
      "cplot(data)"
     ],
     "language": "python",
     "metadata": {},
     "outputs": [
      {
       "output_type": "display_data",
       "png": "[encoded data removed]"
      }
     ],
     "prompt_number": 680
    },
    {
     "cell_type": "code",
     "collapsed": false,
     "input": [
      "print phi[2,16], phi[2,15], phi[2,7]"
     ],
     "language": "python",
     "metadata": {},
     "outputs": [
      {
       "output_type": "stream",
       "stream": "stdout",
       "text": [
        "1.70710678119 1.0 2.0\n"
       ]
      }
     ],
     "prompt_number": 681
    },
    {
     "cell_type": "code",
     "collapsed": false,
     "input": [
      "chosen = np.zeros([n,n],np.bool)\n",
      "chosen[2,9] = True\n",
      "cplot(cover(chosen))\n",
      "plt.show()\n",
      "cplot(data[8:,4:6])"
     ],
     "language": "python",
     "metadata": {},
     "outputs": [
      {
       "output_type": "display_data",
       "png": "[encoded data removed]"
      },
      {
       "output_type": "display_data",
       "png": "[encoded data removed]"
      }
     ],
     "prompt_number": 682
    },
    {
     "cell_type": "code",
     "collapsed": false,
     "input": [
      "psi[2,7]"
     ],
     "language": "python",
     "metadata": {},
     "outputs": [
      {
       "output_type": "pyout",
       "prompt_number": 683,
       "text": [
        "2.0"
       ]
      }
     ],
     "prompt_number": 683
    },
    {
     "cell_type": "code",
     "collapsed": false,
     "input": [
      "[x.idx for x in col_tree[7].children]"
     ],
     "language": "python",
     "metadata": {},
     "outputs": [
      {
       "output_type": "pyout",
       "prompt_number": 684,
       "text": [
        "[15, 16]"
       ]
      }
     ],
     "prompt_number": 684
    },
    {
     "cell_type": "code",
     "collapsed": false,
     "input": [
      "col_tree[7].elements"
     ],
     "language": "python",
     "metadata": {},
     "outputs": [
      {
       "output_type": "pyout",
       "prompt_number": 685,
       "text": [
        "[0, 1]"
       ]
      }
     ],
     "prompt_number": 685
    },
    {
     "cell_type": "code",
     "collapsed": false,
     "input": [],
     "language": "python",
     "metadata": {},
     "outputs": [],
     "prompt_number": 685
    }
   ],
   "metadata": {}
  }
 ]
}