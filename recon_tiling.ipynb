{
 "metadata": {
  "name": ""
 },
 "nbformat": 3,
 "nbformat_minor": 0,
 "worksheets": [
  {
   "cells": [
    {
     "cell_type": "code",
     "collapsed": false,
     "input": [
      "import contextlib\n",
      "\n",
      "@contextlib.contextmanager\n",
      "def printoptions(*args,**kwargs):\n",
      "    original = np.get_printoptions()\n",
      "    np.set_printoptions(*args,**kwargs)\n",
      "    yield\n",
      "    np.set_printoptions(**original)"
     ],
     "language": "python",
     "metadata": {},
     "outputs": [],
     "prompt_number": 302
    },
    {
     "cell_type": "code",
     "collapsed": false,
     "input": [
      "from imports import * \n",
      "reload(haar)\n",
      "reload(tree)"
     ],
     "language": "python",
     "metadata": {},
     "outputs": [
      {
       "metadata": {},
       "output_type": "pyout",
       "prompt_number": 303,
       "text": [
        "<module 'tree' from 'tree.pyc'>"
       ]
      }
     ],
     "prompt_number": 303
    },
    {
     "cell_type": "code",
     "collapsed": false,
     "input": [
      "n=2\n",
      "data_type = 4 #0=str,1=vertsplit,2=horsplit,3=random\n",
      "\n",
      "data = np.zeros([n,n],np.float)\n",
      "\n",
      "if data_type == 0:\n",
      "    data[0:2,0:2] = 0.25\n",
      "    data[2:4,0:4] = 0.75\n",
      "    data[0,2:4] = 1.0\n",
      "    data[1,2:4] = 0.25\n",
      "    data[2:4,2:4] = 0.75\n",
      "elif data_type == 1:\n",
      "    data[:,n/2:n] = 1.0\n",
      "elif data_type == 2:\n",
      "    data[n/2:n,:] = 1.0\n",
      "elif data_type == 3:\n",
      "    data = np.random.rand(n,n)\n",
      "elif data_type == 4:\n",
      "    data[0,0:1] = 0.1\n",
      "    data[1,0] = 0.7\n",
      "    data[1,1] = 0.1\n",
      "\n",
      "data = data*2.0 - 1.0\n",
      "cplot(data)"
     ],
     "language": "python",
     "metadata": {},
     "outputs": [
      {
       "metadata": {},
       "output_type": "display_data",
       "png": "[encoded data removed]",
       "text": [
        "<matplotlib.figure.Figure at 0xa831518>"
       ]
      }
     ],
     "prompt_number": 319
    },
    {
     "cell_type": "code",
     "collapsed": false,
     "input": [
      "t = tree.dyadic_tree(int(np.log2(n)+0.01))\n",
      "rhb, row_parents = haar.compute_haar(t,True)\n",
      "chb, col_parents = haar.compute_haar(t,True)\n"
     ],
     "language": "python",
     "metadata": {},
     "outputs": [],
     "prompt_number": 320
    },
    {
     "cell_type": "code",
     "collapsed": false,
     "input": [
      "cost = np.zeros([t.tree_size,t.tree_size],np.float)\n",
      "#for each box we need the average on the box, and the haar coefficients from splitting the box in two vertically and horizontally.\n",
      "row_tree = t\n",
      "col_tree = t\n",
      "\n",
      "coefs = haar.bihaar_transform(data,row_tree,col_tree)\n",
      "biavgs = tree_util.bitree_averages(data,row_tree,col_tree)\n",
      "\n",
      "for ridx in range(0,biavgs.shape[0]):\n",
      "    for cidx in range(0,biavgs.shape[1]):\n",
      "        tile = data[row_tree[ridx].elements,:][:,col_tree[cidx].elements]\n",
      "        tile_size = np.size(tile)\n",
      "        tile_avg_coef = 1.0*np.sqrt(tile_size)\n",
      "        \n",
      "        #tile_avg_coef = np.abs(np.sum(np.mean(tile)*np.sqrt(tile_size)))\n",
      "\n",
      "        #vertical split\n",
      "        if len(col_tree[cidx].children) > 0:\n",
      "            col_children = [x.idx for x in col_tree[cidx].children]\n",
      "            col_sizes = [x.size*row_tree[ridx].size for x in col_tree[cidx].children]\n",
      "            vf_avgs = np.array(biavgs[ridx,col_children])\n",
      "            vf_sizes = np.array(col_sizes)\n",
      "            hv = haar.haar_vectors(len(col_tree[cidx].children),col_sizes)\n",
      "            vsplit_coef = np.abs((vf_avgs*vf_sizes).dot(hv[:,1]))\n",
      "        else:\n",
      "            vsplit_coef = 0.0\n",
      "        #horizontal split\n",
      "        if len(row_tree[ridx].children) > 0:\n",
      "            row_children = [x.idx for x in row_tree[ridx].children]\n",
      "            row_sizes = [x.size*col_tree[cidx].size for x in row_tree[ridx].children]\n",
      "            rf_avgs = np.array(biavgs[row_children,cidx])\n",
      "            rf_sizes = np.array(row_sizes)\n",
      "            hv = haar.haar_vectors(len(row_tree[ridx].children),row_sizes)\n",
      "            hsplit_coef = np.abs((rf_avgs*rf_sizes).dot(hv[:,1]))\n",
      "        else:\n",
      "            hsplit_coef = 0.0\n",
      "\n",
      "        things = 0.0\n",
      "        if ridx == 0 and cidx == 0:\n",
      "            cost[0,0] = tile_avg_coef + hsplit_coef + vsplit_coef + things\n",
      "            print ridx, cidx, tile_avg_coef, vsplit_coef, hsplit_coef, cost[0,0]\n",
      "        elif ridx == 0 and cidx > 0:\n",
      "            cost[0,cidx] = tile_avg_coef + hsplit_coef + things\n",
      "            print ridx, cidx, tile_avg_coef, hsplit_coef, cost[0,cidx]\n",
      "        elif ridx > 0 and cidx == 0:\n",
      "            cost[ridx,0] = tile_avg_coef + vsplit_coef + things\n",
      "            print ridx, cidx, tile_avg_coef, vsplit_coef, cost[ridx,0]\n",
      "        else:\n",
      "            cost[ridx,cidx] = tile_avg_coef + hsplit_coef + vsplit_coef + things\n",
      "print cost\n"
     ],
     "language": "python",
     "metadata": {},
     "outputs": [
      {
       "output_type": "stream",
       "stream": "stdout",
       "text": [
        "0 0 2.0 0.7 0.7 3.4\n",
        "0 1 1.41421356237 0.848528137424 2.2627416998\n",
        "0 2 1.41421356237 0.141421356237 1.55563491861\n",
        "1 0 1.41421356237 0.141421356237 1.55563491861\n",
        "2 0 1.41421356237 0.848528137424 2.2627416998\n",
        "[[ 3.4         2.2627417   1.55563492]\n",
        " [ 1.55563492  1.          1.        ]\n",
        " [ 2.2627417   1.          1.        ]]\n"
       ]
      }
     ],
     "prompt_number": 321
    },
    {
     "cell_type": "code",
     "collapsed": false,
     "input": [
      "row_matrix = np.zeros([row_tree.tree_size,row_tree.size])\n",
      "col_matrix = np.zeros([col_tree.size,col_tree.tree_size])"
     ],
     "language": "python",
     "metadata": {},
     "outputs": [],
     "prompt_number": 322
    },
    {
     "cell_type": "code",
     "collapsed": false,
     "input": [
      "for (haarrow,parent) in enumerate(row_parents):\n",
      "    #print haarrow,parent\n",
      "    if parent < 0:\n",
      "        continue\n",
      "    else:\n",
      "        parents = [parent] + row_tree[parent].all_parents()\n",
      "        #print parents\n",
      "        row_matrix[parents,haarrow] = 1.0\n",
      "print row_matrix"
     ],
     "language": "python",
     "metadata": {},
     "outputs": [
      {
       "output_type": "stream",
       "stream": "stdout",
       "text": [
        "[[ 0.  1.]\n",
        " [ 0.  0.]\n",
        " [ 0.  0.]]\n"
       ]
      }
     ],
     "prompt_number": 323
    },
    {
     "cell_type": "code",
     "collapsed": false,
     "input": [
      "for (haarcol,parent) in enumerate(row_parents):\n",
      "    #print haarcol,parent\n",
      "    if parent < 0:\n",
      "        continue\n",
      "    else:\n",
      "        parents = [parent] + col_tree[parent].all_parents()\n",
      "        #print parents\n",
      "        col_matrix[haarcol,parents] = 1.0\n",
      "print col_matrix"
     ],
     "language": "python",
     "metadata": {},
     "outputs": [
      {
       "output_type": "stream",
       "stream": "stdout",
       "text": [
        "[[ 0.  0.  0.]\n",
        " [ 1.  0.  0.]]\n"
       ]
      }
     ],
     "prompt_number": 324
    },
    {
     "cell_type": "code",
     "collapsed": false,
     "input": [
      "c2 = row_matrix.dot(np.abs(coefs)).dot(col_matrix)"
     ],
     "language": "python",
     "metadata": {},
     "outputs": [],
     "prompt_number": 325
    },
    {
     "cell_type": "code",
     "collapsed": false,
     "input": [
      "chosen = np.zeros([t.tree_size,t.tree_size],np.bool)\n",
      "psi = np.zeros([t.tree_size,t.tree_size],np.float)\n",
      "findex = np.zeros([t.tree_size,t.tree_size],np.int)\n",
      "for row_node in t:\n",
      "    for col_node in t:\n",
      "        findex[row_node.idx,col_node.idx] = 2 + row_tree.tree_depth - row_node.level + col_tree.tree_depth - col_node.level\n",
      "phi = cost + c2\n",
      "chosen[findex==2] = True\n",
      "psi[findex==2] = phi[findex==2]\n",
      "for index in range(3,np.max(findex)+1):\n",
      "    indices = zip(*np.where(findex==index))\n",
      "    #print index, indices\n",
      "    #cplot(cover(chosen))\n",
      "    #plt.show()\n",
      "    #cplot(chosen)\n",
      "    #plt.show()\n",
      "\n",
      "    for (x,y) in indices:\n",
      "        #cplot(chosen)\n",
      "        #plt.show()\n",
      "        print chosen\n",
      "        \n",
      "        row_node = row_tree[x]\n",
      "        if row_node.level == row_tree.tree_depth:\n",
      "            row_children = []\n",
      "            rowcost = np.inf\n",
      "        else:\n",
      "            row_children = [node.idx for node in row_node.children]\n",
      "            rowcost = np.sum(psi[row_children,y])\n",
      "        col_node = col_tree[y]\n",
      "        if col_node.level == col_tree.tree_depth:\n",
      "            col_children = []\n",
      "            colcost = np.inf\n",
      "        else:\n",
      "            col_children = [node.idx for node in col_node.children]\n",
      "            colcost = np.sum(psi[x,col_children])\n",
      "        print \"{},{},{} rowcost: {} colcost: {} phi: {}\".format(x,y,findex[x,y],rowcost,colcost,phi[x,y])\n",
      "        values = np.array([rowcost,colcost,phi[x,y]])\n",
      "        valchosen = values.argmin()\n",
      "        psi[x,y] = values.min()\n",
      "        if valchosen == 2:\n",
      "            chosen[x,y] = True\n",
      "            for row_child in row_node.all_children():\n",
      "                for col_child in col_node.all_children():\n",
      "                    chosen[row_child.idx,col_child.idx] = False\n",
      "            continue\n",
      "        if valchosen == 0:\n",
      "            for col_child in col_node.all_children():\n",
      "                chosen[row_child.idx,col_child.idx] = False\n",
      "            continue\n",
      "        if valchosen == 1:\n",
      "            for col_child in col_node.all_children():\n",
      "                    chosen[row_child.idx,col_child.idx] = False\n",
      "            continue\n",
      "\n",
      "print chosen\n",
      "cplot(chosen)\n",
      "plt.show()\n",
      "cplot(cover(chosen))\n",
      "plt.show()\n"
     ],
     "language": "python",
     "metadata": {},
     "outputs": [
      {
       "output_type": "stream",
       "stream": "stdout",
       "text": [
        "[[False False False]\n",
        " [False  True  True]\n",
        " [False  True  True]]\n",
        "0,1,3 rowcost: 2.0 colcost: inf phi: 2.2627416998\n",
        "[[False False False]\n",
        " [False  True  True]\n",
        " [False  True  True]]\n",
        "0,2,3 rowcost: 2.0 colcost: inf phi: 1.55563491861\n",
        "[[False False  True]\n",
        " [False  True  True]\n",
        " [False  True  True]]\n",
        "1,0,3 rowcost: inf colcost: 2.0 phi: 1.55563491861\n",
        "[[False False  True]\n",
        " [ True  True  True]\n",
        " [False  True  True]]\n",
        "2,0,3 rowcost: inf colcost: 2.0 phi: 2.2627416998\n",
        "[[False False  True]\n",
        " [ True  True  True]\n",
        " [False False False]]\n",
        "0,0,4 rowcost: 3.55563491861 colcost: 3.55563491861 phi: 3.9\n",
        "[[False False  True]\n",
        " [ True  True  True]\n",
        " [False False False]]\n"
       ]
      },
      {
       "metadata": {},
       "output_type": "display_data",
       "png": "[encoded data removed]",
       "text": [
        "<matplotlib.figure.Figure at 0xa6ce940>"
       ]
      },
      {
       "metadata": {},
       "output_type": "display_data",
       "png": "[encoded data removed]",
       "text": [
        "<matplotlib.figure.Figure at 0x15aacef0>"
       ]
      }
     ],
     "prompt_number": 332
    },
    {
     "cell_type": "code",
     "collapsed": false,
     "input": [
      "with printoptions(precision=4,suppress=True):\n",
      "    print cost\n",
      "    print c2\n",
      "    print phi"
     ],
     "language": "python",
     "metadata": {},
     "outputs": [
      {
       "output_type": "stream",
       "stream": "stdout",
       "text": [
        "[[ 3.4     2.2627  1.5556]\n",
        " [ 1.5556  1.      1.    ]\n",
        " [ 2.2627  1.      1.    ]]\n",
        "[[ 0.5  0.   0. ]\n",
        " [ 0.   0.   0. ]\n",
        " [ 0.   0.   0. ]]\n",
        "[[ 3.9     2.2627  1.5556]\n",
        " [ 1.5556  1.      1.    ]\n",
        " [ 2.2627  1.      1.    ]]\n"
       ]
      }
     ],
     "prompt_number": 327
    },
    {
     "cell_type": "code",
     "collapsed": false,
     "input": [
      "findex"
     ],
     "language": "python",
     "metadata": {},
     "outputs": [
      {
       "metadata": {},
       "output_type": "pyout",
       "prompt_number": 328,
       "text": [
        "array([[4, 3, 3],\n",
        "       [3, 2, 2],\n",
        "       [3, 2, 2]])"
       ]
      }
     ],
     "prompt_number": 328
    },
    {
     "cell_type": "code",
     "collapsed": false,
     "input": [
      "def productfolder(row_tree,col_tree,ridx,cidx):\n",
      "    pf = np.zeros([row_tree.size,col_tree.size],np.int)\n",
      "    for i in row_tree[ridx].elements:\n",
      "        for j in col_tree[cidx].elements:\n",
      "            pf[i,j] = 1.0\n",
      "    return pf\n",
      "\n",
      "def cover(chosen_array):\n",
      "    cv = np.zeros([row_tree.size,col_tree.size])\n",
      "    m,n = chosen_array.shape\n",
      "    for i in range(m):\n",
      "        for j in range(n):\n",
      "            if chosen_array[i,j]:\n",
      "                cv += productfolder(row_tree,col_tree,i,j)\n",
      "    return cv\n",
      "    "
     ],
     "language": "python",
     "metadata": {},
     "outputs": [],
     "prompt_number": 314
    },
    {
     "cell_type": "code",
     "collapsed": false,
     "input": [
      "chosen"
     ],
     "language": "python",
     "metadata": {},
     "outputs": [
      {
       "metadata": {},
       "output_type": "pyout",
       "prompt_number": 316,
       "text": [
        "array([[False, False,  True, False, False, False, False],\n",
        "       [False, False, False, False, False, False, False],\n",
        "       [False, False, False, False, False, False, False],\n",
        "       [False, False, False, False, False, False, False],\n",
        "       [False, False, False, False, False, False, False],\n",
        "       [False, False, False, False, False, False, False],\n",
        "       [False, False, False, False, False, False, False]], dtype=bool)"
       ]
      }
     ],
     "prompt_number": 316
    },
    {
     "cell_type": "code",
     "collapsed": false,
     "input": [],
     "language": "python",
     "metadata": {},
     "outputs": []
    }
   ],
   "metadata": {}
  }
 ]
}