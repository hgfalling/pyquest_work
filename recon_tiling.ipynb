{
 "metadata": {
  "name": "recon_tiling"
 },
 "nbformat": 3,
 "nbformat_minor": 0,
 "worksheets": [
  {
   "cells": [
    {
     "cell_type": "code",
     "collapsed": false,
     "input": [
      "from imports import * \n",
      "reload(haar)\n",
      "reload(tree)"
     ],
     "language": "python",
     "metadata": {},
     "outputs": [
      {
       "output_type": "pyout",
       "prompt_number": 150,
       "text": [
        "<module 'tree' from 'tree.py'>"
       ]
      }
     ],
     "prompt_number": 150
    },
    {
     "cell_type": "code",
     "collapsed": false,
     "input": [
      "data = np.array([ [0.25,0.3,0.6,0.7], [0.3,0.35,0.65,0.75], [0.55,0.4,0.65,0.75], [0.5,0.45,0.65,0.75] ])\n",
      "data = data*2.0 - 1.0"
     ],
     "language": "python",
     "metadata": {},
     "outputs": [],
     "prompt_number": 123
    },
    {
     "cell_type": "code",
     "collapsed": false,
     "input": [
      "cplot(data)"
     ],
     "language": "python",
     "metadata": {},
     "outputs": [
      {
       "output_type": "display_data",
       "png": "[encoded data removed]"
      }
     ],
     "prompt_number": 124
    },
    {
     "cell_type": "code",
     "collapsed": false,
     "input": [
      "t = tree.dyadic_tree(2)"
     ],
     "language": "python",
     "metadata": {},
     "outputs": [],
     "prompt_number": 151
    },
    {
     "cell_type": "code",
     "collapsed": false,
     "input": [
      "rhb, row_parents = haar.compute_haar(t,True)\n",
      "chb, col_parents = haar.compute_haar(t,True)\n",
      "coefs = haar.bihaar_transform(data,t,t)"
     ],
     "language": "python",
     "metadata": {},
     "outputs": [],
     "prompt_number": 186
    },
    {
     "cell_type": "code",
     "collapsed": false,
     "input": [
      "print row_parents, col_parents"
     ],
     "language": "python",
     "metadata": {},
     "outputs": [
      {
       "output_type": "stream",
       "stream": "stdout",
       "text": [
        "[-1  0  1  2] [-1  0  1  2]\n"
       ]
      }
     ],
     "prompt_number": 36
    },
    {
     "cell_type": "code",
     "collapsed": false,
     "input": [
      "chosen = np.zeros([t.tree_size,t.tree_size],np.bool)\n",
      "psi = np.zeros([t.tree_size,t.tree_size],np.float)\n",
      "findex = np.zeros([t.tree_size,t.tree_size],np.int)"
     ],
     "language": "python",
     "metadata": {},
     "outputs": [],
     "prompt_number": 14
    },
    {
     "cell_type": "code",
     "collapsed": false,
     "input": [
      "for row_node in t:\n",
      "    for col_node in t:\n",
      "        findex[row_node.idx,col_node.idx] = row_node.level + col_node.level"
     ],
     "language": "python",
     "metadata": {},
     "outputs": [],
     "prompt_number": 15
    },
    {
     "cell_type": "code",
     "collapsed": false,
     "input": [
      "findex"
     ],
     "language": "python",
     "metadata": {},
     "outputs": [
      {
       "output_type": "pyout",
       "prompt_number": 16,
       "text": [
        "array([[2, 3, 3, 4, 4, 4, 4],\n",
        "       [3, 4, 4, 5, 5, 5, 5],\n",
        "       [3, 4, 4, 5, 5, 5, 5],\n",
        "       [4, 5, 5, 6, 6, 6, 6],\n",
        "       [4, 5, 5, 6, 6, 6, 6],\n",
        "       [4, 5, 5, 6, 6, 6, 6],\n",
        "       [4, 5, 5, 6, 6, 6, 6]])"
       ]
      }
     ],
     "prompt_number": 16
    },
    {
     "cell_type": "code",
     "collapsed": false,
     "input": [
      "data = np.array( [ [0.0,0.0,1.0,1.0], [0.0,0.0,1.0,1.0], [0.0,0.0,1.0,1.0], [0.0,0.0,1.0,1.0] ])\n",
      "data = 2*data - 1.0"
     ],
     "language": "python",
     "metadata": {},
     "outputs": [],
     "prompt_number": 185
    },
    {
     "cell_type": "code",
     "collapsed": false,
     "input": [
      "cost = np.zeros([t.tree_size,t.tree_size],np.float)\n",
      "#for each box we need the average on the box, and the haar coefficients from splitting the box in two vertically and horizontally.\n",
      "row_tree = t\n",
      "col_tree = t\n",
      "\n",
      "coefs = haar.bihaar_transform(data,row_tree,col_tree)\n",
      "biavgs = tree_util.bitree_averages(data,row_tree,col_tree)\n",
      "\n",
      "for ridx in range(0,coefs.shape[0]):\n",
      "    for cidx in range(0,coefs.shape[1]):\n",
      "        tile = data[row_tree[ridx].elements,:][:,col_tree[cidx].elements]\n",
      "        tile_size = np.size(tile)\n",
      "        tile_avg_coef = 1.0*np.sqrt(tile_size)\n",
      "        \n",
      "        #tile_avg_coef = np.abs(np.sum(np.mean(tile)*np.sqrt(tile_size)))\n",
      "\n",
      "        #vertical split\n",
      "        if len(col_tree[cidx].children) > 0:\n",
      "            col_children = [x.idx for x in col_tree[cidx].children]\n",
      "            col_sizes = [x.size*row_tree[ridx].size for x in col_tree[cidx].children]\n",
      "            vf_avgs = np.array(biavgs[ridx,col_children])\n",
      "            vf_sizes = np.array(col_sizes)\n",
      "            hv = haar.haar_vectors(len(col_tree[cidx].children),col_sizes)\n",
      "            vsplit_coef = np.abs((vf_avgs*vf_sizes).dot(hv[:,1]))\n",
      "        #horizontal split\n",
      "        if len(row_tree[ridx].children) > 0:\n",
      "            row_children = [x.idx for x in row_tree[ridx].children]\n",
      "            row_sizes = [x.size*col_tree[cidx].size for x in row_tree[ridx].children]\n",
      "            rf_avgs = np.array(biavgs[row_children,cidx])\n",
      "            rf_sizes = np.array(row_sizes)\n",
      "            hv = haar.haar_vectors(len(row_tree[ridx].children),row_sizes)\n",
      "            hsplit_coef = np.abs((rf_avgs*rf_sizes).dot(hv[:,1]))\n",
      "\n",
      "        things = 0.0\n",
      "        if ridx == 0 and cidx == 0:\n",
      "            cost[0,0] = tile_avg_coef + np.sum(np.abs(coefs)) - np.abs(coefs[0,0])\n",
      "            print ridx, cidx, tile_avg_coef, vsplit_coef, hsplit_coef, coefs[0,0], cost[0,0]\n",
      "        elif ridx == 0 and cidx > 0:\n",
      "            cost[0,cidx] = tile_avg_coef + vsplit_coef + things\n",
      "            print ridx, cidx, tile_avg_coef, vsplit_coef, cost[0,cidx]\n",
      "        elif ridx > 0 and cidx == 0:\n",
      "            cost[ridx,0] = tile_avg_coef + hsplit_coef + things\n",
      "            print ridx, cidx, tile_avg_coef, hsplit_coef, cost[ridx,0]\n",
      "        else:\n",
      "            cost[ridx,cidx] = tile_avg_coef + hsplit_coef + vsplit_coef + things\n",
      "print cost\n",
      "            \n"
     ],
     "language": "python",
     "metadata": {},
     "outputs": [
      {
       "output_type": "stream",
       "stream": "stdout",
       "text": [
        "0 0 4.0 4.0 0.0 0.0 8.0\n",
        "0 1 2.82842712475 0.0 2.82842712475\n",
        "0 2 2.82842712475 0.0 2.82842712475\n",
        "0 3 2.0 0.0 2.0\n",
        "1 0 2.82842712475 0.0 2.82842712475\n",
        "2 0 2.82842712475 0.0 2.82842712475\n",
        "3 0 2.0 0.0 2.0\n",
        "[[ 8.          2.82842712  2.82842712  2.          0.          0.          0.        ]\n",
        " [ 2.82842712  2.          2.          1.41421356  0.          0.          0.        ]\n",
        " [ 2.82842712  2.          2.          1.41421356  0.          0.          0.        ]\n",
        " [ 2.          1.41421356  1.41421356  1.          0.          0.          0.        ]\n",
        " [ 0.          0.          0.          0.          0.          0.          0.        ]\n",
        " [ 0.          0.          0.          0.          0.          0.          0.        ]\n",
        " [ 0.          0.          0.          0.          0.          0.          0.        ]]\n"
       ]
      }
     ],
     "prompt_number": 229
    },
    {
     "cell_type": "code",
     "collapsed": false,
     "input": [
      "cost"
     ],
     "language": "python",
     "metadata": {},
     "outputs": [
      {
       "output_type": "pyout",
       "prompt_number": 202,
       "text": [
        "array([[ 4.        ,  2.82842712,  2.82842712,  2.        ,  0.        ,\n",
        "         0.        ,  0.        ],\n",
        "       [ 0.        ,  2.        ,  2.        ,  1.41421356,  0.        ,\n",
        "         0.        ,  0.        ],\n",
        "       [ 0.        ,  2.        ,  2.        ,  1.41421356,  0.        ,\n",
        "         0.        ,  0.        ],\n",
        "       [ 0.        ,  1.41421356,  1.41421356,  1.        ,  0.        ,\n",
        "         0.        ,  0.        ],\n",
        "       [ 0.        ,  0.        ,  0.        ,  0.        ,  0.        ,\n",
        "         0.        ,  0.        ],\n",
        "       [ 0.        ,  0.        ,  0.        ,  0.        ,  0.        ,\n",
        "         0.        ,  0.        ],\n",
        "       [ 0.        ,  0.        ,  0.        ,  0.        ,  0.        ,\n",
        "         0.        ,  0.        ]])"
       ]
      }
     ],
     "prompt_number": 202
    },
    {
     "cell_type": "code",
     "collapsed": false,
     "input": [
      "row_matrix = np.zeros([row_tree.tree_size,row_tree.size])\n",
      "col_matrix = np.zeros([col_tree.size,col_tree.tree_size])"
     ],
     "language": "python",
     "metadata": {},
     "outputs": [],
     "prompt_number": 221
    },
    {
     "cell_type": "code",
     "collapsed": false,
     "input": [
      "for (haarrow,parent) in enumerate(row_parents):\n",
      "    #print haarrow,parent\n",
      "    if parent < 0:\n",
      "        continue\n",
      "    else:\n",
      "        parents = [parent] + row_tree[parent].all_parents()\n",
      "        #print parents\n",
      "        row_matrix[parents,haarrow] = 1.0\n",
      "print row_matrix"
     ],
     "language": "python",
     "metadata": {},
     "outputs": [
      {
       "output_type": "stream",
       "stream": "stdout",
       "text": [
        "[[ 0.  1.  1.  1.]\n",
        " [ 0.  0.  1.  0.]\n",
        " [ 0.  0.  0.  1.]\n",
        " [ 0.  0.  0.  0.]\n",
        " [ 0.  0.  0.  0.]\n",
        " [ 0.  0.  0.  0.]\n",
        " [ 0.  0.  0.  0.]]\n"
       ]
      }
     ],
     "prompt_number": 222
    },
    {
     "cell_type": "code",
     "collapsed": false,
     "input": [
      "for (haarcol,parent) in enumerate(row_parents):\n",
      "    #print haarcol,parent\n",
      "    if parent < 0:\n",
      "        continue\n",
      "    else:\n",
      "        parents = [parent] + col_tree[parent].all_parents()\n",
      "        #print parents\n",
      "        col_matrix[haarcol,parents] = 1.0\n",
      "print col_matrix"
     ],
     "language": "python",
     "metadata": {},
     "outputs": [
      {
       "output_type": "stream",
       "stream": "stdout",
       "text": [
        "[[ 0.  0.  0.  0.  0.  0.  0.]\n",
        " [ 1.  0.  0.  0.  0.  0.  0.]\n",
        " [ 1.  1.  0.  0.  0.  0.  0.]\n",
        " [ 1.  0.  1.  0.  0.  0.  0.]]\n"
       ]
      }
     ],
     "prompt_number": 223
    },
    {
     "cell_type": "code",
     "collapsed": false,
     "input": [
      "coefs = haar.bihaar_transform(data,row_tree,col_tree)\n",
      "c2 = row_matrix.dot(np.abs(coefs)).dot(col_matrix)"
     ],
     "language": "python",
     "metadata": {},
     "outputs": [],
     "prompt_number": 224
    },
    {
     "cell_type": "code",
     "collapsed": false,
     "input": [
      "coefs"
     ],
     "language": "python",
     "metadata": {},
     "outputs": [
      {
       "output_type": "pyout",
       "prompt_number": 227,
       "text": [
        "array([[ 0., -4.,  0.,  0.],\n",
        "       [ 0.,  0.,  0.,  0.],\n",
        "       [ 0.,  0.,  0.,  0.],\n",
        "       [ 0.,  0.,  0.,  0.]])"
       ]
      }
     ],
     "prompt_number": 227
    },
    {
     "cell_type": "code",
     "collapsed": false,
     "input": [
      "cplot(data)"
     ],
     "language": "python",
     "metadata": {},
     "outputs": [
      {
       "output_type": "display_data",
       "png": "[encoded data removed]"
      }
     ],
     "prompt_number": 226
    },
    {
     "cell_type": "code",
     "collapsed": false,
     "input": [
      "import contextlib\n",
      "\n",
      "@contextlib.contextmanager\n",
      "def printoptions(*args,**kwargs):\n",
      "    original = np.get_printoptions()\n",
      "    np.set_printoptions(*args,**kwargs)\n",
      "    yield\n",
      "    np.set_printoptions(**original)"
     ],
     "language": "python",
     "metadata": {},
     "outputs": [],
     "prompt_number": 197
    },
    {
     "cell_type": "code",
     "collapsed": false,
     "input": [
      "with printoptions(precision=4,suppress=True):\n",
      "    print cost\n",
      "    print c2"
     ],
     "language": "python",
     "metadata": {},
     "outputs": [
      {
       "output_type": "stream",
       "stream": "stdout",
       "text": [
        "[[ 8.      2.8284  2.8284  2.      0.      0.      0.    ]\n",
        " [ 2.8284  2.      2.      1.4142  0.      0.      0.    ]\n",
        " [ 2.8284  2.      2.      1.4142  0.      0.      0.    ]\n",
        " [ 2.      1.4142  1.4142  1.      0.      0.      0.    ]\n",
        " [ 0.      0.      0.      0.      0.      0.      0.    ]\n",
        " [ 0.      0.      0.      0.      0.      0.      0.    ]\n",
        " [ 0.      0.      0.      0.      0.      0.      0.    ]]\n",
        "[[ 0.  0.  0.  0.  0.  0.  0.]\n",
        " [ 0.  0.  0.  0.  0.  0.  0.]\n",
        " [ 0.  0.  0.  0.  0.  0.  0.]\n",
        " [ 0.  0.  0.  0.  0.  0.  0.]\n",
        " [ 0.  0.  0.  0.  0.  0.  0.]\n",
        " [ 0.  0.  0.  0.  0.  0.  0.]\n",
        " [ 0.  0.  0.  0.  0.  0.  0.]]\n"
       ]
      }
     ],
     "prompt_number": 230
    },
    {
     "cell_type": "code",
     "collapsed": false,
     "input": [
      "coefs"
     ],
     "language": "python",
     "metadata": {},
     "outputs": [
      {
       "output_type": "pyout",
       "prompt_number": 205,
       "text": [
        "array([[ 0., -4.,  0.,  0.],\n",
        "       [ 0.,  0.,  0.,  0.],\n",
        "       [ 0.,  0.,  0.,  0.],\n",
        "       [ 0.,  0.,  0.,  0.]])"
       ]
      }
     ],
     "prompt_number": 205
    },
    {
     "cell_type": "code",
     "collapsed": false,
     "input": [],
     "language": "python",
     "metadata": {},
     "outputs": []
    }
   ],
   "metadata": {}
  }
 ]
}