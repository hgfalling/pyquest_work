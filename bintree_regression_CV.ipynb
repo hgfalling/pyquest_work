{
 "metadata": {
  "name": ""
 },
 "nbformat": 3,
 "nbformat_minor": 0,
 "worksheets": [
  {
   "cells": [
    {
     "cell_type": "code",
     "collapsed": false,
     "input": [
      "import bin_regr_tree\n",
      "reload(bin_regr_tree)\n",
      "from imports import *"
     ],
     "language": "python",
     "metadata": {},
     "outputs": [],
     "prompt_number": 1
    },
    {
     "cell_type": "code",
     "collapsed": false,
     "input": [
      "%run py_load_data.py de\n",
      "trainset = np.load(\"trainsets.npz\")[\"trainsets\"]"
     ],
     "language": "python",
     "metadata": {},
     "outputs": [],
     "prompt_number": 3
    },
    {
     "cell_type": "code",
     "collapsed": false,
     "input": [
      "import pyquest_M as pym\n",
      "pm = pym.PyQuestDataModel()\n",
      "pm.load(\"base.session\")\n",
      "row_tree = pm.quest_runs[0].row_trees[-1]\n",
      "col_tree = pm.quest_runs[0].col_trees[-1]"
     ],
     "language": "python",
     "metadata": {},
     "outputs": [],
     "prompt_number": 4
    },
    {
     "cell_type": "code",
     "collapsed": false,
     "input": [
      "RUN_TREES = False\n",
      "\n",
      "with warnings.catch_warnings():\n",
      "    warnings.simplefilter(\"ignore\")\n",
      "\n",
      "    if RUN_TREES:\n",
      "        regr_trees = []\n",
      "        for i in xrange(0,6):\n",
      "            regr_trees.append(bin_regr_tree.mtree(data[:,trainset[i,:]],row_tree)) \n",
      "        fout = open(\"regrtrees.pickle\",\"wb\")\n",
      "        cPickle.dump(regr_trees,fout)\n",
      "        fout.close() \n",
      "    else:\n",
      "        fin = open(\"regrtrees.pickle\",\"rb\")\n",
      "        regr_trees = cPickle.load(fin)\n",
      "        fin.close()"
     ],
     "language": "python",
     "metadata": {},
     "outputs": [
      {
       "ename": "ImportError",
       "evalue": "No module named copy_reg\r",
       "output_type": "pyerr",
       "traceback": [
        "\u001b[1;31m---------------------------------------------------------------------------\u001b[0m\n\u001b[1;31mImportError\u001b[0m                               Traceback (most recent call last)",
        "\u001b[1;32m<ipython-input-5-b4b338b15c5a>\u001b[0m in \u001b[0;36m<module>\u001b[1;34m()\u001b[0m\n\u001b[0;32m     13\u001b[0m     \u001b[1;32melse\u001b[0m\u001b[1;33m:\u001b[0m\u001b[1;33m\u001b[0m\u001b[0m\n\u001b[0;32m     14\u001b[0m         \u001b[0mfin\u001b[0m \u001b[1;33m=\u001b[0m \u001b[0mopen\u001b[0m\u001b[1;33m(\u001b[0m\u001b[1;34m\"regrtrees.pickle\"\u001b[0m\u001b[1;33m,\u001b[0m\u001b[1;34m\"rb\"\u001b[0m\u001b[1;33m)\u001b[0m\u001b[1;33m\u001b[0m\u001b[0m\n\u001b[1;32m---> 15\u001b[1;33m         \u001b[0mregr_trees\u001b[0m \u001b[1;33m=\u001b[0m \u001b[0mcPickle\u001b[0m\u001b[1;33m.\u001b[0m\u001b[0mload\u001b[0m\u001b[1;33m(\u001b[0m\u001b[0mfin\u001b[0m\u001b[1;33m)\u001b[0m\u001b[1;33m\u001b[0m\u001b[0m\n\u001b[0m\u001b[0;32m     16\u001b[0m         \u001b[0mfin\u001b[0m\u001b[1;33m.\u001b[0m\u001b[0mclose\u001b[0m\u001b[1;33m(\u001b[0m\u001b[1;33m)\u001b[0m\u001b[1;33m\u001b[0m\u001b[0m\n",
        "\u001b[1;31mImportError\u001b[0m: No module named copy_reg\r"
       ]
      }
     ],
     "prompt_number": 5
    },
    {
     "cell_type": "code",
     "collapsed": false,
     "input": [
      "for i in xrange(0,6):\n",
      "    master_recon = np.load(\"master_recon.npz\").items()[0][1]\n",
      "    master_recon_train = np.load(\"master_recon{}.npz\".format(i+2)).items()[0][1]\n",
      "    test_set = np.where(np.logical_not(trainset[i,:]))[0]\n",
      "    pred_data = np.zeros([data.shape[0],len(test_set)])\n",
      "    for cidx,colidx in enumerate(test_set):\n",
      "        v = data[:,colidx]\n",
      "        cur_node = regr_trees[i]\n",
      "        while hasattr(cur_node,\"lm\"):\n",
      "            peig = cur_node.lm.predict(v[cur_node.active])\n",
      "            #print cur_node.level, cur_node.idx, peig\n",
      "            if peig > 0.0:\n",
      "                cur_node = cur_node.children[1]\n",
      "            else:\n",
      "                cur_node = cur_node.children[0]\n",
      "        #print cur_node.idx\n",
      "        pred_data[:,cidx] = np.mean(master_recon_train[:,cur_node.elements],axis=1)\n",
      "    diffs = pred_data - master_recon[:,test_set]\n",
      "    print \"{}: {:3.2%}\".format(i,np.mean(np.abs(diffs))/2.0)"
     ],
     "language": "python",
     "metadata": {},
     "outputs": [
      {
       "output_type": "stream",
       "stream": "stdout",
       "text": [
        "0: 6.59%\n",
        "1: 6.16%"
       ]
      },
      {
       "output_type": "stream",
       "stream": "stdout",
       "text": [
        "\n",
        "2: 6.12%"
       ]
      },
      {
       "output_type": "stream",
       "stream": "stdout",
       "text": [
        "\n",
        "3: 6.22%"
       ]
      },
      {
       "output_type": "stream",
       "stream": "stdout",
       "text": [
        "\n",
        "4: 6.39%"
       ]
      },
      {
       "output_type": "stream",
       "stream": "stdout",
       "text": [
        "\n",
        "5: 6.43%"
       ]
      },
      {
       "output_type": "stream",
       "stream": "stdout",
       "text": [
        "\n"
       ]
      }
     ],
     "prompt_number": 8
    },
    {
     "cell_type": "code",
     "collapsed": false,
     "input": [
      "def mark_centroids(emd,tree):\n",
      "    for node in tree:\n",
      "        if node.size >= 3:\n",
      "            try:\n",
      "                node.centroid = dual_affinity.centroid_point(emd,node.elements)\n",
      "            except:\n",
      "                print node.elements\n",
      "                raise"
     ],
     "language": "python",
     "metadata": {},
     "outputs": [],
     "prompt_number": 9
    },
    {
     "cell_type": "code",
     "collapsed": false,
     "input": [
      "data[:,trainset[i,:]].T.shape"
     ],
     "language": "python",
     "metadata": {},
     "outputs": [
      {
       "metadata": {},
       "output_type": "pyout",
       "prompt_number": 10,
       "text": [
        "(2000L, 567L)"
       ]
      }
     ],
     "prompt_number": 10
    },
    {
     "cell_type": "code",
     "collapsed": false,
     "input": [
      "row_emd = dual_affinity.calc_emd(data.T,col_tree)\n",
      "mark_centroids(row_emd,row_tree)\n",
      "centroids = set()\n",
      "for node in row_tree:\n",
      "    if hasattr(node,'centroid'):\n",
      "        centroids.add(node.centroid)\n",
      "centroids_list = sorted(list(centroids))"
     ],
     "language": "python",
     "metadata": {},
     "outputs": [],
     "prompt_number": 11
    },
    {
     "cell_type": "code",
     "collapsed": false,
     "input": [
      "len(centroids_list)"
     ],
     "language": "python",
     "metadata": {},
     "outputs": [
      {
       "metadata": {},
       "output_type": "pyout",
       "prompt_number": 12,
       "text": [
        "145"
       ]
      }
     ],
     "prompt_number": 12
    },
    {
     "cell_type": "code",
     "collapsed": false,
     "input": [
      "RUN_TREES = True\n",
      "\n",
      "with warnings.catch_warnings():\n",
      "    warnings.simplefilter(\"ignore\")\n",
      "\n",
      "    if RUN_TREES:\n",
      "        cent_regr_trees = []\n",
      "        for i in xrange(0,6):\n",
      "            cent_regr_trees.append(bin_regr_tree.mtree(data[:,trainset[i,:]],row_tree,centroids_list)) \n",
      "        fout = open(\"cent_regrtrees.pickle\",\"wb\")\n",
      "        cPickle.dump(cent_regr_trees,fout)\n",
      "        fout.close() \n",
      "    else:\n",
      "        fin = open(\"cent_regrtrees.pickle\",\"rb\")\n",
      "        cent_regr_trees = cPickle.load(fin)\n",
      "        fin.close()"
     ],
     "language": "python",
     "metadata": {},
     "outputs": [],
     "prompt_number": 13
    },
    {
     "cell_type": "code",
     "collapsed": false,
     "input": [
      "for i in xrange(0,6):\n",
      "    master_recon = np.load(\"master_recon.npz\").items()[0][1]\n",
      "    master_recon_train = np.load(\"master_recon{}.npz\".format(i+2)).items()[0][1]\n",
      "    test_set = np.where(np.logical_not(trainset[i,:]))[0]\n",
      "    pred_data = np.zeros([data.shape[0],len(test_set)])\n",
      "    for cidx,colidx in enumerate(test_set):\n",
      "        v = data[:,colidx]\n",
      "        cur_node = cent_regr_trees[i]\n",
      "        while hasattr(cur_node,\"lm\"):\n",
      "            peig = cur_node.lm.predict(v[cur_node.active])\n",
      "            #print cur_node.level, cur_node.idx, peig\n",
      "            if peig > 0.0:\n",
      "                cur_node = cur_node.children[-1]\n",
      "            else:\n",
      "                cur_node = cur_node.children[0]\n",
      "        #print cur_node.idx\n",
      "        pred_data[:,cidx] = np.mean(master_recon_train[:,cur_node.elements],axis=1)\n",
      "    diffs = pred_data - master_recon[:,test_set]\n",
      "    print \"{}: {:3.2%}\".format(i,np.mean(np.abs(diffs))/2.0)"
     ],
     "language": "python",
     "metadata": {},
     "outputs": [
      {
       "output_type": "stream",
       "stream": "stdout",
       "text": [
        "0: 9.28%\n",
        "1: 9.49%"
       ]
      },
      {
       "output_type": "stream",
       "stream": "stdout",
       "text": [
        "\n",
        "2: 9.36%"
       ]
      },
      {
       "output_type": "stream",
       "stream": "stdout",
       "text": [
        "\n",
        "3: 9.70%"
       ]
      },
      {
       "output_type": "stream",
       "stream": "stdout",
       "text": [
        "\n",
        "4: 9.37%"
       ]
      },
      {
       "output_type": "stream",
       "stream": "stdout",
       "text": [
        "\n",
        "5: 8.98%"
       ]
      },
      {
       "output_type": "stream",
       "stream": "stdout",
       "text": [
        "\n"
       ]
      }
     ],
     "prompt_number": 14
    },
    {
     "cell_type": "code",
     "collapsed": false,
     "input": [
      "for i in xrange(0,6):\n",
      "    master_recon = np.load(\"master_recon.npz\").items()[0][1]\n",
      "    master_recon_train = np.load(\"master_recon{}.npz\".format(i+2)).items()[0][1]\n",
      "    test_set = np.where(np.logical_not(trainset[i,:]))[0]\n",
      "    pred_data = np.zeros([data.shape[0],len(test_set)])\n",
      "    for cidx,colidx in enumerate(test_set):\n",
      "        v = data[:,colidx]\n",
      "        cur_node = regr_trees[i]\n",
      "        while hasattr(cur_node,\"lm\"):\n",
      "            peig = cur_node.lm.predict(v[cur_node.active])\n",
      "            #print cur_node.level, cur_node.idx, peig\n",
      "            if peig > 0.0:\n",
      "                cur_node = cur_node.children[1]\n",
      "            else:\n",
      "                cur_node = cur_node.children[0]\n",
      "        #print cur_node.idx\n",
      "        pred_data[:,cidx] = np.mean(master_recon_train[:,cur_node.elements],axis=1)\n",
      "        classifier = np.ones(pred_data.shape) * (pred_data > 0.0)\n",
      "    diffs = classifier - (data[:,test_set]+1.0)/2.0\n",
      "    print \"{}: {:3.2%}\".format(i,np.mean(np.abs(diffs))/2.0)"
     ],
     "language": "python",
     "metadata": {},
     "outputs": [
      {
       "output_type": "stream",
       "stream": "stdout",
       "text": [
        "0: 14.95%\n",
        "1: 14.78%"
       ]
      },
      {
       "output_type": "stream",
       "stream": "stdout",
       "text": [
        "\n",
        "2: 14.95%"
       ]
      },
      {
       "output_type": "stream",
       "stream": "stdout",
       "text": [
        "\n",
        "3: 14.74%"
       ]
      },
      {
       "output_type": "stream",
       "stream": "stdout",
       "text": [
        "\n",
        "4: 14.95%"
       ]
      },
      {
       "output_type": "stream",
       "stream": "stdout",
       "text": [
        "\n",
        "5: 14.71%"
       ]
      },
      {
       "output_type": "stream",
       "stream": "stdout",
       "text": [
        "\n"
       ]
      }
     ],
     "prompt_number": 6
    },
    {
     "cell_type": "code",
     "collapsed": false,
     "input": [
      "np.sum(np.abs(diffs))/(567*428)"
     ],
     "language": "python",
     "metadata": {},
     "outputs": [
      {
       "output_type": "pyout",
       "prompt_number": 9,
       "text": [
        "0.29418648733290476"
       ]
      }
     ],
     "prompt_number": 9
    },
    {
     "cell_type": "code",
     "collapsed": false,
     "input": [],
     "language": "python",
     "metadata": {},
     "outputs": []
    }
   ],
   "metadata": {}
  }
 ]
}