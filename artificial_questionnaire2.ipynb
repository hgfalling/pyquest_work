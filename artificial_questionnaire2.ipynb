{
 "metadata": {
  "name": "artificial_questionnaire2"
 },
 "nbformat": 3,
 "nbformat_minor": 0,
 "worksheets": [
  {
   "cells": [
    {
     "cell_type": "code",
     "collapsed": false,
     "input": [
      "from imports import *"
     ],
     "language": "python",
     "metadata": {},
     "outputs": [],
     "prompt_number": 35
    },
    {
     "cell_type": "code",
     "collapsed": false,
     "input": [
      "PEOPLE_COUNT = 1024\n",
      "QUESTIONS = 2\n",
      "SAMPLES_PER_QUESTION = 16\n",
      "UNIFORM, DIAGONAL, COMPLEMENT, DIAGONAL_NOISE = 0,1,2,3\n",
      "MEANS_TYPE = DIAGONAL_NOISE\n",
      "TRUTH,SAMPLE,SHUFFLE = 0,1,2\n",
      "SORT_TYPE = TRUTH\n",
      "\n",
      "means = np.zeros([QUESTIONS*SAMPLES_PER_QUESTION,PEOPLE_COUNT])\n",
      "\n",
      "if MEANS_TYPE == UNIFORM:\n",
      "    q_means = np.random.rand(QUESTIONS,PEOPLE_COUNT)\n",
      "if MEANS_TYPE == DIAGONAL:\n",
      "    q_means1 = np.random.rand(PEOPLE_COUNT)\n",
      "    q_means = np.vstack([q_means1,q_means1])\n",
      "if MEANS_TYPE == COMPLEMENT:\n",
      "    q_means1 = np.random.rand(PEOPLE_COUNT)\n",
      "    q_means = np.vstack([q_means1,1.0-q_means1])\n",
      "if MEANS_TYPE == DIAGONAL_NOISE:\n",
      "    q_means1 = np.random.rand(PEOPLE_COUNT)\n",
      "    q_means2 = scipy.stats.norm.rvs(0.0,0.1,size=PEOPLE_COUNT)\n",
      "    q_means = np.vstack([q_means1,q_means1+q_means2])\n",
      "    \n",
      "for row in xrange(QUESTIONS):\n",
      "    means[row*SAMPLES_PER_QUESTION:(row+1)*SAMPLES_PER_QUESTION,:] = q_means[row,:]\n",
      "\n",
      "means[means < 0] = 0.0\n",
      "means[means > 1.0] = 1.0\n",
      "\n",
      "rdata = np.random.rand(QUESTIONS*SAMPLES_PER_QUESTION,PEOPLE_COUNT)\n",
      "data = np.zeros([QUESTIONS*SAMPLES_PER_QUESTION,PEOPLE_COUNT])\n",
      "data[rdata < means] = 1\n",
      "data[rdata >= means] = -1\n",
      "if SORT_TYPE == TRUTH:\n",
      "    indices = means[0,:].argsort()\n",
      "elif SORT_TYPE == SAMPLE:\n",
      "    indices = np.mean(data,axis=0).argsort()\n",
      "elif SORT_TYPE == SHUFFLE:\n",
      "    indices = np.array(range(PEOPLE_COUNT))\n",
      "    np.random.shuffle(indices)\n",
      "\n",
      "truth_indices = means[0,:].argsort()\n",
      "\n",
      "sorted_data = data[:,truth_indices]\n",
      "data = data[:,indices]\n",
      "means = means[:,indices]\n",
      "\n",
      "#Generate initial affinity\n",
      "init_row_aff = affinity.mutual_cosine_similarity(data.T,True,0)\n",
      "init_col_aff = affinity.mutual_cosine_similarity(data,True,0)\n",
      "\n",
      "#Compute diffusion embedding of initial affinities\n",
      "init_row_vecs,init_row_vals = bintree_cut.markov_eigs(init_row_aff, 12)\n",
      "init_col_vecs,init_col_vals = bintree_cut.markov_eigs(init_col_aff, 12)\n",
      "\n",
      "#Generate median trees\n",
      "init_row_tree = bintree_cut.median_tree(init_row_vecs,init_row_vals,max_levels=12)\n",
      "init_col_tree = bintree_cut.median_tree(init_col_vecs,init_col_vals,max_levels=12)\n",
      "\n",
      "row_filename = \"arq_row_tree.pickle\"\n",
      "col_filename = \"arq_col_tree.pickle\"\n",
      "filename = \"arq_tree.pickle\"\n",
      "viewer_files.write_tree_viewer(row_filename,init_row_tree,init_row_vecs,init_row_vals)\n",
      "viewer_files.write_tree_viewer(col_filename,init_col_tree,init_col_vecs,init_col_vals)\n",
      "viewer_files.write_question_viewer(filename,data,init_row_tree,init_col_tree,init_row_vecs,init_row_vals,init_col_vecs,init_col_vals)"
     ],
     "language": "python",
     "metadata": {},
     "outputs": [],
     "prompt_number": 46
    },
    {
     "cell_type": "code",
     "collapsed": false,
     "input": [
      "fig = plt.figure()\n",
      "fig.add_subplot(311)\n",
      "plt.imshow(sorted_data,aspect='auto',interpolation='nearest',cmap=bwmap,norm=cnorm)\n",
      "fig.add_subplot(312)\n",
      "plt.imshow(data,aspect='auto',interpolation='nearest',cmap=bwmap,norm=cnorm)\n",
      "fig.add_subplot(313)\n",
      "plt.scatter(q_means[0,:],q_means[1,:])\n",
      "plt.show()"
     ],
     "language": "python",
     "metadata": {},
     "outputs": [],
     "prompt_number": 45
    },
    {
     "cell_type": "code",
     "collapsed": false,
     "input": [],
     "language": "python",
     "metadata": {},
     "outputs": []
    }
   ],
   "metadata": {}
  }
 ]
}