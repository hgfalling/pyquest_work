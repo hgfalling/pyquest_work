{
 "metadata": {
  "name": "bintree_regression3"
 },
 "nbformat": 3,
 "nbformat_minor": 0,
 "worksheets": [
  {
   "cells": [
    {
     "cell_type": "code",
     "collapsed": false,
     "input": [
      "import bin_regr_tree\n",
      "reload(bin_regr_tree)\n",
      "from imports import *"
     ],
     "language": "python",
     "metadata": {},
     "outputs": [],
     "prompt_number": 2
    },
    {
     "cell_type": "code",
     "collapsed": false,
     "input": [
      "data = np.load(\"MMPI2_Depolarized.npz\")[\"data\"]\n",
      "trainset = np.load(\"trainsets.npz\")[\"trainsets\"]"
     ],
     "language": "python",
     "metadata": {},
     "outputs": [],
     "prompt_number": 3
    },
    {
     "cell_type": "code",
     "collapsed": false,
     "input": [
      "import pyquest_M as pym\n",
      "pm = pym.PyQuestDataModel()\n",
      "pm.load(\"base.session\")\n",
      "row_tree = pm.quest_runs[0].row_trees[-1] "
     ],
     "language": "python",
     "metadata": {},
     "outputs": [],
     "prompt_number": 4
    },
    {
     "cell_type": "code",
     "collapsed": false,
     "input": [
      "RUN_TREES = False\n",
      "\n",
      "with warnings.catch_warnings():\n",
      "    warnings.simplefilter(\"ignore\")\n",
      "\n",
      "    if RUN_TREES:\n",
      "        regr_trees = []\n",
      "        for i in xrange(0,6):\n",
      "            regr_trees.append(bin_regr_tree.mtree(data[:,trainset[i,:]],row_tree)) \n",
      "        fout = open(\"regrtrees.pickle\",\"wb\")\n",
      "        cPickle.dump(regr_trees,fout)\n",
      "        fout.close() \n",
      "    else:\n",
      "        fin = open(\"regrtrees.pickle\",\"rb\")\n",
      "        regr_trees = cPickle.load(fin)\n",
      "        fin.close()"
     ],
     "language": "python",
     "metadata": {},
     "outputs": [],
     "prompt_number": 5
    },
    {
     "cell_type": "code",
     "collapsed": false,
     "input": [
      "for i in xrange(0,6):\n",
      "    master_recon = np.load(\"master_recon.npz\").items()[0][1]\n",
      "    master_recon_train = np.load(\"master_recon{}.npz\".format(i+2)).items()[0][1]\n",
      "    test_set = np.where(np.logical_not(trainset[i,:]))[0]\n",
      "    pred_data = np.zeros([data.shape[0],len(test_set)])\n",
      "    for cidx,colidx in enumerate(test_set):\n",
      "        v = data[:,colidx]\n",
      "        cur_node = regr_trees[i]\n",
      "        while hasattr(cur_node,\"lm\"):\n",
      "            peig = cur_node.lm.predict(v[cur_node.active])\n",
      "            #print cur_node.level, cur_node.idx, peig\n",
      "            if peig > 0.0:\n",
      "                cur_node = cur_node.children[1]\n",
      "            else:\n",
      "                cur_node = cur_node.children[0]\n",
      "        #print cur_node.idx\n",
      "        pred_data[:,cidx] = np.mean(master_recon_train[:,cur_node.elements],axis=1)\n",
      "    diffs = pred_data - master_recon[:,test_set]\n",
      "    print \"{}: {:3.2%}\".format(i,np.mean(np.abs(diffs))/2.0)"
     ],
     "language": "python",
     "metadata": {},
     "outputs": [
      {
       "output_type": "stream",
       "stream": "stdout",
       "text": [
        "0: 6.37%\n",
        "1: 6.41%"
       ]
      },
      {
       "output_type": "stream",
       "stream": "stdout",
       "text": [
        "\n",
        "2: 6.11%"
       ]
      },
      {
       "output_type": "stream",
       "stream": "stdout",
       "text": [
        "\n",
        "3: 6.61%"
       ]
      },
      {
       "output_type": "stream",
       "stream": "stdout",
       "text": [
        "\n",
        "4: 6.66%"
       ]
      },
      {
       "output_type": "stream",
       "stream": "stdout",
       "text": [
        "\n",
        "5: 6.18%"
       ]
      },
      {
       "output_type": "stream",
       "stream": "stdout",
       "text": [
        "\n"
       ]
      }
     ],
     "prompt_number": 6
    },
    {
     "cell_type": "code",
     "collapsed": false,
     "input": [
      "def mark_centroids(emd,tree):\n",
      "    for node in tree:\n",
      "        if node.size >= 3:\n",
      "            try:\n",
      "                node.centroid = dual_affinity.centroid_point(emd,node.elements)\n",
      "            except:\n",
      "                print node.elements\n",
      "                raise"
     ],
     "language": "python",
     "metadata": {},
     "outputs": []
    },
    {
     "cell_type": "code",
     "collapsed": false,
     "input": [
      "RUN_TREES = False\n",
      "\n",
      "with warnings.catch_warnings():\n",
      "    warnings.simplefilter(\"ignore\")\n",
      "\n",
      "    if RUN_TREES:\n",
      "        regr_trees = []\n",
      "        for i in xrange(0,6):\n",
      "            regr_trees.append(bin_regr_tree.mtree(data[:,trainset[i,:]],row_tree)) \n",
      "        fout = open(\"regrtrees.pickle\",\"wb\")\n",
      "        cPickle.dump(regr_trees,fout)\n",
      "        fout.close() \n",
      "    else:\n",
      "        fin = open(\"regrtrees.pickle\",\"rb\")\n",
      "        regr_trees = cPickle.load(fin)\n",
      "        fin.close()"
     ],
     "language": "python",
     "metadata": {},
     "outputs": []
    }
   ],
   "metadata": {}
  }
 ]
}