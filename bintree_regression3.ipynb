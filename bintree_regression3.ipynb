{
 "metadata": {
  "name": ""
 },
 "nbformat": 3,
 "nbformat_minor": 0,
 "worksheets": [
  {
   "cells": [
    {
     "cell_type": "code",
     "collapsed": false,
     "input": [
      "import bin_regr_tree\n",
      "reload(bin_regr_tree)\n",
      "from imports import *"
     ],
     "language": "python",
     "metadata": {},
     "outputs": [],
     "prompt_number": 1
    },
    {
     "cell_type": "code",
     "collapsed": false,
     "input": [
      "data = np.load(\"MMPI2_Depolarized.npz\")[\"data\"]\n",
      "trainset = np.load(\"trainsets.npz\")[\"trainsets\"]"
     ],
     "language": "python",
     "metadata": {},
     "outputs": [],
     "prompt_number": 5
    },
    {
     "cell_type": "code",
     "collapsed": false,
     "input": [
      "import pyquest_M as pym\n",
      "pm = pym.PyQuestDataModel()\n",
      "pm.load(\"base.session\")\n",
      "row_tree = pm.quest_runs[0].row_trees[-1] "
     ],
     "language": "python",
     "metadata": {},
     "outputs": [],
     "prompt_number": 6
    },
    {
     "cell_type": "code",
     "collapsed": false,
     "input": [
      "RUN_TREES = True\n",
      "\n",
      "if RUN_TREES:\n",
      "    regr_trees = []\n",
      "    for i in xrange(0,6):\n",
      "        regr_trees.append(bin_regr_tree.mtree(data[:,trainset[i,:]],row_tree)) \n",
      "    fout = open(\"regrtrees.pickle\",\"wb\")\n",
      "    cPickle.dump(regr_trees,fout)\n",
      "    fout.close() \n",
      "else:\n",
      "    fin = open(\"regrtrees.pickle\",\"rb\")\n",
      "    regr_trees = cPickle.load(fin)\n",
      "    fin.close()"
     ],
     "language": "python",
     "metadata": {},
     "outputs": [
      {
       "output_type": "stream",
       "stream": "stderr",
       "text": [
        "C:\\Python27\\lib\\site-packages\\sklearn\\linear_model\\least_angle.py:318: RuntimeWarning: overflow encountered in divide\n",
        "  g1 = arrayfuncs.min_pos((C - Cov) / (AA - corr_eq_dir + tiny))\n",
        "C:\\Python27\\lib\\site-packages\\sklearn\\linear_model\\least_angle.py:319: RuntimeWarning: overflow encountered in divide\n",
        "  g2 = arrayfuncs.min_pos((C + Cov) / (AA + corr_eq_dir + tiny))\n",
        "C:\\Python27\\lib\\site-packages\\sklearn\\linear_model\\least_angle.py:251: UserWarning: Regressors in active set degenerate. Dropping a regressor, after 4 iterations, i.e. alpha=4.180e-01, with an active set of 4 regressors, and the smallest cholesky pivot element being 7.300e-08\n",
        "  % (n_iter, alpha, n_active, diag))\n"
       ]
      },
      {
       "output_type": "stream",
       "stream": "stderr",
       "text": [
        "C:\\Python27\\lib\\site-packages\\sklearn\\linear_model\\least_angle.py:251: UserWarning: Regressors in active set degenerate. Dropping a regressor, after 2 iterations, i.e. alpha=3.711e-01, with an active set of 2 regressors, and the smallest cholesky pivot element being 5.960e-08\n",
        "  % (n_iter, alpha, n_active, diag))\n",
        "C:\\Python27\\lib\\site-packages\\sklearn\\linear_model\\least_angle.py:251: UserWarning: Regressors in active set degenerate. Dropping a regressor, after 3 iterations, i.e. alpha=3.438e-01, with an active set of 3 regressors, and the smallest cholesky pivot element being 5.960e-08\n",
        "  % (n_iter, alpha, n_active, diag))\n",
        "C:\\Python27\\lib\\site-packages\\sklearn\\linear_model\\least_angle.py:251: UserWarning: Regressors in active set degenerate. Dropping a regressor, after 5 iterations, i.e. alpha=3.604e-01, with an active set of 5 regressors, and the smallest cholesky pivot element being 7.300e-08\n",
        "  % (n_iter, alpha, n_active, diag))\n"
       ]
      },
      {
       "output_type": "stream",
       "stream": "stderr",
       "text": [
        "C:\\Python27\\lib\\site-packages\\sklearn\\linear_model\\least_angle.py:251: UserWarning: Regressors in active set degenerate. Dropping a regressor, after 2 iterations, i.e. alpha=4.382e-01, with an active set of 2 regressors, and the smallest cholesky pivot element being 8.429e-08\n",
        "  % (n_iter, alpha, n_active, diag))\n",
        "C:\\Python27\\lib\\site-packages\\sklearn\\linear_model\\least_angle.py:251: UserWarning: Regressors in active set degenerate. Dropping a regressor, after 4 iterations, i.e. alpha=4.840e-01, with an active set of 4 regressors, and the smallest cholesky pivot element being 2.220e-16\n",
        "  % (n_iter, alpha, n_active, diag))\n"
       ]
      },
      {
       "output_type": "stream",
       "stream": "stderr",
       "text": [
        "C:\\Python27\\lib\\site-packages\\sklearn\\linear_model\\least_angle.py:251: UserWarning: Regressors in active set degenerate. Dropping a regressor, after 9 iterations, i.e. alpha=2.653e-01, with an active set of 9 regressors, and the smallest cholesky pivot element being 2.220e-16\n",
        "  % (n_iter, alpha, n_active, diag))\n",
        "C:\\Python27\\lib\\site-packages\\sklearn\\linear_model\\least_angle.py:251: UserWarning: Regressors in active set degenerate. Dropping a regressor, after 9 iterations, i.e. alpha=2.604e-01, with an active set of 8 regressors, and the smallest cholesky pivot element being 5.960e-08\n",
        "  % (n_iter, alpha, n_active, diag))\n"
       ]
      },
      {
       "output_type": "stream",
       "stream": "stderr",
       "text": [
        "C:\\Python27\\lib\\site-packages\\sklearn\\linear_model\\least_angle.py:251: UserWarning: Regressors in active set degenerate. Dropping a regressor, after 1 iterations, i.e. alpha=5.376e-01, with an active set of 1 regressors, and the smallest cholesky pivot element being 5.960e-08\n",
        "  % (n_iter, alpha, n_active, diag))\n",
        "C:\\Python27\\lib\\site-packages\\sklearn\\linear_model\\least_angle.py:251: UserWarning: Regressors in active set degenerate. Dropping a regressor, after 3 iterations, i.e. alpha=3.552e-01, with an active set of 3 regressors, and the smallest cholesky pivot element being 7.300e-08\n",
        "  % (n_iter, alpha, n_active, diag))\n",
        "C:\\Python27\\lib\\site-packages\\sklearn\\linear_model\\least_angle.py:251: UserWarning: Regressors in active set degenerate. Dropping a regressor, after 8 iterations, i.e. alpha=2.813e-01, with an active set of 8 regressors, and the smallest cholesky pivot element being 5.960e-08\n",
        "  % (n_iter, alpha, n_active, diag))\n",
        "C:\\Python27\\lib\\site-packages\\sklearn\\linear_model\\least_angle.py:251: UserWarning: Regressors in active set degenerate. Dropping a regressor, after 8 iterations, i.e. alpha=1.957e-01, with an active set of 8 regressors, and the smallest cholesky pivot element being 7.300e-08\n",
        "  % (n_iter, alpha, n_active, diag))\n"
       ]
      },
      {
       "output_type": "stream",
       "stream": "stderr",
       "text": [
        "C:\\Python27\\lib\\site-packages\\sklearn\\linear_model\\least_angle.py:251: UserWarning: Regressors in active set degenerate. Dropping a regressor, after 9 iterations, i.e. alpha=1.396e-01, with an active set of 9 regressors, and the smallest cholesky pivot element being 9.424e-08\n",
        "  % (n_iter, alpha, n_active, diag))\n",
        "C:\\Python27\\lib\\site-packages\\sklearn\\linear_model\\least_angle.py:251: UserWarning: Regressors in active set degenerate. Dropping a regressor, after 1 iterations, i.e. alpha=6.354e-01, with an active set of 1 regressors, and the smallest cholesky pivot element being 5.960e-08\n",
        "  % (n_iter, alpha, n_active, diag))\n"
       ]
      },
      {
       "output_type": "stream",
       "stream": "stderr",
       "text": [
        "C:\\Python27\\lib\\site-packages\\sklearn\\linear_model\\least_angle.py:251: UserWarning: Regressors in active set degenerate. Dropping a regressor, after 7 iterations, i.e. alpha=2.624e-01, with an active set of 7 regressors, and the smallest cholesky pivot element being 5.960e-08\n",
        "  % (n_iter, alpha, n_active, diag))\n",
        "C:\\Python27\\lib\\site-packages\\sklearn\\linear_model\\least_angle.py:251: UserWarning: Regressors in active set degenerate. Dropping a regressor, after 3 iterations, i.e. alpha=4.751e-01, with an active set of 3 regressors, and the smallest cholesky pivot element being 2.220e-16\n",
        "  % (n_iter, alpha, n_active, diag))\n"
       ]
      },
      {
       "output_type": "stream",
       "stream": "stderr",
       "text": [
        "C:\\Python27\\lib\\site-packages\\sklearn\\linear_model\\least_angle.py:251: UserWarning: Regressors in active set degenerate. Dropping a regressor, after 6 iterations, i.e. alpha=3.844e-01, with an active set of 6 regressors, and the smallest cholesky pivot element being 8.429e-08\n",
        "  % (n_iter, alpha, n_active, diag))\n",
        "C:\\Python27\\lib\\site-packages\\sklearn\\linear_model\\least_angle.py:251: UserWarning: Regressors in active set degenerate. Dropping a regressor, after 1 iterations, i.e. alpha=6.445e-01, with an active set of 1 regressors, and the smallest cholesky pivot element being 2.220e-16\n",
        "  % (n_iter, alpha, n_active, diag))\n"
       ]
      },
      {
       "output_type": "stream",
       "stream": "stderr",
       "text": [
        "C:\\Python27\\lib\\site-packages\\sklearn\\linear_model\\least_angle.py:251: UserWarning: Regressors in active set degenerate. Dropping a regressor, after 5 iterations, i.e. alpha=4.973e-01, with an active set of 5 regressors, and the smallest cholesky pivot element being 4.215e-08\n",
        "  % (n_iter, alpha, n_active, diag))\n",
        "C:\\Python27\\lib\\site-packages\\sklearn\\linear_model\\least_angle.py:251: UserWarning: Regressors in active set degenerate. Dropping a regressor, after 6 iterations, i.e. alpha=3.110e-01, with an active set of 6 regressors, and the smallest cholesky pivot element being 4.215e-08\n",
        "  % (n_iter, alpha, n_active, diag))\n",
        "C:\\Python27\\lib\\site-packages\\sklearn\\linear_model\\least_angle.py:251: UserWarning: Regressors in active set degenerate. Dropping a regressor, after 6 iterations, i.e. alpha=3.110e-01, with an active set of 6 regressors, and the smallest cholesky pivot element being 7.300e-08\n",
        "  % (n_iter, alpha, n_active, diag))\n",
        "C:\\Python27\\lib\\site-packages\\sklearn\\linear_model\\least_angle.py:251: UserWarning: Regressors in active set degenerate. Dropping a regressor, after 7 iterations, i.e. alpha=2.553e-01, with an active set of 7 regressors, and the smallest cholesky pivot element being 7.300e-08\n",
        "  % (n_iter, alpha, n_active, diag))\n",
        "C:\\Python27\\lib\\site-packages\\sklearn\\linear_model\\least_angle.py:251: UserWarning: Regressors in active set degenerate. Dropping a regressor, after 8 iterations, i.e. alpha=3.891e-01, with an active set of 7 regressors, and the smallest cholesky pivot element being 5.960e-08\n",
        "  % (n_iter, alpha, n_active, diag))\n",
        "C:\\Python27\\lib\\site-packages\\sklearn\\linear_model\\least_angle.py:251: UserWarning: Regressors in active set degenerate. Dropping a regressor, after 9 iterations, i.e. alpha=3.791e-01, with an active set of 8 regressors, and the smallest cholesky pivot element being 2.220e-16\n",
        "  % (n_iter, alpha, n_active, diag))\n",
        "C:\\Python27\\lib\\site-packages\\sklearn\\linear_model\\least_angle.py:251: UserWarning: Regressors in active set degenerate. Dropping a regressor, after 6 iterations, i.e. alpha=2.841e-01, with an active set of 6 regressors, and the smallest cholesky pivot element being 5.960e-08\n",
        "  % (n_iter, alpha, n_active, diag))\n"
       ]
      },
      {
       "output_type": "stream",
       "stream": "stderr",
       "text": [
        "C:\\Python27\\lib\\site-packages\\sklearn\\linear_model\\least_angle.py:251: UserWarning: Regressors in active set degenerate. Dropping a regressor, after 8 iterations, i.e. alpha=2.603e-01, with an active set of 8 regressors, and the smallest cholesky pivot element being 2.220e-16\n",
        "  % (n_iter, alpha, n_active, diag))\n",
        "C:\\Python27\\lib\\site-packages\\sklearn\\linear_model\\least_angle.py:251: UserWarning: Regressors in active set degenerate. Dropping a regressor, after 7 iterations, i.e. alpha=2.759e-01, with an active set of 7 regressors, and the smallest cholesky pivot element being 7.300e-08\n",
        "  % (n_iter, alpha, n_active, diag))\n"
       ]
      },
      {
       "output_type": "stream",
       "stream": "stderr",
       "text": [
        "C:\\Python27\\lib\\site-packages\\sklearn\\linear_model\\least_angle.py:251: UserWarning: Regressors in active set degenerate. Dropping a regressor, after 7 iterations, i.e. alpha=3.586e-01, with an active set of 7 regressors, and the smallest cholesky pivot element being 4.215e-08\n",
        "  % (n_iter, alpha, n_active, diag))\n",
        "C:\\Python27\\lib\\site-packages\\sklearn\\linear_model\\least_angle.py:251: UserWarning: Regressors in active set degenerate. Dropping a regressor, after 2 iterations, i.e. alpha=5.831e-01, with an active set of 2 regressors, and the smallest cholesky pivot element being 2.220e-16\n",
        "  % (n_iter, alpha, n_active, diag))\n"
       ]
      },
      {
       "output_type": "stream",
       "stream": "stderr",
       "text": [
        "C:\\Python27\\lib\\site-packages\\sklearn\\linear_model\\least_angle.py:251: UserWarning: Regressors in active set degenerate. Dropping a regressor, after 9 iterations, i.e. alpha=3.021e-01, with an active set of 9 regressors, and the smallest cholesky pivot element being 2.220e-16\n",
        "  % (n_iter, alpha, n_active, diag))\n",
        "C:\\Python27\\lib\\site-packages\\sklearn\\linear_model\\least_angle.py:251: UserWarning: Regressors in active set degenerate. Dropping a regressor, after 8 iterations, i.e. alpha=1.690e-01, with an active set of 8 regressors, and the smallest cholesky pivot element being 8.429e-08\n",
        "  % (n_iter, alpha, n_active, diag))\n"
       ]
      },
      {
       "output_type": "stream",
       "stream": "stderr",
       "text": [
        "C:\\Python27\\lib\\site-packages\\sklearn\\linear_model\\least_angle.py:251: UserWarning: Regressors in active set degenerate. Dropping a regressor, after 3 iterations, i.e. alpha=4.025e-01, with an active set of 3 regressors, and the smallest cholesky pivot element being 4.215e-08\n",
        "  % (n_iter, alpha, n_active, diag))\n",
        "C:\\Python27\\lib\\site-packages\\sklearn\\linear_model\\least_angle.py:251: UserWarning: Regressors in active set degenerate. Dropping a regressor, after 9 iterations, i.e. alpha=2.662e-01, with an active set of 8 regressors, and the smallest cholesky pivot element being 7.300e-08\n",
        "  % (n_iter, alpha, n_active, diag))\n",
        "C:\\Python27\\lib\\site-packages\\sklearn\\linear_model\\least_angle.py:251: UserWarning: Regressors in active set degenerate. Dropping a regressor, after 5 iterations, i.e. alpha=4.584e-01, with an active set of 5 regressors, and the smallest cholesky pivot element being 7.300e-08\n",
        "  % (n_iter, alpha, n_active, diag))\n"
       ]
      },
      {
       "output_type": "stream",
       "stream": "stderr",
       "text": [
        "C:\\Python27\\lib\\site-packages\\sklearn\\linear_model\\least_angle.py:251: UserWarning: Regressors in active set degenerate. Dropping a regressor, after 8 iterations, i.e. alpha=1.988e-01, with an active set of 8 regressors, and the smallest cholesky pivot element being 8.429e-08\n",
        "  % (n_iter, alpha, n_active, diag))\n",
        "C:\\Python27\\lib\\site-packages\\sklearn\\linear_model\\least_angle.py:251: UserWarning: Regressors in active set degenerate. Dropping a regressor, after 1 iterations, i.e. alpha=4.498e-01, with an active set of 1 regressors, and the smallest cholesky pivot element being 5.960e-08\n",
        "  % (n_iter, alpha, n_active, diag))\n",
        "C:\\Python27\\lib\\site-packages\\sklearn\\linear_model\\least_angle.py:251: UserWarning: Regressors in active set degenerate. Dropping a regressor, after 6 iterations, i.e. alpha=3.121e-01, with an active set of 6 regressors, and the smallest cholesky pivot element being 7.300e-08\n",
        "  % (n_iter, alpha, n_active, diag))\n",
        "C:\\Python27\\lib\\site-packages\\sklearn\\linear_model\\least_angle.py:251: UserWarning: Regressors in active set degenerate. Dropping a regressor, after 9 iterations, i.e. alpha=2.249e-01, with an active set of 8 regressors, and the smallest cholesky pivot element being 5.960e-08\n",
        "  % (n_iter, alpha, n_active, diag))\n",
        "C:\\Python27\\lib\\site-packages\\sklearn\\linear_model\\least_angle.py:251: UserWarning: Regressors in active set degenerate. Dropping a regressor, after 9 iterations, i.e. alpha=2.249e-01, with an active set of 8 regressors, and the smallest cholesky pivot element being 8.429e-08\n",
        "  % (n_iter, alpha, n_active, diag))\n",
        "C:\\Python27\\lib\\site-packages\\sklearn\\linear_model\\least_angle.py:251: UserWarning: Regressors in active set degenerate. Dropping a regressor, after 9 iterations, i.e. alpha=2.249e-01, with an active set of 8 regressors, and the smallest cholesky pivot element being 7.300e-08\n",
        "  % (n_iter, alpha, n_active, diag))\n",
        "C:\\Python27\\lib\\site-packages\\sklearn\\linear_model\\least_angle.py:251: UserWarning: Regressors in active set degenerate. Dropping a regressor, after 4 iterations, i.e. alpha=4.585e-01, with an active set of 4 regressors, and the smallest cholesky pivot element being 5.960e-08\n",
        "  % (n_iter, alpha, n_active, diag))\n"
       ]
      },
      {
       "output_type": "stream",
       "stream": "stderr",
       "text": [
        "C:\\Python27\\lib\\site-packages\\sklearn\\linear_model\\least_angle.py:251: UserWarning: Regressors in active set degenerate. Dropping a regressor, after 8 iterations, i.e. alpha=2.097e-01, with an active set of 8 regressors, and the smallest cholesky pivot element being 4.215e-08\n",
        "  % (n_iter, alpha, n_active, diag))\n",
        "C:\\Python27\\lib\\site-packages\\sklearn\\linear_model\\least_angle.py:251: UserWarning: Regressors in active set degenerate. Dropping a regressor, after 6 iterations, i.e. alpha=3.547e-01, with an active set of 6 regressors, and the smallest cholesky pivot element being 8.429e-08\n",
        "  % (n_iter, alpha, n_active, diag))\n"
       ]
      },
      {
       "output_type": "stream",
       "stream": "stderr",
       "text": [
        "C:\\Python27\\lib\\site-packages\\sklearn\\linear_model\\least_angle.py:251: UserWarning: Regressors in active set degenerate. Dropping a regressor, after 9 iterations, i.e. alpha=1.774e-01, with an active set of 9 regressors, and the smallest cholesky pivot element being 8.429e-08\n",
        "  % (n_iter, alpha, n_active, diag))\n",
        "C:\\Python27\\lib\\site-packages\\sklearn\\linear_model\\least_angle.py:251: UserWarning: Regressors in active set degenerate. Dropping a regressor, after 9 iterations, i.e. alpha=1.774e-01, with an active set of 9 regressors, and the smallest cholesky pivot element being 9.424e-08\n",
        "  % (n_iter, alpha, n_active, diag))\n",
        "C:\\Python27\\lib\\site-packages\\sklearn\\linear_model\\least_angle.py:251: UserWarning: Regressors in active set degenerate. Dropping a regressor, after 1 iterations, i.e. alpha=6.090e-01, with an active set of 1 regressors, and the smallest cholesky pivot element being 5.960e-08\n",
        "  % (n_iter, alpha, n_active, diag))\n",
        "C:\\Python27\\lib\\site-packages\\sklearn\\linear_model\\least_angle.py:251: UserWarning: Regressors in active set degenerate. Dropping a regressor, after 8 iterations, i.e. alpha=2.427e-01, with an active set of 7 regressors, and the smallest cholesky pivot element being 5.960e-08\n",
        "  % (n_iter, alpha, n_active, diag))\n",
        "C:\\Python27\\lib\\site-packages\\sklearn\\linear_model\\least_angle.py:251: UserWarning: Regressors in active set degenerate. Dropping a regressor, after 8 iterations, i.e. alpha=2.427e-01, with an active set of 7 regressors, and the smallest cholesky pivot element being 9.424e-08\n",
        "  % (n_iter, alpha, n_active, diag))\n",
        "C:\\Python27\\lib\\site-packages\\sklearn\\linear_model\\least_angle.py:251: UserWarning: Regressors in active set degenerate. Dropping a regressor, after 8 iterations, i.e. alpha=2.427e-01, with an active set of 7 regressors, and the smallest cholesky pivot element being 7.300e-08\n",
        "  % (n_iter, alpha, n_active, diag))\n",
        "C:\\Python27\\lib\\site-packages\\sklearn\\linear_model\\least_angle.py:251: UserWarning: Regressors in active set degenerate. Dropping a regressor, after 8 iterations, i.e. alpha=2.427e-01, with an active set of 7 regressors, and the smallest cholesky pivot element being 4.215e-08\n",
        "  % (n_iter, alpha, n_active, diag))\n",
        "C:\\Python27\\lib\\site-packages\\sklearn\\linear_model\\least_angle.py:251: UserWarning: Regressors in active set degenerate. Dropping a regressor, after 8 iterations, i.e. alpha=2.427e-01, with an active set of 7 regressors, and the smallest cholesky pivot element being 8.429e-08\n",
        "  % (n_iter, alpha, n_active, diag))\n",
        "C:\\Python27\\lib\\site-packages\\sklearn\\linear_model\\least_angle.py:251: UserWarning: Regressors in active set degenerate. Dropping a regressor, after 1 iterations, i.e. alpha=4.837e-01, with an active set of 1 regressors, and the smallest cholesky pivot element being 2.220e-16\n",
        "  % (n_iter, alpha, n_active, diag))\n"
       ]
      },
      {
       "output_type": "stream",
       "stream": "stderr",
       "text": [
        "C:\\Python27\\lib\\site-packages\\sklearn\\linear_model\\least_angle.py:251: UserWarning: Regressors in active set degenerate. Dropping a regressor, after 8 iterations, i.e. alpha=3.284e-01, with an active set of 7 regressors, and the smallest cholesky pivot element being 2.220e-16\n",
        "  % (n_iter, alpha, n_active, diag))\n",
        "C:\\Python27\\lib\\site-packages\\sklearn\\linear_model\\least_angle.py:251: UserWarning: Regressors in active set degenerate. Dropping a regressor, after 8 iterations, i.e. alpha=3.284e-01, with an active set of 7 regressors, and the smallest cholesky pivot element being 4.215e-08\n",
        "  % (n_iter, alpha, n_active, diag))\n",
        "C:\\Python27\\lib\\site-packages\\sklearn\\linear_model\\least_angle.py:251: UserWarning: Regressors in active set degenerate. Dropping a regressor, after 8 iterations, i.e. alpha=3.257e-01, with an active set of 7 regressors, and the smallest cholesky pivot element being 2.220e-16\n",
        "  % (n_iter, alpha, n_active, diag))\n",
        "C:\\Python27\\lib\\site-packages\\sklearn\\linear_model\\least_angle.py:251: UserWarning: Regressors in active set degenerate. Dropping a regressor, after 3 iterations, i.e. alpha=5.357e-01, with an active set of 3 regressors, and the smallest cholesky pivot element being 5.960e-08\n",
        "  % (n_iter, alpha, n_active, diag))\n"
       ]
      },
      {
       "output_type": "stream",
       "stream": "stderr",
       "text": [
        "C:\\Python27\\lib\\site-packages\\sklearn\\linear_model\\least_angle.py:251: UserWarning: Regressors in active set degenerate. Dropping a regressor, after 4 iterations, i.e. alpha=4.119e-01, with an active set of 4 regressors, and the smallest cholesky pivot element being 5.960e-08\n",
        "  % (n_iter, alpha, n_active, diag))\n",
        "C:\\Python27\\lib\\site-packages\\sklearn\\linear_model\\least_angle.py:251: UserWarning: Regressors in active set degenerate. Dropping a regressor, after 7 iterations, i.e. alpha=2.741e-01, with an active set of 7 regressors, and the smallest cholesky pivot element being 5.960e-08\n",
        "  % (n_iter, alpha, n_active, diag))\n",
        "C:\\Python27\\lib\\site-packages\\sklearn\\linear_model\\least_angle.py:251: UserWarning: Regressors in active set degenerate. Dropping a regressor, after 9 iterations, i.e. alpha=1.657e-01, with an active set of 9 regressors, and the smallest cholesky pivot element being 4.215e-08\n",
        "  % (n_iter, alpha, n_active, diag))\n"
       ]
      },
      {
       "output_type": "stream",
       "stream": "stderr",
       "text": [
        "C:\\Python27\\lib\\site-packages\\sklearn\\linear_model\\least_angle.py:251: UserWarning: Regressors in active set degenerate. Dropping a regressor, after 2 iterations, i.e. alpha=4.626e-01, with an active set of 2 regressors, and the smallest cholesky pivot element being 2.220e-16\n",
        "  % (n_iter, alpha, n_active, diag))\n",
        "C:\\Python27\\lib\\site-packages\\sklearn\\linear_model\\least_angle.py:251: UserWarning: Regressors in active set degenerate. Dropping a regressor, after 2 iterations, i.e. alpha=4.014e-01, with an active set of 2 regressors, and the smallest cholesky pivot element being 8.429e-08\n",
        "  % (n_iter, alpha, n_active, diag))\n"
       ]
      },
      {
       "output_type": "stream",
       "stream": "stderr",
       "text": [
        "C:\\Python27\\lib\\site-packages\\sklearn\\linear_model\\least_angle.py:251: UserWarning: Regressors in active set degenerate. Dropping a regressor, after 9 iterations, i.e. alpha=3.539e-01, with an active set of 7 regressors, and the smallest cholesky pivot element being 5.960e-08\n",
        "  % (n_iter, alpha, n_active, diag))\n",
        "C:\\Python27\\lib\\site-packages\\sklearn\\linear_model\\least_angle.py:251: UserWarning: Regressors in active set degenerate. Dropping a regressor, after 1 iterations, i.e. alpha=6.663e-01, with an active set of 1 regressors, and the smallest cholesky pivot element being 5.960e-08\n",
        "  % (n_iter, alpha, n_active, diag))\n"
       ]
      },
      {
       "output_type": "stream",
       "stream": "stderr",
       "text": [
        "C:\\Python27\\lib\\site-packages\\sklearn\\linear_model\\least_angle.py:251: UserWarning: Regressors in active set degenerate. Dropping a regressor, after 4 iterations, i.e. alpha=4.898e-01, with an active set of 4 regressors, and the smallest cholesky pivot element being 5.960e-08\n",
        "  % (n_iter, alpha, n_active, diag))\n",
        "C:\\Python27\\lib\\site-packages\\sklearn\\linear_model\\least_angle.py:251: UserWarning: Regressors in active set degenerate. Dropping a regressor, after 7 iterations, i.e. alpha=3.313e-01, with an active set of 7 regressors, and the smallest cholesky pivot element being 5.960e-08\n",
        "  % (n_iter, alpha, n_active, diag))\n",
        "C:\\Python27\\lib\\site-packages\\sklearn\\linear_model\\least_angle.py:251: UserWarning: Regressors in active set degenerate. Dropping a regressor, after 7 iterations, i.e. alpha=3.313e-01, with an active set of 7 regressors, and the smallest cholesky pivot element being 7.300e-08\n",
        "  % (n_iter, alpha, n_active, diag))\n",
        "C:\\Python27\\lib\\site-packages\\sklearn\\linear_model\\least_angle.py:251: UserWarning: Regressors in active set degenerate. Dropping a regressor, after 2 iterations, i.e. alpha=6.699e-01, with an active set of 2 regressors, and the smallest cholesky pivot element being 4.215e-08\n",
        "  % (n_iter, alpha, n_active, diag))\n",
        "C:\\Python27\\lib\\site-packages\\sklearn\\linear_model\\least_angle.py:251: UserWarning: Regressors in active set degenerate. Dropping a regressor, after 5 iterations, i.e. alpha=3.921e-01, with an active set of 5 regressors, and the smallest cholesky pivot element being 7.300e-08\n",
        "  % (n_iter, alpha, n_active, diag))\n",
        "C:\\Python27\\lib\\site-packages\\sklearn\\linear_model\\least_angle.py:251: UserWarning: Regressors in active set degenerate. Dropping a regressor, after 8 iterations, i.e. alpha=2.740e-01, with an active set of 8 regressors, and the smallest cholesky pivot element being 7.300e-08\n",
        "  % (n_iter, alpha, n_active, diag))\n",
        "C:\\Python27\\lib\\site-packages\\sklearn\\linear_model\\least_angle.py:251: UserWarning: Regressors in active set degenerate. Dropping a regressor, after 8 iterations, i.e. alpha=2.740e-01, with an active set of 8 regressors, and the smallest cholesky pivot element being 8.429e-08\n",
        "  % (n_iter, alpha, n_active, diag))\n",
        "C:\\Python27\\lib\\site-packages\\sklearn\\linear_model\\least_angle.py:251: UserWarning: Regressors in active set degenerate. Dropping a regressor, after 8 iterations, i.e. alpha=2.740e-01, with an active set of 8 regressors, and the smallest cholesky pivot element being 9.424e-08\n",
        "  % (n_iter, alpha, n_active, diag))\n",
        "C:\\Python27\\lib\\site-packages\\sklearn\\linear_model\\least_angle.py:251: UserWarning: Regressors in active set degenerate. Dropping a regressor, after 6 iterations, i.e. alpha=2.331e-01, with an active set of 6 regressors, and the smallest cholesky pivot element being 4.215e-08\n",
        "  % (n_iter, alpha, n_active, diag))\n"
       ]
      },
      {
       "output_type": "stream",
       "stream": "stderr",
       "text": [
        "C:\\Python27\\lib\\site-packages\\sklearn\\linear_model\\least_angle.py:251: UserWarning: Regressors in active set degenerate. Dropping a regressor, after 6 iterations, i.e. alpha=4.079e-01, with an active set of 5 regressors, and the smallest cholesky pivot element being 4.215e-08\n",
        "  % (n_iter, alpha, n_active, diag))\n",
        "C:\\Python27\\lib\\site-packages\\sklearn\\linear_model\\least_angle.py:251: UserWarning: Regressors in active set degenerate. Dropping a regressor, after 9 iterations, i.e. alpha=3.955e-01, with an active set of 8 regressors, and the smallest cholesky pivot element being 7.300e-08\n",
        "  % (n_iter, alpha, n_active, diag))\n",
        "C:\\Python27\\lib\\site-packages\\sklearn\\linear_model\\least_angle.py:251: UserWarning: Regressors in active set degenerate. Dropping a regressor, after 9 iterations, i.e. alpha=2.576e-01, with an active set of 9 regressors, and the smallest cholesky pivot element being 2.220e-16\n",
        "  % (n_iter, alpha, n_active, diag))\n"
       ]
      },
      {
       "output_type": "stream",
       "stream": "stderr",
       "text": [
        "C:\\Python27\\lib\\site-packages\\sklearn\\linear_model\\least_angle.py:251: UserWarning: Regressors in active set degenerate. Dropping a regressor, after 6 iterations, i.e. alpha=4.001e-01, with an active set of 6 regressors, and the smallest cholesky pivot element being 9.424e-08\n",
        "  % (n_iter, alpha, n_active, diag))\n",
        "C:\\Python27\\lib\\site-packages\\sklearn\\linear_model\\least_angle.py:251: UserWarning: Regressors in active set degenerate. Dropping a regressor, after 9 iterations, i.e. alpha=2.563e-01, with an active set of 8 regressors, and the smallest cholesky pivot element being 9.424e-08\n",
        "  % (n_iter, alpha, n_active, diag))\n",
        "C:\\Python27\\lib\\site-packages\\sklearn\\linear_model\\least_angle.py:251: UserWarning: Regressors in active set degenerate. Dropping a regressor, after 4 iterations, i.e. alpha=3.579e-01, with an active set of 4 regressors, and the smallest cholesky pivot element being 7.300e-08\n",
        "  % (n_iter, alpha, n_active, diag))\n"
       ]
      },
      {
       "output_type": "stream",
       "stream": "stderr",
       "text": [
        "C:\\Python27\\lib\\site-packages\\sklearn\\linear_model\\least_angle.py:251: UserWarning: Regressors in active set degenerate. Dropping a regressor, after 9 iterations, i.e. alpha=2.270e-01, with an active set of 9 regressors, and the smallest cholesky pivot element being 5.960e-08\n",
        "  % (n_iter, alpha, n_active, diag))\n",
        "C:\\Python27\\lib\\site-packages\\sklearn\\linear_model\\least_angle.py:251: UserWarning: Regressors in active set degenerate. Dropping a regressor, after 9 iterations, i.e. alpha=2.270e-01, with an active set of 9 regressors, and the smallest cholesky pivot element being 7.300e-08\n",
        "  % (n_iter, alpha, n_active, diag))\n",
        "C:\\Python27\\lib\\site-packages\\sklearn\\linear_model\\least_angle.py:251: UserWarning: Regressors in active set degenerate. Dropping a regressor, after 1 iterations, i.e. alpha=4.856e-01, with an active set of 1 regressors, and the smallest cholesky pivot element being 2.220e-16\n",
        "  % (n_iter, alpha, n_active, diag))\n",
        "C:\\Python27\\lib\\site-packages\\sklearn\\linear_model\\least_angle.py:251: UserWarning: Regressors in active set degenerate. Dropping a regressor, after 4 iterations, i.e. alpha=3.994e-01, with an active set of 4 regressors, and the smallest cholesky pivot element being 2.220e-16\n",
        "  % (n_iter, alpha, n_active, diag))\n",
        "C:\\Python27\\lib\\site-packages\\sklearn\\linear_model\\least_angle.py:251: UserWarning: Regressors in active set degenerate. Dropping a regressor, after 4 iterations, i.e. alpha=3.994e-01, with an active set of 4 regressors, and the smallest cholesky pivot element being 5.960e-08\n",
        "  % (n_iter, alpha, n_active, diag))\n",
        "C:\\Python27\\lib\\site-packages\\sklearn\\linear_model\\least_angle.py:251: UserWarning: Regressors in active set degenerate. Dropping a regressor, after 9 iterations, i.e. alpha=2.220e-01, with an active set of 8 regressors, and the smallest cholesky pivot element being 5.960e-08\n",
        "  % (n_iter, alpha, n_active, diag))\n"
       ]
      },
      {
       "output_type": "stream",
       "stream": "stderr",
       "text": [
        "C:\\Python27\\lib\\site-packages\\sklearn\\linear_model\\least_angle.py:251: UserWarning: Regressors in active set degenerate. Dropping a regressor, after 2 iterations, i.e. alpha=4.819e-01, with an active set of 2 regressors, and the smallest cholesky pivot element being 5.960e-08\n",
        "  % (n_iter, alpha, n_active, diag))\n",
        "C:\\Python27\\lib\\site-packages\\sklearn\\linear_model\\least_angle.py:251: UserWarning: Regressors in active set degenerate. Dropping a regressor, after 6 iterations, i.e. alpha=3.185e-01, with an active set of 6 regressors, and the smallest cholesky pivot element being 4.215e-08\n",
        "  % (n_iter, alpha, n_active, diag))\n",
        "C:\\Python27\\lib\\site-packages\\sklearn\\linear_model\\least_angle.py:251: UserWarning: Regressors in active set degenerate. Dropping a regressor, after 7 iterations, i.e. alpha=3.072e-01, with an active set of 7 regressors, and the smallest cholesky pivot element being 5.960e-08\n",
        "  % (n_iter, alpha, n_active, diag))\n",
        "C:\\Python27\\lib\\site-packages\\sklearn\\linear_model\\least_angle.py:251: UserWarning: Regressors in active set degenerate. Dropping a regressor, after 8 iterations, i.e. alpha=2.321e-01, with an active set of 8 regressors, and the smallest cholesky pivot element being 5.960e-08\n",
        "  % (n_iter, alpha, n_active, diag))\n",
        "C:\\Python27\\lib\\site-packages\\sklearn\\linear_model\\least_angle.py:251: UserWarning: Regressors in active set degenerate. Dropping a regressor, after 5 iterations, i.e. alpha=3.052e-01, with an active set of 5 regressors, and the smallest cholesky pivot element being 4.215e-08\n",
        "  % (n_iter, alpha, n_active, diag))\n"
       ]
      },
      {
       "output_type": "stream",
       "stream": "stderr",
       "text": [
        "C:\\Python27\\lib\\site-packages\\sklearn\\linear_model\\least_angle.py:251: UserWarning: Regressors in active set degenerate. Dropping a regressor, after 8 iterations, i.e. alpha=2.364e-01, with an active set of 7 regressors, and the smallest cholesky pivot element being 7.300e-08\n",
        "  % (n_iter, alpha, n_active, diag))\n",
        "C:\\Python27\\lib\\site-packages\\sklearn\\linear_model\\least_angle.py:251: UserWarning: Regressors in active set degenerate. Dropping a regressor, after 8 iterations, i.e. alpha=2.364e-01, with an active set of 7 regressors, and the smallest cholesky pivot element being 4.215e-08\n",
        "  % (n_iter, alpha, n_active, diag))\n",
        "C:\\Python27\\lib\\site-packages\\sklearn\\linear_model\\least_angle.py:251: UserWarning: Regressors in active set degenerate. Dropping a regressor, after 8 iterations, i.e. alpha=2.364e-01, with an active set of 7 regressors, and the smallest cholesky pivot element being 5.960e-08\n",
        "  % (n_iter, alpha, n_active, diag))\n",
        "C:\\Python27\\lib\\site-packages\\sklearn\\linear_model\\least_angle.py:251: UserWarning: Regressors in active set degenerate. Dropping a regressor, after 4 iterations, i.e. alpha=2.940e-01, with an active set of 4 regressors, and the smallest cholesky pivot element being 7.300e-08\n",
        "  % (n_iter, alpha, n_active, diag))\n"
       ]
      },
      {
       "output_type": "stream",
       "stream": "stderr",
       "text": [
        "C:\\Python27\\lib\\site-packages\\sklearn\\linear_model\\least_angle.py:251: UserWarning: Regressors in active set degenerate. Dropping a regressor, after 4 iterations, i.e. alpha=2.940e-01, with an active set of 4 regressors, and the smallest cholesky pivot element being 4.215e-08\n",
        "  % (n_iter, alpha, n_active, diag))\n",
        "C:\\Python27\\lib\\site-packages\\sklearn\\linear_model\\least_angle.py:251: UserWarning: Regressors in active set degenerate. Dropping a regressor, after 2 iterations, i.e. alpha=5.704e-01, with an active set of 2 regressors, and the smallest cholesky pivot element being 2.220e-16\n",
        "  % (n_iter, alpha, n_active, diag))\n",
        "C:\\Python27\\lib\\site-packages\\sklearn\\linear_model\\least_angle.py:251: UserWarning: Regressors in active set degenerate. Dropping a regressor, after 7 iterations, i.e. alpha=3.810e-01, with an active set of 7 regressors, and the smallest cholesky pivot element being 2.220e-16\n",
        "  % (n_iter, alpha, n_active, diag))\n",
        "C:\\Python27\\lib\\site-packages\\sklearn\\linear_model\\least_angle.py:251: UserWarning: Regressors in active set degenerate. Dropping a regressor, after 9 iterations, i.e. alpha=3.157e-01, with an active set of 9 regressors, and the smallest cholesky pivot element being 2.220e-16\n",
        "  % (n_iter, alpha, n_active, diag))\n",
        "C:\\Python27\\lib\\site-packages\\sklearn\\linear_model\\least_angle.py:251: UserWarning: Regressors in active set degenerate. Dropping a regressor, after 4 iterations, i.e. alpha=5.180e-01, with an active set of 4 regressors, and the smallest cholesky pivot element being 7.300e-08\n",
        "  % (n_iter, alpha, n_active, diag))\n"
       ]
      },
      {
       "output_type": "stream",
       "stream": "stderr",
       "text": [
        "C:\\Python27\\lib\\site-packages\\sklearn\\linear_model\\least_angle.py:251: UserWarning: Regressors in active set degenerate. Dropping a regressor, after 5 iterations, i.e. alpha=3.371e-01, with an active set of 5 regressors, and the smallest cholesky pivot element being 7.300e-08\n",
        "  % (n_iter, alpha, n_active, diag))\n",
        "C:\\Python27\\lib\\site-packages\\sklearn\\linear_model\\least_angle.py:251: UserWarning: Regressors in active set degenerate. Dropping a regressor, after 8 iterations, i.e. alpha=2.511e-01, with an active set of 8 regressors, and the smallest cholesky pivot element being 7.300e-08\n",
        "  % (n_iter, alpha, n_active, diag))\n",
        "C:\\Python27\\lib\\site-packages\\sklearn\\linear_model\\least_angle.py:251: UserWarning: Regressors in active set degenerate. Dropping a regressor, after 8 iterations, i.e. alpha=2.511e-01, with an active set of 8 regressors, and the smallest cholesky pivot element being 4.215e-08\n",
        "  % (n_iter, alpha, n_active, diag))\n",
        "C:\\Python27\\lib\\site-packages\\sklearn\\linear_model\\least_angle.py:251: UserWarning: Regressors in active set degenerate. Dropping a regressor, after 8 iterations, i.e. alpha=2.297e-01, with an active set of 8 regressors, and the smallest cholesky pivot element being 8.429e-08\n",
        "  % (n_iter, alpha, n_active, diag))\n"
       ]
      },
      {
       "output_type": "stream",
       "stream": "stderr",
       "text": [
        "C:\\Python27\\lib\\site-packages\\sklearn\\linear_model\\least_angle.py:251: UserWarning: Regressors in active set degenerate. Dropping a regressor, after 9 iterations, i.e. alpha=2.230e-01, with an active set of 9 regressors, and the smallest cholesky pivot element being 8.429e-08\n",
        "  % (n_iter, alpha, n_active, diag))\n",
        "C:\\Python27\\lib\\site-packages\\sklearn\\linear_model\\least_angle.py:251: UserWarning: Regressors in active set degenerate. Dropping a regressor, after 9 iterations, i.e. alpha=2.230e-01, with an active set of 9 regressors, and the smallest cholesky pivot element being 9.424e-08\n",
        "  % (n_iter, alpha, n_active, diag))\n",
        "C:\\Python27\\lib\\site-packages\\sklearn\\linear_model\\least_angle.py:251: UserWarning: Regressors in active set degenerate. Dropping a regressor, after 8 iterations, i.e. alpha=3.711e-01, with an active set of 8 regressors, and the smallest cholesky pivot element being 2.220e-16\n",
        "  % (n_iter, alpha, n_active, diag))\n",
        "C:\\Python27\\lib\\site-packages\\sklearn\\linear_model\\least_angle.py:251: UserWarning: Regressors in active set degenerate. Dropping a regressor, after 5 iterations, i.e. alpha=2.624e-01, with an active set of 5 regressors, and the smallest cholesky pivot element being 2.220e-16\n",
        "  % (n_iter, alpha, n_active, diag))\n"
       ]
      },
      {
       "output_type": "stream",
       "stream": "stderr",
       "text": [
        "C:\\Python27\\lib\\site-packages\\sklearn\\linear_model\\least_angle.py:251: UserWarning: Regressors in active set degenerate. Dropping a regressor, after 6 iterations, i.e. alpha=2.552e-01, with an active set of 6 regressors, and the smallest cholesky pivot element being 2.220e-16\n",
        "  % (n_iter, alpha, n_active, diag))\n",
        "C:\\Python27\\lib\\site-packages\\sklearn\\linear_model\\least_angle.py:251: UserWarning: Regressors in active set degenerate. Dropping a regressor, after 2 iterations, i.e. alpha=4.839e-01, with an active set of 2 regressors, and the smallest cholesky pivot element being 8.429e-08\n",
        "  % (n_iter, alpha, n_active, diag))\n"
       ]
      },
      {
       "output_type": "stream",
       "stream": "stderr",
       "text": [
        "C:\\Python27\\lib\\site-packages\\sklearn\\linear_model\\least_angle.py:251: UserWarning: Regressors in active set degenerate. Dropping a regressor, after 5 iterations, i.e. alpha=3.557e-01, with an active set of 5 regressors, and the smallest cholesky pivot element being 4.215e-08\n",
        "  % (n_iter, alpha, n_active, diag))\n",
        "C:\\Python27\\lib\\site-packages\\sklearn\\linear_model\\least_angle.py:251: UserWarning: Regressors in active set degenerate. Dropping a regressor, after 9 iterations, i.e. alpha=2.663e-01, with an active set of 8 regressors, and the smallest cholesky pivot element being 4.215e-08\n",
        "  % (n_iter, alpha, n_active, diag))\n",
        "C:\\Python27\\lib\\site-packages\\sklearn\\linear_model\\least_angle.py:251: UserWarning: Regressors in active set degenerate. Dropping a regressor, after 6 iterations, i.e. alpha=3.309e-01, with an active set of 6 regressors, and the smallest cholesky pivot element being 2.220e-16\n",
        "  % (n_iter, alpha, n_active, diag))\n"
       ]
      },
      {
       "output_type": "stream",
       "stream": "stderr",
       "text": [
        "C:\\Python27\\lib\\site-packages\\sklearn\\linear_model\\least_angle.py:251: UserWarning: Regressors in active set degenerate. Dropping a regressor, after 8 iterations, i.e. alpha=1.998e-01, with an active set of 8 regressors, and the smallest cholesky pivot element being 2.220e-16\n",
        "  % (n_iter, alpha, n_active, diag))\n",
        "C:\\Python27\\lib\\site-packages\\sklearn\\linear_model\\least_angle.py:251: UserWarning: Regressors in active set degenerate. Dropping a regressor, after 9 iterations, i.e. alpha=1.804e-01, with an active set of 9 regressors, and the smallest cholesky pivot element being 2.220e-16\n",
        "  % (n_iter, alpha, n_active, diag))\n",
        "C:\\Python27\\lib\\site-packages\\sklearn\\linear_model\\least_angle.py:251: UserWarning: Regressors in active set degenerate. Dropping a regressor, after 3 iterations, i.e. alpha=6.035e-01, with an active set of 3 regressors, and the smallest cholesky pivot element being 5.960e-08\n",
        "  % (n_iter, alpha, n_active, diag))\n"
       ]
      },
      {
       "output_type": "stream",
       "stream": "stderr",
       "text": [
        "C:\\Python27\\lib\\site-packages\\sklearn\\linear_model\\least_angle.py:251: UserWarning: Regressors in active set degenerate. Dropping a regressor, after 5 iterations, i.e. alpha=2.953e-01, with an active set of 5 regressors, and the smallest cholesky pivot element being 7.300e-08\n",
        "  % (n_iter, alpha, n_active, diag))\n",
        "C:\\Python27\\lib\\site-packages\\sklearn\\linear_model\\least_angle.py:251: UserWarning: Regressors in active set degenerate. Dropping a regressor, after 4 iterations, i.e. alpha=4.175e-01, with an active set of 4 regressors, and the smallest cholesky pivot element being 5.960e-08\n",
        "  % (n_iter, alpha, n_active, diag))\n"
       ]
      },
      {
       "output_type": "stream",
       "stream": "stderr",
       "text": [
        "C:\\Python27\\lib\\site-packages\\sklearn\\linear_model\\least_angle.py:251: UserWarning: Regressors in active set degenerate. Dropping a regressor, after 3 iterations, i.e. alpha=5.334e-01, with an active set of 3 regressors, and the smallest cholesky pivot element being 2.220e-16\n",
        "  % (n_iter, alpha, n_active, diag))\n",
        "C:\\Python27\\lib\\site-packages\\sklearn\\linear_model\\least_angle.py:251: UserWarning: Regressors in active set degenerate. Dropping a regressor, after 5 iterations, i.e. alpha=4.172e-01, with an active set of 5 regressors, and the smallest cholesky pivot element being 7.300e-08\n",
        "  % (n_iter, alpha, n_active, diag))\n",
        "C:\\Python27\\lib\\site-packages\\sklearn\\linear_model\\least_angle.py:251: UserWarning: Regressors in active set degenerate. Dropping a regressor, after 6 iterations, i.e. alpha=3.516e-01, with an active set of 6 regressors, and the smallest cholesky pivot element being 7.300e-08\n",
        "  % (n_iter, alpha, n_active, diag))\n",
        "C:\\Python27\\lib\\site-packages\\sklearn\\linear_model\\least_angle.py:251: UserWarning: Regressors in active set degenerate. Dropping a regressor, after 4 iterations, i.e. alpha=2.816e-01, with an active set of 4 regressors, and the smallest cholesky pivot element being 4.215e-08\n",
        "  % (n_iter, alpha, n_active, diag))\n"
       ]
      },
      {
       "output_type": "stream",
       "stream": "stderr",
       "text": [
        "C:\\Python27\\lib\\site-packages\\sklearn\\linear_model\\least_angle.py:251: UserWarning: Regressors in active set degenerate. Dropping a regressor, after 8 iterations, i.e. alpha=2.386e-01, with an active set of 7 regressors, and the smallest cholesky pivot element being 5.960e-08\n",
        "  % (n_iter, alpha, n_active, diag))\n",
        "C:\\Python27\\lib\\site-packages\\sklearn\\linear_model\\least_angle.py:251: UserWarning: Regressors in active set degenerate. Dropping a regressor, after 9 iterations, i.e. alpha=2.386e-01, with an active set of 8 regressors, and the smallest cholesky pivot element being 8.429e-08\n",
        "  % (n_iter, alpha, n_active, diag))\n",
        "C:\\Python27\\lib\\site-packages\\sklearn\\linear_model\\least_angle.py:251: UserWarning: Regressors in active set degenerate. Dropping a regressor, after 9 iterations, i.e. alpha=2.386e-01, with an active set of 8 regressors, and the smallest cholesky pivot element being 4.215e-08\n",
        "  % (n_iter, alpha, n_active, diag))\n",
        "C:\\Python27\\lib\\site-packages\\sklearn\\linear_model\\least_angle.py:251: UserWarning: Regressors in active set degenerate. Dropping a regressor, after 9 iterations, i.e. alpha=2.386e-01, with an active set of 8 regressors, and the smallest cholesky pivot element being 7.300e-08\n",
        "  % (n_iter, alpha, n_active, diag))\n",
        "C:\\Python27\\lib\\site-packages\\sklearn\\linear_model\\least_angle.py:251: UserWarning: Regressors in active set degenerate. Dropping a regressor, after 9 iterations, i.e. alpha=2.386e-01, with an active set of 8 regressors, and the smallest cholesky pivot element being 9.424e-08\n",
        "  % (n_iter, alpha, n_active, diag))\n",
        "C:\\Python27\\lib\\site-packages\\sklearn\\linear_model\\least_angle.py:251: UserWarning: Regressors in active set degenerate. Dropping a regressor, after 4 iterations, i.e. alpha=3.400e-01, with an active set of 4 regressors, and the smallest cholesky pivot element being 5.960e-08\n",
        "  % (n_iter, alpha, n_active, diag))\n"
       ]
      },
      {
       "output_type": "stream",
       "stream": "stderr",
       "text": [
        "C:\\Python27\\lib\\site-packages\\sklearn\\linear_model\\least_angle.py:251: UserWarning: Regressors in active set degenerate. Dropping a regressor, after 8 iterations, i.e. alpha=2.360e-01, with an active set of 7 regressors, and the smallest cholesky pivot element being 7.300e-08\n",
        "  % (n_iter, alpha, n_active, diag))\n",
        "C:\\Python27\\lib\\site-packages\\sklearn\\linear_model\\least_angle.py:251: UserWarning: Regressors in active set degenerate. Dropping a regressor, after 8 iterations, i.e. alpha=2.360e-01, with an active set of 7 regressors, and the smallest cholesky pivot element being 5.960e-08\n",
        "  % (n_iter, alpha, n_active, diag))\n",
        "C:\\Python27\\lib\\site-packages\\sklearn\\linear_model\\least_angle.py:251: UserWarning: Regressors in active set degenerate. Dropping a regressor, after 7 iterations, i.e. alpha=1.298e-01, with an active set of 7 regressors, and the smallest cholesky pivot element being 7.300e-08\n",
        "  % (n_iter, alpha, n_active, diag))\n"
       ]
      },
      {
       "output_type": "stream",
       "stream": "stderr",
       "text": [
        "C:\\Python27\\lib\\site-packages\\sklearn\\linear_model\\least_angle.py:251: UserWarning: Regressors in active set degenerate. Dropping a regressor, after 7 iterations, i.e. alpha=1.298e-01, with an active set of 7 regressors, and the smallest cholesky pivot element being 5.960e-08\n",
        "  % (n_iter, alpha, n_active, diag))\n",
        "C:\\Python27\\lib\\site-packages\\sklearn\\linear_model\\least_angle.py:251: UserWarning: Regressors in active set degenerate. Dropping a regressor, after 4 iterations, i.e. alpha=6.483e-01, with an active set of 4 regressors, and the smallest cholesky pivot element being 5.960e-08\n",
        "  % (n_iter, alpha, n_active, diag))\n"
       ]
      },
      {
       "output_type": "stream",
       "stream": "stderr",
       "text": [
        "C:\\Python27\\lib\\site-packages\\sklearn\\linear_model\\least_angle.py:251: UserWarning: Regressors in active set degenerate. Dropping a regressor, after 8 iterations, i.e. alpha=3.257e-01, with an active set of 8 regressors, and the smallest cholesky pivot element being 5.960e-08\n",
        "  % (n_iter, alpha, n_active, diag))\n",
        "C:\\Python27\\lib\\site-packages\\sklearn\\linear_model\\least_angle.py:251: UserWarning: Regressors in active set degenerate. Dropping a regressor, after 4 iterations, i.e. alpha=3.387e-01, with an active set of 4 regressors, and the smallest cholesky pivot element being 8.429e-08\n",
        "  % (n_iter, alpha, n_active, diag))\n"
       ]
      },
      {
       "output_type": "stream",
       "stream": "stderr",
       "text": [
        "C:\\Python27\\lib\\site-packages\\sklearn\\linear_model\\least_angle.py:251: UserWarning: Regressors in active set degenerate. Dropping a regressor, after 5 iterations, i.e. alpha=2.757e-01, with an active set of 5 regressors, and the smallest cholesky pivot element being 8.429e-08\n",
        "  % (n_iter, alpha, n_active, diag))\n",
        "C:\\Python27\\lib\\site-packages\\sklearn\\linear_model\\least_angle.py:251: UserWarning: Regressors in active set degenerate. Dropping a regressor, after 1 iterations, i.e. alpha=3.407e-01, with an active set of 1 regressors, and the smallest cholesky pivot element being 2.220e-16\n",
        "  % (n_iter, alpha, n_active, diag))\n"
       ]
      },
      {
       "output_type": "stream",
       "stream": "stderr",
       "text": [
        "C:\\Python27\\lib\\site-packages\\sklearn\\linear_model\\least_angle.py:251: UserWarning: Regressors in active set degenerate. Dropping a regressor, after 1 iterations, i.e. alpha=5.506e-01, with an active set of 1 regressors, and the smallest cholesky pivot element being 2.220e-16\n",
        "  % (n_iter, alpha, n_active, diag))\n",
        "C:\\Python27\\lib\\site-packages\\sklearn\\linear_model\\least_angle.py:251: UserWarning: Regressors in active set degenerate. Dropping a regressor, after 8 iterations, i.e. alpha=2.753e-01, with an active set of 8 regressors, and the smallest cholesky pivot element being 2.220e-16\n",
        "  % (n_iter, alpha, n_active, diag))\n",
        "C:\\Python27\\lib\\site-packages\\sklearn\\linear_model\\least_angle.py:251: UserWarning: Regressors in active set degenerate. Dropping a regressor, after 1 iterations, i.e. alpha=5.028e-01, with an active set of 1 regressors, and the smallest cholesky pivot element being 5.960e-08\n",
        "  % (n_iter, alpha, n_active, diag))\n"
       ]
      },
      {
       "output_type": "stream",
       "stream": "stderr",
       "text": [
        "C:\\Python27\\lib\\site-packages\\sklearn\\linear_model\\least_angle.py:251: UserWarning: Regressors in active set degenerate. Dropping a regressor, after 2 iterations, i.e. alpha=4.881e-01, with an active set of 2 regressors, and the smallest cholesky pivot element being 5.960e-08\n",
        "  % (n_iter, alpha, n_active, diag))\n",
        "C:\\Python27\\lib\\site-packages\\sklearn\\linear_model\\least_angle.py:251: UserWarning: Regressors in active set degenerate. Dropping a regressor, after 3 iterations, i.e. alpha=4.276e-01, with an active set of 3 regressors, and the smallest cholesky pivot element being 5.960e-08\n",
        "  % (n_iter, alpha, n_active, diag))\n",
        "C:\\Python27\\lib\\site-packages\\sklearn\\linear_model\\least_angle.py:251: UserWarning: Regressors in active set degenerate. Dropping a regressor, after 4 iterations, i.e. alpha=3.887e-01, with an active set of 4 regressors, and the smallest cholesky pivot element being 5.960e-08\n",
        "  % (n_iter, alpha, n_active, diag))\n",
        "C:\\Python27\\lib\\site-packages\\sklearn\\linear_model\\least_angle.py:251: UserWarning: Regressors in active set degenerate. Dropping a regressor, after 4 iterations, i.e. alpha=3.887e-01, with an active set of 4 regressors, and the smallest cholesky pivot element being 9.424e-08\n",
        "  % (n_iter, alpha, n_active, diag))\n",
        "C:\\Python27\\lib\\site-packages\\sklearn\\linear_model\\least_angle.py:251: UserWarning: Regressors in active set degenerate. Dropping a regressor, after 4 iterations, i.e. alpha=3.887e-01, with an active set of 4 regressors, and the smallest cholesky pivot element being 7.300e-08\n",
        "  % (n_iter, alpha, n_active, diag))\n",
        "C:\\Python27\\lib\\site-packages\\sklearn\\linear_model\\least_angle.py:251: UserWarning: Regressors in active set degenerate. Dropping a regressor, after 5 iterations, i.e. alpha=3.663e-01, with an active set of 5 regressors, and the smallest cholesky pivot element being 5.960e-08\n",
        "  % (n_iter, alpha, n_active, diag))\n",
        "C:\\Python27\\lib\\site-packages\\sklearn\\linear_model\\least_angle.py:251: UserWarning: Regressors in active set degenerate. Dropping a regressor, after 7 iterations, i.e. alpha=4.124e-01, with an active set of 6 regressors, and the smallest cholesky pivot element being 4.215e-08\n",
        "  % (n_iter, alpha, n_active, diag))\n"
       ]
      },
      {
       "output_type": "stream",
       "stream": "stderr",
       "text": [
        "C:\\Python27\\lib\\site-packages\\sklearn\\linear_model\\least_angle.py:251: UserWarning: Regressors in active set degenerate. Dropping a regressor, after 2 iterations, i.e. alpha=4.229e-01, with an active set of 2 regressors, and the smallest cholesky pivot element being 2.220e-16\n",
        "  % (n_iter, alpha, n_active, diag))\n",
        "C:\\Python27\\lib\\site-packages\\sklearn\\linear_model\\least_angle.py:251: UserWarning: Regressors in active set degenerate. Dropping a regressor, after 4 iterations, i.e. alpha=3.661e-01, with an active set of 3 regressors, and the smallest cholesky pivot element being 2.220e-16\n",
        "  % (n_iter, alpha, n_active, diag))\n",
        "C:\\Python27\\lib\\site-packages\\sklearn\\linear_model\\least_angle.py:251: UserWarning: Regressors in active set degenerate. Dropping a regressor, after 7 iterations, i.e. alpha=2.077e-01, with an active set of 7 regressors, and the smallest cholesky pivot element being 5.960e-08\n",
        "  % (n_iter, alpha, n_active, diag))\n"
       ]
      },
      {
       "output_type": "stream",
       "stream": "stderr",
       "text": [
        "C:\\Python27\\lib\\site-packages\\sklearn\\linear_model\\least_angle.py:251: UserWarning: Regressors in active set degenerate. Dropping a regressor, after 9 iterations, i.e. alpha=1.115e-01, with an active set of 9 regressors, and the smallest cholesky pivot element being 5.960e-08\n",
        "  % (n_iter, alpha, n_active, diag))\n",
        "C:\\Python27\\lib\\site-packages\\sklearn\\linear_model\\least_angle.py:251: UserWarning: Regressors in active set degenerate. Dropping a regressor, after 6 iterations, i.e. alpha=3.292e-01, with an active set of 5 regressors, and the smallest cholesky pivot element being 4.215e-08\n",
        "  % (n_iter, alpha, n_active, diag))\n"
       ]
      },
      {
       "output_type": "stream",
       "stream": "stderr",
       "text": [
        "C:\\Python27\\lib\\site-packages\\sklearn\\linear_model\\least_angle.py:251: UserWarning: Regressors in active set degenerate. Dropping a regressor, after 6 iterations, i.e. alpha=3.269e-01, with an active set of 6 regressors, and the smallest cholesky pivot element being 5.960e-08\n",
        "  % (n_iter, alpha, n_active, diag))\n",
        "C:\\Python27\\lib\\site-packages\\sklearn\\linear_model\\least_angle.py:251: UserWarning: Regressors in active set degenerate. Dropping a regressor, after 5 iterations, i.e. alpha=3.988e-01, with an active set of 5 regressors, and the smallest cholesky pivot element being 2.220e-16\n",
        "  % (n_iter, alpha, n_active, diag))\n"
       ]
      },
      {
       "output_type": "stream",
       "stream": "stderr",
       "text": [
        "C:\\Python27\\lib\\site-packages\\sklearn\\linear_model\\least_angle.py:251: UserWarning: Regressors in active set degenerate. Dropping a regressor, after 8 iterations, i.e. alpha=2.757e-01, with an active set of 8 regressors, and the smallest cholesky pivot element being 4.215e-08\n",
        "  % (n_iter, alpha, n_active, diag))\n",
        "C:\\Python27\\lib\\site-packages\\sklearn\\linear_model\\least_angle.py:251: UserWarning: Regressors in active set degenerate. Dropping a regressor, after 8 iterations, i.e. alpha=2.757e-01, with an active set of 8 regressors, and the smallest cholesky pivot element being 8.429e-08\n",
        "  % (n_iter, alpha, n_active, diag))\n",
        "C:\\Python27\\lib\\site-packages\\sklearn\\linear_model\\least_angle.py:251: UserWarning: Regressors in active set degenerate. Dropping a regressor, after 7 iterations, i.e. alpha=3.181e-01, with an active set of 7 regressors, and the smallest cholesky pivot element being 2.220e-16\n",
        "  % (n_iter, alpha, n_active, diag))\n"
       ]
      },
      {
       "output_type": "stream",
       "stream": "stderr",
       "text": [
        "C:\\Python27\\lib\\site-packages\\sklearn\\linear_model\\least_angle.py:251: UserWarning: Regressors in active set degenerate. Dropping a regressor, after 9 iterations, i.e. alpha=2.945e-01, with an active set of 9 regressors, and the smallest cholesky pivot element being 2.220e-16\n",
        "  % (n_iter, alpha, n_active, diag))\n",
        "C:\\Python27\\lib\\site-packages\\sklearn\\linear_model\\least_angle.py:251: UserWarning: Regressors in active set degenerate. Dropping a regressor, after 2 iterations, i.e. alpha=5.425e-01, with an active set of 2 regressors, and the smallest cholesky pivot element being 4.215e-08\n",
        "  % (n_iter, alpha, n_active, diag))\n"
       ]
      },
      {
       "output_type": "stream",
       "stream": "stderr",
       "text": [
        "C:\\Python27\\lib\\site-packages\\sklearn\\linear_model\\least_angle.py:251: UserWarning: Regressors in active set degenerate. Dropping a regressor, after 5 iterations, i.e. alpha=3.203e-01, with an active set of 5 regressors, and the smallest cholesky pivot element being 7.300e-08\n",
        "  % (n_iter, alpha, n_active, diag))\n",
        "C:\\Python27\\lib\\site-packages\\sklearn\\linear_model\\least_angle.py:251: UserWarning: Regressors in active set degenerate. Dropping a regressor, after 2 iterations, i.e. alpha=5.051e-01, with an active set of 2 regressors, and the smallest cholesky pivot element being 2.220e-16\n",
        "  % (n_iter, alpha, n_active, diag))\n"
       ]
      },
      {
       "output_type": "stream",
       "stream": "stderr",
       "text": [
        "C:\\Python27\\lib\\site-packages\\sklearn\\linear_model\\least_angle.py:251: UserWarning: Regressors in active set degenerate. Dropping a regressor, after 1 iterations, i.e. alpha=4.379e-01, with an active set of 1 regressors, and the smallest cholesky pivot element being 2.220e-16\n",
        "  % (n_iter, alpha, n_active, diag))\n",
        "C:\\Python27\\lib\\site-packages\\sklearn\\linear_model\\least_angle.py:251: UserWarning: Regressors in active set degenerate. Dropping a regressor, after 7 iterations, i.e. alpha=3.038e-01, with an active set of 6 regressors, and the smallest cholesky pivot element being 2.220e-16\n",
        "  % (n_iter, alpha, n_active, diag))\n",
        "C:\\Python27\\lib\\site-packages\\sklearn\\linear_model\\least_angle.py:251: UserWarning: Regressors in active set degenerate. Dropping a regressor, after 7 iterations, i.e. alpha=3.038e-01, with an active set of 6 regressors, and the smallest cholesky pivot element being 4.215e-08\n",
        "  % (n_iter, alpha, n_active, diag))\n",
        "C:\\Python27\\lib\\site-packages\\sklearn\\linear_model\\least_angle.py:251: UserWarning: Regressors in active set degenerate. Dropping a regressor, after 8 iterations, i.e. alpha=3.023e-01, with an active set of 7 regressors, and the smallest cholesky pivot element being 4.215e-08\n",
        "  % (n_iter, alpha, n_active, diag))\n",
        "C:\\Python27\\lib\\site-packages\\sklearn\\linear_model\\least_angle.py:251: UserWarning: Regressors in active set degenerate. Dropping a regressor, after 8 iterations, i.e. alpha=3.130e-01, with an active set of 7 regressors, and the smallest cholesky pivot element being 2.220e-16\n",
        "  % (n_iter, alpha, n_active, diag))\n"
       ]
      },
      {
       "output_type": "stream",
       "stream": "stderr",
       "text": [
        "C:\\Python27\\lib\\site-packages\\sklearn\\linear_model\\least_angle.py:251: UserWarning: Regressors in active set degenerate. Dropping a regressor, after 2 iterations, i.e. alpha=3.738e-01, with an active set of 2 regressors, and the smallest cholesky pivot element being 5.960e-08\n",
        "  % (n_iter, alpha, n_active, diag))\n",
        "C:\\Python27\\lib\\site-packages\\sklearn\\linear_model\\least_angle.py:251: UserWarning: Regressors in active set degenerate. Dropping a regressor, after 7 iterations, i.e. alpha=2.677e-01, with an active set of 7 regressors, and the smallest cholesky pivot element being 4.215e-08\n",
        "  % (n_iter, alpha, n_active, diag))\n",
        "C:\\Python27\\lib\\site-packages\\sklearn\\linear_model\\least_angle.py:251: UserWarning: Regressors in active set degenerate. Dropping a regressor, after 4 iterations, i.e. alpha=4.553e-01, with an active set of 4 regressors, and the smallest cholesky pivot element being 2.220e-16\n",
        "  % (n_iter, alpha, n_active, diag))\n"
       ]
      },
      {
       "output_type": "stream",
       "stream": "stderr",
       "text": [
        "C:\\Python27\\lib\\site-packages\\sklearn\\linear_model\\least_angle.py:251: UserWarning: Regressors in active set degenerate. Dropping a regressor, after 5 iterations, i.e. alpha=3.464e-01, with an active set of 5 regressors, and the smallest cholesky pivot element being 4.215e-08\n",
        "  % (n_iter, alpha, n_active, diag))\n",
        "C:\\Python27\\lib\\site-packages\\sklearn\\linear_model\\least_angle.py:251: UserWarning: Regressors in active set degenerate. Dropping a regressor, after 3 iterations, i.e. alpha=4.744e-01, with an active set of 3 regressors, and the smallest cholesky pivot element being 5.960e-08\n",
        "  % (n_iter, alpha, n_active, diag))\n",
        "C:\\Python27\\lib\\site-packages\\sklearn\\linear_model\\least_angle.py:251: UserWarning: Regressors in active set degenerate. Dropping a regressor, after 9 iterations, i.e. alpha=3.182e-01, with an active set of 8 regressors, and the smallest cholesky pivot element being 4.215e-08\n",
        "  % (n_iter, alpha, n_active, diag))\n"
       ]
      },
      {
       "output_type": "stream",
       "stream": "stderr",
       "text": [
        "C:\\Python27\\lib\\site-packages\\sklearn\\linear_model\\least_angle.py:251: UserWarning: Regressors in active set degenerate. Dropping a regressor, after 9 iterations, i.e. alpha=3.182e-01, with an active set of 8 regressors, and the smallest cholesky pivot element being 5.960e-08\n",
        "  % (n_iter, alpha, n_active, diag))\n",
        "C:\\Python27\\lib\\site-packages\\sklearn\\linear_model\\least_angle.py:251: UserWarning: Regressors in active set degenerate. Dropping a regressor, after 2 iterations, i.e. alpha=6.828e-01, with an active set of 2 regressors, and the smallest cholesky pivot element being 5.960e-08\n",
        "  % (n_iter, alpha, n_active, diag))\n",
        "C:\\Python27\\lib\\site-packages\\sklearn\\linear_model\\least_angle.py:251: UserWarning: Regressors in active set degenerate. Dropping a regressor, after 5 iterations, i.e. alpha=5.424e-01, with an active set of 5 regressors, and the smallest cholesky pivot element being 5.960e-08\n",
        "  % (n_iter, alpha, n_active, diag))\n",
        "C:\\Python27\\lib\\site-packages\\sklearn\\linear_model\\least_angle.py:251: UserWarning: Regressors in active set degenerate. Dropping a regressor, after 8 iterations, i.e. alpha=4.063e-01, with an active set of 7 regressors, and the smallest cholesky pivot element being 4.215e-08\n",
        "  % (n_iter, alpha, n_active, diag))\n",
        "C:\\Python27\\lib\\site-packages\\sklearn\\linear_model\\least_angle.py:251: UserWarning: Regressors in active set degenerate. Dropping a regressor, after 3 iterations, i.e. alpha=4.886e-01, with an active set of 3 regressors, and the smallest cholesky pivot element being 7.300e-08\n",
        "  % (n_iter, alpha, n_active, diag))\n"
       ]
      },
      {
       "output_type": "stream",
       "stream": "stderr",
       "text": [
        "C:\\Python27\\lib\\site-packages\\sklearn\\linear_model\\least_angle.py:251: UserWarning: Regressors in active set degenerate. Dropping a regressor, after 8 iterations, i.e. alpha=2.151e-01, with an active set of 8 regressors, and the smallest cholesky pivot element being 7.300e-08\n",
        "  % (n_iter, alpha, n_active, diag))\n",
        "C:\\Python27\\lib\\site-packages\\sklearn\\linear_model\\least_angle.py:251: UserWarning: Regressors in active set degenerate. Dropping a regressor, after 4 iterations, i.e. alpha=3.570e-01, with an active set of 4 regressors, and the smallest cholesky pivot element being 7.300e-08\n",
        "  % (n_iter, alpha, n_active, diag))\n",
        "C:\\Python27\\lib\\site-packages\\sklearn\\linear_model\\least_angle.py:251: UserWarning: Regressors in active set degenerate. Dropping a regressor, after 9 iterations, i.e. alpha=2.226e-01, with an active set of 8 regressors, and the smallest cholesky pivot element being 7.300e-08\n",
        "  % (n_iter, alpha, n_active, diag))\n",
        "C:\\Python27\\lib\\site-packages\\sklearn\\linear_model\\least_angle.py:251: UserWarning: Regressors in active set degenerate. Dropping a regressor, after 8 iterations, i.e. alpha=2.077e-01, with an active set of 8 regressors, and the smallest cholesky pivot element being 4.215e-08\n",
        "  % (n_iter, alpha, n_active, diag))\n"
       ]
      },
      {
       "output_type": "stream",
       "stream": "stderr",
       "text": [
        "C:\\Python27\\lib\\site-packages\\sklearn\\linear_model\\least_angle.py:251: UserWarning: Regressors in active set degenerate. Dropping a regressor, after 3 iterations, i.e. alpha=3.723e-01, with an active set of 3 regressors, and the smallest cholesky pivot element being 5.960e-08\n",
        "  % (n_iter, alpha, n_active, diag))\n",
        "C:\\Python27\\lib\\site-packages\\sklearn\\linear_model\\least_angle.py:251: UserWarning: Regressors in active set degenerate. Dropping a regressor, after 3 iterations, i.e. alpha=5.340e-01, with an active set of 3 regressors, and the smallest cholesky pivot element being 5.960e-08\n",
        "  % (n_iter, alpha, n_active, diag))\n",
        "C:\\Python27\\lib\\site-packages\\sklearn\\linear_model\\least_angle.py:251: UserWarning: Regressors in active set degenerate. Dropping a regressor, after 2 iterations, i.e. alpha=5.361e-01, with an active set of 2 regressors, and the smallest cholesky pivot element being 5.960e-08\n",
        "  % (n_iter, alpha, n_active, diag))\n"
       ]
      },
      {
       "output_type": "stream",
       "stream": "stderr",
       "text": [
        "C:\\Python27\\lib\\site-packages\\sklearn\\linear_model\\least_angle.py:251: UserWarning: Regressors in active set degenerate. Dropping a regressor, after 2 iterations, i.e. alpha=5.014e-01, with an active set of 2 regressors, and the smallest cholesky pivot element being 7.300e-08\n",
        "  % (n_iter, alpha, n_active, diag))\n",
        "C:\\Python27\\lib\\site-packages\\sklearn\\linear_model\\least_angle.py:251: UserWarning: Regressors in active set degenerate. Dropping a regressor, after 4 iterations, i.e. alpha=4.577e-01, with an active set of 4 regressors, and the smallest cholesky pivot element being 5.960e-08\n",
        "  % (n_iter, alpha, n_active, diag))\n"
       ]
      },
      {
       "output_type": "stream",
       "stream": "stderr",
       "text": [
        "C:\\Python27\\lib\\site-packages\\sklearn\\linear_model\\least_angle.py:251: UserWarning: Regressors in active set degenerate. Dropping a regressor, after 8 iterations, i.e. alpha=2.175e-01, with an active set of 8 regressors, and the smallest cholesky pivot element being 5.960e-08\n",
        "  % (n_iter, alpha, n_active, diag))\n",
        "C:\\Python27\\lib\\site-packages\\sklearn\\linear_model\\least_angle.py:251: UserWarning: Regressors in active set degenerate. Dropping a regressor, after 7 iterations, i.e. alpha=2.560e-01, with an active set of 7 regressors, and the smallest cholesky pivot element being 2.220e-16\n",
        "  % (n_iter, alpha, n_active, diag))\n",
        "C:\\Python27\\lib\\site-packages\\sklearn\\linear_model\\least_angle.py:251: UserWarning: Regressors in active set degenerate. Dropping a regressor, after 2 iterations, i.e. alpha=5.805e-01, with an active set of 2 regressors, and the smallest cholesky pivot element being 5.960e-08\n",
        "  % (n_iter, alpha, n_active, diag))\n"
       ]
      },
      {
       "output_type": "stream",
       "stream": "stderr",
       "text": [
        "C:\\Python27\\lib\\site-packages\\sklearn\\linear_model\\least_angle.py:251: UserWarning: Regressors in active set degenerate. Dropping a regressor, after 4 iterations, i.e. alpha=3.759e-01, with an active set of 4 regressors, and the smallest cholesky pivot element being 5.960e-08\n",
        "  % (n_iter, alpha, n_active, diag))\n",
        "C:\\Python27\\lib\\site-packages\\sklearn\\linear_model\\least_angle.py:251: UserWarning: Regressors in active set degenerate. Dropping a regressor, after 7 iterations, i.e. alpha=3.072e-01, with an active set of 6 regressors, and the smallest cholesky pivot element being 2.220e-16\n",
        "  % (n_iter, alpha, n_active, diag))\n"
       ]
      },
      {
       "output_type": "stream",
       "stream": "stderr",
       "text": [
        "C:\\Python27\\lib\\site-packages\\sklearn\\linear_model\\least_angle.py:251: UserWarning: Regressors in active set degenerate. Dropping a regressor, after 8 iterations, i.e. alpha=2.828e-01, with an active set of 7 regressors, and the smallest cholesky pivot element being 4.215e-08\n",
        "  % (n_iter, alpha, n_active, diag))\n",
        "C:\\Python27\\lib\\site-packages\\sklearn\\linear_model\\least_angle.py:251: UserWarning: Regressors in active set degenerate. Dropping a regressor, after 8 iterations, i.e. alpha=2.828e-01, with an active set of 7 regressors, and the smallest cholesky pivot element being 5.960e-08\n",
        "  % (n_iter, alpha, n_active, diag))\n",
        "C:\\Python27\\lib\\site-packages\\sklearn\\linear_model\\least_angle.py:251: UserWarning: Regressors in active set degenerate. Dropping a regressor, after 2 iterations, i.e. alpha=4.428e-01, with an active set of 2 regressors, and the smallest cholesky pivot element being 5.960e-08\n",
        "  % (n_iter, alpha, n_active, diag))\n"
       ]
      },
      {
       "output_type": "stream",
       "stream": "stderr",
       "text": [
        "C:\\Python27\\lib\\site-packages\\sklearn\\linear_model\\least_angle.py:251: UserWarning: Regressors in active set degenerate. Dropping a regressor, after 4 iterations, i.e. alpha=3.418e-01, with an active set of 4 regressors, and the smallest cholesky pivot element being 7.300e-08\n",
        "  % (n_iter, alpha, n_active, diag))\n",
        "C:\\Python27\\lib\\site-packages\\sklearn\\linear_model\\least_angle.py:251: UserWarning: Regressors in active set degenerate. Dropping a regressor, after 7 iterations, i.e. alpha=2.762e-01, with an active set of 6 regressors, and the smallest cholesky pivot element being 7.300e-08\n",
        "  % (n_iter, alpha, n_active, diag))\n",
        "C:\\Python27\\lib\\site-packages\\sklearn\\linear_model\\least_angle.py:251: UserWarning: Regressors in active set degenerate. Dropping a regressor, after 9 iterations, i.e. alpha=2.745e-01, with an active set of 8 regressors, and the smallest cholesky pivot element being 7.300e-08\n",
        "  % (n_iter, alpha, n_active, diag))\n",
        "C:\\Python27\\lib\\site-packages\\sklearn\\linear_model\\least_angle.py:251: UserWarning: Regressors in active set degenerate. Dropping a regressor, after 9 iterations, i.e. alpha=2.745e-01, with an active set of 8 regressors, and the smallest cholesky pivot element being 9.424e-08\n",
        "  % (n_iter, alpha, n_active, diag))\n",
        "C:\\Python27\\lib\\site-packages\\sklearn\\linear_model\\least_angle.py:251: UserWarning: Regressors in active set degenerate. Dropping a regressor, after 9 iterations, i.e. alpha=2.745e-01, with an active set of 8 regressors, and the smallest cholesky pivot element being 8.429e-08\n",
        "  % (n_iter, alpha, n_active, diag))\n",
        "C:\\Python27\\lib\\site-packages\\sklearn\\linear_model\\least_angle.py:251: UserWarning: Regressors in active set degenerate. Dropping a regressor, after 8 iterations, i.e. alpha=2.513e-01, with an active set of 8 regressors, and the smallest cholesky pivot element being 4.215e-08\n",
        "  % (n_iter, alpha, n_active, diag))\n",
        "C:\\Python27\\lib\\site-packages\\sklearn\\linear_model\\least_angle.py:251: UserWarning: Regressors in active set degenerate. Dropping a regressor, after 4 iterations, i.e. alpha=3.635e-01, with an active set of 4 regressors, and the smallest cholesky pivot element being 5.960e-08\n",
        "  % (n_iter, alpha, n_active, diag))\n"
       ]
      },
      {
       "output_type": "stream",
       "stream": "stderr",
       "text": [
        "C:\\Python27\\lib\\site-packages\\sklearn\\linear_model\\least_angle.py:251: UserWarning: Regressors in active set degenerate. Dropping a regressor, after 2 iterations, i.e. alpha=5.866e-01, with an active set of 2 regressors, and the smallest cholesky pivot element being 4.215e-08\n",
        "  % (n_iter, alpha, n_active, diag))\n",
        "C:\\Python27\\lib\\site-packages\\sklearn\\linear_model\\least_angle.py:251: UserWarning: Regressors in active set degenerate. Dropping a regressor, after 4 iterations, i.e. alpha=4.202e-01, with an active set of 4 regressors, and the smallest cholesky pivot element being 2.220e-16\n",
        "  % (n_iter, alpha, n_active, diag))\n",
        "C:\\Python27\\lib\\site-packages\\sklearn\\linear_model\\least_angle.py:251: UserWarning: Regressors in active set degenerate. Dropping a regressor, after 8 iterations, i.e. alpha=2.161e-01, with an active set of 8 regressors, and the smallest cholesky pivot element being 2.220e-16\n",
        "  % (n_iter, alpha, n_active, diag))\n",
        "C:\\Python27\\lib\\site-packages\\sklearn\\linear_model\\least_angle.py:251: UserWarning: Regressors in active set degenerate. Dropping a regressor, after 3 iterations, i.e. alpha=4.459e-01, with an active set of 3 regressors, and the smallest cholesky pivot element being 5.960e-08\n",
        "  % (n_iter, alpha, n_active, diag))\n"
       ]
      },
      {
       "output_type": "stream",
       "stream": "stderr",
       "text": [
        "C:\\Python27\\lib\\site-packages\\sklearn\\linear_model\\least_angle.py:251: UserWarning: Regressors in active set degenerate. Dropping a regressor, after 7 iterations, i.e. alpha=2.861e-01, with an active set of 7 regressors, and the smallest cholesky pivot element being 2.220e-16\n",
        "  % (n_iter, alpha, n_active, diag))\n",
        "C:\\Python27\\lib\\site-packages\\sklearn\\linear_model\\least_angle.py:251: UserWarning: Regressors in active set degenerate. Dropping a regressor, after 6 iterations, i.e. alpha=3.133e-01, with an active set of 6 regressors, and the smallest cholesky pivot element being 2.220e-16\n",
        "  % (n_iter, alpha, n_active, diag))\n",
        "C:\\Python27\\lib\\site-packages\\sklearn\\linear_model\\least_angle.py:251: UserWarning: Regressors in active set degenerate. Dropping a regressor, after 2 iterations, i.e. alpha=4.689e-01, with an active set of 2 regressors, and the smallest cholesky pivot element being 2.220e-16\n",
        "  % (n_iter, alpha, n_active, diag))\n"
       ]
      },
      {
       "output_type": "stream",
       "stream": "stderr",
       "text": [
        "C:\\Python27\\lib\\site-packages\\sklearn\\linear_model\\least_angle.py:251: UserWarning: Regressors in active set degenerate. Dropping a regressor, after 4 iterations, i.e. alpha=4.656e-01, with an active set of 4 regressors, and the smallest cholesky pivot element being 2.220e-16\n",
        "  % (n_iter, alpha, n_active, diag))\n",
        "C:\\Python27\\lib\\site-packages\\sklearn\\linear_model\\least_angle.py:251: UserWarning: Regressors in active set degenerate. Dropping a regressor, after 1 iterations, i.e. alpha=4.730e-01, with an active set of 1 regressors, and the smallest cholesky pivot element being 5.960e-08\n",
        "  % (n_iter, alpha, n_active, diag))\n"
       ]
      },
      {
       "output_type": "stream",
       "stream": "stderr",
       "text": [
        "C:\\Python27\\lib\\site-packages\\sklearn\\linear_model\\least_angle.py:251: UserWarning: Regressors in active set degenerate. Dropping a regressor, after 2 iterations, i.e. alpha=4.073e-01, with an active set of 2 regressors, and the smallest cholesky pivot element being 4.215e-08\n",
        "  % (n_iter, alpha, n_active, diag))\n",
        "C:\\Python27\\lib\\site-packages\\sklearn\\linear_model\\least_angle.py:251: UserWarning: Regressors in active set degenerate. Dropping a regressor, after 5 iterations, i.e. alpha=3.444e-01, with an active set of 5 regressors, and the smallest cholesky pivot element being 5.960e-08\n",
        "  % (n_iter, alpha, n_active, diag))\n",
        "C:\\Python27\\lib\\site-packages\\sklearn\\linear_model\\least_angle.py:251: UserWarning: Regressors in active set degenerate. Dropping a regressor, after 5 iterations, i.e. alpha=3.444e-01, with an active set of 5 regressors, and the smallest cholesky pivot element being 8.429e-08\n",
        "  % (n_iter, alpha, n_active, diag))\n",
        "C:\\Python27\\lib\\site-packages\\sklearn\\linear_model\\least_angle.py:251: UserWarning: Regressors in active set degenerate. Dropping a regressor, after 5 iterations, i.e. alpha=3.444e-01, with an active set of 5 regressors, and the smallest cholesky pivot element being 9.424e-08\n",
        "  % (n_iter, alpha, n_active, diag))\n",
        "C:\\Python27\\lib\\site-packages\\sklearn\\linear_model\\least_angle.py:251: UserWarning: Regressors in active set degenerate. Dropping a regressor, after 7 iterations, i.e. alpha=3.325e-01, with an active set of 6 regressors, and the smallest cholesky pivot element being 4.215e-08\n",
        "  % (n_iter, alpha, n_active, diag))\n",
        "C:\\Python27\\lib\\site-packages\\sklearn\\linear_model\\least_angle.py:251: UserWarning: Regressors in active set degenerate. Dropping a regressor, after 8 iterations, i.e. alpha=4.387e-01, with an active set of 7 regressors, and the smallest cholesky pivot element being 4.215e-08\n",
        "  % (n_iter, alpha, n_active, diag))\n"
       ]
      },
      {
       "output_type": "stream",
       "stream": "stderr",
       "text": [
        "C:\\Python27\\lib\\site-packages\\sklearn\\linear_model\\least_angle.py:251: UserWarning: Regressors in active set degenerate. Dropping a regressor, after 5 iterations, i.e. alpha=3.750e-01, with an active set of 5 regressors, and the smallest cholesky pivot element being 5.960e-08\n",
        "  % (n_iter, alpha, n_active, diag))\n",
        "C:\\Python27\\lib\\site-packages\\sklearn\\linear_model\\least_angle.py:251: UserWarning: Regressors in active set degenerate. Dropping a regressor, after 9 iterations, i.e. alpha=2.580e-01, with an active set of 9 regressors, and the smallest cholesky pivot element being 8.429e-08\n",
        "  % (n_iter, alpha, n_active, diag))\n"
       ]
      },
      {
       "output_type": "stream",
       "stream": "stderr",
       "text": [
        "C:\\Python27\\lib\\site-packages\\sklearn\\linear_model\\least_angle.py:251: UserWarning: Regressors in active set degenerate. Dropping a regressor, after 9 iterations, i.e. alpha=2.580e-01, with an active set of 9 regressors, and the smallest cholesky pivot element being 5.960e-08\n",
        "  % (n_iter, alpha, n_active, diag))\n",
        "C:\\Python27\\lib\\site-packages\\sklearn\\linear_model\\least_angle.py:251: UserWarning: Regressors in active set degenerate. Dropping a regressor, after 5 iterations, i.e. alpha=3.884e-01, with an active set of 5 regressors, and the smallest cholesky pivot element being 4.215e-08\n",
        "  % (n_iter, alpha, n_active, diag))\n"
       ]
      },
      {
       "output_type": "stream",
       "stream": "stderr",
       "text": [
        "C:\\Python27\\lib\\site-packages\\sklearn\\linear_model\\least_angle.py:251: UserWarning: Regressors in active set degenerate. Dropping a regressor, after 8 iterations, i.e. alpha=3.700e-01, with an active set of 7 regressors, and the smallest cholesky pivot element being 7.300e-08\n",
        "  % (n_iter, alpha, n_active, diag))\n",
        "C:\\Python27\\lib\\site-packages\\sklearn\\linear_model\\least_angle.py:251: UserWarning: Regressors in active set degenerate. Dropping a regressor, after 2 iterations, i.e. alpha=3.853e-01, with an active set of 2 regressors, and the smallest cholesky pivot element being 4.215e-08\n",
        "  % (n_iter, alpha, n_active, diag))\n"
       ]
      },
      {
       "output_type": "stream",
       "stream": "stderr",
       "text": [
        "C:\\Python27\\lib\\site-packages\\sklearn\\linear_model\\least_angle.py:251: UserWarning: Regressors in active set degenerate. Dropping a regressor, after 8 iterations, i.e. alpha=2.622e-01, with an active set of 8 regressors, and the smallest cholesky pivot element being 9.424e-08\n",
        "  % (n_iter, alpha, n_active, diag))\n",
        "C:\\Python27\\lib\\site-packages\\sklearn\\linear_model\\least_angle.py:251: UserWarning: Regressors in active set degenerate. Dropping a regressor, after 1 iterations, i.e. alpha=4.607e-01, with an active set of 1 regressors, and the smallest cholesky pivot element being 2.220e-16\n",
        "  % (n_iter, alpha, n_active, diag))\n"
       ]
      },
      {
       "output_type": "stream",
       "stream": "stderr",
       "text": [
        "C:\\Python27\\lib\\site-packages\\sklearn\\linear_model\\least_angle.py:251: UserWarning: Regressors in active set degenerate. Dropping a regressor, after 5 iterations, i.e. alpha=2.591e-01, with an active set of 5 regressors, and the smallest cholesky pivot element being 2.220e-16\n",
        "  % (n_iter, alpha, n_active, diag))\n",
        "C:\\Python27\\lib\\site-packages\\sklearn\\linear_model\\least_angle.py:251: UserWarning: Regressors in active set degenerate. Dropping a regressor, after 9 iterations, i.e. alpha=2.163e-01, with an active set of 9 regressors, and the smallest cholesky pivot element being 2.220e-16\n",
        "  % (n_iter, alpha, n_active, diag))\n",
        "C:\\Python27\\lib\\site-packages\\sklearn\\linear_model\\least_angle.py:251: UserWarning: Regressors in active set degenerate. Dropping a regressor, after 9 iterations, i.e. alpha=2.163e-01, with an active set of 9 regressors, and the smallest cholesky pivot element being 5.960e-08\n",
        "  % (n_iter, alpha, n_active, diag))\n",
        "C:\\Python27\\lib\\site-packages\\sklearn\\linear_model\\least_angle.py:251: UserWarning: Regressors in active set degenerate. Dropping a regressor, after 2 iterations, i.e. alpha=5.746e-01, with an active set of 2 regressors, and the smallest cholesky pivot element being 2.220e-16\n",
        "  % (n_iter, alpha, n_active, diag))\n"
       ]
      },
      {
       "output_type": "stream",
       "stream": "stderr",
       "text": [
        "C:\\Python27\\lib\\site-packages\\sklearn\\linear_model\\least_angle.py:251: UserWarning: Regressors in active set degenerate. Dropping a regressor, after 4 iterations, i.e. alpha=4.366e-01, with an active set of 4 regressors, and the smallest cholesky pivot element being 5.960e-08\n",
        "  % (n_iter, alpha, n_active, diag))\n",
        "C:\\Python27\\lib\\site-packages\\sklearn\\linear_model\\least_angle.py:251: UserWarning: Regressors in active set degenerate. Dropping a regressor, after 1 iterations, i.e. alpha=6.211e-01, with an active set of 1 regressors, and the smallest cholesky pivot element being 5.960e-08\n",
        "  % (n_iter, alpha, n_active, diag))\n"
       ]
      },
      {
       "output_type": "stream",
       "stream": "stderr",
       "text": [
        "C:\\Python27\\lib\\site-packages\\sklearn\\linear_model\\least_angle.py:251: UserWarning: Regressors in active set degenerate. Dropping a regressor, after 6 iterations, i.e. alpha=4.107e-01, with an active set of 5 regressors, and the smallest cholesky pivot element being 5.960e-08\n",
        "  % (n_iter, alpha, n_active, diag))\n",
        "C:\\Python27\\lib\\site-packages\\sklearn\\linear_model\\least_angle.py:251: UserWarning: Regressors in active set degenerate. Dropping a regressor, after 5 iterations, i.e. alpha=2.705e-01, with an active set of 5 regressors, and the smallest cholesky pivot element being 7.300e-08\n",
        "  % (n_iter, alpha, n_active, diag))\n"
       ]
      },
      {
       "output_type": "stream",
       "stream": "stderr",
       "text": [
        "C:\\Python27\\lib\\site-packages\\sklearn\\linear_model\\least_angle.py:251: UserWarning: Regressors in active set degenerate. Dropping a regressor, after 7 iterations, i.e. alpha=2.061e-01, with an active set of 7 regressors, and the smallest cholesky pivot element being 7.300e-08\n",
        "  % (n_iter, alpha, n_active, diag))\n",
        "C:\\Python27\\lib\\site-packages\\sklearn\\linear_model\\least_angle.py:251: UserWarning: Regressors in active set degenerate. Dropping a regressor, after 3 iterations, i.e. alpha=6.349e-01, with an active set of 3 regressors, and the smallest cholesky pivot element being 4.215e-08\n",
        "  % (n_iter, alpha, n_active, diag))\n",
        "C:\\Python27\\lib\\site-packages\\sklearn\\linear_model\\least_angle.py:251: UserWarning: Regressors in active set degenerate. Dropping a regressor, after 2 iterations, i.e. alpha=4.486e-01, with an active set of 2 regressors, and the smallest cholesky pivot element being 2.220e-16\n",
        "  % (n_iter, alpha, n_active, diag))\n"
       ]
      },
      {
       "output_type": "stream",
       "stream": "stderr",
       "text": [
        "C:\\Python27\\lib\\site-packages\\sklearn\\linear_model\\least_angle.py:251: UserWarning: Regressors in active set degenerate. Dropping a regressor, after 3 iterations, i.e. alpha=4.831e-01, with an active set of 3 regressors, and the smallest cholesky pivot element being 5.960e-08\n",
        "  % (n_iter, alpha, n_active, diag))\n",
        "C:\\Python27\\lib\\site-packages\\sklearn\\linear_model\\least_angle.py:251: UserWarning: Regressors in active set degenerate. Dropping a regressor, after 4 iterations, i.e. alpha=4.575e-01, with an active set of 4 regressors, and the smallest cholesky pivot element being 8.429e-08\n",
        "  % (n_iter, alpha, n_active, diag))\n",
        "C:\\Python27\\lib\\site-packages\\sklearn\\linear_model\\least_angle.py:251: UserWarning: Regressors in active set degenerate. Dropping a regressor, after 6 iterations, i.e. alpha=3.470e-01, with an active set of 6 regressors, and the smallest cholesky pivot element being 5.960e-08\n",
        "  % (n_iter, alpha, n_active, diag))\n",
        "C:\\Python27\\lib\\site-packages\\sklearn\\linear_model\\least_angle.py:251: UserWarning: Regressors in active set degenerate. Dropping a regressor, after 6 iterations, i.e. alpha=3.470e-01, with an active set of 6 regressors, and the smallest cholesky pivot element being 8.429e-08\n",
        "  % (n_iter, alpha, n_active, diag))\n",
        "C:\\Python27\\lib\\site-packages\\sklearn\\linear_model\\least_angle.py:251: UserWarning: Regressors in active set degenerate. Dropping a regressor, after 8 iterations, i.e. alpha=2.614e-01, with an active set of 8 regressors, and the smallest cholesky pivot element being 5.960e-08\n",
        "  % (n_iter, alpha, n_active, diag))\n",
        "C:\\Python27\\lib\\site-packages\\sklearn\\linear_model\\least_angle.py:251: UserWarning: Regressors in active set degenerate. Dropping a regressor, after 8 iterations, i.e. alpha=2.614e-01, with an active set of 8 regressors, and the smallest cholesky pivot element being 9.424e-08\n",
        "  % (n_iter, alpha, n_active, diag))\n",
        "C:\\Python27\\lib\\site-packages\\sklearn\\linear_model\\least_angle.py:251: UserWarning: Regressors in active set degenerate. Dropping a regressor, after 8 iterations, i.e. alpha=2.614e-01, with an active set of 8 regressors, and the smallest cholesky pivot element being 8.429e-08\n",
        "  % (n_iter, alpha, n_active, diag))\n",
        "C:\\Python27\\lib\\site-packages\\sklearn\\linear_model\\least_angle.py:251: UserWarning: Regressors in active set degenerate. Dropping a regressor, after 9 iterations, i.e. alpha=2.388e-01, with an active set of 9 regressors, and the smallest cholesky pivot element being 5.960e-08\n",
        "  % (n_iter, alpha, n_active, diag))\n",
        "C:\\Python27\\lib\\site-packages\\sklearn\\linear_model\\least_angle.py:251: UserWarning: Regressors in active set degenerate. Dropping a regressor, after 8 iterations, i.e. alpha=2.894e-01, with an active set of 7 regressors, and the smallest cholesky pivot element being 7.300e-08\n",
        "  % (n_iter, alpha, n_active, diag))\n"
       ]
      },
      {
       "output_type": "stream",
       "stream": "stderr",
       "text": [
        "C:\\Python27\\lib\\site-packages\\sklearn\\linear_model\\least_angle.py:251: UserWarning: Regressors in active set degenerate. Dropping a regressor, after 8 iterations, i.e. alpha=2.894e-01, with an active set of 7 regressors, and the smallest cholesky pivot element being 5.960e-08\n",
        "  % (n_iter, alpha, n_active, diag))\n",
        "C:\\Python27\\lib\\site-packages\\sklearn\\linear_model\\least_angle.py:251: UserWarning: Regressors in active set degenerate. Dropping a regressor, after 4 iterations, i.e. alpha=4.867e-01, with an active set of 4 regressors, and the smallest cholesky pivot element being 5.960e-08\n",
        "  % (n_iter, alpha, n_active, diag))\n"
       ]
      },
      {
       "output_type": "stream",
       "stream": "stderr",
       "text": [
        "C:\\Python27\\lib\\site-packages\\sklearn\\linear_model\\least_angle.py:251: UserWarning: Regressors in active set degenerate. Dropping a regressor, after 2 iterations, i.e. alpha=5.572e-01, with an active set of 2 regressors, and the smallest cholesky pivot element being 7.300e-08\n",
        "  % (n_iter, alpha, n_active, diag))\n",
        "C:\\Python27\\lib\\site-packages\\sklearn\\linear_model\\least_angle.py:251: UserWarning: Regressors in active set degenerate. Dropping a regressor, after 7 iterations, i.e. alpha=2.886e-01, with an active set of 7 regressors, and the smallest cholesky pivot element being 7.300e-08\n",
        "  % (n_iter, alpha, n_active, diag))\n",
        "C:\\Python27\\lib\\site-packages\\sklearn\\linear_model\\least_angle.py:251: UserWarning: Regressors in active set degenerate. Dropping a regressor, after 9 iterations, i.e. alpha=2.852e-01, with an active set of 9 regressors, and the smallest cholesky pivot element being 7.300e-08\n",
        "  % (n_iter, alpha, n_active, diag))\n",
        "C:\\Python27\\lib\\site-packages\\sklearn\\linear_model\\least_angle.py:251: UserWarning: Regressors in active set degenerate. Dropping a regressor, after 5 iterations, i.e. alpha=4.024e-01, with an active set of 5 regressors, and the smallest cholesky pivot element being 7.300e-08\n",
        "  % (n_iter, alpha, n_active, diag))\n"
       ]
      },
      {
       "output_type": "stream",
       "stream": "stderr",
       "text": [
        "C:\\Python27\\lib\\site-packages\\sklearn\\linear_model\\least_angle.py:251: UserWarning: Regressors in active set degenerate. Dropping a regressor, after 7 iterations, i.e. alpha=2.856e-01, with an active set of 7 regressors, and the smallest cholesky pivot element being 2.220e-16\n",
        "  % (n_iter, alpha, n_active, diag))\n",
        "C:\\Python27\\lib\\site-packages\\sklearn\\linear_model\\least_angle.py:251: UserWarning: Regressors in active set degenerate. Dropping a regressor, after 8 iterations, i.e. alpha=2.208e-01, with an active set of 8 regressors, and the smallest cholesky pivot element being 4.215e-08\n",
        "  % (n_iter, alpha, n_active, diag))\n",
        "C:\\Python27\\lib\\site-packages\\sklearn\\linear_model\\least_angle.py:251: UserWarning: Regressors in active set degenerate. Dropping a regressor, after 7 iterations, i.e. alpha=2.252e-01, with an active set of 7 regressors, and the smallest cholesky pivot element being 7.300e-08\n",
        "  % (n_iter, alpha, n_active, diag))\n"
       ]
      },
      {
       "output_type": "stream",
       "stream": "stderr",
       "text": [
        "C:\\Python27\\lib\\site-packages\\sklearn\\linear_model\\least_angle.py:251: UserWarning: Regressors in active set degenerate. Dropping a regressor, after 9 iterations, i.e. alpha=2.081e-01, with an active set of 9 regressors, and the smallest cholesky pivot element being 7.300e-08\n",
        "  % (n_iter, alpha, n_active, diag))\n",
        "C:\\Python27\\lib\\site-packages\\sklearn\\linear_model\\least_angle.py:251: UserWarning: Regressors in active set degenerate. Dropping a regressor, after 9 iterations, i.e. alpha=2.081e-01, with an active set of 9 regressors, and the smallest cholesky pivot element being 8.429e-08\n",
        "  % (n_iter, alpha, n_active, diag))\n",
        "C:\\Python27\\lib\\site-packages\\sklearn\\linear_model\\least_angle.py:251: UserWarning: Regressors in active set degenerate. Dropping a regressor, after 9 iterations, i.e. alpha=2.081e-01, with an active set of 9 regressors, and the smallest cholesky pivot element being 5.960e-08\n",
        "  % (n_iter, alpha, n_active, diag))\n",
        "C:\\Python27\\lib\\site-packages\\sklearn\\linear_model\\least_angle.py:251: UserWarning: Regressors in active set degenerate. Dropping a regressor, after 9 iterations, i.e. alpha=2.081e-01, with an active set of 9 regressors, and the smallest cholesky pivot element being 4.215e-08\n",
        "  % (n_iter, alpha, n_active, diag))\n",
        "C:\\Python27\\lib\\site-packages\\sklearn\\linear_model\\least_angle.py:251: UserWarning: Regressors in active set degenerate. Dropping a regressor, after 8 iterations, i.e. alpha=1.999e-01, with an active set of 8 regressors, and the smallest cholesky pivot element being 9.424e-08\n",
        "  % (n_iter, alpha, n_active, diag))\n"
       ]
      },
      {
       "output_type": "stream",
       "stream": "stderr",
       "text": [
        "C:\\Python27\\lib\\site-packages\\sklearn\\linear_model\\least_angle.py:251: UserWarning: Regressors in active set degenerate. Dropping a regressor, after 8 iterations, i.e. alpha=2.374e-01, with an active set of 8 regressors, and the smallest cholesky pivot element being 2.220e-16\n",
        "  % (n_iter, alpha, n_active, diag))\n",
        "C:\\Python27\\lib\\site-packages\\sklearn\\linear_model\\least_angle.py:251: UserWarning: Regressors in active set degenerate. Dropping a regressor, after 4 iterations, i.e. alpha=4.693e-01, with an active set of 4 regressors, and the smallest cholesky pivot element being 2.220e-16\n",
        "  % (n_iter, alpha, n_active, diag))\n"
       ]
      },
      {
       "output_type": "stream",
       "stream": "stderr",
       "text": [
        "C:\\Python27\\lib\\site-packages\\sklearn\\linear_model\\least_angle.py:251: UserWarning: Regressors in active set degenerate. Dropping a regressor, after 5 iterations, i.e. alpha=3.839e-01, with an active set of 5 regressors, and the smallest cholesky pivot element being 4.215e-08\n",
        "  % (n_iter, alpha, n_active, diag))\n",
        "C:\\Python27\\lib\\site-packages\\sklearn\\linear_model\\least_angle.py:251: UserWarning: Regressors in active set degenerate. Dropping a regressor, after 4 iterations, i.e. alpha=2.936e-01, with an active set of 4 regressors, and the smallest cholesky pivot element being 2.220e-16\n",
        "  % (n_iter, alpha, n_active, diag))\n"
       ]
      },
      {
       "output_type": "stream",
       "stream": "stderr",
       "text": [
        "C:\\Python27\\lib\\site-packages\\sklearn\\linear_model\\least_angle.py:251: UserWarning: Regressors in active set degenerate. Dropping a regressor, after 7 iterations, i.e. alpha=2.635e-01, with an active set of 7 regressors, and the smallest cholesky pivot element being 4.215e-08\n",
        "  % (n_iter, alpha, n_active, diag))\n",
        "C:\\Python27\\lib\\site-packages\\sklearn\\linear_model\\least_angle.py:251: UserWarning: Regressors in active set degenerate. Dropping a regressor, after 7 iterations, i.e. alpha=2.635e-01, with an active set of 7 regressors, and the smallest cholesky pivot element being 2.220e-16\n",
        "  % (n_iter, alpha, n_active, diag))\n",
        "C:\\Python27\\lib\\site-packages\\sklearn\\linear_model\\least_angle.py:251: UserWarning: Regressors in active set degenerate. Dropping a regressor, after 7 iterations, i.e. alpha=2.947e-01, with an active set of 7 regressors, and the smallest cholesky pivot element being 4.215e-08\n",
        "  % (n_iter, alpha, n_active, diag))\n"
       ]
      },
      {
       "output_type": "stream",
       "stream": "stderr",
       "text": [
        "C:\\Python27\\lib\\site-packages\\sklearn\\linear_model\\least_angle.py:251: UserWarning: Regressors in active set degenerate. Dropping a regressor, after 8 iterations, i.e. alpha=2.750e-01, with an active set of 8 regressors, and the smallest cholesky pivot element being 4.215e-08\n",
        "  % (n_iter, alpha, n_active, diag))\n",
        "C:\\Python27\\lib\\site-packages\\sklearn\\linear_model\\least_angle.py:251: UserWarning: Regressors in active set degenerate. Dropping a regressor, after 8 iterations, i.e. alpha=2.750e-01, with an active set of 8 regressors, and the smallest cholesky pivot element being 7.300e-08\n",
        "  % (n_iter, alpha, n_active, diag))\n",
        "C:\\Python27\\lib\\site-packages\\sklearn\\linear_model\\least_angle.py:251: UserWarning: Regressors in active set degenerate. Dropping a regressor, after 9 iterations, i.e. alpha=2.705e-01, with an active set of 9 regressors, and the smallest cholesky pivot element being 4.215e-08\n",
        "  % (n_iter, alpha, n_active, diag))\n",
        "C:\\Python27\\lib\\site-packages\\sklearn\\linear_model\\least_angle.py:251: UserWarning: Regressors in active set degenerate. Dropping a regressor, after 9 iterations, i.e. alpha=2.705e-01, with an active set of 9 regressors, and the smallest cholesky pivot element being 7.300e-08\n",
        "  % (n_iter, alpha, n_active, diag))\n",
        "C:\\Python27\\lib\\site-packages\\sklearn\\linear_model\\least_angle.py:251: UserWarning: Regressors in active set degenerate. Dropping a regressor, after 3 iterations, i.e. alpha=4.183e-01, with an active set of 3 regressors, and the smallest cholesky pivot element being 8.429e-08\n",
        "  % (n_iter, alpha, n_active, diag))\n",
        "C:\\Python27\\lib\\site-packages\\sklearn\\linear_model\\least_angle.py:251: UserWarning: Regressors in active set degenerate. Dropping a regressor, after 5 iterations, i.e. alpha=3.771e-01, with an active set of 5 regressors, and the smallest cholesky pivot element being 8.429e-08\n",
        "  % (n_iter, alpha, n_active, diag))\n",
        "C:\\Python27\\lib\\site-packages\\sklearn\\linear_model\\least_angle.py:251: UserWarning: Regressors in active set degenerate. Dropping a regressor, after 2 iterations, i.e. alpha=5.305e-01, with an active set of 2 regressors, and the smallest cholesky pivot element being 4.215e-08\n",
        "  % (n_iter, alpha, n_active, diag))\n"
       ]
      },
      {
       "output_type": "stream",
       "stream": "stderr",
       "text": [
        "C:\\Python27\\lib\\site-packages\\sklearn\\linear_model\\least_angle.py:251: UserWarning: Regressors in active set degenerate. Dropping a regressor, after 9 iterations, i.e. alpha=2.376e-01, with an active set of 9 regressors, and the smallest cholesky pivot element being 4.215e-08\n",
        "  % (n_iter, alpha, n_active, diag))\n",
        "C:\\Python27\\lib\\site-packages\\sklearn\\linear_model\\least_angle.py:251: UserWarning: Regressors in active set degenerate. Dropping a regressor, after 1 iterations, i.e. alpha=6.828e-01, with an active set of 1 regressors, and the smallest cholesky pivot element being 5.960e-08\n",
        "  % (n_iter, alpha, n_active, diag))\n"
       ]
      },
      {
       "output_type": "stream",
       "stream": "stderr",
       "text": [
        "C:\\Python27\\lib\\site-packages\\sklearn\\linear_model\\least_angle.py:251: UserWarning: Regressors in active set degenerate. Dropping a regressor, after 5 iterations, i.e. alpha=3.414e-01, with an active set of 5 regressors, and the smallest cholesky pivot element being 5.960e-08\n",
        "  % (n_iter, alpha, n_active, diag))\n",
        "C:\\Python27\\lib\\site-packages\\sklearn\\linear_model\\least_angle.py:251: UserWarning: Regressors in active set degenerate. Dropping a regressor, after 5 iterations, i.e. alpha=3.414e-01, with an active set of 5 regressors, and the smallest cholesky pivot element being 9.424e-08\n",
        "  % (n_iter, alpha, n_active, diag))\n",
        "C:\\Python27\\lib\\site-packages\\sklearn\\linear_model\\least_angle.py:251: UserWarning: Regressors in active set degenerate. Dropping a regressor, after 5 iterations, i.e. alpha=3.414e-01, with an active set of 5 regressors, and the smallest cholesky pivot element being 4.215e-08\n",
        "  % (n_iter, alpha, n_active, diag))\n",
        "C:\\Python27\\lib\\site-packages\\sklearn\\linear_model\\least_angle.py:251: UserWarning: Regressors in active set degenerate. Dropping a regressor, after 6 iterations, i.e. alpha=3.346e-01, with an active set of 6 regressors, and the smallest cholesky pivot element being 5.960e-08\n",
        "  % (n_iter, alpha, n_active, diag))\n",
        "C:\\Python27\\lib\\site-packages\\sklearn\\linear_model\\least_angle.py:251: UserWarning: Regressors in active set degenerate. Dropping a regressor, after 5 iterations, i.e. alpha=4.430e-01, with an active set of 5 regressors, and the smallest cholesky pivot element being 2.220e-16\n",
        "  % (n_iter, alpha, n_active, diag))\n"
       ]
      },
      {
       "output_type": "stream",
       "stream": "stderr",
       "text": [
        "C:\\Python27\\lib\\site-packages\\sklearn\\linear_model\\least_angle.py:251: UserWarning: Regressors in active set degenerate. Dropping a regressor, after 9 iterations, i.e. alpha=3.229e-01, with an active set of 9 regressors, and the smallest cholesky pivot element being 2.220e-16\n",
        "  % (n_iter, alpha, n_active, diag))\n",
        "C:\\Python27\\lib\\site-packages\\sklearn\\linear_model\\least_angle.py:251: UserWarning: Regressors in active set degenerate. Dropping a regressor, after 7 iterations, i.e. alpha=2.960e-01, with an active set of 7 regressors, and the smallest cholesky pivot element being 5.960e-08\n",
        "  % (n_iter, alpha, n_active, diag))\n"
       ]
      },
      {
       "output_type": "stream",
       "stream": "stderr",
       "text": [
        "C:\\Python27\\lib\\site-packages\\sklearn\\linear_model\\least_angle.py:251: UserWarning: Regressors in active set degenerate. Dropping a regressor, after 8 iterations, i.e. alpha=2.680e-01, with an active set of 8 regressors, and the smallest cholesky pivot element being 5.960e-08\n",
        "  % (n_iter, alpha, n_active, diag))\n",
        "C:\\Python27\\lib\\site-packages\\sklearn\\linear_model\\least_angle.py:251: UserWarning: Regressors in active set degenerate. Dropping a regressor, after 1 iterations, i.e. alpha=6.117e-01, with an active set of 1 regressors, and the smallest cholesky pivot element being 2.220e-16\n",
        "  % (n_iter, alpha, n_active, diag))\n",
        "C:\\Python27\\lib\\site-packages\\sklearn\\linear_model\\least_angle.py:251: UserWarning: Regressors in active set degenerate. Dropping a regressor, after 6 iterations, i.e. alpha=4.214e-01, with an active set of 6 regressors, and the smallest cholesky pivot element being 2.220e-16\n",
        "  % (n_iter, alpha, n_active, diag))\n",
        "C:\\Python27\\lib\\site-packages\\sklearn\\linear_model\\least_angle.py:251: UserWarning: Regressors in active set degenerate. Dropping a regressor, after 9 iterations, i.e. alpha=1.805e-01, with an active set of 9 regressors, and the smallest cholesky pivot element being 5.960e-08\n",
        "  % (n_iter, alpha, n_active, diag))\n"
       ]
      },
      {
       "output_type": "stream",
       "stream": "stderr",
       "text": [
        "C:\\Python27\\lib\\site-packages\\sklearn\\linear_model\\least_angle.py:251: UserWarning: Regressors in active set degenerate. Dropping a regressor, after 2 iterations, i.e. alpha=4.298e-01, with an active set of 2 regressors, and the smallest cholesky pivot element being 5.960e-08\n",
        "  % (n_iter, alpha, n_active, diag))\n",
        "C:\\Python27\\lib\\site-packages\\sklearn\\linear_model\\least_angle.py:251: UserWarning: Regressors in active set degenerate. Dropping a regressor, after 4 iterations, i.e. alpha=3.827e-01, with an active set of 4 regressors, and the smallest cholesky pivot element being 4.215e-08\n",
        "  % (n_iter, alpha, n_active, diag))\n",
        "C:\\Python27\\lib\\site-packages\\sklearn\\linear_model\\least_angle.py:251: UserWarning: Regressors in active set degenerate. Dropping a regressor, after 5 iterations, i.e. alpha=3.365e-01, with an active set of 5 regressors, and the smallest cholesky pivot element being 7.300e-08\n",
        "  % (n_iter, alpha, n_active, diag))\n",
        "C:\\Python27\\lib\\site-packages\\sklearn\\linear_model\\least_angle.py:251: UserWarning: Regressors in active set degenerate. Dropping a regressor, after 7 iterations, i.e. alpha=3.190e-01, with an active set of 6 regressors, and the smallest cholesky pivot element being 7.300e-08\n",
        "  % (n_iter, alpha, n_active, diag))\n",
        "C:\\Python27\\lib\\site-packages\\sklearn\\linear_model\\least_angle.py:251: UserWarning: Regressors in active set degenerate. Dropping a regressor, after 1 iterations, i.e. alpha=5.618e-01, with an active set of 1 regressors, and the smallest cholesky pivot element being 5.960e-08\n",
        "  % (n_iter, alpha, n_active, diag))\n"
       ]
      },
      {
       "output_type": "stream",
       "stream": "stderr",
       "text": [
        "C:\\Python27\\lib\\site-packages\\sklearn\\linear_model\\least_angle.py:251: UserWarning: Regressors in active set degenerate. Dropping a regressor, after 9 iterations, i.e. alpha=1.987e-01, with an active set of 9 regressors, and the smallest cholesky pivot element being 4.215e-08\n",
        "  % (n_iter, alpha, n_active, diag))\n",
        "C:\\Python27\\lib\\site-packages\\sklearn\\linear_model\\least_angle.py:251: UserWarning: Regressors in active set degenerate. Dropping a regressor, after 7 iterations, i.e. alpha=3.148e-01, with an active set of 7 regressors, and the smallest cholesky pivot element being 4.215e-08\n",
        "  % (n_iter, alpha, n_active, diag))\n"
       ]
      },
      {
       "output_type": "stream",
       "stream": "stderr",
       "text": [
        "C:\\Python27\\lib\\site-packages\\sklearn\\linear_model\\least_angle.py:251: UserWarning: Regressors in active set degenerate. Dropping a regressor, after 8 iterations, i.e. alpha=1.574e-01, with an active set of 8 regressors, and the smallest cholesky pivot element being 4.215e-08\n",
        "  % (n_iter, alpha, n_active, diag))\n",
        "C:\\Python27\\lib\\site-packages\\sklearn\\linear_model\\least_angle.py:251: UserWarning: Regressors in active set degenerate. Dropping a regressor, after 8 iterations, i.e. alpha=1.574e-01, with an active set of 8 regressors, and the smallest cholesky pivot element being 8.429e-08\n",
        "  % (n_iter, alpha, n_active, diag))\n",
        "C:\\Python27\\lib\\site-packages\\sklearn\\linear_model\\least_angle.py:251: UserWarning: Regressors in active set degenerate. Dropping a regressor, after 5 iterations, i.e. alpha=4.212e-01, with an active set of 5 regressors, and the smallest cholesky pivot element being 9.424e-08\n",
        "  % (n_iter, alpha, n_active, diag))\n"
       ]
      },
      {
       "output_type": "stream",
       "stream": "stderr",
       "text": [
        "C:\\Python27\\lib\\site-packages\\sklearn\\linear_model\\least_angle.py:251: UserWarning: Regressors in active set degenerate. Dropping a regressor, after 5 iterations, i.e. alpha=4.212e-01, with an active set of 5 regressors, and the smallest cholesky pivot element being 8.429e-08\n",
        "  % (n_iter, alpha, n_active, diag))\n",
        "C:\\Python27\\lib\\site-packages\\sklearn\\linear_model\\least_angle.py:251: UserWarning: Regressors in active set degenerate. Dropping a regressor, after 7 iterations, i.e. alpha=2.815e-01, with an active set of 7 regressors, and the smallest cholesky pivot element being 8.429e-08\n",
        "  % (n_iter, alpha, n_active, diag))\n",
        "C:\\Python27\\lib\\site-packages\\sklearn\\linear_model\\least_angle.py:251: UserWarning: Regressors in active set degenerate. Dropping a regressor, after 8 iterations, i.e. alpha=2.755e-01, with an active set of 8 regressors, and the smallest cholesky pivot element being 4.215e-08\n",
        "  % (n_iter, alpha, n_active, diag))\n",
        "C:\\Python27\\lib\\site-packages\\sklearn\\linear_model\\least_angle.py:251: UserWarning: Regressors in active set degenerate. Dropping a regressor, after 1 iterations, i.e. alpha=4.263e-01, with an active set of 1 regressors, and the smallest cholesky pivot element being 2.220e-16\n",
        "  % (n_iter, alpha, n_active, diag))\n"
       ]
      },
      {
       "output_type": "stream",
       "stream": "stderr",
       "text": [
        "C:\\Python27\\lib\\site-packages\\sklearn\\linear_model\\least_angle.py:251: UserWarning: Regressors in active set degenerate. Dropping a regressor, after 4 iterations, i.e. alpha=3.064e-01, with an active set of 4 regressors, and the smallest cholesky pivot element being 5.960e-08\n",
        "  % (n_iter, alpha, n_active, diag))\n",
        "C:\\Python27\\lib\\site-packages\\sklearn\\linear_model\\least_angle.py:251: UserWarning: Regressors in active set degenerate. Dropping a regressor, after 7 iterations, i.e. alpha=2.788e-01, with an active set of 6 regressors, and the smallest cholesky pivot element being 8.429e-08\n",
        "  % (n_iter, alpha, n_active, diag))\n",
        "C:\\Python27\\lib\\site-packages\\sklearn\\linear_model\\least_angle.py:251: UserWarning: Regressors in active set degenerate. Dropping a regressor, after 9 iterations, i.e. alpha=2.787e-01, with an active set of 7 regressors, and the smallest cholesky pivot element being 8.429e-08\n",
        "  % (n_iter, alpha, n_active, diag))\n",
        "C:\\Python27\\lib\\site-packages\\sklearn\\linear_model\\least_angle.py:251: UserWarning: Regressors in active set degenerate. Dropping a regressor, after 8 iterations, i.e. alpha=1.191e-01, with an active set of 8 regressors, and the smallest cholesky pivot element being 7.300e-08\n",
        "  % (n_iter, alpha, n_active, diag))\n"
       ]
      },
      {
       "output_type": "stream",
       "stream": "stderr",
       "text": [
        "C:\\Python27\\lib\\site-packages\\sklearn\\linear_model\\least_angle.py:251: UserWarning: Regressors in active set degenerate. Dropping a regressor, after 8 iterations, i.e. alpha=2.843e-01, with an active set of 7 regressors, and the smallest cholesky pivot element being 7.300e-08\n",
        "  % (n_iter, alpha, n_active, diag))\n",
        "C:\\Python27\\lib\\site-packages\\sklearn\\linear_model\\least_angle.py:251: UserWarning: Regressors in active set degenerate. Dropping a regressor, after 8 iterations, i.e. alpha=2.420e-01, with an active set of 7 regressors, and the smallest cholesky pivot element being 9.424e-08\n",
        "  % (n_iter, alpha, n_active, diag))\n"
       ]
      },
      {
       "output_type": "stream",
       "stream": "stderr",
       "text": [
        "C:\\Python27\\lib\\site-packages\\sklearn\\linear_model\\least_angle.py:251: UserWarning: Regressors in active set degenerate. Dropping a regressor, after 8 iterations, i.e. alpha=2.420e-01, with an active set of 7 regressors, and the smallest cholesky pivot element being 7.300e-08\n",
        "  % (n_iter, alpha, n_active, diag))\n",
        "C:\\Python27\\lib\\site-packages\\sklearn\\linear_model\\least_angle.py:251: UserWarning: Regressors in active set degenerate. Dropping a regressor, after 9 iterations, i.e. alpha=2.114e-01, with an active set of 9 regressors, and the smallest cholesky pivot element being 4.215e-08\n",
        "  % (n_iter, alpha, n_active, diag))\n"
       ]
      },
      {
       "output_type": "stream",
       "stream": "stderr",
       "text": [
        "C:\\Python27\\lib\\site-packages\\sklearn\\linear_model\\least_angle.py:251: UserWarning: Regressors in active set degenerate. Dropping a regressor, after 9 iterations, i.e. alpha=3.766e-01, with an active set of 7 regressors, and the smallest cholesky pivot element being 4.215e-08\n",
        "  % (n_iter, alpha, n_active, diag))\n",
        "C:\\Python27\\lib\\site-packages\\sklearn\\linear_model\\least_angle.py:251: UserWarning: Regressors in active set degenerate. Dropping a regressor, after 1 iterations, i.e. alpha=5.445e-01, with an active set of 1 regressors, and the smallest cholesky pivot element being 5.960e-08\n",
        "  % (n_iter, alpha, n_active, diag))\n"
       ]
      },
      {
       "output_type": "stream",
       "stream": "stderr",
       "text": [
        "C:\\Python27\\lib\\site-packages\\sklearn\\linear_model\\least_angle.py:251: UserWarning: Regressors in active set degenerate. Dropping a regressor, after 4 iterations, i.e. alpha=5.574e-01, with an active set of 4 regressors, and the smallest cholesky pivot element being 7.300e-08\n",
        "  % (n_iter, alpha, n_active, diag))\n",
        "C:\\Python27\\lib\\site-packages\\sklearn\\linear_model\\least_angle.py:251: UserWarning: Regressors in active set degenerate. Dropping a regressor, after 9 iterations, i.e. alpha=4.815e-01, with an active set of 7 regressors, and the smallest cholesky pivot element being 7.300e-08\n",
        "  % (n_iter, alpha, n_active, diag))\n",
        "C:\\Python27\\lib\\site-packages\\sklearn\\linear_model\\least_angle.py:251: UserWarning: Regressors in active set degenerate. Dropping a regressor, after 6 iterations, i.e. alpha=3.898e-01, with an active set of 5 regressors, and the smallest cholesky pivot element being 5.960e-08\n",
        "  % (n_iter, alpha, n_active, diag))\n"
       ]
      },
      {
       "output_type": "stream",
       "stream": "stderr",
       "text": [
        "C:\\Python27\\lib\\site-packages\\sklearn\\linear_model\\least_angle.py:251: UserWarning: Regressors in active set degenerate. Dropping a regressor, after 8 iterations, i.e. alpha=4.597e-01, with an active set of 7 regressors, and the smallest cholesky pivot element being 4.215e-08\n",
        "  % (n_iter, alpha, n_active, diag))\n",
        "C:\\Python27\\lib\\site-packages\\sklearn\\linear_model\\least_angle.py:251: UserWarning: Regressors in active set degenerate. Dropping a regressor, after 9 iterations, i.e. alpha=1.912e-01, with an active set of 8 regressors, and the smallest cholesky pivot element being 5.960e-08\n",
        "  % (n_iter, alpha, n_active, diag))\n",
        "C:\\Python27\\lib\\site-packages\\sklearn\\linear_model\\least_angle.py:251: UserWarning: Regressors in active set degenerate. Dropping a regressor, after 9 iterations, i.e. alpha=1.912e-01, with an active set of 8 regressors, and the smallest cholesky pivot element being 9.424e-08\n",
        "  % (n_iter, alpha, n_active, diag))\n",
        "C:\\Python27\\lib\\site-packages\\sklearn\\linear_model\\least_angle.py:251: UserWarning: Regressors in active set degenerate. Dropping a regressor, after 3 iterations, i.e. alpha=4.502e-01, with an active set of 3 regressors, and the smallest cholesky pivot element being 7.300e-08\n",
        "  % (n_iter, alpha, n_active, diag))\n"
       ]
      },
      {
       "output_type": "stream",
       "stream": "stderr",
       "text": [
        "C:\\Python27\\lib\\site-packages\\sklearn\\linear_model\\least_angle.py:251: UserWarning: Regressors in active set degenerate. Dropping a regressor, after 4 iterations, i.e. alpha=3.985e-01, with an active set of 4 regressors, and the smallest cholesky pivot element being 7.300e-08\n",
        "  % (n_iter, alpha, n_active, diag))\n",
        "C:\\Python27\\lib\\site-packages\\sklearn\\linear_model\\least_angle.py:251: UserWarning: Regressors in active set degenerate. Dropping a regressor, after 9 iterations, i.e. alpha=1.993e-01, with an active set of 9 regressors, and the smallest cholesky pivot element being 7.300e-08\n",
        "  % (n_iter, alpha, n_active, diag))\n",
        "C:\\Python27\\lib\\site-packages\\sklearn\\linear_model\\least_angle.py:251: UserWarning: Regressors in active set degenerate. Dropping a regressor, after 9 iterations, i.e. alpha=2.173e-01, with an active set of 8 regressors, and the smallest cholesky pivot element being 8.429e-08\n",
        "  % (n_iter, alpha, n_active, diag))\n",
        "C:\\Python27\\lib\\site-packages\\sklearn\\linear_model\\least_angle.py:251: UserWarning: Regressors in active set degenerate. Dropping a regressor, after 5 iterations, i.e. alpha=2.444e-01, with an active set of 5 regressors, and the smallest cholesky pivot element being 8.429e-08\n",
        "  % (n_iter, alpha, n_active, diag))\n"
       ]
      },
      {
       "output_type": "stream",
       "stream": "stderr",
       "text": [
        "C:\\Python27\\lib\\site-packages\\sklearn\\linear_model\\least_angle.py:251: UserWarning: Regressors in active set degenerate. Dropping a regressor, after 8 iterations, i.e. alpha=1.892e-01, with an active set of 7 regressors, and the smallest cholesky pivot element being 8.429e-08\n",
        "  % (n_iter, alpha, n_active, diag))\n",
        "C:\\Python27\\lib\\site-packages\\sklearn\\linear_model\\least_angle.py:251: UserWarning: Regressors in active set degenerate. Dropping a regressor, after 8 iterations, i.e. alpha=1.892e-01, with an active set of 7 regressors, and the smallest cholesky pivot element being 5.960e-08\n",
        "  % (n_iter, alpha, n_active, diag))\n",
        "C:\\Python27\\lib\\site-packages\\sklearn\\linear_model\\least_angle.py:251: UserWarning: Regressors in active set degenerate. Dropping a regressor, after 6 iterations, i.e. alpha=4.595e-01, with an active set of 5 regressors, and the smallest cholesky pivot element being 5.960e-08\n",
        "  % (n_iter, alpha, n_active, diag))\n",
        "C:\\Python27\\lib\\site-packages\\sklearn\\linear_model\\least_angle.py:251: UserWarning: Regressors in active set degenerate. Dropping a regressor, after 6 iterations, i.e. alpha=3.083e-01, with an active set of 6 regressors, and the smallest cholesky pivot element being 5.960e-08\n",
        "  % (n_iter, alpha, n_active, diag))\n"
       ]
      },
      {
       "output_type": "stream",
       "stream": "stderr",
       "text": [
        "C:\\Python27\\lib\\site-packages\\sklearn\\linear_model\\least_angle.py:251: UserWarning: Regressors in active set degenerate. Dropping a regressor, after 7 iterations, i.e. alpha=2.678e-01, with an active set of 7 regressors, and the smallest cholesky pivot element being 5.960e-08\n",
        "  % (n_iter, alpha, n_active, diag))\n",
        "C:\\Python27\\lib\\site-packages\\sklearn\\linear_model\\least_angle.py:251: UserWarning: Regressors in active set degenerate. Dropping a regressor, after 9 iterations, i.e. alpha=2.180e-01, with an active set of 9 regressors, and the smallest cholesky pivot element being 5.960e-08\n",
        "  % (n_iter, alpha, n_active, diag))\n",
        "C:\\Python27\\lib\\site-packages\\sklearn\\linear_model\\least_angle.py:251: UserWarning: Regressors in active set degenerate. Dropping a regressor, after 8 iterations, i.e. alpha=3.198e-01, with an active set of 8 regressors, and the smallest cholesky pivot element being 4.215e-08\n",
        "  % (n_iter, alpha, n_active, diag))\n"
       ]
      },
      {
       "output_type": "stream",
       "stream": "stderr",
       "text": [
        "C:\\Python27\\lib\\site-packages\\sklearn\\linear_model\\least_angle.py:251: UserWarning: Regressors in active set degenerate. Dropping a regressor, after 9 iterations, i.e. alpha=5.941e-02, with an active set of 9 regressors, and the smallest cholesky pivot element being 9.424e-08\n",
        "  % (n_iter, alpha, n_active, diag))\n",
        "C:\\Python27\\lib\\site-packages\\sklearn\\linear_model\\least_angle.py:251: UserWarning: Regressors in active set degenerate. Dropping a regressor, after 2 iterations, i.e. alpha=5.800e-01, with an active set of 2 regressors, and the smallest cholesky pivot element being 7.300e-08\n",
        "  % (n_iter, alpha, n_active, diag))\n",
        "C:\\Python27\\lib\\site-packages\\sklearn\\linear_model\\least_angle.py:251: UserWarning: Regressors in active set degenerate. Dropping a regressor, after 8 iterations, i.e. alpha=3.214e-01, with an active set of 7 regressors, and the smallest cholesky pivot element being 7.300e-08\n",
        "  % (n_iter, alpha, n_active, diag))\n",
        "C:\\Python27\\lib\\site-packages\\sklearn\\linear_model\\least_angle.py:251: UserWarning: Regressors in active set degenerate. Dropping a regressor, after 5 iterations, i.e. alpha=3.622e-01, with an active set of 5 regressors, and the smallest cholesky pivot element being 5.960e-08\n",
        "  % (n_iter, alpha, n_active, diag))\n"
       ]
      },
      {
       "output_type": "stream",
       "stream": "stderr",
       "text": [
        "C:\\Python27\\lib\\site-packages\\sklearn\\linear_model\\least_angle.py:251: UserWarning: Regressors in active set degenerate. Dropping a regressor, after 6 iterations, i.e. alpha=3.349e-01, with an active set of 6 regressors, and the smallest cholesky pivot element being 2.220e-16\n",
        "  % (n_iter, alpha, n_active, diag))\n",
        "C:\\Python27\\lib\\site-packages\\sklearn\\linear_model\\least_angle.py:251: UserWarning: Regressors in active set degenerate. Dropping a regressor, after 7 iterations, i.e. alpha=2.406e-01, with an active set of 7 regressors, and the smallest cholesky pivot element being 8.429e-08\n",
        "  % (n_iter, alpha, n_active, diag))\n",
        "C:\\Python27\\lib\\site-packages\\sklearn\\linear_model\\least_angle.py:251: UserWarning: Regressors in active set degenerate. Dropping a regressor, after 5 iterations, i.e. alpha=3.175e-01, with an active set of 5 regressors, and the smallest cholesky pivot element being 7.300e-08\n",
        "  % (n_iter, alpha, n_active, diag))\n"
       ]
      },
      {
       "output_type": "stream",
       "stream": "stderr",
       "text": [
        "C:\\Python27\\lib\\site-packages\\sklearn\\linear_model\\least_angle.py:251: UserWarning: Regressors in active set degenerate. Dropping a regressor, after 2 iterations, i.e. alpha=4.511e-01, with an active set of 2 regressors, and the smallest cholesky pivot element being 2.220e-16\n",
        "  % (n_iter, alpha, n_active, diag))\n",
        "C:\\Python27\\lib\\site-packages\\sklearn\\linear_model\\least_angle.py:251: UserWarning: Regressors in active set degenerate. Dropping a regressor, after 1 iterations, i.e. alpha=4.552e-01, with an active set of 1 regressors, and the smallest cholesky pivot element being 2.220e-16\n",
        "  % (n_iter, alpha, n_active, diag))\n"
       ]
      },
      {
       "output_type": "stream",
       "stream": "stderr",
       "text": [
        "C:\\Python27\\lib\\site-packages\\sklearn\\linear_model\\least_angle.py:251: UserWarning: Regressors in active set degenerate. Dropping a regressor, after 4 iterations, i.e. alpha=3.237e-01, with an active set of 4 regressors, and the smallest cholesky pivot element being 2.220e-16\n",
        "  % (n_iter, alpha, n_active, diag))\n",
        "C:\\Python27\\lib\\site-packages\\sklearn\\linear_model\\least_angle.py:251: UserWarning: Regressors in active set degenerate. Dropping a regressor, after 7 iterations, i.e. alpha=2.706e-01, with an active set of 7 regressors, and the smallest cholesky pivot element being 2.220e-16\n",
        "  % (n_iter, alpha, n_active, diag))\n",
        "C:\\Python27\\lib\\site-packages\\sklearn\\linear_model\\least_angle.py:251: UserWarning: Regressors in active set degenerate. Dropping a regressor, after 5 iterations, i.e. alpha=4.803e-01, with an active set of 5 regressors, and the smallest cholesky pivot element being 7.300e-08\n",
        "  % (n_iter, alpha, n_active, diag))\n"
       ]
      },
      {
       "output_type": "stream",
       "stream": "stderr",
       "text": [
        "C:\\Python27\\lib\\site-packages\\sklearn\\linear_model\\least_angle.py:251: UserWarning: Regressors in active set degenerate. Dropping a regressor, after 5 iterations, i.e. alpha=4.803e-01, with an active set of 5 regressors, and the smallest cholesky pivot element being 4.215e-08\n",
        "  % (n_iter, alpha, n_active, diag))\n",
        "C:\\Python27\\lib\\site-packages\\sklearn\\linear_model\\least_angle.py:251: UserWarning: Regressors in active set degenerate. Dropping a regressor, after 9 iterations, i.e. alpha=3.139e-01, with an active set of 8 regressors, and the smallest cholesky pivot element being 4.215e-08\n",
        "  % (n_iter, alpha, n_active, diag))\n"
       ]
      },
      {
       "output_type": "stream",
       "stream": "stderr",
       "text": [
        "C:\\Python27\\lib\\site-packages\\sklearn\\linear_model\\least_angle.py:251: UserWarning: Regressors in active set degenerate. Dropping a regressor, after 9 iterations, i.e. alpha=3.139e-01, with an active set of 8 regressors, and the smallest cholesky pivot element being 2.220e-16\n",
        "  % (n_iter, alpha, n_active, diag))\n",
        "C:\\Python27\\lib\\site-packages\\sklearn\\linear_model\\least_angle.py:251: UserWarning: Regressors in active set degenerate. Dropping a regressor, after 3 iterations, i.e. alpha=3.363e-01, with an active set of 3 regressors, and the smallest cholesky pivot element being 2.220e-16\n",
        "  % (n_iter, alpha, n_active, diag))\n",
        "C:\\Python27\\lib\\site-packages\\sklearn\\linear_model\\least_angle.py:251: UserWarning: Regressors in active set degenerate. Dropping a regressor, after 9 iterations, i.e. alpha=2.406e-01, with an active set of 9 regressors, and the smallest cholesky pivot element being 2.220e-16\n",
        "  % (n_iter, alpha, n_active, diag))\n"
       ]
      },
      {
       "output_type": "stream",
       "stream": "stderr",
       "text": [
        "C:\\Python27\\lib\\site-packages\\sklearn\\linear_model\\least_angle.py:251: UserWarning: Regressors in active set degenerate. Dropping a regressor, after 5 iterations, i.e. alpha=3.509e-01, with an active set of 5 regressors, and the smallest cholesky pivot element being 5.960e-08\n",
        "  % (n_iter, alpha, n_active, diag))\n",
        "C:\\Python27\\lib\\site-packages\\sklearn\\linear_model\\least_angle.py:251: UserWarning: Regressors in active set degenerate. Dropping a regressor, after 8 iterations, i.e. alpha=2.595e-01, with an active set of 8 regressors, and the smallest cholesky pivot element being 5.960e-08\n",
        "  % (n_iter, alpha, n_active, diag))\n",
        "C:\\Python27\\lib\\site-packages\\sklearn\\linear_model\\least_angle.py:251: UserWarning: Regressors in active set degenerate. Dropping a regressor, after 8 iterations, i.e. alpha=2.595e-01, with an active set of 8 regressors, and the smallest cholesky pivot element being 8.429e-08\n",
        "  % (n_iter, alpha, n_active, diag))\n",
        "C:\\Python27\\lib\\site-packages\\sklearn\\linear_model\\least_angle.py:251: UserWarning: Regressors in active set degenerate. Dropping a regressor, after 2 iterations, i.e. alpha=3.086e-01, with an active set of 2 regressors, and the smallest cholesky pivot element being 2.220e-16\n",
        "  % (n_iter, alpha, n_active, diag))\n"
       ]
      },
      {
       "output_type": "stream",
       "stream": "stderr",
       "text": [
        "C:\\Python27\\lib\\site-packages\\sklearn\\linear_model\\least_angle.py:251: UserWarning: Regressors in active set degenerate. Dropping a regressor, after 4 iterations, i.e. alpha=2.847e-01, with an active set of 4 regressors, and the smallest cholesky pivot element being 2.220e-16\n",
        "  % (n_iter, alpha, n_active, diag))\n",
        "C:\\Python27\\lib\\site-packages\\sklearn\\linear_model\\least_angle.py:251: UserWarning: Regressors in active set degenerate. Dropping a regressor, after 5 iterations, i.e. alpha=2.577e-01, with an active set of 5 regressors, and the smallest cholesky pivot element being 2.220e-16\n",
        "  % (n_iter, alpha, n_active, diag))\n",
        "C:\\Python27\\lib\\site-packages\\sklearn\\linear_model\\least_angle.py:251: UserWarning: Regressors in active set degenerate. Dropping a regressor, after 5 iterations, i.e. alpha=2.577e-01, with an active set of 5 regressors, and the smallest cholesky pivot element being 4.215e-08\n",
        "  % (n_iter, alpha, n_active, diag))\n",
        "C:\\Python27\\lib\\site-packages\\sklearn\\linear_model\\least_angle.py:251: UserWarning: Regressors in active set degenerate. Dropping a regressor, after 5 iterations, i.e. alpha=4.208e-01, with an active set of 5 regressors, and the smallest cholesky pivot element being 2.220e-16\n",
        "  % (n_iter, alpha, n_active, diag))\n"
       ]
      },
      {
       "output_type": "stream",
       "stream": "stderr",
       "text": [
        "C:\\Python27\\lib\\site-packages\\sklearn\\linear_model\\least_angle.py:251: UserWarning: Regressors in active set degenerate. Dropping a regressor, after 8 iterations, i.e. alpha=3.054e-01, with an active set of 8 regressors, and the smallest cholesky pivot element being 2.220e-16\n",
        "  % (n_iter, alpha, n_active, diag))\n",
        "C:\\Python27\\lib\\site-packages\\sklearn\\linear_model\\least_angle.py:251: UserWarning: Regressors in active set degenerate. Dropping a regressor, after 2 iterations, i.e. alpha=5.605e-01, with an active set of 2 regressors, and the smallest cholesky pivot element being 2.220e-16\n",
        "  % (n_iter, alpha, n_active, diag))\n"
       ]
      },
      {
       "output_type": "stream",
       "stream": "stderr",
       "text": [
        "C:\\Python27\\lib\\site-packages\\sklearn\\linear_model\\least_angle.py:251: UserWarning: Regressors in active set degenerate. Dropping a regressor, after 3 iterations, i.e. alpha=5.168e-01, with an active set of 3 regressors, and the smallest cholesky pivot element being 5.960e-08\n",
        "  % (n_iter, alpha, n_active, diag))\n",
        "C:\\Python27\\lib\\site-packages\\sklearn\\linear_model\\least_angle.py:251: UserWarning: Regressors in active set degenerate. Dropping a regressor, after 6 iterations, i.e. alpha=4.136e-01, with an active set of 5 regressors, and the smallest cholesky pivot element being 5.960e-08\n",
        "  % (n_iter, alpha, n_active, diag))\n",
        "C:\\Python27\\lib\\site-packages\\sklearn\\linear_model\\least_angle.py:251: UserWarning: Regressors in active set degenerate. Dropping a regressor, after 3 iterations, i.e. alpha=5.133e-01, with an active set of 3 regressors, and the smallest cholesky pivot element being 4.215e-08\n",
        "  % (n_iter, alpha, n_active, diag))\n"
       ]
      },
      {
       "output_type": "stream",
       "stream": "stderr",
       "text": [
        "C:\\Python27\\lib\\site-packages\\sklearn\\linear_model\\least_angle.py:251: UserWarning: Regressors in active set degenerate. Dropping a regressor, after 6 iterations, i.e. alpha=2.570e-01, with an active set of 6 regressors, and the smallest cholesky pivot element being 4.215e-08\n",
        "  % (n_iter, alpha, n_active, diag))\n",
        "C:\\Python27\\lib\\site-packages\\sklearn\\linear_model\\least_angle.py:251: UserWarning: Regressors in active set degenerate. Dropping a regressor, after 9 iterations, i.e. alpha=2.850e-01, with an active set of 8 regressors, and the smallest cholesky pivot element being 5.960e-08\n",
        "  % (n_iter, alpha, n_active, diag))\n"
       ]
      },
      {
       "output_type": "stream",
       "stream": "stderr",
       "text": [
        "C:\\Python27\\lib\\site-packages\\sklearn\\linear_model\\least_angle.py:251: UserWarning: Regressors in active set degenerate. Dropping a regressor, after 4 iterations, i.e. alpha=4.100e-01, with an active set of 4 regressors, and the smallest cholesky pivot element being 5.960e-08\n",
        "  % (n_iter, alpha, n_active, diag))\n",
        "C:\\Python27\\lib\\site-packages\\sklearn\\linear_model\\least_angle.py:251: UserWarning: Regressors in active set degenerate. Dropping a regressor, after 6 iterations, i.e. alpha=3.434e-01, with an active set of 6 regressors, and the smallest cholesky pivot element being 5.960e-08\n",
        "  % (n_iter, alpha, n_active, diag))\n",
        "C:\\Python27\\lib\\site-packages\\sklearn\\linear_model\\least_angle.py:251: UserWarning: Regressors in active set degenerate. Dropping a regressor, after 5 iterations, i.e. alpha=3.341e-01, with an active set of 5 regressors, and the smallest cholesky pivot element being 4.215e-08\n",
        "  % (n_iter, alpha, n_active, diag))\n"
       ]
      },
      {
       "output_type": "stream",
       "stream": "stderr",
       "text": [
        "C:\\Python27\\lib\\site-packages\\sklearn\\linear_model\\least_angle.py:251: UserWarning: Regressors in active set degenerate. Dropping a regressor, after 5 iterations, i.e. alpha=2.358e-01, with an active set of 5 regressors, and the smallest cholesky pivot element being 2.220e-16\n",
        "  % (n_iter, alpha, n_active, diag))\n",
        "C:\\Python27\\lib\\site-packages\\sklearn\\linear_model\\least_angle.py:251: UserWarning: Regressors in active set degenerate. Dropping a regressor, after 2 iterations, i.e. alpha=6.528e-01, with an active set of 2 regressors, and the smallest cholesky pivot element being 5.960e-08\n",
        "  % (n_iter, alpha, n_active, diag))\n"
       ]
      },
      {
       "output_type": "stream",
       "stream": "stderr",
       "text": [
        "C:\\Python27\\lib\\site-packages\\sklearn\\linear_model\\least_angle.py:251: UserWarning: Regressors in active set degenerate. Dropping a regressor, after 7 iterations, i.e. alpha=2.557e-01, with an active set of 7 regressors, and the smallest cholesky pivot element being 5.960e-08\n",
        "  % (n_iter, alpha, n_active, diag))\n",
        "C:\\Python27\\lib\\site-packages\\sklearn\\linear_model\\least_angle.py:251: UserWarning: Regressors in active set degenerate. Dropping a regressor, after 7 iterations, i.e. alpha=2.557e-01, with an active set of 7 regressors, and the smallest cholesky pivot element being 4.215e-08\n",
        "  % (n_iter, alpha, n_active, diag))\n",
        "C:\\Python27\\lib\\site-packages\\sklearn\\linear_model\\least_angle.py:251: UserWarning: Regressors in active set degenerate. Dropping a regressor, after 8 iterations, i.e. alpha=2.460e-01, with an active set of 8 regressors, and the smallest cholesky pivot element being 4.215e-08\n",
        "  % (n_iter, alpha, n_active, diag))\n",
        "C:\\Python27\\lib\\site-packages\\sklearn\\linear_model\\least_angle.py:251: UserWarning: Regressors in active set degenerate. Dropping a regressor, after 8 iterations, i.e. alpha=2.460e-01, with an active set of 8 regressors, and the smallest cholesky pivot element being 9.424e-08\n",
        "  % (n_iter, alpha, n_active, diag))\n",
        "C:\\Python27\\lib\\site-packages\\sklearn\\linear_model\\least_angle.py:251: UserWarning: Regressors in active set degenerate. Dropping a regressor, after 1 iterations, i.e. alpha=6.014e-01, with an active set of 1 regressors, and the smallest cholesky pivot element being 2.220e-16\n",
        "  % (n_iter, alpha, n_active, diag))\n"
       ]
      },
      {
       "output_type": "stream",
       "stream": "stderr",
       "text": [
        "C:\\Python27\\lib\\site-packages\\sklearn\\linear_model\\least_angle.py:251: UserWarning: Regressors in active set degenerate. Dropping a regressor, after 5 iterations, i.e. alpha=3.379e-01, with an active set of 5 regressors, and the smallest cholesky pivot element being 2.220e-16\n",
        "  % (n_iter, alpha, n_active, diag))\n",
        "C:\\Python27\\lib\\site-packages\\sklearn\\linear_model\\least_angle.py:251: UserWarning: Regressors in active set degenerate. Dropping a regressor, after 6 iterations, i.e. alpha=2.972e-01, with an active set of 6 regressors, and the smallest cholesky pivot element being 2.220e-16\n",
        "  % (n_iter, alpha, n_active, diag))\n",
        "C:\\Python27\\lib\\site-packages\\sklearn\\linear_model\\least_angle.py:251: UserWarning: Regressors in active set degenerate. Dropping a regressor, after 2 iterations, i.e. alpha=4.050e-01, with an active set of 2 regressors, and the smallest cholesky pivot element being 5.960e-08\n",
        "  % (n_iter, alpha, n_active, diag))\n"
       ]
      },
      {
       "output_type": "stream",
       "stream": "stderr",
       "text": [
        "C:\\Python27\\lib\\site-packages\\sklearn\\linear_model\\least_angle.py:251: UserWarning: Regressors in active set degenerate. Dropping a regressor, after 3 iterations, i.e. alpha=3.833e-01, with an active set of 3 regressors, and the smallest cholesky pivot element being 5.960e-08\n",
        "  % (n_iter, alpha, n_active, diag))\n",
        "C:\\Python27\\lib\\site-packages\\sklearn\\linear_model\\least_angle.py:251: UserWarning: Regressors in active set degenerate. Dropping a regressor, after 3 iterations, i.e. alpha=3.833e-01, with an active set of 3 regressors, and the smallest cholesky pivot element being 4.215e-08\n",
        "  % (n_iter, alpha, n_active, diag))\n",
        "C:\\Python27\\lib\\site-packages\\sklearn\\linear_model\\least_angle.py:251: UserWarning: Regressors in active set degenerate. Dropping a regressor, after 3 iterations, i.e. alpha=3.833e-01, with an active set of 3 regressors, and the smallest cholesky pivot element being 7.300e-08\n",
        "  % (n_iter, alpha, n_active, diag))\n",
        "C:\\Python27\\lib\\site-packages\\sklearn\\linear_model\\least_angle.py:251: UserWarning: Regressors in active set degenerate. Dropping a regressor, after 3 iterations, i.e. alpha=3.833e-01, with an active set of 3 regressors, and the smallest cholesky pivot element being 9.424e-08\n",
        "  % (n_iter, alpha, n_active, diag))\n",
        "C:\\Python27\\lib\\site-packages\\sklearn\\linear_model\\least_angle.py:251: UserWarning: Regressors in active set degenerate. Dropping a regressor, after 6 iterations, i.e. alpha=2.976e-01, with an active set of 6 regressors, and the smallest cholesky pivot element being 4.215e-08\n",
        "  % (n_iter, alpha, n_active, diag))\n",
        "C:\\Python27\\lib\\site-packages\\sklearn\\linear_model\\least_angle.py:251: UserWarning: Regressors in active set degenerate. Dropping a regressor, after 2 iterations, i.e. alpha=5.887e-01, with an active set of 2 regressors, and the smallest cholesky pivot element being 2.220e-16\n",
        "  % (n_iter, alpha, n_active, diag))\n"
       ]
      },
      {
       "output_type": "stream",
       "stream": "stderr",
       "text": [
        "C:\\Python27\\lib\\site-packages\\sklearn\\linear_model\\least_angle.py:251: UserWarning: Regressors in active set degenerate. Dropping a regressor, after 8 iterations, i.e. alpha=4.147e-01, with an active set of 8 regressors, and the smallest cholesky pivot element being 2.220e-16\n",
        "  % (n_iter, alpha, n_active, diag))\n",
        "C:\\Python27\\lib\\site-packages\\sklearn\\linear_model\\least_angle.py:251: UserWarning: Regressors in active set degenerate. Dropping a regressor, after 8 iterations, i.e. alpha=4.147e-01, with an active set of 8 regressors, and the smallest cholesky pivot element being 4.215e-08\n",
        "  % (n_iter, alpha, n_active, diag))\n",
        "C:\\Python27\\lib\\site-packages\\sklearn\\linear_model\\least_angle.py:251: UserWarning: Regressors in active set degenerate. Dropping a regressor, after 2 iterations, i.e. alpha=5.250e-01, with an active set of 2 regressors, and the smallest cholesky pivot element being 5.960e-08\n",
        "  % (n_iter, alpha, n_active, diag))\n"
       ]
      },
      {
       "output_type": "stream",
       "stream": "stderr",
       "text": [
        "C:\\Python27\\lib\\site-packages\\sklearn\\linear_model\\least_angle.py:251: UserWarning: Regressors in active set degenerate. Dropping a regressor, after 8 iterations, i.e. alpha=3.027e-01, with an active set of 8 regressors, and the smallest cholesky pivot element being 5.960e-08\n",
        "  % (n_iter, alpha, n_active, diag))\n",
        "C:\\Python27\\lib\\site-packages\\sklearn\\linear_model\\least_angle.py:251: UserWarning: Regressors in active set degenerate. Dropping a regressor, after 9 iterations, i.e. alpha=2.625e-01, with an active set of 9 regressors, and the smallest cholesky pivot element being 5.960e-08\n",
        "  % (n_iter, alpha, n_active, diag))\n",
        "C:\\Python27\\lib\\site-packages\\sklearn\\linear_model\\least_angle.py:251: UserWarning: Regressors in active set degenerate. Dropping a regressor, after 2 iterations, i.e. alpha=6.010e-01, with an active set of 2 regressors, and the smallest cholesky pivot element being 2.220e-16\n",
        "  % (n_iter, alpha, n_active, diag))\n"
       ]
      },
      {
       "output_type": "stream",
       "stream": "stderr",
       "text": [
        "C:\\Python27\\lib\\site-packages\\sklearn\\linear_model\\least_angle.py:251: UserWarning: Regressors in active set degenerate. Dropping a regressor, after 9 iterations, i.e. alpha=2.520e-01, with an active set of 9 regressors, and the smallest cholesky pivot element being 2.220e-16\n",
        "  % (n_iter, alpha, n_active, diag))\n",
        "C:\\Python27\\lib\\site-packages\\sklearn\\linear_model\\least_angle.py:251: UserWarning: Regressors in active set degenerate. Dropping a regressor, after 8 iterations, i.e. alpha=1.923e-01, with an active set of 8 regressors, and the smallest cholesky pivot element being 7.300e-08\n",
        "  % (n_iter, alpha, n_active, diag))\n",
        "C:\\Python27\\lib\\site-packages\\sklearn\\linear_model\\least_angle.py:251: UserWarning: Regressors in active set degenerate. Dropping a regressor, after 1 iterations, i.e. alpha=6.489e-01, with an active set of 1 regressors, and the smallest cholesky pivot element being 5.960e-08\n",
        "  % (n_iter, alpha, n_active, diag))\n"
       ]
      },
      {
       "output_type": "stream",
       "stream": "stderr",
       "text": [
        "C:\\Python27\\lib\\site-packages\\sklearn\\linear_model\\least_angle.py:251: UserWarning: Regressors in active set degenerate. Dropping a regressor, after 3 iterations, i.e. alpha=5.218e-01, with an active set of 3 regressors, and the smallest cholesky pivot element being 4.215e-08\n",
        "  % (n_iter, alpha, n_active, diag))\n",
        "C:\\Python27\\lib\\site-packages\\sklearn\\linear_model\\least_angle.py:251: UserWarning: Regressors in active set degenerate. Dropping a regressor, after 3 iterations, i.e. alpha=5.218e-01, with an active set of 3 regressors, and the smallest cholesky pivot element being 5.960e-08\n",
        "  % (n_iter, alpha, n_active, diag))\n",
        "C:\\Python27\\lib\\site-packages\\sklearn\\linear_model\\least_angle.py:251: UserWarning: Regressors in active set degenerate. Dropping a regressor, after 4 iterations, i.e. alpha=5.042e-01, with an active set of 4 regressors, and the smallest cholesky pivot element being 4.215e-08\n",
        "  % (n_iter, alpha, n_active, diag))\n",
        "C:\\Python27\\lib\\site-packages\\sklearn\\linear_model\\least_angle.py:251: UserWarning: Regressors in active set degenerate. Dropping a regressor, after 5 iterations, i.e. alpha=4.428e-01, with an active set of 5 regressors, and the smallest cholesky pivot element being 4.215e-08\n",
        "  % (n_iter, alpha, n_active, diag))\n",
        "C:\\Python27\\lib\\site-packages\\sklearn\\linear_model\\least_angle.py:251: UserWarning: Regressors in active set degenerate. Dropping a regressor, after 5 iterations, i.e. alpha=4.383e-01, with an active set of 5 regressors, and the smallest cholesky pivot element being 7.300e-08\n",
        "  % (n_iter, alpha, n_active, diag))\n",
        "C:\\Python27\\lib\\site-packages\\sklearn\\linear_model\\least_angle.py:251: UserWarning: Regressors in active set degenerate. Dropping a regressor, after 5 iterations, i.e. alpha=4.338e-01, with an active set of 5 regressors, and the smallest cholesky pivot element being 9.424e-08\n",
        "  % (n_iter, alpha, n_active, diag))\n",
        "C:\\Python27\\lib\\site-packages\\sklearn\\linear_model\\least_angle.py:251: UserWarning: Regressors in active set degenerate. Dropping a regressor, after 6 iterations, i.e. alpha=3.782e-01, with an active set of 6 regressors, and the smallest cholesky pivot element being 5.960e-08\n",
        "  % (n_iter, alpha, n_active, diag))\n",
        "C:\\Python27\\lib\\site-packages\\sklearn\\linear_model\\least_angle.py:251: UserWarning: Regressors in active set degenerate. Dropping a regressor, after 7 iterations, i.e. alpha=3.745e-01, with an active set of 7 regressors, and the smallest cholesky pivot element being 5.960e-08\n",
        "  % (n_iter, alpha, n_active, diag))\n",
        "C:\\Python27\\lib\\site-packages\\sklearn\\linear_model\\least_angle.py:251: UserWarning: Regressors in active set degenerate. Dropping a regressor, after 9 iterations, i.e. alpha=2.490e-01, with an active set of 9 regressors, and the smallest cholesky pivot element being 5.960e-08\n",
        "  % (n_iter, alpha, n_active, diag))\n",
        "C:\\Python27\\lib\\site-packages\\sklearn\\linear_model\\least_angle.py:251: UserWarning: Regressors in active set degenerate. Dropping a regressor, after 4 iterations, i.e. alpha=5.846e-01, with an active set of 4 regressors, and the smallest cholesky pivot element being 5.960e-08\n",
        "  % (n_iter, alpha, n_active, diag))\n"
       ]
      },
      {
       "output_type": "stream",
       "stream": "stderr",
       "text": [
        "C:\\Python27\\lib\\site-packages\\sklearn\\linear_model\\least_angle.py:251: UserWarning: Regressors in active set degenerate. Dropping a regressor, after 5 iterations, i.e. alpha=4.193e-01, with an active set of 5 regressors, and the smallest cholesky pivot element being 5.960e-08\n",
        "  % (n_iter, alpha, n_active, diag))\n",
        "C:\\Python27\\lib\\site-packages\\sklearn\\linear_model\\least_angle.py:251: UserWarning: Regressors in active set degenerate. Dropping a regressor, after 7 iterations, i.e. alpha=2.681e-01, with an active set of 7 regressors, and the smallest cholesky pivot element being 5.960e-08\n",
        "  % (n_iter, alpha, n_active, diag))\n",
        "C:\\Python27\\lib\\site-packages\\sklearn\\linear_model\\least_angle.py:251: UserWarning: Regressors in active set degenerate. Dropping a regressor, after 7 iterations, i.e. alpha=2.681e-01, with an active set of 7 regressors, and the smallest cholesky pivot element being 7.300e-08\n",
        "  % (n_iter, alpha, n_active, diag))\n",
        "C:\\Python27\\lib\\site-packages\\sklearn\\linear_model\\least_angle.py:251: UserWarning: Regressors in active set degenerate. Dropping a regressor, after 7 iterations, i.e. alpha=2.681e-01, with an active set of 7 regressors, and the smallest cholesky pivot element being 9.424e-08\n",
        "  % (n_iter, alpha, n_active, diag))\n",
        "C:\\Python27\\lib\\site-packages\\sklearn\\linear_model\\least_angle.py:251: UserWarning: Regressors in active set degenerate. Dropping a regressor, after 3 iterations, i.e. alpha=3.834e-01, with an active set of 3 regressors, and the smallest cholesky pivot element being 5.960e-08\n",
        "  % (n_iter, alpha, n_active, diag))\n"
       ]
      },
      {
       "output_type": "stream",
       "stream": "stderr",
       "text": [
        "C:\\Python27\\lib\\site-packages\\sklearn\\linear_model\\least_angle.py:251: UserWarning: Regressors in active set degenerate. Dropping a regressor, after 4 iterations, i.e. alpha=3.558e-01, with an active set of 4 regressors, and the smallest cholesky pivot element being 5.960e-08\n",
        "  % (n_iter, alpha, n_active, diag))\n",
        "C:\\Python27\\lib\\site-packages\\sklearn\\linear_model\\least_angle.py:251: UserWarning: Regressors in active set degenerate. Dropping a regressor, after 2 iterations, i.e. alpha=4.895e-01, with an active set of 2 regressors, and the smallest cholesky pivot element being 5.960e-08\n",
        "  % (n_iter, alpha, n_active, diag))\n"
       ]
      },
      {
       "output_type": "stream",
       "stream": "stderr",
       "text": [
        "C:\\Python27\\lib\\site-packages\\sklearn\\linear_model\\least_angle.py:251: UserWarning: Regressors in active set degenerate. Dropping a regressor, after 4 iterations, i.e. alpha=2.948e-01, with an active set of 4 regressors, and the smallest cholesky pivot element being 5.960e-08\n",
        "  % (n_iter, alpha, n_active, diag))\n",
        "C:\\Python27\\lib\\site-packages\\sklearn\\linear_model\\least_angle.py:251: UserWarning: Regressors in active set degenerate. Dropping a regressor, after 4 iterations, i.e. alpha=2.948e-01, with an active set of 4 regressors, and the smallest cholesky pivot element being 4.215e-08\n",
        "  % (n_iter, alpha, n_active, diag))\n",
        "C:\\Python27\\lib\\site-packages\\sklearn\\linear_model\\least_angle.py:251: UserWarning: Regressors in active set degenerate. Dropping a regressor, after 6 iterations, i.e. alpha=2.654e-01, with an active set of 6 regressors, and the smallest cholesky pivot element being 5.960e-08\n",
        "  % (n_iter, alpha, n_active, diag))\n",
        "C:\\Python27\\lib\\site-packages\\sklearn\\linear_model\\least_angle.py:251: UserWarning: Regressors in active set degenerate. Dropping a regressor, after 6 iterations, i.e. alpha=2.654e-01, with an active set of 6 regressors, and the smallest cholesky pivot element being 7.300e-08\n",
        "  % (n_iter, alpha, n_active, diag))\n",
        "C:\\Python27\\lib\\site-packages\\sklearn\\linear_model\\least_angle.py:251: UserWarning: Regressors in active set degenerate. Dropping a regressor, after 8 iterations, i.e. alpha=2.524e-01, with an active set of 8 regressors, and the smallest cholesky pivot element being 4.215e-08\n",
        "  % (n_iter, alpha, n_active, diag))\n",
        "C:\\Python27\\lib\\site-packages\\sklearn\\linear_model\\least_angle.py:251: UserWarning: Regressors in active set degenerate. Dropping a regressor, after 9 iterations, i.e. alpha=2.482e-01, with an active set of 9 regressors, and the smallest cholesky pivot element being 4.215e-08\n",
        "  % (n_iter, alpha, n_active, diag))\n",
        "C:\\Python27\\lib\\site-packages\\sklearn\\linear_model\\least_angle.py:251: UserWarning: Regressors in active set degenerate. Dropping a regressor, after 9 iterations, i.e. alpha=2.482e-01, with an active set of 9 regressors, and the smallest cholesky pivot element being 5.960e-08\n",
        "  % (n_iter, alpha, n_active, diag))\n",
        "C:\\Python27\\lib\\site-packages\\sklearn\\linear_model\\least_angle.py:251: UserWarning: Regressors in active set degenerate. Dropping a regressor, after 3 iterations, i.e. alpha=3.994e-01, with an active set of 3 regressors, and the smallest cholesky pivot element being 5.960e-08\n",
        "  % (n_iter, alpha, n_active, diag))\n"
       ]
      },
      {
       "output_type": "stream",
       "stream": "stderr",
       "text": [
        "C:\\Python27\\lib\\site-packages\\sklearn\\linear_model\\least_angle.py:251: UserWarning: Regressors in active set degenerate. Dropping a regressor, after 5 iterations, i.e. alpha=3.963e-01, with an active set of 5 regressors, and the smallest cholesky pivot element being 5.960e-08\n",
        "  % (n_iter, alpha, n_active, diag))\n",
        "C:\\Python27\\lib\\site-packages\\sklearn\\linear_model\\least_angle.py:251: UserWarning: Regressors in active set degenerate. Dropping a regressor, after 7 iterations, i.e. alpha=2.971e-01, with an active set of 7 regressors, and the smallest cholesky pivot element being 9.424e-08\n",
        "  % (n_iter, alpha, n_active, diag))\n",
        "C:\\Python27\\lib\\site-packages\\sklearn\\linear_model\\least_angle.py:251: UserWarning: Regressors in active set degenerate. Dropping a regressor, after 8 iterations, i.e. alpha=2.887e-01, with an active set of 8 regressors, and the smallest cholesky pivot element being 5.960e-08\n",
        "  % (n_iter, alpha, n_active, diag))\n",
        "C:\\Python27\\lib\\site-packages\\sklearn\\linear_model\\least_angle.py:251: UserWarning: Regressors in active set degenerate. Dropping a regressor, after 8 iterations, i.e. alpha=2.887e-01, with an active set of 8 regressors, and the smallest cholesky pivot element being 9.424e-08\n",
        "  % (n_iter, alpha, n_active, diag))\n",
        "C:\\Python27\\lib\\site-packages\\sklearn\\linear_model\\least_angle.py:251: UserWarning: Regressors in active set degenerate. Dropping a regressor, after 8 iterations, i.e. alpha=2.887e-01, with an active set of 8 regressors, and the smallest cholesky pivot element being 8.429e-08\n",
        "  % (n_iter, alpha, n_active, diag))\n",
        "C:\\Python27\\lib\\site-packages\\sklearn\\linear_model\\least_angle.py:251: UserWarning: Regressors in active set degenerate. Dropping a regressor, after 5 iterations, i.e. alpha=3.453e-01, with an active set of 5 regressors, and the smallest cholesky pivot element being 5.960e-08\n",
        "  % (n_iter, alpha, n_active, diag))\n",
        "C:\\Python27\\lib\\site-packages\\sklearn\\linear_model\\least_angle.py:251: UserWarning: Regressors in active set degenerate. Dropping a regressor, after 5 iterations, i.e. alpha=3.453e-01, with an active set of 5 regressors, and the smallest cholesky pivot element being 7.300e-08\n",
        "  % (n_iter, alpha, n_active, diag))\n",
        "C:\\Python27\\lib\\site-packages\\sklearn\\linear_model\\least_angle.py:251: UserWarning: Regressors in active set degenerate. Dropping a regressor, after 7 iterations, i.e. alpha=3.334e-01, with an active set of 7 regressors, and the smallest cholesky pivot element being 5.960e-08\n",
        "  % (n_iter, alpha, n_active, diag))\n",
        "C:\\Python27\\lib\\site-packages\\sklearn\\linear_model\\least_angle.py:251: UserWarning: Regressors in active set degenerate. Dropping a regressor, after 9 iterations, i.e. alpha=2.808e-01, with an active set of 8 regressors, and the smallest cholesky pivot element being 2.220e-16\n",
        "  % (n_iter, alpha, n_active, diag))\n"
       ]
      },
      {
       "output_type": "stream",
       "stream": "stderr",
       "text": [
        "C:\\Python27\\lib\\site-packages\\sklearn\\linear_model\\least_angle.py:251: UserWarning: Regressors in active set degenerate. Dropping a regressor, after 9 iterations, i.e. alpha=1.674e-01, with an active set of 8 regressors, and the smallest cholesky pivot element being 4.215e-08\n",
        "  % (n_iter, alpha, n_active, diag))\n",
        "C:\\Python27\\lib\\site-packages\\sklearn\\linear_model\\least_angle.py:251: UserWarning: Regressors in active set degenerate. Dropping a regressor, after 8 iterations, i.e. alpha=1.861e-01, with an active set of 8 regressors, and the smallest cholesky pivot element being 2.220e-16\n",
        "  % (n_iter, alpha, n_active, diag))\n"
       ]
      },
      {
       "output_type": "stream",
       "stream": "stderr",
       "text": [
        "C:\\Python27\\lib\\site-packages\\sklearn\\linear_model\\least_angle.py:251: UserWarning: Regressors in active set degenerate. Dropping a regressor, after 3 iterations, i.e. alpha=4.044e-01, with an active set of 3 regressors, and the smallest cholesky pivot element being 2.220e-16\n",
        "  % (n_iter, alpha, n_active, diag))\n",
        "C:\\Python27\\lib\\site-packages\\sklearn\\linear_model\\least_angle.py:251: UserWarning: Regressors in active set degenerate. Dropping a regressor, after 9 iterations, i.e. alpha=9.603e-02, with an active set of 9 regressors, and the smallest cholesky pivot element being 7.300e-08\n",
        "  % (n_iter, alpha, n_active, diag))\n",
        "C:\\Python27\\lib\\site-packages\\sklearn\\linear_model\\least_angle.py:251: UserWarning: Regressors in active set degenerate. Dropping a regressor, after 7 iterations, i.e. alpha=2.042e-01, with an active set of 7 regressors, and the smallest cholesky pivot element being 4.215e-08\n",
        "  % (n_iter, alpha, n_active, diag))\n"
       ]
      },
      {
       "output_type": "stream",
       "stream": "stderr",
       "text": [
        "C:\\Python27\\lib\\site-packages\\sklearn\\linear_model\\least_angle.py:251: UserWarning: Regressors in active set degenerate. Dropping a regressor, after 4 iterations, i.e. alpha=4.202e-01, with an active set of 4 regressors, and the smallest cholesky pivot element being 5.960e-08\n",
        "  % (n_iter, alpha, n_active, diag))\n",
        "C:\\Python27\\lib\\site-packages\\sklearn\\linear_model\\least_angle.py:251: UserWarning: Regressors in active set degenerate. Dropping a regressor, after 6 iterations, i.e. alpha=3.652e-01, with an active set of 6 regressors, and the smallest cholesky pivot element being 7.300e-08\n",
        "  % (n_iter, alpha, n_active, diag))\n",
        "C:\\Python27\\lib\\site-packages\\sklearn\\linear_model\\least_angle.py:251: UserWarning: Regressors in active set degenerate. Dropping a regressor, after 8 iterations, i.e. alpha=2.464e-01, with an active set of 8 regressors, and the smallest cholesky pivot element being 7.300e-08\n",
        "  % (n_iter, alpha, n_active, diag))\n",
        "C:\\Python27\\lib\\site-packages\\sklearn\\linear_model\\least_angle.py:251: UserWarning: Regressors in active set degenerate. Dropping a regressor, after 8 iterations, i.e. alpha=2.464e-01, with an active set of 8 regressors, and the smallest cholesky pivot element being 5.960e-08\n",
        "  % (n_iter, alpha, n_active, diag))\n",
        "C:\\Python27\\lib\\site-packages\\sklearn\\linear_model\\least_angle.py:251: UserWarning: Regressors in active set degenerate. Dropping a regressor, after 9 iterations, i.e. alpha=2.355e-01, with an active set of 9 regressors, and the smallest cholesky pivot element being 5.960e-08\n",
        "  % (n_iter, alpha, n_active, diag))\n",
        "C:\\Python27\\lib\\site-packages\\sklearn\\linear_model\\least_angle.py:251: UserWarning: Regressors in active set degenerate. Dropping a regressor, after 9 iterations, i.e. alpha=2.355e-01, with an active set of 9 regressors, and the smallest cholesky pivot element being 9.424e-08\n",
        "  % (n_iter, alpha, n_active, diag))\n",
        "C:\\Python27\\lib\\site-packages\\sklearn\\linear_model\\least_angle.py:251: UserWarning: Regressors in active set degenerate. Dropping a regressor, after 6 iterations, i.e. alpha=4.326e-01, with an active set of 5 regressors, and the smallest cholesky pivot element being 5.960e-08\n",
        "  % (n_iter, alpha, n_active, diag))\n",
        "C:\\Python27\\lib\\site-packages\\sklearn\\linear_model\\least_angle.py:251: UserWarning: Regressors in active set degenerate. Dropping a regressor, after 5 iterations, i.e. alpha=4.527e-01, with an active set of 5 regressors, and the smallest cholesky pivot element being 2.220e-16\n",
        "  % (n_iter, alpha, n_active, diag))\n"
       ]
      },
      {
       "output_type": "stream",
       "stream": "stderr",
       "text": [
        "C:\\Python27\\lib\\site-packages\\sklearn\\linear_model\\least_angle.py:251: UserWarning: Regressors in active set degenerate. Dropping a regressor, after 3 iterations, i.e. alpha=3.864e-01, with an active set of 3 regressors, and the smallest cholesky pivot element being 7.300e-08\n",
        "  % (n_iter, alpha, n_active, diag))\n",
        "C:\\Python27\\lib\\site-packages\\sklearn\\linear_model\\least_angle.py:251: UserWarning: Regressors in active set degenerate. Dropping a regressor, after 3 iterations, i.e. alpha=3.864e-01, with an active set of 3 regressors, and the smallest cholesky pivot element being 5.960e-08\n",
        "  % (n_iter, alpha, n_active, diag))\n",
        "C:\\Python27\\lib\\site-packages\\sklearn\\linear_model\\least_angle.py:251: UserWarning: Regressors in active set degenerate. Dropping a regressor, after 6 iterations, i.e. alpha=3.245e-01, with an active set of 6 regressors, and the smallest cholesky pivot element being 5.960e-08\n",
        "  % (n_iter, alpha, n_active, diag))\n",
        "C:\\Python27\\lib\\site-packages\\sklearn\\linear_model\\least_angle.py:251: UserWarning: Regressors in active set degenerate. Dropping a regressor, after 6 iterations, i.e. alpha=3.134e-01, with an active set of 6 regressors, and the smallest cholesky pivot element being 5.960e-08\n",
        "  % (n_iter, alpha, n_active, diag))\n"
       ]
      },
      {
       "output_type": "stream",
       "stream": "stderr",
       "text": [
        "C:\\Python27\\lib\\site-packages\\sklearn\\linear_model\\least_angle.py:251: UserWarning: Regressors in active set degenerate. Dropping a regressor, after 8 iterations, i.e. alpha=3.029e-01, with an active set of 7 regressors, and the smallest cholesky pivot element being 7.300e-08\n",
        "  % (n_iter, alpha, n_active, diag))\n",
        "C:\\Python27\\lib\\site-packages\\sklearn\\linear_model\\least_angle.py:251: UserWarning: Regressors in active set degenerate. Dropping a regressor, after 5 iterations, i.e. alpha=1.907e-01, with an active set of 5 regressors, and the smallest cholesky pivot element being 5.960e-08\n",
        "  % (n_iter, alpha, n_active, diag))\n"
       ]
      },
      {
       "output_type": "stream",
       "stream": "stderr",
       "text": [
        "C:\\Python27\\lib\\site-packages\\sklearn\\linear_model\\least_angle.py:251: UserWarning: Regressors in active set degenerate. Dropping a regressor, after 8 iterations, i.e. alpha=1.450e-01, with an active set of 8 regressors, and the smallest cholesky pivot element being 5.960e-08\n",
        "  % (n_iter, alpha, n_active, diag))\n",
        "C:\\Python27\\lib\\site-packages\\sklearn\\linear_model\\least_angle.py:251: UserWarning: Regressors in active set degenerate. Dropping a regressor, after 9 iterations, i.e. alpha=2.125e-01, with an active set of 8 regressors, and the smallest cholesky pivot element being 9.424e-08\n",
        "  % (n_iter, alpha, n_active, diag))\n"
       ]
      }
     ],
     "prompt_number": 7
    },
    {
     "cell_type": "code",
     "collapsed": false,
     "input": [
      "for i in xrange(0,6):\n",
      "    master_recon = np.load(\"master_recon.npz\").items()[0][1]\n",
      "    master_recon_train = np.load(\"master_recon{}.npz\".format(i+2)).items()[0][1]\n",
      "    test_set = np.where(np.logical_not(trainset[i,:]))[0]\n",
      "    pred_data = np.zeros([data.shape[0],len(test_set)])\n",
      "    for cidx,colidx in enumerate(test_set):\n",
      "        v = data[:,colidx]\n",
      "        cur_node = regr_trees[i]\n",
      "        while hasattr(cur_node,\"lm\"):\n",
      "            peig = cur_node.lm.predict(v[cur_node.active])\n",
      "            #print cur_node.level, cur_node.idx, peig\n",
      "            if peig > 0.0:\n",
      "                cur_node = cur_node.children[1]\n",
      "            else:\n",
      "                cur_node = cur_node.children[0]\n",
      "        #print cur_node.idx\n",
      "        pred_data[:,cidx] = np.mean(master_recon_train[:,cur_node.elements],axis=1)\n",
      "    diffs = pred_data - master_recon[:,test_set]\n",
      "    print \"{}: {:3.2%}\".format(i,np.mean(np.abs(diffs))/2.0)"
     ],
     "language": "python",
     "metadata": {},
     "outputs": [
      {
       "output_type": "stream",
       "stream": "stdout",
       "text": [
        "0: 6.37%\n",
        "1: 6.41%"
       ]
      },
      {
       "output_type": "stream",
       "stream": "stdout",
       "text": [
        "\n",
        "2: 6.11%"
       ]
      },
      {
       "output_type": "stream",
       "stream": "stdout",
       "text": [
        "\n",
        "3: 6.61%"
       ]
      },
      {
       "output_type": "stream",
       "stream": "stdout",
       "text": [
        "\n",
        "4: 6.66%"
       ]
      },
      {
       "output_type": "stream",
       "stream": "stdout",
       "text": [
        "\n",
        "5: 6.18%"
       ]
      },
      {
       "output_type": "stream",
       "stream": "stdout",
       "text": [
        "\n"
       ]
      }
     ],
     "prompt_number": 20
    },
    {
     "cell_type": "code",
     "collapsed": false,
     "input": [
      "data.shape"
     ],
     "language": "python",
     "metadata": {},
     "outputs": [
      {
       "metadata": {},
       "output_type": "pyout",
       "prompt_number": 19,
       "text": [
        "(567L, 2428L)"
       ]
      }
     ],
     "prompt_number": 19
    },
    {
     "cell_type": "code",
     "collapsed": false,
     "input": [],
     "language": "python",
     "metadata": {},
     "outputs": [
      {
       "ename": "ValueError",
       "evalue": "matrices are not aligned",
       "output_type": "pyerr",
       "traceback": [
        "\u001b[1;31m---------------------------------------------------------------------------\u001b[0m\n\u001b[1;31mValueError\u001b[0m                                Traceback (most recent call last)",
        "\u001b[1;32m<ipython-input-12-0cc97545ee80>\u001b[0m in \u001b[0;36m<module>\u001b[1;34m()\u001b[0m\n\u001b[1;32m----> 1\u001b[1;33m \u001b[0mcur_node\u001b[0m\u001b[1;33m.\u001b[0m\u001b[0mlm\u001b[0m\u001b[1;33m.\u001b[0m\u001b[0mpredict\u001b[0m\u001b[1;33m(\u001b[0m\u001b[0mdata\u001b[0m\u001b[1;33m[\u001b[0m\u001b[1;36m0\u001b[0m\u001b[1;33m:\u001b[0m\u001b[1;36m5\u001b[0m\u001b[1;33m,\u001b[0m\u001b[1;33m:\u001b[0m\u001b[1;33m]\u001b[0m\u001b[1;33m)\u001b[0m\u001b[1;33m\u001b[0m\u001b[0m\n\u001b[0m",
        "\u001b[1;32mC:\\Python27\\lib\\site-packages\\sklearn\\linear_model\\base.pyc\u001b[0m in \u001b[0;36mpredict\u001b[1;34m(self, X)\u001b[0m\n\u001b[0;32m    157\u001b[0m             \u001b[0mReturns\u001b[0m \u001b[0mpredicted\u001b[0m \u001b[0mvalues\u001b[0m\u001b[1;33m.\u001b[0m\u001b[1;33m\u001b[0m\u001b[0m\n\u001b[0;32m    158\u001b[0m         \"\"\"\n\u001b[1;32m--> 159\u001b[1;33m         \u001b[1;32mreturn\u001b[0m \u001b[0mself\u001b[0m\u001b[1;33m.\u001b[0m\u001b[0mdecision_function\u001b[0m\u001b[1;33m(\u001b[0m\u001b[0mX\u001b[0m\u001b[1;33m)\u001b[0m\u001b[1;33m\u001b[0m\u001b[0m\n\u001b[0m\u001b[0;32m    160\u001b[0m \u001b[1;33m\u001b[0m\u001b[0m\n\u001b[0;32m    161\u001b[0m     \u001b[0m_center_data\u001b[0m \u001b[1;33m=\u001b[0m \u001b[0mstaticmethod\u001b[0m\u001b[1;33m(\u001b[0m\u001b[0mcenter_data\u001b[0m\u001b[1;33m)\u001b[0m\u001b[1;33m\u001b[0m\u001b[0m\n",
        "\u001b[1;32mC:\\Python27\\lib\\site-packages\\sklearn\\linear_model\\base.pyc\u001b[0m in \u001b[0;36mdecision_function\u001b[1;34m(self, X)\u001b[0m\n\u001b[0;32m    142\u001b[0m         \u001b[0mX\u001b[0m \u001b[1;33m=\u001b[0m \u001b[0msafe_asarray\u001b[0m\u001b[1;33m(\u001b[0m\u001b[0mX\u001b[0m\u001b[1;33m)\u001b[0m\u001b[1;33m\u001b[0m\u001b[0m\n\u001b[0;32m    143\u001b[0m         return safe_sparse_dot(X, self.coef_.T,\n\u001b[1;32m--> 144\u001b[1;33m                                dense_output=True) + self.intercept_\n\u001b[0m\u001b[0;32m    145\u001b[0m \u001b[1;33m\u001b[0m\u001b[0m\n\u001b[0;32m    146\u001b[0m     \u001b[1;32mdef\u001b[0m \u001b[0mpredict\u001b[0m\u001b[1;33m(\u001b[0m\u001b[0mself\u001b[0m\u001b[1;33m,\u001b[0m \u001b[0mX\u001b[0m\u001b[1;33m)\u001b[0m\u001b[1;33m:\u001b[0m\u001b[1;33m\u001b[0m\u001b[0m\n",
        "\u001b[1;32mC:\\Python27\\lib\\site-packages\\sklearn\\utils\\extmath.pyc\u001b[0m in \u001b[0;36msafe_sparse_dot\u001b[1;34m(a, b, dense_output)\u001b[0m\n\u001b[0;32m     81\u001b[0m         \u001b[1;32mreturn\u001b[0m \u001b[0mret\u001b[0m\u001b[1;33m\u001b[0m\u001b[0m\n\u001b[0;32m     82\u001b[0m     \u001b[1;32melse\u001b[0m\u001b[1;33m:\u001b[0m\u001b[1;33m\u001b[0m\u001b[0m\n\u001b[1;32m---> 83\u001b[1;33m         \u001b[1;32mreturn\u001b[0m \u001b[0mnp\u001b[0m\u001b[1;33m.\u001b[0m\u001b[0mdot\u001b[0m\u001b[1;33m(\u001b[0m\u001b[0ma\u001b[0m\u001b[1;33m,\u001b[0m \u001b[0mb\u001b[0m\u001b[1;33m)\u001b[0m\u001b[1;33m\u001b[0m\u001b[0m\n\u001b[0m\u001b[0;32m     84\u001b[0m \u001b[1;33m\u001b[0m\u001b[0m\n\u001b[0;32m     85\u001b[0m \u001b[1;33m\u001b[0m\u001b[0m\n",
        "\u001b[1;31mValueError\u001b[0m: matrices are not aligned"
       ]
      }
     ],
     "prompt_number": 12
    },
    {
     "cell_type": "code",
     "collapsed": false,
     "input": [],
     "language": "python",
     "metadata": {},
     "outputs": []
    }
   ],
   "metadata": {}
  }
 ]
}