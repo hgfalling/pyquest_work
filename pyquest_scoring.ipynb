{
 "metadata": {
  "name": "pyquest_scoring"
 },
 "nbformat": 3,
 "nbformat_minor": 0,
 "worksheets": [
  {
   "cells": [
    {
     "cell_type": "code",
     "collapsed": false,
     "input": [
      "import cPickle\n",
      "fin = open(\"datadict.pickle\",\"rb\")\n",
      "datadict = cPickle.load(fin)\n",
      "fin.close()"
     ],
     "language": "python",
     "metadata": {},
     "outputs": [],
     "prompt_number": 2
    },
    {
     "cell_type": "code",
     "collapsed": false,
     "input": [
      "data = datadict[\"data\"]\n",
      "row_tree = datadict[\"row_tree\"]\n",
      "col_tree = datadict[\"col_tree\"]"
     ],
     "language": "python",
     "metadata": {},
     "outputs": [],
     "prompt_number": 3
    },
    {
     "cell_type": "code",
     "collapsed": false,
     "input": [
      "import tree_util\n",
      "coefs = tree_util.bitree_transform(data,row_tree,col_tree)\n",
      "recon_matrix, coefs_used = tree_util.inverse_bitree_transform(coefs,row_tree,col_tree,0.005)"
     ],
     "language": "python",
     "metadata": {},
     "outputs": [],
     "prompt_number": 4
    },
    {
     "cell_type": "code",
     "collapsed": false,
     "input": [
      "import scoring\n",
      "score = scoring.Score(data,recon_matrix)"
     ],
     "language": "python",
     "metadata": {},
     "outputs": [],
     "prompt_number": 5
    },
    {
     "cell_type": "code",
     "collapsed": false,
     "input": [
      "import numpy as np\n",
      "mat = np.zeros(np.shape(data.T))\n",
      "col_coefs = np.abs(tree_util.tree_transform(data.T,col_tree))\n",
      "\n",
      "for node in col_tree.traverse():\n",
      "    mat[node.elements,:] += col_coefs[node.idx,:]*(2.0**(1.0*node.level))"
     ],
     "language": "python",
     "metadata": {},
     "outputs": [],
     "prompt_number": 6
    },
    {
     "cell_type": "code",
     "collapsed": false,
     "input": [
      "import matplotlib.pyplot as plt\n",
      "x = np.sum(score.class_misses,axis=0)\n",
      "y = np.sum(mat,axis=1)\n",
      "plt.scatter(x,y)\n",
      "plt.show()"
     ],
     "language": "python",
     "metadata": {},
     "outputs": [],
     "prompt_number": 11
    },
    {
     "cell_type": "code",
     "collapsed": false,
     "input": [
      "reload(tree_util)\n",
      "mat = np.zeros(np.shape(data.T))\n",
      "ncol_coefs,folder_sizes = tree_util.normalize_tree_coefs(col_coefs,col_tree)\n",
      "for node in col_tree.traverse():\n",
      "    mat[node.elements,:] += ncol_coefs[node.idx,:]"
     ],
     "language": "python",
     "metadata": {},
     "outputs": [],
     "prompt_number": 46
    },
    {
     "cell_type": "code",
     "collapsed": false,
     "input": [
      "import matplotlib.pyplot as plt\n",
      "h = plt.hist(ncol_coefs.flatten(),cumulative=False,bins=np.arange(0.0,0.01,.0003))\n",
      "plt.show()"
     ],
     "language": "python",
     "metadata": {},
     "outputs": [],
     "prompt_number": 70
    },
    {
     "cell_type": "code",
     "collapsed": false,
     "input": [
      "col_coefs = tree_util.tree_transform(data.T,col_tree)\n",
      "ncol_coefs = np.abs(tree_util.normalize_tree_coefs(col_coefs,col_tree))\n",
      "\n",
      "random_data = np.random.rand(*np.shape(data.T))\n",
      "for question in xrange(567):\n",
      "    question_mean = ((1+np.mean(data[question,:]))/2)\n",
      "    column = random_data[:,question]\n",
      "    column[column > 1.0-question_mean] = 1\n",
      "    column[column < 1] = -1\n",
      "    \n",
      "random_col_coefs = tree_util.tree_transform(random_data,col_tree)\n",
      "random_ncol_coefs = np.abs(tree_util.normalize_tree_coefs(random_col_coefs,col_tree))\n",
      "    "
     ],
     "language": "python",
     "metadata": {},
     "outputs": [],
     "prompt_number": 168
    },
    {
     "cell_type": "code",
     "collapsed": false,
     "input": [
      "question_no = np.random.randint(567)\n",
      "#question_no = 255\n",
      "\n",
      "reload(tree_util)\n",
      "thres = min([node.idx for node in col_tree.dfs_level(3)])\n",
      "thres = 1\n",
      "x = np.arange(thres,3451)\n",
      "ysorted = -np.sort(-ncol_coefs[:,question_no])\n",
      "y = ysorted[thres:]\n",
      "#plt.plot(x,y,color='g')\n",
      "\n",
      "random_ysorted = -np.sort(-random_ncol_coefs[:,question_no])\n",
      "random_y = random_ysorted[thres:]\n",
      "#plt.plot(x,y,color='r')\n",
      "plt.plot(x,y-random_y,'b')\n",
      "plt.hlines(0.0,0,3500,linestyle='--',color='r')\n",
      "\n",
      "#plt.plot(x,y,color='g')\n",
      "#plt.plot(x,random_y,color='r')\n",
      "#plt.ylim([0,0.3])\n",
      "title_str = \"Question #{0}, p={1:.3f}\".format(question_no,(1+np.mean(data[question_no,:]))/2)\n",
      "plt.title(title_str)\n",
      "plt.show()\n"
     ],
     "language": "python",
     "metadata": {},
     "outputs": [],
     "prompt_number": 201
    },
    {
     "cell_type": "code",
     "collapsed": false,
     "input": [
      "random_ncol_coefs[:,255] - ncol_coefs[:,255]"
     ],
     "language": "python",
     "metadata": {},
     "outputs": [
      {
       "output_type": "pyout",
       "prompt_number": 155,
       "text": [
        "array([ 0.01400329, -0.15950613, -0.15950613, ...,  0.        ,\n",
        "        0.00032949, -0.00016474])"
       ]
      }
     ],
     "prompt_number": 155
    },
    {
     "cell_type": "code",
     "collapsed": false,
     "input": [
      "random_ncol_coefs[:,206]"
     ],
     "language": "python",
     "metadata": {},
     "outputs": [
      {
       "output_type": "pyout",
       "prompt_number": 169,
       "text": [
        "array([  3.59143328e-01,   6.79537738e-03,   6.79537738e-03, ...,\n",
        "         2.74574410e-04,   3.29489292e-04,   1.64744646e-04])"
       ]
      }
     ],
     "prompt_number": 169
    },
    {
     "cell_type": "code",
     "collapsed": false,
     "input": [
      "ncol_coefs[:,206]"
     ],
     "language": "python",
     "metadata": {},
     "outputs": [
      {
       "output_type": "pyout",
       "prompt_number": 170,
       "text": [
        "array([  3.35667216e-01,   1.61994944e-02,   1.61994944e-02, ...,\n",
        "         2.74574410e-04,   4.94233937e-04,   0.00000000e+00])"
       ]
      }
     ],
     "prompt_number": 170
    },
    {
     "cell_type": "code",
     "collapsed": false,
     "input": [
      "question_no = np.random.randint(567)\n",
      "plt.plot(ncol_coefs[:,question_no] - random_ncol_coefs[:,question_no])\n",
      "plt.show()"
     ],
     "language": "python",
     "metadata": {},
     "outputs": [],
     "prompt_number": 199
    },
    {
     "cell_type": "code",
     "collapsed": false,
     "input": [
      "question_no = np.random.randint(567)\n",
      "plt.plot(np.abs(random_col_coefs[1:31,question_no]),'r')\n",
      "plt.plot(np.abs(col_coefs[1:31,question_no]),'g')\n",
      "title_str = \"Question #{0}, p={1:.3f}\".format(question_no,(1+np.mean(data[question_no,:]))/2)\n",
      "plt.title(title_str)\n",
      "plt.show()         "
     ],
     "language": "python",
     "metadata": {},
     "outputs": [],
     "prompt_number": 195
    },
    {
     "cell_type": "code",
     "collapsed": false,
     "input": [
      "question_no = np.random.randint(567)\n",
      "plt.plot(np.abs(random_col_coefs[1000:,question_no]),'r')\n",
      "plt.plot(np.abs(col_coefs[1000:,question_no]),'g')\n",
      "title_str = \"Question #{0}, p={1:.3f}\".format(question_no,(1+np.mean(data[question_no,:]))/2)\n",
      "plt.title(title_str)\n",
      "plt.show()         "
     ],
     "language": "python",
     "metadata": {},
     "outputs": [],
     "prompt_number": 196
    },
    {
     "cell_type": "code",
     "collapsed": false,
     "input": [
      "question_no = np.random.randint(567)\n",
      "plt.plot(np.abs(random_col_coefs[1:31,question_no]),'r')\n",
      "plt.plot(np.abs(col_coefs[1:31,question_no]),'g')\n",
      "title_str = \"Question #{0}, p={1:.3f}\".format(question_no,(1+np.mean(data[question_no,:]))/2)\n",
      "plt.title(title_str)\n",
      "plt.show()         "
     ],
     "language": "python",
     "metadata": {},
     "outputs": []
    }
   ],
   "metadata": {}
  }
 ]
}