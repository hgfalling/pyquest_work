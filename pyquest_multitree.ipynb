{
 "metadata": {
  "name": "pyquest_multitree"
 },
 "nbformat": 3,
 "nbformat_minor": 0,
 "worksheets": [
  {
   "cells": [
    {
     "cell_type": "code",
     "collapsed": false,
     "input": [
      "import numpy as np\n",
      "import scipy.io\n",
      "import affinity \n",
      "reload(affinity)\n",
      "import bintree_cut\n",
      "reload(bintree_cut)\n",
      "import dual_affinity\n",
      "reload(dual_affinity)\n",
      "import matlab_util\n",
      "import tree_util\n",
      "reload(tree_util)\n",
      "import scoring\n",
      "import barcode\n",
      "import cPickle"
     ],
     "language": "python",
     "metadata": {},
     "outputs": [],
     "prompt_number": 1
    },
    {
     "cell_type": "code",
     "collapsed": false,
     "input": [
      "#load the pickled trees\n",
      "\n",
      "fin = open(\"tentrees.pickle\")\n",
      "col_trees = cPickle.load(fin)\n",
      "row_trees = cPickle.load(fin)\n",
      "fin.close()\n",
      "\n",
      "#Load data matrix (MMPI2 raw data)\n",
      "\n",
      "DEFAULT_DATA_PATH = (\"/users/jerrod/Google Drive/Yale_Research/Questionnaire_2D_20130614/Examples/\")\n",
      "DEFAULT_DATA_FILE = \"MMPI2.mat\"\n",
      "\n",
      "mdict = scipy.io.loadmat(DEFAULT_DATA_PATH+DEFAULT_DATA_FILE)\n",
      "data = mdict[\"matrix\"]"
     ],
     "language": "python",
     "metadata": {},
     "outputs": [],
     "prompt_number": 2
    },
    {
     "cell_type": "code",
     "collapsed": false,
     "input": [
      "recs = np.zeros([10,10,567,2428])"
     ],
     "language": "python",
     "metadata": {},
     "outputs": [],
     "prompt_number": 3
    },
    {
     "cell_type": "code",
     "collapsed": false,
     "input": [
      "reload(tree_util)\n",
      "used_coefs = {}\n",
      "for (ridx,row_tree) in enumerate(row_trees):\n",
      "    print ridx\n",
      "    for (cidx, col_tree) in enumerate(col_trees):        \n",
      "        coefs = tree_util.bitree_transform(data,row_tree,col_tree)\n",
      "        recs[ridx,cidx,:,:],used_coefs[(ridx,cidx)] = tree_util.inverse_bitree_transform(coefs,row_tree,col_tree,0.005)"
     ],
     "language": "python",
     "metadata": {},
     "outputs": [],
     "prompt_number": 4
    },
    {
     "cell_type": "code",
     "collapsed": false,
     "input": [
      "import med_avg\n",
      "#recs2 = np.reshape(recs,[100,567,2428])\n",
      "recon_matrix = med_avg.med_avg(recs2,10)"
     ],
     "language": "python",
     "metadata": {},
     "outputs": [],
     "prompt_number": 7
    },
    {
     "cell_type": "code",
     "collapsed": false,
     "input": [
      "recon_matrix = np.mean(np.mean(recs,axis=0),axis=0)"
     ],
     "language": "python",
     "metadata": {},
     "outputs": [],
     "prompt_number": 14
    },
    {
     "cell_type": "code",
     "collapsed": false,
     "input": [
      "score = scoring.Score(data,recon_matrix)\n",
      "print score.class_pct"
     ],
     "language": "python",
     "metadata": {},
     "outputs": [
      {
       "output_type": "stream",
       "stream": "stdout",
       "text": [
        "0.715344060621\n"
       ]
      }
     ],
     "prompt_number": 15
    },
    {
     "cell_type": "code",
     "collapsed": false,
     "input": [
      "scores = {}\n",
      "for i in xrange(10):\n",
      "    for j in xrange(10):\n",
      "        scores[10*i+j] = scoring.Score(data,recs[i,j,:,:])"
     ],
     "language": "python",
     "metadata": {},
     "outputs": [],
     "prompt_number": 16
    },
    {
     "cell_type": "code",
     "collapsed": false,
     "input": [
      "scoremat = np.zeros([10,10])\n",
      "for i in xrange(100):\n",
      "    scoremat[i/10,i%10] = scores[i].class_pct    "
     ],
     "language": "python",
     "metadata": {},
     "outputs": [],
     "prompt_number": 17
    },
    {
     "cell_type": "code",
     "collapsed": false,
     "input": [
      "scoremat"
     ],
     "language": "python",
     "metadata": {},
     "outputs": [
      {
       "output_type": "pyout",
       "prompt_number": 18,
       "text": [
        "array([[ 0.7121821 ,  0.71200341,  0.71275304,  0.71242544,  0.71225982,\n",
        "         0.71240074,  0.71262011,  0.71253367,  0.71276539,  0.71223948],\n",
        "       [ 0.71205861,  0.71237604,  0.7124465 ,  0.71249081,  0.71218791,\n",
        "         0.71228452,  0.71275231,  0.71231793,  0.71240582,  0.71234481],\n",
        "       [ 0.71312495,  0.71288887,  0.71299347,  0.71313948,  0.71292011,\n",
        "         0.71292955,  0.71327458,  0.71295933,  0.71354262,  0.71299565],\n",
        "       [ 0.71215667,  0.7123419 ,  0.71253149,  0.71227362,  0.71244578,\n",
        "         0.71228016,  0.71247556,  0.71234626,  0.71232374,  0.71250897],\n",
        "       [ 0.7120005 ,  0.71199832,  0.71221769,  0.71219081,  0.71210437,\n",
        "         0.71183416,  0.71215231,  0.7120775 ,  0.71269565,  0.7121683 ],\n",
        "       [ 0.71206079,  0.71226854,  0.71253875,  0.71275812,  0.71225619,\n",
        "         0.71223076,  0.71239638,  0.71228742,  0.71255837,  0.71224675],\n",
        "       [ 0.71191624,  0.7121603 ,  0.71230704,  0.71261139,  0.71226055,\n",
        "         0.71192786,  0.71273706,  0.71213488,  0.71260631,  0.71208476],\n",
        "       [ 0.71276321,  0.71258669,  0.7133356 ,  0.71293972,  0.71266224,\n",
        "         0.71277701,  0.71286127,  0.713085  ,  0.71305667,  0.71261866],\n",
        "       [ 0.71200341,  0.71229904,  0.7123913 ,  0.71234408,  0.7122235 ,\n",
        "         0.71202084,  0.71250316,  0.71227072,  0.71268911,  0.71234481],\n",
        "       [ 0.71240655,  0.71261212,  0.71256781,  0.71250171,  0.7126666 ,\n",
        "         0.71217701,  0.71272398,  0.71267313,  0.7130603 ,  0.71259904]])"
       ]
      }
     ],
     "prompt_number": 18
    },
    {
     "cell_type": "code",
     "collapsed": false,
     "input": [
      "norms = np.zeros([10,10])\n",
      "for i in xrange(10):\n",
      "    for j in xrange(10):\n",
      "        norms[i,j] = used_coefs[(i,j)] "
     ],
     "language": "python",
     "metadata": {},
     "outputs": [],
     "prompt_number": 20
    },
    {
     "cell_type": "code",
     "collapsed": false,
     "input": [
      "norms"
     ],
     "language": "python",
     "metadata": {},
     "outputs": [
      {
       "output_type": "pyout",
       "prompt_number": 21,
       "text": [
        "array([[ 63.72252045,  63.38850428,  63.01373372,  64.32779677,\n",
        "         63.67096312,  63.16777015,  63.70027175,  64.38844736,\n",
        "         63.77973201,  63.81782745],\n",
        "       [ 63.95301349,  63.65845343,  63.22610334,  64.69251806,\n",
        "         63.84810126,  63.46390526,  64.0767774 ,  64.45512648,\n",
        "         64.27625604,  64.00101493],\n",
        "       [ 63.55478684,  62.99056818,  62.74062816,  64.21907986,\n",
        "         63.25058956,  62.88009338,  63.53507293,  64.0246384 ,\n",
        "         63.69223784,  63.56613601],\n",
        "       [ 64.11086751,  63.57733133,  63.47317067,  64.79308915,\n",
        "         63.82176288,  63.36689012,  64.13220955,  64.67837168,\n",
        "         64.1924863 ,  64.12044425],\n",
        "       [ 64.36773912,  64.12404151,  64.25113307,  65.32368853,\n",
        "         64.89319198,  63.97398737,  64.72304236,  65.39972837,\n",
        "         64.73765715,  64.52520069],\n",
        "       [ 64.77981333,  64.44017495,  64.38087838,  65.68931268,\n",
        "         64.81982296,  64.48233889,  64.99174625,  65.56991924,\n",
        "         64.97980139,  64.95855943],\n",
        "       [ 64.3190824 ,  63.80276891,  63.59830345,  65.05466003,\n",
        "         64.05693474,  63.67112961,  64.52061882,  64.786594  ,\n",
        "         64.53410444,  64.37579409],\n",
        "       [ 64.97406962,  64.50081516,  64.3053327 ,  65.62170752,\n",
        "         64.89737764,  64.34180664,  64.8221761 ,  65.80176298,\n",
        "         65.05244982,  65.131549  ],\n",
        "       [ 64.77902894,  64.30102949,  64.22072882,  65.43048841,\n",
        "         64.71158486,  64.10095619,  64.81976851,  65.3940467 ,\n",
        "         64.93202547,  64.84198559],\n",
        "       [ 64.3318683 ,  64.00516665,  63.66525297,  64.98671115,\n",
        "         64.29197846,  63.7469438 ,  64.47160632,  64.88528403,\n",
        "         64.60068899,  64.38150251]])"
       ]
      }
     ],
     "prompt_number": 21
    },
    {
     "cell_type": "code",
     "collapsed": false,
     "input": [
      "np.argmin(norms)"
     ],
     "language": "python",
     "metadata": {},
     "outputs": [
      {
       "output_type": "pyout",
       "prompt_number": 25,
       "text": [
        "22"
       ]
      }
     ],
     "prompt_number": 25
    },
    {
     "cell_type": "code",
     "collapsed": false,
     "input": [],
     "language": "python",
     "metadata": {},
     "outputs": []
    }
   ],
   "metadata": {}
  }
 ]
}