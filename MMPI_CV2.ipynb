{
 "metadata": {
  "name": "MMPI_CV2"
 },
 "nbformat": 3,
 "nbformat_minor": 0,
 "worksheets": [
  {
   "cells": [
    {
     "cell_type": "code",
     "collapsed": false,
     "input": [
      "from imports import *\n",
      "import run_quest"
     ],
     "language": "python",
     "metadata": {},
     "outputs": [],
     "prompt_number": 4
    },
    {
     "cell_type": "code",
     "collapsed": false,
     "input": [
      "%run py_load_data.py de\n",
      "train_data = data[:,0:2000]\n",
      "test_data = data[:,2000:]"
     ],
     "language": "python",
     "metadata": {},
     "outputs": [],
     "prompt_number": 38
    },
    {
     "cell_type": "code",
     "collapsed": false,
     "input": [
      "kwargs = {}\n",
      "kwargs[\"n_iters\"] = 3\n",
      "kwargs[\"threshold\"] = 0.1\n",
      "kwargs[\"row_alpha\"] = 0.5\n",
      "kwargs[\"col_alpha\"] = 0.5\n",
      "kwargs[\"row_beta\"] = 1.0\n",
      "kwargs[\"col_beta\"] = 1.0\n",
      "kwargs[\"tree_constant\"] = 0.3\n",
      "params = run_quest.PyQuestParams(run_quest.INIT_AFF_COS_SIM,run_quest.TREE_TYPE_FLEXIBLE,\n",
      "                             run_quest.DUAL_EMD,run_quest.DUAL_EMD,**kwargs)"
     ],
     "language": "python",
     "metadata": {},
     "outputs": [],
     "prompt_number": 12
    },
    {
     "cell_type": "code",
     "collapsed": false,
     "input": [
      "qrun = run_quest.pyquest(train_data,params)\n"
     ],
     "language": "python",
     "metadata": {},
     "outputs": [],
     "prompt_number": 13
    },
    {
     "cell_type": "code",
     "collapsed": false,
     "input": [
      "row_tree = qrun.row_trees[-1]\n",
      "col_tree = qrun.col_trees[-1]\n",
      "recon = tree_recon.recon_2d_haar_folder_size(train_data,row_tree,col_tree,0.001)\n",
      "train_recon = tree_recon.threshold_recon(recon,-1.0,1.0)"
     ],
     "language": "python",
     "metadata": {},
     "outputs": [],
     "prompt_number": 15
    },
    {
     "cell_type": "code",
     "collapsed": false,
     "input": [
      "emds = dual_affinity.calc_emd_ref(train_data, test_data, row_tree,\n",
      "                                      0.5, 1.0)"
     ],
     "language": "python",
     "metadata": {},
     "outputs": [],
     "prompt_number": 16
    },
    {
     "cell_type": "code",
     "collapsed": false,
     "input": [
      "emds.shape"
     ],
     "language": "python",
     "metadata": {},
     "outputs": [
      {
       "output_type": "pyout",
       "prompt_number": 17,
       "text": [
        "(2000, 428)"
       ]
      }
     ],
     "prompt_number": 17
    },
    {
     "cell_type": "code",
     "collapsed": false,
     "input": [
      "np.median(emds)"
     ],
     "language": "python",
     "metadata": {},
     "outputs": [
      {
       "output_type": "pyout",
       "prompt_number": 18,
       "text": [
        "1.1019710515145889"
       ]
      }
     ],
     "prompt_number": 18
    },
    {
     "cell_type": "code",
     "collapsed": false,
     "input": [
      "np.max(emds)"
     ],
     "language": "python",
     "metadata": {},
     "outputs": [
      {
       "output_type": "pyout",
       "prompt_number": 19,
       "text": [
        "4.2361019468746868"
       ]
      }
     ],
     "prompt_number": 19
    },
    {
     "cell_type": "code",
     "collapsed": false,
     "input": [
      "plt.hist(emds[:,0])"
     ],
     "language": "python",
     "metadata": {},
     "outputs": [
      {
       "output_type": "pyout",
       "prompt_number": 23,
       "text": [
        "(array([169, 472, 413, 270, 217, 165, 124,  90,  55,  25]),\n",
        " array([ 0.38935538,  0.58692396,  0.78449253,  0.98206111,  1.17962968,\n",
        "        1.37719825,  1.57476683,  1.7723354 ,  1.96990398,  2.16747255,\n",
        "        2.36504113]),\n",
        " <a list of 10 Patch objects>)"
       ]
      },
      {
       "output_type": "display_data",
       "png": "[encoded data removed]"
      }
     ],
     "prompt_number": 23
    },
    {
     "cell_type": "code",
     "collapsed": false,
     "input": [
      "np.sort(emds,axis=0)"
     ],
     "language": "python",
     "metadata": {},
     "outputs": [
      {
       "output_type": "pyout",
       "prompt_number": 43,
       "text": [
        "array([[ 0.38935538,  0.38667317,  0.38927436, ...,  0.37890632,\n",
        "         0.3853596 ,  0.36630235],\n",
        "       [ 0.39439191,  0.39477933,  0.39441026, ...,  0.37969952,\n",
        "         0.40974455,  0.36940175],\n",
        "       [ 0.40346473,  0.39698549,  0.39920686, ...,  0.38862485,\n",
        "         0.42447745,  0.37520932],\n",
        "       ..., \n",
        "       [ 2.35400902,  2.61069935,  2.22649757, ...,  2.34841542,\n",
        "         2.97145307,  2.42792039],\n",
        "       [ 2.35600881,  2.64177371,  2.23875843, ...,  2.37222114,\n",
        "         2.99033305,  2.44031038],\n",
        "       [ 2.36504113,  2.7754504 ,  2.36422196, ...,  2.52977002,\n",
        "         3.02005333,  2.57493157]])"
       ]
      }
     ],
     "prompt_number": 43
    },
    {
     "cell_type": "code",
     "collapsed": false,
     "input": [
      "for i in np.arange(1.0,7.0,0.5):\n",
      "    eps = emds[20,:]/i\n",
      "    kemds = np.exp(-(emds/eps)**2)\n",
      "    #kemds = 1.0/(1.0+emds/(eps**2))\n",
      "    phat_new = train_data.dot(kemds)/np.sum(kemds,axis=0)\n",
      "    #cplot(phat_new)\n",
      "    print i, np.sum((np.sign(phat_new)*test_data) > 0)*1.0/test_data.size, np.sum((np.sign(train_recon)*train_data) > 0)*1.0/train_data.size"
     ],
     "language": "python",
     "metadata": {},
     "outputs": [
      {
       "output_type": "stream",
       "stream": "stdout",
       "text": [
        "1.0 0.70172163708 0.732649029982\n",
        "1.5"
       ]
      },
      {
       "output_type": "stream",
       "stream": "stdout",
       "text": [
        " 0.711825644069 0.732649029982\n",
        "2.0"
       ]
      },
      {
       "output_type": "stream",
       "stream": "stdout",
       "text": [
        " 0.718418797079 0.732649029982\n",
        "2.5"
       ]
      },
      {
       "output_type": "stream",
       "stream": "stdout",
       "text": [
        " 0.723647991561 0.732649029982\n",
        "3.0"
       ]
      },
      {
       "output_type": "stream",
       "stream": "stdout",
       "text": [
        " 0.727851126605 0.732649029982\n",
        "3.5"
       ]
      },
      {
       "output_type": "stream",
       "stream": "stdout",
       "text": [
        " 0.730088677908 0.732649029982\n",
        "4.0"
       ]
      },
      {
       "output_type": "stream",
       "stream": "stdout",
       "text": [
        " 0.730916942755 0.732649029982\n",
        "4.5"
       ]
      },
      {
       "output_type": "stream",
       "stream": "stdout",
       "text": [
        " 0.729664243683 0.732649029982\n",
        "5.0"
       ]
      },
      {
       "output_type": "stream",
       "stream": "stdout",
       "text": [
        " 0.727801677957 0.732649029982\n",
        "5.5"
       ]
      },
      {
       "output_type": "stream",
       "stream": "stdout",
       "text": [
        " 0.724657568116 0.732649029982\n",
        "6.0"
       ]
      },
      {
       "output_type": "stream",
       "stream": "stdout",
       "text": [
        " 0.721414560978 0.732649029982\n",
        "6.5"
       ]
      },
      {
       "output_type": "stream",
       "stream": "stdout",
       "text": [
        " 0.718183916003 0.732649029982\n"
       ]
      }
     ],
     "prompt_number": 117
    },
    {
     "cell_type": "code",
     "collapsed": false,
     "input": [
      "import sklearn.decomposition as skd"
     ],
     "language": "python",
     "metadata": {},
     "outputs": [],
     "prompt_number": 118
    },
    {
     "cell_type": "code",
     "collapsed": false,
     "input": [
      "pca = skd.PCA(n_components=10)\n",
      "pca.fit(train_data.T)\n",
      "pca_recon = pca.inverse_transform(pca.transform(test_data.T))\n",
      "tree_recon.threshold_recon(pca_recon,-1.0,1.0)"
     ],
     "language": "python",
     "metadata": {},
     "outputs": [
      {
       "output_type": "pyout",
       "prompt_number": 128,
       "text": [
        "array([[-0.08190581,  0.01456741,  1.        , ...,  1.        ,\n",
        "         0.37414595, -0.81274103],\n",
        "       [-0.02652443,  0.19262199,  0.99706282, ...,  0.23992383,\n",
        "         0.08382792, -0.79009571],\n",
        "       [-0.62313134, -0.17274979,  0.66868952, ...,  0.48180318,\n",
        "         0.26856131, -0.17468151],\n",
        "       ..., \n",
        "       [ 0.35174691, -0.15300958,  0.42925018, ...,  0.32376843,\n",
        "         0.52675808, -0.23862599],\n",
        "       [-0.34940797, -0.34189839,  0.15944212, ...,  0.56811069,\n",
        "         0.31951148,  0.26855575],\n",
        "       [ 0.423996  , -0.1286382 ,  0.97312093, ...,  0.59418421,\n",
        "         0.39674662, -0.73422658]])"
       ]
      }
     ],
     "prompt_number": 128
    },
    {
     "cell_type": "code",
     "collapsed": false,
     "input": [
      "np.sum((np.sign(pca_recon.T)*test_data) > 0)*1.0/pca_recon.size"
     ],
     "language": "python",
     "metadata": {},
     "outputs": [
      {
       "output_type": "pyout",
       "prompt_number": 129,
       "text": [
        "0.76119187723549098"
       ]
      }
     ],
     "prompt_number": 129
    },
    {
     "cell_type": "code",
     "collapsed": false,
     "input": [],
     "language": "python",
     "metadata": {},
     "outputs": []
    }
   ],
   "metadata": {}
  }
 ]
}