{
 "metadata": {
  "name": "recon_work2"
 },
 "nbformat": 3,
 "nbformat_minor": 0,
 "worksheets": [
  {
   "cells": [
    {
     "cell_type": "code",
     "collapsed": false,
     "input": [
      "from imports import *\n",
      "import wallenius\n",
      "import haar\n",
      "reload(tree_recon)\n",
      "reload(wallenius)"
     ],
     "language": "python",
     "metadata": {},
     "outputs": [
      {
       "output_type": "pyout",
       "prompt_number": 56,
       "text": [
        "<module 'wallenius' from 'wallenius.pyc'>"
       ]
      }
     ],
     "prompt_number": 56
    },
    {
     "cell_type": "code",
     "collapsed": false,
     "input": [
      "fin = open(\"artq_data.pickle\",\"rb\")\n",
      "data = cPickle.load(fin)\n",
      "means = cPickle.load(fin)\n",
      "means = means*2 - 1.0\n",
      "row_tree = cPickle.load(fin)\n",
      "col_tree = cPickle.load(fin)\n",
      "fin.close()"
     ],
     "language": "python",
     "metadata": {},
     "outputs": [],
     "prompt_number": 30
    },
    {
     "cell_type": "code",
     "collapsed": false,
     "input": [
      "def error_rate(data,recon_data):\n",
      "    return \"L1: {0:12.5f} -- L2: {1:12.5f}\".format(np.sum(np.abs(recon_data-data)),np.linalg.norm(recon_data-data)) , np.sum(np.abs(recon_data-data)),np.linalg.norm(recon_data-data)"
     ],
     "language": "python",
     "metadata": {},
     "outputs": [],
     "prompt_number": 3
    },
    {
     "cell_type": "code",
     "collapsed": false,
     "input": [
      "for alp in [0.01,0.015,0.02,0.025,0.03,0.035,0.04,0.045,0.05,0.075]:\n",
      "    hrecon,coefs = tree_recon.recon_2d_partition_hypo_test(data,row_tree,col_tree,alp)\n",
      "    herror = error_rate(hrecon,means)\n",
      "    print \"{0:4.3f}: Hypergeometric hypothesis test: {1}\".format(alp,herror[0])"
     ],
     "language": "python",
     "metadata": {},
     "outputs": [
      {
       "output_type": "stream",
       "stream": "stdout",
       "text": [
        "0.010: Hypergeometric hypothesis test: L1:    891.92324 -- L2:     19.17236\n",
        "0.015: Hypergeometric hypothesis test: L1:    915.41426 -- L2:     19.92744"
       ]
      },
      {
       "output_type": "stream",
       "stream": "stdout",
       "text": [
        "\n",
        "0.020: Hypergeometric hypothesis test: L1:    912.75605 -- L2:     19.79527"
       ]
      },
      {
       "output_type": "stream",
       "stream": "stdout",
       "text": [
        "\n",
        "0.025: Hypergeometric hypothesis test: L1:    924.53027 -- L2:     19.72616"
       ]
      },
      {
       "output_type": "stream",
       "stream": "stdout",
       "text": [
        "\n",
        "0.030: Hypergeometric hypothesis test: L1:    950.44668 -- L2:     20.42391"
       ]
      },
      {
       "output_type": "stream",
       "stream": "stdout",
       "text": [
        "\n",
        "0.035: Hypergeometric hypothesis test: L1:    967.48926 -- L2:     20.47044"
       ]
      },
      {
       "output_type": "stream",
       "stream": "stdout",
       "text": [
        "\n",
        "0.040: Hypergeometric hypothesis test: L1:    967.48926 -- L2:     20.47044"
       ]
      },
      {
       "output_type": "stream",
       "stream": "stdout",
       "text": [
        "\n",
        "0.045: Hypergeometric hypothesis test: L1:    982.46426 -- L2:     20.68729"
       ]
      },
      {
       "output_type": "stream",
       "stream": "stdout",
       "text": [
        "\n",
        "0.050: Hypergeometric hypothesis test: L1:    982.73691 -- L2:     20.76005"
       ]
      },
      {
       "output_type": "stream",
       "stream": "stdout",
       "text": [
        "\n",
        "0.075: Hypergeometric hypothesis test: L1:    993.73457 -- L2:     20.87702"
       ]
      },
      {
       "output_type": "stream",
       "stream": "stdout",
       "text": [
        "\n"
       ]
      }
     ],
     "prompt_number": 57
    },
    {
     "cell_type": "code",
     "collapsed": false,
     "input": [
      "for alp in [0.01,0.015,0.02,0.025,0.03,0.035,0.04,0.045,0.05,0.075]:\n",
      "#for alp in [0.05]:  \n",
      "    hrecon,coefs = tree_recon.recon_2d_bitree_hypo_test(data,row_tree,col_tree,alp)\n",
      "    herror = error_rate(hrecon,means)\n",
      "    print \"{0:4.3f}: Hypergeometric hypothesis test: {1}\".format(alp,herror[0])"
     ],
     "language": "python",
     "metadata": {},
     "outputs": [
      {
       "output_type": "stream",
       "stream": "stdout",
       "text": [
        "0.010: Hypergeometric hypothesis test: L1:   1434.88555 -- L2:     27.75759\n",
        "0.015: Hypergeometric hypothesis test: L1:   1423.86562 -- L2:     27.55977"
       ]
      },
      {
       "output_type": "stream",
       "stream": "stdout",
       "text": [
        "\n",
        "0.020: Hypergeometric hypothesis test: L1:   1450.89414 -- L2:     27.95651"
       ]
      },
      {
       "output_type": "stream",
       "stream": "stdout",
       "text": [
        "\n",
        "0.025: Hypergeometric hypothesis test: L1:   1373.09180 -- L2:     26.74906"
       ]
      },
      {
       "output_type": "stream",
       "stream": "stdout",
       "text": [
        "\n",
        "0.030: Hypergeometric hypothesis test: L1:   1333.09844 -- L2:     25.97295"
       ]
      },
      {
       "output_type": "stream",
       "stream": "stdout",
       "text": [
        "\n",
        "0.035: Hypergeometric hypothesis test: L1:   1334.66172 -- L2:     26.02414"
       ]
      },
      {
       "output_type": "stream",
       "stream": "stdout",
       "text": [
        "\n",
        "0.040: Hypergeometric hypothesis test: L1:   1290.51016 -- L2:     25.41995"
       ]
      },
      {
       "output_type": "stream",
       "stream": "stdout",
       "text": [
        "\n",
        "0.045: Hypergeometric hypothesis test: L1:   1261.22031 -- L2:     24.76176"
       ]
      },
      {
       "output_type": "stream",
       "stream": "stdout",
       "text": [
        "\n",
        "0.050: Hypergeometric hypothesis test: L1:   1261.81172 -- L2:     24.72706"
       ]
      },
      {
       "output_type": "stream",
       "stream": "stdout",
       "text": [
        "\n",
        "0.075: Hypergeometric hypothesis test: L1:   1275.48750 -- L2:     25.43901"
       ]
      },
      {
       "output_type": "stream",
       "stream": "stdout",
       "text": [
        "\n"
       ]
      }
     ],
     "prompt_number": 58
    },
    {
     "cell_type": "code",
     "collapsed": false,
     "input": [
      "fig = plt.figure()\n",
      "fig.add_subplot(211)\n",
      "plt.imshow(barcode.organize_folders(row_tree,col_tree,hrecon),aspect='auto',interpolation='nearest',cmap=cmap, norm=cnorm)\n",
      "fig.add_subplot(212)\n",
      "plt.imshow(barcode.organize_folders(row_tree,col_tree,means),aspect='auto',interpolation='nearest',cmap=cmap,norm=cnorm)\n",
      "#plt.imshow(coefs,aspect='auto',interpolation='nearest',cmap=cmap, norm=cnorm)\n",
      "plt.show()"
     ],
     "language": "python",
     "metadata": {},
     "outputs": [],
     "prompt_number": 6
    },
    {
     "cell_type": "code",
     "collapsed": false,
     "input": [
      "plt.imshow(coefs,aspect='auto',interpolation='nearest',cmap=cmap,norm=cnorm)\n",
      "plt.show()"
     ],
     "language": "python",
     "metadata": {},
     "outputs": [],
     "prompt_number": 36
    },
    {
     "cell_type": "code",
     "collapsed": false,
     "input": [
      "#crecon = haar.inverse_bihaar_transform(coefs,row_tree,col_tree)\n",
      "fig = plt.figure()\n",
      "fig.add_subplot(211)\n",
      "#plt.imshow(barcode.organize_folders(row_tree,col_tree,crecon),aspect='auto',interpolation='nearest',cmap=bwmap,norm=cnorm)\n",
      "plt.imshow(barcode.organize_folders(row_tree,col_tree,crecon),aspect='auto',interpolation='nearest',cmap=bwmap,norm=cnorm)\n",
      "fig.add_subplot(212)\n",
      "plt.imshow(barcode.organize_folders(row_tree,col_tree,means),aspect='auto',interpolation='nearest',cmap=bwmap,norm=cnorm)\n",
      "plt.show()"
     ],
     "language": "python",
     "metadata": {},
     "outputs": [],
     "prompt_number": 24
    },
    {
     "cell_type": "code",
     "collapsed": false,
     "input": [
      "error_rate(crecon,means)"
     ],
     "language": "python",
     "metadata": {},
     "outputs": [
      {
       "output_type": "pyout",
       "prompt_number": 28,
       "text": [
        "('L1:  76682.70918 -- L2:    199.32149', 76682.70918427952, 199.32148744725114)"
       ]
      }
     ],
     "prompt_number": 28
    },
    {
     "cell_type": "code",
     "collapsed": false,
     "input": [
      "plt.imshow(coefs,aspect='auto',interpolation='nearest',cmap=bwmap,norm=cnorm)\n",
      "plt.show()"
     ],
     "language": "python",
     "metadata": {},
     "outputs": [],
     "prompt_number": 29
    },
    {
     "cell_type": "code",
     "collapsed": false,
     "input": [
      "print row_nodes[200],col_nodes[1000]\n",
      "rp = row_tree[row_nodes[200]]\n",
      "cp = col_tree[col_nodes[1000]]\n",
      "print rp.size,cp.size\n",
      "print data[rp.elements,:][:,cp.elements]\n",
      "print wallenius.partition_htest_value(4,3,2,2,0.2)\n",
      "import scipy.stats\n",
      "print scipy.stats.hypergeom(4,3,2).cdf([0,1])\n",
      "print wallenius.partition_htest(4,3,2,0.2)"
     ],
     "language": "python",
     "metadata": {},
     "outputs": [
      {
       "output_type": "stream",
       "stream": "stdout",
       "text": [
        "199 999\n",
        "2 2\n",
        "[[ 1. -1.]\n",
        " [ 1.  1.]]\n",
        "False\n",
        "[ 0.   0.5]\n",
        "(0, -1)\n"
       ]
      }
     ],
     "prompt_number": 115
    },
    {
     "cell_type": "code",
     "collapsed": false,
     "input": [
      "avgs = barcode.level_avgs(data,col_tree)"
     ],
     "language": "python",
     "metadata": {},
     "outputs": [],
     "prompt_number": 5
    },
    {
     "cell_type": "code",
     "collapsed": false,
     "input": [
      "for alp in np.arange(0.025,0.5, 0.025):\n",
      "    new_coefs = coefs.copy()\n",
      "    parent = col_tree\n",
      "    for parent in col_tree:\n",
      "        #print parent.idx\n",
      "        n_parents = np.sum(np.abs(d[parent.elements,:]),axis=0) #this is the parent size for each question\n",
      "        k_parents = np.sum(d[parent.elements,:]>0,axis=0) #parent k for each question\n",
      "        for q_no in xrange(coefs.shape[1]):\n",
      "            inc_flag = False\n",
      "            for idx,child in enumerate(parent.children):\n",
      "                left,right = wallenius.partition_htest(n_parents[q_no],k_parents[q_no],child.size,alp)\n",
      "                child_elem = child.elements\n",
      "                actual = np.sum(data.T[child_elem,q_no]>0)\n",
      "                if left == -1 and right == -1:\n",
      "                    continue\n",
      "                elif left == -1 and actual > right:\n",
      "                    inc_flag = True\n",
      "                    break\n",
      "                elif actual < left and right == -1:\n",
      "                    inc_flag = True\n",
      "                    break\n",
      "                elif actual < left or actual > right:\n",
      "                    inc_flag = True\n",
      "                    break\n",
      "            if not inc_flag:\n",
      "                new_coefs[nodes==parent.idx,q_no] = 0.0\n",
      "    print alp, error_rate(hb.dot(new_coefs).T,means)"
     ],
     "language": "python",
     "metadata": {},
     "outputs": [
      {
       "output_type": "stream",
       "stream": "stdout",
       "text": [
        "0.025 "
       ]
      },
      {
       "output_type": "stream",
       "stream": "stdout",
       "text": [
        "('L1: 125427.45430 -- L2:    302.12105', 125427.45429538544, 302.12105343696334)\n",
        "0.05"
       ]
      },
      {
       "output_type": "stream",
       "stream": "stdout",
       "text": [
        " ('L1: 123264.84695 -- L2:    298.76448', 123264.84695157973, 298.76447771543195)\n",
        "0.075"
       ]
      },
      {
       "output_type": "stream",
       "stream": "stdout",
       "text": [
        " ('L1: 122042.66705 -- L2:    297.00577', 122042.66704952026, 297.00576855514345)\n",
        "0.1"
       ]
      },
      {
       "output_type": "stream",
       "stream": "stdout",
       "text": [
        " ('L1: 121197.19495 -- L2:    295.71621', 121197.19495314322, 295.7162062518986)\n",
        "0.125"
       ]
      },
      {
       "output_type": "stream",
       "stream": "stdout",
       "text": [
        " ('L1: 120407.53721 -- L2:    294.55886', 120407.53720852332, 294.55886319168513)\n",
        "0.15"
       ]
      },
      {
       "output_type": "stream",
       "stream": "stdout",
       "text": [
        " ('L1: 119660.53879 -- L2:    293.45161', 119660.53879019513, 293.4516084866047)\n",
        "0.175"
       ]
      },
      {
       "output_type": "stream",
       "stream": "stdout",
       "text": [
        " ('L1: 118979.04971 -- L2:    292.62802', 118979.04971192566, 292.62801891819385)\n",
        "0.2"
       ]
      },
      {
       "output_type": "stream",
       "stream": "stdout",
       "text": [
        " ('L1: 118454.24273 -- L2:    292.06061', 118454.24272834843, 292.06061141416825)\n",
        "0.225"
       ]
      },
      {
       "output_type": "stream",
       "stream": "stdout",
       "text": [
        " ('L1: 118164.73038 -- L2:    291.68346', 118164.73037792175, 291.68345607047183)\n",
        "0.25"
       ]
      },
      {
       "output_type": "stream",
       "stream": "stdout",
       "text": [
        " ('L1: 117841.33909 -- L2:    291.29483', 117841.33909406998, 291.29482740339938)\n",
        "0.275"
       ]
      },
      {
       "output_type": "stream",
       "stream": "stdout",
       "text": [
        " ('L1: 117546.67921 -- L2:    290.95152', 117546.67920789117, 290.95151984730404)\n",
        "0.3"
       ]
      },
      {
       "output_type": "stream",
       "stream": "stdout",
       "text": [
        " ('L1: 117417.94364 -- L2:    291.08283', 117417.94363980637, 291.08283150061573)\n",
        "0.325"
       ]
      },
      {
       "output_type": "stream",
       "stream": "stdout",
       "text": [
        " ('L1: 117224.46511 -- L2:    290.89772', 117224.46510750912, 290.89771995006618)\n",
        "0.35"
       ]
      },
      {
       "output_type": "stream",
       "stream": "stdout",
       "text": [
        " ('L1: 122995.51580 -- L2:    309.65977', 122995.51580208144, 309.65977123484669)\n",
        "0.375"
       ]
      },
      {
       "output_type": "stream",
       "stream": "stdout",
       "text": [
        " ('L1: 122847.13081 -- L2:    309.41269', 122847.13081204779, 309.41269276401528)\n",
        "0.4"
       ]
      },
      {
       "output_type": "stream",
       "stream": "stdout",
       "text": [
        " ('L1: 123835.63831 -- L2:    312.50900', 123835.63830682963, 312.50900494767222)\n",
        "0.425"
       ]
      },
      {
       "output_type": "stream",
       "stream": "stdout",
       "text": [
        " ('L1: 124751.43628 -- L2:    315.31122', 124751.43628029805, 315.31122019480352)\n",
        "0.45"
       ]
      },
      {
       "output_type": "stream",
       "stream": "stdout",
       "text": [
        " ('L1: 124603.31282 -- L2:    315.07529', 124603.31282408068, 315.07528743283052)\n",
        "0.475"
       ]
      },
      {
       "output_type": "stream",
       "stream": "stdout",
       "text": [
        " ('L1: 124565.22254 -- L2:    315.04484', 124565.22253741932, 315.044837559352)\n"
       ]
      }
     ],
     "prompt_number": 201
    },
    {
     "cell_type": "code",
     "collapsed": false,
     "input": [
      "#1D Hypothesis testing for coefficients\n",
      "for alp in np.arange(0.1,0.5,0.025):\n",
      "    hrecon = tree_recon.recon_1d_partition_hypo_test(data.T,col_tree,alp).T\n",
      "    herror = error_rate(hrecon,means)\n",
      "    print \"{0:4.3f}: Hypergeometric hypothesis test: {1}\".format(alp,herror[0])"
     ],
     "language": "python",
     "metadata": {},
     "outputs": [
      {
       "output_type": "stream",
       "stream": "stdout",
       "text": [
        "0.100: Hypergeometric hypothesis test: L1: 121197.19495 -- L2:    295.71621\n",
        "0.125: Hypergeometric hypothesis test: L1: 120407.53721 -- L2:    294.55886"
       ]
      },
      {
       "output_type": "stream",
       "stream": "stdout",
       "text": [
        "\n",
        "0.150: Hypergeometric hypothesis test: L1: 119660.53879 -- L2:    293.45161"
       ]
      },
      {
       "output_type": "stream",
       "stream": "stdout",
       "text": [
        "\n",
        "0.175: Hypergeometric hypothesis test: L1: 118979.04971 -- L2:    292.62802"
       ]
      },
      {
       "output_type": "stream",
       "stream": "stdout",
       "text": [
        "\n",
        "0.200: Hypergeometric hypothesis test: L1: 118454.24273 -- L2:    292.06061"
       ]
      },
      {
       "output_type": "stream",
       "stream": "stdout",
       "text": [
        "\n",
        "0.225: Hypergeometric hypothesis test: L1: 118164.73038 -- L2:    291.68346"
       ]
      },
      {
       "output_type": "stream",
       "stream": "stdout",
       "text": [
        "\n",
        "0.250: Hypergeometric hypothesis test: L1: 117841.33909 -- L2:    291.29483"
       ]
      },
      {
       "output_type": "stream",
       "stream": "stdout",
       "text": [
        "\n",
        "0.275: Hypergeometric hypothesis test: L1: 117546.67921 -- L2:    290.95152"
       ]
      },
      {
       "output_type": "stream",
       "stream": "stdout",
       "text": [
        "\n",
        "0.300: Hypergeometric hypothesis test: L1: 117417.94364 -- L2:    291.08283"
       ]
      },
      {
       "output_type": "stream",
       "stream": "stdout",
       "text": [
        "\n",
        "0.325: Hypergeometric hypothesis test: L1: 117224.46511 -- L2:    290.89772"
       ]
      },
      {
       "output_type": "stream",
       "stream": "stdout",
       "text": [
        "\n",
        "0.350: Hypergeometric hypothesis test: L1: 122995.51580 -- L2:    309.65977"
       ]
      },
      {
       "output_type": "stream",
       "stream": "stdout",
       "text": [
        "\n",
        "0.375: Hypergeometric hypothesis test: L1: 122847.13081 -- L2:    309.41269"
       ]
      },
      {
       "output_type": "stream",
       "stream": "stdout",
       "text": [
        "\n",
        "0.400: Hypergeometric hypothesis test: L1: 123835.63831 -- L2:    312.50900"
       ]
      },
      {
       "output_type": "stream",
       "stream": "stdout",
       "text": [
        "\n",
        "0.425: Hypergeometric hypothesis test: L1: 124751.43628 -- L2:    315.31122"
       ]
      },
      {
       "output_type": "stream",
       "stream": "stdout",
       "text": [
        "\n",
        "0.450: Hypergeometric hypothesis test: L1: 124603.31282 -- L2:    315.07529"
       ]
      },
      {
       "output_type": "stream",
       "stream": "stdout",
       "text": [
        "\n",
        "0.475: Hypergeometric hypothesis test: L1: 124565.22254 -- L2:    315.04484"
       ]
      },
      {
       "output_type": "stream",
       "stream": "stdout",
       "text": [
        "\n"
       ]
      }
     ],
     "prompt_number": 9
    },
    {
     "cell_type": "code",
     "collapsed": false,
     "input": [
      "bc = tree_util.bitree_transform(data,row_tree,col_tree)"
     ],
     "language": "python",
     "metadata": {},
     "outputs": [],
     "prompt_number": 35
    },
    {
     "cell_type": "code",
     "collapsed": false,
     "input": [
      "crecon,coefs, hypo_tests = tree_recon.recon_2d_bitree_hypo_test(data,row_tree,col_tree,0.25)\n",
      "herror = error_rate(crecon,means)\n",
      "print \"{0:4.3f}: Hypergeometric hypothesis test: {1}\".format(alp,herror[0])"
     ],
     "language": "python",
     "metadata": {},
     "outputs": [
      {
       "output_type": "stream",
       "stream": "stdout",
       "text": [
        "1 0 N:4096 K:2065 n:2048 k:1025 False\n",
        "2 0 N:4096 K:2065 n:2048 k:1040 False"
       ]
      },
      {
       "output_type": "stream",
       "stream": "stdout",
       "text": [
        "\n",
        "3 0 N:2048 K:1025 n:1024 k:516 False"
       ]
      },
      {
       "output_type": "stream",
       "stream": "stdout",
       "text": [
        "\n",
        "4 0 N:2048 K:1040 n:1024 k:526 False"
       ]
      },
      {
       "output_type": "stream",
       "stream": "stdout",
       "text": [
        "\n",
        "5 0 N:2048 K:1040 n:1024 k:514 False"
       ]
      },
      {
       "output_type": "stream",
       "stream": "stdout",
       "text": [
        "\n",
        "6 0 N:2048 K:1025 n:1024 k:509 False"
       ]
      },
      {
       "output_type": "stream",
       "stream": "stdout",
       "text": [
        "\n",
        "7 0 N:1024 K:516 n:512 k:249 False"
       ]
      },
      {
       "output_type": "stream",
       "stream": "stdout",
       "text": [
        "\n",
        "8 0 N:1024 K:516 n:512 k:267 False"
       ]
      },
      {
       "output_type": "stream",
       "stream": "stdout",
       "text": [
        "\n",
        "9 0 N:1024 K:526 n:512 k:274 True"
       ]
      },
      {
       "output_type": "stream",
       "stream": "stdout",
       "text": [
        "\n",
        "0.050: Hypergeometric hypothesis test: L1:   1267.81484 -- L2:     26.15849"
       ]
      },
      {
       "output_type": "stream",
       "stream": "stdout",
       "text": [
        "\n"
       ]
      }
     ],
     "prompt_number": 54
    },
    {
     "cell_type": "code",
     "collapsed": false,
     "input": [
      "print bc[0:6,0:6]\n",
      "print coefs[0:6,0:6]"
     ],
     "language": "python",
     "metadata": {},
     "outputs": [
      {
       "output_type": "stream",
       "stream": "stdout",
       "text": [
        "[[ 0.00830078 -0.25830078  0.25830078 -0.09375     0.09375    -0.04785156]\n",
        " [-0.00732422  0.08154297 -0.08154297 -0.25390625  0.25390625 -0.24707031]\n",
        " [ 0.00732422 -0.08154297  0.08154297  0.25390625 -0.25390625  0.24707031]\n",
        " [ 0.00683594 -0.06933594  0.06933594  0.0703125  -0.0703125   0.11914062]\n",
        " [ 0.01171875  0.07421875 -0.07421875  0.0859375  -0.0859375  -0.046875  ]\n",
        " [-0.01171875 -0.07421875  0.07421875 -0.0859375   0.0859375   0.046875  ]]\n",
        "[[ 0.00830078 -0.25830078  0.25830078 -0.09375     0.09375    -0.04785156]\n",
        " [-0.00732422  0.08154297 -0.08154297 -0.25390625  0.25390625 -0.24707031]\n",
        " [ 0.00732422 -0.08154297  0.08154297  0.25390625 -0.25390625  0.24707031]\n",
        " [ 0.00683594 -0.06933594  0.06933594  0.0703125  -0.0703125   0.11914062]\n",
        " [ 0.01171875  0.07421875 -0.07421875  0.0859375  -0.0859375  -0.046875  ]\n",
        " [-0.01171875 -0.07421875  0.07421875 -0.0859375   0.0859375   0.046875  ]]\n"
       ]
      }
     ],
     "prompt_number": 52
    },
    {
     "cell_type": "code",
     "collapsed": false,
     "input": [
      "plt.imshow(coefs*hypo_tests,cmap=cmap,norm=cnorm,aspect='auto',interpolation='nearest')\n",
      "plt.show()"
     ],
     "language": "python",
     "metadata": {},
     "outputs": [],
     "prompt_number": 53
    },
    {
     "cell_type": "code",
     "collapsed": false,
     "input": [],
     "language": "python",
     "metadata": {},
     "outputs": []
    }
   ],
   "metadata": {}
  }
 ]
}