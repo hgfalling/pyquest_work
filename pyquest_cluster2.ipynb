{
 "metadata": {
  "name": "pyquest_cluster2"
 },
 "nbformat": 3,
 "nbformat_minor": 0,
 "worksheets": [
  {
   "cells": [
    {
     "cell_type": "code",
     "collapsed": false,
     "input": [
      "import numpy as np\n",
      "import scipy as sp\n",
      "import scipy.io\n",
      "import affinity \n",
      "reload(affinity)\n",
      "import bintree_cut\n",
      "reload(bintree_cut)\n",
      "import dual_affinity\n",
      "reload(dual_affinity)\n",
      "import matlab_util\n",
      "import tree_util\n",
      "reload(tree_util)\n",
      "import scoring\n",
      "import barcode\n",
      "import cPickle\n",
      "import matplotlib.pyplot as plt"
     ],
     "language": "python",
     "metadata": {},
     "outputs": [],
     "prompt_number": 2
    },
    {
     "cell_type": "code",
     "collapsed": false,
     "input": [
      "#Load data stuff\n",
      "\n",
      "DEFAULT_DATA_PATH = (\"/users/jerrod/Google Drive/Yale_Research/Questionnaire_2D_20130614/Examples/\")\n",
      "DEFAULT_DATA_FILE = \"MMPI2.mat\"\n",
      "\n",
      "mdict = scipy.io.loadmat(DEFAULT_DATA_PATH+DEFAULT_DATA_FILE)\n",
      "data = mdict[\"matrix\"]\n",
      "q_descs = [x[0][0] for x in mdict[\"sensors_dat\"][0,0][0]]\n",
      "p_score_descs = [x[0] for x in mdict[\"points_dat\"][0,0][1][0]]\n",
      "p_scores = mdict[\"points_dat\"][0,0][0]\n",
      "\n",
      "#Generate initial affinity\n",
      "init_row_aff = affinity.mutual_cosine_similarity(data.T,True,0)\n",
      "init_col_aff = affinity.mutual_cosine_similarity(data,True,0)"
     ],
     "language": "python",
     "metadata": {},
     "outputs": [],
     "prompt_number": 3
    },
    {
     "cell_type": "code",
     "collapsed": false,
     "input": [
      "import local_tree2 as lt2\n",
      "reload(lt2)\n",
      "affinity = lt2.threshold(init_row_aff,0.05)\n",
      "mc = bintree_cut.make_markov(affinity)\n",
      "np.linalg.eigvals(mc)[0:4]"
     ],
     "language": "python",
     "metadata": {},
     "outputs": [
      {
       "output_type": "pyout",
       "prompt_number": 19,
       "text": [
        "array([ 1.        ,  0.42544514,  0.38670278,  0.31048522])"
       ]
      }
     ],
     "prompt_number": 19
    },
    {
     "cell_type": "code",
     "collapsed": false,
     "input": [
      "affinity"
     ],
     "language": "python",
     "metadata": {},
     "outputs": [
      {
       "output_type": "pyout",
       "prompt_number": 20,
       "text": [
        "array([[ 1.        ,  0.        ,  0.16219563, ...,  0.        ,\n",
        "         0.        ,  0.        ],\n",
        "       [ 0.        ,  1.        ,  0.17306898, ...,  0.17505198,\n",
        "         0.        ,  0.19248434],\n",
        "       [ 0.16219563,  0.17306898,  1.        , ...,  0.24782067,\n",
        "         0.18635607,  0.        ],\n",
        "       ..., \n",
        "       [ 0.        ,  0.17505198,  0.24782067, ...,  1.        ,\n",
        "         0.24322069,  0.22961104],\n",
        "       [ 0.        ,  0.        ,  0.18635607, ...,  0.24322069,\n",
        "         1.        ,  0.07956449],\n",
        "       [ 0.        ,  0.19248434,  0.        , ...,  0.22961104,\n",
        "         0.07956449,  1.        ]])"
       ]
      }
     ],
     "prompt_number": 20
    },
    {
     "cell_type": "code",
     "collapsed": false,
     "input": [
      "plt.hist(init_row_aff.flatten(),bins=20)\n",
      "plt.show()"
     ],
     "language": "python",
     "metadata": {},
     "outputs": [],
     "prompt_number": 24
    },
    {
     "cell_type": "code",
     "collapsed": false,
     "input": [],
     "language": "python",
     "metadata": {},
     "outputs": []
    }
   ],
   "metadata": {}
  }
 ]
}