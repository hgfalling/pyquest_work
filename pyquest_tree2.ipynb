{
 "metadata": {
  "name": "pyquest_tree2"
 },
 "nbformat": 3,
 "nbformat_minor": 0,
 "worksheets": [
  {
   "cells": [
    {
     "cell_type": "code",
     "collapsed": false,
     "input": [
      "from imports import *"
     ],
     "language": "python",
     "metadata": {},
     "outputs": [
      {
       "output_type": "stream",
       "stream": "stderr",
       "text": [
        "C:\\Python27\\lib\\site-packages\\matplotlib\\__init__.py:1033: UserWarning:  This call to matplotlib.use() has no effect\n",
        "because the the backend has already been chosen;\n",
        "matplotlib.use() must be called *before* pylab, matplotlib.pyplot,\n",
        "or matplotlib.backends is imported for the first time.\n",
        "\n",
        "  warnings.warn(_use_error_msg)\n"
       ]
      }
     ],
     "prompt_number": 1
    },
    {
     "cell_type": "code",
     "collapsed": false,
     "input": [
      "%run load_data.py aq"
     ],
     "language": "python",
     "metadata": {},
     "outputs": [],
     "prompt_number": 64
    },
    {
     "cell_type": "code",
     "collapsed": false,
     "input": [
      "row_affinity = affinity.mutual_cosine_similarity(data.T,threshold=None)\n",
      "col_affinity = affinity.mutual_cosine_similarity(data,threshold=None)"
     ],
     "language": "python",
     "metadata": {},
     "outputs": [],
     "prompt_number": 65
    },
    {
     "cell_type": "markdown",
     "metadata": {},
     "source": [
      "Now we want to threshold these. This notebook differs from pyquest_tree by thresholding AFTER converting to a Markov chain instead of before. First we form the symmetric Markov matrix $M = D^{-\\frac{1}{2}}AD^{-\\frac{1}{2}}$:"
     ]
    },
    {
     "cell_type": "code",
     "collapsed": false,
     "input": [
      "row_stoch = markov.make_markov_symmetric(row_affinity)"
     ],
     "language": "python",
     "metadata": {},
     "outputs": [],
     "prompt_number": 66
    },
    {
     "cell_type": "code",
     "collapsed": false,
     "input": [
      "for thres in np.arange(0.002,0.004,0.0002):\n",
      "    components = lt2.find_components(row_stoch,thres)\n",
      "    print thres, np.shape(row_stoch)[0] - np.max(np.bincount(components))"
     ],
     "language": "python",
     "metadata": {},
     "outputs": [
      {
       "output_type": "stream",
       "stream": "stdout",
       "text": [
        "0.002 0\n",
        "0.0022"
       ]
      },
      {
       "output_type": "stream",
       "stream": "stdout",
       "text": [
        " 0\n",
        "0.0024"
       ]
      },
      {
       "output_type": "stream",
       "stream": "stdout",
       "text": [
        " 0\n",
        "0.0026"
       ]
      },
      {
       "output_type": "stream",
       "stream": "stdout",
       "text": [
        " 0\n",
        "0.0028"
       ]
      },
      {
       "output_type": "stream",
       "stream": "stdout",
       "text": [
        " 0\n",
        "0.003"
       ]
      },
      {
       "output_type": "stream",
       "stream": "stdout",
       "text": [
        " 6\n",
        "0.0032"
       ]
      },
      {
       "output_type": "stream",
       "stream": "stdout",
       "text": [
        " 44\n",
        "0.0034"
       ]
      },
      {
       "output_type": "stream",
       "stream": "stdout",
       "text": [
        " 114\n",
        "0.0036"
       ]
      },
      {
       "output_type": "stream",
       "stream": "stdout",
       "text": [
        " 158\n",
        "0.0038"
       ]
      },
      {
       "output_type": "stream",
       "stream": "stdout",
       "text": [
        " 226\n"
       ]
      }
     ],
     "prompt_number": 67
    },
    {
     "cell_type": "markdown",
     "metadata": {},
     "source": [
      "So we'll use 0.003 as the row threshold."
     ]
    },
    {
     "cell_type": "code",
     "collapsed": false,
     "input": [
      "M = markov.make_markov_row_stoch(lt2.threshold(row_stoch,0.003))"
     ],
     "language": "python",
     "metadata": {},
     "outputs": [],
     "prompt_number": 68
    },
    {
     "cell_type": "markdown",
     "metadata": {},
     "source": [
      "Each row of $M$ is the result of the thresholded diffusion for one step. Next we calculate a set of random centers for all the points, where a point covers the points it diffuses to:"
     ]
    },
    {
     "cell_type": "code",
     "collapsed": false,
     "input": [
      "centers = lt.diffusion_random_cover(M)\n",
      "print len(centers)"
     ],
     "language": "python",
     "metadata": {},
     "outputs": [
      {
       "output_type": "stream",
       "stream": "stdout",
       "text": [
        "128\n"
       ]
      }
     ],
     "prompt_number": 69
    },
    {
     "cell_type": "markdown",
     "metadata": {},
     "source": [
      "It seems that the number of centers here is about 10% of the total points, so the average folder will be size 10. We may want to look at this in the future. \n",
      "Next we assign each point in the data to its nearest center"
     ]
    },
    {
     "cell_type": "code",
     "collapsed": false,
     "input": [
      "centers_affinity = M[centers,:].T\n",
      "nearest_centers = np.argmax(centers_affinity,axis=1)\n",
      "clusters = centers[nearest_centers]"
     ],
     "language": "python",
     "metadata": {},
     "outputs": [],
     "prompt_number": 70
    },
    {
     "cell_type": "markdown",
     "metadata": {},
     "source": [
      "We can observe the distribution of points into folders:"
     ]
    },
    {
     "cell_type": "code",
     "collapsed": false,
     "input": [
      "np.bincount(nearest_centers)"
     ],
     "language": "python",
     "metadata": {},
     "outputs": [
      {
       "output_type": "pyout",
       "prompt_number": 71,
       "text": [
        "array([20,  6,  8, 20, 20,  5, 15, 10, 17, 10,  9, 15, 12, 29, 17, 44,  4,\n",
        "        9, 16,  7,  5,  9,  7,  4,  6,  8, 12, 12,  5,  1,  3, 13, 20, 17,\n",
        "       10,  6, 16,  5, 12, 15, 13, 11, 12,  8, 14, 16,  6,  4, 11,  3,  1,\n",
        "        3,  3, 17,  4,  1,  4, 14,  6,  7, 13,  7, 14,  7,  6, 10, 11,  9,\n",
        "       16,  3,  4,  9,  8,  1,  8,  5,  9,  9, 15,  4,  1,  4, 10,  1,  9,\n",
        "        3,  6, 16, 10, 10,  2, 15,  7,  4, 16,  4, 11, 10,  6,  3,  3,  9,\n",
        "        3, 11,  5,  5,  4,  4,  5,  7,  6,  6,  2, 11,  7,  8,  4, 13,  6,\n",
        "        5, 15,  2,  4,  8,  8,  5,  8,  7], dtype=int64)"
       ]
      }
     ],
     "prompt_number": 71
    },
    {
     "cell_type": "markdown",
     "metadata": {},
     "source": [
      "We can build the tree out of this:"
     ]
    },
    {
     "cell_type": "code",
     "collapsed": false,
     "input": [
      "new_parents = []\n",
      "for i in xrange(len(centers)):\n",
      "    new_parents.append(tree.ClusterTreeNode([]))\n",
      "\n",
      "for j in range(len(nearest_centers)):\n",
      "    node = tree.ClusterTreeNode([j])\n",
      "    node.assign_to_parent(new_parents[nearest_centers[j]])"
     ],
     "language": "python",
     "metadata": {},
     "outputs": [],
     "prompt_number": 72
    },
    {
     "cell_type": "markdown",
     "metadata": {},
     "source": [
      "Now suppose we are interested in the diffusion from folder to folder. Then we can write the diffusion matrix $M$ in terms of the folders by constructing rectangular transition matrices $Q$ and $Q^{+}$ as follows:"
     ]
    },
    {
     "cell_type": "code",
     "collapsed": false,
     "input": [
      "Q = np.zeros([len(centers),np.shape(M)[0]],np.float)\n",
      "for (idx,center) in enumerate(centers):\n",
      "    Q[idx,clusters==center] = 1.0\n",
      "Qi = Q.T\n",
      "Q = markov.make_markov_row_stoch(Q)    "
     ],
     "language": "python",
     "metadata": {},
     "outputs": [],
     "prompt_number": 73
    },
    {
     "cell_type": "code",
     "collapsed": false,
     "input": [
      "folder_diff = Q.dot(M).dot(Qi)"
     ],
     "language": "python",
     "metadata": {},
     "outputs": [],
     "prompt_number": 74
    },
    {
     "cell_type": "code",
     "collapsed": false,
     "input": [
      "np.min(np.sum(Q,axis=1))"
     ],
     "language": "python",
     "metadata": {},
     "outputs": [
      {
       "output_type": "pyout",
       "prompt_number": 75,
       "text": [
        "0.99999999999999889"
       ]
      }
     ],
     "prompt_number": 75
    },
    {
     "cell_type": "markdown",
     "metadata": {},
     "source": [
      "Now folder_diff contains the one step diffusion matrix among the folders defined above: that is, for each folder $F$, take $\\frac{\\chi_{F}}{\\left|F\\right|}$, a vector equal spread over the elements of $F$, and allow that vector to diffuse for one time step. Then the rows of folder_diff contain the diffused weight of the result by folder. Next we calculate an affinity based on this:"
     ]
    },
    {
     "cell_type": "code",
     "collapsed": false,
     "input": [
      "folder_affinity = markov.make_markov_symmetric(folder_diff.dot(folder_diff.T))"
     ],
     "language": "python",
     "metadata": {},
     "outputs": [],
     "prompt_number": 76
    },
    {
     "cell_type": "markdown",
     "metadata": {},
     "source": [
      "Now we use this affinity in the same way as before. First find a correct threshold:"
     ]
    },
    {
     "cell_type": "code",
     "collapsed": false,
     "input": [
      "for thres in np.arange(0.025,0.07,0.002):\n",
      "    components = lt2.find_components(folder_affinity,thres)\n",
      "    print thres, np.shape(folder_affinity)[0] - np.max(np.bincount(components))"
     ],
     "language": "python",
     "metadata": {},
     "outputs": [
      {
       "output_type": "stream",
       "stream": "stdout",
       "text": [
        "0.025 6\n",
        "0.027 6\n",
        "0.029 8\n",
        "0.031 9\n",
        "0.033 10\n",
        "0.035 13\n",
        "0.037 18\n",
        "0.039 79\n",
        "0.041 91\n",
        "0.043 95\n",
        "0.045 96\n",
        "0.047 99\n",
        "0.049 103\n",
        "0.051"
       ]
      },
      {
       "output_type": "stream",
       "stream": "stdout",
       "text": [
        " 109\n",
        "0.053 109\n",
        "0.055 109\n",
        "0.057 110\n",
        "0.059 112\n",
        "0.061 113\n",
        "0.063 121\n",
        "0.065 122\n",
        "0.067 122\n",
        "0.069 122\n"
       ]
      }
     ],
     "prompt_number": 81
    },
    {
     "cell_type": "markdown",
     "metadata": {},
     "source": [
      "We use 0.02 as the threshold and repeat the process."
     ]
    },
    {
     "cell_type": "code",
     "collapsed": false,
     "input": [
      "new_t_row = lt2.threshold(folder_affinity,0.02)\n",
      "M = markov.make_markov_row_stoch(new_t_row)"
     ],
     "language": "python",
     "metadata": {},
     "outputs": [],
     "prompt_number": 42
    },
    {
     "cell_type": "code",
     "collapsed": false,
     "input": [
      "centers = lt.diffusion_random_cover(M)\n",
      "print len(centers)"
     ],
     "language": "python",
     "metadata": {},
     "outputs": [
      {
       "output_type": "stream",
       "stream": "stdout",
       "text": [
        "19\n"
       ]
      }
     ],
     "prompt_number": 43
    },
    {
     "cell_type": "code",
     "collapsed": false,
     "input": [
      "centers_affinity = M[centers,:].T\n",
      "nearest_centers = np.argmax(centers_affinity,axis=1)\n",
      "clusters = centers[nearest_centers]"
     ],
     "language": "python",
     "metadata": {},
     "outputs": [],
     "prompt_number": 44
    },
    {
     "cell_type": "code",
     "collapsed": false,
     "input": [
      "old_parents = list(new_parents)\n",
      "new_parents = []\n",
      "for i in xrange(len(centers)):\n",
      "    new_parents.append(tree.ClusterTreeNode([]))\n",
      "\n",
      "print \"mapping {} to {}\".format(len(old_parents),len(new_parents))\n",
      "for (j,node) in enumerate(old_parents):\n",
      "    node.assign_to_parent(new_parents[nearest_centers[j]])"
     ],
     "language": "python",
     "metadata": {},
     "outputs": [
      {
       "output_type": "stream",
       "stream": "stdout",
       "text": [
        "mapping 125 to 19\n"
       ]
      }
     ],
     "prompt_number": 45
    },
    {
     "cell_type": "code",
     "collapsed": false,
     "input": [
      "np.bincount(nearest_centers)"
     ],
     "language": "python",
     "metadata": {},
     "outputs": [
      {
       "output_type": "pyout",
       "prompt_number": 46,
       "text": [
        "array([19, 13, 22,  5,  1,  1, 18,  2, 11,  2,  3,  1,  1,  1, 11,  1,  1,\n",
        "        1, 11], dtype=int64)"
       ]
      }
     ],
     "prompt_number": 46
    },
    {
     "cell_type": "code",
     "collapsed": false,
     "input": [
      "Q = np.zeros([len(centers),np.shape(M)[0]],np.float)\n",
      "for (idx,center) in enumerate(centers):\n",
      "    Q[idx,clusters==center] = 1.0\n",
      "Qi = Q.T\n",
      "Q = markov.make_markov_row_stoch(Q)"
     ],
     "language": "python",
     "metadata": {},
     "outputs": [],
     "prompt_number": 47
    },
    {
     "cell_type": "code",
     "collapsed": false,
     "input": [
      "folder_diff = Q.dot(M).dot(Qi)"
     ],
     "language": "python",
     "metadata": {},
     "outputs": [],
     "prompt_number": 48
    },
    {
     "cell_type": "code",
     "collapsed": false,
     "input": [
      "folder_affinity = folder_diff.dot(folder_diff.T)"
     ],
     "language": "python",
     "metadata": {},
     "outputs": [],
     "prompt_number": 49
    },
    {
     "cell_type": "code",
     "collapsed": false,
     "input": [
      "for thres in np.arange(0.01,0.1,0.01):\n",
      "    components = lt2.find_components(folder_affinity,thres)\n",
      "    print thres, np.shape(folder_affinity)[0] - np.max(np.bincount(components))"
     ],
     "language": "python",
     "metadata": {},
     "outputs": [
      {
       "output_type": "stream",
       "stream": "stdout",
       "text": [
        "0.01 8\n",
        "0.02 8\n",
        "0.03 8\n",
        "0.04 8\n",
        "0.05 8\n",
        "0.06 8\n",
        "0.07 8\n",
        "0.08 8\n",
        "0.09 8\n"
       ]
      }
     ],
     "prompt_number": 50
    },
    {
     "cell_type": "code",
     "collapsed": false,
     "input": [
      "new_t_row = lt2.threshold(folder_affinity,0.02)\n",
      "M = markov.make_markov_row_stoch(new_t_row)\n",
      "centers = lt.diffusion_random_cover(M)\n",
      "print len(centers)\n",
      "centers_affinity = M[centers,:].T\n",
      "nearest_centers = np.argmax(centers_affinity,axis=1)\n",
      "clusters = centers[nearest_centers]\n",
      "print np.bincount(nearest_centers)\n",
      "Q = np.zeros([len(centers),np.shape(M)[0]],np.float)\n",
      "for (idx,center) in enumerate(centers):\n",
      "    Q[idx,clusters==center] = 1.0\n",
      "Qi = Q.T\n",
      "Q = markov.make_markov_row_stoch(Q)\n",
      "folder_diff = Q.dot(M).dot(Qi)\n",
      "folder_affinity = folder_diff.dot(folder_diff.T)"
     ],
     "language": "python",
     "metadata": {},
     "outputs": [
      {
       "output_type": "stream",
       "stream": "stdout",
       "text": [
        "10\n",
        "[3 8 1 1 1 1 1 1 1 1]\n"
       ]
      }
     ],
     "prompt_number": 51
    },
    {
     "cell_type": "code",
     "collapsed": false,
     "input": [
      "old_parents = list(new_parents)\n",
      "new_parents = []\n",
      "for i in xrange(len(centers)):\n",
      "    new_parents.append(tree.ClusterTreeNode([]))\n",
      "\n",
      "print \"mapping {} to {}\".format(len(old_parents),len(new_parents))\n",
      "\n",
      "for (j,node) in enumerate(old_parents):\n",
      "    node.assign_to_parent(new_parents[nearest_centers[j]])"
     ],
     "language": "python",
     "metadata": {},
     "outputs": [
      {
       "output_type": "stream",
       "stream": "stdout",
       "text": [
        "mapping 19 to 10\n"
       ]
      }
     ],
     "prompt_number": 52
    },
    {
     "cell_type": "code",
     "collapsed": false,
     "input": [
      "print len(old_parents), len(new_parents)\n",
      "print nearest_centers"
     ],
     "language": "python",
     "metadata": {},
     "outputs": [
      {
       "output_type": "stream",
       "stream": "stdout",
       "text": [
        "19 10\n",
        "[1 1 0 0 7 2 1 0 1 1 1 3 8 5 1 4 6 9 1]\n"
       ]
      }
     ],
     "prompt_number": 53
    },
    {
     "cell_type": "code",
     "collapsed": false,
     "input": [
      "for thres in np.arange(0.01,0.1,0.01):\n",
      "    components = lt2.find_components(folder_affinity,thres)\n",
      "    print thres, np.shape(folder_affinity)[0] - np.max(np.bincount(components))"
     ],
     "language": "python",
     "metadata": {},
     "outputs": [
      {
       "output_type": "stream",
       "stream": "stdout",
       "text": [
        "0.01 8\n",
        "0.02 8\n",
        "0.03 8\n",
        "0.04 8\n",
        "0.05 8\n",
        "0.06 8\n",
        "0.07 8\n",
        "0.08 8\n",
        "0.09 8\n"
       ]
      }
     ],
     "prompt_number": 54
    },
    {
     "cell_type": "code",
     "collapsed": false,
     "input": [
      "new_t_row = lt2.threshold(folder_affinity,0.03)\n",
      "M = markov.make_markov_row_stoch(new_t_row)\n",
      "centers = lt.diffusion_random_cover(M)\n",
      "print len(centers)\n",
      "centers_affinity = M[centers,:].T\n",
      "nearest_centers = np.argmax(centers_affinity,axis=1)\n",
      "clusters = centers[nearest_centers]\n",
      "print np.bincount(nearest_centers)\n",
      "Q = np.zeros([len(centers),np.shape(M)[0]],np.float)\n",
      "for (idx,center) in enumerate(centers):\n",
      "    Q[idx,clusters==center] = 1.0\n",
      "Qi = Q.T\n",
      "Q = markov.make_markov_row_stoch(Q)\n",
      "folder_diff = Q.dot(M).dot(Qi)\n",
      "folder_affinity = folder_diff.dot(folder_diff.T)"
     ],
     "language": "python",
     "metadata": {},
     "outputs": [
      {
       "output_type": "stream",
       "stream": "stdout",
       "text": [
        "9\n",
        "[1 2 1 1 1 1 1 1 1]\n"
       ]
      }
     ],
     "prompt_number": 55
    },
    {
     "cell_type": "code",
     "collapsed": false,
     "input": [
      "old_parents = list(new_parents)\n",
      "new_parents = []\n",
      "for i in xrange(len(centers)):\n",
      "    new_parents.append(tree.ClusterTreeNode([]))\n",
      "\n",
      "for (j,node) in enumerate(old_parents):\n",
      "    node.assign_to_parent(new_parents[nearest_centers[j]])"
     ],
     "language": "python",
     "metadata": {},
     "outputs": [],
     "prompt_number": 56
    },
    {
     "cell_type": "code",
     "collapsed": false,
     "input": [
      "top_tree = tree.ClusterTreeNode([])"
     ],
     "language": "python",
     "metadata": {},
     "outputs": [],
     "prompt_number": 60
    },
    {
     "cell_type": "code",
     "collapsed": false,
     "input": [
      "for node in new_parents:\n",
      "    node.assign_to_parent(top_tree)\n",
      "top_tree.make_index()"
     ],
     "language": "python",
     "metadata": {},
     "outputs": [],
     "prompt_number": 61
    },
    {
     "cell_type": "code",
     "collapsed": false,
     "input": [
      "row_vecs,row_vals = bintree_cut.markov_eigs(row_affinity,12)\n",
      "\n",
      "ROW_TREE_PICKLE = True\n",
      "COL_TREE_PICKLE = False\n",
      "if ROW_TREE_PICKLE:\n",
      "    import cPickle\n",
      "    datadict = {}\n",
      "    datadict[\"data_descs\"] = q_descs\n",
      "    datadict[\"tree\"] = top_tree\n",
      "    datadict[\"vecs\"] = row_vecs\n",
      "    datadict[\"vals\"] = row_vals\n",
      "    datadict['tree_desc'] = \"Questions Tree\"\n",
      "    fout = open('aq_tree.pickle','wb')\n",
      "    cPickle.dump(datadict,fout)\n",
      "    fout.close()"
     ],
     "language": "python",
     "metadata": {},
     "outputs": [],
     "prompt_number": 73
    },
    {
     "cell_type": "code",
     "collapsed": false,
     "input": [
      "t_row"
     ],
     "language": "python",
     "metadata": {},
     "outputs": [
      {
       "output_type": "pyout",
       "prompt_number": 71,
       "text": [
        "array([[ 1.        ,  0.        ,  0.        , ...,  0.        ,\n",
        "         0.        ,  0.        ],\n",
        "       [ 0.        ,  1.        ,  0.        , ...,  0.        ,\n",
        "         0.        ,  0.19116914],\n",
        "       [ 0.        ,  0.        ,  1.        , ...,  0.24684874,\n",
        "         0.        ,  0.        ],\n",
        "       ..., \n",
        "       [ 0.        ,  0.        ,  0.24684874, ...,  1.        ,\n",
        "         0.24216005,  0.22822738],\n",
        "       [ 0.        ,  0.        ,  0.        , ...,  0.24216005,\n",
        "         1.        ,  0.        ],\n",
        "       [ 0.        ,  0.19116914,  0.        , ...,  0.22822738,\n",
        "         0.        ,  1.        ]])"
       ]
      }
     ],
     "prompt_number": 71
    },
    {
     "cell_type": "code",
     "collapsed": false,
     "input": [
      "top_tree.child_sizes"
     ],
     "language": "python",
     "metadata": {},
     "outputs": [
      {
       "output_type": "pyout",
       "prompt_number": 74,
       "text": [
        "[1, 1126, 1, 1, 1, 1, 1, 1, 1]"
       ]
      }
     ],
     "prompt_number": 74
    },
    {
     "cell_type": "code",
     "collapsed": false,
     "input": [
      "y = [x.elements for x in top_tree.children if len(x.elements) == 1]"
     ],
     "language": "python",
     "metadata": {},
     "outputs": [],
     "prompt_number": 78
    },
    {
     "cell_type": "code",
     "collapsed": false,
     "input": [
      "for z in y:\n",
      "    print q_descs[z[0]]"
     ],
     "language": "python",
     "metadata": {},
     "outputs": [
      {
       "output_type": "stream",
       "stream": "stdout",
       "text": [
        "R131. When I was a child, I belonged to a group of friends that tried to be loyal through all kinds of trouble.\n",
        "557. The man should be the head of the family.\n",
        "R434. lf I was in trouble with several friends who were as guilty as I was, I would rather take the whole blame than give them away.\n",
        "R232. Sometimes in elections I vote for people about whom l know very little.\n",
        "R557. The man should be the head of the family.\n",
        "434. lf I was in trouble with several friends who were as guilty as I was, I would rather take the whole blame than give them away.\n",
        "232. Sometimes in elections I vote for people about whom l know very little.\n",
        "131. When I was a child, I belonged to a group of friends that tried to be loyal through all kinds of trouble.\n"
       ]
      }
     ],
     "prompt_number": 82
    },
    {
     "cell_type": "code",
     "collapsed": false,
     "input": [],
     "language": "python",
     "metadata": {},
     "outputs": []
    }
   ],
   "metadata": {}
  }
 ]
}