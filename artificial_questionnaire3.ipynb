{
 "metadata": {
  "name": "artificial_questionnaire3"
 },
 "nbformat": 3,
 "nbformat_minor": 0,
 "worksheets": [
  {
   "cells": [
    {
     "cell_type": "code",
     "collapsed": false,
     "input": [
      "from imports import *"
     ],
     "language": "python",
     "metadata": {},
     "outputs": [],
     "prompt_number": 1
    },
    {
     "cell_type": "code",
     "collapsed": false,
     "input": [
      "MEAN_POSSIBILITIES = [0.2,0.8]\n",
      "PEOPLE_COUNT = 1024\n",
      "QUESTIONS = 7\n",
      "SAMPLES_PER_QUESTION = 11\n",
      "UNIFORM, DIAGONAL, COMPLEMENT, DIAGONAL_NOISE, GMM = 0,1,2,3,4\n",
      "MEANS_TYPE = GMM\n",
      "CENTER_COMBOS = [x for x in itertools.combinations_with_replacement(MEAN_POSSIBILITIES,QUESTIONS)]\n",
      "CENTER_LISTS = [list(set([z for z in itertools.permutations(y,QUESTIONS)])) for y in CENTER_COMBOS]\n",
      "CENTERS = []\n",
      "for center in CENTER_LISTS:\n",
      "    CENTERS.extend(center)\n",
      "COVARIANCE = 0.01*np.eye(QUESTIONS)\n",
      "TRUTH,SAMPLE,SHUFFLE = 0,1,2\n",
      "SORT_TYPE = TRUTH\n",
      "\n",
      "means = np.zeros([QUESTIONS*SAMPLES_PER_QUESTION,PEOPLE_COUNT])\n",
      "\n",
      "if MEANS_TYPE == UNIFORM:\n",
      "    q_means = np.random.rand(QUESTIONS,PEOPLE_COUNT)\n",
      "if MEANS_TYPE == DIAGONAL:\n",
      "    q_means1 = np.random.rand(PEOPLE_COUNT)\n",
      "    q_means = np.vstack([q_means1,q_means1])\n",
      "if MEANS_TYPE == COMPLEMENT:\n",
      "    q_means1 = np.random.rand(PEOPLE_COUNT)\n",
      "    q_means = np.vstack([q_means1,1.0-q_means1])\n",
      "if MEANS_TYPE == DIAGONAL_NOISE:\n",
      "    q_means1 = np.random.rand(PEOPLE_COUNT)\n",
      "    q_means2 = scipy.stats.norm.rvs(0.0,0.1,size=PEOPLE_COUNT)\n",
      "    q_means = np.vstack([q_means1,q_means1+q_means2])\n",
      "if MEANS_TYPE == GMM:\n",
      "    picker = np.random.randint(0,len(CENTERS),PEOPLE_COUNT) \n",
      "    q_means = np.zeros([QUESTIONS,PEOPLE_COUNT])\n",
      "    for i in range(len(CENTERS)):\n",
      "        q_means[:,picker == i] = np.random.multivariate_normal(np.array(CENTERS[i]),COVARIANCE,size=(np.sum(picker==i),)).T\n",
      "    \n",
      "for row in xrange(QUESTIONS):\n",
      "    means[row*SAMPLES_PER_QUESTION:(row+1)*SAMPLES_PER_QUESTION,:] = q_means[row,:]\n",
      "\n",
      "means[means < 0] = 0.0\n",
      "means[means > 1.0] = 1.0\n",
      "\n",
      "rdata = np.random.rand(QUESTIONS*SAMPLES_PER_QUESTION,PEOPLE_COUNT)\n",
      "data = np.zeros([QUESTIONS*SAMPLES_PER_QUESTION,PEOPLE_COUNT])\n",
      "data[rdata < means] = 1\n",
      "data[rdata >= means] = -1\n",
      "if SORT_TYPE == TRUTH:\n",
      "    row_indices = range(QUESTIONS*SAMPLES_PER_QUESTION)\n",
      "    if MEANS_TYPE == GMM:\n",
      "        col_indices = picker.argsort()\n",
      "    else:\n",
      "        col_indices = means[:,0].argsort()\n",
      "elif SORT_TYPE == SAMPLE:\n",
      "    row_indices = np.mean(data,axis=0).argsort()\n",
      "    if MEANS_TYPE == GMM:\n",
      "        col_indices = picker.argsort()\n",
      "    else:\n",
      "        col_indices = np.mean(data,axis=1).argsort()\n",
      "elif SORT_TYPE == SHUFFLE:\n",
      "    row_indices = np.array(range(QUESTIONS*SAMPLES_PER_QUESTION))\n",
      "    np.random.shuffle(row_indices)\n",
      "    col_indices = np.array(range(PEOPLE_COUNT))\n",
      "    np.random.shuffle(col_indices)\n",
      "\n",
      "data = data[:,col_indices][row_indices,:]\n",
      "means = means[:,col_indices][row_indices,:]"
     ],
     "language": "python",
     "metadata": {},
     "outputs": [],
     "prompt_number": 12
    },
    {
     "cell_type": "code",
     "collapsed": false,
     "input": [
      "#initial affinity and stuff is the same for both methods\n",
      "\n",
      "#Generate initial affinity\n",
      "init_row_aff = affinity.mutual_cosine_similarity(data.T,False,0,threshold=0.1)\n",
      "\n",
      "#Compute diffusion embedding of initial affinities\n",
      "init_row_vecs,init_row_vals = markov.markov_eigs(init_row_aff, 12)"
     ],
     "language": "python",
     "metadata": {},
     "outputs": [],
     "prompt_number": 13
    },
    {
     "cell_type": "code",
     "collapsed": false,
     "input": [
      "#this is the older method\n",
      "\n",
      "#Generate median trees\n",
      "init_row_tree = bintree_construct.median_tree(init_row_vecs,init_row_vals,max_levels=12)\n",
      "#init_col_tree = bintree_cut.median_tree(init_col_vecs,init_col_vals,max_levels=12)\n",
      "\n",
      "dual_col_trees = []\n",
      "dual_row_trees = [init_row_tree]\n",
      "ITERATIONS = 5\n",
      "\n",
      "for i in xrange(ITERATIONS):\n",
      "    dual_col_trees.append(bintree_construct.eigen_tree(data,dual_row_trees[-1],alpha=1.0,beta=0.0,noise=0.0))\n",
      "    dual_row_trees.append(bintree_construct.eigen_tree(data.T,dual_col_trees[-1],alpha=1.0,beta=0.0,noise=0.0))\n",
      "    \n",
      "col_tree = dual_col_trees[-1]\n",
      "row_tree = dual_row_trees[-1]\n",
      "\n",
      "col_emd = dual_affinity.calc_emd(data,row_tree,alpha=0.5,beta=1.0)\n",
      "row_emd = dual_affinity.calc_emd(data.T,col_tree,alpha=0.5,beta=1.0)\n",
      "\n",
      "row_aff = dual_affinity.emd_dual_aff(row_emd)\n",
      "col_aff = dual_affinity.emd_dual_aff(col_emd)\n",
      "\n",
      "row_vecs,row_vals = markov.markov_eigs(row_aff, 12)\n",
      "col_vecs,col_vals = markov.markov_eigs(col_aff, 12)"
     ],
     "language": "python",
     "metadata": {},
     "outputs": [],
     "prompt_number": 14
    },
    {
     "cell_type": "code",
     "collapsed": false,
     "input": [
      "#--------write out files---------\n",
      "row_filename = \"row_tv_tree.pickle\"\n",
      "col_filename = \"col_tv_tree.pickle\"\n",
      "filename = \"qv_tree.pickle\"\n",
      "\n",
      "viewer_files.write_tree_viewer(row_filename,row_tree,row_vecs,row_vals)\n",
      "viewer_files.write_tree_viewer(col_filename,col_tree,col_vecs,col_vals,descs=[str(x)+\":\"+str(CENTERS[x]) for x in sorted(list(picker))])\n",
      "\n",
      "viewer_files.write_question_viewer(filename,data,row_tree,col_tree,row_vecs,row_vals,col_vecs,col_vals)"
     ],
     "language": "python",
     "metadata": {},
     "outputs": [],
     "prompt_number": 15
    },
    {
     "cell_type": "code",
     "collapsed": false,
     "input": [
      "%run tree_viewer.py $col_filename"
     ],
     "language": "python",
     "metadata": {},
     "outputs": [],
     "prompt_number": 16
    },
    {
     "cell_type": "code",
     "collapsed": false,
     "input": [
      "#this is the newer method\n",
      "\n",
      "init_row_vals[np.isnan(init_row_vals)] = 0.0\n",
      "row_embedding = init_row_vecs.dot(np.diag(init_row_vals))\n",
      "row_distances = spsp.distance.squareform(spsp.distance.pdist(row_embedding))\n",
      "row_affinity = np.max(row_distances) - row_distances\n",
      "\n",
      "#Generate initial tree\n",
      "init_row_tree = tree_building.make_tree_embedding(row_affinity,0.25)\n",
      "\n",
      "dual_col_trees = []\n",
      "dual_row_trees = [init_row_tree]\n",
      "ITERATIONS = 3\n",
      "\n",
      "for i in xrange(ITERATIONS):\n",
      "    print \"Beginning iteration {}\".format(i)\n",
      "    col_emd = dual_affinity.calc_emd(data,dual_row_trees[-1],alpha=0.5,beta=1.0)\n",
      "    col_aff = dual_affinity.emd_dual_aff(col_emd)\n",
      "    dual_col_trees.append(tree_building.make_tree_embedding(col_aff,0.25))\n",
      "\n",
      "    row_emd = dual_affinity.calc_emd(data.T,dual_col_trees[-1],alpha=0.5,beta=1.0)\n",
      "    row_aff = dual_affinity.emd_dual_aff(row_emd)\n",
      "    dual_row_trees.append(tree_building.make_tree_embedding(row_aff,0.25))\n",
      "    \n",
      "col_tree = dual_col_trees[-1]\n",
      "row_tree = dual_row_trees[-1]\n",
      "\n",
      "col_emd = dual_affinity.calc_emd(data,row_tree,alpha=0.5,beta=1.0)\n",
      "row_emd = dual_affinity.calc_emd(data.T,col_tree,alpha=0.5,beta=1.0)\n",
      "\n",
      "row_aff = dual_affinity.emd_dual_aff(row_emd)\n",
      "col_aff = dual_affinity.emd_dual_aff(col_emd)\n",
      "\n",
      "row_vecs,row_vals = markov.markov_eigs(row_aff, 12)\n",
      "col_vecs,col_vals = markov.markov_eigs(col_aff, 12)"
     ],
     "language": "python",
     "metadata": {},
     "outputs": [
      {
       "output_type": "stream",
       "stream": "stdout",
       "text": [
        "Beginning iteration 0\n",
        "Beginning iteration 1"
       ]
      },
      {
       "output_type": "stream",
       "stream": "stdout",
       "text": [
        "\n",
        "Beginning iteration 2"
       ]
      },
      {
       "output_type": "stream",
       "stream": "stdout",
       "text": [
        "\n"
       ]
      }
     ],
     "prompt_number": 17
    },
    {
     "cell_type": "code",
     "collapsed": false,
     "input": [
      "#--------write out files---------\n",
      "row_filename = \"row_tv_tree.pickle\"\n",
      "col_filename = \"col_tv_tree.pickle\"\n",
      "filename = \"qv_tree.pickle\"\n",
      "\n",
      "viewer_files.write_tree_viewer(row_filename,row_tree,row_vecs,row_vals)\n",
      "viewer_files.write_tree_viewer(col_filename,col_tree,col_vecs,col_vals,descs=[str(x)+\":\"+str(CENTERS[x]) for x in sorted(list(picker))])\n",
      "\n",
      "viewer_files.write_question_viewer(filename,data,row_tree,col_tree,row_vecs,row_vals,col_vecs,col_vals)"
     ],
     "language": "python",
     "metadata": {},
     "outputs": [],
     "prompt_number": 18
    },
    {
     "cell_type": "code",
     "collapsed": false,
     "input": [
      "#%run tree_viewer $col_filename\n",
      "%run tree_viewer $row_filename"
     ],
     "language": "python",
     "metadata": {},
     "outputs": [],
     "prompt_number": 19
    },
    {
     "cell_type": "code",
     "collapsed": false,
     "input": [
      "fig = plt.figure()\n",
      "fig.add_subplot(311)\n",
      "plt.imshow(data,aspect='auto',interpolation='nearest',cmap=bwmap,norm=cnorm)\n",
      "fig.add_subplot(312)\n",
      "plt.imshow(barcode.organize_folders(row_tree,col_tree,data),aspect='auto',interpolation='nearest',cmap=bwmap,norm=cnorm)\n",
      "fig.add_subplot(313)\n",
      "plt.imshow(barcode.organize_folders(row_tree,col_tree,means),aspect='auto',interpolation='nearest',cmap=bwmap,norm=cnorm)\n",
      "#plt.imshow(barcode.organize_folders(row_tree,col_tree,np.tile(picker/1.0/len(CENTERS),[QUESTIONS*SAMPLES_PER_QUESTION,1])),aspect='auto',interpolation='nearest',cmap=cmap,norm=cnorm)\n",
      "#plt.scatter(q_means[0,:],q_means[1,:])\n",
      "plt.show()"
     ],
     "language": "python",
     "metadata": {},
     "outputs": [
      {
       "output_type": "display_data",
       "png": "[encoded data removed]"
      }
     ],
     "prompt_number": 20
    },
    {
     "cell_type": "code",
     "collapsed": false,
     "input": [],
     "language": "python",
     "metadata": {},
     "outputs": []
    }
   ],
   "metadata": {}
  }
 ]
}