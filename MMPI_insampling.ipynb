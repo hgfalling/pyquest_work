{
 "metadata": {
  "name": "MMPI_insampling"
 },
 "nbformat": 3,
 "nbformat_minor": 0,
 "worksheets": [
  {
   "cells": [
    {
     "cell_type": "code",
     "collapsed": false,
     "input": [
      "import matlab_util as mu\n",
      "reload(mu)\n",
      "import scipy.io\n",
      "import cluster_diffusion as cdiff\n",
      "reload(cdiff)\n",
      "import numpy as np\n",
      "import matplotlib.pyplot as plt\n",
      "import sklearn.linear_model as sklm"
     ],
     "language": "python",
     "metadata": {},
     "outputs": [],
     "prompt_number": 64
    },
    {
     "cell_type": "code",
     "collapsed": false,
     "input": [
      "mdict = scipy.io.loadmat('/users/jerrod/Google Drive/Yale_Research/Questionnaire2D_20130530/Examples/Output_MMPI2_insample/MMPI2_insample_package.mat')\n",
      "fold_points = mdict['fold_points']\n",
      "fold_sensors = mdict['fold_sensors']\n",
      "col_tree = mu.matlab_to_pyquest(fold_points)\n",
      "row_tree = mu.matlab_to_pyquest(fold_sensors)\n",
      "col_tree.calc_delta_library()"
     ],
     "language": "python",
     "metadata": {},
     "outputs": [],
     "prompt_number": 65
    },
    {
     "cell_type": "code",
     "collapsed": false,
     "input": [
      "mdict2 = scipy.io.loadmat('/users/jerrod/Google Drive/Yale_Research/Questionnaire2D_20130530/Examples/Output_MMPI2/MMPI2_basic.mat')\n",
      "data = mdict2['matrix']\n",
      "mask = np.random.rand(2428) > 0.5\n",
      "active_indices = np.nonzero(mask)[0]\n",
      "in_data = data[:,active_indices]\n",
      "inactive_indices = np.nonzero(np.logical_not(mask))[0]\n",
      "out_data = data[:,inactive_indices]"
     ],
     "language": "python",
     "metadata": {},
     "outputs": [],
     "prompt_number": 66
    },
    {
     "cell_type": "code",
     "collapsed": false,
     "input": [
      "regr = sklm.LinearRegression()\n",
      "regr.fit(in_data[1:500,:].T,in_data[501:,:].T)"
     ],
     "language": "python",
     "metadata": {},
     "outputs": [
      {
       "output_type": "pyout",
       "prompt_number": 67,
       "text": [
        "LinearRegression(copy_X=True, fit_intercept=True, normalize=False)"
       ]
      }
     ],
     "prompt_number": 67
    },
    {
     "cell_type": "code",
     "collapsed": false,
     "input": [
      "predictions = regr.predict(out_data[1:500,:].T)"
     ],
     "language": "python",
     "metadata": {},
     "outputs": [],
     "prompt_number": 70
    },
    {
     "cell_type": "code",
     "collapsed": false,
     "input": [
      "m,n = np.shape(predictions)\n",
      "np.sum(np.abs(np.sign(predictions) - out_data[501:,:].T))/(2.0*m*n)"
     ],
     "language": "python",
     "metadata": {},
     "outputs": [
      {
       "output_type": "pyout",
       "prompt_number": 84,
       "text": [
        "0.32027275209093392"
       ]
      }
     ],
     "prompt_number": 84
    },
    {
     "cell_type": "code",
     "collapsed": false,
     "input": [
      "cl,col_indices = col_tree.filtered_char_library(active_indices)\n",
      "lasso = sklm.Lasso(alpha = 1e-10,fit_intercept=False,normalize=False,max_iter=2000)\n",
      "lasso.fit(cl[active_indices,:],in_data[501:,:].T)"
     ],
     "language": "python",
     "metadata": {},
     "outputs": [
      {
       "output_type": "stream",
       "stream": "stderr",
       "text": [
        "C:\\Python27\\lib\\site-packages\\sklearn\\linear_model\\coordinate_descent.py:244: UserWarning: Objective did not converge for target 0, you might want to increase the number of iterations\n",
        "  ' to increase the number of iterations')\n",
        "C:\\Python27\\lib\\site-packages\\sklearn\\linear_model\\coordinate_descent.py:244: UserWarning: Objective did not converge for target 1, you might want to increase the number of iterations\n",
        "  ' to increase the number of iterations')\n"
       ]
      },
      {
       "output_type": "stream",
       "stream": "stderr",
       "text": [
        "C:\\Python27\\lib\\site-packages\\sklearn\\linear_model\\coordinate_descent.py:244: UserWarning: Objective did not converge for target 2, you might want to increase the number of iterations\n",
        "  ' to increase the number of iterations')\n",
        "C:\\Python27\\lib\\site-packages\\sklearn\\linear_model\\coordinate_descent.py:244: UserWarning: Objective did not converge for target 3, you might want to increase the number of iterations\n",
        "  ' to increase the number of iterations')\n"
       ]
      },
      {
       "output_type": "stream",
       "stream": "stderr",
       "text": [
        "C:\\Python27\\lib\\site-packages\\sklearn\\linear_model\\coordinate_descent.py:244: UserWarning: Objective did not converge for target 4, you might want to increase the number of iterations\n",
        "  ' to increase the number of iterations')\n",
        "C:\\Python27\\lib\\site-packages\\sklearn\\linear_model\\coordinate_descent.py:244: UserWarning: Objective did not converge for target 5, you might want to increase the number of iterations\n",
        "  ' to increase the number of iterations')\n"
       ]
      },
      {
       "output_type": "stream",
       "stream": "stderr",
       "text": [
        "C:\\Python27\\lib\\site-packages\\sklearn\\linear_model\\coordinate_descent.py:244: UserWarning: Objective did not converge for target 6, you might want to increase the number of iterations\n",
        "  ' to increase the number of iterations')\n",
        "C:\\Python27\\lib\\site-packages\\sklearn\\linear_model\\coordinate_descent.py:244: UserWarning: Objective did not converge for target 7, you might want to increase the number of iterations\n",
        "  ' to increase the number of iterations')\n"
       ]
      },
      {
       "output_type": "stream",
       "stream": "stderr",
       "text": [
        "C:\\Python27\\lib\\site-packages\\sklearn\\linear_model\\coordinate_descent.py:244: UserWarning: Objective did not converge for target 8, you might want to increase the number of iterations\n",
        "  ' to increase the number of iterations')\n",
        "C:\\Python27\\lib\\site-packages\\sklearn\\linear_model\\coordinate_descent.py:244: UserWarning: Objective did not converge for target 9, you might want to increase the number of iterations\n",
        "  ' to increase the number of iterations')\n"
       ]
      },
      {
       "output_type": "stream",
       "stream": "stderr",
       "text": [
        "C:\\Python27\\lib\\site-packages\\sklearn\\linear_model\\coordinate_descent.py:244: UserWarning: Objective did not converge for target 10, you might want to increase the number of iterations\n",
        "  ' to increase the number of iterations')\n",
        "C:\\Python27\\lib\\site-packages\\sklearn\\linear_model\\coordinate_descent.py:244: UserWarning: Objective did not converge for target 11, you might want to increase the number of iterations\n",
        "  ' to increase the number of iterations')\n"
       ]
      },
      {
       "output_type": "stream",
       "stream": "stderr",
       "text": [
        "C:\\Python27\\lib\\site-packages\\sklearn\\linear_model\\coordinate_descent.py:244: UserWarning: Objective did not converge for target 12, you might want to increase the number of iterations\n",
        "  ' to increase the number of iterations')\n",
        "C:\\Python27\\lib\\site-packages\\sklearn\\linear_model\\coordinate_descent.py:244: UserWarning: Objective did not converge for target 13, you might want to increase the number of iterations\n",
        "  ' to increase the number of iterations')\n"
       ]
      },
      {
       "output_type": "stream",
       "stream": "stderr",
       "text": [
        "C:\\Python27\\lib\\site-packages\\sklearn\\linear_model\\coordinate_descent.py:244: UserWarning: Objective did not converge for target 14, you might want to increase the number of iterations\n",
        "  ' to increase the number of iterations')\n",
        "C:\\Python27\\lib\\site-packages\\sklearn\\linear_model\\coordinate_descent.py:244: UserWarning: Objective did not converge for target 15, you might want to increase the number of iterations\n",
        "  ' to increase the number of iterations')\n"
       ]
      },
      {
       "output_type": "stream",
       "stream": "stderr",
       "text": [
        "C:\\Python27\\lib\\site-packages\\sklearn\\linear_model\\coordinate_descent.py:244: UserWarning: Objective did not converge for target 16, you might want to increase the number of iterations\n",
        "  ' to increase the number of iterations')\n",
        "C:\\Python27\\lib\\site-packages\\sklearn\\linear_model\\coordinate_descent.py:244: UserWarning: Objective did not converge for target 17, you might want to increase the number of iterations\n",
        "  ' to increase the number of iterations')\n"
       ]
      },
      {
       "output_type": "stream",
       "stream": "stderr",
       "text": [
        "C:\\Python27\\lib\\site-packages\\sklearn\\linear_model\\coordinate_descent.py:244: UserWarning: Objective did not converge for target 18, you might want to increase the number of iterations\n",
        "  ' to increase the number of iterations')\n",
        "C:\\Python27\\lib\\site-packages\\sklearn\\linear_model\\coordinate_descent.py:244: UserWarning: Objective did not converge for target 19, you might want to increase the number of iterations\n",
        "  ' to increase the number of iterations')\n"
       ]
      },
      {
       "output_type": "stream",
       "stream": "stderr",
       "text": [
        "C:\\Python27\\lib\\site-packages\\sklearn\\linear_model\\coordinate_descent.py:244: UserWarning: Objective did not converge for target 20, you might want to increase the number of iterations\n",
        "  ' to increase the number of iterations')\n",
        "C:\\Python27\\lib\\site-packages\\sklearn\\linear_model\\coordinate_descent.py:244: UserWarning: Objective did not converge for target 21, you might want to increase the number of iterations\n",
        "  ' to increase the number of iterations')\n"
       ]
      },
      {
       "output_type": "stream",
       "stream": "stderr",
       "text": [
        "C:\\Python27\\lib\\site-packages\\sklearn\\linear_model\\coordinate_descent.py:244: UserWarning: Objective did not converge for target 22, you might want to increase the number of iterations\n",
        "  ' to increase the number of iterations')\n",
        "C:\\Python27\\lib\\site-packages\\sklearn\\linear_model\\coordinate_descent.py:244: UserWarning: Objective did not converge for target 23, you might want to increase the number of iterations\n",
        "  ' to increase the number of iterations')\n"
       ]
      },
      {
       "output_type": "stream",
       "stream": "stderr",
       "text": [
        "C:\\Python27\\lib\\site-packages\\sklearn\\linear_model\\coordinate_descent.py:244: UserWarning: Objective did not converge for target 24, you might want to increase the number of iterations\n",
        "  ' to increase the number of iterations')\n",
        "C:\\Python27\\lib\\site-packages\\sklearn\\linear_model\\coordinate_descent.py:244: UserWarning: Objective did not converge for target 25, you might want to increase the number of iterations\n",
        "  ' to increase the number of iterations')\n"
       ]
      },
      {
       "output_type": "stream",
       "stream": "stderr",
       "text": [
        "C:\\Python27\\lib\\site-packages\\sklearn\\linear_model\\coordinate_descent.py:244: UserWarning: Objective did not converge for target 26, you might want to increase the number of iterations\n",
        "  ' to increase the number of iterations')\n",
        "C:\\Python27\\lib\\site-packages\\sklearn\\linear_model\\coordinate_descent.py:244: UserWarning: Objective did not converge for target 27, you might want to increase the number of iterations\n",
        "  ' to increase the number of iterations')\n"
       ]
      },
      {
       "output_type": "stream",
       "stream": "stderr",
       "text": [
        "C:\\Python27\\lib\\site-packages\\sklearn\\linear_model\\coordinate_descent.py:244: UserWarning: Objective did not converge for target 29, you might want to increase the number of iterations\n",
        "  ' to increase the number of iterations')\n",
        "C:\\Python27\\lib\\site-packages\\sklearn\\linear_model\\coordinate_descent.py:244: UserWarning: Objective did not converge for target 30, you might want to increase the number of iterations\n",
        "  ' to increase the number of iterations')\n"
       ]
      },
      {
       "output_type": "stream",
       "stream": "stderr",
       "text": [
        "C:\\Python27\\lib\\site-packages\\sklearn\\linear_model\\coordinate_descent.py:244: UserWarning: Objective did not converge for target 31, you might want to increase the number of iterations\n",
        "  ' to increase the number of iterations')\n",
        "C:\\Python27\\lib\\site-packages\\sklearn\\linear_model\\coordinate_descent.py:244: UserWarning: Objective did not converge for target 32, you might want to increase the number of iterations\n",
        "  ' to increase the number of iterations')\n"
       ]
      },
      {
       "output_type": "stream",
       "stream": "stderr",
       "text": [
        "C:\\Python27\\lib\\site-packages\\sklearn\\linear_model\\coordinate_descent.py:244: UserWarning: Objective did not converge for target 33, you might want to increase the number of iterations\n",
        "  ' to increase the number of iterations')\n",
        "C:\\Python27\\lib\\site-packages\\sklearn\\linear_model\\coordinate_descent.py:244: UserWarning: Objective did not converge for target 34, you might want to increase the number of iterations\n",
        "  ' to increase the number of iterations')\n"
       ]
      },
      {
       "output_type": "stream",
       "stream": "stderr",
       "text": [
        "C:\\Python27\\lib\\site-packages\\sklearn\\linear_model\\coordinate_descent.py:244: UserWarning: Objective did not converge for target 35, you might want to increase the number of iterations\n",
        "  ' to increase the number of iterations')\n",
        "C:\\Python27\\lib\\site-packages\\sklearn\\linear_model\\coordinate_descent.py:244: UserWarning: Objective did not converge for target 36, you might want to increase the number of iterations\n",
        "  ' to increase the number of iterations')\n"
       ]
      },
      {
       "output_type": "stream",
       "stream": "stderr",
       "text": [
        "C:\\Python27\\lib\\site-packages\\sklearn\\linear_model\\coordinate_descent.py:244: UserWarning: Objective did not converge for target 37, you might want to increase the number of iterations\n",
        "  ' to increase the number of iterations')\n",
        "C:\\Python27\\lib\\site-packages\\sklearn\\linear_model\\coordinate_descent.py:244: UserWarning: Objective did not converge for target 38, you might want to increase the number of iterations\n",
        "  ' to increase the number of iterations')\n"
       ]
      },
      {
       "output_type": "stream",
       "stream": "stderr",
       "text": [
        "C:\\Python27\\lib\\site-packages\\sklearn\\linear_model\\coordinate_descent.py:244: UserWarning: Objective did not converge for target 39, you might want to increase the number of iterations\n",
        "  ' to increase the number of iterations')\n",
        "C:\\Python27\\lib\\site-packages\\sklearn\\linear_model\\coordinate_descent.py:244: UserWarning: Objective did not converge for target 40, you might want to increase the number of iterations\n",
        "  ' to increase the number of iterations')\n"
       ]
      },
      {
       "output_type": "stream",
       "stream": "stderr",
       "text": [
        "C:\\Python27\\lib\\site-packages\\sklearn\\linear_model\\coordinate_descent.py:244: UserWarning: Objective did not converge for target 41, you might want to increase the number of iterations\n",
        "  ' to increase the number of iterations')\n",
        "C:\\Python27\\lib\\site-packages\\sklearn\\linear_model\\coordinate_descent.py:244: UserWarning: Objective did not converge for target 42, you might want to increase the number of iterations\n",
        "  ' to increase the number of iterations')\n"
       ]
      },
      {
       "output_type": "stream",
       "stream": "stderr",
       "text": [
        "C:\\Python27\\lib\\site-packages\\sklearn\\linear_model\\coordinate_descent.py:244: UserWarning: Objective did not converge for target 43, you might want to increase the number of iterations\n",
        "  ' to increase the number of iterations')\n",
        "C:\\Python27\\lib\\site-packages\\sklearn\\linear_model\\coordinate_descent.py:244: UserWarning: Objective did not converge for target 44, you might want to increase the number of iterations\n",
        "  ' to increase the number of iterations')\n"
       ]
      },
      {
       "output_type": "stream",
       "stream": "stderr",
       "text": [
        "C:\\Python27\\lib\\site-packages\\sklearn\\linear_model\\coordinate_descent.py:244: UserWarning: Objective did not converge for target 45, you might want to increase the number of iterations\n",
        "  ' to increase the number of iterations')\n",
        "C:\\Python27\\lib\\site-packages\\sklearn\\linear_model\\coordinate_descent.py:244: UserWarning: Objective did not converge for target 46, you might want to increase the number of iterations\n",
        "  ' to increase the number of iterations')\n"
       ]
      },
      {
       "output_type": "stream",
       "stream": "stderr",
       "text": [
        "C:\\Python27\\lib\\site-packages\\sklearn\\linear_model\\coordinate_descent.py:244: UserWarning: Objective did not converge for target 47, you might want to increase the number of iterations\n",
        "  ' to increase the number of iterations')\n",
        "C:\\Python27\\lib\\site-packages\\sklearn\\linear_model\\coordinate_descent.py:244: UserWarning: Objective did not converge for target 48, you might want to increase the number of iterations\n",
        "  ' to increase the number of iterations')\n"
       ]
      },
      {
       "output_type": "stream",
       "stream": "stderr",
       "text": [
        "C:\\Python27\\lib\\site-packages\\sklearn\\linear_model\\coordinate_descent.py:244: UserWarning: Objective did not converge for target 49, you might want to increase the number of iterations\n",
        "  ' to increase the number of iterations')\n",
        "C:\\Python27\\lib\\site-packages\\sklearn\\linear_model\\coordinate_descent.py:244: UserWarning: Objective did not converge for target 50, you might want to increase the number of iterations\n",
        "  ' to increase the number of iterations')\n"
       ]
      },
      {
       "output_type": "stream",
       "stream": "stderr",
       "text": [
        "C:\\Python27\\lib\\site-packages\\sklearn\\linear_model\\coordinate_descent.py:244: UserWarning: Objective did not converge for target 51, you might want to increase the number of iterations\n",
        "  ' to increase the number of iterations')\n",
        "C:\\Python27\\lib\\site-packages\\sklearn\\linear_model\\coordinate_descent.py:244: UserWarning: Objective did not converge for target 52, you might want to increase the number of iterations\n",
        "  ' to increase the number of iterations')\n"
       ]
      },
      {
       "output_type": "stream",
       "stream": "stderr",
       "text": [
        "C:\\Python27\\lib\\site-packages\\sklearn\\linear_model\\coordinate_descent.py:244: UserWarning: Objective did not converge for target 54, you might want to increase the number of iterations\n",
        "  ' to increase the number of iterations')\n",
        "C:\\Python27\\lib\\site-packages\\sklearn\\linear_model\\coordinate_descent.py:244: UserWarning: Objective did not converge for target 55, you might want to increase the number of iterations\n",
        "  ' to increase the number of iterations')\n"
       ]
      },
      {
       "output_type": "stream",
       "stream": "stderr",
       "text": [
        "C:\\Python27\\lib\\site-packages\\sklearn\\linear_model\\coordinate_descent.py:244: UserWarning: Objective did not converge for target 56, you might want to increase the number of iterations\n",
        "  ' to increase the number of iterations')\n",
        "C:\\Python27\\lib\\site-packages\\sklearn\\linear_model\\coordinate_descent.py:244: UserWarning: Objective did not converge for target 57, you might want to increase the number of iterations\n",
        "  ' to increase the number of iterations')\n"
       ]
      },
      {
       "output_type": "stream",
       "stream": "stderr",
       "text": [
        "C:\\Python27\\lib\\site-packages\\sklearn\\linear_model\\coordinate_descent.py:244: UserWarning: Objective did not converge for target 58, you might want to increase the number of iterations\n",
        "  ' to increase the number of iterations')\n",
        "C:\\Python27\\lib\\site-packages\\sklearn\\linear_model\\coordinate_descent.py:244: UserWarning: Objective did not converge for target 59, you might want to increase the number of iterations\n",
        "  ' to increase the number of iterations')\n"
       ]
      },
      {
       "output_type": "stream",
       "stream": "stderr",
       "text": [
        "C:\\Python27\\lib\\site-packages\\sklearn\\linear_model\\coordinate_descent.py:244: UserWarning: Objective did not converge for target 60, you might want to increase the number of iterations\n",
        "  ' to increase the number of iterations')\n",
        "C:\\Python27\\lib\\site-packages\\sklearn\\linear_model\\coordinate_descent.py:244: UserWarning: Objective did not converge for target 61, you might want to increase the number of iterations\n",
        "  ' to increase the number of iterations')\n"
       ]
      },
      {
       "output_type": "stream",
       "stream": "stderr",
       "text": [
        "C:\\Python27\\lib\\site-packages\\sklearn\\linear_model\\coordinate_descent.py:244: UserWarning: Objective did not converge for target 62, you might want to increase the number of iterations\n",
        "  ' to increase the number of iterations')\n",
        "C:\\Python27\\lib\\site-packages\\sklearn\\linear_model\\coordinate_descent.py:244: UserWarning: Objective did not converge for target 63, you might want to increase the number of iterations\n",
        "  ' to increase the number of iterations')\n"
       ]
      },
      {
       "output_type": "stream",
       "stream": "stderr",
       "text": [
        "C:\\Python27\\lib\\site-packages\\sklearn\\linear_model\\coordinate_descent.py:244: UserWarning: Objective did not converge for target 64, you might want to increase the number of iterations\n",
        "  ' to increase the number of iterations')\n",
        "C:\\Python27\\lib\\site-packages\\sklearn\\linear_model\\coordinate_descent.py:244: UserWarning: Objective did not converge for target 65, you might want to increase the number of iterations\n",
        "  ' to increase the number of iterations')\n"
       ]
      },
      {
       "output_type": "pyout",
       "prompt_number": 74,
       "text": [
        "Lasso(alpha=1e-10, copy_X=True, fit_intercept=False, max_iter=2000,\n",
        "   normalize=False, positive=False, precompute='auto', tol=0.0001,\n",
        "   warm_start=False)"
       ]
      }
     ],
     "prompt_number": 74
    },
    {
     "cell_type": "code",
     "collapsed": false,
     "input": [
      "coefs = np.zeros([col_tree.tree_size,np.shape(lasso.coef_)[0]])\n",
      "coefs[col_indices,:] = lasso.coef_.T\n",
      "full_cl = col_tree.char_library()\n",
      "lasso_impute = full_cl.dot(coefs)"
     ],
     "language": "python",
     "metadata": {},
     "outputs": [],
     "prompt_number": 75
    },
    {
     "cell_type": "code",
     "collapsed": false,
     "input": [
      "np.sum(np.abs(np.sign(lasso_impute[inactive_indices,:])- out_data[501:,:].T))/(2.0*m*n)"
     ],
     "language": "python",
     "metadata": {},
     "outputs": [
      {
       "output_type": "pyout",
       "prompt_number": 85,
       "text": [
        "0.31823765914675006"
       ]
      }
     ],
     "prompt_number": 85
    },
    {
     "cell_type": "code",
     "collapsed": false,
     "input": [
      "np.shape(lasso_impute)"
     ],
     "language": "python",
     "metadata": {},
     "outputs": [
      {
       "output_type": "pyout",
       "prompt_number": 87,
       "text": [
        "(2428L, 66L)"
       ]
      }
     ],
     "prompt_number": 87
    },
    {
     "cell_type": "code",
     "collapsed": false,
     "input": [
      "regr.coef_"
     ],
     "language": "python",
     "metadata": {},
     "outputs": [
      {
       "output_type": "pyout",
       "prompt_number": 88,
       "text": [
        "array([[ 0.08260367, -0.02012741,  0.00679241, ...,  0.0011022 ,\n",
        "         0.0455795 , -0.00565407],\n",
        "       [ 0.01281761, -0.03554529, -0.0295071 , ..., -0.05891966,\n",
        "         0.00739954, -0.0641034 ],\n",
        "       [-0.02119632,  0.01999948, -0.02301797, ...,  0.05147828,\n",
        "         0.0601131 ,  0.13798514],\n",
        "       ..., \n",
        "       [-0.00910901,  0.07047724,  0.07115587, ...,  0.00682802,\n",
        "         0.03661628, -0.01152308],\n",
        "       [-0.04833074,  0.0794663 , -0.01215385, ...,  0.00510684,\n",
        "        -0.00492587,  0.02611413],\n",
        "       [-0.00327931, -0.03610235,  0.0277352 , ..., -0.00410526,\n",
        "         0.0604994 ,  0.01106732]])"
       ]
      }
     ],
     "prompt_number": 88
    },
    {
     "cell_type": "code",
     "collapsed": false,
     "input": [
      "regr.residues_"
     ],
     "language": "python",
     "metadata": {},
     "outputs": [
      {
       "output_type": "pyout",
       "prompt_number": 90,
       "text": [
        "array([ 459.33505851,  427.61650788,  480.26538391,  400.00706717,\n",
        "        408.03571881,  396.6942507 ,  329.30251683,  373.82018415,\n",
        "        515.96480286,  343.0961317 ,  482.88760497,  403.70337847,\n",
        "        454.83022324,  364.29315614,  268.69875599,  427.49327273,\n",
        "        354.66782389,  402.3237691 ,  347.19701568,  461.85003599,\n",
        "        492.61234209,  504.0446665 ,  432.86704907,  423.90088366,\n",
        "        384.42787647,  343.23309948,  383.99410427,  481.94735052,\n",
        "        258.12772388,  432.01708365,  550.66268158,  352.67645416,\n",
        "        427.4045995 ,  514.99151494,  393.41531992,  461.09394321,\n",
        "        464.52456611,  398.8854937 ,  389.13936595,  556.68224617,\n",
        "        414.47407588,  400.71582786,  355.19809525,  493.3803409 ,\n",
        "        436.10827214,  553.42917736,  409.9326004 ,  449.95334296,\n",
        "        466.53105163,  329.17058491,  400.65949323,  553.84498608,\n",
        "        301.89754496,  164.71171148,  397.49231629,  575.9523422 ,\n",
        "        519.02357425,  455.21866793,  484.32805535,  404.22195964,\n",
        "        446.68520032,  470.69163922,  463.65227717,  363.5411838 ,\n",
        "        535.30502434,  459.87060157])"
       ]
      }
     ],
     "prompt_number": 90
    },
    {
     "cell_type": "code",
     "collapsed": false,
     "input": [],
     "language": "python",
     "metadata": {},
     "outputs": []
    }
   ],
   "metadata": {}
  }
 ]
}