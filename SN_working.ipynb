{
 "metadata": {
  "name": ""
 },
 "nbformat": 3,
 "nbformat_minor": 0,
 "worksheets": [
  {
   "cells": [
    {
     "cell_type": "code",
     "collapsed": false,
     "input": [
      "import numpy as np\n",
      "import pyquest_M as pym"
     ],
     "language": "python",
     "metadata": {},
     "outputs": [],
     "prompt_number": 37
    },
    {
     "cell_type": "code",
     "collapsed": false,
     "input": [
      "pm = pym.PyQuestDataModel()"
     ],
     "language": "python",
     "metadata": {},
     "outputs": [],
     "prompt_number": 38
    },
    {
     "cell_type": "code",
     "collapsed": false,
     "input": [
      "pm.load(\"SN.session\")"
     ],
     "language": "python",
     "metadata": {},
     "outputs": [],
     "prompt_number": 39
    },
    {
     "cell_type": "code",
     "collapsed": false,
     "input": [
      "d = np.load(\"SN_mauro_basic.npz\")\n",
      "d['ptitles']"
     ],
     "language": "python",
     "metadata": {},
     "outputs": [
      {
       "metadata": {},
       "output_type": "pyout",
       "prompt_number": 45,
       "text": [
        "array([ u'10000.  ANTHROPOLOGY AND ARCHAEOLOGY Languishing languages: Cultures at risk, 2/25/95',\n",
        "       u'10001.  ANTHROPOLOGY AND ARCHAEOLOGY African finds revise cultural roots',\n",
        "       u'10002.  ASTRONOMY AND SPACE SCIENCES Solar system scenes Images and spectra offer new views from Venus to ',\n",
        "       ...,\n",
        "       u'11155. By a nose, worms reveal new Prozac targets,   (9/25/99) ',\n",
        "       u'11156. Massive black holes let there be light,   (9/25/99) Massive black holes let there be light ',\n",
        "       u'11157.   (9/4/99): Rarest of the Rare Rarest of the Rare Remote-camera images and dung-heap data give a po'], \n",
        "      dtype='<U107')"
       ]
      }
     ],
     "prompt_number": 45
    },
    {
     "cell_type": "code",
     "collapsed": false,
     "input": [
      "qrun = pm.quest_runs[-1]\n",
      "row_tree = qrun.row_trees[-1]\n",
      "col_tree = qrun.col_trees[-1]\n",
      "row_vecs = pm.row_vecs\n",
      "row_vals = pm.row_vals\n",
      "col_vecs = pm.col_vecs\n",
      "col_vals = pm.col_vals\n",
      "import viewer_files\n",
      "viewer_files.write_tree_viewer(\"rows.pickle\",row_tree,row_vecs,row_vals,descs=pm.row_data.data)\n",
      "viewer_files.write_tree_viewer(\"cols.pickle\",col_tree,col_vecs,col_vals,descs=d['ptitles'])\n"
     ],
     "language": "python",
     "metadata": {},
     "outputs": [],
     "prompt_number": 46
    },
    {
     "cell_type": "code",
     "collapsed": false,
     "input": [
      "col_tree = qrun.col_trees[-1]"
     ],
     "language": "python",
     "metadata": {},
     "outputs": [],
     "prompt_number": 41
    },
    {
     "cell_type": "code",
     "collapsed": false,
     "input": [
      "[x.size for x in col_tree.children]"
     ],
     "language": "python",
     "metadata": {},
     "outputs": [
      {
       "metadata": {},
       "output_type": "pyout",
       "prompt_number": 42,
       "text": [
        "[1, 53, 993]"
       ]
      }
     ],
     "prompt_number": 42
    },
    {
     "cell_type": "code",
     "collapsed": false,
     "input": [
      "col_tree.children[0].elements"
     ],
     "language": "python",
     "metadata": {},
     "outputs": [
      {
       "metadata": {},
       "output_type": "pyout",
       "prompt_number": 47,
       "text": [
        "[347]"
       ]
      }
     ],
     "prompt_number": 47
    },
    {
     "cell_type": "code",
     "collapsed": false,
     "input": [],
     "language": "python",
     "metadata": {},
     "outputs": [],
     "prompt_number": 43
    },
    {
     "cell_type": "code",
     "collapsed": false,
     "input": [],
     "language": "python",
     "metadata": {},
     "outputs": [],
     "prompt_number": 43
    }
   ],
   "metadata": {}
  }
 ]
}