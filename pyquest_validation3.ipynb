{
 "metadata": {
  "name": "pyquest_validation3"
 },
 "nbformat": 3,
 "nbformat_minor": 0,
 "worksheets": [
  {
   "cells": [
    {
     "cell_type": "code",
     "collapsed": false,
     "input": [
      "\"\"\"\n",
      "This script is running the questionnaire for various options.\n",
      "\"\"\"\n",
      "import numpy as np\n",
      "import scipy.io\n",
      "import affinity \n",
      "reload(affinity)\n",
      "import bintree_cut\n",
      "reload(bintree_cut)\n",
      "import dual_affinity\n",
      "reload(dual_affinity)\n",
      "import matlab_util\n",
      "import tree_util\n",
      "reload(tree_util)\n",
      "import scoring\n",
      "reload(scoring)\n",
      "import barcode"
     ],
     "language": "python",
     "metadata": {},
     "outputs": [],
     "prompt_number": 10
    },
    {
     "cell_type": "code",
     "collapsed": false,
     "input": [
      "#Load data matrix (MMPI2 raw data)\n",
      "\n",
      "DEFAULT_DATA_PATH = (\"/users/jerrod/Google Drive/Yale_Research/Questionnaire_2D_20130614/Examples/\")\n",
      "DEFAULT_DATA_FILE = \"MMPI2.mat\"\n",
      "\n",
      "mdict = scipy.io.loadmat(DEFAULT_DATA_PATH+DEFAULT_DATA_FILE)\n",
      "data = mdict[\"matrix\"]"
     ],
     "language": "python",
     "metadata": {},
     "outputs": [],
     "prompt_number": 11
    },
    {
     "cell_type": "code",
     "collapsed": false,
     "input": [
      "#Generate initial affinity\n",
      "init_row_aff = affinity.mutual_cosine_similarity(data.T,True,0)\n",
      "init_col_aff = affinity.mutual_cosine_similarity(data,True,0)"
     ],
     "language": "python",
     "metadata": {},
     "outputs": [],
     "prompt_number": 12
    },
    {
     "cell_type": "code",
     "collapsed": false,
     "input": [
      "#Compute diffusion embedding of initial affinities\n",
      "init_row_vecs,init_row_vals = bintree_cut.markov_eigs(init_row_aff, 12)\n",
      "init_col_vecs,init_col_vals = bintree_cut.markov_eigs(init_col_aff, 12)"
     ],
     "language": "python",
     "metadata": {},
     "outputs": [],
     "prompt_number": 13
    },
    {
     "cell_type": "code",
     "collapsed": false,
     "input": [
      "#Generate median trees\n",
      "init_row_tree = bintree_cut.median_tree(init_row_vecs,init_row_vals,max_levels=12)\n",
      "init_col_tree = bintree_cut.median_tree(init_col_vecs,init_col_vals,max_levels=12)"
     ],
     "language": "python",
     "metadata": {},
     "outputs": [],
     "prompt_number": 14
    },
    {
     "cell_type": "code",
     "collapsed": false,
     "input": [
      "#Generate dual tree\n",
      "dual_col_trees = [init_col_tree]\n",
      "dual_row_trees = [init_row_tree]\n",
      "\n",
      "for i in xrange(3):\n",
      "    dual_col_trees.append(bintree_cut.eigen_tree(data,dual_row_trees[-1],dual_affinity.emd_dual_aff))\n",
      "    dual_row_trees.append(bintree_cut.eigen_tree(data.T,dual_col_trees[-1],dual_affinity.emd_dual_aff))"
     ],
     "language": "python",
     "metadata": {},
     "outputs": [],
     "prompt_number": 15
    },
    {
     "cell_type": "code",
     "collapsed": false,
     "input": [
      "thresholds = [0.02,0.01,0.005,0.001,0.0005,1e-4,1e-5,1e-6,1e-7]"
     ],
     "language": "python",
     "metadata": {},
     "outputs": [],
     "prompt_number": 16
    },
    {
     "cell_type": "code",
     "collapsed": false,
     "input": [
      "dual_row_tree = dual_row_trees[-1]\n",
      "dual_col_tree = dual_col_trees[-1]\n",
      "\n",
      "coefs = tree_util.bitree_transform(data,dual_row_tree,dual_col_tree)\n",
      "\n",
      "rmats = np.zeros((len(thresholds),np.shape(data)[0],np.shape(data)[1]))\n",
      "coefs_used = {}\n",
      "\n",
      "for (idx,thres) in enumerate(thresholds):\n",
      "    rmats[idx,:,:], coefs_used[thres] = tree_util.inverse_bitree_transform(coefs,dual_row_tree,dual_col_tree,thres)\n",
      "    \n",
      "scores = {}\n",
      "for (idx,thres) in enumerate(thresholds):\n",
      "    scores[thres] = scoring.Score(data,rmats[idx,:,:])\n",
      "    print coefs_used[thres], scores[thres].class_pct"
     ],
     "language": "python",
     "metadata": {},
     "outputs": [
      {
       "output_type": "stream",
       "stream": "stdout",
       "text": [
        "18.4460444886 0.702271267895\n",
        "35.1220553121"
       ]
      },
      {
       "output_type": "stream",
       "stream": "stdout",
       "text": [
        " 0.709018679777\n",
        "64.3719490867"
       ]
      },
      {
       "output_type": "stream",
       "stream": "stdout",
       "text": [
        " 0.713245527633\n",
        "251.540275153"
       ]
      },
      {
       "output_type": "stream",
       "stream": "stdout",
       "text": [
        " 0.719466308703\n",
        "476.869121469"
       ]
      },
      {
       "output_type": "stream",
       "stream": "stdout",
       "text": [
        " 0.722793889049\n",
        "3388.57635338"
       ]
      },
      {
       "output_type": "stream",
       "stream": "stdout",
       "text": [
        " 0.734447320938\n",
        "36317.5827292"
       ]
      },
      {
       "output_type": "stream",
       "stream": "stdout",
       "text": [
        " 0.772069826161\n",
        "193073.925507"
       ]
      },
      {
       "output_type": "stream",
       "stream": "stdout",
       "text": [
        " 0.851789382542\n",
        "870779.525505"
       ]
      },
      {
       "output_type": "stream",
       "stream": "stdout",
       "text": [
        " 0.996745784774\n"
       ]
      }
     ],
     "prompt_number": 17
    },
    {
     "cell_type": "code",
     "collapsed": false,
     "input": [
      "#really simple thing: just use the classifier based on the question average.\n",
      "rq_avg = np.repeat(np.reshape(np.mean(data,axis=1),[-1,1]),2428,axis=1)\n",
      "rq_score = scoring.Score(data,rq_avg)\n",
      "rq_score.class_pct"
     ],
     "language": "python",
     "metadata": {},
     "outputs": [
      {
       "output_type": "pyout",
       "prompt_number": 18,
       "text": [
        "0.64019565969044279"
       ]
      }
     ],
     "prompt_number": 18
    },
    {
     "cell_type": "code",
     "collapsed": false,
     "input": [
      "#PCA\n",
      "cdata = data - np.mean(data)\n",
      "u,s,v = scipy.linalg.svd(cdata.T)\n",
      "print s[0:20]\n",
      "k = 7\n",
      "smat = scipy.linalg.diagsvd(s[0:k],2428,k)\n",
      "t = u.dot(smat).dot(v[0:k,:]) + np.mean(data)\n",
      "pca_score = scoring.Score(data,t.T)\n",
      "print pca_score.class_pct"
     ],
     "language": "python",
     "metadata": {},
     "outputs": [
      {
       "output_type": "stream",
       "stream": "stdout",
       "text": [
        "[ 439.63425449  391.80671042  210.25431602  143.77824668  132.44367505\n",
        "  122.06209212  114.01134988  104.54438043  101.85100061   95.57102729\n",
        "   90.46006163   88.10848418   85.92674373   84.36790436   79.99392041\n",
        "   78.59736748   75.19118117   73.32150663   71.34472325   70.1872427 ]\n",
        "0.749848185049"
       ]
      },
      {
       "output_type": "stream",
       "stream": "stdout",
       "text": [
        "\n"
       ]
      }
     ],
     "prompt_number": 19
    },
    {
     "cell_type": "code",
     "collapsed": false,
     "input": [
      "scipy.linalg.diagsvd(np.array([1,0.5,0.25,0.125]),10,4)"
     ],
     "language": "python",
     "metadata": {},
     "outputs": [
      {
       "output_type": "pyout",
       "prompt_number": 20,
       "text": [
        "array([[ 1.   ,  0.   ,  0.   ,  0.   ],\n",
        "       [ 0.   ,  0.5  ,  0.   ,  0.   ],\n",
        "       [ 0.   ,  0.   ,  0.25 ,  0.   ],\n",
        "       [ 0.   ,  0.   ,  0.   ,  0.125],\n",
        "       [ 0.   ,  0.   ,  0.   ,  0.   ],\n",
        "       [ 0.   ,  0.   ,  0.   ,  0.   ],\n",
        "       [ 0.   ,  0.   ,  0.   ,  0.   ],\n",
        "       [ 0.   ,  0.   ,  0.   ,  0.   ],\n",
        "       [ 0.   ,  0.   ,  0.   ,  0.   ],\n",
        "       [ 0.   ,  0.   ,  0.   ,  0.   ]])"
       ]
      }
     ],
     "prompt_number": 20
    },
    {
     "cell_type": "code",
     "collapsed": false,
     "input": [
      "reload(scoring)\n",
      "score = scoring.Score(data,rmats[2,:,:])\n",
      "score.error_rate_hist(0)\n",
      "score.error_rate_hist(1)"
     ],
     "language": "python",
     "metadata": {},
     "outputs": [
      {
       "output_type": "display_data",
       "png": "[encoded data removed]"
      },
      {
       "output_type": "display_data",
       "png": "[encoded data removed]"
      }
     ],
     "prompt_number": 21
    },
    {
     "cell_type": "code",
     "collapsed": false,
     "input": [
      "score.error_rate_bar(0)\n",
      "score.error_rate_bar(1)"
     ],
     "language": "python",
     "metadata": {},
     "outputs": [
      {
       "output_type": "display_data",
       "png": "[encoded data removed]"
      },
      {
       "output_type": "display_data",
       "png": "[encoded data removed]"
      }
     ],
     "prompt_number": 22
    },
    {
     "cell_type": "code",
     "collapsed": false,
     "input": [
      "score.error_rate_bar(0,True,dual_row_tree,dual_col_tree)\n",
      "score.error_rate_bar(1,True,dual_row_tree,dual_col_tree)"
     ],
     "language": "python",
     "metadata": {},
     "outputs": [
      {
       "output_type": "display_data",
       "png": "[encoded data removed]"
      },
      {
       "output_type": "display_data",
       "png": "[encoded data removed]"
      }
     ],
     "prompt_number": 23
    },
    {
     "cell_type": "code",
     "collapsed": false,
     "input": [
      "print coefs_used"
     ],
     "language": "python",
     "metadata": {},
     "outputs": [
      {
       "output_type": "stream",
       "stream": "stdout",
       "text": [
        "{0.02: 18.446044488605644, 0.0005: 476.86912146918502, 1e-07: 870779.52550540224, 0.001: 251.54027515313135, 0.0001: 3388.576353384758, 1e-06: 193073.92550729195, 1e-05: 36317.58272923145, 0.01: 35.12205531210077, 0.005: 64.371949086658532}\n"
       ]
      }
     ],
     "prompt_number": 26
    },
    {
     "cell_type": "code",
     "collapsed": false,
     "input": [
      "axis = 0\n",
      "y = 1.0*np.sum(score.class_misses,axis=axis)/np.shape(score.class_misses)[axis]\n",
      "h = plt.hist(y,bins=50,cumulative=True)\n",
      "plt.xlabel(\"Error rate\")\n",
      "plt.show()"
     ],
     "language": "python",
     "metadata": {},
     "outputs": [
      {
       "output_type": "display_data",
       "png": "[encoded data removed]"
      }
     ],
     "prompt_number": 30
    },
    {
     "cell_type": "code",
     "collapsed": false,
     "input": [
      "h"
     ],
     "language": "python",
     "metadata": {},
     "outputs": [
      {
       "output_type": "pyout",
       "prompt_number": 31,
       "text": [
        "(array([   5,   15,   25,   41,   68,   83,  106,  123,  150,  178,  210,\n",
        "        247,  298,  379,  454,  559,  658,  780,  965, 1135, 1330, 1491,\n",
        "       1679, 1819, 1942, 2058, 2114, 2184, 2222, 2255, 2276, 2303, 2315,\n",
        "       2333, 2343, 2352, 2367, 2375, 2389, 2399, 2406, 2413, 2415, 2419,\n",
        "       2422, 2424, 2425, 2427, 2427, 2428]),\n",
        " array([ 0.09171076,  0.10130511,  0.11089947,  0.12049383,  0.13008818,\n",
        "        0.13968254,  0.1492769 ,  0.15887125,  0.16846561,  0.17805996,\n",
        "        0.18765432,  0.19724868,  0.20684303,  0.21643739,  0.22603175,\n",
        "        0.2356261 ,  0.24522046,  0.25481481,  0.26440917,  0.27400353,\n",
        "        0.28359788,  0.29319224,  0.3027866 ,  0.31238095,  0.32197531,\n",
        "        0.33156966,  0.34116402,  0.35075838,  0.36035273,  0.36994709,\n",
        "        0.37954145,  0.3891358 ,  0.39873016,  0.40832451,  0.41791887,\n",
        "        0.42751323,  0.43710758,  0.44670194,  0.4562963 ,  0.46589065,\n",
        "        0.47548501,  0.48507937,  0.49467372,  0.50426808,  0.51386243,\n",
        "        0.52345679,  0.53305115,  0.5426455 ,  0.55223986,  0.56183422,\n",
        "        0.57142857]),\n",
        " <a list of 50 Patch objects>)"
       ]
      }
     ],
     "prompt_number": 31
    },
    {
     "cell_type": "code",
     "collapsed": false,
     "input": [
      "np.diff(h[0])"
     ],
     "language": "python",
     "metadata": {},
     "outputs": [
      {
       "output_type": "pyout",
       "prompt_number": 32,
       "text": [
        "array([ 10,  10,  16,  27,  15,  23,  17,  27,  28,  32,  37,  51,  81,\n",
        "        75, 105,  99, 122, 185, 170, 195, 161, 188, 140, 123, 116,  56,\n",
        "        70,  38,  33,  21,  27,  12,  18,  10,   9,  15,   8,  14,  10,\n",
        "         7,   7,   2,   4,   3,   2,   1,   2,   0,   1])"
       ]
      }
     ],
     "prompt_number": 32
    },
    {
     "cell_type": "code",
     "collapsed": false,
     "input": [
      "cutoff = h[1][29]"
     ],
     "language": "python",
     "metadata": {},
     "outputs": [],
     "prompt_number": 33
    },
    {
     "cell_type": "code",
     "collapsed": false,
     "input": [
      "cutoff*567"
     ],
     "language": "python",
     "metadata": {},
     "outputs": [
      {
       "output_type": "pyout",
       "prompt_number": 36,
       "text": [
        "209.75999999999999"
       ]
      }
     ],
     "prompt_number": 36
    },
    {
     "cell_type": "code",
     "collapsed": false,
     "input": [
      "people_sums = np.sum(score.class_misses,axis=0)"
     ],
     "language": "python",
     "metadata": {},
     "outputs": [],
     "prompt_number": 37
    },
    {
     "cell_type": "code",
     "collapsed": false,
     "input": [
      "people_indices = people_sums < 210"
     ],
     "language": "python",
     "metadata": {},
     "outputs": [],
     "prompt_number": 47
    },
    {
     "cell_type": "code",
     "collapsed": false,
     "input": [
      "axis = 1\n",
      "y = 1.0*np.sum(score.class_misses,axis=axis)/np.shape(score.class_misses)[axis]\n",
      "h = plt.hist(y,bins=50,cumulative=True)\n",
      "plt.xlabel(\"Error rate\")\n",
      "plt.show()"
     ],
     "language": "python",
     "metadata": {},
     "outputs": [
      {
       "output_type": "display_data",
       "png": "[encoded data removed]"
      }
     ],
     "prompt_number": 41
    },
    {
     "cell_type": "code",
     "collapsed": false,
     "input": [
      "np.diff(h[0])"
     ],
     "language": "python",
     "metadata": {},
     "outputs": [
      {
       "output_type": "pyout",
       "prompt_number": 42,
       "text": [
        "array([ 1,  0,  2,  3,  1,  4,  4,  4,  5, 10,  4,  8,  7, 10,  8, 10,  9,\n",
        "       14, 14, 20, 31, 26, 25, 21, 40, 38, 23, 33, 20, 29, 22, 18, 22, 12,\n",
        "       14, 12,  8,  9,  4,  8,  0,  5,  3,  1,  0,  2,  0,  1,  1])"
       ]
      }
     ],
     "prompt_number": 42
    },
    {
     "cell_type": "code",
     "collapsed": false,
     "input": [
      "len(h[0])"
     ],
     "language": "python",
     "metadata": {},
     "outputs": [
      {
       "output_type": "pyout",
       "prompt_number": 43,
       "text": [
        "50"
       ]
      }
     ],
     "prompt_number": 43
    },
    {
     "cell_type": "code",
     "collapsed": false,
     "input": [
      "cutoff = h[1][36]"
     ],
     "language": "python",
     "metadata": {},
     "outputs": [],
     "prompt_number": 44
    },
    {
     "cell_type": "code",
     "collapsed": false,
     "input": [
      "cutoff*2428"
     ],
     "language": "python",
     "metadata": {},
     "outputs": [
      {
       "output_type": "pyout",
       "prompt_number": 46,
       "text": [
        "922.24000000000001"
       ]
      }
     ],
     "prompt_number": 46
    },
    {
     "cell_type": "code",
     "collapsed": false,
     "input": [
      "question_sums = np.sum(score.class_misses,axis=1)\n",
      "question_indices = question_sums < 922"
     ],
     "language": "python",
     "metadata": {},
     "outputs": [],
     "prompt_number": 53
    },
    {
     "cell_type": "code",
     "collapsed": false,
     "input": [
      "print np.sum(people_indices), np.sum(question_indices)"
     ],
     "language": "python",
     "metadata": {},
     "outputs": [
      {
       "output_type": "stream",
       "stream": "stdout",
       "text": [
        "2222 513\n"
       ]
      }
     ],
     "prompt_number": 54
    },
    {
     "cell_type": "code",
     "collapsed": false,
     "input": [
      "reduced_data = data[question_indices,:][:,people_indices]"
     ],
     "language": "python",
     "metadata": {},
     "outputs": [],
     "prompt_number": 56
    },
    {
     "cell_type": "code",
     "collapsed": false,
     "input": [
      "np.shape(reduced_data)"
     ],
     "language": "python",
     "metadata": {},
     "outputs": [
      {
       "output_type": "pyout",
       "prompt_number": 57,
       "text": [
        "(513L, 2222L)"
       ]
      }
     ],
     "prompt_number": 57
    },
    {
     "cell_type": "code",
     "collapsed": false,
     "input": [
      "orig_recon_data = score.recon_data[question_indices,:][:,people_indices]"
     ],
     "language": "python",
     "metadata": {},
     "outputs": [],
     "prompt_number": 58
    },
    {
     "cell_type": "code",
     "collapsed": false,
     "input": [
      "orig_score = scoring.Score(reduced_data,orig_recon_data)"
     ],
     "language": "python",
     "metadata": {},
     "outputs": [],
     "prompt_number": 59
    },
    {
     "cell_type": "code",
     "collapsed": false,
     "input": [
      "orig_score.class_pct"
     ],
     "language": "python",
     "metadata": {},
     "outputs": [
      {
       "output_type": "pyout",
       "prompt_number": 60,
       "text": [
        "0.7399652245926347"
       ]
      }
     ],
     "prompt_number": 60
    },
    {
     "cell_type": "code",
     "collapsed": false,
     "input": [
      "#Generate initial affinity\n",
      "init_row_aff = affinity.mutual_cosine_similarity(reduced_data.T,True,0)\n",
      "init_col_aff = affinity.mutual_cosine_similarity(reduced_data,True,0)\n",
      "\n",
      "#Compute diffusion embedding of initial affinities\n",
      "init_row_vecs,init_row_vals = bintree_cut.markov_eigs(init_row_aff, 12)\n",
      "init_col_vecs,init_col_vals = bintree_cut.markov_eigs(init_col_aff, 12)\n",
      "\n",
      "#Generate median trees\n",
      "init_row_tree = bintree_cut.median_tree(init_row_vecs,init_row_vals,max_levels=12)\n",
      "init_col_tree = bintree_cut.median_tree(init_col_vecs,init_col_vals,max_levels=12)\n",
      "\n",
      "dual_col_trees = [init_col_tree]\n",
      "dual_row_trees = [init_row_tree]\n",
      "\n",
      "for i in xrange(3):\n",
      "    dual_col_trees.append(bintree_cut.eigen_tree(reduced_data,dual_row_trees[-1],dual_affinity.emd_dual_aff,noise=0.03))\n",
      "    dual_row_trees.append(bintree_cut.eigen_tree(reduced_data.T,dual_col_trees[-1],dual_affinity.emd_dual_aff,noise=0.03))   "
     ],
     "language": "python",
     "metadata": {},
     "outputs": [],
     "prompt_number": 61
    },
    {
     "cell_type": "code",
     "collapsed": false,
     "input": [
      "new_coefs = tree_util.bitree_transform(reduced_data,dual_row_trees[-1],dual_col_trees[-1])\n",
      "new_recon, coefs_l1 = tree_util.inverse_bitree_transform(new_coefs,dual_row_trees[-1],dual_col_trees[-1],0.005)"
     ],
     "language": "python",
     "metadata": {},
     "outputs": [],
     "prompt_number": 62
    },
    {
     "cell_type": "code",
     "collapsed": false,
     "input": [
      "new_score = scoring.Score(reduced_data,new_recon)"
     ],
     "language": "python",
     "metadata": {},
     "outputs": [],
     "prompt_number": 64
    },
    {
     "cell_type": "code",
     "collapsed": false,
     "input": [
      "new_score.class_pct"
     ],
     "language": "python",
     "metadata": {},
     "outputs": [
      {
       "output_type": "pyout",
       "prompt_number": 65,
       "text": [
        "0.73923181791863402"
       ]
      }
     ],
     "prompt_number": 65
    },
    {
     "cell_type": "code",
     "collapsed": false,
     "input": [
      "bad_q_indices = np.logical_not(question_indices)\n",
      "bad_p_indices = np.logical_not(people_indices)\n",
      "bad_data = data[bad_q_indices,:] #[:,bad_p_indices]\n",
      "orig_bad_data = score.recon_data[bad_q_indices,:] #[:,bad_p_indices]\n",
      "orig_bad_score = scoring.Score(bad_data,orig_bad_data)\n",
      "print orig_bad_score.class_pct"
     ],
     "language": "python",
     "metadata": {},
     "outputs": [
      {
       "output_type": "stream",
       "stream": "stdout",
       "text": [
        "0.587040087864\n"
       ]
      }
     ],
     "prompt_number": 73
    },
    {
     "cell_type": "code",
     "collapsed": false,
     "input": [
      "init_row_aff = affinity.mutual_cosine_similarity(bad_data.T,True,0)\n",
      "init_col_aff = affinity.mutual_cosine_similarity(bad_data,True,0)\n",
      "\n",
      "#Compute diffusion embedding of initial affinities\n",
      "init_row_vecs,init_row_vals = bintree_cut.markov_eigs(init_row_aff, 12)\n",
      "init_col_vecs,init_col_vals = bintree_cut.markov_eigs(init_col_aff, 12)\n",
      "\n",
      "#Generate median trees\n",
      "init_row_tree = bintree_cut.median_tree(init_row_vecs,init_row_vals,max_levels=12)\n",
      "init_col_tree = bintree_cut.median_tree(init_col_vecs,init_col_vals,max_levels=12)\n",
      "\n",
      "dual_col_trees = [init_col_tree]\n",
      "dual_row_trees = [init_row_tree]\n",
      "\n",
      "for i in xrange(3):\n",
      "    dual_col_trees.append(bintree_cut.eigen_tree(bad_data,dual_row_trees[-1],dual_affinity.emd_dual_aff,noise=0.03))\n",
      "    dual_row_trees.append(bintree_cut.eigen_tree(bad_data.T,dual_col_trees[-1],dual_affinity.emd_dual_aff,noise=0.03))   \n",
      "\n",
      "\n",
      "bad_coefs = tree_util.bitree_transform(bad_data,dual_row_trees[-1],dual_col_trees[-1])\n",
      "bad_recon, coefs_l1 = tree_util.inverse_bitree_transform(bad_coefs,dual_row_trees[-1],dual_col_trees[-1],0.005)\n",
      "\n",
      "bad_score = scoring.Score(bad_data,bad_recon)\n",
      "print bad_score.class_pct"
     ],
     "language": "python",
     "metadata": {},
     "outputs": [
      {
       "output_type": "stream",
       "stream": "stdout",
       "text": [
        "0.643960888401\n"
       ]
      }
     ],
     "prompt_number": 74
    },
    {
     "cell_type": "code",
     "collapsed": false,
     "input": [
      "bad_q_indices = np.logical_not(question_indices)\n",
      "bad_p_indices = np.logical_not(people_indices)\n",
      "bad_data = data[:,bad_p_indices] #[bad_q_indices,:] #[:,bad_p_indices]\n",
      "orig_bad_data = score.recon_data[:,bad_p_indices] #[bad_q_indices,:] #[:,bad_p_indices]\n",
      "orig_bad_score = scoring.Score(bad_data,orig_bad_data)\n",
      "print orig_bad_score.class_pct\n",
      "\n",
      "init_row_aff = affinity.mutual_cosine_similarity(bad_data.T,True,0)\n",
      "init_col_aff = affinity.mutual_cosine_similarity(bad_data,True,0)\n",
      "\n",
      "#Compute diffusion embedding of initial affinities\n",
      "init_row_vecs,init_row_vals = bintree_cut.markov_eigs(init_row_aff, 12)\n",
      "init_col_vecs,init_col_vals = bintree_cut.markov_eigs(init_col_aff, 12)\n",
      "\n",
      "#Generate median trees\n",
      "init_row_tree = bintree_cut.median_tree(init_row_vecs,init_row_vals,max_levels=12)\n",
      "init_col_tree = bintree_cut.median_tree(init_col_vecs,init_col_vals,max_levels=12)\n",
      "\n",
      "dual_col_trees = [init_col_tree]\n",
      "dual_row_trees = [init_row_tree]\n",
      "\n",
      "for i in xrange(3):\n",
      "    dual_col_trees.append(bintree_cut.eigen_tree(bad_data,dual_row_trees[-1],dual_affinity.emd_dual_aff,noise=0.03))\n",
      "    dual_row_trees.append(bintree_cut.eigen_tree(bad_data.T,dual_col_trees[-1],dual_affinity.emd_dual_aff,noise=0.03))   \n",
      "\n",
      "\n",
      "bad_coefs = tree_util.bitree_transform(bad_data,dual_row_trees[-1],dual_col_trees[-1])\n",
      "bad_recon, coefs_l1 = tree_util.inverse_bitree_transform(bad_coefs,dual_row_trees[-1],dual_col_trees[-1],0.005)\n",
      "\n",
      "bad_score = scoring.Score(bad_data,bad_recon)\n",
      "print bad_score.class_pct"
     ],
     "language": "python",
     "metadata": {},
     "outputs": [
      {
       "output_type": "stream",
       "stream": "stdout",
       "text": [
        "0.575529528604\n",
        "0.606119758223"
       ]
      },
      {
       "output_type": "stream",
       "stream": "stdout",
       "text": [
        "\n"
       ]
      }
     ],
     "prompt_number": 75
    },
    {
     "cell_type": "code",
     "collapsed": false,
     "input": [],
     "language": "python",
     "metadata": {},
     "outputs": []
    }
   ],
   "metadata": {}
  }
 ]
}