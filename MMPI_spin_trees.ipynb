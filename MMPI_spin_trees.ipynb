{
 "metadata": {
  "name": "MMPI_spin_trees"
 },
 "nbformat": 3,
 "nbformat_minor": 0,
 "worksheets": [
  {
   "cells": [
    {
     "cell_type": "markdown",
     "metadata": {},
     "source": [
      "Imports to run questionnaire."
     ]
    },
    {
     "cell_type": "code",
     "collapsed": false,
     "input": [
      "from imports import *\n",
      "import run_quest"
     ],
     "language": "python",
     "metadata": {},
     "outputs": [],
     "prompt_number": 1
    },
    {
     "cell_type": "markdown",
     "metadata": {},
     "source": [
      "Load MMPI data."
     ]
    },
    {
     "cell_type": "code",
     "collapsed": false,
     "input": [
      "data = np.load(\"MMPI2_Depolarized.npz\")[\"data\"]"
     ],
     "language": "python",
     "metadata": {},
     "outputs": [],
     "prompt_number": 2
    },
    {
     "cell_type": "markdown",
     "metadata": {},
     "source": [
      "Generate params_list with different sets of parameters."
     ]
    },
    {
     "cell_type": "code",
     "collapsed": false,
     "input": [
      "params_list = []\n",
      "\n",
      "bal_constants = [1.0,1.05,1.1,1.2,1.3]\n",
      "tree_constants = [0.1,0.15,0.2,0.25,0.3,0.5,0.75,1.0]\n",
      "\n",
      "kwargs = {}\n",
      "kwargs[\"n_iters\"] = 3\n",
      "kwargs[\"threshold\"] = 0.1\n",
      "kwargs[\"row_alpha\"] = 0.5\n",
      "kwargs[\"col_alpha\"] = 0.5\n",
      "kwargs[\"row_beta\"] = 1.0\n",
      "kwargs[\"col_beta\"] = 1.0\n",
      "for bal_constant in bal_constants:\n",
      "    kwargs[\"bal_constant\"] = bal_constant\n",
      "    params = run_quest.PyQuestParams(run_quest.INIT_AFF_COS_SIM,run_quest.TREE_TYPE_BINARY,\n",
      "                                 run_quest.DUAL_EMD,run_quest.DUAL_EMD,**kwargs)\n",
      "    params_list.append(params)\n",
      "for tree_constant in tree_constants:\n",
      "    kwargs[\"tree_constant\"] = tree_constant\n",
      "    params = run_quest.PyQuestParams(run_quest.INIT_AFF_COS_SIM,run_quest.TREE_TYPE_FLEXIBLE,\n",
      "                                 run_quest.DUAL_EMD,run_quest.DUAL_EMD,**kwargs)\n",
      "    params_list.append(params)"
     ],
     "language": "python",
     "metadata": {},
     "outputs": [],
     "prompt_number": 3
    },
    {
     "cell_type": "markdown",
     "metadata": {},
     "source": [
      "Generate sets of trees."
     ]
    },
    {
     "cell_type": "code",
     "collapsed": false,
     "input": [
      "qruns = []\n",
      "for params in params_list:\n",
      "    qruns.append(run_quest.pyquest(data,params))"
     ],
     "language": "python",
     "metadata": {},
     "outputs": [],
     "prompt_number": 4
    },
    {
     "cell_type": "markdown",
     "metadata": {},
     "source": [
      "Pickle the trees and save them."
     ]
    },
    {
     "cell_type": "code",
     "collapsed": false,
     "input": [
      "import cPickle\n",
      "fout = open(\"spin_runs.pickle\",\"wb\")\n",
      "cPickle.dump(qruns,fout)\n",
      "fout.close()"
     ],
     "language": "python",
     "metadata": {},
     "outputs": [],
     "prompt_number": 5
    },
    {
     "cell_type": "code",
     "collapsed": false,
     "input": [],
     "language": "python",
     "metadata": {},
     "outputs": []
    }
   ],
   "metadata": {}
  }
 ]
}