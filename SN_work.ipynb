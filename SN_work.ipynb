{
 "metadata": {
  "name": ""
 },
 "nbformat": 3,
 "nbformat_minor": 0,
 "worksheets": [
  {
   "cells": [
    {
     "cell_type": "code",
     "collapsed": false,
     "input": [
      "from imports import *"
     ],
     "language": "python",
     "metadata": {},
     "outputs": [],
     "prompt_number": 1
    },
    {
     "cell_type": "code",
     "collapsed": false,
     "input": [
      "import pyquest_M as pym"
     ],
     "language": "python",
     "metadata": {},
     "outputs": [],
     "prompt_number": 2
    },
    {
     "cell_type": "code",
     "collapsed": false,
     "input": [
      "pm = pym.PyQuestDataModel()\n",
      "pm.load(\"SN.session\")"
     ],
     "language": "python",
     "metadata": {},
     "outputs": [],
     "prompt_number": 3
    },
    {
     "cell_type": "code",
     "collapsed": false,
     "input": [
      "qrun = pm.quest_runs[-1]\n",
      "row_tree = qrun.row_trees[-1]\n",
      "col_tree = qrun.col_trees[-1]\n",
      "data = pm.data"
     ],
     "language": "python",
     "metadata": {},
     "outputs": [],
     "prompt_number": 4
    },
    {
     "cell_type": "code",
     "collapsed": false,
     "input": [
      "mfile = np.load(\"SN_mauro_basic2.npz\")"
     ],
     "language": "python",
     "metadata": {},
     "outputs": [],
     "prompt_number": 5
    },
    {
     "cell_type": "code",
     "collapsed": false,
     "input": [
      "colors = \"bgrcmykw\"\n",
      "pcat = mfile[\"pcategories\"]"
     ],
     "language": "python",
     "metadata": {},
     "outputs": [],
     "prompt_number": 8
    },
    {
     "cell_type": "code",
     "collapsed": false,
     "input": [
      "plot_utils.plot_embedding(pm.col_vecs,pm.col_vals,1.0,[colors[x] for x in pcat])"
     ],
     "language": "python",
     "metadata": {},
     "outputs": [],
     "prompt_number": 9
    },
    {
     "cell_type": "code",
     "collapsed": false,
     "input": [
      "plt.show()"
     ],
     "language": "python",
     "metadata": {},
     "outputs": [],
     "prompt_number": 10
    },
    {
     "cell_type": "code",
     "collapsed": false,
     "input": [],
     "language": "python",
     "metadata": {},
     "outputs": [
      {
       "metadata": {},
       "output_type": "pyout",
       "prompt_number": 22,
       "text": [
        "array([u'Anth', u'Space', u'Behav', u'Env', u'Life', u'MathCS', u'Med',\n",
        "       u'PhysTech'], \n",
        "      dtype='<U8')"
       ]
      }
     ],
     "prompt_number": 22
    },
    {
     "cell_type": "code",
     "collapsed": false,
     "input": [
      "mfile.keys()"
     ],
     "language": "python",
     "metadata": {},
     "outputs": [
      {
       "metadata": {},
       "output_type": "pyout",
       "prompt_number": 23,
       "text": [
        "['ptitles', 'p_scores', 'pcategories', 'q_descs', 'p_score_descs', 'data']"
       ]
      }
     ],
     "prompt_number": 23
    },
    {
     "cell_type": "code",
     "collapsed": false,
     "input": [
      "mfile[\"pcategories\"]"
     ],
     "language": "python",
     "metadata": {},
     "outputs": [
      {
       "metadata": {},
       "output_type": "pyout",
       "prompt_number": 27,
       "text": [
        "array([u'Anth', u'Space', u'Behav', u'Env', u'Life', u'MathCS', u'Med',\n",
        "       u'PhysTech'], \n",
        "      dtype='<U8')"
       ]
      }
     ],
     "prompt_number": 27
    },
    {
     "cell_type": "code",
     "collapsed": false,
     "input": [
      "qrun = pm.quest_runs[-1]\n",
      "row_tree = qrun.row_trees[-1]\n",
      "col_tree = qrun.col_trees[-1]\n",
      "col_emd = dual_affinity.calc_emd(data,row_tree,alpha=0.0,beta=1.0)\n",
      "col_aff = dual_affinity.emd_dual_aff(col_emd)\n",
      "row_emd = dual_affinity.calc_emd(data.T,col_tree,alpha=0.0,beta=1.0)\n",
      "row_aff = dual_affinity.emd_dual_aff(row_emd)\n",
      "row_vecs, row_vals = markov.markov_eigs(row_aff,12)\n",
      "col_vecs, col_vals = markov.markov_eigs(col_aff,12)\n",
      "import viewer_files\n",
      "viewer_files.write_tree_viewer(\"rows.pickle\",row_tree,row_vecs,row_vals,descs=pm.row_data.data)\n",
      "viewer_files.write_tree_viewer(\"cols.pickle\",col_tree,col_vecs,col_vals,descs=mfile['ptitles'])\n"
     ],
     "language": "python",
     "metadata": {},
     "outputs": [],
     "prompt_number": 16
    },
    {
     "cell_type": "code",
     "collapsed": false,
     "input": [],
     "language": "python",
     "metadata": {},
     "outputs": []
    }
   ],
   "metadata": {}
  }
 ]
}