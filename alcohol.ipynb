{
 "metadata": {
  "name": ""
 },
 "nbformat": 3,
 "nbformat_minor": 0,
 "worksheets": [
  {
   "cells": [
    {
     "cell_type": "code",
     "collapsed": false,
     "input": [
      "from imports import *\n",
      "import scipy.io"
     ],
     "language": "python",
     "metadata": {},
     "outputs": [],
     "prompt_number": 2
    },
    {
     "cell_type": "code",
     "collapsed": false,
     "input": [
      "d = scipy.io.loadmat(\"questionaireData.mat\")"
     ],
     "language": "python",
     "metadata": {},
     "outputs": [],
     "prompt_number": 11
    },
    {
     "cell_type": "code",
     "collapsed": false,
     "input": [
      "d['cleaned_nonalc_dataset'].shape"
     ],
     "language": "python",
     "metadata": {},
     "outputs": [
      {
       "metadata": {},
       "output_type": "pyout",
       "prompt_number": 3,
       "text": [
        "(1736L, 377L)"
       ]
      }
     ],
     "prompt_number": 3
    },
    {
     "cell_type": "code",
     "collapsed": false,
     "input": [
      "nd = np.load(\"depolarized_alcohol.npz\")"
     ],
     "language": "python",
     "metadata": {},
     "outputs": [],
     "prompt_number": 4
    },
    {
     "cell_type": "code",
     "collapsed": false,
     "input": [
      "data = nd[\"data\"]"
     ],
     "language": "python",
     "metadata": {},
     "outputs": [],
     "prompt_number": 5
    },
    {
     "cell_type": "code",
     "collapsed": false,
     "input": [
      "old_data = d['cleaned_nonalc_dataset'].T"
     ],
     "language": "python",
     "metadata": {},
     "outputs": [],
     "prompt_number": 32
    },
    {
     "cell_type": "code",
     "collapsed": false,
     "input": [
      "col_aff = affinity.mutual_cosine_similarity(data)"
     ],
     "language": "python",
     "metadata": {},
     "outputs": [],
     "prompt_number": 19
    },
    {
     "cell_type": "code",
     "collapsed": false,
     "input": [
      "col_aff.shape"
     ],
     "language": "python",
     "metadata": {},
     "outputs": [
      {
       "metadata": {},
       "output_type": "pyout",
       "prompt_number": 20,
       "text": [
        "(1736L, 1736L)"
       ]
      }
     ],
     "prompt_number": 20
    },
    {
     "cell_type": "code",
     "collapsed": false,
     "input": [
      "col_vecs, col_vals = markov.markov_eigs(col_aff,12)"
     ],
     "language": "python",
     "metadata": {},
     "outputs": [],
     "prompt_number": 21
    },
    {
     "cell_type": "code",
     "collapsed": false,
     "input": [
      "alc_scores = d['cleaned_alc_dataset'][:,0]"
     ],
     "language": "python",
     "metadata": {},
     "outputs": [],
     "prompt_number": 22
    },
    {
     "cell_type": "code",
     "collapsed": false,
     "input": [
      "plot_embedding(col_vecs,col_vals,nodecolors=alc_scores*100000)\n",
      "plt.show()"
     ],
     "language": "python",
     "metadata": {},
     "outputs": [],
     "prompt_number": 23
    },
    {
     "cell_type": "code",
     "collapsed": false,
     "input": [
      "col_tree = flex_tree_build.flex_tree_diffusion(col_aff,0.5)"
     ],
     "language": "python",
     "metadata": {},
     "outputs": [],
     "prompt_number": 24
    },
    {
     "cell_type": "code",
     "collapsed": false,
     "input": [
      "plot_tree(col_tree)\n",
      "plt.show()"
     ],
     "language": "python",
     "metadata": {},
     "outputs": [],
     "prompt_number": 25
    },
    {
     "cell_type": "code",
     "collapsed": false,
     "input": [
      "row_emd = dual_affinity.calc_emd(data.T,col_tree,alpha=0.0,beta=1.0)\n",
      "row_aff = dual_affinity.emd_dual_aff(row_emd)\n",
      "row_vecs, row_vals = markov.markov_eigs(row_aff,12)"
     ],
     "language": "python",
     "metadata": {},
     "outputs": [],
     "prompt_number": 26
    },
    {
     "cell_type": "code",
     "collapsed": false,
     "input": [
      "plot_embedding(row_vecs,row_vals)\n",
      "plt.show()"
     ],
     "language": "python",
     "metadata": {},
     "outputs": [],
     "prompt_number": 27
    },
    {
     "cell_type": "code",
     "collapsed": false,
     "input": [
      "row_tree = flex_tree_build.flex_tree_diffusion(row_aff,0.5)"
     ],
     "language": "python",
     "metadata": {},
     "outputs": [],
     "prompt_number": 28
    },
    {
     "cell_type": "code",
     "collapsed": false,
     "input": [
      "plot_tree(row_tree)\n",
      "plt.show()"
     ],
     "language": "python",
     "metadata": {},
     "outputs": [],
     "prompt_number": 29
    },
    {
     "cell_type": "code",
     "collapsed": false,
     "input": [
      "viewer_files.write_tree_viewer('alcohol_row_tree1.tree',row_tree,row_vecs,row_vals,descs=q_descs)"
     ],
     "language": "python",
     "metadata": {},
     "outputs": [
      {
       "ename": "NameError",
       "evalue": "name 'q_descs' is not defined",
       "output_type": "pyerr",
       "traceback": [
        "\u001b[1;31m---------------------------------------------------------------------------\u001b[0m\n\u001b[1;31mNameError\u001b[0m                                 Traceback (most recent call last)",
        "\u001b[1;32m<ipython-input-17-1a1b6893d268>\u001b[0m in \u001b[0;36m<module>\u001b[1;34m()\u001b[0m\n\u001b[1;32m----> 1\u001b[1;33m \u001b[0mviewer_files\u001b[0m\u001b[1;33m.\u001b[0m\u001b[0mwrite_tree_viewer\u001b[0m\u001b[1;33m(\u001b[0m\u001b[1;34m'alcohol_row_tree1.tree'\u001b[0m\u001b[1;33m,\u001b[0m\u001b[0mrow_tree\u001b[0m\u001b[1;33m,\u001b[0m\u001b[0mrow_vecs\u001b[0m\u001b[1;33m,\u001b[0m\u001b[0mrow_vals\u001b[0m\u001b[1;33m,\u001b[0m\u001b[0mdescs\u001b[0m\u001b[1;33m=\u001b[0m\u001b[0mq_descs\u001b[0m\u001b[1;33m)\u001b[0m\u001b[1;33m\u001b[0m\u001b[0m\n\u001b[0m",
        "\u001b[1;31mNameError\u001b[0m: name 'q_descs' is not defined"
       ]
      }
     ],
     "prompt_number": 17
    },
    {
     "cell_type": "code",
     "collapsed": false,
     "input": [
      "q_descs = [x[0] for x in d['cleaned_nonalc_long_names'][0]]"
     ],
     "language": "python",
     "metadata": {},
     "outputs": [],
     "prompt_number": 30
    },
    {
     "cell_type": "code",
     "collapsed": false,
     "input": [
      "%run tree_viewer.py alcohol_row_tree1.tree"
     ],
     "language": "python",
     "metadata": {},
     "outputs": [],
     "prompt_number": "*"
    },
    {
     "cell_type": "code",
     "collapsed": false,
     "input": [
      "col_emd = dual_affinity.calc_emd(data,row_tree,alpha=0.0,beta=1.0)\n",
      "col_aff = dual_affinity.emd_dual_aff(col_emd)\n",
      "col_vecs, col_vals = markov.markov_eigs(col_aff,12)\n",
      "col_tree = flex_tree_build.flex_tree_diffusion(col_aff,0.5)\n",
      "plot_embedding(col_vecs,col_vals,nodecolors=alc_scores*100000)\n",
      "plt.show()"
     ],
     "language": "python",
     "metadata": {},
     "outputs": [],
     "prompt_number": 31
    },
    {
     "cell_type": "code",
     "collapsed": false,
     "input": [
      "row_emd = dual_affinity.calc_emd(data.T,col_tree,alpha=0.0,beta=1.0)\n",
      "row_aff = dual_affinity.emd_dual_aff(row_emd)\n",
      "row_vecs, row_vals = markov.markov_eigs(row_aff,12)\n",
      "row_tree = flex_tree_build.flex_tree_diffusion(row_aff,0.5)\n"
     ],
     "language": "python",
     "metadata": {},
     "outputs": [],
     "prompt_number": 34
    },
    {
     "cell_type": "code",
     "collapsed": false,
     "input": [
      "col_emd = dual_affinity.calc_emd(data,row_tree,alpha=0.0,beta=2.0)\n",
      "col_aff = dual_affinity.emd_dual_aff(col_emd)\n",
      "col_vecs, col_vals = markov.markov_eigs(col_aff,12)\n",
      "col_tree = flex_tree_build.flex_tree_diffusion(col_aff,0.5)\n",
      "plot_embedding(col_vecs,col_vals,nodecolors=alc_scores*100000)\n",
      "plt.show()"
     ],
     "language": "python",
     "metadata": {},
     "outputs": [],
     "prompt_number": 48
    },
    {
     "cell_type": "code",
     "collapsed": false,
     "input": [
      "coords = [0,2,3,5]\n",
      "plot_embedding(col_vecs[:,coords],col_vals[coords],nodecolors=alc_scores*100000)\n",
      "plt.show()"
     ],
     "language": "python",
     "metadata": {},
     "outputs": [],
     "prompt_number": 40
    },
    {
     "cell_type": "code",
     "collapsed": false,
     "input": [
      "col_tree = flex_tree_build.flex_tree_diffusion(col_aff,0.5)\n",
      "plot_tree(col_tree)\n",
      "plt.show()"
     ],
     "language": "python",
     "metadata": {},
     "outputs": [],
     "prompt_number": 36
    },
    {
     "cell_type": "code",
     "collapsed": false,
     "input": [
      "row_emd = dual_affinity.calc_emd(data.T,col_tree,alpha=0.0,beta=1.0)\n",
      "row_aff = dual_affinity.emd_dual_aff(row_emd)\n",
      "row_vecs, row_vals = markov.markov_eigs(row_aff,12)\n",
      "row_tree = flex_tree_build.flex_tree_diffusion(row_aff,0.5)\n",
      "col_emd = dual_affinity.calc_emd(data,row_tree,alpha=0.0,beta=1.0)\n",
      "col_aff = dual_affinity.emd_dual_aff(col_emd)\n",
      "col_vecs, col_vals = markov.markov_eigs(col_aff,12)\n",
      "col_tree = flex_tree_build.flex_tree_diffusion(col_aff,0.5)\n",
      "plot_embedding(col_vecs,col_vals,nodecolors=alc_scores*10000)\n",
      "plt.show()\n"
     ],
     "language": "python",
     "metadata": {},
     "outputs": [],
     "prompt_number": "*"
    },
    {
     "cell_type": "code",
     "collapsed": false,
     "input": [],
     "language": "python",
     "metadata": {},
     "outputs": []
    }
   ],
   "metadata": {}
  }
 ]
}