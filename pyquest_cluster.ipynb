{
 "metadata": {
  "name": "pyquest_cluster"
 },
 "nbformat": 3,
 "nbformat_minor": 0,
 "worksheets": [
  {
   "cells": [
    {
     "cell_type": "code",
     "collapsed": false,
     "input": [
      "import numpy as np\n",
      "import scipy as sp\n",
      "import scipy.io\n",
      "import affinity \n",
      "reload(affinity)\n",
      "import bintree_cut\n",
      "reload(bintree_cut)\n",
      "import dual_affinity\n",
      "reload(dual_affinity)\n",
      "import matlab_util\n",
      "import tree_util\n",
      "reload(tree_util)\n",
      "import scoring\n",
      "import barcode\n",
      "import cPickle\n",
      "import matplotlib.pyplot as plt"
     ],
     "language": "python",
     "metadata": {},
     "outputs": [],
     "prompt_number": 1
    },
    {
     "cell_type": "code",
     "collapsed": false,
     "input": [
      "fin = open('datadict.pickle','rb')\n",
      "datadict = cPickle.load(fin)\n",
      "fin.close()\n",
      "data = datadict[\"data\"]\n"
     ],
     "language": "python",
     "metadata": {},
     "outputs": [],
     "prompt_number": 141
    },
    {
     "cell_type": "code",
     "collapsed": false,
     "input": [
      "row_vecs = datadict[\"row_vecs\"]\n",
      "row_vals = datadict[\"row_vals\"]\n",
      "col_vecs = datadict[\"col_vecs\"]\n",
      "col_vals = datadict[\"col_vals\"]\n"
     ],
     "language": "python",
     "metadata": {},
     "outputs": [],
     "prompt_number": 58
    },
    {
     "cell_type": "code",
     "collapsed": false,
     "input": [
      "import sklearn.neighbors as sknn\n",
      "\n",
      "diff_time = 1.0\n",
      "diff_vecs = np.diag(vals**diff_time).dot(vecs.T).T\n",
      "knn = sknn.NearestNeighbors(n_neighbors=5)\n",
      "knn.fit(diff_vecs)\n",
      "fig = plt.figure()\n",
      "ax = fig.add_subplot(111,projection='3d')\n",
      "\n",
      "x=vecs[:,1] * (vals[1] ** diff_time)\n",
      "x2=diff_vecs[:,1]\n",
      "y=vecs[:,2] * (vals[2] ** diff_time)\n",
      "y2=diff_vecs[:,2]\n",
      "z=vecs[:,3] * (vals[3] ** diff_time)\n",
      "z2=diff_vecs[:,3]\n",
      "c = ['r']*567\n",
      "idx = np.random.randint(0,566)\n",
      "knnlist = knn.kneighbors(vecs[idx,:])\n",
      "for didx in knnlist[1][0]:\n",
      "    c[didx] = 'b'\n",
      "ax.scatter3D(x,y,z,c=c)\n",
      "plt.show()"
     ],
     "language": "python",
     "metadata": {},
     "outputs": [],
     "prompt_number": 68
    },
    {
     "cell_type": "code",
     "collapsed": false,
     "input": [
      "key_points = []\n",
      "distances = []\n",
      "points_list = range(567)\n",
      "while points_list:\n",
      "    r_pt = np.random.choice(points_list)\n",
      "    key_points.append(r_pt)\n",
      "    nn = knn.kneighbors(diff_vecs[r_pt,:],n_neighbors=10)\n",
      "    distances.append(nn[0][0][-1])\n",
      "    for pt in nn[1][0]:\n",
      "        if pt in points_list:\n",
      "            points_list.remove(pt)"
     ],
     "language": "python",
     "metadata": {},
     "outputs": [],
     "prompt_number": 103
    },
    {
     "cell_type": "code",
     "collapsed": false,
     "input": [
      "len(key_points)"
     ],
     "language": "python",
     "metadata": {},
     "outputs": [
      {
       "output_type": "pyout",
       "prompt_number": 104,
       "text": [
        "101"
       ]
      }
     ],
     "prompt_number": 104
    },
    {
     "cell_type": "code",
     "collapsed": false,
     "input": [
      "len(distances)"
     ],
     "language": "python",
     "metadata": {},
     "outputs": [
      {
       "output_type": "pyout",
       "prompt_number": 105,
       "text": [
        "101"
       ]
      }
     ],
     "prompt_number": 105
    },
    {
     "cell_type": "code",
     "collapsed": false,
     "input": [
      "base_radius = np.median(distances)"
     ],
     "language": "python",
     "metadata": {},
     "outputs": [],
     "prompt_number": 106
    },
    {
     "cell_type": "code",
     "collapsed": false,
     "input": [
      "key_points2 = []\n",
      "distances2 = []\n",
      "points_list = range(567)\n",
      "while points_list:\n",
      "    r_pt = np.random.choice(points_list)\n",
      "    key_points2.append(r_pt)\n",
      "    nn = knn.radius_neighbors(diff_vecs[r_pt,:],radius=base_radius)\n",
      "    distances2.append(nn[0][0][-1])\n",
      "    for pt in nn[1][0]:\n",
      "        if pt in points_list:\n",
      "            points_list.remove(pt)"
     ],
     "language": "python",
     "metadata": {},
     "outputs": [],
     "prompt_number": 107
    },
    {
     "cell_type": "code",
     "collapsed": false,
     "input": [
      "base_radius"
     ],
     "language": "python",
     "metadata": {},
     "outputs": [
      {
       "output_type": "pyout",
       "prompt_number": 108,
       "text": [
        "0.075280140196383419"
       ]
      }
     ],
     "prompt_number": 108
    },
    {
     "cell_type": "code",
     "collapsed": false,
     "input": [
      "len(key_points2)"
     ],
     "language": "python",
     "metadata": {},
     "outputs": [
      {
       "output_type": "pyout",
       "prompt_number": 109,
       "text": [
        "131"
       ]
      }
     ],
     "prompt_number": 109
    },
    {
     "cell_type": "code",
     "collapsed": false,
     "input": [
      "total = 0\n",
      "for i in xrange(567):\n",
      "    nn = knn.radius_neighbors(diff_vecs[i,:],radius=base_radius)\n",
      "    total += len(nn[1][0])\n",
      "print total/567.0"
     ],
     "language": "python",
     "metadata": {},
     "outputs": [
      {
       "output_type": "stream",
       "stream": "stdout",
       "text": [
        "6.18518518519\n"
       ]
      }
     ],
     "prompt_number": 93
    },
    {
     "cell_type": "code",
     "collapsed": false,
     "input": [
      "kp = sorted(key_points2)\n",
      "knn.fit(diff_vecs[kp,:])\n",
      "nn = knn.kneighbors(diff_vecs,n_neighbors=1)\n"
     ],
     "language": "python",
     "metadata": {},
     "outputs": [
      {
       "output_type": "stream",
       "stream": "stderr",
       "text": [
        "-c:3: NeighborsWarning: kneighbors: neighbor k+1 and neighbor k have the same distance: results will be dependent on data order.\n"
       ]
      }
     ],
     "prompt_number": 112
    },
    {
     "cell_type": "code",
     "collapsed": false,
     "input": [
      "np.bincount(nn[1].flatten()) "
     ],
     "language": "python",
     "metadata": {},
     "outputs": [
      {
       "output_type": "pyout",
       "prompt_number": 120,
       "text": [
        "array([ 2,  4,  1,  2, 10,  2,  4,  3, 10,  3,  8,  3,  1,  3,  5,  7,  3,\n",
        "       12,  1,  2,  4,  2,  3,  2,  2,  3,  2,  4,  1,  2,  5,  3,  3,  1,\n",
        "        8,  2,  3,  8,  4,  3,  3,  8,  1, 15, 14,  2,  2,  4,  1,  3,  4,\n",
        "        1,  2,  3,  6,  3,  2,  2, 11,  1,  1,  4,  2,  2, 10,  8,  2,  2,\n",
        "        4,  2,  1,  1,  2,  2,  3,  1,  3,  3,  4,  8, 11,  4,  9,  2,  6,\n",
        "        9,  3,  5,  4,  1,  3,  4,  1,  3,  9,  1,  2,  3, 12,  9,  6,  1,\n",
        "        4,  2, 16,  3,  8, 11,  3,  1,  4,  3,  6,  3,  3,  5,  4,  1,  5,\n",
        "        9,  4,  3,  2,  5,  4,  8, 11,  7,  6,  5,  9], dtype=int64)"
       ]
      }
     ],
     "prompt_number": 120
    },
    {
     "cell_type": "code",
     "collapsed": false,
     "input": [
      "np.shape(nn[1].flatten())"
     ],
     "language": "python",
     "metadata": {},
     "outputs": [
      {
       "output_type": "pyout",
       "prompt_number": 121,
       "text": [
        "(567L,)"
       ]
      }
     ],
     "prompt_number": 121
    },
    {
     "cell_type": "code",
     "collapsed": false,
     "input": [
      "nonkeys = np.array(list(set(range(567)) - set(key_points2)))\n",
      "keys = np.array(key_points2)"
     ],
     "language": "python",
     "metadata": {},
     "outputs": [],
     "prompt_number": 126
    },
    {
     "cell_type": "code",
     "collapsed": false,
     "input": [
      "import sklearn.neighbors as sknn\n",
      "\n",
      "diff_time = 1.0\n",
      "diff_vecs = np.diag(vals**diff_time).dot(vecs.T).T\n",
      "#knn = sknn.NearestNeighbors(n_neighbors=5)\n",
      "#knn.fit(diff_vecs)\n",
      "fig = plt.figure()\n",
      "ax = fig.add_subplot(111,projection='3d')\n",
      "\n",
      "x=diff_vecs[nonkeys,1]\n",
      "y=diff_vecs[nonkeys,2]\n",
      "z=diff_vecs[nonkeys,3]\n",
      "c = ['r']*len(nonkeys)\n",
      "ax.scatter3D(x,y,z,c=c)\n",
      "x=diff_vecs[keys,1]\n",
      "y=diff_vecs[keys,2]\n",
      "z=diff_vecs[keys,3]\n",
      "c = ['b']*len(nonkeys)\n",
      "ax.scatter3D(x,y,z,c=c)\n",
      "plt.show()"
     ],
     "language": "python",
     "metadata": {},
     "outputs": [],
     "prompt_number": 127
    },
    {
     "cell_type": "code",
     "collapsed": false,
     "input": [
      "nonkeys"
     ],
     "language": "python",
     "metadata": {},
     "outputs": [
      {
       "output_type": "pyout",
       "prompt_number": 125,
       "text": [
        "array(set([0, 2, 3, 5, 6, 8, 11, 12, 17, 18, 19, 20, 21, 22, 23, 24, 25, 26, 27, 28, 29, 30, 31, 32, 34, 35, 36, 38, 39, 40, 41, 42, 43, 44, 45, 46, 47, 50, 51, 52, 53, 54, 57, 58, 59, 60, 63, 64, 66, 69, 71, 72, 73, 75, 76, 77, 78, 79, 80, 81, 82, 83, 84, 85, 86, 89, 90, 91, 93, 94, 95, 96, 97, 98, 100, 102, 103, 104, 105, 106, 109, 110, 111, 112, 113, 115, 120, 121, 123, 125, 126, 127, 128, 129, 130, 132, 133, 134, 136, 137, 138, 142, 144, 145, 146, 150, 151, 152, 153, 154, 155, 156, 157, 159, 160, 161, 162, 164, 165, 166, 167, 169, 171, 174, 175, 176, 177, 178, 179, 180, 181, 183, 184, 185, 186, 187, 189, 190, 191, 192, 193, 194, 195, 196, 197, 198, 201, 203, 204, 205, 208, 209, 210, 211, 213, 214, 215, 216, 217, 220, 221, 222, 223, 224, 227, 228, 229, 230, 233, 234, 235, 236, 239, 240, 241, 242, 245, 246, 247, 249, 250, 251, 253, 254, 255, 256, 257, 258, 261, 264, 265, 267, 268, 269, 270, 271, 272, 273, 274, 276, 277, 281, 282, 283, 284, 285, 286, 287, 288, 289, 291, 292, 293, 294, 295, 297, 298, 299, 300, 302, 303, 305, 306, 307, 308, 309, 310, 311, 312, 313, 314, 315, 316, 317, 319, 320, 321, 322, 323, 324, 325, 326, 328, 329, 330, 331, 332, 333, 334, 335, 336, 337, 338, 340, 341, 342, 346, 347, 348, 349, 351, 352, 354, 355, 356, 357, 358, 360, 361, 365, 366, 367, 368, 370, 371, 372, 374, 376, 377, 378, 379, 380, 381, 383, 384, 386, 387, 388, 389, 390, 391, 392, 393, 394, 395, 396, 397, 398, 399, 401, 402, 403, 404, 405, 406, 407, 408, 409, 410, 411, 412, 414, 415, 416, 417, 418, 419, 420, 421, 422, 423, 424, 425, 427, 428, 430, 431, 432, 433, 434, 436, 437, 438, 439, 440, 441, 442, 443, 444, 445, 448, 449, 450, 451, 453, 454, 456, 457, 459, 461, 462, 463, 465, 467, 469, 470, 471, 472, 473, 474, 475, 476, 477, 478, 479, 480, 481, 482, 483, 484, 485, 487, 489, 490, 491, 492, 493, 494, 496, 499, 501, 502, 503, 504, 506, 507, 508, 509, 510, 511, 512, 514, 515, 516, 517, 518, 519, 520, 521, 523, 524, 525, 527, 529, 530, 531, 532, 533, 534, 535, 536, 539, 540, 542, 543, 544, 545, 546, 548, 549, 550, 551, 552, 553, 554, 555, 556, 558, 559, 560, 561, 562, 563, 564, 565, 566]), dtype=object)"
       ]
      }
     ],
     "prompt_number": 125
    },
    {
     "cell_type": "code",
     "collapsed": false,
     "input": [
      "import local_tree\n",
      "reload(local_tree)\n",
      "kp,d = local_tree.random_cover(diff_vecs,n_neighbors=10)"
     ],
     "language": "python",
     "metadata": {},
     "outputs": [],
     "prompt_number": 135
    },
    {
     "cell_type": "code",
     "collapsed": false,
     "input": [
      "np.median(distances)"
     ],
     "language": "python",
     "metadata": {},
     "outputs": [
      {
       "output_type": "pyout",
       "prompt_number": 139,
       "text": [
        "0.075280140196383419"
       ]
      }
     ],
     "prompt_number": 139
    },
    {
     "cell_type": "code",
     "collapsed": false,
     "input": [
      "kp2,d2 = local_tree.random_cover(diff_vecs,radius=np.median(distances))"
     ],
     "language": "python",
     "metadata": {},
     "outputs": [],
     "prompt_number": 140
    },
    {
     "cell_type": "code",
     "collapsed": false,
     "input": [
      "len(kp2)"
     ],
     "language": "python",
     "metadata": {},
     "outputs": [
      {
       "output_type": "pyout",
       "prompt_number": 141,
       "text": [
        "129"
       ]
      }
     ],
     "prompt_number": 141
    },
    {
     "cell_type": "code",
     "collapsed": false,
     "input": [
      "nonkeys = np.array(list(set(range(567)) - set(kp2)))\n",
      "keys = np.array(kp2)\n",
      "fig = plt.figure()\n",
      "ax = fig.add_subplot(111,projection='3d')\n",
      "x=diff_vecs[nonkeys,1]\n",
      "y=diff_vecs[nonkeys,2]\n",
      "z=diff_vecs[nonkeys,3]\n",
      "c = ['r']*len(nonkeys)\n",
      "ax.scatter3D(x,y,z,c=c)\n",
      "x=diff_vecs[keys,1]\n",
      "y=diff_vecs[keys,2]\n",
      "z=diff_vecs[keys,3]\n",
      "c = ['b']*len(nonkeys)\n",
      "ax.scatter3D(x,y,z,c=c)\n",
      "plt.show()"
     ],
     "language": "python",
     "metadata": {},
     "outputs": [],
     "prompt_number": 142
    },
    {
     "cell_type": "code",
     "collapsed": false,
     "input": [
      "import local_tree\n",
      "reload(local_tree)"
     ],
     "language": "python",
     "metadata": {},
     "outputs": [
      {
       "output_type": "pyout",
       "prompt_number": 133,
       "text": [
        "<module 'local_tree' from 'local_tree.py'>"
       ]
      }
     ],
     "prompt_number": 133
    },
    {
     "cell_type": "code",
     "collapsed": false,
     "input": [
      "row_clusters = local_tree.make_tree(row_vecs,row_vals,1.0/(1.0-row_vals[1]),2)\n",
      "col_clusters = local_tree.make_tree(col_vecs,col_vals,1.0/(1.0-col_vals[1]),2)"
     ],
     "language": "python",
     "metadata": {},
     "outputs": [
      {
       "output_type": "stream",
       "stream": "stdout",
       "text": [
        "0.0173750993556\n",
        "0.00383187765915"
       ]
      },
      {
       "output_type": "stream",
       "stream": "stdout",
       "text": [
        "\n",
        "0.000897946259893"
       ]
      },
      {
       "output_type": "stream",
       "stream": "stdout",
       "text": [
        "\n",
        "0.000247424798921\n",
        "0.000169032177155\n",
        "0.000129160496072"
       ]
      },
      {
       "output_type": "stream",
       "stream": "stdout",
       "text": [
        "\n",
        "2.61975068305e-05\n",
        "0.00901613146291"
       ]
      },
      {
       "output_type": "stream",
       "stream": "stdout",
       "text": [
        "\n",
        "0.000740155682695"
       ]
      },
      {
       "output_type": "stream",
       "stream": "stdout",
       "text": [
        "\n",
        "0.000129459348167"
       ]
      },
      {
       "output_type": "stream",
       "stream": "stdout",
       "text": [
        "\n",
        "7.31300257507e-05"
       ]
      },
      {
       "output_type": "stream",
       "stream": "stdout",
       "text": [
        "\n",
        "4.14772953148e-05"
       ]
      },
      {
       "output_type": "stream",
       "stream": "stdout",
       "text": [
        "\n",
        "1.86194441216e-05\n",
        "1.10299290474e-05\n",
        "6.39705586438e-06\n"
       ]
      }
     ],
     "prompt_number": 134
    },
    {
     "cell_type": "code",
     "collapsed": false,
     "input": [
      "row_tree = local_tree.construct_tree(row_clusters,567)\n",
      "col_tree = local_tree.construct_tree(col_clusters,2428)\n",
      "row_tree.make_index()\n",
      "col_tree.make_index()"
     ],
     "language": "python",
     "metadata": {},
     "outputs": [],
     "prompt_number": 143
    },
    {
     "cell_type": "code",
     "collapsed": false,
     "input": [
      "PICKLE_IT = True\n",
      "if PICKLE_IT:\n",
      "    import cPickle\n",
      "    ndatadict = {}\n",
      "    ndatadict[\"data\"] = datadict[\"data\"] \n",
      "    ndatadict[\"q_descs\"] = datadict[\"q_descs\"] \n",
      "    ndatadict[\"p_score_descs\"] = datadict[\"p_score_descs\"] \n",
      "    ndatadict[\"p_scores\"] = datadict[\"p_scores\"]\n",
      "    ndatadict[\"col_tree\"] = col_tree\n",
      "    ndatadict[\"row_tree\"] = row_tree\n",
      "    ndatadict[\"col_vecs\"] = col_vecs\n",
      "    ndatadict[\"col_vals\"] = col_vals\n",
      "    ndatadict[\"row_vecs\"] = row_vecs\n",
      "    ndatadict[\"row_vals\"] = row_vals\n",
      "    fout = open('new_trees_datadict.pickle','wb')\n",
      "    cPickle.dump(ndatadict,fout)\n",
      "    fout.close()"
     ],
     "language": "python",
     "metadata": {},
     "outputs": [],
     "prompt_number": 144
    },
    {
     "cell_type": "code",
     "collapsed": false,
     "input": [
      "import scoring\n",
      "import tree_util\n",
      "coefs = tree_util.bitree_transform(data,row_tree,col_tree)\n",
      "recon_matrix, norm_l1 = tree_util.inverse_bitree_transform(coefs,row_tree,col_tree,0.005)\n",
      "score = scoring.Score(data,recon_matrix)\n",
      "print score.class_pct"
     ],
     "language": "python",
     "metadata": {},
     "outputs": [
      {
       "output_type": "stream",
       "stream": "stdout",
       "text": [
        "0.688047151254\n"
       ]
      }
     ],
     "prompt_number": 145
    },
    {
     "cell_type": "code",
     "collapsed": false,
     "input": [],
     "language": "python",
     "metadata": {},
     "outputs": []
    }
   ],
   "metadata": {}
  }
 ]
}