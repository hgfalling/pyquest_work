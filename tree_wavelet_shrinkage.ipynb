{
 "metadata": {
  "name": "tree_wavelet_shrinkage"
 },
 "nbformat": 3,
 "nbformat_minor": 0,
 "worksheets": [
  {
   "cells": [
    {
     "cell_type": "markdown",
     "metadata": {},
     "source": [
      "This notebook is a reproduction of example 11 from the Donoho/Johnstone paper *Adapting to Unknown Smoothness via Wavelet Shrinkage*, using the Haar basis."
     ]
    },
    {
     "cell_type": "code",
     "collapsed": false,
     "input": [
      "import scipy.stats\n",
      "import numpy as np\n",
      "import tree\n",
      "import tree_util\n",
      "import matplotlib.pyplot as plt"
     ],
     "language": "python",
     "metadata": {},
     "outputs": [],
     "prompt_number": 1
    },
    {
     "cell_type": "code",
     "collapsed": false,
     "input": [
      "def tree_to_haar(coefs,tree):\n",
      "    haar_coefs = np.zeros(tree.size)\n",
      "    haar_coefs[0] = coefs[0] * np.sqrt(tree.size)\n",
      "    tree_nodes = tree.traverse()\n",
      "    for i in xrange(1,len(haar_coefs)):\n",
      "        haar_coefs[i] = coefs[i*2-1] * np.sqrt(2*tree_nodes[i*2-1].size)\n",
      "    return haar_coefs\n",
      "\n",
      "def haar_to_tree(haar_coefs,tree):\n",
      "    coefs = np.zeros(tree.tree_size)\n",
      "    coefs[0] = haar_coefs[0] / np.sqrt(tree.size)\n",
      "    tree_nodes = tree.traverse()\n",
      "    for i in xrange(1,len(haar_coefs)):\n",
      "        coefs[i*2-1] = haar_coefs[i] / np.sqrt(2*tree_nodes[i*2-1].size)\n",
      "        coefs[i*2] = -coefs[i*2-1]\n",
      "    return coefs\n",
      "\n",
      "def sure(haar_coefs,t,estimated_var=1.0):\n",
      "    term1 = len(haar_coefs)\n",
      "    term2 = 2*(np.sum(np.abs(haar_coefs) <= t))\n",
      "    term3 = np.sum(np.minimum(np.abs(haar_coefs),t)**2)\n",
      "    return estimated_var*(term1 - term2) + term3,(term1,term2,term3)\n",
      "    #return estimated_var*(term1 - term2) + term3"
     ],
     "language": "python",
     "metadata": {},
     "outputs": [],
     "prompt_number": 2
    },
    {
     "cell_type": "code",
     "collapsed": false,
     "input": [
      "means = scipy.stats.norm.rvs(4,0.5,size=1024)\n",
      "means = np.array([4.0]*16 + [0.0]*112)\n",
      "data = np.zeros(128)\n",
      "for (idx,mean) in enumerate(means):\n",
      "    data[idx] = scipy.stats.norm.rvs(mean,1.0)"
     ],
     "language": "python",
     "metadata": {},
     "outputs": [],
     "prompt_number": 3
    },
    {
     "cell_type": "code",
     "collapsed": false,
     "input": [
      "t = tree.dyadic_tree(7)\n",
      "coefs = tree_util.tree_transform(data,t)\n",
      "haar_coefs = tree_to_haar(coefs,t)"
     ],
     "language": "python",
     "metadata": {},
     "outputs": [],
     "prompt_number": 4
    },
    {
     "cell_type": "code",
     "collapsed": false,
     "input": [
      "x = np.arange(0,6.0,0.1)\n",
      "estimates = []\n",
      "for threshold in x:\n",
      "    estimate = sure(haar_coefs,threshold)\n",
      "    estimates.append(estimate[0])\n",
      "    #print threshold,estimate\n",
      "y = np.array(estimates)"
     ],
     "language": "python",
     "metadata": {},
     "outputs": [],
     "prompt_number": 5
    },
    {
     "cell_type": "code",
     "collapsed": false,
     "input": [
      "plt.plot(x,y)\n",
      "plt.show()"
     ],
     "language": "python",
     "metadata": {},
     "outputs": [],
     "prompt_number": 6
    },
    {
     "cell_type": "code",
     "collapsed": false,
     "input": [],
     "language": "python",
     "metadata": {},
     "outputs": [],
     "prompt_number": 6
    }
   ],
   "metadata": {}
  }
 ]
}