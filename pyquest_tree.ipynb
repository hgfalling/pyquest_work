{
 "metadata": {
  "name": "pyquest_tree"
 },
 "nbformat": 3,
 "nbformat_minor": 0,
 "worksheets": [
  {
   "cells": [
    {
     "cell_type": "code",
     "collapsed": false,
     "input": [
      "from imports import *"
     ],
     "language": "python",
     "metadata": {},
     "outputs": [
      {
       "output_type": "stream",
       "stream": "stderr",
       "text": [
        "C:\\Python27\\lib\\site-packages\\matplotlib\\__init__.py:1033: UserWarning:  This call to matplotlib.use() has no effect\n",
        "because the the backend has already been chosen;\n",
        "matplotlib.use() must be called *before* pylab, matplotlib.pyplot,\n",
        "or matplotlib.backends is imported for the first time.\n",
        "\n",
        "  warnings.warn(_use_error_msg)\n"
       ]
      }
     ],
     "prompt_number": 2
    },
    {
     "cell_type": "code",
     "collapsed": false,
     "input": [
      "%run load_data.py aq"
     ],
     "language": "python",
     "metadata": {},
     "outputs": [],
     "prompt_number": 3
    },
    {
     "cell_type": "code",
     "collapsed": false,
     "input": [
      "row_affinity = affinity.mutual_cosine_similarity(data.T,threshold=None)\n",
      "col_affinity = affinity.mutual_cosine_similarity(data,threshold=None)"
     ],
     "language": "python",
     "metadata": {},
     "outputs": [],
     "prompt_number": 4
    },
    {
     "cell_type": "markdown",
     "metadata": {},
     "source": [
      "Now we want to threshold these. One possible method for deciding on the threshold is to look at the number of disconnected points given a particular threshold, like this:"
     ]
    },
    {
     "cell_type": "code",
     "collapsed": false,
     "input": [
      "for thres in np.arange(0.1,0.25,0.01):\n",
      "    components = lt2.find_components(row_affinity,thres)\n",
      "    print thres, np.shape(row_affinity)[0] - np.max(np.bincount(components))"
     ],
     "language": "python",
     "metadata": {},
     "outputs": [
      {
       "output_type": "stream",
       "stream": "stdout",
       "text": [
        "0.1 0\n",
        "0.11"
       ]
      },
      {
       "output_type": "stream",
       "stream": "stdout",
       "text": [
        " 0\n",
        "0.12"
       ]
      },
      {
       "output_type": "stream",
       "stream": "stdout",
       "text": [
        " 0\n",
        "0.13"
       ]
      },
      {
       "output_type": "stream",
       "stream": "stdout",
       "text": [
        " 0\n",
        "0.14"
       ]
      },
      {
       "output_type": "stream",
       "stream": "stdout",
       "text": [
        " 2\n",
        "0.15"
       ]
      },
      {
       "output_type": "stream",
       "stream": "stdout",
       "text": [
        " 2\n",
        "0.16"
       ]
      },
      {
       "output_type": "stream",
       "stream": "stdout",
       "text": [
        " 2\n",
        "0.17"
       ]
      },
      {
       "output_type": "stream",
       "stream": "stdout",
       "text": [
        " 4\n",
        "0.18"
       ]
      },
      {
       "output_type": "stream",
       "stream": "stdout",
       "text": [
        " 4\n",
        "0.19"
       ]
      },
      {
       "output_type": "stream",
       "stream": "stdout",
       "text": [
        " 8\n",
        "0.2"
       ]
      },
      {
       "output_type": "stream",
       "stream": "stdout",
       "text": [
        " 16\n",
        "0.21"
       ]
      },
      {
       "output_type": "stream",
       "stream": "stdout",
       "text": [
        " 24\n",
        "0.22"
       ]
      },
      {
       "output_type": "stream",
       "stream": "stdout",
       "text": [
        " 28\n",
        "0.23"
       ]
      },
      {
       "output_type": "stream",
       "stream": "stdout",
       "text": [
        " 36\n",
        "0.24"
       ]
      },
      {
       "output_type": "stream",
       "stream": "stdout",
       "text": [
        " 38\n"
       ]
      }
     ],
     "prompt_number": 5
    },
    {
     "cell_type": "code",
     "collapsed": false,
     "input": [
      "plt.hist(row_affinity.flatten(),bins=50)\n",
      "ra = row_affinity.flatten()\n",
      "np.median(ra[ra>0.0])"
     ],
     "language": "python",
     "metadata": {},
     "outputs": [
      {
       "output_type": "pyout",
       "prompt_number": 29,
       "text": [
        "0.1280727368418314"
       ]
      },
      {
       "output_type": "display_data",
       "png": "[encoded data removed]"
      }
     ],
     "prompt_number": 29
    },
    {
     "cell_type": "code",
     "collapsed": false,
     "input": [
      "temp_row_aff = lt2.threshold(row_affinity,0.0)\n",
      "mc_temp = markov.make_markov_symmetric(temp_row_aff)"
     ],
     "language": "python",
     "metadata": {},
     "outputs": [],
     "prompt_number": 12
    },
    {
     "cell_type": "code",
     "collapsed": false,
     "input": [
      "mf = mc_temp.flatten()\n",
      "plt.hist(mf[mf>0.0],range=(0.0,0.01),bins=50)\n",
      "print np.median(mf[mf>0.0])"
     ],
     "language": "python",
     "metadata": {},
     "outputs": [
      {
       "output_type": "stream",
       "stream": "stdout",
       "text": [
        "0.00172996496346\n"
       ]
      },
      {
       "output_type": "display_data",
       "png": "[encoded data removed]"
      }
     ],
     "prompt_number": 27
    },
    {
     "cell_type": "code",
     "collapsed": false,
     "input": [
      "for thres in np.arange(0.1,0.25,0.01):\n",
      "    components = lt2.find_components(col_affinity,thres)\n",
      "    print thres, np.shape(col_affinity)[0] - np.max(np.bincount(components))"
     ],
     "language": "python",
     "metadata": {},
     "outputs": [
      {
       "output_type": "stream",
       "stream": "stdout",
       "text": [
        "0.1 0\n",
        "0.11"
       ]
      },
      {
       "output_type": "stream",
       "stream": "stdout",
       "text": [
        " 0\n",
        "0.12"
       ]
      },
      {
       "output_type": "stream",
       "stream": "stdout",
       "text": [
        " 2\n",
        "0.13"
       ]
      },
      {
       "output_type": "stream",
       "stream": "stdout",
       "text": [
        " 5\n",
        "0.14"
       ]
      },
      {
       "output_type": "stream",
       "stream": "stdout",
       "text": [
        " 11\n",
        "0.15"
       ]
      },
      {
       "output_type": "stream",
       "stream": "stdout",
       "text": [
        " 18\n",
        "0.16"
       ]
      },
      {
       "output_type": "stream",
       "stream": "stdout",
       "text": [
        " 21\n",
        "0.17"
       ]
      },
      {
       "output_type": "stream",
       "stream": "stdout",
       "text": [
        " 25\n",
        "0.18"
       ]
      },
      {
       "output_type": "stream",
       "stream": "stdout",
       "text": [
        " 33\n",
        "0.19"
       ]
      },
      {
       "output_type": "stream",
       "stream": "stdout",
       "text": [
        " 39\n",
        "0.2"
       ]
      },
      {
       "output_type": "stream",
       "stream": "stdout",
       "text": [
        " 48\n",
        "0.21"
       ]
      },
      {
       "output_type": "stream",
       "stream": "stdout",
       "text": [
        " 52\n",
        "0.22"
       ]
      },
      {
       "output_type": "stream",
       "stream": "stdout",
       "text": [
        " 54\n",
        "0.23"
       ]
      },
      {
       "output_type": "stream",
       "stream": "stdout",
       "text": [
        " 65\n",
        "0.24"
       ]
      },
      {
       "output_type": "stream",
       "stream": "stdout",
       "text": [
        " 72\n"
       ]
      }
     ],
     "prompt_number": 31
    },
    {
     "cell_type": "markdown",
     "metadata": {},
     "source": [
      "So we'll use 0.19 as the row threshold and 0.13 as the column threshold."
     ]
    },
    {
     "cell_type": "code",
     "collapsed": false,
     "input": [
      "t_row = lt2.threshold(row_affinity,0.19)\n",
      "t_col = lt2.threshold(col_affinity,0.13)"
     ],
     "language": "python",
     "metadata": {},
     "outputs": [],
     "prompt_number": 32
    },
    {
     "cell_type": "markdown",
     "metadata": {},
     "source": [
      "Now we create the row tree. First we form the Markov matrix $M = D^{-1}A$:"
     ]
    },
    {
     "cell_type": "code",
     "collapsed": false,
     "input": [
      "M = markov.make_markov_row_stoch(t_row)"
     ],
     "language": "python",
     "metadata": {},
     "outputs": [],
     "prompt_number": 33
    },
    {
     "cell_type": "markdown",
     "metadata": {},
     "source": [
      "Each row of $M$ is the result of the thresholded diffusion for one step. Next we calculate a set of random centers for all the points, where a point covers the points it diffuses to:"
     ]
    },
    {
     "cell_type": "code",
     "collapsed": false,
     "input": [
      "centers = lt.diffusion_random_cover(M)\n",
      "print len(centers), type(centers)"
     ],
     "language": "python",
     "metadata": {},
     "outputs": [
      {
       "output_type": "stream",
       "stream": "stdout",
       "text": [
        "125 <type 'numpy.ndarray'>\n"
       ]
      }
     ],
     "prompt_number": 34
    },
    {
     "cell_type": "markdown",
     "metadata": {},
     "source": [
      "It seems that the number of centers here is about 10% of the total points, so the average folder will be size 10. We may want to look at this in the future. \n",
      "Next we assign each point in the data to its nearest center"
     ]
    },
    {
     "cell_type": "code",
     "collapsed": false,
     "input": [
      "centers_affinity = M[centers,:].T\n",
      "nearest_centers = np.argmax(centers_affinity,axis=1)\n",
      "clusters = centers[nearest_centers]"
     ],
     "language": "python",
     "metadata": {},
     "outputs": [],
     "prompt_number": 35
    },
    {
     "cell_type": "markdown",
     "metadata": {},
     "source": [
      "We can observe the distribution of points into folders:"
     ]
    },
    {
     "cell_type": "code",
     "collapsed": false,
     "input": [
      "np.bincount(nearest_centers)"
     ],
     "language": "python",
     "metadata": {},
     "outputs": [
      {
       "output_type": "pyout",
       "prompt_number": 36,
       "text": [
        "array([29, 11, 18,  2,  3, 15,  2,  4, 17,  2, 16, 15,  9,  8,  8,  4, 14,\n",
        "        8, 10, 14,  1, 16,  1,  2, 14,  7, 24,  5,  8, 21,  8, 23,  3, 11,\n",
        "       15,  7, 11, 14, 15,  4,  1,  5, 10,  5,  5,  3, 12, 13,  5,  2,  7,\n",
        "       26, 24, 15,  5, 25, 12, 16,  1, 16,  7,  9,  5,  8,  2,  1,  8,  4,\n",
        "       15,  1, 14,  4, 16,  5,  8,  1,  6, 17,  9,  2,  7,  5, 20,  4,  4,\n",
        "        7,  5,  2, 17,  8,  1, 25,  5, 17,  2,  8, 16, 15, 10, 14,  5,  2,\n",
        "       10,  4,  7,  6,  6,  4,  1,  5,  7,  9,  4,  5,  4, 16, 16,  8,  3,\n",
        "        6,  6,  5, 10, 17,  7], dtype=int64)"
       ]
      }
     ],
     "prompt_number": 36
    },
    {
     "cell_type": "markdown",
     "metadata": {},
     "source": [
      "We can build the tree out of this:"
     ]
    },
    {
     "cell_type": "code",
     "collapsed": false,
     "input": [
      "new_parents = []\n",
      "for i in xrange(len(centers)):\n",
      "    new_parents.append(tree.ClusterTreeNode([]))\n",
      "\n",
      "for j in range(len(nearest_centers)):\n",
      "    node = tree.ClusterTreeNode([j])\n",
      "    node.assign_to_parent(new_parents[nearest_centers[j]])"
     ],
     "language": "python",
     "metadata": {},
     "outputs": [],
     "prompt_number": 37
    },
    {
     "cell_type": "markdown",
     "metadata": {},
     "source": [
      "Now suppose we are interested in the diffusion from folder to folder. Then we can write the diffusion matrix $M$ in terms of the folders by constructing rectangular transition matrices $Q$ and $Q^{+}$ as follows:"
     ]
    },
    {
     "cell_type": "code",
     "collapsed": false,
     "input": [
      "Q = np.zeros([len(centers),np.shape(M)[0]],np.float)\n",
      "for (idx,center) in enumerate(centers):\n",
      "    Q[idx,clusters==center] = 1.0\n",
      "Qi = Q.T\n",
      "Q = markov.make_markov_row_stoch(Q)    "
     ],
     "language": "python",
     "metadata": {},
     "outputs": [],
     "prompt_number": 38
    },
    {
     "cell_type": "code",
     "collapsed": false,
     "input": [
      "folder_diff = Q.dot(M).dot(Qi)"
     ],
     "language": "python",
     "metadata": {},
     "outputs": [],
     "prompt_number": 39
    },
    {
     "cell_type": "markdown",
     "metadata": {},
     "source": [
      "Now folder_diff contains the one step diffusion matrix among the folders defined above: that is, for each folder $F$, take $\\frac{\\chi_{F}}{\\left|F\\right|}$, a vector equal spread over the elements of $F$, and allow that vector to diffuse for one time step. Then the rows of folder_diff contain the diffused weight of the result by folder. Next we calculate an affinity based on this:"
     ]
    },
    {
     "cell_type": "code",
     "collapsed": false,
     "input": [
      "folder_affinity = folder_diff.dot(folder_diff.T)"
     ],
     "language": "python",
     "metadata": {},
     "outputs": [],
     "prompt_number": 40
    },
    {
     "cell_type": "markdown",
     "metadata": {},
     "source": [
      "Now we use this affinity in the same way as before. First find a correct threshold:"
     ]
    },
    {
     "cell_type": "code",
     "collapsed": false,
     "input": [
      "for thres in np.arange(0.01,0.1,0.01):\n",
      "    components = lt2.find_components(folder_affinity,thres)\n",
      "    print thres, np.shape(folder_affinity)[0] - np.max(np.bincount(components))"
     ],
     "language": "python",
     "metadata": {},
     "outputs": [
      {
       "output_type": "stream",
       "stream": "stdout",
       "text": [
        "0.01 8\n",
        "0.02 8\n",
        "0.03 14\n",
        "0.04 76\n",
        "0.05 104\n",
        "0.06 117\n",
        "0.07 121\n",
        "0.08 123\n",
        "0.09 124\n"
       ]
      }
     ],
     "prompt_number": 41
    },
    {
     "cell_type": "markdown",
     "metadata": {},
     "source": [
      "We use 0.02 as the threshold and repeat the process."
     ]
    },
    {
     "cell_type": "code",
     "collapsed": false,
     "input": [
      "new_t_row = lt2.threshold(folder_affinity,0.02)\n",
      "M = markov.make_markov_row_stoch(new_t_row)"
     ],
     "language": "python",
     "metadata": {},
     "outputs": [],
     "prompt_number": 42
    },
    {
     "cell_type": "code",
     "collapsed": false,
     "input": [
      "centers = lt.diffusion_random_cover(M)\n",
      "print len(centers)"
     ],
     "language": "python",
     "metadata": {},
     "outputs": [
      {
       "output_type": "stream",
       "stream": "stdout",
       "text": [
        "19\n"
       ]
      }
     ],
     "prompt_number": 43
    },
    {
     "cell_type": "code",
     "collapsed": false,
     "input": [
      "centers_affinity = M[centers,:].T\n",
      "nearest_centers = np.argmax(centers_affinity,axis=1)\n",
      "clusters = centers[nearest_centers]"
     ],
     "language": "python",
     "metadata": {},
     "outputs": [],
     "prompt_number": 44
    },
    {
     "cell_type": "code",
     "collapsed": false,
     "input": [
      "old_parents = list(new_parents)\n",
      "new_parents = []\n",
      "for i in xrange(len(centers)):\n",
      "    new_parents.append(tree.ClusterTreeNode([]))\n",
      "\n",
      "print \"mapping {} to {}\".format(len(old_parents),len(new_parents))\n",
      "for (j,node) in enumerate(old_parents):\n",
      "    node.assign_to_parent(new_parents[nearest_centers[j]])"
     ],
     "language": "python",
     "metadata": {},
     "outputs": [
      {
       "output_type": "stream",
       "stream": "stdout",
       "text": [
        "mapping 125 to 19\n"
       ]
      }
     ],
     "prompt_number": 45
    },
    {
     "cell_type": "code",
     "collapsed": false,
     "input": [
      "np.bincount(nearest_centers)"
     ],
     "language": "python",
     "metadata": {},
     "outputs": [
      {
       "output_type": "pyout",
       "prompt_number": 46,
       "text": [
        "array([19, 13, 22,  5,  1,  1, 18,  2, 11,  2,  3,  1,  1,  1, 11,  1,  1,\n",
        "        1, 11], dtype=int64)"
       ]
      }
     ],
     "prompt_number": 46
    },
    {
     "cell_type": "code",
     "collapsed": false,
     "input": [
      "Q = np.zeros([len(centers),np.shape(M)[0]],np.float)\n",
      "for (idx,center) in enumerate(centers):\n",
      "    Q[idx,clusters==center] = 1.0\n",
      "Qi = Q.T\n",
      "Q = markov.make_markov_row_stoch(Q)"
     ],
     "language": "python",
     "metadata": {},
     "outputs": [],
     "prompt_number": 47
    },
    {
     "cell_type": "code",
     "collapsed": false,
     "input": [
      "folder_diff = Q.dot(M).dot(Qi)"
     ],
     "language": "python",
     "metadata": {},
     "outputs": [],
     "prompt_number": 48
    },
    {
     "cell_type": "code",
     "collapsed": false,
     "input": [
      "folder_affinity = folder_diff.dot(folder_diff.T)"
     ],
     "language": "python",
     "metadata": {},
     "outputs": [],
     "prompt_number": 49
    },
    {
     "cell_type": "code",
     "collapsed": false,
     "input": [
      "for thres in np.arange(0.01,0.1,0.01):\n",
      "    components = lt2.find_components(folder_affinity,thres)\n",
      "    print thres, np.shape(folder_affinity)[0] - np.max(np.bincount(components))"
     ],
     "language": "python",
     "metadata": {},
     "outputs": [
      {
       "output_type": "stream",
       "stream": "stdout",
       "text": [
        "0.01 8\n",
        "0.02 8\n",
        "0.03 8\n",
        "0.04 8\n",
        "0.05 8\n",
        "0.06 8\n",
        "0.07 8\n",
        "0.08 8\n",
        "0.09 8\n"
       ]
      }
     ],
     "prompt_number": 50
    },
    {
     "cell_type": "code",
     "collapsed": false,
     "input": [
      "new_t_row = lt2.threshold(folder_affinity,0.02)\n",
      "M = markov.make_markov_row_stoch(new_t_row)\n",
      "centers = lt.diffusion_random_cover(M)\n",
      "print len(centers)\n",
      "centers_affinity = M[centers,:].T\n",
      "nearest_centers = np.argmax(centers_affinity,axis=1)\n",
      "clusters = centers[nearest_centers]\n",
      "print np.bincount(nearest_centers)\n",
      "Q = np.zeros([len(centers),np.shape(M)[0]],np.float)\n",
      "for (idx,center) in enumerate(centers):\n",
      "    Q[idx,clusters==center] = 1.0\n",
      "Qi = Q.T\n",
      "Q = markov.make_markov_row_stoch(Q)\n",
      "folder_diff = Q.dot(M).dot(Qi)\n",
      "folder_affinity = folder_diff.dot(folder_diff.T)"
     ],
     "language": "python",
     "metadata": {},
     "outputs": [
      {
       "output_type": "stream",
       "stream": "stdout",
       "text": [
        "10\n",
        "[3 8 1 1 1 1 1 1 1 1]\n"
       ]
      }
     ],
     "prompt_number": 51
    },
    {
     "cell_type": "code",
     "collapsed": false,
     "input": [
      "old_parents = list(new_parents)\n",
      "new_parents = []\n",
      "for i in xrange(len(centers)):\n",
      "    new_parents.append(tree.ClusterTreeNode([]))\n",
      "\n",
      "print \"mapping {} to {}\".format(len(old_parents),len(new_parents))\n",
      "\n",
      "for (j,node) in enumerate(old_parents):\n",
      "    node.assign_to_parent(new_parents[nearest_centers[j]])"
     ],
     "language": "python",
     "metadata": {},
     "outputs": [
      {
       "output_type": "stream",
       "stream": "stdout",
       "text": [
        "mapping 19 to 10\n"
       ]
      }
     ],
     "prompt_number": 52
    },
    {
     "cell_type": "code",
     "collapsed": false,
     "input": [
      "print len(old_parents), len(new_parents)\n",
      "print nearest_centers"
     ],
     "language": "python",
     "metadata": {},
     "outputs": [
      {
       "output_type": "stream",
       "stream": "stdout",
       "text": [
        "19 10\n",
        "[1 1 0 0 7 2 1 0 1 1 1 3 8 5 1 4 6 9 1]\n"
       ]
      }
     ],
     "prompt_number": 53
    },
    {
     "cell_type": "code",
     "collapsed": false,
     "input": [
      "for thres in np.arange(0.01,0.1,0.01):\n",
      "    components = lt2.find_components(folder_affinity,thres)\n",
      "    print thres, np.shape(folder_affinity)[0] - np.max(np.bincount(components))"
     ],
     "language": "python",
     "metadata": {},
     "outputs": [
      {
       "output_type": "stream",
       "stream": "stdout",
       "text": [
        "0.01 8\n",
        "0.02 8\n",
        "0.03 8\n",
        "0.04 8\n",
        "0.05 8\n",
        "0.06 8\n",
        "0.07 8\n",
        "0.08 8\n",
        "0.09 8\n"
       ]
      }
     ],
     "prompt_number": 54
    },
    {
     "cell_type": "code",
     "collapsed": false,
     "input": [
      "new_t_row = lt2.threshold(folder_affinity,0.03)\n",
      "M = markov.make_markov_row_stoch(new_t_row)\n",
      "centers = lt.diffusion_random_cover(M)\n",
      "print len(centers)\n",
      "centers_affinity = M[centers,:].T\n",
      "nearest_centers = np.argmax(centers_affinity,axis=1)\n",
      "clusters = centers[nearest_centers]\n",
      "print np.bincount(nearest_centers)\n",
      "Q = np.zeros([len(centers),np.shape(M)[0]],np.float)\n",
      "for (idx,center) in enumerate(centers):\n",
      "    Q[idx,clusters==center] = 1.0\n",
      "Qi = Q.T\n",
      "Q = markov.make_markov_row_stoch(Q)\n",
      "folder_diff = Q.dot(M).dot(Qi)\n",
      "folder_affinity = folder_diff.dot(folder_diff.T)"
     ],
     "language": "python",
     "metadata": {},
     "outputs": [
      {
       "output_type": "stream",
       "stream": "stdout",
       "text": [
        "9\n",
        "[1 2 1 1 1 1 1 1 1]\n"
       ]
      }
     ],
     "prompt_number": 55
    },
    {
     "cell_type": "code",
     "collapsed": false,
     "input": [
      "old_parents = list(new_parents)\n",
      "new_parents = []\n",
      "for i in xrange(len(centers)):\n",
      "    new_parents.append(tree.ClusterTreeNode([]))\n",
      "\n",
      "for (j,node) in enumerate(old_parents):\n",
      "    node.assign_to_parent(new_parents[nearest_centers[j]])"
     ],
     "language": "python",
     "metadata": {},
     "outputs": [],
     "prompt_number": 56
    },
    {
     "cell_type": "code",
     "collapsed": false,
     "input": [
      "top_tree = tree.ClusterTreeNode([])"
     ],
     "language": "python",
     "metadata": {},
     "outputs": [],
     "prompt_number": 60
    },
    {
     "cell_type": "code",
     "collapsed": false,
     "input": [
      "for node in new_parents:\n",
      "    node.assign_to_parent(top_tree)\n",
      "top_tree.make_index()"
     ],
     "language": "python",
     "metadata": {},
     "outputs": [],
     "prompt_number": 61
    },
    {
     "cell_type": "code",
     "collapsed": false,
     "input": [
      "row_vecs,row_vals = bintree_cut.markov_eigs(row_affinity,12)\n",
      "\n",
      "ROW_TREE_PICKLE = True\n",
      "COL_TREE_PICKLE = False\n",
      "if ROW_TREE_PICKLE:\n",
      "    import cPickle\n",
      "    datadict = {}\n",
      "    datadict[\"data_descs\"] = q_descs\n",
      "    datadict[\"tree\"] = top_tree\n",
      "    datadict[\"vecs\"] = row_vecs\n",
      "    datadict[\"vals\"] = row_vals\n",
      "    datadict['tree_desc'] = \"Questions Tree\"\n",
      "    fout = open('aq_tree.pickle','wb')\n",
      "    cPickle.dump(datadict,fout)\n",
      "    fout.close()"
     ],
     "language": "python",
     "metadata": {},
     "outputs": [],
     "prompt_number": 73
    },
    {
     "cell_type": "code",
     "collapsed": false,
     "input": [
      "t_row"
     ],
     "language": "python",
     "metadata": {},
     "outputs": [
      {
       "output_type": "pyout",
       "prompt_number": 71,
       "text": [
        "array([[ 1.        ,  0.        ,  0.        , ...,  0.        ,\n",
        "         0.        ,  0.        ],\n",
        "       [ 0.        ,  1.        ,  0.        , ...,  0.        ,\n",
        "         0.        ,  0.19116914],\n",
        "       [ 0.        ,  0.        ,  1.        , ...,  0.24684874,\n",
        "         0.        ,  0.        ],\n",
        "       ..., \n",
        "       [ 0.        ,  0.        ,  0.24684874, ...,  1.        ,\n",
        "         0.24216005,  0.22822738],\n",
        "       [ 0.        ,  0.        ,  0.        , ...,  0.24216005,\n",
        "         1.        ,  0.        ],\n",
        "       [ 0.        ,  0.19116914,  0.        , ...,  0.22822738,\n",
        "         0.        ,  1.        ]])"
       ]
      }
     ],
     "prompt_number": 71
    },
    {
     "cell_type": "code",
     "collapsed": false,
     "input": [
      "top_tree.child_sizes"
     ],
     "language": "python",
     "metadata": {},
     "outputs": [
      {
       "output_type": "pyout",
       "prompt_number": 74,
       "text": [
        "[1, 1126, 1, 1, 1, 1, 1, 1, 1]"
       ]
      }
     ],
     "prompt_number": 74
    },
    {
     "cell_type": "code",
     "collapsed": false,
     "input": [
      "y = [x.elements for x in top_tree.children if len(x.elements) == 1]"
     ],
     "language": "python",
     "metadata": {},
     "outputs": [],
     "prompt_number": 78
    },
    {
     "cell_type": "code",
     "collapsed": false,
     "input": [
      "for z in y:\n",
      "    print q_descs[z[0]]"
     ],
     "language": "python",
     "metadata": {},
     "outputs": [
      {
       "output_type": "stream",
       "stream": "stdout",
       "text": [
        "R131. When I was a child, I belonged to a group of friends that tried to be loyal through all kinds of trouble.\n",
        "557. The man should be the head of the family.\n",
        "R434. lf I was in trouble with several friends who were as guilty as I was, I would rather take the whole blame than give them away.\n",
        "R232. Sometimes in elections I vote for people about whom l know very little.\n",
        "R557. The man should be the head of the family.\n",
        "434. lf I was in trouble with several friends who were as guilty as I was, I would rather take the whole blame than give them away.\n",
        "232. Sometimes in elections I vote for people about whom l know very little.\n",
        "131. When I was a child, I belonged to a group of friends that tried to be loyal through all kinds of trouble.\n"
       ]
      }
     ],
     "prompt_number": 82
    },
    {
     "cell_type": "code",
     "collapsed": false,
     "input": [],
     "language": "python",
     "metadata": {},
     "outputs": []
    }
   ],
   "metadata": {}
  }
 ]
}