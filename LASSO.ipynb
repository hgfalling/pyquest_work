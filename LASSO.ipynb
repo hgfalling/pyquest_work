{
 "metadata": {
  "name": "LASSO"
 },
 "nbformat": 3,
 "nbformat_minor": 0,
 "worksheets": [
  {
   "cells": [
    {
     "cell_type": "code",
     "collapsed": false,
     "input": [
      "import numpy\n",
      "import sklearn as skl\n",
      "from sklearn import datasets\n",
      "import sklearn.linear_model as sklm\n",
      "library = np.array([[1,10.0,0.0,0,0,0],\n",
      "                    [1,0.0,10.0,0,0,0],\n",
      "                    [0.0,0.0,0.0,1,1,0],\n",
      "                    [0.0,0.0,0.0,1,0,1]])"
     ],
     "language": "python",
     "metadata": {},
     "outputs": [],
     "prompt_number": 88
    },
    {
     "cell_type": "code",
     "collapsed": false,
     "input": [
      "library"
     ],
     "language": "python",
     "metadata": {},
     "outputs": [
      {
       "output_type": "pyout",
       "prompt_number": 89,
       "text": [
        "array([[  1.,  10.,   0.,   0.,   0.,   0.],\n",
        "       [  1.,   0.,  10.,   0.,   0.,   0.],\n",
        "       [  0.,   0.,   0.,   1.,   1.,   0.],\n",
        "       [  0.,   0.,   0.,   1.,   0.,   1.]])"
       ]
      }
     ],
     "prompt_number": 89
    },
    {
     "cell_type": "code",
     "collapsed": false,
     "input": [
      "#lm = sklm.LassoLars(alpha=.1,normalize=False)\n",
      "lm = sklm.Lasso(alpha=.01,normalize=False)\n",
      "lm.fit(library,[2,2,1,1])"
     ],
     "language": "python",
     "metadata": {},
     "outputs": [
      {
       "output_type": "pyout",
       "prompt_number": 98,
       "text": [
        "Lasso(alpha=0.01, copy_X=True, fit_intercept=True, max_iter=1000,\n",
        "   normalize=False, positive=False, precompute='auto', tol=0.0001,\n",
        "   warm_start=False)"
       ]
      }
     ],
     "prompt_number": 98
    },
    {
     "cell_type": "code",
     "collapsed": false,
     "input": [
      "lm.coef_"
     ],
     "language": "python",
     "metadata": {},
     "outputs": [
      {
       "output_type": "pyout",
       "prompt_number": 99,
       "text": [
        "array([ 0.        ,  0.09919924,  0.09919975, -0.        , -0.        , -0.        ])"
       ]
      }
     ],
     "prompt_number": 99
    },
    {
     "cell_type": "code",
     "collapsed": false,
     "input": [
      "lm.intercept_"
     ],
     "language": "python",
     "metadata": {},
     "outputs": [
      {
       "output_type": "pyout",
       "prompt_number": 100,
       "text": [
        "1.0040025361987504"
       ]
      }
     ],
     "prompt_number": 100
    },
    {
     "cell_type": "code",
     "collapsed": false,
     "input": [
      "lm.predict(library)"
     ],
     "language": "python",
     "metadata": {},
     "outputs": [
      {
       "output_type": "pyout",
       "prompt_number": 101,
       "text": [
        "array([ 1.99599493,  1.996     ,  1.00400254,  1.00400254])"
       ]
      }
     ],
     "prompt_number": 101
    },
    {
     "cell_type": "code",
     "collapsed": false,
     "input": [
      "regr.coef_\n",
      "diabetes.data[0:5,:].dot(regr.coef_)"
     ],
     "language": "python",
     "metadata": {},
     "outputs": [
      {
       "output_type": "pyout",
       "prompt_number": 130,
       "text": [
        "array([ -6.24466971, -82.24466971, -16.24466971,  48.75533029, -22.24466971])"
       ]
      }
     ],
     "prompt_number": 130
    },
    {
     "cell_type": "code",
     "collapsed": false,
     "input": [
      "regr.residues_"
     ],
     "language": "python",
     "metadata": {},
     "outputs": [
      {
       "output_type": "pyout",
       "prompt_number": 131,
       "text": [
        "array([], dtype=float64)"
       ]
      }
     ],
     "prompt_number": 131
    },
    {
     "cell_type": "code",
     "collapsed": false,
     "input": [
      "lasso = sklm.LassoLars(alpha=1e-4)"
     ],
     "language": "python",
     "metadata": {},
     "outputs": [],
     "prompt_number": 167
    },
    {
     "cell_type": "code",
     "collapsed": false,
     "input": [
      "lasso.fit(diabetes.data[0:5,:],diabetes.target[0:5].T)"
     ],
     "language": "python",
     "metadata": {},
     "outputs": [
      {
       "output_type": "pyout",
       "prompt_number": 168,
       "text": [
        "LassoLars(alpha=0.0001, copy_X=True, eps=2.2204460492503131e-16,\n",
        "     fit_intercept=True, fit_path=True, max_iter=500, normalize=True,\n",
        "     precompute='auto', verbose=False)"
       ]
      }
     ],
     "prompt_number": 168
    },
    {
     "cell_type": "code",
     "collapsed": false,
     "input": [
      "lasso.coef_"
     ],
     "language": "python",
     "metadata": {},
     "outputs": [
      {
       "output_type": "pyout",
       "prompt_number": 169,
       "text": [
        "array([  -87.05585793,     0.        ,     0.        ,     0.        ,\n",
        "           0.        ,     0.        ,     0.        ,  1118.7175772 ,\n",
        "         227.00199249,   243.64044563])"
       ]
      }
     ],
     "prompt_number": 169
    },
    {
     "cell_type": "code",
     "collapsed": false,
     "input": [
      "diabetes.data[0:5,:].dot(lasso.coef_)+lasso.intercept_"
     ],
     "language": "python",
     "metadata": {},
     "outputs": [
      {
       "output_type": "pyout",
       "prompt_number": 170,
       "text": [
        "array([ 150.99934008,   75.0004137 ,  141.00076217,  205.99970659,\n",
        "        134.99977746])"
       ]
      }
     ],
     "prompt_number": 170
    },
    {
     "cell_type": "code",
     "collapsed": false,
     "input": [
      "diabetes.target[0:5]"
     ],
     "language": "python",
     "metadata": {},
     "outputs": [
      {
       "output_type": "pyout",
       "prompt_number": 166,
       "text": [
        "array([ 151.,   75.,  141.,  206.,  135.])"
       ]
      }
     ],
     "prompt_number": 166
    },
    {
     "cell_type": "code",
     "collapsed": false,
     "input": [
      "diabetes.data[0:5,:]"
     ],
     "language": "python",
     "metadata": {},
     "outputs": [
      {
       "output_type": "pyout",
       "prompt_number": 159,
       "text": [
        "array([[ 0.03807591,  0.05068012,  0.06169621,  0.02187235, -0.0442235 ,\n",
        "        -0.03482076, -0.04340085, -0.00259226,  0.01990842, -0.01764613],\n",
        "       [-0.00188202, -0.04464164, -0.05147406, -0.02632783, -0.00844872,\n",
        "        -0.01916334,  0.07441156, -0.03949338, -0.06832974, -0.09220405],\n",
        "       [ 0.08529891,  0.05068012,  0.04445121, -0.00567061, -0.04559945,\n",
        "        -0.03419447, -0.03235593, -0.00259226,  0.00286377, -0.02593034],\n",
        "       [-0.08906294, -0.04464164, -0.01159501, -0.03665645,  0.01219057,\n",
        "         0.02499059, -0.03603757,  0.03430886,  0.02269202, -0.00936191],\n",
        "       [ 0.00538306, -0.04464164, -0.03638469,  0.02187235,  0.00393485,\n",
        "         0.01559614,  0.00814208, -0.00259226, -0.03199144, -0.04664087]])"
       ]
      }
     ],
     "prompt_number": 159
    },
    {
     "cell_type": "code",
     "collapsed": false,
     "input": [
      "lasso.coef_"
     ],
     "language": "python",
     "metadata": {},
     "outputs": [
      {
       "output_type": "pyout",
       "prompt_number": 160,
       "text": [
        "array([    0.        ,     0.        ,     0.        ,     0.        ,\n",
        "           0.        ,     0.        ,     0.        ,  1349.09705998,\n",
        "         151.12806177,     0.        ])"
       ]
      }
     ],
     "prompt_number": 160
    },
    {
     "cell_type": "code",
     "collapsed": false,
     "input": [
      "lasso.coef_path_"
     ],
     "language": "python",
     "metadata": {},
     "outputs": [
      {
       "output_type": "pyout",
       "prompt_number": 161,
       "text": [
        "array([[  0.        ,   0.        ,   0.        ,   0.        ,   0.        ],\n",
        "       [  0.        ,   0.        ,   0.        ,   0.        ,   0.        ],\n",
        "       [  0.        ,   0.        ,   0.        ,   0.        ,   0.        ],\n",
        "       [  0.        ,   0.        ,   0.        ,   0.        ,   0.        ],\n",
        "       [  0.        ,   0.        ,   0.        ,   0.        ,   0.        ],\n",
        "       [  0.        ,   0.        ,   0.        ,   0.        ,   0.        ],\n",
        "       [  0.        ,   0.        ,   0.        ,   0.        ,   0.        ],\n",
        "       [  0.        ,  57.64458092,  60.14984143,  61.99633144,\n",
        "         70.40406769],\n",
        "       [  0.        ,   0.        ,   0.        ,   3.30836688,\n",
        "         11.71610313],\n",
        "       [  0.        ,   0.        ,   2.50526051,   0.        ,   0.        ]])"
       ]
      }
     ],
     "prompt_number": 161
    },
    {
     "cell_type": "code",
     "collapsed": false,
     "input": [
      "diabetes.data[0:5,:].dot(lasso.coef_path_[:,4])"
     ],
     "language": "python",
     "metadata": {},
     "outputs": [
      {
       "output_type": "pyout",
       "prompt_number": 162,
       "text": [
        "array([ 0.05074332, -3.58105312, -0.14895356,  2.6813453 , -0.55732086])"
       ]
      }
     ],
     "prompt_number": 162
    },
    {
     "cell_type": "code",
     "collapsed": false,
     "input": [
      "lasso.intercept_"
     ],
     "language": "python",
     "metadata": {},
     "outputs": [
      {
       "output_type": "pyout",
       "prompt_number": 164,
       "text": [
        "146.75529868970614"
       ]
      }
     ],
     "prompt_number": 164
    },
    {
     "cell_type": "code",
     "collapsed": false,
     "input": [],
     "language": "python",
     "metadata": {},
     "outputs": []
    }
   ],
   "metadata": {}
  }
 ]
}