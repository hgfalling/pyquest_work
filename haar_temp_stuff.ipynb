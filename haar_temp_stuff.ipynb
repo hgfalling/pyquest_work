{
 "metadata": {
  "name": ""
 },
 "nbformat": 3,
 "nbformat_minor": 0,
 "worksheets": [
  {
   "cells": [
    {
     "cell_type": "code",
     "collapsed": false,
     "input": [
      "from imports import *\n",
      "import run_quest\n",
      "reload(haar)"
     ],
     "language": "python",
     "metadata": {},
     "outputs": [
      {
       "metadata": {},
       "output_type": "pyout",
       "prompt_number": 18,
       "text": [
        "<module 'haar' from 'haar.py'>"
       ]
      }
     ],
     "prompt_number": 18
    },
    {
     "cell_type": "code",
     "collapsed": false,
     "input": [
      "with open(\"spin_runs.pickle\",\"r\") as fin:\n",
      "    qruns = cPickle.load(fin)"
     ],
     "language": "python",
     "metadata": {},
     "outputs": [],
     "prompt_number": 3
    },
    {
     "cell_type": "code",
     "collapsed": false,
     "input": [
      "qr = qruns[7]\n",
      "row_tree = qr.row_trees[-1]\n",
      "col_tree = qr.col_trees[-1]"
     ],
     "language": "python",
     "metadata": {},
     "outputs": [],
     "prompt_number": 4
    },
    {
     "cell_type": "code",
     "collapsed": false,
     "input": [
      "X = np.zeros((row_tree.size,col_tree.size))"
     ],
     "language": "python",
     "metadata": {},
     "outputs": [],
     "prompt_number": 5
    },
    {
     "cell_type": "code",
     "collapsed": false,
     "input": [
      "X[0,0] = 1"
     ],
     "language": "python",
     "metadata": {},
     "outputs": [],
     "prompt_number": 6
    },
    {
     "cell_type": "code",
     "collapsed": false,
     "input": [
      "coefs,folder_sizes = haar.bihaar_transform(X,row_tree,col_tree,True)"
     ],
     "language": "python",
     "metadata": {},
     "outputs": [],
     "prompt_number": 19
    },
    {
     "cell_type": "code",
     "collapsed": false,
     "input": [
      "coefs"
     ],
     "language": "python",
     "metadata": {},
     "outputs": [
      {
       "metadata": {},
       "output_type": "pyout",
       "prompt_number": 20,
       "text": [
        "array([[ 0.00085228, -0.00060694,  0.00086607, ...,  0.        ,\n",
        "         0.        ,  0.        ],\n",
        "       [-0.0004205 ,  0.00029945, -0.0004273 , ...,  0.        ,\n",
        "         0.        ,  0.        ],\n",
        "       [-0.00072244,  0.00051448, -0.00073413, ...,  0.        ,\n",
        "         0.        ,  0.        ],\n",
        "       ..., \n",
        "       [ 0.        ,  0.        ,  0.        , ...,  0.        ,\n",
        "         0.        ,  0.        ],\n",
        "       [ 0.        ,  0.        ,  0.        , ...,  0.        ,\n",
        "         0.        ,  0.        ],\n",
        "       [ 0.        ,  0.        ,  0.        , ...,  0.        ,\n",
        "         0.        ,  0.        ]])"
       ]
      }
     ],
     "prompt_number": 20
    },
    {
     "cell_type": "code",
     "collapsed": false,
     "input": [
      "row_hb = haar.compute_haar(row_tree,True)"
     ],
     "language": "python",
     "metadata": {},
     "outputs": [],
     "prompt_number": 10
    },
    {
     "cell_type": "code",
     "collapsed": false,
     "input": [
      "folder_sizes"
     ],
     "language": "python",
     "metadata": {},
     "outputs": [
      {
       "metadata": {},
       "output_type": "pyout",
       "prompt_number": 21,
       "text": [
        "array([[  1.00000000e+00,   1.00000000e+00,   1.00000000e+00, ...,\n",
        "          8.23723229e-04,   8.23723229e-04,   8.23723229e-04],\n",
        "       [  1.00000000e+00,   1.00000000e+00,   1.00000000e+00, ...,\n",
        "          8.23723229e-04,   8.23723229e-04,   8.23723229e-04],\n",
        "       [  1.00000000e+00,   1.00000000e+00,   1.00000000e+00, ...,\n",
        "          8.23723229e-04,   8.23723229e-04,   8.23723229e-04],\n",
        "       ..., \n",
        "       [  5.29100529e-03,   5.29100529e-03,   5.29100529e-03, ...,\n",
        "          4.35832396e-06,   4.35832396e-06,   4.35832396e-06],\n",
        "       [  5.29100529e-03,   5.29100529e-03,   5.29100529e-03, ...,\n",
        "          4.35832396e-06,   4.35832396e-06,   4.35832396e-06],\n",
        "       [  5.29100529e-03,   5.29100529e-03,   5.29100529e-03, ...,\n",
        "          4.35832396e-06,   4.35832396e-06,   4.35832396e-06]])"
       ]
      }
     ],
     "prompt_number": 21
    },
    {
     "cell_type": "code",
     "collapsed": false,
     "input": [
      "1.0/(567*2428.0)"
     ],
     "language": "python",
     "metadata": {},
     "outputs": [
      {
       "metadata": {},
       "output_type": "pyout",
       "prompt_number": 22,
       "text": [
        "7.263873271561355e-07"
       ]
      }
     ],
     "prompt_number": 22
    },
    {
     "cell_type": "code",
     "collapsed": false,
     "input": [
      "np.sum(np.abs(row_hb[0]) > 0.0,axis=0)"
     ],
     "language": "python",
     "metadata": {},
     "outputs": [
      {
       "metadata": {},
       "output_type": "pyout",
       "prompt_number": 17,
       "text": [
        "array([567, 567, 456, 289, 192, 111,  84, 167,  99,  97,  77,  70,  47,\n",
        "        41,  18,  91,  65,  60,  55,  45,  25,  42,  36,  21, 101,  89,\n",
        "        80,  52,  39,  27,  68,  59,  49,  31,  27,  33,  28,  12,  66,\n",
        "        54,  39,  32,  42,  27,  17,  10,  20,  17,  14,  11,   8,   6,\n",
        "         6,  12,   7,  15,  13,  10,   5,  28,  26,  24,  22,  14,  12,\n",
        "         9,  10,   7,  14,  20,  16,  14,  11,   7,   5,  15,  10,   6,\n",
        "        16,  13,  11,   8,   6,   8,  15,   8,  26,  24,  20,  17,  13,\n",
        "         7,  21,  18,  11,   9,   7,  18,  14,   5,  12,   8,   5,  30,\n",
        "        27,  25,  22,  20,  16,  13,  11,   8,   9,   5,   9,  10,  12,\n",
        "         9,  21,  15,  10,   6,   4,  10,   8,   5,  17,  14,  12,   7,\n",
        "         4,  12,   7,  15,  11,   8,  13,  11,   9,   4,   7,   6,  23,\n",
        "        21,  16,  11,   5,  23,  18,  12,  10,   6,   5,  13,  11,   7,\n",
        "         4,   7,   6,   6,   5,   4,   3,   2,   3,   2,   2,   3,   2,\n",
        "         5,   4,   3,   2,   5,   4,   3,   2,   3,   2,   3,   2,   4,\n",
        "         3,   2,   2,  10,   9,   8,   7,   6,   5,   4,   3,   2,   4,\n",
        "         3,   2,   5,   4,   3,   2,   6,   5,   4,   3,   2,   3,   2,\n",
        "         4,   3,   2,   2,   4,   3,   2,   5,   4,   3,   2,   4,   3,\n",
        "         2,   7,   6,   5,   4,   3,   2,   6,   5,   4,   3,   2,   9,\n",
        "         8,   7,   6,   5,   4,   3,   2,   3,   2,   6,   5,   4,   3,\n",
        "         2,   4,   3,   2,   3,   2,   3,   2,   3,   2,   2,   4,   3,\n",
        "         2,   6,   5,   4,   3,   2,   7,   6,   5,   4,   3,   2,   6,\n",
        "         5,   4,   3,   2,  12,  11,  10,   9,   8,   7,   6,   5,   4,\n",
        "         3,   2,   4,   3,   2,   2,   5,   4,   3,   2,   4,   3,   2,\n",
        "         4,   3,   2,   4,   3,   2,   4,   3,   2,   4,   3,   2,   2,\n",
        "         5,   4,   3,   2,   8,   7,   6,   5,   4,   3,   2,   2,   3,\n",
        "         2,   8,   7,   6,   5,   4,   3,   2,   4,   3,   2,   4,   3,\n",
        "         2,   5,   4,   3,   2,   4,   3,   2,   3,   2,   3,   2,   4,\n",
        "         3,   2,   5,   4,   3,   2,   3,   2,   4,   3,   2,   5,   4,\n",
        "         3,   2,   4,   3,   2,   2,   5,   4,   3,   2,   3,   2,   2,\n",
        "         4,   3,   2,   3,   2,   8,   7,   6,   5,   4,   3,   2,   3,\n",
        "         2,   3,   2,   2,   4,   3,   2,   2,   4,   3,   2,   5,   4,\n",
        "         3,   2,   2,   4,   3,   2,   2,   3,   2,   3,   2,   3,   2,\n",
        "         4,   3,   2,   2,   3,   2,   4,   3,   2,   3,   2,   3,   2,\n",
        "         6,   5,   4,   3,   2,   2,   4,   3,   2,   2,   2,   4,   3,\n",
        "         2,   3,   2,   2,   5,   4,   3,   2,   2,   2,   5,   4,   3,\n",
        "         2,   4,   3,   2,   3,   2,   2,   2,   2,   5,   4,   3,   2,\n",
        "         4,   3,   2,   3,   2,   7,   6,   5,   4,   3,   2,   3,   2,\n",
        "         4,   3,   2,   5,   4,   3,   2,   3,   2,   2,   2,   3,   2,\n",
        "         2,   3,   2,   2,   3,   2,   3,   2,   2,   6,   5,   4,   3,\n",
        "         2,   2,   3,   2,   2,   4,   3,   2,   2,   3,   2,   3,   2,\n",
        "         2,   2,   2,   3,   2,   2,   2,   2,   3,   2,   3,   2,   3,\n",
        "         2,   2,   2,   3,   2,   2,   2,   2,   3,   2,   3,   2,   4,\n",
        "         3,   2,   2,   2,   3,   2,   3,   2,   3,   2,   2,   3,   2,\n",
        "         2,   2,   2,   2,   3,   2,   3,   2])"
       ]
      }
     ],
     "prompt_number": 17
    },
    {
     "cell_type": "code",
     "collapsed": false,
     "input": [],
     "language": "python",
     "metadata": {},
     "outputs": []
    }
   ],
   "metadata": {}
  }
 ]
}