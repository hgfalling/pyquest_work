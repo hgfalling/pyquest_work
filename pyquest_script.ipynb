{
 "metadata": {
  "name": "pyquest_script"
 },
 "nbformat": 3,
 "nbformat_minor": 0,
 "worksheets": [
  {
   "cells": [
    {
     "cell_type": "code",
     "collapsed": false,
     "input": [
      "\"\"\"\n",
      "Run ten sets of trees on the entire db, and save them.\n",
      "\"\"\"\n",
      "import numpy as np\n",
      "import scipy.io\n",
      "import affinity \n",
      "reload(affinity)\n",
      "import bintree_cut\n",
      "reload(bintree_cut)\n",
      "import dual_affinity\n",
      "reload(dual_affinity)\n",
      "import matlab_util\n",
      "import tree_util\n",
      "import scoring\n",
      "import barcode\n",
      "import cPickle"
     ],
     "language": "python",
     "metadata": {},
     "outputs": [],
     "prompt_number": 1
    },
    {
     "cell_type": "code",
     "collapsed": false,
     "input": [
      "#Load data matrix (MMPI2 raw data)\n",
      "\n",
      "DEFAULT_DATA_PATH = (\"/users/jerrod/Google Drive/Yale_Research/Questionnaire_2D_20130614/Examples/\")\n",
      "DEFAULT_DATA_FILE = \"MMPI2_AntiQuestions.mat\"\n",
      "\n",
      "mdict = scipy.io.loadmat(DEFAULT_DATA_PATH+DEFAULT_DATA_FILE)\n",
      "data = mdict[\"matrix\"]"
     ],
     "language": "python",
     "metadata": {},
     "outputs": [],
     "prompt_number": 2
    },
    {
     "cell_type": "code",
     "collapsed": false,
     "input": [
      "#Generate initial affinity\n",
      "init_row_aff = affinity.mutual_cosine_similarity(data.T,True,0)\n",
      "init_col_aff = affinity.mutual_cosine_similarity(data,True,0)\n",
      "\n",
      "#Compute diffusion embedding of initial affinities\n",
      "init_row_vecs,init_row_vals = bintree_cut.markov_eigs(init_row_aff, 12)\n",
      "init_col_vecs,init_col_vals = bintree_cut.markov_eigs(init_col_aff, 12)\n",
      "\n",
      "#Generate median trees\n",
      "init_row_tree = bintree_cut.median_tree(init_row_vecs,init_row_vals,max_levels=12)\n",
      "init_col_tree = bintree_cut.median_tree(init_col_vecs,init_col_vals,max_levels=12)"
     ],
     "language": "python",
     "metadata": {},
     "outputs": [],
     "prompt_number": 3
    },
    {
     "cell_type": "code",
     "collapsed": false,
     "input": [
      "#Step 1: Generate a series of trees for refinement purposes.\n",
      "\n",
      "#Generate dual tree\n",
      "dual_col_trees = [init_col_tree]\n",
      "dual_row_trees = [init_row_tree]\n",
      "\n",
      "for i in xrange(10):\n",
      "    dual_col_trees.append(bintree_cut.eigen_tree(data,dual_row_trees[-1],dual_affinity.emd_dual_aff,noise=0.03))\n",
      "    dual_row_trees.append(bintree_cut.eigen_tree(data.T,dual_col_trees[-1],dual_affinity.emd_dual_aff,noise=0.03))\n",
      "    \n",
      "fout = open(\"tree_refine.pickle\",\"wb\")\n",
      "cPickle.dump(dual_col_trees,fout)\n",
      "cPickle.dump(dual_row_trees,fout)\n",
      "fout.close()\n",
      "\n",
      "dual_row_trees = []\n",
      "dual_col_trees = []\n",
      "for i in xrange(10):\n",
      "#Generate dual tree\n",
      "    dual_col_tree = init_col_tree\n",
      "    dual_row_tree = init_row_tree\n",
      "\n",
      "    for i in xrange(3):\n",
      "        dual_col_tree = bintree_cut.eigen_tree(data,dual_row_tree,dual_affinity.emd_dual_aff,noise=0.03)\n",
      "        dual_row_tree = bintree_cut.eigen_tree(data.T,dual_col_tree,dual_affinity.emd_dual_aff,noise=0.03)\n",
      "\n",
      "    dual_row_trees.append(dual_row_tree)\n",
      "    dual_col_trees.append(dual_col_tree)\n",
      "    \n",
      "fout = open(\"tentrees.pickle\",\"wb\")\n",
      "cPickle.dump(dual_col_trees,fout)\n",
      "cPickle.dump(dual_row_trees,fout)\n",
      "fout.close()\n"
     ],
     "language": "python",
     "metadata": {},
     "outputs": [
      {
       "ename": "TypeError",
       "evalue": "emd_dual_aff() takes at least 2 arguments (1 given)",
       "output_type": "pyerr",
       "traceback": [
        "\u001b[1;31m---------------------------------------------------------------------------\u001b[0m\n\u001b[1;31mTypeError\u001b[0m                                 Traceback (most recent call last)",
        "\u001b[1;32m<ipython-input-4-e17e8998f82d>\u001b[0m in \u001b[0;36m<module>\u001b[1;34m()\u001b[0m\n\u001b[0;32m      6\u001b[0m \u001b[1;33m\u001b[0m\u001b[0m\n\u001b[0;32m      7\u001b[0m \u001b[1;32mfor\u001b[0m \u001b[0mi\u001b[0m \u001b[1;32min\u001b[0m \u001b[0mxrange\u001b[0m\u001b[1;33m(\u001b[0m\u001b[1;36m10\u001b[0m\u001b[1;33m)\u001b[0m\u001b[1;33m:\u001b[0m\u001b[1;33m\u001b[0m\u001b[0m\n\u001b[1;32m----> 8\u001b[1;33m     \u001b[0mdual_col_trees\u001b[0m\u001b[1;33m.\u001b[0m\u001b[0mappend\u001b[0m\u001b[1;33m(\u001b[0m\u001b[0mbintree_cut\u001b[0m\u001b[1;33m.\u001b[0m\u001b[0meigen_tree\u001b[0m\u001b[1;33m(\u001b[0m\u001b[0mdata\u001b[0m\u001b[1;33m,\u001b[0m\u001b[0mdual_row_trees\u001b[0m\u001b[1;33m[\u001b[0m\u001b[1;33m-\u001b[0m\u001b[1;36m1\u001b[0m\u001b[1;33m]\u001b[0m\u001b[1;33m,\u001b[0m\u001b[0mdual_affinity\u001b[0m\u001b[1;33m.\u001b[0m\u001b[0memd_dual_aff\u001b[0m\u001b[1;33m,\u001b[0m\u001b[0mnoise\u001b[0m\u001b[1;33m=\u001b[0m\u001b[1;36m0.03\u001b[0m\u001b[1;33m)\u001b[0m\u001b[1;33m)\u001b[0m\u001b[1;33m\u001b[0m\u001b[0m\n\u001b[0m\u001b[0;32m      9\u001b[0m     \u001b[0mdual_row_trees\u001b[0m\u001b[1;33m.\u001b[0m\u001b[0mappend\u001b[0m\u001b[1;33m(\u001b[0m\u001b[0mbintree_cut\u001b[0m\u001b[1;33m.\u001b[0m\u001b[0meigen_tree\u001b[0m\u001b[1;33m(\u001b[0m\u001b[0mdata\u001b[0m\u001b[1;33m.\u001b[0m\u001b[0mT\u001b[0m\u001b[1;33m,\u001b[0m\u001b[0mdual_col_trees\u001b[0m\u001b[1;33m[\u001b[0m\u001b[1;33m-\u001b[0m\u001b[1;36m1\u001b[0m\u001b[1;33m]\u001b[0m\u001b[1;33m,\u001b[0m\u001b[0mdual_affinity\u001b[0m\u001b[1;33m.\u001b[0m\u001b[0memd_dual_aff\u001b[0m\u001b[1;33m,\u001b[0m\u001b[0mnoise\u001b[0m\u001b[1;33m=\u001b[0m\u001b[1;36m0.03\u001b[0m\u001b[1;33m)\u001b[0m\u001b[1;33m)\u001b[0m\u001b[1;33m\u001b[0m\u001b[0m\n\u001b[0;32m     10\u001b[0m \u001b[1;33m\u001b[0m\u001b[0m\n",
        "\u001b[1;32mC:\\Users\\jerrod\\Google Drive\\Yale_Research\\pyquest\\src\\bintree_cut.pyc\u001b[0m in \u001b[0;36meigen_tree\u001b[1;34m(data, row_tree, affinity_function, alpha, beta, **kwargs)\u001b[0m\n\u001b[0;32m    103\u001b[0m             \u001b[1;32mif\u001b[0m \u001b[0mnode\u001b[0m\u001b[1;33m.\u001b[0m\u001b[0msize\u001b[0m \u001b[1;33m>=\u001b[0m \u001b[1;36m4\u001b[0m \u001b[1;32mand\u001b[0m \u001b[0mnode\u001b[0m\u001b[1;33m.\u001b[0m\u001b[0mlevel\u001b[0m \u001b[1;33m+\u001b[0m \u001b[1;36m1\u001b[0m \u001b[1;33m<\u001b[0m \u001b[0mmax_levels\u001b[0m\u001b[1;33m:\u001b[0m\u001b[1;33m\u001b[0m\u001b[0m\n\u001b[0;32m    104\u001b[0m                 \u001b[1;31m#cut it\u001b[0m\u001b[1;33m\u001b[0m\u001b[1;33m\u001b[0m\u001b[0m\n\u001b[1;32m--> 105\u001b[1;33m                 \u001b[0mcut\u001b[0m \u001b[1;33m=\u001b[0m \u001b[0meigen_cut\u001b[0m\u001b[1;33m(\u001b[0m\u001b[0mnode\u001b[0m\u001b[1;33m,\u001b[0m\u001b[0mdata\u001b[0m\u001b[1;33m,\u001b[0m\u001b[0maffinity_function\u001b[0m\u001b[1;33m,\u001b[0m\u001b[1;33m**\u001b[0m\u001b[0mkwargs\u001b[0m\u001b[1;33m)\u001b[0m\u001b[1;33m\u001b[0m\u001b[0m\n\u001b[0m\u001b[0;32m    106\u001b[0m                 \u001b[0mnode\u001b[0m\u001b[1;33m.\u001b[0m\u001b[0mcreate_subclusters\u001b[0m\u001b[1;33m(\u001b[0m\u001b[0mcut\u001b[0m\u001b[1;33m)\u001b[0m\u001b[1;33m\u001b[0m\u001b[0m\n\u001b[0;32m    107\u001b[0m             \u001b[1;32melse\u001b[0m\u001b[1;33m:\u001b[0m\u001b[1;33m\u001b[0m\u001b[0m\n",
        "\u001b[1;32mC:\\Users\\jerrod\\Google Drive\\Yale_Research\\pyquest\\src\\bintree_cut.pyc\u001b[0m in \u001b[0;36meigen_cut\u001b[1;34m(node, data, affinity_function, noise, **kwargs)\u001b[0m\n\u001b[0;32m    159\u001b[0m     \u001b[1;32melse\u001b[0m\u001b[1;33m:\u001b[0m\u001b[1;33m\u001b[0m\u001b[0m\n\u001b[0;32m    160\u001b[0m         \u001b[0mkwargs\u001b[0m\u001b[1;33m[\u001b[0m\u001b[1;34m\"data\"\u001b[0m\u001b[1;33m]\u001b[0m \u001b[1;33m=\u001b[0m \u001b[0mdata\u001b[0m\u001b[1;33m[\u001b[0m\u001b[1;33m:\u001b[0m\u001b[1;33m,\u001b[0m\u001b[0mnode\u001b[0m\u001b[1;33m.\u001b[0m\u001b[0melements\u001b[0m\u001b[1;33m]\u001b[0m\u001b[1;33m\u001b[0m\u001b[0m\n\u001b[1;32m--> 161\u001b[1;33m     \u001b[0maffinity\u001b[0m \u001b[1;33m=\u001b[0m \u001b[0maffinity_function\u001b[0m\u001b[1;33m(\u001b[0m\u001b[1;33m**\u001b[0m\u001b[0mkwargs\u001b[0m\u001b[1;33m)\u001b[0m\u001b[1;33m\u001b[0m\u001b[0m\n\u001b[0m\u001b[0;32m    162\u001b[0m     \u001b[0mvecs\u001b[0m\u001b[1;33m,\u001b[0m\u001b[0m_\u001b[0m \u001b[1;33m=\u001b[0m \u001b[0mmarkov_eigs\u001b[0m\u001b[1;33m(\u001b[0m\u001b[0maffinity\u001b[0m\u001b[1;33m,\u001b[0m\u001b[1;36m2\u001b[0m\u001b[1;33m)\u001b[0m\u001b[1;33m\u001b[0m\u001b[0m\n\u001b[0;32m    163\u001b[0m     \u001b[0meig\u001b[0m \u001b[1;33m=\u001b[0m \u001b[0mvecs\u001b[0m\u001b[1;33m[\u001b[0m\u001b[1;33m:\u001b[0m\u001b[1;33m,\u001b[0m\u001b[1;36m1\u001b[0m\u001b[1;33m]\u001b[0m\u001b[1;33m\u001b[0m\u001b[0m\n",
        "\u001b[1;31mTypeError\u001b[0m: emd_dual_aff() takes at least 2 arguments (1 given)"
       ]
      }
     ],
     "prompt_number": 4
    },
    {
     "cell_type": "code",
     "collapsed": false,
     "input": [],
     "language": "python",
     "metadata": {},
     "outputs": []
    }
   ],
   "metadata": {}
  }
 ]
}