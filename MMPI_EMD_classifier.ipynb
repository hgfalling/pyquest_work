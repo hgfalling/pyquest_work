{
 "metadata": {
  "name": ""
 },
 "nbformat": 3,
 "nbformat_minor": 0,
 "worksheets": [
  {
   "cells": [
    {
     "cell_type": "code",
     "collapsed": false,
     "input": [
      "from imports import *"
     ],
     "language": "python",
     "metadata": {},
     "outputs": [],
     "prompt_number": 1
    },
    {
     "cell_type": "code",
     "collapsed": false,
     "input": [
      "%run py_load_data.py de"
     ],
     "language": "python",
     "metadata": {},
     "outputs": [],
     "prompt_number": 3
    },
    {
     "cell_type": "code",
     "collapsed": false,
     "input": [
      "train_data = data[:,0:2000]\n",
      "test_data = data[:,2000:]\n",
      "\n",
      "kwargs = {}\n",
      "kwargs[\"threshold\"] = 0.0\n",
      "kwargs[\"row_alpha\"] = 0.0\n",
      "kwargs[\"col_alpha\"] = 0.0\n",
      "kwargs[\"row_beta\"] = 1.0\n",
      "kwargs[\"col_beta\"] = 1.0\n",
      "kwargs[\"tree_constant\"] = 1.0\n",
      "kwargs[\"n_iters\"] = 2\n",
      "params = questionnaire.PyQuestParams(questionnaire.INIT_AFF_COS_SIM,\n",
      "                                     questionnaire.TREE_TYPE_FLEXIBLE,\n",
      "                                     questionnaire.DUAL_EMD,\n",
      "                                     questionnaire.DUAL_EMD,**kwargs)\n",
      "qrun = questionnaire.pyquest(train_data,params)"
     ],
     "language": "python",
     "metadata": {},
     "outputs": [],
     "prompt_number": 6
    },
    {
     "cell_type": "code",
     "collapsed": false,
     "input": [
      "row_tree = qrun.row_trees[-1]\n",
      "col_tree = qrun.col_trees[-1]"
     ],
     "language": "python",
     "metadata": {},
     "outputs": [],
     "prompt_number": 7
    },
    {
     "cell_type": "code",
     "collapsed": false,
     "input": [
      "neighborhoods = [x for x in col_tree if 10 <= x.size <= 20]"
     ],
     "language": "python",
     "metadata": {},
     "outputs": [],
     "prompt_number": 9
    },
    {
     "cell_type": "code",
     "collapsed": false,
     "input": [
      "col_emd = dual_affinity.calc_emd_ref(train_data,test_data,row_tree,params.col_alpha,params.col_beta)"
     ],
     "language": "python",
     "metadata": {},
     "outputs": [],
     "prompt_number": 10
    },
    {
     "cell_type": "code",
     "collapsed": false,
     "input": [
      "avg_emd = np.zeros((len(neighborhoods),test_data.shape[1]))\n",
      "\n",
      "for idx,neighborhood in enumerate(neighborhoods):\n",
      "    avg_emd[idx,:] = np.mean(col_emd[neighborhood.elements,:],axis=0)"
     ],
     "language": "python",
     "metadata": {},
     "outputs": [],
     "prompt_number": 14
    },
    {
     "cell_type": "code",
     "collapsed": false,
     "input": [
      "avg_emd"
     ],
     "language": "python",
     "metadata": {},
     "outputs": [
      {
       "metadata": {},
       "output_type": "pyout",
       "prompt_number": 15,
       "text": [
        "array([[ 2.62504409,  3.99670782,  3.06219871, ...,  3.35990594,\n",
        "         2.46890065,  3.54756026],\n",
        "       [ 2.78871252,  3.68253968,  2.94479718, ...,  3.24603175,\n",
        "         2.96067019,  3.27178131],\n",
        "       [ 4.6047619 ,  3.03227513,  3.89805996, ...,  3.6047619 ,\n",
        "         6.09100529,  3.38641975],\n",
        "       ..., \n",
        "       [ 2.71831696,  3.97656841,  3.09826153, ...,  3.30385488,\n",
        "         2.35928445,  3.47039557],\n",
        "       [ 2.11334509,  3.2728983 ,  2.35461493, ...,  2.73697825,\n",
        "         2.8670194 ,  2.82139918],\n",
        "       [ 2.2867221 ,  3.05190224,  2.27084908, ...,  2.45326279,\n",
        "         3.05820106,  2.58075082]])"
       ]
      }
     ],
     "prompt_number": 15
    },
    {
     "cell_type": "code",
     "collapsed": false,
     "input": [
      "np.argmin(avg_emd,axis=0)"
     ],
     "language": "python",
     "metadata": {},
     "outputs": [
      {
       "metadata": {},
       "output_type": "pyout",
       "prompt_number": 17,
       "text": [
        "array([62, 64, 15, 26, 78, 63,  5, 41, 55, 24,  5, 43, 43, 37, 24, 28, 14,\n",
        "       53, 55, 25, 26, 66, 23, 34, 20, 32, 61, 67, 38, 43, 81, 11, 55, 34,\n",
        "       19, 14, 16, 83, 69, 23, 43, 38, 14, 77, 55, 26, 66, 53, 77, 78, 74,\n",
        "       20, 82, 28, 55, 66, 12, 74,  8, 77, 66, 41, 43, 37, 82, 21, 26, 82,\n",
        "       79, 77, 74, 55, 14, 67, 57, 77,  5, 15, 77, 33,  5, 66, 63, 19,  8,\n",
        "       64, 62, 42, 14, 15,  5, 64, 65, 71,  8, 14, 38, 14,  7, 52, 25, 16,\n",
        "       41, 34, 83,  5, 14, 63, 64, 66, 10, 24, 83, 14, 73, 28, 71, 77, 63,\n",
        "       55, 57, 21, 25, 82, 21, 67, 45, 33, 63, 23, 20, 72,  9, 14, 25, 52,\n",
        "        4, 81, 74,  3, 14, 76, 76, 28, 55, 41,  5, 52, 32, 23, 33, 43, 55,\n",
        "        8, 14, 66, 73, 45, 43, 64, 26, 18,  9, 13, 55, 77, 74, 34, 51, 73,\n",
        "       63, 63, 67, 67, 72, 67, 37, 41, 17,  3, 55, 39, 75, 51, 54, 74, 39,\n",
        "       67,  8, 19, 63, 64, 63, 31, 24, 20, 32, 33, 74, 26, 17, 14, 83, 82,\n",
        "       63, 55, 71, 53, 14, 82, 28, 16, 25, 33, 37, 64, 23, 30, 39, 37, 20,\n",
        "       13, 45, 23, 19, 14, 53, 67, 12, 71, 41, 82, 25, 33, 39, 64, 55, 37,\n",
        "       24, 55, 75, 66, 66, 26,  5,  4, 78, 37, 64, 83, 55, 39, 67, 63, 55,\n",
        "       22, 64, 64, 23, 66, 39, 57, 66, 45, 66,  5, 51, 77, 63,  5, 81,  8,\n",
        "       63, 14, 74, 64, 55, 13, 53, 13, 45, 63, 54,  4,  8,  5, 57, 37, 57,\n",
        "       32,  5, 43,  4, 15, 26, 63, 51, 18, 37, 73, 28, 30, 25, 45, 18, 34,\n",
        "       14, 82, 24, 68, 63, 39, 16, 74, 43, 14, 12, 11, 41,  7, 23, 55,  4,\n",
        "       33,  3, 30, 74, 53, 63, 76,  3, 20, 14, 63, 28, 15, 51, 75, 79, 66,\n",
        "       41, 10, 25, 62, 12, 37, 81,  8, 39,  8, 26,  4, 20, 11, 46,  5, 79,\n",
        "       67, 66, 30, 67, 63,  5,  3,  5, 62, 79, 20, 63, 57, 53, 68,  4, 31,\n",
        "       63, 23, 34, 21, 63, 55, 41, 42, 42, 52, 67, 20,  3, 66, 14, 45,  4,\n",
        "       39, 40, 13, 62, 43, 28,  3, 82, 26, 55, 26, 16, 62, 62, 55, 55, 66,\n",
        "       15, 68, 63, 13, 42, 45, 40, 49, 23, 54, 19,  3, 57, 26, 55, 64, 16,\n",
        "       63, 66, 63], dtype=int64)"
       ]
      }
     ],
     "prompt_number": 17
    },
    {
     "cell_type": "code",
     "collapsed": false,
     "input": [],
     "language": "python",
     "metadata": {},
     "outputs": []
    }
   ],
   "metadata": {}
  }
 ]
}