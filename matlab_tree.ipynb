{
 "metadata": {
  "name": "matlab_tree"
 },
 "nbformat": 3,
 "nbformat_minor": 0,
 "worksheets": [
  {
   "cells": [
    {
     "cell_type": "code",
     "collapsed": false,
     "input": [
      "import matlab_util as mu\n",
      "reload(mu)\n",
      "import scipy.io\n",
      "import numpy as np\n",
      "import matplotlib.pyplot as plt\n",
      "import sklearn.linear_model as sklm\n",
      "import cluster_diffusion as cdiff\n",
      "reload(cdiff)"
     ],
     "language": "python",
     "metadata": {},
     "outputs": [
      {
       "output_type": "pyout",
       "prompt_number": 2,
       "text": [
        "<module 'cluster_diffusion' from 'cluster_diffusion.pyc'>"
       ]
      }
     ],
     "prompt_number": 2
    },
    {
     "cell_type": "code",
     "collapsed": false,
     "input": [
      "mdict = scipy.io.loadmat('/users/jerrod/Google Drive/Yale_Research/Questionnaire2D_20130530/Examples/Output_MMPI2/MMPI2_package.mat')\n",
      "fold_points = mdict['fold_points']\n",
      "fold_sensors = mdict['fold_sensors']\n",
      "col_tree = mu.matlab_to_pyquest(fold_points)\n",
      "row_tree = mu.matlab_to_pyquest(fold_sensors)\n",
      "col_tree.calc_delta_library()\n"
     ],
     "language": "python",
     "metadata": {},
     "outputs": [],
     "prompt_number": 3
    },
    {
     "cell_type": "code",
     "collapsed": false,
     "input": [
      "QUESTION_NO = 3\n",
      "mdict2 = scipy.io.loadmat('/users/jerrod/Google Drive/Yale_Research/Questionnaire2D_20130530/Examples/Output_MMPI2/MMPI2_basic.mat')\n",
      "data = mdict2['matrix']\n",
      "mask = np.random.rand(2428) > 0.8\n",
      "in_data = data[QUESTION_NO,:] * mask\n",
      "active_indices = np.nonzero(mask)[0]\n",
      "working_cl, cl_indices = col_tree.filtered_char_library(active_indices)\n",
      "cl = working_cl[active_indices,:]"
     ],
     "language": "python",
     "metadata": {},
     "outputs": [],
     "prompt_number": 4
    },
    {
     "cell_type": "code",
     "collapsed": false,
     "input": [
      "lasso = sklm.Lasso(alpha = 1e-10,fit_intercept=False,normalize=False,max_iter=2000)\n",
      "lasso.fit(cl,data[QUESTION_NO,active_indices])"
     ],
     "language": "python",
     "metadata": {},
     "outputs": [
      {
       "output_type": "pyout",
       "prompt_number": 200,
       "text": [
        "Lasso(alpha=1e-10, copy_X=True, fit_intercept=False, max_iter=2000,\n",
        "   normalize=False, positive=False, precompute='auto', tol=0.0001,\n",
        "   warm_start=False)"
       ]
      }
     ],
     "prompt_number": 200
    },
    {
     "cell_type": "code",
     "collapsed": false,
     "input": [
      "y = lasso.predict(cl)"
     ],
     "language": "python",
     "metadata": {},
     "outputs": [],
     "prompt_number": 201
    },
    {
     "cell_type": "code",
     "collapsed": false,
     "input": [
      "np.sum(np.abs(y - data[QUESTION_NO,active_indices]))"
     ],
     "language": "python",
     "metadata": {},
     "outputs": [
      {
       "output_type": "pyout",
       "prompt_number": 215,
       "text": [
        "0.022091780976909892"
       ]
      }
     ],
     "prompt_number": 215
    },
    {
     "cell_type": "code",
     "collapsed": false,
     "input": [
      "coefs = np.zeros(col_tree.tree_size)\n",
      "coefs[cl_indices] = lasso.coef_\n",
      "full_cl = col_tree.char_library()\n",
      "lasso_impute = full_cl.dot(coefs)"
     ],
     "language": "python",
     "metadata": {},
     "outputs": [],
     "prompt_number": 211
    },
    {
     "cell_type": "code",
     "collapsed": false,
     "input": [
      "new_lasso_impute = lasso_impute[:]\n",
      "#new_lasso_impute[np.abs(new_lasso_impute) < 1e-4] = 0.0\n",
      "new_lasso_impute = np.sign(new_lasso_impute)\n",
      "np.sum(np.abs(new_lasso_impute - data[QUESTION_NO,:]))"
     ],
     "language": "python",
     "metadata": {},
     "outputs": [
      {
       "output_type": "pyout",
       "prompt_number": 212,
       "text": [
        "1272.0"
       ]
      }
     ],
     "prompt_number": 212
    },
    {
     "cell_type": "code",
     "collapsed": false,
     "input": [],
     "language": "python",
     "metadata": {},
     "outputs": []
    }
   ],
   "metadata": {}
  }
 ]
}