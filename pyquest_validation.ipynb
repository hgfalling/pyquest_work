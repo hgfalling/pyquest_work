{
 "metadata": {
  "name": "pyquest_validation"
 },
 "nbformat": 3,
 "nbformat_minor": 0,
 "worksheets": [
  {
   "cells": [
    {
     "cell_type": "code",
     "collapsed": false,
     "input": [
      "\"\"\"\n",
      "This script is to demonstrate the equality of the implemented sections of pyquest as of 6/27/2013\n",
      "with the Matlab questionnaire dated 6/14/2013.\n",
      "\"\"\"\n",
      "import numpy as np\n",
      "import scipy.io\n",
      "import affinity \n",
      "reload(affinity)\n",
      "import bintree_cut\n",
      "reload(bintree_cut)\n",
      "import dual_affinity\n",
      "reload(dual_affinity)\n",
      "import matlab_util"
     ],
     "language": "python",
     "metadata": {},
     "outputs": [],
     "prompt_number": 30
    },
    {
     "cell_type": "code",
     "collapsed": false,
     "input": [
      "#Load data matrix (MMPI2 raw data)\n",
      "\n",
      "DEFAULT_DATA_PATH = (\"/users/jerrod/Google Drive/Yale_Research/Questionnaire_2D_20130614/Examples/\")\n",
      "DEFAULT_DATA_FILE = \"MMPI2.mat\"\n",
      "\n",
      "mdict = scipy.io.loadmat(DEFAULT_DATA_PATH+DEFAULT_DATA_FILE)\n",
      "data = mdict[\"matrix\"]"
     ],
     "language": "python",
     "metadata": {},
     "outputs": [],
     "prompt_number": 8
    },
    {
     "cell_type": "code",
     "collapsed": false,
     "input": [
      "#Load data from zero_iteration questionnaire run.\n",
      "mdict2 = scipy.io.loadmat(DEFAULT_DATA_PATH+\"Output_MMPI2/Test_ZeroIter/MMPI2_package.mat\")\n",
      "mq_row_aff = mdict2[\"sensors_local_geometry\"]\n",
      "mq_col_aff = mdict2[\"points_local_geometry\"]\n",
      "print mdict2.keys()\n",
      "mq_row_vecs = mdict2[\"sensors_diffusion_embedding\"]\n",
      "mq_col_vecs = mdict2[\"points_diffusion_embedding\"]\n",
      "mq_row_vals = mdict2[\"sensors_diffusion_eigvals\"]\n",
      "mq_col_vals = mdict2[\"points_diffusion_eigvals\"]\n",
      "mq_row_tree = matlab_util.matlab_to_pyquest(mdict2[\"fold_sensors\"])\n",
      "mq_col_tree = matlab_util.matlab_to_pyquest(mdict2[\"fold_points\"])"
     ],
     "language": "python",
     "metadata": {},
     "outputs": [
      {
       "output_type": "stream",
       "stream": "stdout",
       "text": [
        "['sensors_diffusion_embedding', 'points_diffusion_maps', 'points_local_geometry', 'sensors_diffusion_eigvals', 'I_points', '__header__', '__globals__', 'sensors_diffusion_maps', 'fold_sensors', 'points_diffusion_embedding', 'I_sensors', 'points_diffusion_eigvals', 'sensors_local_geometry', '__version__', 'tmp_points', 'fold_points']\n"
       ]
      }
     ],
     "prompt_number": 31
    },
    {
     "cell_type": "code",
     "collapsed": false,
     "input": [
      "#TEST 1: generate initial affinity and compare to matlab questionnaire initial affinity.\n",
      "\n",
      "#note using the slightly broken affinity function\n",
      "pyq_row_aff = affinity.cosine_similarity(data.T,True)\n",
      "pyq_col_aff = affinity.cosine_similarity(data,True)\n",
      "\n",
      "print \"row difference: \", np.sum(np.abs(pyq_row_aff - mq_row_aff))\n",
      "print \"col difference: \", np.sum(np.abs(pyq_col_aff - mq_col_aff))"
     ],
     "language": "python",
     "metadata": {},
     "outputs": [
      {
       "output_type": "stream",
       "stream": "stdout",
       "text": [
        "row difference:  1.00198495334e-13\n",
        "col difference:  "
       ]
      },
      {
       "output_type": "stream",
       "stream": "stdout",
       "text": [
        "0.0\n"
       ]
      }
     ],
     "prompt_number": 18
    },
    {
     "cell_type": "code",
     "collapsed": false,
     "input": [
      "#TEST 2: Compare diffusion embedding of initial affinities\n",
      "\n",
      "pyq_row_vecs,pyq_row_vals = bintree_cut.markov_eigs(pyq_row_aff, 8)\n",
      "pyq_col_vecs,pyq_col_vals = bintree_cut.markov_eigs(pyq_col_aff, 8)\n",
      "\n",
      "print \"row difference: \", np.sum(np.abs(pyq_row_vecs - mq_row_vecs.T))\n",
      "print \"col difference: \", np.sum(np.abs(pyq_col_vecs - mq_col_vecs.T))\n",
      "print \"row difference: \", np.sum(np.abs(pyq_row_vals - mq_row_vals.flatten()))\n",
      "print \"col difference: \", np.sum(np.abs(pyq_col_vals - mq_col_vals.flatten()))"
     ],
     "language": "python",
     "metadata": {},
     "outputs": [
      {
       "output_type": "stream",
       "stream": "stdout",
       "text": [
        "row difference:  4.45055201644e-09\n",
        "col difference:  4.99719462913e-08\n",
        "row difference:  3.68594044176e-14\n",
        "col difference:  6.36296570988e-14\n"
       ]
      }
     ],
     "prompt_number": 28
    },
    {
     "cell_type": "code",
     "collapsed": false,
     "input": [
      "#TEST 3: Generate median trees\n",
      "\n",
      "pyq_row_tree = bintree_cut.median_tree(pyq_row_vecs,pyq_row_vals)\n",
      "pyq_col_tree = bintree_cut.median_tree(pyq_col_vecs,pyq_col_vals)\n",
      "\n",
      "print pyq_row_tree.compare(mq_row_tree)\n",
      "print pyq_col_tree.compare(mq_col_tree)"
     ],
     "language": "python",
     "metadata": {},
     "outputs": [
      {
       "output_type": "stream",
       "stream": "stdout",
       "text": [
        "True\n",
        "True"
       ]
      },
      {
       "output_type": "stream",
       "stream": "stdout",
       "text": [
        "\n"
       ]
      }
     ],
     "prompt_number": 34
    },
    {
     "cell_type": "code",
     "collapsed": false,
     "input": [
      "#Load data from one iteration questionnaire run.\n",
      "mdict2 = scipy.io.loadmat(DEFAULT_DATA_PATH+\"Output_MMPI2/Test_OneIter/MMPI2_package.mat\")\n",
      "mq_row_aff = mdict2[\"sensors_local_geometry\"]\n",
      "mq_col_aff = mdict2[\"points_local_geometry\"]\n",
      "print mdict2.keys()\n",
      "mq_row_vecs = mdict2[\"sensors_diffusion_embedding\"]\n",
      "mq_col_vecs = mdict2[\"points_diffusion_embedding\"]\n",
      "mq_row_vals = mdict2[\"sensors_diffusion_eigvals\"]\n",
      "mq_col_vals = mdict2[\"points_diffusion_eigvals\"]\n",
      "mq_row_tree = matlab_util.matlab_to_pyquest(mdict2[\"fold_sensors\"])\n",
      "mq_col_tree = matlab_util.matlab_to_pyquest(mdict2[\"fold_points\"])"
     ],
     "language": "python",
     "metadata": {},
     "outputs": [
      {
       "output_type": "stream",
       "stream": "stdout",
       "text": [
        "['sensors_diffusion_embedding', 'points_diffusion_maps', 'points_local_geometry', 'sensors_diffusion_eigvals', 'I_points', '__header__', '__globals__', 'sensors_diffusion_maps', 'fold_sensors', 'points_diffusion_embedding', 'I_sensors', 'points_diffusion_eigvals', 'sensors_local_geometry', '__version__', 'tmp_points', 'fold_points']\n"
       ]
      }
     ],
     "prompt_number": 35
    },
    {
     "cell_type": "code",
     "collapsed": false,
     "input": [
      "#Test 4: test the column dual affinity\n",
      "\n",
      "pyq_col_aff = dual_affinity.emd_dual_aff(data,pyq_row_tree)\n",
      "\n",
      "print \"col difference: \", np.sum(np.abs(pyq_col_aff - mq_col_aff))\n",
      "\n",
      "pyq_col_vecs,pyq_col_vals = bintree_cut.markov_eigs(pyq_col_aff, 8)\n",
      "\n",
      "print \"col difference: \", np.sum(np.abs(pyq_col_vecs - mq_col_vecs.T))\n",
      "print \"col difference: \", np.sum(np.abs(pyq_col_vals - mq_col_vals.flatten()))"
     ],
     "language": "python",
     "metadata": {},
     "outputs": [
      {
       "output_type": "stream",
       "stream": "stdout",
       "text": [
        "col difference:  "
       ]
      },
      {
       "output_type": "stream",
       "stream": "stdout",
       "text": [
        "1.85850456552e-10\n",
        "col difference: "
       ]
      },
      {
       "output_type": "stream",
       "stream": "stdout",
       "text": [
        " 5.92652339381e-08\n",
        "col difference:  8.7305163099e-14\n"
       ]
      }
     ],
     "prompt_number": 38
    },
    {
     "cell_type": "code",
     "collapsed": false,
     "input": [
      "pyq_col_tree = bintree_cut.eigen_tree(data,pyq_row_tree,dual_affinity.emd_dual_aff)\n",
      "print pyq_col_tree.compare(mq_col_tree)"
     ],
     "language": "python",
     "metadata": {},
     "outputs": [
      {
       "output_type": "pyout",
       "prompt_number": 40,
       "text": [
        "True"
       ]
      }
     ],
     "prompt_number": 40
    },
    {
     "cell_type": "code",
     "collapsed": false,
     "input": [
      "pyq_row_aff = dual_affinity.emd_dual_aff(data.T,pyq_col_tree)\n",
      "\n",
      "print \"row difference: \", np.sum(np.abs(pyq_row_aff - mq_row_aff))\n",
      "\n",
      "pyq_row_vecs,pyq_row_vals = bintree_cut.markov_eigs(pyq_row_aff, 8)\n",
      "\n",
      "print \"row difference: \", np.sum(np.abs(pyq_row_vecs - mq_row_vecs.T))\n",
      "print \"row difference: \", np.sum(np.abs(pyq_row_vals - mq_row_vals.flatten()))\n",
      "\n",
      "pyq_row_tree = bintree_cut.eigen_tree(data.T,pyq_col_tree,dual_affinity.emd_dual_aff)\n",
      "\n",
      "print pyq_row_tree.compare(mq_row_tree)"
     ],
     "language": "python",
     "metadata": {},
     "outputs": [
      {
       "output_type": "stream",
       "stream": "stdout",
       "text": [
        "row difference:  1.90300414316e-11\n",
        "row difference:  2.31788491986e-09\n",
        "row difference:  4.28268531749e-14\n",
        "True"
       ]
      },
      {
       "output_type": "stream",
       "stream": "stdout",
       "text": [
        "\n"
       ]
      }
     ],
     "prompt_number": 42
    },
    {
     "cell_type": "code",
     "collapsed": false,
     "input": [
      "#two more iterations, then check\n",
      "\n",
      "for i in xrange(2):\n",
      "    pyq_col_tree = bintree_cut.eigen_tree(data,pyq_row_tree,dual_affinity.emd_dual_aff)\n",
      "    pyq_row_tree = bintree_cut.eigen_tree(data.T,pyq_col_tree,dual_affinity.emd_dual_aff)    "
     ],
     "language": "python",
     "metadata": {},
     "outputs": [],
     "prompt_number": 43
    },
    {
     "cell_type": "code",
     "collapsed": false,
     "input": [
      "#Load data from three iteration questionnaire run.\n",
      "mdict2 = scipy.io.loadmat(DEFAULT_DATA_PATH+\"Output_MMPI2/Test_ThreeIter/MMPI2_package.mat\")\n",
      "mq_row_aff = mdict2[\"sensors_local_geometry\"]\n",
      "mq_col_aff = mdict2[\"points_local_geometry\"]\n",
      "print mdict2.keys()\n",
      "mq_row_vecs = mdict2[\"sensors_diffusion_embedding\"]\n",
      "mq_col_vecs = mdict2[\"points_diffusion_embedding\"]\n",
      "mq_row_vals = mdict2[\"sensors_diffusion_eigvals\"]\n",
      "mq_col_vals = mdict2[\"points_diffusion_eigvals\"]\n",
      "mq_row_tree = matlab_util.matlab_to_pyquest(mdict2[\"fold_sensors\"])\n",
      "mq_col_tree = matlab_util.matlab_to_pyquest(mdict2[\"fold_points\"])"
     ],
     "language": "python",
     "metadata": {},
     "outputs": [
      {
       "output_type": "stream",
       "stream": "stdout",
       "text": [
        "['sensors_diffusion_embedding', 'points_diffusion_maps', 'points_local_geometry', 'sensors_diffusion_eigvals', 'I_points', '__header__', '__globals__', 'sensors_diffusion_maps', 'fold_sensors', 'points_diffusion_embedding', 'I_sensors', 'points_diffusion_eigvals', 'sensors_local_geometry', '__version__', 'tmp_points', 'fold_points']\n"
       ]
      }
     ],
     "prompt_number": 44
    },
    {
     "cell_type": "code",
     "collapsed": false,
     "input": [
      "print pyq_col_tree.compare(mq_col_tree)\n",
      "print pyq_row_tree.compare(mq_row_tree)"
     ],
     "language": "python",
     "metadata": {},
     "outputs": [
      {
       "output_type": "stream",
       "stream": "stdout",
       "text": [
        "True\n",
        "True\n"
       ]
      }
     ],
     "prompt_number": 45
    },
    {
     "cell_type": "code",
     "collapsed": false,
     "input": [],
     "language": "python",
     "metadata": {},
     "outputs": []
    }
   ],
   "metadata": {}
  }
 ]
}