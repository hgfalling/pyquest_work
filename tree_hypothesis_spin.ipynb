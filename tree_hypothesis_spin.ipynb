{
 "metadata": {
  "name": "tree_hypothesis_spin"
 },
 "nbformat": 3,
 "nbformat_minor": 0,
 "worksheets": [
  {
   "cells": [
    {
     "cell_type": "code",
     "collapsed": false,
     "input": [
      "import scipy.stats\n",
      "import numpy as np\n",
      "import tree\n",
      "import tree_util as tu\n",
      "reload(tree)\n",
      "import barcode\n",
      "import matplotlib.pyplot as plt\n",
      "\n",
      "from imports import cmap\n",
      "from imports import cnorm"
     ],
     "language": "python",
     "metadata": {},
     "outputs": [],
     "prompt_number": 197
    },
    {
     "cell_type": "code",
     "collapsed": false,
     "input": [
      "def ttest_recon(p_values,t_data,row_tree,p_threshold):\n",
      "    coefs = tu.tree_transform(t_data,row_tree)\n",
      "    c = coefs.copy()\n",
      "    for node in t.traverse():\n",
      "        if node.size == 1:\n",
      "            continue\n",
      "        elif node.size <= 4:\n",
      "            c[node.children[0].idx] = 0.0\n",
      "            c[node.children[1].idx] = 0.0\n",
      "        elif p_values[node.idx] > p_threshold:\n",
      "            c[node.children[0].idx] = 0.0\n",
      "            c[node.children[1].idx] = 0.0\n",
      "    return c, tu.inverse_tree_transform(c,row_tree)"
     ],
     "language": "python",
     "metadata": {},
     "outputs": [],
     "prompt_number": 178
    },
    {
     "cell_type": "code",
     "collapsed": false,
     "input": [
      "means = scipy.stats.norm.rvs(0.5,0.20,size=1024)\n",
      "means[means < 0] = 0.0\n",
      "means[means > 1.0] = 1.0\n",
      "means = np.hstack([np.array([0.0]*8),means,np.array([1.0]*8)])\n",
      "means.sort()\n",
      "rdata = np.random.rand(1040)\n",
      "data = np.zeros(1040)\n",
      "data[rdata < means] = 1\n",
      "data[rdata >= means] = -1"
     ],
     "language": "python",
     "metadata": {},
     "outputs": [],
     "prompt_number": 179
    },
    {
     "cell_type": "code",
     "collapsed": false,
     "input": [
      "t = tree.dyadic_tree(10)\n",
      "total_recon = np.zeros(1040)\n",
      "p_threshold = 0.05\n",
      "for shift in xrange(-8,8):\n",
      "    t_data = data[8+shift:shift+1032]\n",
      "    p_values = np.zeros((t.tree_size + 1)/4,np.float)\n",
      "    for node in t.traverse(floor_level=t.tree_depth-2):\n",
      "        p_values[node.idx] = scipy.stats.ttest_ind(np.array(t_data[node.children[0].elements]),np.array(t_data[node.children[1].elements]),equal_var=True)[1]\n",
      "    p_values[np.isnan(p_values)] = 1.0\n",
      "    c, recon = ttest_recon(p_values,t_data,t,p_threshold)\n",
      "    total_recon[8+shift:shift+1032] += recon\n",
      "    total_recon[0:8+shift] += -1.0\n",
      "    total_recon[shift+1032:] += 1.0\n",
      "total_recon /= 16.0"
     ],
     "language": "python",
     "metadata": {},
     "outputs": [],
     "prompt_number": 220
    },
    {
     "cell_type": "code",
     "collapsed": false,
     "input": [
      "obs_data = data[8:1032]\n",
      "recon_data = total_recon[8:1032]\n",
      "true_data = (2*means[8:1032])-1\n",
      "fig = plt.figure()\n",
      "fig.suptitle(\"P-testing of folder means\",size=20)\n",
      "fig.add_subplot(311)\n",
      "plt.imshow(barcode.level_avgs(obs_data,t),aspect='auto',interpolation='nearest',cmap=cmap,norm=cnorm)\n",
      "plt.title(\"Observed Means\")\n",
      "fig.add_subplot(312)\n",
      "plt.imshow(barcode.level_avgs(recon_data,t),aspect='auto',interpolation='nearest',cmap=cmap,norm=cnorm)\n",
      "plt.title(\"Reconstructed Means after 16 spins\")\n",
      "fig.add_subplot(313)\n",
      "plt.imshow(barcode.level_avgs(true_data,t),aspect='auto',interpolation='nearest',cmap=cmap,norm=cnorm)\n",
      "plt.title(\"True Means\")\n",
      "plt.show()"
     ],
     "language": "python",
     "metadata": {},
     "outputs": [],
     "prompt_number": 221
    },
    {
     "cell_type": "code",
     "collapsed": false,
     "input": [
      "print np.linalg.norm(obs_data-true_data), np.linalg.norm(recon_data-true_data)\n",
      "print np.sum(np.abs(obs_data-true_data)), np.sum(np.abs(recon_data-true_data))"
     ],
     "language": "python",
     "metadata": {},
     "outputs": [
      {
       "output_type": "stream",
       "stream": "stdout",
       "text": [
        "29.6058302882 4.35009498144\n",
        "869.488791829 113.794021264\n"
       ]
      }
     ],
     "prompt_number": 219
    },
    {
     "cell_type": "code",
     "collapsed": false,
     "input": [],
     "language": "python",
     "metadata": {},
     "outputs": []
    }
   ],
   "metadata": {}
  }
 ]
}