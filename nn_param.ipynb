{
 "metadata": {
  "name": ""
 },
 "nbformat": 3,
 "nbformat_minor": 0,
 "worksheets": [
  {
   "cells": [
    {
     "cell_type": "markdown",
     "metadata": {},
     "source": [
      "This notebook is a test of the sklearn.neighbors library."
     ]
    },
    {
     "cell_type": "code",
     "collapsed": false,
     "input": [
      "import sklearn.neighbors as sknn\n",
      "from imports import *"
     ],
     "language": "python",
     "metadata": {},
     "outputs": [],
     "prompt_number": 3
    },
    {
     "cell_type": "code",
     "collapsed": false,
     "input": [
      "x = np.random.rand(50)*2*np.pi\n",
      "y = np.exp(1j*x)\n",
      "z = np.hstack((np.reshape(np.real(y),[-1,1]),np.reshape(np.imag(y),[-1,1])))"
     ],
     "language": "python",
     "metadata": {},
     "outputs": [],
     "prompt_number": 82
    },
    {
     "cell_type": "code",
     "collapsed": false,
     "input": [
      "knn = sknn.NearestNeighbors(n_neighbors=50)\n",
      "knn.fit(z)\n",
      "distances,neighbors = knn.kneighbors(z)"
     ],
     "language": "python",
     "metadata": {},
     "outputs": [],
     "prompt_number": 83
    },
    {
     "cell_type": "code",
     "collapsed": false,
     "input": [
      "neighbors"
     ],
     "language": "python",
     "metadata": {},
     "outputs": [
      {
       "metadata": {},
       "output_type": "pyout",
       "prompt_number": 84,
       "text": [
        "array([[ 0, 28, 26, ..., 23, 12, 38],\n",
        "       [ 1, 40, 48, ...,  6, 26, 47],\n",
        "       [ 2, 29, 33, ..., 17,  8, 15],\n",
        "       ..., \n",
        "       [47,  6, 26, ..., 40, 48, 19],\n",
        "       [48, 19, 40, ...,  6, 26, 47],\n",
        "       [49, 17,  8, ..., 35,  2, 29]], dtype=int64)"
       ]
      }
     ],
     "prompt_number": 84
    },
    {
     "cell_type": "code",
     "collapsed": false,
     "input": [
      "#start with some point.\n",
      "order = []\n",
      "order.append(0)\n",
      "for m in xrange(50):\n",
      "    nn = [x for x in neighbors[order[-1]] if x not in order]\n",
      "    print \"neighbors of {}: {}\".format(order[-1],nn)\n",
      "    for nlist in [neighbors[x] for x in nn if x not in order]:\n",
      "        order.append(nlist[0])\n",
      "        break\n",
      "    \n"
     ],
     "language": "python",
     "metadata": {},
     "outputs": [
      {
       "output_type": "stream",
       "stream": "stdout",
       "text": [
        "neighbors of 0: [28, 26, 7, 44, 24, 39, 18, 41, 43, 47, 27, 6, 5, 21, 35, 13, 30, 29, 2, 11, 4, 33, 36, 37, 45, 42, 3, 15, 8, 14, 17, 25, 32, 49, 31, 34, 10, 9, 22, 19, 46, 48, 20, 16, 40, 1, 23, 12, 38]\n",
        "neighbors of 28: [7, 44, 26, 24, 39, 18, 41, 43, 47, 27, 5, 21, 6, 35, 13, 29, 30, 2, 11, 4, 33, 36, 42, 3, 37, 45, 15, 14, 25, 8, 32, 17, 31, 49, 34, 10, 9, 22, 19, 48, 46, 40, 1, 20, 16, 23, 38, 12]\n",
        "neighbors of 7: [44, 24, 39, 18, 41, 43, 26, 27, 5, 21, 35, 47, 29, 6, 2, 33, 36, 13, 30, 42, 3, 11, 4, 14, 25, 32, 31, 37, 45, 34, 10, 15, 8, 17, 49, 19, 48, 40, 1, 9, 22, 46, 38, 20, 12, 16, 23]\n",
        "neighbors of 44: [24, 39, 18, 41, 43, 27, 26, 5, 21, 35, 47, 29, 6, 2, 33, 36, 13, 30, 42, 3, 11, 4, 14, 25, 32, 31, 37, 45, 34, 10, 15, 8, 17, 49, 19, 48, 40, 1, 9, 22, 38, 46, 12, 20, 16, 23]\n",
        "neighbors of 24: [39, 18, 41, 43, 27, 5, 21, 35, 26, 29, 2, 47, 33, 36, 6, 42, 3, 14, 13, 25, 32, 30, 31, 34, 11, 4, 10, 37, 45, 19, 48, 15, 40, 1, 8, 17, 49, 38, 9, 12, 22, 23, 46, 16, 20]\n",
        "neighbors of 39: [18, 41, 43, 27, 5, 21, 35, 26, 29, 2, 47, 33, 36, 6, 42, 3, 14, 25, 13, 32, 30, 31, 34, 11, 10, 4, 37, 45, 19, 48, 15, 40, 1, 8, 17, 49, 38, 12, 9, 23, 22, 16, 46, 20]\n",
        "neighbors of 18: [41, 43, 27, 5, 21, 35, 29, 26, 2, 47, 33, 36, 42, 3, 6, 14, 25, 32, 13, 31, 30, 34, 10, 11, 4, 19, 37, 45, 48, 40, 1, 15, 8, 17, 49, 38, 12, 9, 23, 22, 16, 20, 46]\n",
        "neighbors of 41: [43, 27, 5, 21, 35, 29, 26, 2, 33, 47, 36, 42, 3, 6, 14, 25, 32, 31, 13, 30, 34, 10, 11, 4, 19, 37, 45, 48, 40, 1, 15, 8, 17, 49, 38, 12, 9, 23, 22, 16, 20, 46]\n",
        "neighbors of 43: [27, 5, 21, 35, 29, 26, 2, 33, 47, 36, 42, 3, 6, 14, 25, 32, 31, 13, 30, 34, 10, 11, 4, 19, 37, 45, 48, 40, 1, 15, 8, 17, 49, 38, 12, 23, 9, 22, 16, 20, 46]\n",
        "neighbors of 27: [5, 21, 35, 29, 2, 33, 36, 26, 42, 3, 14, 47, 25, 32, 31, 6, 34, 10, 13, 19, 30, 48, 40, 1, 11, 4, 37, 45, 38, 12, 15, 23, 8, 17, 49, 16, 20, 46, 9, 22]\n",
        "neighbors of 5: [21, 35, 29, 2, 33, 36, 42, 3, 26, 14, 25, 32, 31, 47, 34, 10, 6, 19, 48, 40, 1, 13, 30, 11, 4, 38, 12, 37, 45, 23, 15, 16, 20, 8, 46, 17, 49, 22, 9]\n",
        "neighbors of 21: [35, 29, 2, 33, 36, 42, 3, 26, 14, 25, 32, 31, 47, 34, 10, 6, 19, 48, 40, 1, 13, 30, 11, 4, 38, 12, 37, 23, 45, 15, 16, 20, 8, 46, 17, 49, 22, 9]\n",
        "neighbors of 35: [29, 2, 33, 36, 42, 3, 14, 25, 26, 32, 31, 34, 10, 47, 6, 19, 48, 40, 1, 13, 30, 38, 11, 4, 12, 23, 37, 45, 16, 20, 15, 46, 8, 17, 49, 22, 9]\n",
        "neighbors of 29: [2, 33, 36, 42, 3, 14, 25, 32, 31, 34, 10, 19, 26, 48, 40, 1, 47, 38, 6, 12, 23, 13, 16, 20, 30, 46, 11, 4, 22, 9, 37, 45, 49, 15, 17, 8]\n",
        "neighbors of 2: [33, 36, 42, 3, 14, 25, 32, 31, 34, 10, 19, 48, 40, 1, 26, 47, 38, 12, 23, 6, 16, 20, 46, 13, 30, 22, 11, 4, 9, 37, 45, 49, 17, 8, 15]\n",
        "neighbors of 33: [36, 42, 3, 14, 25, 32, 31, 34, 10, 19, 48, 40, 1, 38, 12, 26, 23, 16, 20, 47, 46, 6, 22, 9, 13, 30, 49, 17, 8, 11, 4, 15, 45, 37]\n",
        "neighbors of 36: [42, 3, 14, 25, 32, 31, 34, 10, 19, 48, 40, 1, 38, 12, 23, 26, 16, 20, 46, 47, 22, 6, 9, 13, 49, 30, 17, 8, 15, 11, 4, 45, 37]\n",
        "neighbors of 42: [3, 14, 25, 32, 31, 34, 10, 19, 48, 40, 1, 38, 12, 23, 16, 20, 26, 46, 22, 47, 9, 6, 49, 17, 8, 15, 13, 30, 45, 37, 11, 4]\n",
        "neighbors of 3: [14, 25, 32, 31, 34, 10, 19, 48, 40, 1, 38, 12, 23, 16, 20, 26, 46, 22, 47, 9, 6, 49, 17, 8, 15, 13, 30, 45, 37, 11, 4]\n",
        "neighbors of 14: [25, 32, 31, 34, 10, 19, 48, 40, 1, 38, 12, 23, 16, 20, 46, 22, 9, 26, 49, 17, 8, 47, 15, 45, 37, 6, 4, 11, 13, 30]\n",
        "neighbors of 25: [32, 31, 34, 10, 19, 48, 40, 1, 38, 12, 23, 16, 20, 46, 22, 9, 26, 49, 17, 8, 15, 47, 45, 37, 6, 4, 11, 13, 30]\n",
        "neighbors of 32: [31, 34, 10, 19, 48, 40, 1, 38, 12, 23, 16, 20, 46, 22, 9, 49, 26, 17, 8, 15, 47, 45, 37, 6, 4, 11, 30, 13]\n",
        "neighbors of 31: [34, 10, 19, 48, 40, 1, 38, 12, 23, 16, 20, 46, 22, 9, 49, 17, 8, 26, 15, 45, 37, 47, 4, 11, 6, 30, 13]\n",
        "neighbors of 34: [10, 19, 48, 40, 1, 38, 12, 23, 16, 20, 46, 22, 9, 49, 17, 8, 15, 45, 37, 26, 4, 11, 47, 30, 13, 6]\n",
        "neighbors of 10: [19, 48, 40, 1, 38, 12, 23, 16, 20, 46, 22, 9, 49, 17, 8, 15, 45, 37, 26, 4, 11, 47, 30, 13, 6]\n",
        "neighbors of 19: [48, 40, 1, 38, 12, 23, 16, 20, 46, 22, 9, 49, 17, 8, 15, 45, 37, 4, 11, 30, 13, 26, 6, 47]\n",
        "neighbors of 48: [40, 1, 38, 12, 23, 16, 20, 46, 22, 9, 49, 17, 8, 15, 45, 37, 4, 11, 30, 13, 6, 26, 47]\n",
        "neighbors of 40: [1, 38, 12, 23, 16, 20, 46, 22, 9, 49, 17, 8, 15, 45, 37, 4, 11, 30, 13, 6, 26, 47]\n",
        "neighbors of 1: [38, 12, 23, 16, 20, 46, 22, 9, 49, 17, 8, 15, 45, 37, 4, 11, 30, 13, 6, 26, 47]\n",
        "neighbors of 38: [12, 23, 16, 20, 46, 22, 9, 49, 17, 8, 15, 45, 37, 4, 11, 30, 13, 6, 47, 26]\n",
        "neighbors of 12: [23, 16, 20, 46, 22, 9, 49, 17, 8, 15, 45, 37, 4, 11, 30, 13, 6, 47, 26]\n",
        "neighbors of 23: [16, 20, 46, 22, 9, 49, 17, 8, 15, 45, 37, 4, 11, 30, 13, 6, 47, 26]\n",
        "neighbors of 16: [20, 46, 22, 9, 49, 17, 8, 15, 45, 37, 4, 11, 30, 13, 6, 47, 26]\n",
        "neighbors of 20: [46, 22, 9, 49, 17, 8, 15, 45, 37, 4, 11, 30, 13, 6, 47, 26]\n",
        "neighbors of 46: [22, 9, 49, 17, 8, 15, 45, 37, 4, 11, 30, 13, 6, 47, 26]\n",
        "neighbors of 22: [9, 49, 17, 8, 15, 45, 37, 4, 11, 30, 13, 6, 47, 26]\n",
        "neighbors of 9: [49, 17, 8, 15, 45, 37, 4, 11, 30, 13, 6, 47, 26]\n",
        "neighbors of 49: [17, 8, 15, 45, 37, 4, 11, 30, 13, 6, 47, 26]\n",
        "neighbors of 17: [8, 15, 45, 37, 4, 11, 30, 13, 6, 47, 26]\n",
        "neighbors of 8: [15, 45, 37, 4, 11, 30, 13, 6, 47, 26]\n",
        "neighbors of 15: [45, 37, 4, 11, 30, 13, 6, 47, 26]\n",
        "neighbors of 45: [37, 4, 11, 30, 13, 6, 47, 26]\n",
        "neighbors of 37: [4, 11, 30, 13, 6, 47, 26]\n",
        "neighbors of 4: [11, 30, 13, 6, 47, 26]\n",
        "neighbors of 11: [30, 13, 6, 47, 26]\n",
        "neighbors of 30: [13, 6, 47, 26]\n",
        "neighbors of 13: [6, 47, 26]\n",
        "neighbors of 6: [47, 26]\n",
        "neighbors of 47: [26]\n",
        "neighbors of 26: []\n"
       ]
      }
     ],
     "prompt_number": 85
    },
    {
     "cell_type": "code",
     "collapsed": false,
     "input": [
      "plt.scatter(z[order,0],z[order,1],c=np.abs(colors),cmap=bwmap,norm=bwnorm)"
     ],
     "language": "python",
     "metadata": {},
     "outputs": [
      {
       "metadata": {},
       "output_type": "pyout",
       "prompt_number": 97,
       "text": [
        "<matplotlib.collections.PathCollection at 0x10a92518>"
       ]
      },
      {
       "metadata": {},
       "output_type": "display_data",
       "png": "[encoded data removed]",
       "text": [
        "<matplotlib.figure.Figure at 0x10b08048>"
       ]
      }
     ],
     "prompt_number": 97
    },
    {
     "cell_type": "code",
     "collapsed": false,
     "input": [
      "z"
     ],
     "language": "python",
     "metadata": {},
     "outputs": [
      {
       "metadata": {},
       "output_type": "pyout",
       "prompt_number": 70,
       "text": [
        "array([[ 0.82914597,  0.55903216],\n",
        "       [ 0.81386156,  0.58105883],\n",
        "       [ 0.91729218,  0.39821484],\n",
        "       [ 0.99929875,  0.03744337],\n",
        "       [ 0.64338008,  0.76554691],\n",
        "       [ 0.77392951,  0.63327176],\n",
        "       [ 0.86276695,  0.50560181],\n",
        "       [ 0.98126337,  0.19267119],\n",
        "       [ 0.56468576,  0.825306  ],\n",
        "       [ 0.8761646 ,  0.48201203],\n",
        "       [ 0.78686086,  0.61713045],\n",
        "       [ 0.98440318,  0.17592718],\n",
        "       [ 0.99561127,  0.09358528],\n",
        "       [ 0.94834632,  0.31723692],\n",
        "       [ 0.88370456,  0.46804514],\n",
        "       [ 0.89876708,  0.43842642],\n",
        "       [ 0.85449252,  0.5194637 ],\n",
        "       [ 0.6514869 ,  0.75865988],\n",
        "       [ 0.97922728,  0.20276571],\n",
        "       [ 0.82522589,  0.56480283],\n",
        "       [ 0.98697627,  0.1608659 ],\n",
        "       [ 0.64778928,  0.76181957],\n",
        "       [ 0.80245355,  0.59671459],\n",
        "       [ 0.68093029,  0.73234824],\n",
        "       [ 0.76629004,  0.6424948 ],\n",
        "       [ 0.66862011,  0.74360416],\n",
        "       [ 0.97043817,  0.24134985],\n",
        "       [ 0.9151634 ,  0.40308307],\n",
        "       [ 0.71853629,  0.69548947],\n",
        "       [ 0.63273518,  0.77436826],\n",
        "       [ 0.94670292,  0.32210802],\n",
        "       [ 0.57099994,  0.8209501 ],\n",
        "       [ 0.99956954,  0.02933843],\n",
        "       [ 0.67416677,  0.73857915],\n",
        "       [ 0.99771896,  0.06750457],\n",
        "       [ 0.80976218,  0.58675823],\n",
        "       [ 0.99963897,  0.02686893],\n",
        "       [ 0.97761876,  0.21038433],\n",
        "       [ 0.93117372,  0.36457578],\n",
        "       [ 0.60347532,  0.79738167],\n",
        "       [ 0.80526795,  0.59291106],\n",
        "       [ 0.91276289,  0.40848979],\n",
        "       [ 0.78260292,  0.62252123],\n",
        "       [ 0.94837503,  0.31715108],\n",
        "       [ 0.85962787,  0.51092066],\n",
        "       [ 0.6645919 ,  0.74720654],\n",
        "       [ 0.88926521,  0.45739195],\n",
        "       [ 0.90845494,  0.41798281],\n",
        "       [ 0.57170835,  0.82045693],\n",
        "       [ 0.9946999 ,  0.10282081]])"
       ]
      }
     ],
     "prompt_number": 70
    },
    {
     "cell_type": "code",
     "collapsed": false,
     "input": [],
     "language": "python",
     "metadata": {},
     "outputs": []
    }
   ],
   "metadata": {}
  }
 ]
}