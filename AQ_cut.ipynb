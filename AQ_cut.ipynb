{
 "metadata": {
  "name": "AQ_cut"
 },
 "nbformat": 3,
 "nbformat_minor": 0,
 "worksheets": [
  {
   "cells": [
    {
     "cell_type": "code",
     "collapsed": false,
     "input": [
      "from imports import *"
     ],
     "language": "python",
     "metadata": {},
     "outputs": [],
     "prompt_number": 1
    },
    {
     "cell_type": "code",
     "collapsed": false,
     "input": [
      "%run load_data.py aq"
     ],
     "language": "python",
     "metadata": {},
     "outputs": [],
     "prompt_number": 2
    },
    {
     "cell_type": "code",
     "collapsed": false,
     "input": [
      "row_affinity = affinity.mutual_cosine_similarity(data.T)"
     ],
     "language": "python",
     "metadata": {},
     "outputs": [],
     "prompt_number": 3
    },
    {
     "cell_type": "code",
     "collapsed": false,
     "input": [
      "row_affinity"
     ],
     "language": "python",
     "metadata": {},
     "outputs": [
      {
       "output_type": "pyout",
       "prompt_number": 4,
       "text": [
        "array([[ 1.        ,  0.02435501,  0.16206191, ...,  0.00124147,\n",
        "         0.        ,  0.        ],\n",
        "       [ 0.02435501,  1.        ,  0.17281923, ...,  0.1742555 ,\n",
        "         0.03770481,  0.19116914],\n",
        "       [ 0.16206191,  0.17281923,  1.        , ...,  0.24684874,\n",
        "         0.18543239,  0.03148347],\n",
        "       ..., \n",
        "       [ 0.00124147,  0.1742555 ,  0.24684874, ...,  1.        ,\n",
        "         0.24216005,  0.22822738],\n",
        "       [ 0.        ,  0.03770481,  0.18543239, ...,  0.24216005,\n",
        "         1.        ,  0.07906786],\n",
        "       [ 0.        ,  0.19116914,  0.03148347, ...,  0.22822738,\n",
        "         0.07906786,  1.        ]])"
       ]
      }
     ],
     "prompt_number": 4
    },
    {
     "cell_type": "code",
     "collapsed": false,
     "input": [
      "vecs,vals = bintree_cut.markov_eigs(row_affinity,4)\n",
      "eig = vecs[:,1]\n",
      "eig_sorted = np.sort(eig)"
     ],
     "language": "python",
     "metadata": {},
     "outputs": [],
     "prompt_number": 5
    },
    {
     "cell_type": "code",
     "collapsed": false,
     "input": [
      "eig_sorted"
     ],
     "language": "python",
     "metadata": {},
     "outputs": [
      {
       "output_type": "pyout",
       "prompt_number": 6,
       "text": [
        "array([-1.32238392, -1.32078672, -1.32000246, ...,  1.32000246,\n",
        "        1.32078672,  1.32238392])"
       ]
      }
     ],
     "prompt_number": 6
    },
    {
     "cell_type": "code",
     "collapsed": false,
     "input": [
      "np.allclose(np.sort(np.abs(eig_sorted[0:567])),eig_sorted[567:])"
     ],
     "language": "python",
     "metadata": {},
     "outputs": [
      {
       "output_type": "pyout",
       "prompt_number": 7,
       "text": [
        "True"
       ]
      }
     ],
     "prompt_number": 7
    },
    {
     "cell_type": "code",
     "collapsed": false,
     "input": [
      "s=np.argsort(eig)"
     ],
     "language": "python",
     "metadata": {},
     "outputs": [],
     "prompt_number": 8
    },
    {
     "cell_type": "code",
     "collapsed": false,
     "input": [
      "s[0:567] % 567"
     ],
     "language": "python",
     "metadata": {},
     "outputs": [
      {
       "output_type": "pyout",
       "prompt_number": 9,
       "text": [
        "array([228, 310, 332, 423, 167, 542,  16, 562, 315, 470, 144,  58,  47,\n",
        "       524,  29, 237, 149,  22, 535, 319, 105, 307, 309, 171,  52, 487,\n",
        "       462, 177, 175, 174,  93, 398, 411, 326, 287, 544,  56, 189, 447,\n",
        "       233,  84, 420, 545, 305, 163,  46, 254,  82, 220,  90, 128,  27,\n",
        "       381, 465, 379, 346, 557, 371, 194, 302, 502, 566, 295, 327,  69,\n",
        "       388, 294, 100,  43, 133, 550, 435, 563,  26, 103, 503, 375, 234,\n",
        "       499, 558, 482, 368, 240, 214,  96, 504,  91, 456, 116, 258, 489,\n",
        "       378, 440, 313, 267, 412, 165,  98, 347, 146, 122, 515, 537, 490,\n",
        "       506,  83, 426, 253, 514, 474, 564, 236, 285, 548, 201, 164, 454,\n",
        "       178,  39, 404, 160,  97, 158, 280, 297, 255, 223, 246, 207, 488,\n",
        "       298, 560, 519,  74,  75, 249, 453, 444,  45, 328, 176, 299,  44,\n",
        "       141, 450, 181, 367, 282, 539, 496, 547, 148,  41, 291, 135, 312,\n",
        "       316, 494, 137, 382, 483, 277,  21, 409, 145, 523, 140, 430, 528,\n",
        "       445, 399, 179, 365, 449, 120, 318, 348, 443, 511, 301, 159, 169,\n",
        "       457, 155, 512, 401,  14, 268, 525, 108, 300, 538, 527, 481, 261,\n",
        "       359, 306, 428, 279, 308, 433, 250, 372, 245,  10, 355,   1, 486,\n",
        "         7, 501, 110, 337, 406, 469, 212, 432, 205, 471,  59, 475, 392,\n",
        "       197, 380, 162, 257, 534, 518, 123,  36, 334, 509, 417, 320, 363,\n",
        "        57, 516, 418, 273,  53,   6, 241, 248,  12, 546, 360, 552,  54,\n",
        "       526, 390,  77, 211,  31, 377, 510, 104, 507, 424, 222, 452, 493,\n",
        "       366, 333, 484, 317,  60, 288,   5, 561, 458,  23, 143, 323, 497,\n",
        "       429, 357, 239, 150, 405,  38, 532, 400,  35, 115, 508,  71, 422,\n",
        "       553, 386, 102, 324, 187, 498, 467, 231, 529, 391, 393, 203,  19,\n",
        "       185,  67, 437,  33, 431, 283,  64,  25,  95, 413, 373, 152, 225,\n",
        "       325, 173, 565, 227, 395, 242, 407, 434, 184,  51, 180, 374, 134,\n",
        "       352,  89, 322,  81, 394, 446, 192, 414, 369,  17, 183, 442, 172,\n",
        "       549, 466, 215, 335, 126, 247, 461, 354,  65, 541, 166, 500, 492,\n",
        "       198, 403, 107, 370, 311, 543, 252, 193, 251, 419, 264, 217,  18,\n",
        "       232, 389, 396,  30, 286,  48, 554, 281, 331, 276, 402, 204, 350,\n",
        "       113, 505, 364, 329, 125, 530, 191, 410, 278, 477, 154,  66, 321,\n",
        "       463,  15, 536, 275, 132, 293, 342, 161, 142, 303,  32, 491, 213,\n",
        "       272, 124, 478, 224,  80, 269, 151, 290, 127, 480, 551, 170, 266,\n",
        "       416, 468, 209, 358, 408,  72,  79, 362, 556, 109,  87,  94, 384,\n",
        "       136, 522,  49, 353, 336, 168, 114,  61, 117, 385,  50, 131, 200,\n",
        "        11, 314, 226, 138, 153, 263,   8, 270, 208, 139,   9,  73,   2,\n",
        "       284, 473,  24, 340, 292, 230, 555, 421, 476, 259, 186, 101,  20,\n",
        "         3, 438,  13,  86, 330, 349, 485,  37, 210, 451, 229, 206, 106,\n",
        "       196, 190, 221, 344, 439, 517, 441, 464, 343, 119, 520, 129, 376,\n",
        "        63, 345, 182, 130, 274,  76,  70, 460, 436, 479, 513, 219, 157,\n",
        "       459, 121, 397, 243, 147, 202, 195, 387,  92,  62, 112,   0, 356,\n",
        "       415, 383,  34,  42, 339, 448, 338, 256, 304, 472, 118, 540,  40,\n",
        "        55, 296, 521, 425, 111, 495, 427, 188, 262,   4, 351, 216, 289,\n",
        "       341,  28, 361, 559, 531, 235, 265,  68,  88, 271, 455,  85, 199,\n",
        "       218,  78, 238, 244, 533, 156, 260,  99], dtype=int64)"
       ]
      }
     ],
     "prompt_number": 9
    },
    {
     "cell_type": "code",
     "collapsed": false,
     "input": [
      "len(np.unique(_))"
     ],
     "language": "python",
     "metadata": {},
     "outputs": [
      {
       "output_type": "pyout",
       "prompt_number": 10,
       "text": [
        "567"
       ]
      }
     ],
     "prompt_number": 10
    },
    {
     "cell_type": "code",
     "collapsed": false,
     "input": [
      "np.sum(s[0:567] >= 567)"
     ],
     "language": "python",
     "metadata": {},
     "outputs": [
      {
       "output_type": "pyout",
       "prompt_number": 11,
       "text": [
        "416"
       ]
      }
     ],
     "prompt_number": 11
    },
    {
     "cell_type": "code",
     "collapsed": false,
     "input": [
      "151.0/567"
     ],
     "language": "python",
     "metadata": {},
     "outputs": [
      {
       "output_type": "pyout",
       "prompt_number": 12,
       "text": [
        "0.26631393298059963"
       ]
      }
     ],
     "prompt_number": 12
    },
    {
     "cell_type": "code",
     "collapsed": false,
     "input": [
      "fig = plt.figure()\n",
      "ax = fig.add_subplot(111,projection=\"3d\")\n",
      "k = np.where(vecs[:,1] > 0.0)[0]\n",
      "x = vecs[k,1]\n",
      "y = vecs[k,2]*np.sign(vecs[k,1])\n",
      "z = vecs[k,3]*np.sign(vecs[k,1])\n",
      "ax.scatter3D(x,y,z,c='r')\n",
      "k = np.where(vecs[:,1] < 0.0)[0]\n",
      "x = vecs[k,1]\n",
      "y = vecs[k,2]*np.sign(vecs[k,1])\n",
      "z = vecs[k,3]*np.sign(vecs[k,1])\n",
      "ax.scatter3D(x,y,z,c='b')\n",
      "\n",
      "plt.show()"
     ],
     "language": "python",
     "metadata": {},
     "outputs": [],
     "prompt_number": 17
    },
    {
     "cell_type": "code",
     "collapsed": false,
     "input": [
      "plt.imshow(row_affinity)\n",
      "plt.show()"
     ],
     "language": "python",
     "metadata": {},
     "outputs": [],
     "prompt_number": 18
    },
    {
     "cell_type": "code",
     "collapsed": false,
     "input": [],
     "language": "python",
     "metadata": {},
     "outputs": [],
     "prompt_number": 13
    }
   ],
   "metadata": {}
  }
 ]
}