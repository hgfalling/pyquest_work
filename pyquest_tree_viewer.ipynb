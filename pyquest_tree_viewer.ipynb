{
 "metadata": {
  "name": "pyquest_tree_viewer"
 },
 "nbformat": 3,
 "nbformat_minor": 0,
 "worksheets": [
  {
   "cells": [
    {
     "cell_type": "code",
     "collapsed": false,
     "input": [
      "import numpy as np\n",
      "import scipy.io\n",
      "import scipy.spatial as spss\n",
      "import sklearn.neighbors as sknn\n",
      "\n",
      "import matplotlib\n",
      "matplotlib.use('WXAgg')\n",
      "import matplotlib.pyplot as plt\n",
      "from mpl_toolkits.mplot3d import Axes3D\n",
      "\n",
      "import affinity \n",
      "reload(affinity)\n",
      "import bintree_cut\n",
      "reload(bintree_cut)\n",
      "import dual_affinity\n",
      "reload(dual_affinity)\n",
      "import matlab_util\n",
      "import tree_util\n",
      "reload(tree_util)\n",
      "import scoring\n",
      "reload(scoring)\n",
      "import barcode\n",
      "reload(barcode)\n",
      "import embedding\n",
      "reload(embedding)\n",
      "import quest\n",
      "reload(quest)"
     ],
     "language": "python",
     "metadata": {},
     "outputs": [
      {
       "output_type": "pyout",
       "prompt_number": 16,
       "text": [
        "<module 'quest' from 'quest.py'>"
       ]
      }
     ],
     "prompt_number": 16
    },
    {
     "cell_type": "code",
     "collapsed": false,
     "input": [
      "#Load data stuff\n",
      "\n",
      "DEFAULT_DATA_PATH = (\"/users/jerrod/Google Drive/Yale_Research/Questionnaire_2D_20130614/Examples/\")\n",
      "DEFAULT_DATA_FILE = \"MMPI2_AntiQuestions.mat\"\n",
      "\n",
      "mdict = scipy.io.loadmat(DEFAULT_DATA_PATH+DEFAULT_DATA_FILE)\n",
      "data = mdict[\"matrix\"]\n",
      "q_descs = [x[0][0] for x in mdict[\"sensors_dat\"][0,0][0]]\n",
      "p_score_descs = [x[0] for x in mdict[\"points_dat\"][0,0][1][0]]\n",
      "p_scores = mdict[\"points_dat\"][0,0][0]"
     ],
     "language": "python",
     "metadata": {},
     "outputs": [],
     "prompt_number": 13
    },
    {
     "cell_type": "code",
     "collapsed": false,
     "input": [
      "dual_row_trees,dual_col_trees,row_vecs,row_vals,col_vecs,col_vals = quest.pyquest_std_aq(data,n_iters=3)"
     ],
     "language": "python",
     "metadata": {},
     "outputs": [],
     "prompt_number": 17
    },
    {
     "cell_type": "code",
     "collapsed": false,
     "input": [
      "cmap = plt.get_cmap(\"RdBu_r\")\n",
      "cnorm = matplotlib.colors.Normalize(vmin=-1,vmax=1)\n",
      "cmap.set_under('blue')\n",
      "cmap.set_over('red')"
     ],
     "language": "python",
     "metadata": {},
     "outputs": [],
     "prompt_number": 20
    },
    {
     "cell_type": "code",
     "collapsed": false,
     "input": [
      "fig = plt.figure()\n",
      "ax = fig.add_subplot(111,projection=\"3d\")\n",
      "c = np.ones(np.shape(row_vecs)[0])\n",
      "c[0:np.shape(row_vecs)[0]/2] *= -1\n",
      "diff_time = 1.0/(1.0-row_vals[1])\n",
      "x = row_vecs[:,1] * (row_vals[1]**diff_time)\n",
      "y = row_vecs[:,2] * (row_vals[2]**diff_time)\n",
      "z = row_vecs[:,3] * (row_vals[3]**diff_time)\n",
      "ax.scatter3D(x,y,z,c=c)\n",
      "plt.show()"
     ],
     "language": "python",
     "metadata": {},
     "outputs": [],
     "prompt_number": 28
    },
    {
     "cell_type": "code",
     "collapsed": false,
     "input": [
      "row_tree = dual_row_trees[-1]\n",
      "col_tree = dual_col_trees[-1]"
     ],
     "language": "python",
     "metadata": {},
     "outputs": [],
     "prompt_number": 30
    },
    {
     "cell_type": "code",
     "collapsed": false,
     "input": [
      "PICKLE_IT = True\n",
      "if PICKLE_IT:\n",
      "    import cPickle\n",
      "    datadict = {}\n",
      "    datadict[\"data\"] = data\n",
      "    datadict[\"q_descs\"] = q_descs\n",
      "    datadict[\"p_score_descs\"] = p_score_descs\n",
      "    datadict[\"p_scores\"] = p_scores\n",
      "    datadict[\"col_tree\"] = col_tree\n",
      "    datadict[\"row_tree\"] = row_tree\n",
      "    datadict[\"col_vecs\"] = col_vecs\n",
      "    datadict[\"col_vals\"] = col_vals\n",
      "    datadict[\"row_vecs\"] = row_vecs\n",
      "    datadict[\"row_vals\"] = row_vals\n",
      "    fout = open('aq_datadict.pickle','wb')\n",
      "    cPickle.dump(datadict,fout)\n",
      "    fout.close()"
     ],
     "language": "python",
     "metadata": {},
     "outputs": [],
     "prompt_number": 31
    },
    {
     "cell_type": "code",
     "collapsed": false,
     "input": [
      "ROW_TREE_PICKLE = True\n",
      "COL_TREE_PICKLE = False\n",
      "if ROW_TREE_PICKLE:\n",
      "    import cPickle\n",
      "    datadict = {}\n",
      "    datadict[\"data_descs\"] = q_descs\n",
      "    datadict[\"tree\"] = row_tree\n",
      "    datadict[\"vecs\"] = row_vecs\n",
      "    datadict[\"vals\"] = row_vals\n",
      "    datadict['tree_desc'] = \"Questions Tree\"\n",
      "    fout = open('aq_tree.pickle','wb')\n",
      "    cPickle.dump(datadict,fout)\n",
      "    fout.close()"
     ],
     "language": "python",
     "metadata": {},
     "outputs": [],
     "prompt_number": 32
    },
    {
     "cell_type": "code",
     "collapsed": false,
     "input": [],
     "language": "python",
     "metadata": {},
     "outputs": []
    }
   ],
   "metadata": {}
  }
 ]
}