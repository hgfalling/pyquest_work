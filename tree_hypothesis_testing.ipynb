{
 "metadata": {
  "name": "tree_hypothesis_testing"
 },
 "nbformat": 3,
 "nbformat_minor": 0,
 "worksheets": [
  {
   "cells": [
    {
     "cell_type": "code",
     "collapsed": false,
     "input": [
      "import scipy.stats\n",
      "import numpy as np"
     ],
     "language": "python",
     "metadata": {},
     "outputs": [],
     "prompt_number": 1
    },
    {
     "cell_type": "code",
     "collapsed": false,
     "input": [
      "m = scipy.stats.bernoulli(0.5)"
     ],
     "language": "python",
     "metadata": {},
     "outputs": [],
     "prompt_number": 2
    },
    {
     "cell_type": "code",
     "collapsed": false,
     "input": [
      "child1 = scipy.stats.bernoulli.rvs(0.5,size=5)\n",
      "child2 = scipy.stats.bernoulli.rvs(0.5,size=5)\n",
      "print scipy.stats.ttest_ind(child1,child2,equal_var=True)\n",
      "print np.mean(child1), np.mean(child2)"
     ],
     "language": "python",
     "metadata": {},
     "outputs": [
      {
       "output_type": "stream",
       "stream": "stdout",
       "text": [
        "(array(0.6324555320336758), 0.54473730080449112)\n",
        "0.4 0.2\n"
       ]
      }
     ],
     "prompt_number": 57
    },
    {
     "cell_type": "code",
     "collapsed": false,
     "input": [
      "reload(tree)"
     ],
     "language": "python",
     "metadata": {},
     "outputs": [
      {
       "output_type": "pyout",
       "prompt_number": 137,
       "text": [
        "<module 'tree' from 'tree.py'>"
       ]
      }
     ],
     "prompt_number": 137
    },
    {
     "cell_type": "code",
     "collapsed": false,
     "input": [
      "means = scipy.stats.norm.rvs(0.5,0.20,size=1024)\n",
      "means[means < 0] = 0.0\n",
      "means[means > 1.0] = 1.0\n",
      "means.sort()\n",
      "rdata = np.random.rand(1024)\n",
      "data = np.zeros(1024)\n",
      "data[rdata < means] = 1\n",
      "data[rdata >= means] = -1"
     ],
     "language": "python",
     "metadata": {},
     "outputs": [],
     "prompt_number": 496
    },
    {
     "cell_type": "code",
     "collapsed": false,
     "input": [
      "t = tree.dyadic_tree(10)\n",
      "for node in t.traverse():\n",
      "    node.true_mean = (np.mean(means[node.elements])*2.0)-1.0\n",
      "    node.obs_mean = np.mean(data[node.elements])\n",
      "    node.data = data[node.elements]\n",
      "    if node.level < 4:\n",
      "        print node.level, node.size, node.true_mean, node.obs_mean"
     ],
     "language": "python",
     "metadata": {},
     "outputs": [
      {
       "output_type": "stream",
       "stream": "stdout",
       "text": [
        "1 1024 0.00467295253527 0.0078125\n",
        "2 512 -0.320031987828 -0.33203125\n",
        "2 512 0.329377892899 0.34765625\n",
        "3 256 -0.500818751001 -0.4921875\n",
        "3 256 -0.139245224656 -0.171875\n",
        "3 256 0.142068502599 0.109375\n",
        "3 256 0.516687283198 0.5859375\n"
       ]
      }
     ],
     "prompt_number": 497
    },
    {
     "cell_type": "code",
     "collapsed": false,
     "input": [
      "def comptwo(node1,node2):\n",
      "    return scipy.stats.ttest_ind(node1.data,node2.data,equal_var=True)[1]"
     ],
     "language": "python",
     "metadata": {},
     "outputs": [],
     "prompt_number": 498
    },
    {
     "cell_type": "code",
     "collapsed": false,
     "input": [
      "for node in t.traverse():\n",
      "    if node.size == 1:\n",
      "        continue\n",
      "    node.pvalue = comptwo(node.children[0],node.children[1])\n",
      "    if np.isnan(node.pvalue):\n",
      "        node.pvalue = 1.0"
     ],
     "language": "python",
     "metadata": {},
     "outputs": [],
     "prompt_number": 499
    },
    {
     "cell_type": "code",
     "collapsed": false,
     "input": [
      "for node in t.traverse():\n",
      "    if node.level < 6:\n",
      "        print node.level, node.pvalue"
     ],
     "language": "python",
     "metadata": {},
     "outputs": [
      {
       "output_type": "stream",
       "stream": "stdout",
       "text": [
        "1 4.21710609788e-29\n",
        "2 0.000113130487254\n",
        "2 5.46507348149e-09\n",
        "3 0.0313005057361\n",
        "3 0.613420960267\n",
        "3 0.132317586652\n",
        "3 0.00112493161952\n",
        "4 0.045197198225\n",
        "4 1.0\n",
        "4 0.370639899282\n",
        "4 0.375952408999\n",
        "4 0.380670875532\n",
        "4 0.0474927296237\n",
        "4 0.0320985545559\n",
        "4 0.00726385246009\n",
        "5 1.0\n",
        "5 0.781374375538\n",
        "5 0.596574850385\n",
        "5 0.288090531458\n",
        "5 0.442496951031\n",
        "5 1.0\n",
        "5 0.206247447207\n",
        "5 0.623010288677\n",
        "5 0.623010288677\n",
        "5 0.805513890159\n",
        "5 0.0823026692926\n",
        "5 0.288090531458\n",
        "5 0.309295039974\n",
        "5 0.0297725871936\n",
        "5 0.359226558812\n",
        "5 0.561566291041\n"
       ]
      }
     ],
     "prompt_number": 500
    },
    {
     "cell_type": "code",
     "collapsed": false,
     "input": [
      "def classify(rmat):\n",
      "    mat = np.zeros(np.shape(rmat))\n",
      "    mat[rmat<0] = -1.0\n",
      "    mat[rmat>=0] = 1.0\n",
      "    return mat"
     ],
     "language": "python",
     "metadata": {},
     "outputs": [],
     "prompt_number": 501
    },
    {
     "cell_type": "code",
     "collapsed": false,
     "input": [
      "c = tree_util.tree_transform(data,t)\n",
      "p_values = np.linspace(.2,0.05)\n",
      "#p_values = [0.05]\n",
      "for P_THRESHOLD in p_values:\n",
      "    coefs = c.copy()\n",
      "    for node in t.traverse():\n",
      "        if node.size == 1:\n",
      "            continue\n",
      "        if node.pvalue > P_THRESHOLD or np.isnan(node.pvalue):\n",
      "            coefs[node.children[0].idx] = 0.0\n",
      "            coefs[node.children[1].idx] = 0.0\n",
      "            \n",
      "    rmat = tree_util.inverse_tree_transform(coefs,t)\n",
      "    print P_THRESHOLD, np.sum(np.abs((classify(rmat) - data)))/(2.0*1024), np.sum(np.abs((means*2.0)-1-rmat)), np.sum(np.abs((means*2.0)-1-data))"
     ],
     "language": "python",
     "metadata": {},
     "outputs": [
      {
       "output_type": "stream",
       "stream": "stdout",
       "text": [
        "0.2 0.236328125 346.576567305 851.887809388\n",
        "0.19693877551"
       ]
      },
      {
       "output_type": "stream",
       "stream": "stdout",
       "text": [
        " 0.236328125 346.576567305 851.887809388\n",
        "0.19387755102"
       ]
      },
      {
       "output_type": "stream",
       "stream": "stdout",
       "text": [
        " 0.236328125 346.576567305 851.887809388\n",
        "0.190816326531"
       ]
      },
      {
       "output_type": "stream",
       "stream": "stdout",
       "text": [
        " 0.236328125 346.576567305 851.887809388\n",
        "0.187755102041"
       ]
      },
      {
       "output_type": "stream",
       "stream": "stdout",
       "text": [
        " 0.236328125 346.576567305 851.887809388\n",
        "0.184693877551"
       ]
      },
      {
       "output_type": "stream",
       "stream": "stdout",
       "text": [
        " 0.236328125 346.576567305 851.887809388\n",
        "0.181632653061"
       ]
      },
      {
       "output_type": "stream",
       "stream": "stdout",
       "text": [
        " 0.236328125 346.576567305 851.887809388\n",
        "0.178571428571"
       ]
      },
      {
       "output_type": "stream",
       "stream": "stdout",
       "text": [
        " 0.236328125 346.576567305 851.887809388\n",
        "0.175510204082"
       ]
      },
      {
       "output_type": "stream",
       "stream": "stdout",
       "text": [
        " 0.236328125 346.576567305 851.887809388\n",
        "0.172448979592"
       ]
      },
      {
       "output_type": "stream",
       "stream": "stdout",
       "text": [
        " 0.236328125 346.576567305 851.887809388\n",
        "0.169387755102"
       ]
      },
      {
       "output_type": "stream",
       "stream": "stdout",
       "text": [
        " 0.236328125 346.576567305 851.887809388\n",
        "0.166326530612"
       ]
      },
      {
       "output_type": "stream",
       "stream": "stdout",
       "text": [
        " 0.236328125 346.576567305 851.887809388\n",
        "0.163265306122"
       ]
      },
      {
       "output_type": "stream",
       "stream": "stdout",
       "text": [
        " 0.23828125 342.681718243 851.887809388\n",
        "0.160204081633"
       ]
      },
      {
       "output_type": "stream",
       "stream": "stdout",
       "text": [
        " 0.23828125 342.681718243 851.887809388\n",
        "0.157142857143"
       ]
      },
      {
       "output_type": "stream",
       "stream": "stdout",
       "text": [
        " 0.23828125 342.681718243 851.887809388\n",
        "0.154081632653"
       ]
      },
      {
       "output_type": "stream",
       "stream": "stdout",
       "text": [
        " 0.23828125 342.681718243 851.887809388\n",
        "0.151020408163"
       ]
      },
      {
       "output_type": "stream",
       "stream": "stdout",
       "text": [
        " 0.23828125 339.082222969 851.887809388\n",
        "0.147959183673"
       ]
      },
      {
       "output_type": "stream",
       "stream": "stdout",
       "text": [
        " 0.23828125 334.700410774 851.887809388\n",
        "0.144897959184"
       ]
      },
      {
       "output_type": "stream",
       "stream": "stdout",
       "text": [
        " 0.23828125 334.700410774 851.887809388\n",
        "0.141836734694"
       ]
      },
      {
       "output_type": "stream",
       "stream": "stdout",
       "text": [
        " 0.23828125 334.700410774 851.887809388\n",
        "0.138775510204"
       ]
      },
      {
       "output_type": "stream",
       "stream": "stdout",
       "text": [
        " 0.23828125 334.700410774 851.887809388\n",
        "0.135714285714"
       ]
      },
      {
       "output_type": "stream",
       "stream": "stdout",
       "text": [
        " 0.23828125 334.700410774 851.887809388\n",
        "0.132653061224"
       ]
      },
      {
       "output_type": "stream",
       "stream": "stdout",
       "text": [
        " 0.2421875 289.298937362 851.887809388\n",
        "0.129591836735"
       ]
      },
      {
       "output_type": "stream",
       "stream": "stdout",
       "text": [
        " 0.2421875 283.355660242 851.887809388\n",
        "0.126530612245"
       ]
      },
      {
       "output_type": "stream",
       "stream": "stdout",
       "text": [
        " 0.2421875 283.355660242 851.887809388\n",
        "0.123469387755"
       ]
      },
      {
       "output_type": "stream",
       "stream": "stdout",
       "text": [
        " 0.2421875 283.355660242 851.887809388\n",
        "0.120408163265"
       ]
      },
      {
       "output_type": "stream",
       "stream": "stdout",
       "text": [
        " 0.2421875 283.355660242 851.887809388\n",
        "0.117346938776"
       ]
      },
      {
       "output_type": "stream",
       "stream": "stdout",
       "text": [
        " 0.2421875 283.355660242 851.887809388\n",
        "0.114285714286"
       ]
      },
      {
       "output_type": "stream",
       "stream": "stdout",
       "text": [
        " 0.2421875 283.355660242 851.887809388\n",
        "0.111224489796"
       ]
      },
      {
       "output_type": "stream",
       "stream": "stdout",
       "text": [
        " 0.2421875 283.355660242 851.887809388\n",
        "0.108163265306"
       ]
      },
      {
       "output_type": "stream",
       "stream": "stdout",
       "text": [
        " 0.2421875 277.854099598 851.887809388\n",
        "0.105102040816"
       ]
      },
      {
       "output_type": "stream",
       "stream": "stdout",
       "text": [
        " 0.2421875 277.854099598 851.887809388\n",
        "0.102040816327"
       ]
      },
      {
       "output_type": "stream",
       "stream": "stdout",
       "text": [
        " 0.2421875 277.854099598 851.887809388\n",
        "0.0989795918367"
       ]
      },
      {
       "output_type": "stream",
       "stream": "stdout",
       "text": [
        " 0.2421875 277.854099598 851.887809388\n",
        "0.0959183673469"
       ]
      },
      {
       "output_type": "stream",
       "stream": "stdout",
       "text": [
        " 0.2421875 277.854099598 851.887809388\n",
        "0.0928571428571"
       ]
      },
      {
       "output_type": "stream",
       "stream": "stdout",
       "text": [
        " 0.2421875 277.854099598 851.887809388\n",
        "0.0897959183673"
       ]
      },
      {
       "output_type": "stream",
       "stream": "stdout",
       "text": [
        " 0.2421875 277.854099598 851.887809388\n",
        "0.0867346938776"
       ]
      },
      {
       "output_type": "stream",
       "stream": "stdout",
       "text": [
        " 0.2421875 277.854099598 851.887809388\n",
        "0.0836734693878"
       ]
      },
      {
       "output_type": "stream",
       "stream": "stdout",
       "text": [
        " 0.2421875 277.854099598 851.887809388\n",
        "0.080612244898"
       ]
      },
      {
       "output_type": "stream",
       "stream": "stdout",
       "text": [
        " 0.25 271.436337317 851.887809388\n",
        "0.0775510204082"
       ]
      },
      {
       "output_type": "stream",
       "stream": "stdout",
       "text": [
        " 0.25 271.436337317 851.887809388\n",
        "0.0744897959184"
       ]
      },
      {
       "output_type": "stream",
       "stream": "stdout",
       "text": [
        " 0.25 271.436337317 851.887809388\n",
        "0.0714285714286"
       ]
      },
      {
       "output_type": "stream",
       "stream": "stdout",
       "text": [
        " 0.25 271.436337317 851.887809388\n",
        "0.0683673469388"
       ]
      },
      {
       "output_type": "stream",
       "stream": "stdout",
       "text": [
        " 0.25 271.436337317 851.887809388\n",
        "0.065306122449"
       ]
      },
      {
       "output_type": "stream",
       "stream": "stdout",
       "text": [
        " 0.25 271.436337317 851.887809388\n",
        "0.0622448979592"
       ]
      },
      {
       "output_type": "stream",
       "stream": "stdout",
       "text": [
        " 0.25 271.436337317 851.887809388\n",
        "0.0591836734694"
       ]
      },
      {
       "output_type": "stream",
       "stream": "stdout",
       "text": [
        " 0.25 271.436337317 851.887809388\n",
        "0.0561224489796"
       ]
      },
      {
       "output_type": "stream",
       "stream": "stdout",
       "text": [
        " 0.25 271.436337317 851.887809388\n",
        "0.0530612244898"
       ]
      },
      {
       "output_type": "stream",
       "stream": "stdout",
       "text": [
        " 0.25 271.436337317 851.887809388\n",
        "0.05"
       ]
      },
      {
       "output_type": "stream",
       "stream": "stdout",
       "text": [
        " 0.25 271.436337317 851.887809388\n"
       ]
      }
     ],
     "prompt_number": 502
    },
    {
     "cell_type": "code",
     "collapsed": false,
     "input": [
      "fig = plt.figure()\n",
      "fig.add_subplot(311)\n",
      "plt.imshow(barcode.level_avgs(data,t),aspect='auto',interpolation='nearest',cmap=cmap,norm=cnorm)\n",
      "plt.title(\"Folder Means\")\n",
      "fig.add_subplot(312)\n",
      "plt.imshow(barcode.coef_levels(c,t),aspect='auto',interpolation='nearest',cmap=cmap,norm=cnorm)\n",
      "plt.title(\"Unthresholded Coefficients\")\n",
      "fig.add_subplot(313)\n",
      "plt.imshow(barcode.coef_levels(coefs,t),aspect='auto',interpolation='nearest',cmap=cmap,norm=cnorm)\n",
      "plt.title(\"Thresholded Coefficients: {}\".format(P_THRESHOLD))\n",
      "plt.show()"
     ],
     "language": "python",
     "metadata": {},
     "outputs": [],
     "prompt_number": 436
    },
    {
     "cell_type": "code",
     "collapsed": false,
     "input": [
      "np.sum(np.abs(classify(rmat) - data))"
     ],
     "language": "python",
     "metadata": {},
     "outputs": [
      {
       "output_type": "pyout",
       "prompt_number": 255,
       "text": [
        "580.0"
       ]
      }
     ],
     "prompt_number": 255
    },
    {
     "cell_type": "code",
     "collapsed": false,
     "input": [
      "coefs"
     ],
     "language": "python",
     "metadata": {},
     "outputs": [
      {
       "output_type": "pyout",
       "prompt_number": 213,
       "text": [
        "array([-0.04296875, -0.2421875 ,  0.2421875 , ...,  0.        ,\n",
        "        0.        ,  0.        ])"
       ]
      }
     ],
     "prompt_number": 213
    },
    {
     "cell_type": "code",
     "collapsed": false,
     "input": [
      "reload(barcode)\n",
      "barcode.coef_levels(coefs,t)"
     ],
     "language": "python",
     "metadata": {},
     "outputs": [
      {
       "output_type": "pyout",
       "prompt_number": 215,
       "text": [
        "array([[-0.04296875, -0.04296875, -0.04296875, ..., -0.04296875,\n",
        "        -0.04296875, -0.04296875],\n",
        "       [-0.2421875 , -0.2421875 , -0.2421875 , ...,  0.2421875 ,\n",
        "         0.2421875 ,  0.2421875 ],\n",
        "       [-0.12890625, -0.12890625, -0.12890625, ...,  0.17578125,\n",
        "         0.17578125,  0.17578125],\n",
        "       ..., \n",
        "       [ 0.        ,  0.        ,  0.        , ...,  0.        ,\n",
        "         0.        ,  0.        ],\n",
        "       [ 0.        ,  0.        ,  0.        , ...,  0.        ,\n",
        "         0.        ,  0.        ],\n",
        "       [ 1.        , -1.        , -1.        , ...,  0.        ,\n",
        "         0.        ,  0.        ]])"
       ]
      }
     ],
     "prompt_number": 215
    },
    {
     "cell_type": "code",
     "collapsed": false,
     "input": [
      "n = t.dfs_level(10)[0]"
     ],
     "language": "python",
     "metadata": {},
     "outputs": [],
     "prompt_number": 224
    },
    {
     "cell_type": "code",
     "collapsed": false,
     "input": [
      "bc = barcode.coef_levels(coefs,t)"
     ],
     "language": "python",
     "metadata": {},
     "outputs": [],
     "prompt_number": 283
    },
    {
     "cell_type": "code",
     "collapsed": false,
     "input": [
      "np.sum(bc,axis=0)"
     ],
     "language": "python",
     "metadata": {},
     "outputs": [
      {
       "output_type": "pyout",
       "prompt_number": 241,
       "text": [
        "array([-0.5625, -0.5625, -0.5625, ...,  0.75  ,  0.75  ,  0.75  ])"
       ]
      }
     ],
     "prompt_number": 241
    },
    {
     "cell_type": "code",
     "collapsed": false,
     "input": [
      "reload(tree_util)"
     ],
     "language": "python",
     "metadata": {},
     "outputs": [
      {
       "output_type": "pyout",
       "prompt_number": 242,
       "text": [
        "<module 'tree_util' from 'tree_util.py'>"
       ]
      }
     ],
     "prompt_number": 242
    },
    {
     "cell_type": "code",
     "collapsed": false,
     "input": [
      "mat = np.zeros(t.size)"
     ],
     "language": "python",
     "metadata": {},
     "outputs": [],
     "prompt_number": 246
    },
    {
     "cell_type": "code",
     "collapsed": false,
     "input": [
      "for node in t.traverse():\n",
      "    mat[node.elements] += coefs[node.idx]"
     ],
     "language": "python",
     "metadata": {},
     "outputs": [],
     "prompt_number": 247
    },
    {
     "cell_type": "code",
     "collapsed": false,
     "input": [
      "mat"
     ],
     "language": "python",
     "metadata": {},
     "outputs": [
      {
       "output_type": "pyout",
       "prompt_number": 248,
       "text": [
        "array([-0.5625, -0.5625, -0.5625, ...,  0.75  ,  0.75  ,  0.75  ])"
       ]
      }
     ],
     "prompt_number": 248
    },
    {
     "cell_type": "code",
     "collapsed": false,
     "input": [
      "bc[8,640:656]"
     ],
     "language": "python",
     "metadata": {},
     "outputs": [
      {
       "output_type": "pyout",
       "prompt_number": 292,
       "text": [
        "array([-1.  , -1.  , -1.  , -1.  ,  1.  ,  1.  ,  1.  ,  1.  , -0.75,\n",
        "       -0.75, -0.75, -0.75,  0.75,  0.75,  0.75,  0.75])"
       ]
      }
     ],
     "prompt_number": 292
    },
    {
     "cell_type": "code",
     "collapsed": false,
     "input": [
      "[(x.idx,x.pvalue,x.level) for x in [z for z in t.traverse() if z.size > 1] if 640 in x.elements]"
     ],
     "language": "python",
     "metadata": {},
     "outputs": [
      {
       "output_type": "pyout",
       "prompt_number": 295,
       "text": [
        "[(0, 1.840294162661944e-30, 1),\n",
        " (2, 2.8055823070523487e-07, 2),\n",
        " (5, 0.53017150739960872, 3),\n",
        " (12, 0.85896021547011103, 4),\n",
        " (25, 0.80399333445328325, 5),\n",
        " (51, 0.16414960621223607, 6),\n",
        " (103, 0.64197924190307443, 7),\n",
        " (207, 0.0, 8),\n",
        " (415, 1.0, 9),\n",
        " (831, 1.0, 10)]"
       ]
      }
     ],
     "prompt_number": 295
    },
    {
     "cell_type": "code",
     "collapsed": false,
     "input": [
      "children = [y for y in t.traverse() if y.idx == 207][0].children"
     ],
     "language": "python",
     "metadata": {},
     "outputs": [],
     "prompt_number": 300
    },
    {
     "cell_type": "code",
     "collapsed": false,
     "input": [
      "for child in children:\n",
      "    print child.data"
     ],
     "language": "python",
     "metadata": {},
     "outputs": [
      {
       "output_type": "stream",
       "stream": "stdout",
       "text": [
        "[-1. -1. -1. -1.]\n",
        "[ 1.  1.  1.  1.]\n"
       ]
      }
     ],
     "prompt_number": 301
    },
    {
     "cell_type": "code",
     "collapsed": false,
     "input": [
      "print child.pvalue"
     ],
     "language": "python",
     "metadata": {},
     "outputs": [
      {
       "output_type": "stream",
       "stream": "stdout",
       "text": [
        "1.0\n"
       ]
      }
     ],
     "prompt_number": 302
    },
    {
     "cell_type": "markdown",
     "metadata": {},
     "source": [
      "Let's try something else here now: Donoho/Johnstone thresholding with SURE."
     ]
    },
    {
     "cell_type": "code",
     "collapsed": false,
     "input": [
      "#c is the set of coefficients from the tree transform.\n",
      "#t is the tree.\n",
      "print np.sum(c<0), np.sum(c>0), np.sum(c==0)"
     ],
     "language": "python",
     "metadata": {},
     "outputs": [
      {
       "output_type": "stream",
       "stream": "stdout",
       "text": [
        "517 516 1014\n"
       ]
      }
     ],
     "prompt_number": 312
    },
    {
     "cell_type": "code",
     "collapsed": false,
     "input": [
      "t.tree_size"
     ],
     "language": "python",
     "metadata": {},
     "outputs": [
      {
       "output_type": "pyout",
       "prompt_number": 310,
       "text": [
        "2047"
       ]
      }
     ],
     "prompt_number": 310
    },
    {
     "cell_type": "code",
     "collapsed": false,
     "input": [
      "len(t.traverse(floor_level=t.tree_depth-1))"
     ],
     "language": "python",
     "metadata": {},
     "outputs": [
      {
       "output_type": "pyout",
       "prompt_number": 316,
       "text": [
        "1023"
       ]
      }
     ],
     "prompt_number": 316
    },
    {
     "cell_type": "code",
     "collapsed": false,
     "input": [
      "def tree_to_haar(coefs,tree):\n",
      "    haar_coefs = np.zeros(tree.size)\n",
      "    haar_coefs[0] = coefs[0] * np.sqrt(tree.size)\n",
      "    tree_nodes = tree.traverse()\n",
      "    for i in xrange(1,len(haar_coefs)):\n",
      "        haar_coefs[i] = coefs[i*2-1] * np.sqrt(2*tree_nodes[i*2-1].size)\n",
      "    return haar_coefs"
     ],
     "language": "python",
     "metadata": {},
     "outputs": [],
     "prompt_number": 343
    },
    {
     "cell_type": "code",
     "collapsed": false,
     "input": [
      "def haar_to_tree(haar_coefs,tree):\n",
      "    coefs = np.zeros(tree.tree_size)\n",
      "    coefs[0] = haar_coefs[0] / np.sqrt(tree.size)\n",
      "    tree_nodes = tree.traverse()\n",
      "    for i in xrange(1,len(haar_coefs)):\n",
      "        coefs[i*2-1] = haar_coefs[i] / np.sqrt(2*tree_nodes[i*2-1].size)\n",
      "        coefs[i*2] = -coefs[i*2-1]\n",
      "    return coefs"
     ],
     "language": "python",
     "metadata": {},
     "outputs": [],
     "prompt_number": 355
    },
    {
     "cell_type": "code",
     "collapsed": false,
     "input": [
      "q = tree.dyadic_tree(2)\n",
      "f = np.array([1,-1,1,1])"
     ],
     "language": "python",
     "metadata": {},
     "outputs": [],
     "prompt_number": 359
    },
    {
     "cell_type": "code",
     "collapsed": false,
     "input": [
      "m = tree_util.tree_transform(f,q)"
     ],
     "language": "python",
     "metadata": {},
     "outputs": [],
     "prompt_number": 360
    },
    {
     "cell_type": "code",
     "collapsed": false,
     "input": [
      "m"
     ],
     "language": "python",
     "metadata": {},
     "outputs": [
      {
       "output_type": "pyout",
       "prompt_number": 361,
       "text": [
        "array([ 0.5, -0.5,  0.5,  1. , -1. ,  0. ,  0. ])"
       ]
      }
     ],
     "prompt_number": 361
    },
    {
     "cell_type": "code",
     "collapsed": false,
     "input": [
      "h = tree_to_haar(m,q)"
     ],
     "language": "python",
     "metadata": {},
     "outputs": [],
     "prompt_number": 362
    },
    {
     "cell_type": "code",
     "collapsed": false,
     "input": [
      "h"
     ],
     "language": "python",
     "metadata": {},
     "outputs": [
      {
       "output_type": "pyout",
       "prompt_number": 363,
       "text": [
        "array([ 1.        , -1.        ,  1.41421356,  0.        ])"
       ]
      }
     ],
     "prompt_number": 363
    },
    {
     "cell_type": "code",
     "collapsed": false,
     "input": [
      "import haar"
     ],
     "language": "python",
     "metadata": {},
     "outputs": [],
     "prompt_number": 364
    },
    {
     "cell_type": "code",
     "collapsed": false,
     "input": [
      "hb = haar.compute_haar(q)"
     ],
     "language": "python",
     "metadata": {},
     "outputs": [],
     "prompt_number": 365
    },
    {
     "cell_type": "code",
     "collapsed": false,
     "input": [
      "hb"
     ],
     "language": "python",
     "metadata": {},
     "outputs": [
      {
       "output_type": "pyout",
       "prompt_number": 366,
       "text": [
        "array([[ 0.5       ,  0.5       ,  0.70710678,  0.        ],\n",
        "       [ 0.5       ,  0.5       , -0.70710678,  0.        ],\n",
        "       [ 0.5       , -0.5       ,  0.        ,  0.70710678],\n",
        "       [ 0.5       , -0.5       ,  0.        , -0.70710678]])"
       ]
      }
     ],
     "prompt_number": 366
    },
    {
     "cell_type": "code",
     "collapsed": false,
     "input": [
      "hb.dot(h)"
     ],
     "language": "python",
     "metadata": {},
     "outputs": [
      {
       "output_type": "pyout",
       "prompt_number": 367,
       "text": [
        "array([ 1., -1.,  1.,  1.])"
       ]
      }
     ],
     "prompt_number": 367
    },
    {
     "cell_type": "code",
     "collapsed": false,
     "input": [
      "mm = haar_to_tree(h,q)"
     ],
     "language": "python",
     "metadata": {},
     "outputs": [],
     "prompt_number": 368
    },
    {
     "cell_type": "code",
     "collapsed": false,
     "input": [
      "mm"
     ],
     "language": "python",
     "metadata": {},
     "outputs": [
      {
       "output_type": "pyout",
       "prompt_number": 369,
       "text": [
        "array([ 0.5, -0.5,  0.5,  1. , -1. ,  0. , -0. ])"
       ]
      }
     ],
     "prompt_number": 369
    },
    {
     "cell_type": "code",
     "collapsed": false,
     "input": [
      "m"
     ],
     "language": "python",
     "metadata": {},
     "outputs": [
      {
       "output_type": "pyout",
       "prompt_number": 370,
       "text": [
        "array([ 0.5, -0.5,  0.5,  1. , -1. ,  0. ,  0. ])"
       ]
      }
     ],
     "prompt_number": 370
    },
    {
     "cell_type": "code",
     "collapsed": false,
     "input": [
      "q7 = tree.dyadic_tree(7)"
     ],
     "language": "python",
     "metadata": {},
     "outputs": [],
     "prompt_number": 371
    },
    {
     "cell_type": "code",
     "collapsed": false,
     "input": [
      "f7 = np.random.rand(128)"
     ],
     "language": "python",
     "metadata": {},
     "outputs": [],
     "prompt_number": 373
    },
    {
     "cell_type": "code",
     "collapsed": false,
     "input": [
      "m7 = tree_util.tree_transform(f7,q7)"
     ],
     "language": "python",
     "metadata": {},
     "outputs": [],
     "prompt_number": 374
    },
    {
     "cell_type": "code",
     "collapsed": false,
     "input": [
      "h7 = tree_to_haar(m7,q7)"
     ],
     "language": "python",
     "metadata": {},
     "outputs": [],
     "prompt_number": 375
    },
    {
     "cell_type": "code",
     "collapsed": false,
     "input": [
      "h7"
     ],
     "language": "python",
     "metadata": {},
     "outputs": [
      {
       "output_type": "pyout",
       "prompt_number": 376,
       "text": [
        "array([ 5.5321255 ,  0.20020146, -0.27887107, -0.21403362, -0.2390146 ,\n",
        "       -0.03500895, -0.16770109, -0.18215625,  0.25058554, -0.52442313,\n",
        "        0.3987385 ,  0.05753764, -0.27357213,  0.03093689,  0.39284791,\n",
        "       -0.2707917 ,  0.56893571, -0.03408594,  0.06789774, -0.0810327 ,\n",
        "        0.1647968 , -0.30457252,  0.13885709, -0.33923787,  0.03513521,\n",
        "       -0.35742668, -0.03910967, -0.18071142, -0.04539643, -0.27227316,\n",
        "       -0.16116834,  0.68374584,  0.04654154,  0.03667126,  0.23857784,\n",
        "        0.11820129, -0.41874144, -0.11218473, -0.45778334, -0.26472957,\n",
        "        0.56241041, -0.25848455, -0.43510465,  0.17998598,  0.40355719,\n",
        "        0.29733308,  0.1280995 , -0.11391591, -0.33422071, -0.49807067,\n",
        "        0.39658309, -0.10491341,  0.25834226, -0.51670584, -0.23213097,\n",
        "        0.19587895,  0.42930838, -0.56458469, -0.09245714,  0.17625605,\n",
        "       -0.20993132,  0.07642533, -0.20222753, -0.22357794,  0.2095915 ,\n",
        "        0.3116845 , -0.1932442 ,  0.32198234, -0.18886771, -0.12979811,\n",
        "        0.25915846, -0.201333  , -0.15788195, -0.23163873, -0.39326023,\n",
        "        0.34814859,  0.08317575, -0.07265739, -0.09398683, -0.08140463,\n",
        "        0.02273389,  0.55704781, -0.1610645 , -0.24545605, -0.05185553,\n",
        "        0.32193626,  0.49877068, -0.50163131,  0.22726277,  0.18443206,\n",
        "        0.28774454, -0.49463105,  0.36041239, -0.08664475,  0.25988639,\n",
        "       -0.29907363, -0.24837374, -0.60754658, -0.11622999,  0.08854575,\n",
        "        0.30769604,  0.03322258,  0.02922366, -0.39183112,  0.15708144,\n",
        "       -0.2665484 ,  0.04322229, -0.11810428, -0.06112412,  0.34561371,\n",
        "       -0.5113933 , -0.11776888, -0.03989872, -0.04042934, -0.19311801,\n",
        "        0.09069988,  0.01837315,  0.02698611, -0.59931073,  0.32399792,\n",
        "       -0.31642784,  0.06817239,  0.2788369 , -0.41219318, -0.15723912,\n",
        "       -0.03815821, -0.12112971,  0.09219181])"
       ]
      }
     ],
     "prompt_number": 376
    },
    {
     "cell_type": "code",
     "collapsed": false,
     "input": [
      "mm7 = haar_to_tree(h7,q7)"
     ],
     "language": "python",
     "metadata": {},
     "outputs": [],
     "prompt_number": 377
    },
    {
     "cell_type": "code",
     "collapsed": false,
     "input": [
      "np.allclose(tree_util.inverse_tree_transform(mm7,q7),f7)"
     ],
     "language": "python",
     "metadata": {},
     "outputs": [
      {
       "output_type": "pyout",
       "prompt_number": 379,
       "text": [
        "True"
       ]
      }
     ],
     "prompt_number": 379
    },
    {
     "cell_type": "markdown",
     "metadata": {},
     "source": [
      "All that was just testing. Now let's do this thresholding:"
     ]
    },
    {
     "cell_type": "code",
     "collapsed": false,
     "input": [
      "haar_coefs = tree_to_haar(c,t)"
     ],
     "language": "python",
     "metadata": {},
     "outputs": [],
     "prompt_number": 503
    },
    {
     "cell_type": "code",
     "collapsed": false,
     "input": [
      "def estimator(haar_coefs,t):\n",
      "    return np.sign(haar_coefs) * np.maximum(np.abs(haar_coefs)-t,0)"
     ],
     "language": "python",
     "metadata": {},
     "outputs": [],
     "prompt_number": 504
    },
    {
     "cell_type": "code",
     "collapsed": false,
     "input": [
      "c"
     ],
     "language": "python",
     "metadata": {},
     "outputs": [
      {
       "output_type": "pyout",
       "prompt_number": 506,
       "text": [
        "array([ 0.0078125 , -0.33984375,  0.33984375, ...,  0.        ,\n",
        "        0.        ,  0.        ])"
       ]
      }
     ],
     "prompt_number": 506
    },
    {
     "cell_type": "code",
     "collapsed": false,
     "input": [
      "len(haar_coefs)"
     ],
     "language": "python",
     "metadata": {},
     "outputs": [
      {
       "output_type": "pyout",
       "prompt_number": 507,
       "text": [
        "1024"
       ]
      }
     ],
     "prompt_number": 507
    },
    {
     "cell_type": "code",
     "collapsed": false,
     "input": [
      "hb = haar.compute_haar(t)"
     ],
     "language": "python",
     "metadata": {},
     "outputs": [
      {
       "output_type": "pyout",
       "prompt_number": 400,
       "text": [
        "0.0"
       ]
      }
     ],
     "prompt_number": 400
    },
    {
     "cell_type": "code",
     "collapsed": false,
     "input": [
      "s = estimator(haar_coefs,0.1)"
     ],
     "language": "python",
     "metadata": {},
     "outputs": [],
     "prompt_number": 417
    },
    {
     "cell_type": "code",
     "collapsed": false,
     "input": [
      "for t in np.logspace(-.5,.5):\n",
      "    s = estimator(haar_coefs,t)\n",
      "    s[np.abs(s) < 1e-15] = 0.0\n",
      "    print t, np.sum(np.abs(s)>0)"
     ],
     "language": "python",
     "metadata": {},
     "outputs": [
      {
       "output_type": "stream",
       "stream": "stdout",
       "text": [
        "0.316227766017 512\n",
        "0.331442474947 512\n",
        "0.347389211208 512\n",
        "0.364103194931 504\n",
        "0.381621340795 504\n",
        "0.399982339561 504\n",
        "0.419226743524 504\n",
        "0.439397056076 504\n",
        "0.460537825582 504\n",
        "0.482695743768 504\n",
        "0.505919748844 481\n",
        "0.530261133591 481\n",
        "0.555773658649 480\n",
        "0.582513671247 480\n",
        "0.610540229659 480\n",
        "0.639915233635 479\n",
        "0.670703561118 479\n",
        "0.702973211533 479\n",
        "0.736795455966 432\n",
        "0.772244994584 430\n",
        "0.809400121608 430\n",
        "0.848342898244 430\n",
        "0.889159333916 430\n",
        "0.931939576234 430\n",
        "0.976778110089 430\n",
        "1.02377396634 296\n",
        "1.07303094053 291\n",
        "1.12465782212 291\n",
        "1.17876863479 291\n",
        "1.23548288826 291\n",
        "1.29492584221 290\n",
        "1.35722878297 290\n",
        "1.42252931349 55\n",
        "1.49097165718 55\n",
        "1.56270697655 49\n",
        "1.63789370695 49\n",
        "1.71669790661 49\n",
        "1.79929362329 45\n",
        "1.88586327877 45\n",
        "1.9765980717 45\n",
        "2.0716983999 19\n",
        "2.17137430294 9\n",
        "2.27584592607 9\n",
        "2.38534400643 9\n",
        "2.50011038262 9\n",
        "2.62039852886 9\n",
        "2.74647411482 9\n",
        "2.87861559235 3\n",
        "3.01711481053 3\n",
        "3.16227766017 3\n"
       ]
      }
     ],
     "prompt_number": 418
    },
    {
     "cell_type": "code",
     "collapsed": false,
     "input": [
      "np.sum(s != 0)"
     ],
     "language": "python",
     "metadata": {},
     "outputs": [
      {
       "output_type": "pyout",
       "prompt_number": 404,
       "text": [
        "517"
       ]
      }
     ],
     "prompt_number": 404
    },
    {
     "cell_type": "code",
     "collapsed": false,
     "input": [
      "s"
     ],
     "language": "python",
     "metadata": {},
     "outputs": [
      {
       "output_type": "pyout",
       "prompt_number": 405,
       "text": [
        "array([ -0.025     , -11.025     ,  -3.25875721, ...,   0.        ,\n",
        "         0.        ,   0.        ])"
       ]
      }
     ],
     "prompt_number": 405
    },
    {
     "cell_type": "code",
     "collapsed": false,
     "input": [
      "len(s)"
     ],
     "language": "python",
     "metadata": {},
     "outputs": [
      {
       "output_type": "pyout",
       "prompt_number": 406,
       "text": [
        "1024"
       ]
      }
     ],
     "prompt_number": 406
    },
    {
     "cell_type": "code",
     "collapsed": false,
     "input": [
      "def sure(haar_coefs,t,estimated_var=1.0):\n",
      "    term1 = len(haar_coefs)\n",
      "    term2 = 2*(np.sum(np.abs(haar_coefs) <= t))\n",
      "    term3 = np.sum(np.minimum(np.abs(haar_coefs),t)**2)\n",
      "    return estimated_var*(term1 - term2) + term3,(term1,term2,term3)"
     ],
     "language": "python",
     "metadata": {},
     "outputs": [],
     "prompt_number": 565
    },
    {
     "cell_type": "code",
     "collapsed": false,
     "input": [
      "estimated_variance = 1.0 #see below\n",
      "true_means = (means*2) - 1.0\n",
      "true_coeffs = tree_to_haar(tree_util.tree_transform(true_means,t),t)"
     ],
     "language": "python",
     "metadata": {},
     "outputs": [],
     "prompt_number": 566
    },
    {
     "cell_type": "code",
     "collapsed": false,
     "input": [
      "x = np.arange(0.0,3.0,0.02)\n",
      "y = []\n",
      "for i in x:\n",
      "    y.append(sure(haar_coefs[0:126],i)[0])\n",
      "y = np.array(y)\n",
      "plt.plot(x,y)\n",
      "plt.show()"
     ],
     "language": "python",
     "metadata": {},
     "outputs": [],
     "prompt_number": 577
    },
    {
     "cell_type": "code",
     "collapsed": false,
     "input": [
      "max([z.idx for z in t.dfs_level(7)])"
     ],
     "language": "python",
     "metadata": {},
     "outputs": [
      {
       "output_type": "pyout",
       "prompt_number": 574,
       "text": [
        "126"
       ]
      }
     ],
     "prompt_number": 574
    },
    {
     "cell_type": "code",
     "collapsed": false,
     "input": [
      "np.sum(np.abs(haar_coefs) <= 1e-14)"
     ],
     "language": "python",
     "metadata": {},
     "outputs": [
      {
       "output_type": "pyout",
       "prompt_number": 486,
       "text": [
        "471"
       ]
      }
     ],
     "prompt_number": 486
    },
    {
     "cell_type": "code",
     "collapsed": false,
     "input": [
      "haar_coefs "
     ],
     "language": "python",
     "metadata": {},
     "outputs": [
      {
       "output_type": "pyout",
       "prompt_number": 487,
       "text": [
        "array([ -0.8125    , -10.1875    ,  -5.48007755, ...,   0.        ,\n",
        "         0.        ,   0.        ])"
       ]
      }
     ],
     "prompt_number": 487
    },
    {
     "cell_type": "code",
     "collapsed": false,
     "input": [
      "np.var(haar_coefs[512:])"
     ],
     "language": "python",
     "metadata": {},
     "outputs": [
      {
       "output_type": "pyout",
       "prompt_number": 489,
       "text": [
        "0.79259490966796875"
       ]
      }
     ],
     "prompt_number": 489
    },
    {
     "cell_type": "code",
     "collapsed": false,
     "input": [
      "true_means"
     ],
     "language": "python",
     "metadata": {},
     "outputs": [
      {
       "output_type": "pyout",
       "prompt_number": 520,
       "text": [
        "array([-1., -1., -1., ...,  1.,  1.,  1.])"
       ]
      }
     ],
     "prompt_number": 520
    },
    {
     "cell_type": "code",
     "collapsed": false,
     "input": [
      "means"
     ],
     "language": "python",
     "metadata": {},
     "outputs": [
      {
       "output_type": "pyout",
       "prompt_number": 521,
       "text": [
        "array([ 0.,  0.,  0., ...,  1.,  1.,  1.])"
       ]
      }
     ],
     "prompt_number": 521
    },
    {
     "cell_type": "code",
     "collapsed": false,
     "input": [
      "def normalize_l2_coefs(coefs,row_tree):\n",
      "    coefs2 = coefs.copy()\n",
      "    for node in row_tree.traverse():\n",
      "        coefs2[node.idx] *= np.sqrt(node.size)\n",
      "    return coefs2    "
     ],
     "language": "python",
     "metadata": {},
     "outputs": [],
     "prompt_number": 529
    },
    {
     "cell_type": "code",
     "collapsed": false,
     "input": [
      "normed_c = normalize_l2_coefs(c,t)\n",
      "normed_c/=np.max(normed_c)"
     ],
     "language": "python",
     "metadata": {},
     "outputs": [],
     "prompt_number": 536
    },
    {
     "cell_type": "code",
     "collapsed": false,
     "input": [
      "haar_coefs = tree_to_haar(c,t)\n",
      "threshold = np.sqrt(2*np.log(1024)*estimated_variance)\n",
      "new_hc = estimator(haar_coefs,threshold)\n",
      "new_coefs = haar_to_tree(new_hc,t)"
     ],
     "language": "python",
     "metadata": {},
     "outputs": [],
     "prompt_number": 550
    },
    {
     "cell_type": "code",
     "collapsed": false,
     "input": [
      "fig = plt.figure()\n",
      "fig.add_subplot(311)\n",
      "plt.imshow(barcode.level_avgs(data,t),aspect='auto',interpolation='nearest',cmap=cmap,norm=cnorm)\n",
      "plt.title(\"Folder Means\")\n",
      "fig.add_subplot(312)\n",
      "plt.imshow(barcode.coef_levels(normed_c,t),aspect='auto',interpolation='nearest',cmap=cmap,norm=cnorm)\n",
      "plt.title(\"Unthresholded Coefficients\")\n",
      "fig.add_subplot(313)\n",
      "plt.imshow(barcode.coef_levels(new_coefs,t),aspect='auto',interpolation='nearest',cmap=cmap,norm=cnorm)\n",
      "plt.title(\"Coefficients thresholded: {}\".format(threshold))\n",
      "\n",
      "plt.show()"
     ],
     "language": "python",
     "metadata": {},
     "outputs": [],
     "prompt_number": 579
    },
    {
     "cell_type": "code",
     "collapsed": false,
     "input": [
      "recon = tree_util.inverse_tree_transform(new_coefs,t)"
     ],
     "language": "python",
     "metadata": {},
     "outputs": [],
     "prompt_number": 580
    },
    {
     "cell_type": "code",
     "collapsed": false,
     "input": [
      "recon"
     ],
     "language": "python",
     "metadata": {},
     "outputs": [
      {
       "output_type": "pyout",
       "prompt_number": 581,
       "text": [
        "array([-0.36038391, -0.36038391, -0.36038391, ...,  0.48538391,\n",
        "        0.48538391,  0.48538391])"
       ]
      }
     ],
     "prompt_number": 581
    },
    {
     "cell_type": "code",
     "collapsed": false,
     "input": [
      "np.linalg.norm(recon - means)"
     ],
     "language": "python",
     "metadata": {},
     "outputs": [
      {
       "output_type": "pyout",
       "prompt_number": 582,
       "text": [
        "16.843721830245695"
       ]
      }
     ],
     "prompt_number": 582
    },
    {
     "cell_type": "code",
     "collapsed": false,
     "input": [
      "means"
     ],
     "language": "python",
     "metadata": {},
     "outputs": [
      {
       "output_type": "pyout",
       "prompt_number": 583,
       "text": [
        "array([ 0.,  0.,  0., ...,  1.,  1.,  1.])"
       ]
      }
     ],
     "prompt_number": 583
    },
    {
     "cell_type": "code",
     "collapsed": false,
     "input": [
      "np.sum(np.abs((classify(recon) - classify((means-1)*2))))"
     ],
     "language": "python",
     "metadata": {},
     "outputs": [
      {
       "output_type": "pyout",
       "prompt_number": 588,
       "text": [
        "978.0"
       ]
      }
     ],
     "prompt_number": 588
    },
    {
     "cell_type": "code",
     "collapsed": false,
     "input": [
      "classify((means-1)*2)"
     ],
     "language": "python",
     "metadata": {},
     "outputs": [
      {
       "output_type": "pyout",
       "prompt_number": 586,
       "text": [
        "array([-1., -1., -1., ...,  1.,  1.,  1.])"
       ]
      }
     ],
     "prompt_number": 586
    },
    {
     "cell_type": "code",
     "collapsed": false,
     "input": [
      "978/2.0"
     ],
     "language": "python",
     "metadata": {},
     "outputs": [
      {
       "output_type": "pyout",
       "prompt_number": 589,
       "text": [
        "489.0"
       ]
      }
     ],
     "prompt_number": 589
    },
    {
     "cell_type": "code",
     "collapsed": false,
     "input": [
      "np.sum(np.abs(data - classify((means-1)*2)))"
     ],
     "language": "python",
     "metadata": {},
     "outputs": [
      {
       "output_type": "pyout",
       "prompt_number": 590,
       "text": [
        "1010.0"
       ]
      }
     ],
     "prompt_number": 590
    },
    {
     "cell_type": "code",
     "collapsed": false,
     "input": [],
     "language": "python",
     "metadata": {},
     "outputs": []
    }
   ],
   "metadata": {}
  }
 ]
}