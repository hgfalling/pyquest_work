{
 "metadata": {
  "name": ""
 },
 "nbformat": 3,
 "nbformat_minor": 0,
 "worksheets": [
  {
   "cells": [
    {
     "cell_type": "code",
     "collapsed": false,
     "input": [
      "from imports import *"
     ],
     "language": "python",
     "metadata": {},
     "outputs": [],
     "prompt_number": 1
    },
    {
     "cell_type": "code",
     "collapsed": false,
     "input": [
      "import pyquest_M as pm"
     ],
     "language": "python",
     "metadata": {},
     "outputs": [],
     "prompt_number": 2
    },
    {
     "cell_type": "code",
     "collapsed": false,
     "input": [
      "ppm = pm.PyQuestDataModel()"
     ],
     "language": "python",
     "metadata": {},
     "outputs": [],
     "prompt_number": 3
    },
    {
     "cell_type": "code",
     "collapsed": false,
     "input": [
      "ppm.load(\"classq2.session\")"
     ],
     "language": "python",
     "metadata": {},
     "outputs": [],
     "prompt_number": 4
    },
    {
     "cell_type": "code",
     "collapsed": false,
     "input": [
      "qr = ppm.quest_runs[-1]\n",
      "col_tree = qr.col_trees[-1]\n",
      "row_tree = qr.row_trees[-1]"
     ],
     "language": "python",
     "metadata": {},
     "outputs": [],
     "prompt_number": 15
    },
    {
     "cell_type": "code",
     "collapsed": false,
     "input": [
      "c = col_tree.dfs_level(2)[0]"
     ],
     "language": "python",
     "metadata": {},
     "outputs": [],
     "prompt_number": 13
    },
    {
     "cell_type": "code",
     "collapsed": false,
     "input": [
      "bwplot(barcode.organize_folders(row_tree,col_tree,ppm.data[:,col_tree.elements]))\n",
      "plt.show()"
     ],
     "language": "python",
     "metadata": {},
     "outputs": [],
     "prompt_number": 19
    },
    {
     "cell_type": "code",
     "collapsed": false,
     "input": [
      "bwplot(ppm.data[:,col_tree.elements])\n",
      "plt.show()"
     ],
     "language": "python",
     "metadata": {},
     "outputs": [],
     "prompt_number": 18
    },
    {
     "cell_type": "code",
     "collapsed": false,
     "input": [
      "[(idx,x) for (idx,x) in enumerate( ppm.row_data.data)]"
     ],
     "language": "python",
     "metadata": {},
     "outputs": [
      {
       "metadata": {},
       "output_type": "pyout",
       "prompt_number": 9,
       "text": [
        "[(0, u'major_math'),\n",
        " (1, u'major_phys'),\n",
        " (2, u'major_bio'),\n",
        " (3, u'major_lit'),\n",
        " (4, u'major_econ'),\n",
        " (5, u'major_engineer'),\n",
        " (6, u'major_polisci'),\n",
        " (7, u'major_arts'),\n",
        " (8, u'major_hist'),\n",
        " (9, u'major_psych'),\n",
        " (10, u'major_socsci'),\n",
        " (11, u'major_undecided'),\n",
        " (12, u'extra_volunteer'),\n",
        " (13, u'extra_gov'),\n",
        " (14, u'extra_civic'),\n",
        " (15, u'extra_sports'),\n",
        " (16, u'extra_arts'),\n",
        " (17, u'extra_business'),\n",
        " (18, u'extra_clubs'),\n",
        " (19, u'extra_other'),\n",
        " (20, u'net_social'),\n",
        " (21, u'net_political'),\n",
        " (22, u'net_sports'),\n",
        " (23, u'net_info'),\n",
        " (24, u'net_psych'),\n",
        " (25, u'net_transport'),\n",
        " (26, u'net_comm'),\n",
        " (27, u'net_power'),\n",
        " (28, u'net_arts'),\n",
        " (29, u'net_cog'),\n",
        " (30, u'net_internet'),\n",
        " (31, u'net_climate'),\n",
        " (32, u'net_market'),\n",
        " (33, u'net_terror'),\n",
        " (34, u'net_surv'),\n",
        " (35, u'net_culture'),\n",
        " (36, u'num_math'),\n",
        " (37, u'num_phys'),\n",
        " (38, u'num_bio'),\n",
        " (39, u'num_lit'),\n",
        " (40, u'num_econ'),\n",
        " (41, u'num_engineer'),\n",
        " (42, u'num_polisci'),\n",
        " (43, u'num_arts'),\n",
        " (44, u'num_hist'),\n",
        " (45, u'num_psych'),\n",
        " (46, u'num_socsci'),\n",
        " (47, u'grad_year')]"
       ]
      }
     ],
     "prompt_number": 9
    },
    {
     "cell_type": "code",
     "collapsed": false,
     "input": [],
     "language": "python",
     "metadata": {},
     "outputs": []
    }
   ],
   "metadata": {}
  }
 ]
}