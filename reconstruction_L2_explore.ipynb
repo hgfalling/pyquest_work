{
 "metadata": {
  "name": "reconstruction_L2_explore"
 },
 "nbformat": 3,
 "nbformat_minor": 0,
 "worksheets": [
  {
   "cells": [
    {
     "cell_type": "code",
     "collapsed": false,
     "input": [
      "import numpy as np\n",
      "import cluster_diffusion as cdiff\n",
      "reload(cdiff)\n",
      "import l1_bregman as lb\n",
      "reload(lb)\n",
      "import sklearn.linear_model as sklm\n",
      "import recon\n",
      "reload(recon)\n",
      "import matplotlib.pyplot as plt"
     ],
     "language": "python",
     "metadata": {},
     "outputs": [],
     "prompt_number": 1
    },
    {
     "cell_type": "code",
     "collapsed": false,
     "input": [
      "tree = cdiff.dyadic_tree(2)\n",
      "tree.calc_delta_library()\n",
      "cl = tree.char_library()\n",
      "#notebook for reconstruction algorithm. This one is for L1-L2 minimization."
     ],
     "language": "python",
     "metadata": {},
     "outputs": [],
     "prompt_number": 3
    },
    {
     "cell_type": "code",
     "collapsed": false,
     "input": [
      "tree.disp_tree()"
     ],
     "language": "python",
     "metadata": {},
     "outputs": [
      {
       "output_type": "stream",
       "stream": "stdout",
       "text": [
        "0 [[0, 1, 2, 3]]\n",
        "1 [[0, 1], [2, 3]]\n",
        "2 [[0], [1], [2], [3]]\n"
       ]
      }
     ],
     "prompt_number": 74
    },
    {
     "cell_type": "code",
     "collapsed": false,
     "input": [
      "#start with 4 node dyadic tree.\n",
      "#test that the L1-L2 code does the right thing.\n",
      "cl"
     ],
     "language": "python",
     "metadata": {},
     "outputs": [
      {
       "output_type": "pyout",
       "prompt_number": 4,
       "text": [
        "array([[ 1.  ,  0.95,  0.  ,  0.9 ,  0.  ,  0.  ,  0.  ],\n",
        "       [ 1.  ,  0.95,  0.  ,  0.  ,  0.9 ,  0.  ,  0.  ],\n",
        "       [ 1.  ,  0.  ,  0.95,  0.  ,  0.  ,  0.9 ,  0.  ],\n",
        "       [ 1.  ,  0.  ,  0.95,  0.  ,  0.  ,  0.  ,  0.9 ]])"
       ]
      }
     ],
     "prompt_number": 4
    },
    {
     "cell_type": "code",
     "collapsed": false,
     "input": [
      "f = np.random.rand(4)"
     ],
     "language": "python",
     "metadata": {},
     "outputs": [],
     "prompt_number": 76
    },
    {
     "cell_type": "code",
     "collapsed": false,
     "input": [
      "f"
     ],
     "language": "python",
     "metadata": {},
     "outputs": [
      {
       "output_type": "pyout",
       "prompt_number": 77,
       "text": [
        "array([ 0.97165111,  0.81738004,  0.77800723,  0.38205747])"
       ]
      }
     ],
     "prompt_number": 77
    },
    {
     "cell_type": "code",
     "collapsed": false,
     "input": [
      "alpha = .05\n",
      "X = cl[:,1:]\n",
      "print X\n",
      "print cl\n",
      "lasso = sklm.LassoLars(alpha=.05,normalize=False,fit_intercept=False)\n",
      "lasso.fit(cl,f)\n",
      "lasso2 = sklm.LassoLars(alpha=.05,normalize=False,fit_intercept=True)\n",
      "lasso2.fit(X,f)"
     ],
     "language": "python",
     "metadata": {},
     "outputs": [
      {
       "output_type": "stream",
       "stream": "stdout",
       "text": [
        "[[ 0.95  0.    0.9   0.    0.    0.  ]\n",
        " [ 0.95  0.    0.    0.9   0.    0.  ]\n",
        " [ 0.    0.95  0.    0.    0.9   0.  ]\n",
        " [ 0.    0.95  0.    0.    0.    0.9 ]]\n",
        "[[ 1.    0.95  0.    0.9   0.    0.    0.  ]\n",
        " [ 1.    0.95  0.    0.    0.9   0.    0.  ]\n",
        " [ 1.    0.    0.95  0.    0.    0.9   0.  ]\n",
        " [ 1.    0.    0.95  0.    0.    0.    0.9 ]]\n"
       ]
      },
      {
       "output_type": "pyout",
       "prompt_number": 118,
       "text": [
        "LassoLars(alpha=0.05, copy_X=True, eps=2.2204460492503131e-16,\n",
        "     fit_intercept=True, fit_path=True, max_iter=500, normalize=False,\n",
        "     precompute='auto', verbose=False)"
       ]
      }
     ],
     "prompt_number": 118
    },
    {
     "cell_type": "code",
     "collapsed": false,
     "input": [
      "print lasso.coef_, lasso.intercept_\n",
      "print lasso2.coef_, lasso2.intercept_\n",
      "print f\n",
      "print lasso.predict(cl)\n",
      "print lasso2.predict(X)\n",
      "l1,l2 = lasso_obj(lasso,cl,f)\n",
      "print \"L1: {}, L2: {}, Total: {}\".format(l1,l2,l1+l2)\n",
      "l1,l2 = lasso_obj(lasso2,X,f)\n",
      "print \"L1: {}, L2: {}, Total: {}\".format(l1,l2,l1+l2)\n",
      "print lasso.coef_path_\n",
      "print lasso2.coef_path_"
     ],
     "language": "python",
     "metadata": {},
     "outputs": [
      {
       "output_type": "stream",
       "stream": "stdout",
       "text": [
        "[ 0.58529551  0.21469148  0.          0.          0.          0.          0.        ] 0.0\n",
        "[ 0.         -0.02414852  0.          0.          0.         -0.18003515] 0.789252417017\n",
        "[ 0.97165111  0.81738004  0.77800723  0.38205747]\n",
        "[ 0.78925242  0.78925242  0.58529551  0.58529551]\n",
        "[ 0.78925242  0.78925242  0.76631133  0.60427969]\n",
        "L1: 0.03999934956, L2: 0.0140629945143, Total: 0.0540623440743\n",
        "L1: 0.0496718043604, L2: 0.0104474944345, Total: 0.060119298795\n",
        "[[ 0.          0.59500774  0.58529551]\n",
        " [ 0.          0.          0.21469148]\n",
        " [ 0.          0.          0.        ]\n",
        " [ 0.          0.          0.        ]\n",
        " [ 0.          0.          0.        ]\n",
        " [ 0.          0.          0.        ]\n",
        " [ 0.          0.          0.        ]]\n",
        "[[ 0.          0.          0.        ]\n",
        " [ 0.          0.         -0.02414852]\n",
        " [ 0.          0.          0.        ]\n",
        " [ 0.          0.          0.        ]\n",
        " [ 0.          0.          0.        ]\n",
        " [ 0.         -0.1163099  -0.18003515]]\n"
       ]
      }
     ],
     "prompt_number": 127
    },
    {
     "cell_type": "code",
     "collapsed": false,
     "input": [
      "def lasso_obj(lasso,X,f,coef=None):\n",
      "    if coef is None:\n",
      "        l1_component = np.sum(np.abs(lasso.coef_))*lasso.alpha\n",
      "    else:\n",
      "        l1_component = np.sum(np.abs(coef))*lasso.alpha\n",
      "    \n",
      "    if coef is None:\n",
      "        l2_component = 1.0/(2*np.shape(X)[0])*np.sum((lasso.predict(X)-f)**2)\n",
      "    else:\n",
      "        l2_component = 1.0/(2*np.shape(X)[0])*np.sum((X.dot(coef)-f)**2)\n",
      "    return l1_component, l2_component"
     ],
     "language": "python",
     "metadata": {},
     "outputs": [],
     "prompt_number": 165
    },
    {
     "cell_type": "code",
     "collapsed": false,
     "input": [
      "def procpath(lasso,X,f):\n",
      "    cpshape = np.shape(lasso.coef_path_)\n",
      "    results = np.zeros([3,cpshape[1]])\n",
      "    for i in xrange(cpshape[1]):\n",
      "        l1_component = np.sum(np.abs(lasso.coef_path_[:,i]))*lasso.alpha\n",
      "        l2_component = 1.0/(2*np.shape(X)[0])*np.sum((X.dot(lasso.coef_path_[:,i])-f)**2)\n",
      "        results[0,i] = l1_component\n",
      "        results[1,i] = l2_component\n",
      "        results[2,i] = l1_component + l2_component\n",
      "    return results                        "
     ],
     "language": "python",
     "metadata": {},
     "outputs": [],
     "prompt_number": 143
    },
    {
     "cell_type": "code",
     "collapsed": false,
     "input": [
      "print lasso.coef_path_\n",
      "print procpath(lasso,cl,f)"
     ],
     "language": "python",
     "metadata": {},
     "outputs": [
      {
       "output_type": "stream",
       "stream": "stdout",
       "text": [
        "[[ 0.          0.59500774  0.58529551]\n",
        " [ 0.          0.          0.21469148]\n",
        " [ 0.          0.          0.        ]\n",
        " [ 0.          0.          0.        ]\n",
        " [ 0.          0.          0.        ]\n",
        " [ 0.          0.          0.        ]\n",
        " [ 0.          0.          0.        ]]\n",
        "[[ 0.          0.02975039  0.03999935]\n",
        " [ 0.2954349   0.03376829  0.01406299]\n",
        " [ 0.2954349   0.06351867  0.05406234]]\n"
       ]
      }
     ],
     "prompt_number": 166
    },
    {
     "cell_type": "code",
     "collapsed": false,
     "input": [
      "print f\n",
      "print lasso.predict(cl)\n",
      "ccl = lasso.coef_ + [0,0,0,0,0,0,-0.01]\n",
      "print cl.dot(ccl)\n",
      "l1,l2 = lasso_obj(lasso,cl,f)\n",
      "print \"L1: {}, L2: {}, Total: {}\".format(l1,l2,l1+l2)\n",
      "l1,l2 = lasso_obj(lasso,cl,f,ccl)\n",
      "print \"L1: {}, L2: {}, Total: {}\".format(l1,l2,l1+l2)"
     ],
     "language": "python",
     "metadata": {},
     "outputs": [
      {
       "output_type": "stream",
       "stream": "stdout",
       "text": [
        "[ 0.97165111  0.81738004  0.77800723  0.38205747]\n",
        "[ 0.78925242  0.78925242  0.58529551  0.58529551]\n",
        "[ 0.78925242  0.78925242  0.58529551  0.57629551]\n",
        "L1: 0.03999934956, L2: 0.0140629945143, Total: 0.0540623440743\n",
        "L1: 0.04049934956, L2: 0.0136158339205, Total: 0.0541151834804\n"
       ]
      }
     ],
     "prompt_number": 170
    },
    {
     "cell_type": "code",
     "collapsed": false,
     "input": [],
     "language": "python",
     "metadata": {},
     "outputs": [
      {
       "output_type": "pyout",
       "prompt_number": 133,
       "text": [
        "array([ 0.59500774,  0.59500774,  0.59500774,  0.59500774])"
       ]
      }
     ],
     "prompt_number": 133
    },
    {
     "cell_type": "code",
     "collapsed": false,
     "input": [
      "lasso2.coef_path_"
     ],
     "language": "python",
     "metadata": {},
     "outputs": [
      {
       "output_type": "pyout",
       "prompt_number": 116,
       "text": [
        "array([[ 0.        ,  0.        ,  0.        ,  0.        ],\n",
        "       [ 0.        ,  0.        , -0.05768412, -0.04149431],\n",
        "       [ 0.        ,  0.        ,  0.        ,  0.17089247],\n",
        "       [ 0.        ,  0.        ,  0.        ,  0.        ],\n",
        "       [ 0.        ,  0.        ,  0.        ,  0.        ],\n",
        "       [ 0.        , -0.1163099 , -0.26853189, -0.43942437]])"
       ]
      }
     ],
     "prompt_number": 116
    },
    {
     "cell_type": "code",
     "collapsed": false,
     "input": [
      "lasso3 = sklm.LassoLars(alpha=0.01,fit_intercept=False,normalize=False)\n",
      "lasso3.fit(cl,f)\n",
      "lasso4 = sklm.LassoLars(alpha=1e-8,fit_intercept=False,normalize=False)\n",
      "lasso4.fit(cl,f)"
     ],
     "language": "python",
     "metadata": {},
     "outputs": [
      {
       "output_type": "pyout",
       "prompt_number": 196,
       "text": [
        "LassoLars(alpha=1e-08, copy_X=True, eps=2.2204460492503131e-16,\n",
        "     fit_intercept=False, fit_path=True, max_iter=500, normalize=False,\n",
        "     precompute='auto', verbose=False)"
       ]
      }
     ],
     "prompt_number": 196
    },
    {
     "cell_type": "code",
     "collapsed": false,
     "input": [
      "print lasso3.coef_\n",
      "print lasso3.coef_path_\n",
      "print lasso4.coef_\n",
      "print lasso4.coef_path_"
     ],
     "language": "python",
     "metadata": {},
     "outputs": [
      {
       "output_type": "stream",
       "stream": "stdout",
       "text": [
        "[ 0.73566805  0.08847492  0.          0.11943049  0.          0.\n",
        " -0.34351794]\n",
        "[[ 0.          0.59500774  0.58483497  0.63839192  0.73566805]\n",
        " [ 0.          0.          0.22487168  0.19652808  0.08847492]\n",
        " [ 0.          0.          0.          0.          0.        ]\n",
        " [ 0.          0.          0.          0.          0.11943049]\n",
        " [ 0.          0.          0.          0.          0.        ]\n",
        " [ 0.          0.          0.          0.          0.        ]\n",
        " [ 0.          0.          0.         -0.12197439 -0.34351794]]\n",
        "[ 0.77800719  0.04144511  0.          0.17141224  0.          0.\n",
        " -0.43994409]\n",
        "[[ 0.          0.59500774  0.58483497  0.63839192  0.77800719]\n",
        " [ 0.          0.          0.22487168  0.19652808  0.04144511]\n",
        " [ 0.          0.          0.          0.          0.        ]\n",
        " [ 0.          0.          0.          0.          0.17141224]\n",
        " [ 0.          0.          0.          0.          0.        ]\n",
        " [ 0.          0.          0.          0.          0.        ]\n",
        " [ 0.          0.          0.         -0.12197439 -0.43994409]]\n"
       ]
      }
     ],
     "prompt_number": 197
    },
    {
     "cell_type": "code",
     "collapsed": false,
     "input": [
      "cov,indices,coef_path = sklm.lars_path(cl,f)"
     ],
     "language": "python",
     "metadata": {},
     "outputs": [],
     "prompt_number": 200
    },
    {
     "cell_type": "code",
     "collapsed": false,
     "input": [
      "coef_path[:,-1]"
     ],
     "language": "python",
     "metadata": {},
     "outputs": [
      {
       "output_type": "pyout",
       "prompt_number": 204,
       "text": [
        "array([ 0.77800723,  0.04144506,  0.        ,  0.17141229,  0.        ,\n",
        "        0.        , -0.43994419])"
       ]
      }
     ],
     "prompt_number": 204
    },
    {
     "cell_type": "code",
     "collapsed": false,
     "input": [
      "cl.dot(coef_path[:,-1])"
     ],
     "language": "python",
     "metadata": {},
     "outputs": [
      {
       "output_type": "pyout",
       "prompt_number": 205,
       "text": [
        "array([ 0.97165111,  0.81738004,  0.77800723,  0.38205747])"
       ]
      }
     ],
     "prompt_number": 205
    },
    {
     "cell_type": "code",
     "collapsed": false,
     "input": [
      "f"
     ],
     "language": "python",
     "metadata": {},
     "outputs": [
      {
       "output_type": "pyout",
       "prompt_number": 206,
       "text": [
        "array([ 0.97165111,  0.81738004,  0.77800723,  0.38205747])"
       ]
      }
     ],
     "prompt_number": 206
    },
    {
     "cell_type": "code",
     "collapsed": false,
     "input": [
      "np.sum(np.abs(coef_path),axis=0)"
     ],
     "language": "python",
     "metadata": {},
     "outputs": [
      {
       "output_type": "pyout",
       "prompt_number": 208,
       "text": [
        "array([ 0.        ,  0.59500774,  0.80970665,  0.95689439,  1.43080877])"
       ]
      }
     ],
     "prompt_number": 208
    },
    {
     "cell_type": "code",
     "collapsed": false,
     "input": [
      "cl.dot(coef_path)"
     ],
     "language": "python",
     "metadata": {},
     "outputs": [
      {
       "output_type": "pyout",
       "prompt_number": 209,
       "text": [
        "array([[ 0.        ,  0.59500774,  0.79846307,  0.8250936 ,  0.97165111],\n",
        "       [ 0.        ,  0.59500774,  0.79846307,  0.8250936 ,  0.81738004],\n",
        "       [ 0.        ,  0.59500774,  0.58483497,  0.63839192,  0.77800723],\n",
        "       [ 0.        ,  0.59500774,  0.58483497,  0.52861498,  0.38205747]])"
       ]
      }
     ],
     "prompt_number": 209
    },
    {
     "cell_type": "code",
     "collapsed": false,
     "input": [
      "predictions = (cl.dot(coef_path).T - f.T)"
     ],
     "language": "python",
     "metadata": {},
     "outputs": [],
     "prompt_number": 214
    },
    {
     "cell_type": "code",
     "collapsed": false,
     "input": [
      "for i in xrange(5):\n",
      "    print np.linalg.norm(predictions[i,:])"
     ],
     "language": "python",
     "metadata": {},
     "outputs": [
      {
       "output_type": "stream",
       "stream": "stdout",
       "text": [
        "1.53736110607\n",
        "0.519755999566\n",
        "0.329827511297\n",
        "0.250020281825\n",
        "1.24126707662e-16\n"
       ]
      }
     ],
     "prompt_number": 215
    },
    {
     "cell_type": "code",
     "collapsed": false,
     "input": [
      "l2_factor = (1.0/8)\n",
      "check_lasso = sklm.Lasso(alpha=1.0,fit_intercept=False,normalize=False)\n",
      "check_lasso.fit(cl,f)"
     ],
     "language": "python",
     "metadata": {},
     "outputs": [
      {
       "ename": "TypeError",
       "evalue": "float() argument must be a string or a number",
       "output_type": "pyerr",
       "traceback": [
        "\u001b[1;31m---------------------------------------------------------------------------\u001b[0m\n\u001b[1;31mTypeError\u001b[0m                                 Traceback (most recent call last)",
        "\u001b[1;32m<ipython-input-5-b35e29fdbcc2>\u001b[0m in \u001b[0;36m<module>\u001b[1;34m()\u001b[0m\n\u001b[0;32m      1\u001b[0m \u001b[0ml2_factor\u001b[0m \u001b[1;33m=\u001b[0m \u001b[1;33m(\u001b[0m\u001b[1;36m1.0\u001b[0m\u001b[1;33m/\u001b[0m\u001b[1;36m8\u001b[0m\u001b[1;33m)\u001b[0m\u001b[1;33m\u001b[0m\u001b[0m\n\u001b[0;32m      2\u001b[0m \u001b[0mcheck_lasso\u001b[0m \u001b[1;33m=\u001b[0m \u001b[0msklm\u001b[0m\u001b[1;33m.\u001b[0m\u001b[0mLasso\u001b[0m\u001b[1;33m(\u001b[0m\u001b[0malpha\u001b[0m\u001b[1;33m=\u001b[0m\u001b[1;36m1.0\u001b[0m\u001b[1;33m,\u001b[0m\u001b[0mfit_intercept\u001b[0m\u001b[1;33m=\u001b[0m\u001b[0mFalse\u001b[0m\u001b[1;33m,\u001b[0m\u001b[0mnormalize\u001b[0m\u001b[1;33m=\u001b[0m\u001b[0mFalse\u001b[0m\u001b[1;33m)\u001b[0m\u001b[1;33m\u001b[0m\u001b[0m\n\u001b[1;32m----> 3\u001b[1;33m \u001b[0mcheck_lasso\u001b[0m\u001b[1;33m.\u001b[0m\u001b[0mfit\u001b[0m\u001b[1;33m(\u001b[0m\u001b[0mcl\u001b[0m\u001b[1;33m,\u001b[0m\u001b[0mf\u001b[0m\u001b[1;33m)\u001b[0m\u001b[1;33m\u001b[0m\u001b[0m\n\u001b[0m",
        "\u001b[1;32mC:\\Python27\\lib\\site-packages\\sklearn\\linear_model\\coordinate_descent.pyc\u001b[0m in \u001b[0;36mfit\u001b[1;34m(self, X, y, Xy, coef_init)\u001b[0m\n\u001b[0;32m    179\u001b[0m                              copy=self.copy_X and self.fit_intercept)\n\u001b[0;32m    180\u001b[0m         \u001b[1;31m# From now on X can be touched inplace\u001b[0m\u001b[1;33m\u001b[0m\u001b[1;33m\u001b[0m\u001b[0m\n\u001b[1;32m--> 181\u001b[1;33m         \u001b[0my\u001b[0m \u001b[1;33m=\u001b[0m \u001b[0mnp\u001b[0m\u001b[1;33m.\u001b[0m\u001b[0masarray\u001b[0m\u001b[1;33m(\u001b[0m\u001b[0my\u001b[0m\u001b[1;33m,\u001b[0m \u001b[0mdtype\u001b[0m\u001b[1;33m=\u001b[0m\u001b[0mnp\u001b[0m\u001b[1;33m.\u001b[0m\u001b[0mfloat64\u001b[0m\u001b[1;33m)\u001b[0m\u001b[1;33m\u001b[0m\u001b[0m\n\u001b[0m\u001b[0;32m    182\u001b[0m         \u001b[1;31m# now all computation with X can be done inplace\u001b[0m\u001b[1;33m\u001b[0m\u001b[1;33m\u001b[0m\u001b[0m\n\u001b[0;32m    183\u001b[0m         \u001b[0mfit\u001b[0m \u001b[1;33m=\u001b[0m \u001b[0mself\u001b[0m\u001b[1;33m.\u001b[0m\u001b[0m_sparse_fit\u001b[0m \u001b[1;32mif\u001b[0m \u001b[0msparse\u001b[0m\u001b[1;33m.\u001b[0m\u001b[0misspmatrix\u001b[0m\u001b[1;33m(\u001b[0m\u001b[0mX\u001b[0m\u001b[1;33m)\u001b[0m \u001b[1;32melse\u001b[0m \u001b[0mself\u001b[0m\u001b[1;33m.\u001b[0m\u001b[0m_dense_fit\u001b[0m\u001b[1;33m\u001b[0m\u001b[0m\n",
        "\u001b[1;32mC:\\Python27\\lib\\site-packages\\numpy\\core\\numeric.pyc\u001b[0m in \u001b[0;36masarray\u001b[1;34m(a, dtype, order)\u001b[0m\n\u001b[0;32m    318\u001b[0m \u001b[1;33m\u001b[0m\u001b[0m\n\u001b[0;32m    319\u001b[0m     \"\"\"\n\u001b[1;32m--> 320\u001b[1;33m     \u001b[1;32mreturn\u001b[0m \u001b[0marray\u001b[0m\u001b[1;33m(\u001b[0m\u001b[0ma\u001b[0m\u001b[1;33m,\u001b[0m \u001b[0mdtype\u001b[0m\u001b[1;33m,\u001b[0m \u001b[0mcopy\u001b[0m\u001b[1;33m=\u001b[0m\u001b[0mFalse\u001b[0m\u001b[1;33m,\u001b[0m \u001b[0morder\u001b[0m\u001b[1;33m=\u001b[0m\u001b[0morder\u001b[0m\u001b[1;33m)\u001b[0m\u001b[1;33m\u001b[0m\u001b[0m\n\u001b[0m\u001b[0;32m    321\u001b[0m \u001b[1;33m\u001b[0m\u001b[0m\n\u001b[0;32m    322\u001b[0m \u001b[1;32mdef\u001b[0m \u001b[0masanyarray\u001b[0m\u001b[1;33m(\u001b[0m\u001b[0ma\u001b[0m\u001b[1;33m,\u001b[0m \u001b[0mdtype\u001b[0m\u001b[1;33m=\u001b[0m\u001b[0mNone\u001b[0m\u001b[1;33m,\u001b[0m \u001b[0morder\u001b[0m\u001b[1;33m=\u001b[0m\u001b[0mNone\u001b[0m\u001b[1;33m)\u001b[0m\u001b[1;33m:\u001b[0m\u001b[1;33m\u001b[0m\u001b[0m\n",
        "\u001b[1;31mTypeError\u001b[0m: float() argument must be a string or a number"
       ]
      }
     ],
     "prompt_number": 5
    },
    {
     "cell_type": "code",
     "collapsed": false,
     "input": [],
     "language": "python",
     "metadata": {},
     "outputs": []
    }
   ],
   "metadata": {}
  }
 ]
}