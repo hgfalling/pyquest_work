{
 "metadata": {
  "name": "pyquest_tree4"
 },
 "nbformat": 3,
 "nbformat_minor": 0,
 "worksheets": [
  {
   "cells": [
    {
     "cell_type": "code",
     "collapsed": false,
     "input": [
      "from imports import *\n",
      "import tree_building\n",
      "reload(tree_building)\n",
      "import scipy.spatial as spsp"
     ],
     "language": "python",
     "metadata": {},
     "outputs": [],
     "prompt_number": 211
    },
    {
     "cell_type": "code",
     "collapsed": false,
     "input": [
      "%run load_data.py de"
     ],
     "language": "python",
     "metadata": {},
     "outputs": [],
     "prompt_number": 2
    },
    {
     "cell_type": "code",
     "collapsed": false,
     "input": [
      "row_affinity = affinity.mutual_cosine_similarity(data.T,threshold=0.0)\n",
      "col_affinity = affinity.mutual_cosine_similarity(data,threshold=0.0)\n",
      "row_vecs, row_vals = markov.markov_eigs(row_affinity,12)\n",
      "col_vecs, col_vals = markov.markov_eigs(col_affinity,12)"
     ],
     "language": "python",
     "metadata": {},
     "outputs": [],
     "prompt_number": 224
    },
    {
     "cell_type": "markdown",
     "metadata": {},
     "source": [
      "Here we form the trees with the following steps:\n",
      "1) Form the symmetric Markov matrix. 2) Let that be the affinity, cluster the points with agglom algo. 3) calculate the diffusion between clusters. 4) multiply that by its transpose to diffuse another timestep. 5) Make that a symmetric Markov thing. 6) build the next level of clusters."
     ]
    },
    {
     "cell_type": "code",
     "collapsed": false,
     "input": [
      "row_clusters_list = []\n",
      "A = markov.make_markov_symmetric(row_affinity)\n",
      "clusters = tree_building.cluster_from_affinity(A,0.25)\n",
      "while len(clusters) > 1:.\n",
      "    new_diff = tree_building.cluster_transform(A,clusters)\n",
      "    row_clusters_list.append(clusters)\n",
      "    A = markov.make_markov_symmetric(new_diff.dot(new_diff.T))\n",
      "    clusters = tree_building.cluster_from_affinity(A,0.25)"
     ],
     "language": "python",
     "metadata": {},
     "outputs": [],
     "prompt_number": 4
    },
    {
     "cell_type": "code",
     "collapsed": false,
     "input": [
      "col_clusters_list = []\n",
      "A = markov.make_markov_symmetric(col_affinity)\n",
      "clusters = tree_building.cluster_from_affinity(A,0.75)\n",
      "while len(clusters) > 1:\n",
      "    new_diff = tree_building.cluster_transform(A,clusters)\n",
      "    col_clusters_list.append(clusters)\n",
      "    A = markov.make_markov_symmetric(new_diff.dot(new_diff.T))\n",
      "    clusters = tree_building.cluster_from_affinity(A,0.75)"
     ],
     "language": "python",
     "metadata": {},
     "outputs": [],
     "prompt_number": 5
    },
    {
     "cell_type": "code",
     "collapsed": false,
     "input": [
      "row_tree = tree_building.clusterlist_to_tree(row_clusters_list)\n",
      "col_tree = tree_building.clusterlist_to_tree(col_clusters_list)\n",
      "\n",
      "viewer_files.write_tree_viewer(\"diff_row_tree.pickle\",row_tree,row_vecs,row_vals,q_descs)\n",
      "viewer_files.write_tree_viewer(\"diff_col_tree.pickle\",col_tree,col_vecs,col_vals)"
     ],
     "language": "python",
     "metadata": {},
     "outputs": [],
     "prompt_number": 6
    },
    {
     "cell_type": "code",
     "collapsed": false,
     "input": [
      "%run tree_viewer diff_row_tree.pickle\n",
      "%run tree_viewer diff_col_tree.pickle"
     ],
     "language": "python",
     "metadata": {},
     "outputs": [],
     "prompt_number": 7
    },
    {
     "cell_type": "markdown",
     "metadata": {},
     "source": [
      "Below this is the version based on Euclidean distance in the embedding at time $t = \\frac{1}{1-\\lambda_2}$ with distance between clusters defined as avg distance between all pairs of points."
     ]
    },
    {
     "cell_type": "code",
     "collapsed": false,
     "input": [
      "row_d_time = 1.0/(1.0-row_vals[1])\n",
      "col_d_time = 1.0/(1.0-col_vals[1])\n",
      "\n",
      "print \"Row diffusion time: {}\".format(row_d_time)\n",
      "print \"Col diffusion time: {}\".format(col_d_time)\n",
      "\n",
      "row_embedding = row_vecs.dot(np.diag(row_vals**row_d_time))\n",
      "col_embedding = col_vecs.dot(np.diag(col_vals**col_d_time))\n",
      "\n",
      "row_distances = spsp.distance.squareform(spsp.distance.pdist(row_embedding))\n",
      "col_distances = spsp.distance.squareform(spsp.distance.pdist(col_embedding))\n",
      "\n",
      "row_affinity = np.max(row_distances) - row_distances\n",
      "col_affinity = np.max(col_distances) - col_distances"
     ],
     "language": "python",
     "metadata": {},
     "outputs": [
      {
       "output_type": "stream",
       "stream": "stdout",
       "text": [
        "Row diffusion time: 3.09735565219\n",
        "Col diffusion time: 5.68256492366\n"
       ]
      }
     ],
     "prompt_number": 232
    },
    {
     "cell_type": "code",
     "collapsed": false,
     "input": [
      "q = np.eye(row_affinity.shape[0])\n",
      "cluster_list = []\n",
      "while 1:\n",
      "    new_affinity = q.dot(row_affinity).dot(q.T)\n",
      "    cluster_list.append(tree_building.cluster_from_affinity(new_affinity,0.3))\n",
      "    if len(cluster_list[-1]) == 1:\n",
      "        break\n",
      "    temp_tree = tree_building.clusterlist_to_tree(cluster_list)\n",
      "    cpart = tree_building.ClusteringPartition([x.elements for x in temp_tree.dfs_level(2)])\n",
      "    q,qi = tree_building.cluster_transform_matrices(cpart)\n",
      "row_tree = tree_building.clusterlist_to_tree(cluster_list)"
     ],
     "language": "python",
     "metadata": {},
     "outputs": [],
     "prompt_number": 233
    },
    {
     "cell_type": "code",
     "collapsed": false,
     "input": [
      "q = np.eye(col_affinity.shape[0])\n",
      "cluster_list = []\n",
      "while 1:\n",
      "    new_affinity = q.dot(col_affinity).dot(q.T)\n",
      "    cluster_list.append(tree_building.cluster_from_affinity(new_affinity,0.3))\n",
      "    if len(cluster_list[-1]) == 1:\n",
      "        break\n",
      "    temp_tree = tree_building.clusterlist_to_tree(cluster_list)\n",
      "    cpart = tree_building.ClusteringPartition([x.elements for x in temp_tree.dfs_level(2)])\n",
      "    q,qi = tree_building.cluster_transform_matrices(cpart)\n",
      "col_tree = tree_building.clusterlist_to_tree(cluster_list)"
     ],
     "language": "python",
     "metadata": {},
     "outputs": [],
     "prompt_number": 234
    },
    {
     "cell_type": "raw",
     "metadata": {},
     "source": [
      "some notes on transforms:\n",
      "let m be the number of elements, n be the number of clusters\n",
      "q.dot(m).dot(q.T) gives nxn with a_ij = avg pairwise distance between clusters.\n",
      "qi.dot(q).dot(m).dot(q.T).dot(qi,T) gives mxm with a_ij = cluster avg pairwise distance between clusters. "
     ]
    },
    {
     "cell_type": "code",
     "collapsed": false,
     "input": [
      "viewer_files.write_tree_viewer(\"embed_row_tree.pickle\",row_tree,row_vecs,row_vals,q_descs)\n",
      "viewer_files.write_tree_viewer(\"embed_col_tree.pickle\",col_tree,col_vecs,col_vals)"
     ],
     "language": "python",
     "metadata": {},
     "outputs": [],
     "prompt_number": 236
    },
    {
     "cell_type": "code",
     "collapsed": false,
     "input": [
      "#%run tree_viewer.py embed_row_tree.pickle\n",
      "#%run tree_viewer.py embed_col_tree.pickle"
     ],
     "language": "python",
     "metadata": {},
     "outputs": [],
     "prompt_number": 256
    },
    {
     "cell_type": "markdown",
     "metadata": {},
     "source": [
      "now let's run a few iterations of EMD on this and see what kind of trees we get."
     ]
    },
    {
     "cell_type": "code",
     "collapsed": false,
     "input": [
      "def create_tree(affinity):\n",
      "    q = np.eye(affinity.shape[0])\n",
      "    cluster_list = []\n",
      "    while 1:\n",
      "        new_affinity = q.dot(affinity).dot(q.T)\n",
      "        cluster_list.append(tree_building.cluster_from_affinity(new_affinity,0.3))\n",
      "        if len(cluster_list[-1]) == 1:\n",
      "            break\n",
      "        temp_tree = tree_building.clusterlist_to_tree(cluster_list)\n",
      "        cpart = tree_building.ClusteringPartition([x.elements for x in temp_tree.dfs_level(2)])\n",
      "        q,qi = tree_building.cluster_transform_matrices(cpart)\n",
      "    return tree_building.clusterlist_to_tree(cluster_list)\n",
      "\n",
      "ITERATIONS = 3\n",
      "row_filename = \"emd_row_tree.pickle\"\n",
      "col_filename = \"emd_col_tree.pickle\"\n",
      "qv_filename = \"qv.pickle\"\n",
      "\n",
      "dual_row_trees = [row_tree]\n",
      "dual_col_trees = []\n",
      "\n",
      "for i in xrange(ITERATIONS):\n",
      "    col_emd = dual_affinity.calc_emd(data,dual_row_trees[-1],alpha=0.5,beta=0.0)\n",
      "    col_affinity = dual_affinity.emd_dual_aff(col_emd)\n",
      "    dual_col_trees.append(create_tree(col_affinity))\n",
      "    row_emd = dual_affinity.calc_emd(data.T,dual_col_trees[-1],alpha=0.5,beta=0.0)\n",
      "    row_affinity = dual_affinity.emd_dual_aff(row_emd)\n",
      "    dual_row_trees.append(create_tree(row_affinity))\n",
      "    \n",
      "col_tree = dual_col_trees[-1]\n",
      "row_tree = dual_row_trees[-1]\n",
      "\n",
      "row_aff = dual_affinity.emd_dual_aff(row_emd)\n",
      "col_aff = dual_affinity.emd_dual_aff(col_emd)\n",
      "\n",
      "row_vecs,row_vals = bintree_cut.markov_eigs(row_aff, 12)\n",
      "col_vecs,col_vals = bintree_cut.markov_eigs(col_aff, 12)"
     ],
     "language": "python",
     "metadata": {},
     "outputs": [],
     "prompt_number": 259
    },
    {
     "cell_type": "code",
     "collapsed": false,
     "input": [
      "viewer_files.write_tree_viewer(row_filename,row_tree,row_vecs,row_vals,descs=q_descs)\n",
      "viewer_files.write_tree_viewer(col_filename,col_tree,col_vecs,col_vals)\n",
      "\n",
      "viewer_files.write_question_viewer(qv_filename,data,row_tree,col_tree,row_vecs,row_vals,col_vecs,col_vals,descs=q_descs)"
     ],
     "language": "python",
     "metadata": {},
     "outputs": [],
     "prompt_number": 260
    },
    {
     "cell_type": "code",
     "collapsed": false,
     "input": [
      "#%run tree_viewer $row_filename\n",
      "#%run tree_viewer $col_filename\n",
      "%run question_viewer $qv_filename"
     ],
     "language": "python",
     "metadata": {},
     "outputs": [],
     "prompt_number": 262
    },
    {
     "cell_type": "code",
     "collapsed": false,
     "input": [],
     "language": "python",
     "metadata": {},
     "outputs": []
    }
   ],
   "metadata": {}
  }
 ]
}