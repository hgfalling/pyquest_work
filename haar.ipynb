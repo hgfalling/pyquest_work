{
 "metadata": {
  "name": "haar"
 },
 "nbformat": 3,
 "nbformat_minor": 0,
 "worksheets": [
  {
   "cells": [
    {
     "cell_type": "code",
     "collapsed": false,
     "input": [
      "import haar\n",
      "reload(haar)\n",
      "import numpy as np\n",
      "import l1_bregman\n",
      "reload(l1_bregman)\n",
      "import cluster_diffusion as cdiff\n",
      "reload(cdiff)\n",
      "import tree_utils\n",
      "reload(tree_utils)"
     ],
     "language": "python",
     "metadata": {},
     "outputs": [
      {
       "output_type": "pyout",
       "prompt_number": 150,
       "text": [
        "<module 'tree_utils' from 'tree_utils.pyc'>"
       ]
      }
     ],
     "prompt_number": 150
    },
    {
     "cell_type": "code",
     "collapsed": false,
     "input": [
      "#4/22/2013\n",
      "#let's figure out this normalization thing for the L1 learning minimization."
     ],
     "language": "python",
     "metadata": {},
     "outputs": [],
     "prompt_number": 151
    },
    {
     "cell_type": "code",
     "collapsed": false,
     "input": [
      "#make a marginally interesting tree.\n",
      "tree = cdiff.ClusterTreeNode([0,1,2,3,4,5])\n",
      "tree.create_subclusters([0,0,0,1,1,1])\n",
      "tree.children[0].create_subclusters([0,0,1])\n",
      "tree.children[1].create_subclusters([0,1,1])\n",
      "tree.children[0].children[0].create_subclusters([0,1])\n",
      "tree.children[1].children[1].create_subclusters([0,1])"
     ],
     "language": "python",
     "metadata": {},
     "outputs": [],
     "prompt_number": 152
    },
    {
     "cell_type": "code",
     "collapsed": false,
     "input": [
      "haar_basis = haar.compute_haar(tree)\n",
      "print haar_basis"
     ],
     "language": "python",
     "metadata": {},
     "outputs": [
      {
       "output_type": "stream",
       "stream": "stdout",
       "text": [
        "[[ 0.40824829  0.40824829  0.40824829  0.          0.70710678  0.        ]\n",
        " [ 0.40824829  0.40824829  0.40824829  0.         -0.70710678  0.        ]\n",
        " [ 0.40824829  0.40824829 -0.81649658  0.          0.          0.        ]\n",
        " [ 0.40824829 -0.40824829  0.          0.81649658  0.          0.        ]\n",
        " [ 0.40824829 -0.40824829  0.         -0.40824829  0.          0.70710678]\n",
        " [ 0.40824829 -0.40824829  0.         -0.40824829  0.         -0.70710678]]\n"
       ]
      }
     ],
     "prompt_number": 153
    },
    {
     "cell_type": "code",
     "collapsed": false,
     "input": [
      "#now suppose we have all the data. then things are easy.\n",
      "data = np.array([[1.1],[1.3],[1.6],[3.0],[3.6],[3.7]])\n",
      "indices = [0,1,2,3,5]"
     ],
     "language": "python",
     "metadata": {},
     "outputs": [],
     "prompt_number": 154
    },
    {
     "cell_type": "code",
     "collapsed": false,
     "input": [
      "haar_x = haar_basis.T.dot(data)\n",
      "print haar_x"
     ],
     "language": "python",
     "metadata": {},
     "outputs": [
      {
       "output_type": "stream",
       "stream": "stdout",
       "text": [
        "[[ 5.83795055]\n",
        " [-2.57196423]\n",
        " [-0.32659863]\n",
        " [-0.53072278]\n",
        " [-0.14142136]\n",
        " [-0.07071068]]\n"
       ]
      }
     ],
     "prompt_number": 155
    },
    {
     "cell_type": "code",
     "collapsed": false,
     "input": [
      "idata = tree_utils.impute(tree,indices,data.T)\n",
      "print idata"
     ],
     "language": "python",
     "metadata": {},
     "outputs": [
      {
       "output_type": "stream",
       "stream": "stdout",
       "text": [
        "[[ 1.1  1.3  1.6  3.   3.7  3.7]]\n"
       ]
      }
     ],
     "prompt_number": 156
    },
    {
     "cell_type": "code",
     "collapsed": false,
     "input": [
      "mbasis = haar_basis[indices,:]\n",
      "mdata = data[indices,:]\n",
      "scoeff,iters = l1_bregman.l1_bregman(mbasis,mdata,1,False,30,1e-3)"
     ],
     "language": "python",
     "metadata": {},
     "outputs": [
      {
       "output_type": "stream",
       "stream": "stdout",
       "text": [
        "L1 norm: 8.80645776435\n",
        "Total iterations: 258\n"
       ]
      }
     ],
     "prompt_number": 157
    },
    {
     "cell_type": "code",
     "collapsed": false,
     "input": [
      "haar_basis.dot(scoeff)"
     ],
     "language": "python",
     "metadata": {},
     "outputs": [
      {
       "output_type": "pyout",
       "prompt_number": 158,
       "text": [
        "array([[ 1.1       ],\n",
        "       [ 1.3       ],\n",
        "       [ 1.6       ],\n",
        "       [ 3.00005806],\n",
        "       [ 2.30014515],\n",
        "       [ 3.69997097]])"
       ]
      }
     ],
     "prompt_number": 158
    },
    {
     "cell_type": "code",
     "collapsed": false,
     "input": [
      "#so note that that doesn't work.\n",
      "\n",
      "#make an even simpler tree. This is the tree in the research diary.\n",
      "tree4 = cdiff.ClusterTreeNode([0,1,2,3])\n",
      "tree4.create_subclusters([0,1,1,1])\n",
      "tree4.children[0].create_subclusters([0])\n",
      "tree4.children[0].children[0].create_subclusters([0])\n",
      "tree4.children[1].create_subclusters([0,1,1])\n",
      "tree4.children[1].children[0].create_subclusters([0])\n",
      "tree4.children[1].children[1].create_subclusters([0,1])\n",
      "tree4.disp_tree()"
     ],
     "language": "python",
     "metadata": {},
     "outputs": [
      {
       "output_type": "stream",
       "stream": "stdout",
       "text": [
        "0 [[0, 1, 2, 3]]\n",
        "1 [[0], [1, 2, 3]]\n",
        "2 [[0], [1], [2, 3]]\n",
        "3 [[0], [1], [2], [3]]\n"
       ]
      }
     ],
     "prompt_number": 159
    },
    {
     "cell_type": "code",
     "collapsed": false,
     "input": [
      "hb = haar.compute_haar(tree4)\n",
      "f = np.array([[0],[4],[6],[7]])\n",
      "coeff = hb.T.dot(f)\n",
      "scoeffs,iters = l1_bregman.l1_bregman(hb[0:3,:],f[0:3,:],1,False,50,0.1)"
     ],
     "language": "python",
     "metadata": {},
     "outputs": [
      {
       "output_type": "stream",
       "stream": "stdout",
       "text": [
        "L1 norm: 12.292526112\n",
        "Total iterations: 4\n"
       ]
      }
     ],
     "prompt_number": 160
    },
    {
     "cell_type": "code",
     "collapsed": false,
     "input": [
      "i=1\n",
      "print hb[:,0:i].dot(scoeffs[0:i,:])\n",
      "i=2\n",
      "print hb[:,0:i].dot(scoeffs[0:i,:])\n",
      "i=3\n",
      "print hb[:,0:i].dot(scoeffs[0:i,:])\n",
      "i=4\n",
      "print hb[:,0:i].dot(scoeffs[0:i,:])"
     ],
     "language": "python",
     "metadata": {},
     "outputs": [
      {
       "output_type": "stream",
       "stream": "stdout",
       "text": [
        "[[ 2.99999195]\n",
        " [ 2.99999195]\n",
        " [ 2.99999195]\n",
        " [ 2.99999195]]\n",
        "[[ -1.77635684e-15]\n",
        " [  3.99998926e+00]\n",
        " [  3.99998926e+00]\n",
        " [  3.99998926e+00]]\n",
        "[[ -1.77635684e-15]\n",
        " [  3.99998926e+00]\n",
        " [  3.99998926e+00]\n",
        " [  3.99998926e+00]]\n",
        "[[ -1.77635684e-15]\n",
        " [  3.99998926e+00]\n",
        " [  6.00000537e+00]\n",
        " [  1.99997315e+00]]\n"
       ]
      }
     ],
     "prompt_number": 161
    },
    {
     "cell_type": "code",
     "collapsed": false,
     "input": [
      "#so that still doesn't work.\n",
      "#coded up the delta system in cdiff.\n",
      "tree4.calc_delta_library()"
     ],
     "language": "python",
     "metadata": {},
     "outputs": [],
     "prompt_number": 162
    },
    {
     "cell_type": "code",
     "collapsed": false,
     "input": [
      "db = tree4.delta_library()\n",
      "print db"
     ],
     "language": "python",
     "metadata": {},
     "outputs": [
      {
       "output_type": "stream",
       "stream": "stdout",
       "text": [
        "[[ 0.25       -0.75        0.25        0.          0.          0.          0.        ]\n",
        " [ 0.25        0.25       -0.08333333 -0.66666667  0.33333333  0.          0.        ]\n",
        " [ 0.25        0.25       -0.08333333  0.33333333 -0.16666667 -0.5         0.5       ]\n",
        " [ 0.25        0.25       -0.08333333  0.33333333 -0.16666667  0.5        -0.5       ]]\n"
       ]
      }
     ],
     "prompt_number": 163
    },
    {
     "cell_type": "code",
     "collapsed": false,
     "input": [
      "#now let's do the L1-minimization on the full data set:\n",
      "coeffs,iters = l1_bregman.l1_bregman(db,f,1,False,50,0.1,1e-8)\n",
      "scoeffs,iters = l1_bregman.l1_bregman(db[0:3,:],f[0:3,:],1,False,50,0.1,1e-8)"
     ],
     "language": "python",
     "metadata": {},
     "outputs": [
      {
       "output_type": "stream",
       "stream": "stdout",
       "text": [
        "L1 norm: 26.1666666666\n",
        "Total iterations: 5\n",
        "L1 norm: 19.9999999883\n",
        "Total iterations: 22\n"
       ]
      }
     ],
     "prompt_number": 164
    },
    {
     "cell_type": "code",
     "collapsed": false,
     "input": [
      "db.dot(coeffs)"
     ],
     "language": "python",
     "metadata": {},
     "outputs": [
      {
       "output_type": "pyout",
       "prompt_number": 165,
       "text": [
        "array([[ -2.04263273e-11],\n",
        "       [  4.00000000e+00],\n",
        "       [  6.00000000e+00],\n",
        "       [  7.00000000e+00]])"
       ]
      }
     ],
     "prompt_number": 165
    },
    {
     "cell_type": "code",
     "collapsed": false,
     "input": [
      "db.dot(scoeffs)"
     ],
     "language": "python",
     "metadata": {},
     "outputs": [
      {
       "output_type": "pyout",
       "prompt_number": 166,
       "text": [
        "array([[ -1.35298617e-09],\n",
        "       [  3.99999999e+00],\n",
        "       [  6.00000000e+00],\n",
        "       [  1.99999998e+00]])"
       ]
      }
     ],
     "prompt_number": 166
    },
    {
     "cell_type": "code",
     "collapsed": false,
     "input": [
      "coeffs"
     ],
     "language": "python",
     "metadata": {},
     "outputs": [
      {
       "output_type": "pyout",
       "prompt_number": 167,
       "text": [
        "array([[ 17.        ],\n",
        "       [  5.66666667],\n",
        "       [ -0.        ],\n",
        "       [  2.5       ],\n",
        "       [ -0.        ],\n",
        "       [  0.5       ],\n",
        "       [ -0.5       ]])"
       ]
      }
     ],
     "prompt_number": 167
    },
    {
     "cell_type": "code",
     "collapsed": false,
     "input": [
      "scoeffs"
     ],
     "language": "python",
     "metadata": {},
     "outputs": [
      {
       "output_type": "pyout",
       "prompt_number": 168,
       "text": [
        "array([[ 11.99999998],\n",
        "       [  3.99999999],\n",
        "       [ -0.        ],\n",
        "       [ -0.        ],\n",
        "       [  0.        ],\n",
        "       [ -2.00000001],\n",
        "       [  2.00000001]])"
       ]
      }
     ],
     "prompt_number": 168
    },
    {
     "cell_type": "code",
     "collapsed": false,
     "input": [
      "coeffs2 = scoeffs.copy()\n",
      "coeffs2[5:7] = 0.0\n",
      "db.dot(coeffs2)"
     ],
     "language": "python",
     "metadata": {},
     "outputs": [
      {
       "output_type": "pyout",
       "prompt_number": 169,
       "text": [
        "array([[ -1.35298617e-09],\n",
        "       [  3.99999999e+00],\n",
        "       [  3.99999999e+00],\n",
        "       [  3.99999999e+00]])"
       ]
      }
     ],
     "prompt_number": 169
    },
    {
     "cell_type": "code",
     "collapsed": false,
     "input": [
      "#try alpha=0\n",
      "tree4.calc_delta_library(0.0)\n",
      "db = tree4.delta_library()\n",
      "print db\n",
      "coeffs,iters = l1_bregman.l1_bregman(db,f,1,False,50,0.1,1e-8)\n",
      "scoeffs,iters = l1_bregman.l1_bregman(db[0:3,:],f[0:3,:],1,False,50,0.1,1e-8)\n",
      "print db.dot(coeffs), db.dot(scoeffs)\n",
      "scoeffs"
     ],
     "language": "python",
     "metadata": {},
     "outputs": [
      {
       "output_type": "stream",
       "stream": "stdout",
       "text": [
        "[[ 0.25       -0.75        0.25        0.          0.          0.          0.        ]\n",
        " [ 0.25        0.25       -0.08333333 -0.66666667  0.33333333  0.          0.        ]\n",
        " [ 0.25        0.25       -0.08333333  0.33333333 -0.16666667 -0.5         0.5       ]\n",
        " [ 0.25        0.25       -0.08333333  0.33333333 -0.16666667  0.5        -0.5       ]]\n",
        "L1 norm: 26.1666666666\n",
        "Total iterations: 5\n",
        "L1 norm: 19.9999999883\n",
        "Total iterations: 22\n",
        "[[ -2.04263273e-11]\n",
        " [  4.00000000e+00]\n",
        " [  6.00000000e+00]\n",
        " [  7.00000000e+00]] [[ -1.35298617e-09]\n",
        " [  3.99999999e+00]\n",
        " [  6.00000000e+00]\n",
        " [  1.99999998e+00]]\n"
       ]
      },
      {
       "output_type": "pyout",
       "prompt_number": 170,
       "text": [
        "array([[ 11.99999998],\n",
        "       [  3.99999999],\n",
        "       [ -0.        ],\n",
        "       [ -0.        ],\n",
        "       [  0.        ],\n",
        "       [ -2.00000001],\n",
        "       [  2.00000001]])"
       ]
      }
     ],
     "prompt_number": 170
    },
    {
     "cell_type": "code",
     "collapsed": false,
     "input": [
      "#try alpha=2\n",
      "tree4.calc_delta_library(2.0)\n",
      "db = tree4.delta_library()\n",
      "print db\n",
      "coeffs,iters = l1_bregman.l1_bregman(db,f,1,False,50,0.1,1e-8)\n",
      "scoeffs,iters = l1_bregman.l1_bregman(db[0:3,:],f[0:3,:],1,False,50,0.1,1e-8)\n",
      "print db.dot(coeffs), db.dot(scoeffs)\n",
      "scoeffs"
     ],
     "language": "python",
     "metadata": {},
     "outputs": [
      {
       "output_type": "stream",
       "stream": "stdout",
       "text": [
        "[[ 0.25       -0.75        0.25        0.          0.          0.          0.        ]\n",
        " [ 0.25        0.25       -0.08333333 -0.66666667  0.33333333  0.          0.        ]\n",
        " [ 0.25        0.25       -0.08333333  0.33333333 -0.16666667 -0.5         0.5       ]\n",
        " [ 0.25        0.25       -0.08333333  0.33333333 -0.16666667  0.5        -0.5       ]]\n",
        "L1 norm: 26.1666666666\n",
        "Total iterations: 5\n",
        "L1 norm: 19.9999999883\n",
        "Total iterations: 22\n",
        "[[ -2.04263273e-11]\n",
        " [  4.00000000e+00]\n",
        " [  6.00000000e+00]\n",
        " [  7.00000000e+00]] [[ -1.35298617e-09]\n",
        " [  3.99999999e+00]\n",
        " [  6.00000000e+00]\n",
        " [  1.99999998e+00]]\n"
       ]
      },
      {
       "output_type": "pyout",
       "prompt_number": 171,
       "text": [
        "array([[ 11.99999998],\n",
        "       [  3.99999999],\n",
        "       [ -0.        ],\n",
        "       [ -0.        ],\n",
        "       [  0.        ],\n",
        "       [ -2.00000001],\n",
        "       [  2.00000001]])"
       ]
      }
     ],
     "prompt_number": 171
    },
    {
     "cell_type": "code",
     "collapsed": false,
     "input": [
      "#restricted library of functions\n",
      "tree4.calc_delta_library(1.0)\n",
      "db = tree4.delta_library()[:,0:5]\n",
      "print db\n",
      "coeffs,iters = l1_bregman.l1_bregman(db,f,1,False,50,0.1,1e-8)\n",
      "scoeffs,iters = l1_bregman.l1_bregman(db[0:3,:],f[0:3,:],1,False,50,0.1,1e-8)\n",
      "print np.concatenate((db.dot(coeffs), db.dot(scoeffs)),axis=1)\n",
      "scoeffs"
     ],
     "language": "python",
     "metadata": {},
     "outputs": [
      {
       "output_type": "stream",
       "stream": "stdout",
       "text": [
        "[[ 0.25       -0.75        0.25        0.          0.        ]\n",
        " [ 0.25        0.25       -0.08333333 -0.66666667  0.33333333]\n",
        " [ 0.25        0.25       -0.08333333  0.33333333 -0.16666667]\n",
        " [ 0.25        0.25       -0.08333333  0.33333333 -0.16666667]]\n",
        "L1 norm: 25.1666666666\n",
        "Total iterations: 5\n",
        "L1 norm: 23.3333333337\n",
        "Total iterations: 7\n",
        "[[ -2.04263273e-11   3.42392781e-11]\n",
        " [  4.00000000e+00   4.00000000e+00]\n",
        " [  6.50000000e+00   6.00000000e+00]\n",
        " [  6.50000000e+00   6.00000000e+00]]\n"
       ]
      },
      {
       "output_type": "pyout",
       "prompt_number": 172,
       "text": [
        "array([[ 16.        ],\n",
        "       [  5.33333333],\n",
        "       [ -0.        ],\n",
        "       [  2.        ],\n",
        "       [ -0.        ]])"
       ]
      }
     ],
     "prompt_number": 172
    },
    {
     "cell_type": "code",
     "collapsed": false,
     "input": [
      "#restricted library of functions: try different alphas\n",
      "tree4.calc_delta_library(0)\n",
      "db = tree4.delta_library()[:,0:5]\n",
      "print db\n",
      "coeffs,iters = l1_bregman.l1_bregman(db,f,1,False,50,0.1,1e-8)\n",
      "scoeffs,iters = l1_bregman.l1_bregman(db[0:3,:],f[0:3,:],1,False,50,0.1,1e-8)\n",
      "print np.concatenate((db.dot(coeffs), db.dot(scoeffs)),axis=1)\n",
      "scoeffs"
     ],
     "language": "python",
     "metadata": {},
     "outputs": [
      {
       "output_type": "stream",
       "stream": "stdout",
       "text": [
        "[[ 0.25       -0.75        0.25        0.          0.        ]\n",
        " [ 0.25        0.25       -0.08333333 -0.66666667  0.33333333]\n",
        " [ 0.25        0.25       -0.08333333  0.33333333 -0.16666667]\n",
        " [ 0.25        0.25       -0.08333333  0.33333333 -0.16666667]]\n",
        "L1 norm: 25.1666666666\n",
        "Total iterations: 5\n",
        "L1 norm: 23.3333333337\n",
        "Total iterations: 7\n",
        "[[ -2.04263273e-11   3.42392781e-11]\n",
        " [  4.00000000e+00   4.00000000e+00]\n",
        " [  6.50000000e+00   6.00000000e+00]\n",
        " [  6.50000000e+00   6.00000000e+00]]\n"
       ]
      },
      {
       "output_type": "pyout",
       "prompt_number": 173,
       "text": [
        "array([[ 16.        ],\n",
        "       [  5.33333333],\n",
        "       [ -0.        ],\n",
        "       [  2.        ],\n",
        "       [ -0.        ]])"
       ]
      }
     ],
     "prompt_number": 173
    },
    {
     "cell_type": "code",
     "collapsed": false,
     "input": [
      "#now do the same thing for the Haar basis\n",
      "hb = haar.compute_haar(tree4)\n",
      "print hb\n",
      "coeffs,iters = l1_bregman.l1_bregman(hb,f,1,False,50,0.1,1e-8)\n",
      "scoeffs,iters = l1_bregman.l1_bregman(hb[0:3,0:3],f[0:3,:],1,False,50,0.1,1e-8)\n",
      "print np.concatenate((hb.dot(coeffs), hb[0:4,0:3].dot(scoeffs)),axis=1)\n",
      "print np.concatenate((coeffs,np.concatenate((scoeffs,np.array([[0]])))),axis=1)"
     ],
     "language": "python",
     "metadata": {},
     "outputs": [
      {
       "output_type": "stream",
       "stream": "stdout",
       "text": [
        "[[ 0.5         0.8660254   0.          0.        ]\n",
        " [ 0.5        -0.28867513  0.81649658  0.        ]\n",
        " [ 0.5        -0.28867513 -0.40824829  0.70710678]\n",
        " [ 0.5        -0.28867513 -0.40824829 -0.70710678]]\n",
        "L1 norm: 16.1558255216\n",
        "Total iterations: 3\n",
        "L1 norm: 14.2517953163\n",
        "Total iterations: 3\n",
        "[[  1.77635684e-15  -8.88178420e-16]\n",
        " [  4.00000000e+00   4.00000000e+00]\n",
        " [  6.00000000e+00   6.00000000e+00]\n",
        " [  7.00000000e+00   6.00000000e+00]]\n",
        "[[ 8.5         8.        ]\n",
        " [-4.90747729 -4.61880215]\n",
        " [-2.04124145 -1.63299316]\n",
        " [-0.70710678  0.        ]]\n"
       ]
      }
     ],
     "prompt_number": 174
    },
    {
     "cell_type": "code",
     "collapsed": false,
     "input": [
      "#try element-based filtering:\n",
      "tree4.calc_delta_library(1.0)\n",
      "db = tree4.delta_library()\n",
      "print db\n",
      "coeffs,iters = l1_bregman.l1_bregman(db,f,1,False,50,0.1,1e-8)\n",
      "scoeffs,iters = l1_bregman.l1_bregman(db[0:3,:],f[0:3,:],1,False,50,0.1,1e-8)\n",
      "print np.concatenate((db.dot(coeffs), db.dot(scoeffs)),axis=1)\n",
      "scoeffs"
     ],
     "language": "python",
     "metadata": {},
     "outputs": [
      {
       "output_type": "stream",
       "stream": "stdout",
       "text": [
        "[[ 0.25       -0.75        0.25        0.          0.          0.          0.        ]\n",
        " [ 0.25        0.25       -0.08333333 -0.66666667  0.33333333  0.          0.        ]\n",
        " [ 0.25        0.25       -0.08333333  0.33333333 -0.16666667 -0.5         0.5       ]\n",
        " [ 0.25        0.25       -0.08333333  0.33333333 -0.16666667  0.5        -0.5       ]]\n",
        "L1 norm: 26.1666666666\n",
        "Total iterations: 5\n",
        "L1 norm: 19.9999999883"
       ]
      },
      {
       "output_type": "stream",
       "stream": "stdout",
       "text": [
        "\n",
        "Total iterations: 22\n",
        "[[ -2.04263273e-11  -1.35298617e-09]\n",
        " [  4.00000000e+00   3.99999999e+00]\n",
        " [  6.00000000e+00   6.00000000e+00]\n",
        " [  7.00000000e+00   1.99999998e+00]]\n"
       ]
      },
      {
       "output_type": "pyout",
       "prompt_number": 175,
       "text": [
        "array([[ 11.99999998],\n",
        "       [  3.99999999],\n",
        "       [ -0.        ],\n",
        "       [ -0.        ],\n",
        "       [  0.        ],\n",
        "       [ -2.00000001],\n",
        "       [  2.00000001]])"
       ]
      }
     ],
     "prompt_number": 175
    },
    {
     "cell_type": "code",
     "collapsed": false,
     "input": [
      "tree5 = cdiff.ClusterTreeNode([0,1,2,3])\n",
      "tree5.create_subclusters([0,1,1,1])\n",
      "tree5.children[0].create_subclusters([0])\n",
      "tree5.children[0].children[0].create_subclusters([0])\n",
      "tree5.children[1].create_subclusters([0,1,2])\n",
      "tree5.disp_tree()\n",
      "tree5.calc_delta_library(1.0)"
     ],
     "language": "python",
     "metadata": {},
     "outputs": [
      {
       "output_type": "stream",
       "stream": "stdout",
       "text": [
        "0 [[0, 1, 2, 3]]\n",
        "1 [[0], [1, 2, 3]]\n",
        "2 [[0], [1], [2], [3]]\n",
        "3 [[0]]\n"
       ]
      }
     ],
     "prompt_number": 176
    },
    {
     "cell_type": "code",
     "collapsed": false,
     "input": [
      "for node in tree5.traverse():\n",
      "    print node.elements, node.d_vector"
     ],
     "language": "python",
     "metadata": {},
     "outputs": [
      {
       "output_type": "stream",
       "stream": "stdout",
       "text": [
        "[0, 1, 2, 3] [ 0.25  0.25  0.25  0.25]\n",
        "[0] [-0.75  0.25  0.25  0.25]\n",
        "[1, 2, 3] [ 0.25       -0.08333333 -0.08333333 -0.08333333]\n",
        "[0] [ 0.  0.  0.  0.]\n",
        "[1] [ 0.         -0.66666667  0.33333333  0.33333333]\n",
        "[2] [ 0.          0.33333333 -0.66666667  0.33333333]\n",
        "[3] [ 0.          0.33333333  0.33333333 -0.66666667]\n",
        "[0] [ 0.  0.  0.  0.]\n"
       ]
      }
     ],
     "prompt_number": 177
    },
    {
     "cell_type": "code",
     "collapsed": false,
     "input": [
      "#4/29/2013\n",
      "#after conversation with RRC, continue on this process. Fixing weights on the delta_library stuff:\n",
      "reload(cdiff)\n",
      "tree4.calc_delta_library(1.0)\n",
      "db = tree4.delta_library(\"foldersize\")\n",
      "print db\n",
      "\n",
      "#coeffs,iters = l1_bregman.l1_bregman(db,f,1,False,50,0.1,1e-8)\n",
      "#scoeffs,iters = l1_bregman.l1_bregman(db[0:3,:],f[0:3,:],1,False,50,0.1,1e-8)\n",
      "#print np.concatenate((db.dot(coeffs), db.dot(scoeffs)),axis=1)\n",
      "#scoeffs"
     ],
     "language": "python",
     "metadata": {},
     "outputs": [
      {
       "output_type": "stream",
       "stream": "stdout",
       "text": [
        "[[ 1.    0.    0.    0.    0.    0.    0.    0.    0.    0.  ]\n",
        " [ 0.    0.25  0.    0.    0.    0.    0.    0.    0.    0.  ]\n",
        " [ 0.    0.    0.75  0.    0.    0.    0.    0.    0.    0.  ]\n",
        " [ 0.    0.    0.    0.25  0.    0.    0.    0.    0.    0.  ]\n",
        " [ 0.    0.    0.    0.    0.25  0.    0.    0.    0.    0.  ]\n",
        " [ 0.    0.    0.    0.    0.    0.5   0.    0.    0.    0.  ]\n",
        " [ 0.    0.    0.    0.    0.    0.    0.25  0.    0.    0.  ]\n",
        " [ 0.    0.    0.    0.    0.    0.    0.    0.25  0.    0.  ]\n",
        " [ 0.    0.    0.    0.    0.    0.    0.    0.    0.25  0.  ]\n",
        " [ 0.    0.    0.    0.    0.    0.    0.    0.    0.    0.25]]\n",
        "[[ 0.25       -0.75        0.25        0.          0.          0.          0.        ]\n",
        " [ 0.25        0.25       -0.08333333 -0.66666667  0.33333333  0.          0.        ]\n",
        " [ 0.25        0.25       -0.08333333  0.33333333 -0.16666667 -0.5         0.5       ]\n",
        " [ 0.25        0.25       -0.08333333  0.33333333 -0.16666667  0.5        -0.5       ]]\n"
       ]
      }
     ],
     "prompt_number": 178
    },
    {
     "cell_type": "code",
     "collapsed": false,
     "input": [],
     "language": "python",
     "metadata": {},
     "outputs": [],
     "prompt_number": 178
    }
   ],
   "metadata": {}
  }
 ]
}