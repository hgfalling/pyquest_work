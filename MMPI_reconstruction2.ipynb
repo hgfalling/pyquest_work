{
 "metadata": {
  "name": "MMPI_reconstruction2"
 },
 "nbformat": 3,
 "nbformat_minor": 0,
 "worksheets": [
  {
   "cells": [
    {
     "cell_type": "code",
     "collapsed": false,
     "input": [
      "import matlab_util as mu\n",
      "reload(mu)\n",
      "import tree_util as tu\n",
      "reload(tu)\n",
      "import scoring\n",
      "reload(scoring)\n",
      "import barcode\n",
      "reload(barcode)\n",
      "import cluster_diffusion as cdiff\n",
      "reload(cdiff)\n",
      "\n",
      "import scipy.io\n",
      "import numpy as np\n",
      "import scipy as sp\n",
      "import matplotlib.pyplot as plt"
     ],
     "language": "python",
     "metadata": {},
     "outputs": [],
     "prompt_number": 2
    },
    {
     "cell_type": "code",
     "collapsed": false,
     "input": [
      "mdict2 = scipy.io.loadmat('/users/jerrod/Google Drive/Yale_Research/Questionnaire_2D_20130614/Examples/Output_MMPI2/EMD_basic_1/MMPI2_basic.mat')\n",
      "data = mdict2['matrix']"
     ],
     "language": "python",
     "metadata": {},
     "outputs": [],
     "prompt_number": 3
    },
    {
     "cell_type": "code",
     "collapsed": false,
     "input": [
      "np.shape(data)"
     ],
     "language": "python",
     "metadata": {},
     "outputs": [
      {
       "output_type": "pyout",
       "prompt_number": 4,
       "text": [
        "(567L, 2428L)"
       ]
      }
     ],
     "prompt_number": 4
    },
    {
     "cell_type": "code",
     "collapsed": false,
     "input": [
      "import affinity\n",
      "sim_mat = affinity.norm_ip_abs_aff(data)"
     ],
     "language": "python",
     "metadata": {},
     "outputs": [],
     "prompt_number": 5
    },
    {
     "cell_type": "code",
     "collapsed": false,
     "input": [
      "%timeit sim_mat = affinity.norm_ip_abs_aff(data)"
     ],
     "language": "python",
     "metadata": {},
     "outputs": [
      {
       "output_type": "stream",
       "stream": "stdout",
       "text": [
        "1 loops, best of 3: 7.38 s per loop\n"
       ]
      }
     ],
     "prompt_number": 6
    },
    {
     "cell_type": "code",
     "collapsed": false,
     "input": [
      "%timeit data.T.dot(data)"
     ],
     "language": "python",
     "metadata": {},
     "outputs": [
      {
       "output_type": "stream",
       "stream": "stdout",
       "text": [
        "1 loops, best of 3: 3.66 s per loop\n"
       ]
      }
     ],
     "prompt_number": 7
    },
    {
     "cell_type": "code",
     "collapsed": false,
     "input": [
      "np.shape(sim_mat)"
     ],
     "language": "python",
     "metadata": {},
     "outputs": [
      {
       "output_type": "pyout",
       "prompt_number": 8,
       "text": [
        "(2428L, 2428L)"
       ]
      }
     ],
     "prompt_number": 8
    },
    {
     "cell_type": "code",
     "collapsed": false,
     "input": [
      "data2 = sim_mat.copy()"
     ],
     "language": "python",
     "metadata": {},
     "outputs": [],
     "prompt_number": 14
    },
    {
     "cell_type": "code",
     "collapsed": false,
     "input": [
      "a = np.random.rand(2428,2428)"
     ],
     "language": "python",
     "metadata": {},
     "outputs": [],
     "prompt_number": 15
    },
    {
     "cell_type": "code",
     "collapsed": false,
     "input": [
      "data2[a < 0.2] = 0.0"
     ],
     "language": "python",
     "metadata": {},
     "outputs": [],
     "prompt_number": 16
    },
    {
     "cell_type": "code",
     "collapsed": false,
     "input": [
      "%timeit sim_mat = affinity.norm_ip_abs_aff(data)"
     ],
     "language": "python",
     "metadata": {},
     "outputs": [
      {
       "output_type": "stream",
       "stream": "stdout",
       "text": [
        "1 loops, best of 3: 7.44 s per loop\n"
       ]
      }
     ],
     "prompt_number": 19
    },
    {
     "cell_type": "code",
     "collapsed": false,
     "input": [
      "mdict = scipy.io.loadmat('/users/jerrod/Google Drive/Yale_Research/Questionnaire_2D_20130614/Examples/Output_MMPI2/EMD_basic_1/MMPI2_package.mat')\n",
      "\n",
      "fold_sensors = mdict['fold_sensors']\n",
      "fold_points = mdict['fold_points']\n",
      "\n",
      "row_tree = mu.matlab_to_pyquest(fold_sensors)\n",
      "col_tree = mu.matlab_to_pyquest(fold_points)\n",
      "\n",
      "row_tree.make_index()\n",
      "col_tree.make_index()\n",
      "#coefs = tu.bitree_transform(data,row_tree,col_tree)\n",
      "#recon_matrix, coefs_used = tu.inverse_bitree_transform(coefs,row_tree,col_tree,0.01)\n",
      "#score = scoring.Score(data,recon_matrix)"
     ],
     "language": "python",
     "metadata": {},
     "outputs": [],
     "prompt_number": 6
    },
    {
     "cell_type": "code",
     "collapsed": false,
     "input": [
      "row_order = [x.elements[0] for x in row_tree.dfs_leaves()]"
     ],
     "language": "python",
     "metadata": {},
     "outputs": [],
     "prompt_number": 7
    },
    {
     "cell_type": "code",
     "collapsed": false,
     "input": [
      "reload(cdiff)"
     ],
     "language": "python",
     "metadata": {},
     "outputs": [
      {
       "output_type": "pyout",
       "prompt_number": 8,
       "text": [
        "<module 'cluster_diffusion' from 'cluster_diffusion.pyc'>"
       ]
      }
     ],
     "prompt_number": 8
    },
    {
     "cell_type": "code",
     "collapsed": false,
     "input": [
      "corr_leaves_nodes = row_tree.dfs_level(-1)\n",
      "\n",
      "fm2 = np.zeros([567,9])\n",
      "\n",
      "current_nodes = []\n",
      "node = corr_leaves_nodes[0]\n",
      "\n",
      "while node.parent is not None:\n",
      "    current_nodes.append(node)\n",
      "    node = node.parent\n",
      "\n",
      "#print [x.idx for x in current_nodes]\n",
      "                \n",
      "tmatrix = np.zeros([2428,2428,len(current_nodes)])\n",
      "cmatrix = np.zeros([2428,2428,len(current_nodes)])\n",
      "\n",
      "j=0\n",
      "\n",
      "for (idx,node) in enumerate(corr_leaves_nodes):\n",
      "    #print \"processing node\", node.idx\n",
      "    cur_node = node\n",
      "    chg_lvl = 0\n",
      "    while 1:\n",
      "        if cur_node.parent is None:\n",
      "            break\n",
      "        #print cur_node.idx, cur_node.level\n",
      "        if cur_node.parent is current_nodes[chg_lvl]:\n",
      "            break\n",
      "        else:\n",
      "            if cur_node.parent is not None:\n",
      "                cmatrix[:,:,cur_node.level-node.level] += np.abs(tmatrix[:,:,cur_node.level-node.level])\n",
      "                tmatrix[:,:,cur_node.level-node.level] *= 0.0\n",
      "                current_nodes[chg_lvl] = cur_node.parent\n",
      "                #print [x.idx for x in current_nodes]\n",
      "                chg_lvl += 1\n",
      "                cur_node = cur_node.parent\n",
      "\n",
      "    submatrix = data[node.elements,:]\n",
      "    aff = submatrix.T.dot(submatrix)\n",
      "\n",
      "    for update_level in xrange(chg_lvl,len(current_nodes)):\n",
      "        tmatrix[:,:,update_level] += aff\n",
      "    \n",
      "    if idx % 50 == 0:\n",
      "        print idx\n",
      "    #dat = [node.idx] + [x.idx for x in current_nodes]\n",
      "    #print dat\n",
      "    #fm2[j,:] = dat\n",
      "    #j+=1"
     ],
     "language": "python",
     "metadata": {},
     "outputs": [
      {
       "output_type": "stream",
       "stream": "stdout",
       "text": [
        "0\n",
        "50"
       ]
      },
      {
       "output_type": "stream",
       "stream": "stdout",
       "text": [
        "\n",
        "100"
       ]
      },
      {
       "output_type": "stream",
       "stream": "stdout",
       "text": [
        "\n"
       ]
      }
     ],
     "prompt_number": 50
    },
    {
     "cell_type": "code",
     "collapsed": false,
     "input": [
      "[x.idx for x in current_nodes]"
     ],
     "language": "python",
     "metadata": {},
     "outputs": [
      {
       "output_type": "pyout",
       "prompt_number": 98,
       "text": [
        "[240, 109, 54, 26, 13, 6, 2]"
       ]
      }
     ],
     "prompt_number": 98
    },
    {
     "cell_type": "code",
     "collapsed": false,
     "input": [
      "np.sum(cmatrix[:,:,4])"
     ],
     "language": "python",
     "metadata": {},
     "outputs": [
      {
       "output_type": "pyout",
       "prompt_number": 65,
       "text": [
        "418308230.0"
       ]
      }
     ],
     "prompt_number": 65
    },
    {
     "cell_type": "code",
     "collapsed": false,
     "input": [
      "current_nodes[0].size   "
     ],
     "language": "python",
     "metadata": {},
     "outputs": [
      {
       "output_type": "pyout",
       "prompt_number": 72,
       "text": [
        "567"
       ]
      }
     ],
     "prompt_number": 72
    },
    {
     "cell_type": "code",
     "collapsed": false,
     "input": [
      "folder_matrix = np.zeros([567,9])\n",
      "for (idx,folder) in enumerate(row_tree.dfs_level()):\n",
      "    i = 0\n",
      "    while 1:\n",
      "        if folder is None:\n",
      "            break\n",
      "        folder_matrix[idx,i] = folder.idx\n",
      "        i+=1\n",
      "        folder = folder.parent\n",
      "        \n"
     ],
     "language": "python",
     "metadata": {},
     "outputs": [],
     "prompt_number": 39
    },
    {
     "cell_type": "code",
     "collapsed": false,
     "input": [
      "folder_matrix"
     ],
     "language": "python",
     "metadata": {},
     "outputs": [
      {
       "output_type": "pyout",
       "prompt_number": 40,
       "text": [
        "array([[ 529.,  240.,  109., ...,    6.,    2.,    0.],\n",
        "       [ 544.,  240.,  109., ...,    6.,    2.,    0.],\n",
        "       [ 682.,  240.,  109., ...,    6.,    2.,    0.],\n",
        "       ..., \n",
        "       [ 546.,  133.,   69., ...,    5.,    1.,    0.],\n",
        "       [ 656.,  133.,   69., ...,    5.,    1.,    0.],\n",
        "       [ 698.,  133.,   69., ...,    5.,    1.,    0.]])"
       ]
      }
     ],
     "prompt_number": 40
    },
    {
     "cell_type": "code",
     "collapsed": false,
     "input": [
      "fm2"
     ],
     "language": "python",
     "metadata": {},
     "outputs": [
      {
       "output_type": "pyout",
       "prompt_number": 21,
       "text": [
        "array([[ 240.,  109.,   54., ...,    2.,    0.,    0.],\n",
        "       [ 192.,  109.,   54., ...,    2.,    0.,    0.],\n",
        "       [ 160.,   93.,   54., ...,    2.,    0.,    0.],\n",
        "       ..., \n",
        "       [   0.,    0.,    0., ...,    0.,    0.,    0.],\n",
        "       [   0.,    0.,    0., ...,    0.,    0.,    0.],\n",
        "       [   0.,    0.,    0., ...,    0.,    0.,    0.]])"
       ]
      }
     ],
     "prompt_number": 21
    },
    {
     "cell_type": "code",
     "collapsed": false,
     "input": [
      "row_tree.tree_depth"
     ],
     "language": "python",
     "metadata": {},
     "outputs": [
      {
       "output_type": "pyout",
       "prompt_number": 110,
       "text": [
        "9"
       ]
      }
     ],
     "prompt_number": 110
    },
    {
     "cell_type": "code",
     "collapsed": false,
     "input": [
      "fm2"
     ],
     "language": "python",
     "metadata": {},
     "outputs": [
      {
       "output_type": "pyout",
       "prompt_number": 34,
       "text": [
        "array([[ 529.,  240.,  109., ...,    6.,    2.,    0.],\n",
        "       [ 544.,  240.,  109., ...,    6.,    2.,    0.],\n",
        "       [ 682.,  240.,  109., ...,    6.,    2.,    0.],\n",
        "       ..., \n",
        "       [ 546.,  133.,   69., ...,    5.,    1.,    0.],\n",
        "       [ 656.,  133.,   69., ...,    5.,    1.,    0.],\n",
        "       [ 698.,  133.,   69., ...,    5.,    1.,    0.]])"
       ]
      }
     ],
     "prompt_number": 34
    },
    {
     "cell_type": "code",
     "collapsed": false,
     "input": [
      "np.sum(folder_matrix == fm2)"
     ],
     "language": "python",
     "metadata": {},
     "outputs": [
      {
       "output_type": "pyout",
       "prompt_number": 41,
       "text": [
        "5103"
       ]
      }
     ],
     "prompt_number": 41
    },
    {
     "cell_type": "code",
     "collapsed": false,
     "input": [
      "folder_matrix == fm2"
     ],
     "language": "python",
     "metadata": {},
     "outputs": [
      {
       "output_type": "pyout",
       "prompt_number": 36,
       "text": [
        "array([[False, False, False, ..., False, False,  True],\n",
        "       [False, False, False, ..., False, False,  True],\n",
        "       [False, False, False, ..., False, False,  True],\n",
        "       ..., \n",
        "       [False, False, False, ..., False, False,  True],\n",
        "       [False, False, False, ..., False, False,  True],\n",
        "       [False, False, False, ..., False, False,  True]], dtype=bool)"
       ]
      }
     ],
     "prompt_number": 36
    },
    {
     "cell_type": "code",
     "collapsed": false,
     "input": [
      "567*9"
     ],
     "language": "python",
     "metadata": {},
     "outputs": [
      {
       "output_type": "pyout",
       "prompt_number": 42,
       "text": [
        "5103"
       ]
      }
     ],
     "prompt_number": 42
    },
    {
     "cell_type": "code",
     "collapsed": false,
     "input": [
      "folder_matrix[0,:]"
     ],
     "language": "python",
     "metadata": {},
     "outputs": [
      {
       "output_type": "pyout",
       "prompt_number": 38,
       "text": [
        "array([ 240.,  109.,   54.,   26.,   13.,    6.,    2.,    0.,    0.])"
       ]
      }
     ],
     "prompt_number": 38
    },
    {
     "cell_type": "code",
     "collapsed": false,
     "input": [],
     "language": "python",
     "metadata": {},
     "outputs": []
    }
   ],
   "metadata": {}
  }
 ]
}