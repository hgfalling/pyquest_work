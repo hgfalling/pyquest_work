{
 "metadata": {
  "name": "bayesian_reconstruction"
 },
 "nbformat": 3,
 "nbformat_minor": 0,
 "worksheets": [
  {
   "cells": [
    {
     "cell_type": "code",
     "collapsed": false,
     "input": [
      "from imports import *\n",
      "import scipy.optimize"
     ],
     "language": "python",
     "metadata": {},
     "outputs": [],
     "prompt_number": 2
    },
    {
     "cell_type": "code",
     "collapsed": false,
     "input": [
      "SAMPLES = 10\n",
      "GMM,UNIFORM,GAUSSIAN = 0,1,2\n",
      "MEANS_TYPE = GMM\n",
      "TRUTH,SAMPLE = 0,1\n",
      "SORT_TYPE = TRUTH\n",
      "\n",
      "if MEANS_TYPE == 0:\n",
      "    means = scipy.stats.norm.rvs(0.75,0.15,size=1024)\n",
      "    picker = (np.random.rand(1024) > 0.5)\n",
      "    means[picker==True] = scipy.stats.norm.rvs(0.25,0.15,size=np.sum(picker))\n",
      "elif MEANS_TYPE == 1:\n",
      "    means = np.random.rand(1024)\n",
      "elif MEANS_TYPE == 2:\n",
      "    means = scipy.stats.norm.rvs(0.5,0.20,size=1024)\n",
      "\n",
      "means[means < 0] = 0.0\n",
      "means[means > 1.0] = 1.0\n",
      "means = np.hstack([np.array([0.0]*8),means,np.array([1.0]*8)])\n",
      "rdata = np.random.rand(SAMPLES,1040)\n",
      "data = np.zeros([SAMPLES,1040])\n",
      "data[rdata < means] = 1\n",
      "data[rdata >= means] = -1\n",
      "\n",
      "if SORT_TYPE == TRUTH:\n",
      "    indices = means.argsort()\n",
      "elif SORT_TYPE == SAMPLE:\n",
      "    indices = np.mean(data,axis=0).argsort()\n",
      "\n",
      "data = data[:,indices]\n",
      "means = means[indices]"
     ],
     "language": "python",
     "metadata": {},
     "outputs": [],
     "prompt_number": 3
    },
    {
     "cell_type": "code",
     "collapsed": false,
     "input": [
      "def wnc_dist(n_parent,k_parent,n_child,t):\n",
      "    \n",
      "    m1 = k_parent\n",
      "    m2 = n_parent - k_parent\n",
      "    \n",
      "    f = np.zeros([n_child+1,n_child+1])\n",
      "    f[0,0] = 1.0\n",
      "    for n in xrange(1,n_child+1):\n",
      "        for k in xrange(n+1):\n",
      "            w1 = 1.0*(t*(m1-k+1))/(t*(m1-k+1)+m2+k-n)\n",
      "            w2 = 1.0*(m2+k-n+1)/(t*(m1-k)+m2+k-n+1)\n",
      "            if k==0:\n",
      "                f[n,k] = w2*f[n-1,k]\n",
      "            else:\n",
      "                f[n,k] = w1*f[n-1,k-1] + w2*f[n-1,k]\n",
      "    return f[-1,:]\n",
      "\n",
      "def wallenius_noncentral_mean(n_parent,k_parent,n_child,t):\n",
      "    f = lambda x: 1.0/k_parent*x + (1 - (n_child - 1.0*x)/(n_parent-k_parent))**t - 1\n",
      "    f_prime = lambda x: 1.0/k_parent + (1.0/(n_parent-k_parent))*(t)*((n_child-x)/(n_parent-k_parent))**(t-1.0)\n",
      "    try:\n",
      "        result = scipy.optimize.newton(f,((t/(1+t))*k_parent/n_parent),f_prime,maxiter=200)\n",
      "    except:\n",
      "        result = scipy.optimize.brentq(f,0,n_child)\n",
      "    finally:\n",
      "        return result\n",
      "\n",
      "def bayesian_t_estimate(n_parent,k_parent,n_child,k_child,t_prior,t):\n",
      "    p_x_given_t = np.zeros(t.shape)\n",
      "    mu_given_t = np.zeros(t.shape)\n",
      "    for (idx,t1) in enumerate(t):\n",
      "        p_x_given_t[idx] = wnc_dist(n_parent,k_parent,n_child,t1)[k_child]\n",
      "        mu_given_t[idx] = wallenius_noncentral_mean(n_parent,k_parent,n_child,t1)\n",
      "    return p_x_given_t,mu_given_t\n"
     ],
     "language": "python",
     "metadata": {},
     "outputs": [],
     "prompt_number": 4
    },
    {
     "cell_type": "code",
     "collapsed": false,
     "input": [
      "p_x_given_t,mu_given_t = bayesian_t_estimate(64,32,32,16,t_prior,t)\n",
      "t_posterior = t_prior*p_x_given_t  \n",
      "t_posterior /= np.trapz(t_posterior,t)\n",
      "estimated_mu = np.trapz(mu_given_t*t_posterior,t)\n"
     ],
     "language": "python",
     "metadata": {},
     "outputs": [
      {
       "ename": "NameError",
       "evalue": "name 't_prior' is not defined",
       "output_type": "pyerr",
       "traceback": [
        "\u001b[1;31m---------------------------------------------------------------------------\u001b[0m\n\u001b[1;31mNameError\u001b[0m                                 Traceback (most recent call last)",
        "\u001b[1;32m<ipython-input-5-b5ef2aa86448>\u001b[0m in \u001b[0;36m<module>\u001b[1;34m()\u001b[0m\n\u001b[1;32m----> 1\u001b[1;33m \u001b[0mp_x_given_t\u001b[0m\u001b[1;33m,\u001b[0m\u001b[0mmu_given_t\u001b[0m \u001b[1;33m=\u001b[0m \u001b[0mbayesian_t_estimate\u001b[0m\u001b[1;33m(\u001b[0m\u001b[1;36m64\u001b[0m\u001b[1;33m,\u001b[0m\u001b[1;36m32\u001b[0m\u001b[1;33m,\u001b[0m\u001b[1;36m32\u001b[0m\u001b[1;33m,\u001b[0m\u001b[1;36m16\u001b[0m\u001b[1;33m,\u001b[0m\u001b[0mt_prior\u001b[0m\u001b[1;33m,\u001b[0m\u001b[0mt\u001b[0m\u001b[1;33m)\u001b[0m\u001b[1;33m\u001b[0m\u001b[0m\n\u001b[0m\u001b[0;32m      2\u001b[0m \u001b[0mt_posterior\u001b[0m \u001b[1;33m=\u001b[0m \u001b[0mt_prior\u001b[0m\u001b[1;33m*\u001b[0m\u001b[0mp_x_given_t\u001b[0m\u001b[1;33m\u001b[0m\u001b[0m\n\u001b[0;32m      3\u001b[0m \u001b[0mt_posterior\u001b[0m \u001b[1;33m/=\u001b[0m \u001b[0mnp\u001b[0m\u001b[1;33m.\u001b[0m\u001b[0mtrapz\u001b[0m\u001b[1;33m(\u001b[0m\u001b[0mt_posterior\u001b[0m\u001b[1;33m,\u001b[0m\u001b[0mt\u001b[0m\u001b[1;33m)\u001b[0m\u001b[1;33m\u001b[0m\u001b[0m\n\u001b[0;32m      4\u001b[0m \u001b[0mestimated_mu\u001b[0m \u001b[1;33m=\u001b[0m \u001b[0mnp\u001b[0m\u001b[1;33m.\u001b[0m\u001b[0mtrapz\u001b[0m\u001b[1;33m(\u001b[0m\u001b[0mmu_given_t\u001b[0m\u001b[1;33m*\u001b[0m\u001b[0mt_posterior\u001b[0m\u001b[1;33m,\u001b[0m\u001b[0mt\u001b[0m\u001b[1;33m)\u001b[0m\u001b[1;33m\u001b[0m\u001b[0m\n",
        "\u001b[1;31mNameError\u001b[0m: name 't_prior' is not defined"
       ]
      }
     ],
     "prompt_number": 5
    },
    {
     "cell_type": "code",
     "collapsed": false,
     "input": [
      "#log uniform distribution\n",
      "#t_prior = scipy.stats.reciprocal(t,0.1,10)\n",
      "\n",
      "N = 15.0\n",
      "s = 0.5\n",
      "\n",
      "t = np.exp(np.linspace(np.log(1.0/N),np.log(N),num=101))\n",
      "t_prior = scipy.stats.lognorm.pdf(t,s)\n",
      "t_cdf = scipy.stats.lognorm.cdf(t,s)"
     ],
     "language": "python",
     "metadata": {},
     "outputs": [],
     "prompt_number": 6
    },
    {
     "cell_type": "code",
     "collapsed": false,
     "input": [
      "x = np.array(range(33))\n",
      "estimated_mu = np.zeros(np.shape(x))\n",
      "for (idx,obs_k) in enumerate(x):\n",
      "    p_x_given_t,mu_given_t = bayesian_t_estimate(64,32,32,obs_k,t_prior,t)\n",
      "    t_posterior = t_prior*p_x_given_t\n",
      "    t_posterior /= np.trapz(t_posterior,t)\n",
      "    estimated_mu[idx] = np.trapz(mu_given_t*t_posterior,t)\n"
     ],
     "language": "python",
     "metadata": {},
     "outputs": [],
     "prompt_number": 7
    },
    {
     "cell_type": "code",
     "collapsed": false,
     "input": [
      "#plt.plot(t,p_x_given_t,label=\"p(x|t)\")\n",
      "#plt.plot(t,t_prior,'g',label=\"prior\")\n",
      "#plt.plot(t,t_posterior,'r',label=\"p(t|x)\")\n",
      "#plt.hlines(estimated_mu,0,N,'c',label=\"estimated $mu$\")\n",
      "#plt.hlines(x,0,N,'k',label=\"observed $mu$\")\n",
      "plt.plot(x,estimated_mu,'g',label=\"estimated $mu$\")\n",
      "plt.plot(x,x,'r',label=\"observed $mu$\")\n",
      "plt.ylim([0,32])"
     ],
     "language": "python",
     "metadata": {},
     "outputs": [
      {
       "output_type": "pyout",
       "prompt_number": 135,
       "text": [
        "(0, 32)"
       ]
      },
      {
       "output_type": "display_data",
       "png": "[encoded data removed]"
      }
     ],
     "prompt_number": 135
    },
    {
     "cell_type": "code",
     "collapsed": false,
     "input": [
      "x = np.array(range(32))\n",
      "estimated_mu = np.zeros(np.shape(x))\n",
      "for (idx,obs_k) in enumerate(x):\n",
      "    p_x_given_t,mu_given_t = bayesian_t_estimate(64,32,32,obs_k,t_prior)\n",
      "    t_posterior = t_prior*p_x_given_t\n",
      "    t_posterior /= np.trapz(t_posterior,t)\n",
      "    estimated_mu[idx] = np.trapz(mu_given_t*t_posterior,t)\n",
      "plt.plot(x,estimated_mu,'r')\n",
      "plt.plot(x,x,'g')  \n",
      "    "
     ],
     "language": "python",
     "metadata": {},
     "outputs": [
      {
       "output_type": "pyout",
       "prompt_number": 90,
       "text": [
        "[<matplotlib.lines.Line2D at 0x119b4470>]"
       ]
      },
      {
       "output_type": "display_data",
       "png": "[encoded data removed]"
      }
     ],
     "prompt_number": 90
    },
    {
     "cell_type": "code",
     "collapsed": false,
     "input": [
      "t"
     ],
     "language": "python",
     "metadata": {},
     "outputs": [
      {
       "output_type": "pyout",
       "prompt_number": 74,
       "text": [
        "array([  0.1       ,   0.10471285,   0.10964782,   0.11481536,\n",
        "         0.12022644,   0.12589254,   0.13182567,   0.13803843,\n",
        "         0.14454398,   0.15135612,   0.15848932,   0.16595869,\n",
        "         0.17378008,   0.18197009,   0.19054607,   0.19952623,\n",
        "         0.20892961,   0.21877616,   0.22908677,   0.23988329,\n",
        "         0.25118864,   0.2630268 ,   0.27542287,   0.28840315,\n",
        "         0.30199517,   0.31622777,   0.33113112,   0.34673685,\n",
        "         0.36307805,   0.3801894 ,   0.39810717,   0.41686938,\n",
        "         0.43651583,   0.45708819,   0.47863009,   0.50118723,\n",
        "         0.52480746,   0.54954087,   0.57543994,   0.60255959,\n",
        "         0.63095734,   0.66069345,   0.69183097,   0.72443596,\n",
        "         0.75857758,   0.79432823,   0.83176377,   0.87096359,\n",
        "         0.91201084,   0.95499259,   1.        ,   1.04712855,\n",
        "         1.0964782 ,   1.14815362,   1.20226443,   1.25892541,\n",
        "         1.31825674,   1.38038426,   1.44543977,   1.51356125,\n",
        "         1.58489319,   1.65958691,   1.73780083,   1.81970086,\n",
        "         1.90546072,   1.99526231,   2.08929613,   2.18776162,\n",
        "         2.29086765,   2.39883292,   2.51188643,   2.63026799,\n",
        "         2.7542287 ,   2.8840315 ,   3.01995172,   3.16227766,\n",
        "         3.31131121,   3.4673685 ,   3.63078055,   3.80189396,\n",
        "         3.98107171,   4.16869383,   4.36515832,   4.5708819 ,\n",
        "         4.78630092,   5.01187234,   5.2480746 ,   5.49540874,\n",
        "         5.75439937,   6.02559586,   6.30957344,   6.60693448,\n",
        "         6.91830971,   7.2443596 ,   7.58577575,   7.94328235,\n",
        "         8.31763771,   8.7096359 ,   9.12010839,   9.54992586,  10.        ])"
       ]
      }
     ],
     "prompt_number": 74
    },
    {
     "cell_type": "code",
     "collapsed": false,
     "input": [
      "np.trapz(t_prior,t)"
     ],
     "language": "python",
     "metadata": {},
     "outputs": [
      {
       "output_type": "pyout",
       "prompt_number": 87,
       "text": [
        "1.0000003181089934"
       ]
      }
     ],
     "prompt_number": 87
    },
    {
     "cell_type": "code",
     "collapsed": false,
     "input": [
      "plt.plot(np.log(t),t_cdf)"
     ],
     "language": "python",
     "metadata": {},
     "outputs": [
      {
       "output_type": "pyout",
       "prompt_number": 85,
       "text": [
        "[<matplotlib.lines.Line2D at 0x1206fa20>]"
       ]
      },
      {
       "output_type": "display_data",
       "png": "[encoded data removed]"
      }
     ],
     "prompt_number": 85
    },
    {
     "cell_type": "code",
     "collapsed": false,
     "input": [],
     "language": "python",
     "metadata": {},
     "outputs": []
    },
    {
     "cell_type": "code",
     "collapsed": false,
     "input": [],
     "language": "python",
     "metadata": {},
     "outputs": []
    },
    {
     "cell_type": "code",
     "collapsed": false,
     "input": [
      "t = tree.dyadic_tree(10)\n",
      "\n",
      "obs_data = np.mean(data[:,8:1032],axis=0)\n",
      "recon_data = total_recon[8:1032]\n",
      "recon_data2 = total_recon2[8:1032]\n",
      "true_data = (2*means[8:1032])-1\n",
      "\n",
      "obs_l1_error = np.sum(np.abs(obs_data - true_data))\n",
      "recon_l1_error = np.sum(np.abs(recon_data - true_data))\n",
      "recon_l1_error2 = np.sum(np.abs(recon_data2 - true_data))\n",
      "obs_l2_error = np.linalg.norm(obs_data - true_data)\n",
      "recon_l2_error = np.linalg.norm(recon_data - true_data)\n",
      "recon_l2_error2 = np.linalg.norm(recon_data2 - true_data)\n",
      "\n",
      "fig = plt.figure()\n",
      "fig.suptitle(\"P-testing of folder means\",size=20)\n",
      "fig.add_subplot(411)\n",
      "plt.imshow(barcode.level_avgs(obs_data,t),aspect='auto',interpolation='nearest',cmap=cmap,norm=cnorm)\n",
      "plt.title(\"Observed Means: L1 = {0:.4} L2 = {1:.4}\".format(obs_l1_error,obs_l2_error))\n",
      "fig.add_subplot(412)\n",
      "plt.imshow(barcode.level_avgs(recon_data,t),aspect='auto',interpolation='nearest',cmap=cmap,norm=cnorm)\n",
      "plt.title(\"P-value Recon (spin: L1 = {0:.4} L2 = {1:.4}\".format(recon_l1_error,recon_l2_error))\n",
      "fig.add_subplot(413)\n",
      "plt.imshow(barcode.level_avgs(recon_data2,t),aspect='auto',interpolation='nearest',cmap=cmap,norm=cnorm)\n",
      "plt.title(\"Folder Threshold Recon (spin): L1 = {0:.4} L2 = {1:.4}\".format(recon_l1_error2,recon_l2_error2))\n",
      "fig.add_subplot(414)\n",
      "plt.imshow(barcode.level_avgs(true_data,t),aspect='auto',interpolation='nearest',cmap=cmap,norm=cnorm)\n",
      "plt.title(\"True Means\")\n",
      "\n",
      "fig = plt.figure()\n",
      "fig.suptitle(\"P-testing of folder means\",size=20)\n",
      "fig.add_subplot(411)\n",
      "plt.plot(obs_data)\n",
      "plt.title(\"Observed Means: L1 = {0:.4} L2 = {1:.4}\".format(obs_l1_error,obs_l2_error))\n",
      "fig.add_subplot(412)\n",
      "plt.plot(recon_data)\n",
      "plt.title(\"P-value Recon (spin: L1 = {0:.4} L2 = {1:.4}\".format(recon_l1_error,recon_l2_error))\n",
      "fig.add_subplot(413)\n",
      "plt.plot(recon_data2)\n",
      "plt.title(\"Folder Threshold Recon (spin): L1 = {0:.4} L2 = {1:.4}\".format(recon_l1_error2,recon_l2_error2))\n",
      "fig.add_subplot(414)\n",
      "plt.plot(true_data)\n",
      "plt.title(\"True Means\")\n",
      "\n",
      "\"\"\"\n",
      "BINS=15\n",
      "\n",
      "fig = plt.figure()\n",
      "fig.suptitle(\"P-testing of folder means\",size=20)\n",
      "fig.add_subplot(411)\n",
      "plt.hist(obs_data,bins=BINS)\n",
      "plt.title(\"Observed Means: L2-error = {0:.4}\".format(obs_l2_error))\n",
      "fig.add_subplot(412)\n",
      "plt.hist(recon_data,bins=BINS)\n",
      "plt.title(\"Reconstructed Means after 16 spins: L2-error = {0:.4}\".format(recon_l2_error))\n",
      "fig.add_subplot(413)\n",
      "plt.hist(recon_data2,bins=BINS)\n",
      "plt.title(\"Folder Threshold Reconstruction/16 spins: L2-error = {0:.4}\".format(recon_l2_error2))\n",
      "fig.add_subplot(414)\n",
      "plt.hist(true_data,bins=BINS)\n",
      "plt.title(\"True Means\")\n",
      "\"\"\"\n",
      "\n",
      "plt.show()"
     ],
     "language": "python",
     "metadata": {},
     "outputs": [],
     "prompt_number": 117
    },
    {
     "cell_type": "code",
     "collapsed": false,
     "input": [
      "N = 10.0\n",
      "x = np.arange(1.0/N,N,0.01)\n",
      "C1 = (1.0/(N-1/N))\n",
      "C2 = (1.0/(np.log(N)-np.log(1/N)))\n",
      "plt.plot(x,C/x)\n",
      "plt.plot(x,C2*(np.log(x)-np.log(1/N)),'r')\n",
      "cdf = C2*(np.log(x)-np.log(1/N))"
     ],
     "language": "python",
     "metadata": {},
     "outputs": [
      {
       "output_type": "display_data",
       "png": "[encoded data removed]"
      }
     ],
     "prompt_number": 11
    },
    {
     "cell_type": "code",
     "collapsed": false,
     "input": [
      "plt.plot(x,scipy.stats.reciprocal.pdf(x,0.1,10))"
     ],
     "language": "python",
     "metadata": {},
     "outputs": [
      {
       "output_type": "pyout",
       "prompt_number": 17,
       "text": [
        "[<matplotlib.lines.Line2D at 0xf3082e8>]"
       ]
      },
      {
       "output_type": "display_data",
       "png": "[encoded data removed]"
      }
     ],
     "prompt_number": 17
    },
    {
     "cell_type": "code",
     "collapsed": false,
     "input": [
      "plt.plot(t,100*p_x_given_t,label=\"p(x|t)\")\n",
      "plt.plot(t,t_prior,'g',label=\"prior\")\n",
      "plt.plot(t,t_posterior,'r',label=\"p(t|x)\")\n",
      "plt.legend()\n",
      "plt.show()"
     ],
     "language": "python",
     "metadata": {},
     "outputs": [],
     "prompt_number": 12
    },
    {
     "cell_type": "code",
     "collapsed": false,
     "input": [],
     "language": "python",
     "metadata": {},
     "outputs": []
    }
   ],
   "metadata": {}
  }
 ]
}