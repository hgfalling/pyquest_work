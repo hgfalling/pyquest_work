{
 "metadata": {
  "name": "pyquest_depolarized"
 },
 "nbformat": 3,
 "nbformat_minor": 0,
 "worksheets": [
  {
   "cells": [
    {
     "cell_type": "code",
     "collapsed": false,
     "input": [
      "from imports import *\n",
      "import quest"
     ],
     "language": "python",
     "metadata": {},
     "outputs": [],
     "prompt_number": 1
    },
    {
     "cell_type": "code",
     "collapsed": false,
     "input": [
      "%run load_data.py de\n",
      "row_trees,col_trees,row_vecs,row_vals,col_vecs,col_vals = quest.pyquest_std(data)\n",
      "row_tree = row_trees[-1]\n",
      "col_tree = col_trees[-1]\n",
      "coefs = tree_util.bitree_transform(data,row_tree,col_tree)\n",
      "recon_matrix,coefs_used = tree_util.inverse_bitree_transform(coefs,row_tree,col_tree,0.005)\n",
      "s = scoring.Score(data,recon_matrix)\n",
      "print s.class_pct\n",
      "data1 = data.copy()"
     ],
     "language": "python",
     "metadata": {},
     "outputs": [
      {
       "output_type": "stream",
       "stream": "stdout",
       "text": [
        "0.707598592552\n"
       ]
      }
     ],
     "prompt_number": 2
    },
    {
     "cell_type": "code",
     "collapsed": false,
     "input": [
      "%run load_data.py\n",
      "row_trees2,col_trees2,row_vecs2,row_vals2,col_vecs2,col_vals2 = quest.pyquest_std(data)\n",
      "row_tree2 = row_trees2[-1]\n",
      "col_tree2 = col_trees2[-1]\n",
      "coefs2 = tree_util.bitree_transform(data,row_tree2,col_tree2)\n",
      "recon_matrix2,coefs_used2 = tree_util.inverse_bitree_transform(coefs2,row_tree2,col_tree2,0.005)\n",
      "s2 = scoring.Score(data,recon_matrix2)\n",
      "print s2.class_pct"
     ],
     "language": "python",
     "metadata": {},
     "outputs": [
      {
       "output_type": "stream",
       "stream": "stdout",
       "text": [
        "0.712766111997\n"
       ]
      }
     ],
     "prompt_number": 3
    },
    {
     "cell_type": "code",
     "collapsed": false,
     "input": [
      "fig = plt.figure()\n",
      "fig.add_subplot(311)\n",
      "plt.imshow(data1,interpolation='nearest',cmap='binary')\n",
      "fig.add_subplot(312)\n",
      "plt.imshow(barcode.organize_folders(row_tree,col_tree,data1),interpolation='nearest',cmap='binary')\n",
      "fig.add_subplot(313)\n",
      "plt.imshow(barcode.organize_folders(row_tree2,col_tree2,data),interpolation='nearest',cmap='binary')\n",
      "plt.show()"
     ],
     "language": "python",
     "metadata": {},
     "outputs": [],
     "prompt_number": 22
    },
    {
     "cell_type": "code",
     "collapsed": false,
     "input": [
      "for folder_size in [0.01,0.005,0.002,0.001,0.0005,0.0001]:\n",
      "    recon_matrix,coefs_used = tree_util.inverse_bitree_transform(coefs,row_tree,col_tree,folder_size)\n",
      "    recon_matrix2,coefs_used2 = tree_util.inverse_bitree_transform(coefs2,row_tree2,col_tree2,folder_size)\n",
      "    s = scoring.Score(data1,recon_matrix)\n",
      "    s2 = scoring.Score(data,recon_matrix2)\n",
      "    print folder_size, coefs_used, coefs_used2, s.class_pct, s2.class_pct"
     ],
     "language": "python",
     "metadata": {},
     "outputs": [
      {
       "output_type": "stream",
       "stream": "stdout",
       "text": [
        "0.01 28.6687248867 35.8970148505 0.704864470652 0.709153787819\n",
        "0.005"
       ]
      },
      {
       "output_type": "stream",
       "stream": "stdout",
       "text": [
        " 52.8632625635 65.5881340262 0.707598592552 0.712766111997\n",
        "0.002"
       ]
      },
      {
       "output_type": "stream",
       "stream": "stdout",
       "text": [
        " 120.25002191 148.609687725 0.711714303148 0.7172711662\n",
        "0.001"
       ]
      },
      {
       "output_type": "stream",
       "stream": "stdout",
       "text": [
        " 244.140885585 275.508405619 0.714978687796 0.720462912116\n",
        "0.0005"
       ]
      },
      {
       "output_type": "stream",
       "stream": "stdout",
       "text": [
        " 487.627243132 497.48824745 0.718734110277 0.72307064262\n",
        "0.0001"
       ]
      },
      {
       "output_type": "stream",
       "stream": "stdout",
       "text": [
        " 3097.32845606 2977.79782869 0.730990443648 0.733355560786\n"
       ]
      }
     ],
     "prompt_number": 13
    },
    {
     "cell_type": "code",
     "collapsed": false,
     "input": [
      "c1 = tree_util.normalize_bitree_coefs(coefs,row_tree,col_tree)\n",
      "c2 = tree_util.normalize_bitree_coefs(coefs2,row_tree2,col_tree2)"
     ],
     "language": "python",
     "metadata": {},
     "outputs": [],
     "prompt_number": 16
    },
    {
     "cell_type": "code",
     "collapsed": false,
     "input": [
      "np.sum(np.abs(c1))"
     ],
     "language": "python",
     "metadata": {},
     "outputs": [
      {
       "output_type": "pyout",
       "prompt_number": 20,
       "text": [
        "2.4446703612094707"
       ]
      }
     ],
     "prompt_number": 20
    },
    {
     "cell_type": "code",
     "collapsed": false,
     "input": [
      "np.sum(np.abs(c2))"
     ],
     "language": "python",
     "metadata": {},
     "outputs": [
      {
       "output_type": "pyout",
       "prompt_number": 21,
       "text": [
        "2.5054321553726275"
       ]
      }
     ],
     "prompt_number": 21
    },
    {
     "cell_type": "code",
     "collapsed": false,
     "input": [
      "np.mean(data1)"
     ],
     "language": "python",
     "metadata": {},
     "outputs": [
      {
       "output_type": "pyout",
       "prompt_number": 23,
       "text": [
        "-0.1714070703636876"
       ]
      }
     ],
     "prompt_number": 23
    },
    {
     "cell_type": "code",
     "collapsed": false,
     "input": [
      "np.mean(data)"
     ],
     "language": "python",
     "metadata": {},
     "outputs": [
      {
       "output_type": "pyout",
       "prompt_number": 24,
       "text": [
        "-0.051576405777394245"
       ]
      }
     ],
     "prompt_number": 24
    },
    {
     "cell_type": "code",
     "collapsed": false,
     "input": [
      "%run load_data.py de\n",
      "PICKLE_IT = True\n",
      "if PICKLE_IT:\n",
      "    import cPickle\n",
      "    datadict = {}\n",
      "    datadict[\"data\"] = data1\n",
      "    datadict[\"q_descs\"] = q_descs\n",
      "    datadict[\"p_score_descs\"] = p_score_descs\n",
      "    datadict[\"p_scores\"] = p_scores\n",
      "    datadict[\"col_tree\"] = col_tree\n",
      "    datadict[\"row_tree\"] = row_tree\n",
      "    datadict[\"col_vecs\"] = col_vecs\n",
      "    datadict[\"col_vals\"] = col_vals\n",
      "    datadict[\"row_vecs\"] = row_vecs\n",
      "    datadict[\"row_vals\"] = row_vals\n",
      "    fout = open('de_datadict.pickle','wb')\n",
      "    cPickle.dump(datadict,fout)\n",
      "    fout.close()"
     ],
     "language": "python",
     "metadata": {},
     "outputs": [],
     "prompt_number": 25
    },
    {
     "cell_type": "code",
     "collapsed": false,
     "input": [],
     "language": "python",
     "metadata": {},
     "outputs": []
    }
   ],
   "metadata": {}
  }
 ]
}