{
 "metadata": {
  "name": ""
 },
 "nbformat": 3,
 "nbformat_minor": 0,
 "worksheets": [
  {
   "cells": [
    {
     "cell_type": "code",
     "collapsed": false,
     "input": [
      "%run py_load_data.py de"
     ],
     "language": "python",
     "metadata": {},
     "outputs": [],
     "prompt_number": 1
    },
    {
     "cell_type": "code",
     "collapsed": false,
     "input": [
      "whos"
     ],
     "language": "python",
     "metadata": {},
     "outputs": [
      {
       "output_type": "stream",
       "stream": "stdout",
       "text": [
        "Variable            Type        Data/Info\n",
        "-----------------------------------------\n",
        "DEFAULT_DATA_PATH   str         ./\n",
        "data                ndarray     567Lx2428L: 1376676 elems, type `int16`, 2753352 bytes (2 Mb)\n",
        "file_path           str         ./MMPI2_Depolarized.npz\n",
        "load_data           function    <function load_data at 0x00000000050A5898>\n",
        "np                  module      <module 'numpy' from 'C:\\<...>ages\\numpy\\__init__.pyc'>\n",
        "p_score_descs       ndarray     18L: 18 elems, type `<U3`, 216 bytes\n",
        "p_scores            ndarray     18Lx2428L: 43704 elems, type `float64`, 349632 bytes (341 kb)\n",
        "q_descs             ndarray     567L: 567 elems, type `<U174`, 394632 bytes (385 kb)\n",
        "sys                 module      <module 'sys' (built-in)>\n"
       ]
      }
     ],
     "prompt_number": 2
    },
    {
     "cell_type": "code",
     "collapsed": false,
     "input": [
      "p_scores"
     ],
     "language": "python",
     "metadata": {},
     "outputs": [
      {
       "metadata": {},
       "output_type": "pyout",
       "prompt_number": 3,
       "text": [
        "array([[-1.01988652, -0.73102277,  1.00215971, ..., -0.87545465,\n",
        "        -0.00886341,  0.85772783],\n",
        "       [-1.79786104, -0.45374301,  1.37914522, ..., -0.33155046,\n",
        "        -1.06470575,  1.01256758],\n",
        "       [-0.85098678, -0.99754629,  1.05428679, ..., -0.55786777,\n",
        "        -0.70442728,  0.90772728],\n",
        "       ..., \n",
        "       [-1.74971761, -1.21527122,  1.10066314, ...,  0.20991915,\n",
        "         0.74436554, -0.32452724],\n",
        "       [-0.33129183, -0.97513645, -0.5459067 , ..., -0.5459067 ,\n",
        "         0.95639743, -0.33129183],\n",
        "       [ 0.0123956 , -0.50354469, -1.01948498, ..., -0.67552479,\n",
        "         1.04427618,  0.70031599]])"
       ]
      }
     ],
     "prompt_number": 3
    },
    {
     "cell_type": "code",
     "collapsed": false,
     "input": [
      "import pyquest_M as pym\n",
      "pm = pym.PyQuestDataModel()\n",
      "pm.load(\"base.session\")"
     ],
     "language": "python",
     "metadata": {},
     "outputs": [],
     "prompt_number": 4
    },
    {
     "cell_type": "code",
     "collapsed": false,
     "input": [
      "import run_quest\n",
      "kwargs = {}\n",
      "kwargs[\"n_iters\"] = 3\n",
      "kwargs[\"threshold\"] = 0.1\n",
      "kwargs[\"row_alpha\"] = 1.5\n",
      "kwargs[\"col_alpha\"] = 1.5\n",
      "kwargs[\"row_beta\"] = 0.0\n",
      "kwargs[\"col_beta\"] = 0.0\n",
      "kwargs[\"bal_constant\"] = 1.5\n",
      "params = run_quest.PyQuestParams(run_quest.INIT_AFF_COS_SIM,run_quest.TREE_TYPE_BINARY,\n",
      "                             run_quest.DUAL_EMD,run_quest.DUAL_EMD,**kwargs)"
     ],
     "language": "python",
     "metadata": {},
     "outputs": [],
     "prompt_number": 41
    },
    {
     "cell_type": "code",
     "collapsed": false,
     "input": [
      "qrun = run_quest.pyquest(data,params)"
     ],
     "language": "python",
     "metadata": {},
     "outputs": [],
     "prompt_number": 42
    },
    {
     "cell_type": "code",
     "collapsed": false,
     "input": [
      "#qrun = pm.quest_runs[-1]\n",
      "row_tree = qrun.row_trees[-1]\n",
      "col_tree = qrun.col_trees[-1]\n",
      "col_emd = dual_affinity.calc_emd(data,row_tree,1.0,0.0)\n",
      "col_aff = dual_affinity.emd_dual_aff(col_emd)\n",
      "col_vecs,col_vals = markov.markov_eigs(col_aff,8)"
     ],
     "language": "python",
     "metadata": {},
     "outputs": [],
     "prompt_number": 43
    },
    {
     "cell_type": "code",
     "collapsed": false,
     "input": [
      "import plot_utils\n",
      "from imports import *"
     ],
     "language": "python",
     "metadata": {},
     "outputs": []
    },
    {
     "cell_type": "code",
     "collapsed": false,
     "input": [
      "scores = p_scores[1,:]"
     ],
     "language": "python",
     "metadata": {},
     "outputs": [],
     "prompt_number": 6
    },
    {
     "cell_type": "code",
     "collapsed": false,
     "input": [
      "plot_utils.plot_embedding(col_vecs,col_vals,nodecolors=scores/2.0)\n",
      "plt.show()"
     ],
     "language": "python",
     "metadata": {},
     "outputs": [],
     "prompt_number": 27
    },
    {
     "cell_type": "code",
     "collapsed": false,
     "input": [
      "plt.hist(scores)\n",
      "plt.show()"
     ],
     "language": "python",
     "metadata": {},
     "outputs": [],
     "prompt_number": 10
    },
    {
     "cell_type": "code",
     "collapsed": false,
     "input": [
      "import sklearn.decomposition as skd"
     ],
     "language": "python",
     "metadata": {},
     "outputs": [],
     "prompt_number": 12
    },
    {
     "cell_type": "code",
     "collapsed": false,
     "input": [
      "pca = skd.PCA()"
     ],
     "language": "python",
     "metadata": {},
     "outputs": [],
     "prompt_number": 13
    },
    {
     "cell_type": "code",
     "collapsed": false,
     "input": [
      "f = pca.fit_transform(data.T)"
     ],
     "language": "python",
     "metadata": {},
     "outputs": [],
     "prompt_number": 17
    },
    {
     "cell_type": "code",
     "collapsed": false,
     "input": [
      "f.shape"
     ],
     "language": "python",
     "metadata": {},
     "outputs": [
      {
       "metadata": {},
       "output_type": "pyout",
       "prompt_number": 18,
       "text": [
        "(2428L, 567L)"
       ]
      }
     ],
     "prompt_number": 18
    },
    {
     "cell_type": "code",
     "collapsed": false,
     "input": [
      "fscores = f[:,1]"
     ],
     "language": "python",
     "metadata": {},
     "outputs": [],
     "prompt_number": 46
    },
    {
     "cell_type": "code",
     "collapsed": false,
     "input": [
      "plt.hist(fscores)\n",
      "plt.show()"
     ],
     "language": "python",
     "metadata": {},
     "outputs": [],
     "prompt_number": 34
    },
    {
     "cell_type": "code",
     "collapsed": false,
     "input": [
      "plot_utils.plot_embedding(col_vecs,col_vals,nodecolors=fscores/10.0)\n",
      "plt.show()"
     ],
     "language": "python",
     "metadata": {},
     "outputs": [],
     "prompt_number": 47
    },
    {
     "cell_type": "code",
     "collapsed": false,
     "input": [],
     "language": "python",
     "metadata": {},
     "outputs": []
    }
   ],
   "metadata": {}
  }
 ]
}