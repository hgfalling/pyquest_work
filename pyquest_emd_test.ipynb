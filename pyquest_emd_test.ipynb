{
 "metadata": {
  "name": "pyquest_emd_test"
 },
 "nbformat": 3,
 "nbformat_minor": 0,
 "worksheets": [
  {
   "cells": [
    {
     "cell_type": "code",
     "collapsed": false,
     "input": [
      "import numpy as np\n",
      "import scipy.io\n",
      "import affinity \n",
      "reload(affinity)\n",
      "import bintree_cut\n",
      "reload(bintree_cut)\n",
      "import dual_affinity\n",
      "reload(dual_affinity)\n",
      "import matlab_util\n",
      "import tree_util\n",
      "reload(tree_util)\n",
      "import scoring\n",
      "reload(scoring)\n",
      "import barcode\n",
      "reload(barcode)\n",
      "import embedding\n",
      "reload(embedding)\n",
      "import scipy.spatial as spss\n",
      "import sklearn.neighbors as sknn"
     ],
     "language": "python",
     "metadata": {},
     "outputs": [],
     "prompt_number": 292
    },
    {
     "cell_type": "code",
     "collapsed": false,
     "input": [
      "#Load data matrix (MMPI2 raw data)\n",
      "\n",
      "DEFAULT_DATA_PATH = (\"/users/jerrod/Google Drive/Yale_Research/Questionnaire_2D_20130614/Examples/\")\n",
      "DEFAULT_DATA_FILE = \"MMPI2.mat\"\n",
      "\n",
      "mdict = scipy.io.loadmat(DEFAULT_DATA_PATH+DEFAULT_DATA_FILE)\n",
      "data = mdict[\"matrix\"]\n",
      "\n",
      "#Generate initial affinity\n",
      "init_row_aff = affinity.mutual_cosine_similarity(data.T,True,0)\n",
      "init_col_aff = affinity.mutual_cosine_similarity(data,True,0)\n",
      "\n",
      "#Compute diffusion embedding of initial affinities\n",
      "init_row_vecs,init_row_vals = bintree_cut.markov_eigs(init_row_aff, 12)\n",
      "init_col_vecs,init_col_vals = bintree_cut.markov_eigs(init_col_aff, 12)\n",
      "\n",
      "#Generate median trees\n",
      "init_row_tree = bintree_cut.median_tree(init_row_vecs,init_row_vals,max_levels=12)\n",
      "init_col_tree = bintree_cut.median_tree(init_col_vecs,init_col_vals,max_levels=12)"
     ],
     "language": "python",
     "metadata": {},
     "outputs": [],
     "prompt_number": 2
    },
    {
     "cell_type": "code",
     "collapsed": false,
     "input": [
      "dual_col_trees = [init_col_tree]\n",
      "dual_row_trees = [init_row_tree]\n",
      "\n",
      "for i in xrange(3):\n",
      "    col_emd = dual_affinity.calc_emd(data,dual_row_trees[-1],alpha=1.0,beta=0.0)\n",
      "    dual_col_trees.append(bintree_cut.eigen_tree(data,dual_row_trees[-1],dual_affinity.emd_dual_aff,noise=0.03,emd=col_emd))\n",
      "    row_emd = dual_affinity.calc_emd(data.T,dual_col_trees[-1],alpha=1.0,beta=0.0)\n",
      "    dual_row_trees.append(bintree_cut.eigen_tree(data.T,dual_col_trees[-1],dual_affinity.emd_dual_aff,noise=0.03,emd=row_emd))   \n",
      "    \n",
      "col_tree = dual_col_trees[-1]\n",
      "row_tree = dual_row_trees[-1]\n",
      "\n",
      "coefs = tree_util.bitree_transform(data,row_tree,col_tree)\n",
      "recon_matrix, norm_l1 = tree_util.inverse_bitree_transform(coefs,row_tree,col_tree,0.005)\n",
      "score = scoring.Score(data,recon_matrix)\n",
      "print score.class_pct"
     ],
     "language": "python",
     "metadata": {},
     "outputs": [
      {
       "output_type": "stream",
       "stream": "stdout",
       "text": [
        "0.712193718784\n"
       ]
      }
     ],
     "prompt_number": 3
    },
    {
     "cell_type": "code",
     "collapsed": false,
     "input": [
      "col_affinity = dual_affinity.emd_dual_aff(col_emd, row_tree)\n",
      "col_vecs,col_vals = bintree_cut.markov_eigs(col_affinity, 20)"
     ],
     "language": "python",
     "metadata": {},
     "outputs": [],
     "prompt_number": 4
    },
    {
     "cell_type": "code",
     "collapsed": false,
     "input": [
      "col_t0 = 1/(1-col_vals[1])\n",
      "col_t0vals = col_vals**col_t0"
     ],
     "language": "python",
     "metadata": {},
     "outputs": [],
     "prompt_number": 5
    },
    {
     "cell_type": "code",
     "collapsed": false,
     "input": [
      "row_affinity = dual_affinity.emd_dual_aff(row_emd, col_tree)\n",
      "row_vecs,row_vals = bintree_cut.markov_eigs(row_affinity, 20)"
     ],
     "language": "python",
     "metadata": {},
     "outputs": [],
     "prompt_number": 6
    },
    {
     "cell_type": "code",
     "collapsed": false,
     "input": [
      "row_t0 = 1/(1-row_vals[1])\n",
      "row_t0vals = row_vals**row_t0"
     ],
     "language": "python",
     "metadata": {},
     "outputs": [],
     "prompt_number": 7
    },
    {
     "cell_type": "code",
     "collapsed": false,
     "input": [
      "import matplotlib.pyplot as plt\n",
      "from mpl_toolkits.mplot3d import Axes3D\n",
      "\n",
      "f = col_vecs[:,1:4]\n",
      "\n",
      "fig = plt.figure()\n",
      "ax = fig.add_subplot(111,projection=\"3d\")\n",
      "#ax.scatter3D(f[:,0],f[:,1],f[:,2],c=f[:,2],cmap=reds,norm=cnorm)\n",
      "ax.scatter3D(f[:,0],f[:,1],f[:,2])\n",
      "#ax.set_xlim3d(0.0,1.0)\n",
      "#ax.set_ylim3d(0.0,1.0)\n",
      "#ax.set_zlim3d(0.0,1.0)\n",
      "#for node in qt.traverse():\n",
      "    #print node.bbox\n",
      "#    recon_2d.plotcross3d(node,plt,colors[node.level-1])\n",
      "#recon_2d.plotbox3d(qt,plt,'k')"
     ],
     "language": "python",
     "metadata": {},
     "outputs": [
      {
       "output_type": "pyout",
       "prompt_number": 8,
       "text": [
        "<mpl_toolkits.mplot3d.art3d.Patch3DCollection at 0xe707710>"
       ]
      }
     ],
     "prompt_number": 8
    },
    {
     "cell_type": "code",
     "collapsed": false,
     "input": [
      "plt.show()"
     ],
     "language": "python",
     "metadata": {},
     "outputs": [],
     "prompt_number": 9
    },
    {
     "cell_type": "code",
     "collapsed": false,
     "input": [
      "import matplotlib.pyplot as plt\n",
      "from mpl_toolkits.mplot3d import Axes3D\n",
      "import matplotlib\n",
      "\n",
      "f = row_vecs[:,1:4]\n",
      "f = f.dot(np.diag(row_t0vals[1:4]))\n",
      "\n",
      "reds = plt.get_cmap('Reds')\n",
      "cnorm = matplotlib.colors.Normalize(vmin=0.15,vmax=0.35)\n",
      "reds.set_under('white')\n",
      "c = np.sum(score.class_misses,axis=1)/2428.0\n",
      "\n",
      "fig = plt.figure()\n",
      "ax = fig.add_subplot(111,projection=\"3d\")\n",
      "ax.scatter3D(f[:,0],f[:,1],f[:,2],c=c,cmap=reds,norm=cnorm)\n",
      "plt.show()"
     ],
     "language": "python",
     "metadata": {},
     "outputs": [],
     "prompt_number": 10
    },
    {
     "cell_type": "code",
     "collapsed": false,
     "input": [
      "row_heatmap = np.sum(score.class_misses,axis=1)/2428.0\n",
      "col_heatmap = np.sum(score.class_misses,axis=0)/567.0"
     ],
     "language": "python",
     "metadata": {},
     "outputs": [],
     "prompt_number": 12
    },
    {
     "cell_type": "code",
     "collapsed": false,
     "input": [
      "reload(embedding)\n",
      "\n",
      "#ax = embedding.plot_embedding(row_vecs,row_vals,row_tree,row_heatmap,row_t0,1)\n",
      "#embedding.plot_embedding(row_vecs,row_vals,row_tree,row_heatmap,row_t0,2,ax)\n",
      "#embedding.plot_embedding(row_vecs,row_vals,row_tree,row_heatmap,row_t0,3,ax)\n",
      "ax = embedding.plot_embedding(row_vecs,row_vals,row_tree,row_heatmap,row_t0,1)\n",
      "plt.show()"
     ],
     "language": "python",
     "metadata": {},
     "outputs": [],
     "prompt_number": 43
    },
    {
     "cell_type": "code",
     "collapsed": false,
     "input": [
      "reload(embedding)\n",
      "eplt = embedding.EmbeddingPlotter(row_vecs,row_vals,row_tree,row_heatmap,row_t0,3)\n",
      "plt.show()"
     ],
     "language": "python",
     "metadata": {},
     "outputs": [],
     "prompt_number": 47
    },
    {
     "cell_type": "code",
     "collapsed": false,
     "input": [
      "whos"
     ],
     "language": "python",
     "metadata": {},
     "outputs": [
      {
       "output_type": "stream",
       "stream": "stdout",
       "text": [
        "Variable            Type                          Data/Info\n",
        "-----------------------------------------------------------\n",
        "Axes3D              type                          <class 'mpl_toolkits.mplot3d.axes3d.Axes3D'>\n",
        "DEFAULT_DATA_FILE   str                           MMPI2.mat\n",
        "DEFAULT_DATA_PATH   str                           /users/jerrod/Google Driv<...>ire_2D_20130614/Examples/\n",
        "affinity            module                        <module 'affinity' from 'affinity.pyc'>\n",
        "ax                  Axes3DSubplot                 Axes(0.125,0.1;0.775x0.8)\n",
        "barcode             module                        <module 'barcode' from 'barcode.pyc'>\n",
        "bintree_cut         module                        <module 'bintree_cut' from 'bintree_cut.pyc'>\n",
        "c                   ndarray                       567L: 567 elems, type `float64`, 4536 bytes\n",
        "cnorm               Normalize                     <matplotlib.colors.Normal<...>ct at 0x000000000E8D47F0>\n",
        "coefs               ndarray                       822Lx3451L: 2836722 elems, type `float64`, 22693776 bytes (21 Mb)\n",
        "col_affinity        ndarray                       2428Lx2428L: 5895184 elems, type `float64`, 47161472 bytes (44 Mb)\n",
        "col_emd             ndarray                       2428Lx2428L: 5895184 elems, type `float64`, 47161472 bytes (44 Mb)\n",
        "col_heatmap         ndarray                       2428L: 2428 elems, type `float64`, 19424 bytes\n",
        "col_t0              float64                       1.52741463313\n",
        "col_t0vals          ndarray                       20L: 20 elems, type `float64`, 160 bytes\n",
        "col_tree            ClusterTreeNode               <tree.ClusterTreeNode obj<...>ct at 0x000000000EC67710>\n",
        "col_vals            ndarray                       20L: 20 elems, type `float64`, 160 bytes\n",
        "col_vecs            ndarray                       2428Lx20L: 48560 elems, type `float64`, 388480 bytes (379 kb)\n",
        "data                ndarray                       567Lx2428L: 1376676 elems, type `int16`, 2753352 bytes (2 Mb)\n",
        "dual_affinity       module                        <module 'dual_affinity' from 'dual_affinity.pyc'>\n",
        "dual_col_trees      list                          n=4\n",
        "dual_row_trees      list                          n=4\n",
        "embedding           module                        <module 'embedding' from 'embedding.pyc'>\n",
        "eplt                embedding.EmbeddingPlotter    <embedding.EmbeddingPlott<...>ce at 0x00000000213D1A08>\n",
        "f                   ndarray                       567Lx3L: 1701 elems, type `float64`, 13608 bytes\n",
        "fig                 Figure                        Figure(1366x672)\n",
        "i                   int                           2\n",
        "init_col_aff        ndarray                       2428Lx2428L: 5895184 elems, type `float64`, 47161472 bytes (44 Mb)\n",
        "init_col_tree       ClusterTreeNode               <tree.ClusterTreeNode obj<...>ct at 0x000000000CF9B400>\n",
        "init_col_vals       ndarray                       12L: 12 elems, type `float64`, 96 bytes\n",
        "init_col_vecs       ndarray                       2428Lx12L: 29136 elems, type `float64`, 233088 bytes (227 kb)\n",
        "init_row_aff        ndarray                       567Lx567L: 321489 elems, type `float64`, 2571912 bytes (2 Mb)\n",
        "init_row_tree       ClusterTreeNode               <tree.ClusterTreeNode obj<...>ct at 0x000000000CD8E0F0>\n",
        "init_row_vals       ndarray                       12L: 12 elems, type `float64`, 96 bytes\n",
        "init_row_vecs       ndarray                       567Lx12L: 6804 elems, type `float64`, 54432 bytes\n",
        "matlab_util         module                        <module 'matlab_util' from 'matlab_util.pyc'>\n",
        "matplotlib          module                        <module 'matplotlib' from<...>matplotlib\\__init__.pyc'>\n",
        "mdict               dict                          n=7\n",
        "norm_l1             float64                       64.9599641546\n",
        "np                  module                        <module 'numpy' from 'C:\\<...>ages\\numpy\\__init__.pyc'>\n",
        "plt                 module                        <module 'matplotlib.pyplo<...>s\\matplotlib\\pyplot.pyc'>\n",
        "recon_matrix        ndarray                       567Lx2428L: 1376676 elems, type `float64`, 11013408 bytes (10 Mb)\n",
        "reds                LinearSegmentedColormap       <matplotlib.colors.Linear<...>ct at 0x00000000065FE748>\n",
        "row_affinity        ndarray                       567Lx567L: 321489 elems, type `float64`, 2571912 bytes (2 Mb)\n",
        "row_emd             ndarray                       567Lx567L: 321489 elems, type `float64`, 2571912 bytes (2 Mb)\n",
        "row_heatmap         ndarray                       567L: 567 elems, type `float64`, 4536 bytes\n",
        "row_t0              float64                       1.51993208893\n",
        "row_t0vals          ndarray                       20L: 20 elems, type `float64`, 160 bytes\n",
        "row_tree            ClusterTreeNode               <tree.ClusterTreeNode obj<...>ct at 0x000000000EA8EDA0>\n",
        "row_vals            ndarray                       20L: 20 elems, type `float64`, 160 bytes\n",
        "row_vecs            ndarray                       567Lx20L: 11340 elems, type `float64`, 90720 bytes\n",
        "scipy               module                        <module 'scipy' from 'C:\\<...>ages\\scipy\\__init__.pyc'>\n",
        "score               Score                         <scoring.Score object at 0x000000000E6EA358>\n",
        "scoring             module                        <module 'scoring' from 'scoring.pyc'>\n",
        "tree_util           module                        <module 'tree_util' from 'tree_util.pyc'>\n"
       ]
      }
     ],
     "prompt_number": 48
    },
    {
     "cell_type": "code",
     "collapsed": false,
     "input": [
      "#we want to get the diffusion distances at time t0 for the columns.\n",
      "row_vecs_t0 = row_vecs.dot(np.diag(row_t0vals))\n",
      "col_vecs_t0 = col_vecs.dot(np.diag(col_t0vals))\n",
      "diff_dists = scipy.spatial.distance.squareform(scipy.spatial.distance.pdist(col_vecs_t0))"
     ],
     "language": "python",
     "metadata": {},
     "outputs": [],
     "prompt_number": 60
    },
    {
     "cell_type": "code",
     "collapsed": false,
     "input": [
      "np.shape(diff_dists)"
     ],
     "language": "python",
     "metadata": {},
     "outputs": [
      {
       "output_type": "pyout",
       "prompt_number": 61,
       "text": [
        "(2428L, 2428L)"
       ]
      }
     ],
     "prompt_number": 61
    },
    {
     "cell_type": "code",
     "collapsed": false,
     "input": [
      "diff_dists"
     ],
     "language": "python",
     "metadata": {},
     "outputs": [
      {
       "output_type": "pyout",
       "prompt_number": 62,
       "text": [
        "array([[ 0.        ,  0.14495105,  0.45975641, ...,  0.32066152,\n",
        "         0.5116776 ,  0.22827731],\n",
        "       [ 0.14495105,  0.        ,  0.32695644, ...,  0.18442145,\n",
        "         0.38524722,  0.08764498],\n",
        "       [ 0.45975641,  0.32695644,  0.        , ...,  0.1572856 ,\n",
        "         0.10549694,  0.24490766],\n",
        "       ..., \n",
        "       [ 0.32066152,  0.18442145,  0.1572856 , ...,  0.        ,\n",
        "         0.20902315,  0.11351146],\n",
        "       [ 0.5116776 ,  0.38524722,  0.10549694, ...,  0.20902315,\n",
        "         0.        ,  0.31140875],\n",
        "       [ 0.22827731,  0.08764498,  0.24490766, ...,  0.11351146,\n",
        "         0.31140875,  0.        ]])"
       ]
      }
     ],
     "prompt_number": 62
    },
    {
     "cell_type": "code",
     "collapsed": false,
     "input": [
      "knn = sknn.NearestNeighbors(n_neighbors=10)"
     ],
     "language": "python",
     "metadata": {},
     "outputs": [],
     "prompt_number": 64
    },
    {
     "cell_type": "code",
     "collapsed": false,
     "input": [
      "knn"
     ],
     "language": "python",
     "metadata": {},
     "outputs": [
      {
       "output_type": "pyout",
       "prompt_number": 65,
       "text": [
        "NearestNeighbors(algorithm='auto', leaf_size=30, n_neighbors=10, p=2,\n",
        "         radius=1.0, warn_on_equidistant=True)"
       ]
      }
     ],
     "prompt_number": 65
    },
    {
     "cell_type": "code",
     "collapsed": false,
     "input": [
      "knn.fit(col_vecs_t0)"
     ],
     "language": "python",
     "metadata": {},
     "outputs": [
      {
       "output_type": "pyout",
       "prompt_number": 66,
       "text": [
        "NearestNeighbors(algorithm='auto', leaf_size=30, n_neighbors=10, p=2,\n",
        "         radius=1.0, warn_on_equidistant=True)"
       ]
      }
     ],
     "prompt_number": 66
    },
    {
     "cell_type": "code",
     "collapsed": false,
     "input": [
      "kg = knn.kneighbors_graph(col_vecs_t0,mode=\"distance\")"
     ],
     "language": "python",
     "metadata": {},
     "outputs": [],
     "prompt_number": 75
    },
    {
     "cell_type": "code",
     "collapsed": false,
     "input": [
      "kgd = kg.todense()"
     ],
     "language": "python",
     "metadata": {},
     "outputs": [],
     "prompt_number": 94
    },
    {
     "cell_type": "code",
     "collapsed": false,
     "input": [
      "kgd[0,:].argsort()"
     ],
     "language": "python",
     "metadata": {},
     "outputs": [
      {
       "output_type": "pyout",
       "prompt_number": 95,
       "text": [
        "matrix([[   0, 1614, 1615, ...,  786, 2117,  797]], dtype=int64)"
       ]
      }
     ],
     "prompt_number": 95
    },
    {
     "cell_type": "code",
     "collapsed": false,
     "input": [
      "kgd[0,797]"
     ],
     "language": "python",
     "metadata": {},
     "outputs": [
      {
       "output_type": "pyout",
       "prompt_number": 96,
       "text": [
        "0.0096835979429775194"
       ]
      }
     ],
     "prompt_number": 96
    },
    {
     "cell_type": "code",
     "collapsed": false,
     "input": [
      "np.sum(kgd[0,:])"
     ],
     "language": "python",
     "metadata": {},
     "outputs": [
      {
       "output_type": "pyout",
       "prompt_number": 84,
       "text": [
        "0.082490266836550974"
       ]
      }
     ],
     "prompt_number": 84
    },
    {
     "cell_type": "code",
     "collapsed": false,
     "input": [
      "kgd[0,:]"
     ],
     "language": "python",
     "metadata": {},
     "outputs": [
      {
       "output_type": "pyout",
       "prompt_number": 85,
       "text": [
        "matrix([[ 0.,  0.,  0., ...,  0.,  0.,  0.]])"
       ]
      }
     ],
     "prompt_number": 85
    },
    {
     "cell_type": "code",
     "collapsed": false,
     "input": [
      "np.shape(kgd)"
     ],
     "language": "python",
     "metadata": {},
     "outputs": [
      {
       "output_type": "pyout",
       "prompt_number": 97,
       "text": [
        "(2428L, 2428L)"
       ]
      }
     ],
     "prompt_number": 97
    },
    {
     "cell_type": "code",
     "collapsed": false,
     "input": [
      "np.shape(col_vecs_t0)"
     ],
     "language": "python",
     "metadata": {},
     "outputs": [
      {
       "output_type": "pyout",
       "prompt_number": 98,
       "text": [
        "(2428L, 20L)"
       ]
      }
     ],
     "prompt_number": 98
    },
    {
     "cell_type": "code",
     "collapsed": false,
     "input": [
      "nnd,nnidx = knn.kneighbors(col_vecs_t0,n_neighbors=6)"
     ],
     "language": "python",
     "metadata": {},
     "outputs": [],
     "prompt_number": 195
    },
    {
     "cell_type": "code",
     "collapsed": false,
     "input": [
      "radius = 0.0\n",
      "radii = np.zeros(2428)\n",
      "for i in xrange(2428):\n",
      "    radii[i] = nnd[i][5]\n",
      "    if np.max(nnd[i]) > radius:\n",
      "        radius = np.max(nnd[i])"
     ],
     "language": "python",
     "metadata": {},
     "outputs": [],
     "prompt_number": 196
    },
    {
     "cell_type": "code",
     "collapsed": false,
     "input": [
      "knn2 = sknn.NearestNeighbors(radius=3.0*radius)\n",
      "knn2.fit(col_vecs_t0)\n",
      "nnd2,nnidx2 = knn2.radius_neighbors(col_vecs_t0)"
     ],
     "language": "python",
     "metadata": {},
     "outputs": [],
     "prompt_number": 197
    },
    {
     "cell_type": "code",
     "collapsed": false,
     "input": [
      "nnidx3 = []\n",
      "for i in xrange(2428):\n",
      "    nnidx3.append(nnidx2[i][nnd2[i] < 1.5*radii[i]])"
     ],
     "language": "python",
     "metadata": {},
     "outputs": [],
     "prompt_number": 210
    },
    {
     "cell_type": "code",
     "collapsed": false,
     "input": [
      "lengths = [len(x) for x in nnidx3]"
     ],
     "language": "python",
     "metadata": {},
     "outputs": [],
     "prompt_number": 211
    },
    {
     "cell_type": "code",
     "collapsed": false,
     "input": [
      "print max(lengths), min(lengths)"
     ],
     "language": "python",
     "metadata": {},
     "outputs": [
      {
       "output_type": "stream",
       "stream": "stdout",
       "text": [
        "125 6\n"
       ]
      }
     ],
     "prompt_number": 212
    },
    {
     "cell_type": "code",
     "collapsed": false,
     "input": [
      "np.max(radii)"
     ],
     "language": "python",
     "metadata": {},
     "outputs": [
      {
       "output_type": "pyout",
       "prompt_number": 193,
       "text": [
        "0.1148310384474921"
       ]
      }
     ],
     "prompt_number": 193
    },
    {
     "cell_type": "code",
     "collapsed": false,
     "input": [
      "radii[0]"
     ],
     "language": "python",
     "metadata": {},
     "outputs": [
      {
       "output_type": "pyout",
       "prompt_number": 194,
       "text": [
        "0.093375678747576046"
       ]
      }
     ],
     "prompt_number": 194
    },
    {
     "cell_type": "code",
     "collapsed": false,
     "input": [
      "import variability\n",
      "reload(variability)"
     ],
     "language": "python",
     "metadata": {},
     "outputs": [
      {
       "output_type": "pyout",
       "prompt_number": 251,
       "text": [
        "<module 'variability' from 'variability.py'>"
       ]
      }
     ],
     "prompt_number": 251
    },
    {
     "cell_type": "code",
     "collapsed": false,
     "input": [
      "var = variability.variability_by_knn(10,data,col_vecs_t0,0)"
     ],
     "language": "python",
     "metadata": {},
     "outputs": [],
     "prompt_number": 252
    },
    {
     "cell_type": "code",
     "collapsed": false,
     "input": [
      "np.argsort(np.std(var,axis=1))"
     ],
     "language": "python",
     "metadata": {},
     "outputs": [
      {
       "output_type": "pyout",
       "prompt_number": 256,
       "text": [
        "array([271,  68, 384, 425, 452, 118, 117, 231, 343, 106, 162, 158,  13,\n",
        "       226, 556, 424, 428, 383, 442, 136, 153, 130, 111, 433, 397, 531,\n",
        "       540, 263,  32, 142,  24, 486, 216, 262,   0,   6, 466, 437, 229,\n",
        "       235, 104, 193, 244,  25, 455, 457, 248, 114, 355,  66, 415, 417,\n",
        "       464,  70, 476, 334,  56, 154, 356, 546, 282, 443, 234, 172, 183,\n",
        "       278,  83, 382, 405, 401, 498, 549, 350, 400, 256,  14, 188, 438,\n",
        "       361, 294, 207, 291,  82, 480, 265, 196, 534, 102, 435, 472, 454,\n",
        "       145, 198, 212,  34, 120, 426,  57, 208,  54,  12, 565, 184, 180,\n",
        "       439, 199, 409, 103, 411, 159, 469, 213, 266, 341,  40, 175, 412,\n",
        "       112,   4, 436,  49, 488, 152, 157, 186, 416, 563, 190, 122, 339,\n",
        "       557, 150, 378, 501, 170, 127, 200, 432, 204, 236, 116, 349, 494,\n",
        "        11, 445,  75, 451,  44, 459, 283, 485, 194, 168, 241,  46, 413,\n",
        "       522, 552, 254,  99, 320, 537, 225, 487, 510, 201,  19, 371, 362,\n",
        "       303,  18, 287, 202, 277, 520, 368, 288, 555, 249, 458, 221,  45,\n",
        "       561, 156, 358, 141, 160, 268, 264, 253, 536, 255, 211, 237, 389,\n",
        "       124, 422, 285, 230, 135,  63, 223, 407, 521, 509, 105, 344,  61,\n",
        "       395, 308,  31, 222, 513, 347, 292, 177, 260, 313, 444, 544, 131,\n",
        "       532, 166, 511, 473, 558,  29, 296, 140, 562, 206,  85, 503, 461,\n",
        "       566, 559, 551, 243, 284, 372, 381, 496, 261, 489, 365,  90, 151,\n",
        "       377,   3, 391, 366,  78, 205, 493, 352, 478, 274, 189, 499, 146,\n",
        "        33, 128,  48,  97, 418, 345, 390, 420, 505, 214, 167, 471, 270,\n",
        "        27,  80, 178, 398, 497, 240, 176, 429,   9, 109, 289, 115, 267,\n",
        "       448,  69, 126,  79, 388, 506, 373, 440, 547, 427, 144, 329, 516,\n",
        "         7,  52, 456, 530, 367, 519,  62,  51, 463, 279, 163, 353,  53,\n",
        "        58, 217,   5, 502,  16,  38, 538, 404, 374, 528, 246, 314,  22,\n",
        "       535,  20, 224, 337, 273, 220,  60, 518,  36,  91, 545, 164, 258,\n",
        "       491, 419, 514, 300, 301,  67, 470, 375, 210, 242, 219,  21,  73,\n",
        "       548, 560, 369, 174, 385, 336, 324, 564, 299, 399, 508, 228, 134,\n",
        "       295, 171, 465, 346,  15, 359, 325,  26, 490, 119, 447, 379, 187,\n",
        "       232, 539, 165, 414, 482, 402, 479, 307,   1, 512, 363, 319, 169,\n",
        "        84, 525, 297,  30,  96, 203, 393, 542, 132, 504, 364, 408, 305,\n",
        "       123, 332, 327, 298, 179, 250,   8,  42,  47, 484,  81, 527, 481,\n",
        "       533, 524, 541, 330,  43, 441, 139, 460, 526, 431, 474,  86,   2,\n",
        "        89,  64, 430, 133, 462, 252,  74, 423, 148, 392, 149, 181, 357,\n",
        "        98, 309,  72, 315, 523, 515, 348, 453, 553,  93,  41, 340, 387,\n",
        "       276, 257, 110, 550, 380, 312, 410, 173, 517,  39, 306,  94, 351,\n",
        "       280, 310, 302, 233, 492,  35, 543,  37, 137, 218, 406, 500, 450,\n",
        "       468, 138, 483, 286, 317, 376, 272,  87, 121,  10, 185, 100, 155,\n",
        "       316, 328, 304, 360, 396, 108, 326, 333, 238, 446, 129, 182,  77,\n",
        "       247, 195, 507,  28, 245, 495, 403,  88,  55, 197,  17,  59, 475,\n",
        "       318, 421, 239, 192, 394, 338, 311, 434, 259, 449, 191, 143, 323,\n",
        "        95, 342, 467, 281,  65,  71, 107,  23, 529, 275, 227, 215, 386,\n",
        "       354, 147, 251,  92, 321, 290,  76, 370, 322, 209, 335, 331, 125,\n",
        "       554, 269, 293, 477, 113, 161, 101,  50], dtype=int64)"
       ]
      }
     ],
     "prompt_number": 256
    },
    {
     "cell_type": "code",
     "collapsed": false,
     "input": [
      "Q_NO = 243\n",
      "embedding.plot_embedding(col_vecs,col_vals,col_tree,var[Q_NO,:],col_t0,1)\n",
      "plt.show()"
     ],
     "language": "python",
     "metadata": {},
     "outputs": [],
     "prompt_number": 290
    },
    {
     "cell_type": "code",
     "collapsed": false,
     "input": [
      "np.mean(data[62,:])"
     ],
     "language": "python",
     "metadata": {},
     "outputs": [
      {
       "output_type": "pyout",
       "prompt_number": 285,
       "text": [
        "-0.36367380560131796"
       ]
      }
     ],
     "prompt_number": 285
    },
    {
     "cell_type": "code",
     "collapsed": false,
     "input": [
      "Q_NO = 243\n",
      "embedding.plot_embedding(col_vecs,col_vals,col_tree,(data[Q_NO,:]+1.0)/2.0,col_t0,1)\n",
      "plt.show()"
     ],
     "language": "python",
     "metadata": {},
     "outputs": [],
     "prompt_number": 291
    },
    {
     "cell_type": "code",
     "collapsed": false,
     "input": [
      "1.0-np.mean(score.class_misses[62,:])"
     ],
     "language": "python",
     "metadata": {},
     "outputs": [
      {
       "output_type": "pyout",
       "prompt_number": 288,
       "text": [
        "0.7215815485996705"
       ]
      }
     ],
     "prompt_number": 288
    },
    {
     "cell_type": "code",
     "collapsed": false,
     "input": [
      "(np.mean(data[62,:])+1.0)/2.0"
     ],
     "language": "python",
     "metadata": {},
     "outputs": [
      {
       "output_type": "pyout",
       "prompt_number": 271,
       "text": [
        "0.31816309719934099"
       ]
      }
     ],
     "prompt_number": 271
    },
    {
     "cell_type": "code",
     "collapsed": false,
     "input": [
      "our_preds = np.mean(score.class_misses,axis=1)\n",
      "means = np.max(np.vstack([(np.mean(data,axis=1)+1.0)/2.0,(1.0-(np.mean(data,axis=1)+1.0)/2.0)]),axis=0)"
     ],
     "language": "python",
     "metadata": {},
     "outputs": [],
     "prompt_number": 282
    },
    {
     "cell_type": "code",
     "collapsed": false,
     "input": [
      "np.shape(means)"
     ],
     "language": "python",
     "metadata": {},
     "outputs": [
      {
       "output_type": "pyout",
       "prompt_number": 281,
       "text": [
        "(2L,)"
       ]
      }
     ],
     "prompt_number": 281
    },
    {
     "cell_type": "code",
     "collapsed": false,
     "input": [
      "embedding.plot_embedding(col_vecs,col_vals,col_tree,level=5)\n",
      "plt.show()"
     ],
     "language": "python",
     "metadata": {},
     "outputs": [],
     "prompt_number": 295
    },
    {
     "cell_type": "code",
     "collapsed": false,
     "input": [],
     "language": "python",
     "metadata": {},
     "outputs": []
    }
   ],
   "metadata": {}
  }
 ]
}